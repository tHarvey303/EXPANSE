{
 "cells": [
  {
   "cell_type": "markdown",
   "metadata": {},
   "source": [
    "# **EXPANSE**\n",
    "\n",
    "EXPANSE (EX-tended Pixel ANalysis of SEDs) is a Python package for spatially resolved SED fitting and analysis. This notebook demonstrates the basics of how to create an EXPANSE ResolvedGalaxy object, load data, and fit the SEDs of individual pixels."
   ]
  },
  {
   "cell_type": "markdown",
   "metadata": {},
   "source": [
    "I assume if you have a copy of this notebook that you have cloned the EXPANSE repository. If not, you can install it using pip: - run pip install . in the root directory of the repository. Add -e if you want to install it in editable mode.\n"
   ]
  },
  {
   "cell_type": "markdown",
   "metadata": {},
   "source": [
    "Firstly we will import some neccessary packages."
   ]
  },
  {
   "cell_type": "code",
   "execution_count": null,
   "metadata": {},
   "outputs": [],
   "source": [
    "from EXPANSE import ResolvedGalaxy\n",
    "import numpy as np\n",
    "from EXPANSE.utils import PhotometryBandInfo, FieldInfo\n",
    "from astropy.coordinates import SkyCoord\n",
    "import astropy.units as u"
   ]
  },
  {
   "cell_type": "markdown",
   "metadata": {},
   "source": [
    "There are two ways to create a new ResolvedGalaxy object. The first is to create it directly from a galfind Galaxy object, which is a class from the [galfind package](https://galfind.readthedocs.io/en/latest/). The second is to create it from scratch, which is what we will do here.\n",
    "\n",
    "To that end, we have imported PhotometryBandInfo and FieldInfo from the EXPANSE.utils directory. These are helper classes designed to make it easier to pass the information about the photometry bands and fields to the ResolvedGalaxy object.\n",
    "\n",
    "Firstly we will define some basic information about the galaxy. We will give it a ID, and a survey or field name, and a redshift. We will define a position using an astropy SkyCoord object. We will list the available photometric bands by the filter designation, but this is primarily for our convenience at this stage."
   ]
  },
  {
   "cell_type": "markdown",
   "metadata": {},
   "source": [
    "Our test galaxy is in the CEERS field, and we will incorporate both the HST and NIRCam imaging data."
   ]
  },
  {
   "cell_type": "code",
   "execution_count": null,
   "metadata": {},
   "outputs": [],
   "source": [
    "galaxy_id = 1\n",
    "survey = 'CEERS'\n",
    "redshift = 2\n",
    "ra = 214.8 # deg\n",
    "dec = 52.7 # deg\n",
    "cutout_size = 'auto' # pixels or auto to base on segmentation map\n",
    " \n",
    "position = SkyCoord(ra = ra * u.deg, dec = dec * u.deg)\n",
    "\n",
    "hst_bands = ['F606W', 'F814W']\n",
    "nircam_bands = ['F115W', 'F150W', 'F200W', 'F277W', 'F356W', 'F410M', 'F444W']\n",
    "\n",
    "\n",
    "# Position of the galaxy."
   ]
  },
  {
   "cell_type": "markdown",
   "metadata": {},
   "source": [
    "Now we will initialize some PhotometryBandInfo objects. The goal is to have one photometry band object for each filter in the survey, which links together the band name, image file, image file, segmentation map (if it exists) and other information.\n",
    "\n",
    "The path provided can either be a direct path to the image, or to the parent directory of the image. If the path is to the parent directory, the code will search for the image file in that directory, and will print the file it finds. You can link one path to another by e.g. setting err_path = 'im_folder' below, which will search for the error image in the same directory as the main image. If you set err_path = None, the code will not search for an error image. If you set err_path = 'im', the code will search for an ERR extension in the same file as the main image.\n",
    "\n",
    "The code will attempt to determine the zeropoint, image unit and pixel scale of the image from the header, but you can override this by setting the values manually.\n",
    "\n",
    "Pay careful attention to the print statements, as they will tell you if the code is unable to find the image file, or if it is unable to determine the zeropoint, image unit or pixel scale. The code may make an assumption about the naming convention or header information of the image file, and if this assumption is incorrect, you will need to set the values manually.\n",
    "\n",
    "Note that the below code is setup to load in my own data, and you will need to change the paths to the image files to match your own data."
   ]
  },
  {
   "cell_type": "code",
   "execution_count": null,
   "metadata": {},
   "outputs": [],
   "source": [
    "galaxy_info = []\n",
    "# Add HST bands\n",
    "for band in hst_bands:\n",
    "    band_info = PhotometryBandInfo(band_name=band, survey=survey,\n",
    "                                image_path = f'/raid/scratch/data/hst/{survey}/ACS_WFC/30mas/',\n",
    "                                wht_path = None,\n",
    "                                err_path = 'im_folder',\n",
    "                                seg_path = f'/raid/scratch/work/austind/GALFIND_WORK/SExtractor/ACS_WFC/v9/{survey}/{survey}_{band.replace(\"F\", \"f\")}_{band.replace(\"F\", \"f\")}_sel_cat_v9_seg.fits',\n",
    "    )\n",
    "    galaxy_info.append(band_info)\n",
    "\n",
    "# Now add NIRCam bands\n",
    "for band in nircam_bands:\n",
    "    band_info = PhotometryBandInfo(band_name=band, survey=survey,\n",
    "                                    image_path = f'/raid/scratch/data/jwst/{survey}/mosaic_1084_wisptemp2_whtfix',\n",
    "                                    wht_path = 'im',\n",
    "                                    err_path = 'im',\n",
    "                                    seg_path = f'/raid/scratch/work/austind/GALFIND_WORK/SExtractor/NIRCam/v9/{survey}/{survey}_{band}_{band}_sel_cat_v9_seg.fits',\n",
    "    )\n",
    "\n",
    "    galaxy_info.append(band_info)\n",
    "\n"
   ]
  },
  {
   "cell_type": "markdown",
   "metadata": {},
   "source": [
    "Now we combine these PhotometryBandInfo objects into a list, and create a FieldInfo object. This object contains the information about the field, including the photometry bands, the segmentation map, and the pixel scale of the image."
   ]
  },
  {
   "cell_type": "code",
   "execution_count": null,
   "metadata": {},
   "outputs": [],
   "source": [
    "# Make a FieldInfo object\n",
    "field_info = FieldInfo(galaxy_info)"
   ]
  },
  {
   "cell_type": "markdown",
   "metadata": {},
   "source": [
    "We can then create a ResolvedGalaxy object, which will create the galaxy cutouts and store all provided information in a portable HDF5 file. This file can be loaded later to continue the analysis.\n",
    "\n",
    "There are a number of other arguments you may wish to set. These are:\n",
    "\n",
    "- **already_psf_matched**: If the PSF has already been matched between the bands, set this to True. If not, the code will attempt to match the PSF WebbPSF or provided PSF models (coming soon).\n",
    "\n",
    "- **forced_phot_band**: If you want to perform forced photometry on a specific band, set this to the filter name (or list for an inverse variance weighted combination of bands).\n",
    "\n",
    "- **dont_psf_match_bands**: If you do not want to match the PSF between certain bands, set this to a list of the filter names. This is useful if the PSF matching is not working well for certain bands.\n"
   ]
  },
  {
   "cell_type": "code",
   "execution_count": null,
   "metadata": {},
   "outputs": [],
   "source": [
    "galaxy = ResolvedGalaxy.init_from_basics(galaxy_id = galaxy,\n",
    "                                        field_info = field_info, \n",
    "                                        survey = survey,\n",
    "                                        cutout_size=cutout_size,\n",
    "                                        sky_coord=skycoord, \n",
    "                                        redshift = redshift)"
   ]
  },
  {
   "cell_type": "markdown",
   "metadata": {},
   "source": [
    "We can use the returned object directly, or load it from the HDF5 file. The HDF5 filenames generally have the format 'fieldname_galaxyid.hdf5', but you can specify a different filename if you wish."
   ]
  },
  {
   "cell_type": "code",
   "execution_count": null,
   "metadata": {},
   "outputs": [],
   "source": [
    "galaxy = ResolvedGalaxy.init_from_h5('CEERS_1.h5')"
   ]
  },
  {
   "cell_type": "markdown",
   "metadata": {},
   "source": [
    "There are many methods available on a ResolvedGalaxy, but we will go over the most important ones here."
   ]
  },
  {
   "cell_type": "markdown",
   "metadata": {},
   "source": [
    "Firstly, we can plot the galaxy cutouts. This will show the galaxy cutouts for each band. "
   ]
  },
  {
   "cell_type": "code",
   "execution_count": null,
   "metadata": {},
   "outputs": [],
   "source": [
    "galaxy.plot_cutouts\n",
    "\n",
    "galaxy.plot_err_stamps\n",
    "\n",
    "galaxy.plot_seg_stamps\n",
    "\n",
    "galaxy.plot_image_stamps"
   ]
  },
  {
   "cell_type": "markdown",
   "metadata": {},
   "source": [
    "Plotting an RGB"
   ]
  },
  {
   "cell_type": "code",
   "execution_count": null,
   "metadata": {},
   "outputs": [],
   "source": [
    "galaxy.plot_lupton_rgb"
   ]
  },
  {
   "cell_type": "markdown",
   "metadata": {},
   "source": [
    "Saving info to .h5. Generally this will happen automatically, but if you want to force a save, you can call the dump_to_h5 method."
   ]
  },
  {
   "cell_type": "code",
   "execution_count": null,
   "metadata": {},
   "outputs": [],
   "source": [
    "galaxy.dump_to_h5()"
   ]
  },
  {
   "cell_type": "markdown",
   "metadata": {},
   "source": [
    "PSF matching"
   ]
  },
  {
   "cell_type": "code",
   "execution_count": null,
   "metadata": {},
   "outputs": [],
   "source": [
    "galaxy.add_psf_models()"
   ]
  },
  {
   "cell_type": "markdown",
   "metadata": {},
   "source": [
    "Pixel Binning"
   ]
  },
  {
   "cell_type": "code",
   "execution_count": null,
   "metadata": {},
   "outputs": [],
   "source": [
    "galaxy.pixel_by_pixel_galaxy_region(snr_req=3)\n",
    "\n",
    "galaxy.pixel_by_pixel_binmap(galaxy_region = 'SNR_3_F444W', overwrite=True)\n",
    "\n",
    "tab = galaxy.measure_flux_in_bins(binmap_type='pixel_by_pixel', overwrite=True)\n"
   ]
  },
  {
   "cell_type": "markdown",
   "metadata": {},
   "source": [
    "Plotting overview"
   ]
  },
  {
   "cell_type": "code",
   "execution_count": null,
   "metadata": {},
   "outputs": [],
   "source": [
    "galaxy.plot_overview(save=False, flux_unit = u.ABmag, show=True, binmap_type = 'pixel_by_pixel',\n",
    "                    bins_to_show = [\"TOTAL_BIN\", \"1\"], \n",
    "                    bands_to_show = ['F606W', 'F115W', 'F200W', 'F356W', 'F444W'])"
   ]
  },
  {
   "cell_type": "markdown",
   "metadata": {},
   "source": [
    "Interaction with piXedfit:"
   ]
  },
  {
   "cell_type": "code",
   "execution_count": null,
   "metadata": {},
   "outputs": [],
   "source": [
    "galaxy.pixedfit_processing\n",
    "\n",
    "galaxy.pisedfit_binning"
   ]
  },
  {
   "cell_type": "markdown",
   "metadata": {},
   "source": [
    "SED Fitting with Bagpipes"
   ]
  },
  {
   "cell_type": "code",
   "execution_count": null,
   "metadata": {},
   "outputs": [],
   "source": [
    "galaxy.run_bagpipes"
   ]
  },
  {
   "cell_type": "markdown",
   "metadata": {},
   "source": [
    "Plotting of SED Results"
   ]
  },
  {
   "cell_type": "code",
   "execution_count": null,
   "metadata": {},
   "outputs": [],
   "source": [
    "galaxy.plot_bagpipes_fit\n",
    "\n",
    "galaxy.plot_bagpipes_sed\n",
    "\n",
    "galaxy.plot_bagpipes_corner \n",
    "\n",
    "galaxy.plot_bagpipes_map_gif\n",
    "\n",
    "galaxy.plot_bagpipes_component_comparison\n",
    "\n",
    "galaxy.plot_bagpipes_sfh"
   ]
  },
  {
   "cell_type": "markdown",
   "metadata": {},
   "source": [
    "SED Fitting with Dense Basis"
   ]
  },
  {
   "cell_type": "code",
   "execution_count": null,
   "metadata": {},
   "outputs": [],
   "source": [
    "galaxy.run_dense_basis"
   ]
  },
  {
   "cell_type": "markdown",
   "metadata": {},
   "source": [
    "Morphological Fitting with pysersic"
   ]
  },
  {
   "cell_type": "code",
   "execution_count": null,
   "metadata": {},
   "outputs": [],
   "source": [
    "galaxy.run_pysersic"
   ]
  },
  {
   "cell_type": "markdown",
   "metadata": {},
   "source": [
    "Morphological Fitting with GALFIT"
   ]
  },
  {
   "cell_type": "code",
   "execution_count": null,
   "metadata": {},
   "outputs": [],
   "source": [
    "galaxy.run_galfitm"
   ]
  },
  {
   "cell_type": "markdown",
   "metadata": {},
   "source": [
    "Morphological Fitting with pyautogalaxy"
   ]
  },
  {
   "cell_type": "code",
   "execution_count": null,
   "metadata": {},
   "outputs": [],
   "source": [
    "galaxy.run_autogalaxy"
   ]
  },
  {
   "cell_type": "markdown",
   "metadata": {},
   "source": [
    "EAZY SED Fitting"
   ]
  },
  {
   "cell_type": "code",
   "execution_count": null,
   "metadata": {},
   "outputs": [],
   "source": [
    "galaxy.eazy_fit_measured_photometry\n",
    "\n",
    "galaxy.plot_eazy_fit"
   ]
  },
  {
   "cell_type": "markdown",
   "metadata": {},
   "source": [
    "Running SEXtractor for Python (SEP)"
   ]
  },
  {
   "cell_type": "code",
   "execution_count": null,
   "metadata": {},
   "outputs": [],
   "source": [
    "galaxy.sep_process"
   ]
  }
 ],
 "metadata": {},
 "nbformat": 4,
 "nbformat_minor": 2
}
