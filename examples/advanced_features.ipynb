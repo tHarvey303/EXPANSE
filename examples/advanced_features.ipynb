{
 "cells": [
  {
   "cell_type": "markdown",
   "metadata": {},
   "source": [
    "Error analysis\n"
   ]
  },
  {
   "cell_type": "code",
   "execution_count": null,
   "metadata": {},
   "outputs": [],
   "source": [
    "galaxy.derive_rms_correction_factor"
   ]
  },
  {
   "cell_type": "code",
   "execution_count": null,
   "metadata": {},
   "outputs": [],
   "source": [
    "galaxy.estimate_rms_from_background"
   ]
  },
  {
   "cell_type": "markdown",
   "metadata": {},
   "source": [
    "Multi-core fitting"
   ]
  },
  {
   "cell_type": "markdown",
   "metadata": {},
   "source": [
    "Radial profiles"
   ]
  },
  {
   "cell_type": "markdown",
   "metadata": {},
   "source": [
    "galaxy.plot_resolved_scatter\n",
    "\n",
    "galaxy.radial_scatter_of_property_map\n",
    "\n",
    "galaxy.measure_cog_of_property_map"
   ]
  },
  {
   "cell_type": "markdown",
   "metadata": {},
   "source": [
    "GALFIND Photometry Properties"
   ]
  },
  {
   "cell_type": "code",
   "execution_count": null,
   "metadata": {},
   "outputs": [],
   "source": [
    "galaxy.init_galfind_phot\n",
    "\n",
    "galaxy.galfind_phot_property_map\n",
    "\n",
    "galaxy.plot_ew_figure"
   ]
  }
 ],
 "metadata": {},
 "nbformat": 4,
 "nbformat_minor": 2
}
