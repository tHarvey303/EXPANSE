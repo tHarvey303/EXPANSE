{
 "cells": [
  {
   "cell_type": "markdown",
   "metadata": {},
   "source": [
    "### Advanced Usage\n",
    "\n",
    "This notebook will look at more advanced usage of EXPANSE, including some features not in the paper."
   ]
  },
  {
   "cell_type": "markdown",
   "metadata": {},
   "source": [
    "Multi-core fitting"
   ]
  },
  {
   "cell_type": "markdown",
   "metadata": {},
   "source": [
    "Radial profiles"
   ]
  },
  {
   "cell_type": "markdown",
   "metadata": {},
   "source": [
    "galaxy.plot_resolved_scatter\n",
    "\n",
    "galaxy.radial_scatter_of_property_map\n",
    "\n",
    "galaxy.measure_cog_of_property_map"
   ]
  },
  {
   "cell_type": "markdown",
   "metadata": {},
   "source": [
    "GALFIND Photometry Properties"
   ]
  },
  {
   "cell_type": "code",
   "execution_count": null,
   "metadata": {},
   "outputs": [],
   "source": [
    "galaxy.init_galfind_phot\n",
    "\n",
    "galaxy.galfind_phot_property_map\n",
    "\n",
    "galaxy.plot_ew_figure"
   ]
  }
 ],
 "metadata": {
  "language_info": {
   "name": "python"
  }
 },
 "nbformat": 4,
 "nbformat_minor": 2
}
