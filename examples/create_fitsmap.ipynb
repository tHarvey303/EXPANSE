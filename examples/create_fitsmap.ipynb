{
 "cells": [
  {
   "cell_type": "markdown",
   "metadata": {},
   "source": [
    "### Create a FitsMap from our FieldInfo Object\n"
   ]
  },
  {
   "cell_type": "code",
   "execution_count": null,
   "metadata": {},
   "outputs": [],
   "source": [
    "from EXPANSE.utils import create_fitsmap, PhotometryBandInfo, FieldInfo, display_fitsmap"
   ]
  },
  {
   "cell_type": "markdown",
   "metadata": {},
   "source": [
    "Firsty we make the FieldInfo objects for our field. We will use the GLIMPSE field as an example.\n",
    "\n",
    "We define the field name, the catalogue path (optional) and the bands for HST and NIRCam. These band names are only used in the PhotometryBandInfo to locate the correct image files.\n",
    "The version parameter is just used in our internal file system and is not used in the FitsMap object.\n",
    "\n",
    "See the introduction notebook for more information on the PhotometryBandInfo and FieldInfo classes.\n",
    "\n",
    "```python"
   ]
  },
  {
   "cell_type": "code",
   "execution_count": null,
   "metadata": {},
   "outputs": [],
   "source": [
    "survey = 'GLIMPSE'\n",
    "catalogue_path = '/raid/scratch/work/goolsby/GALFIND_WORK/Catalogues/6(4)_final/ACS_WFC+NIRCam/GLIMPSE/(0.32)as/GLIMPSE_MASTER_Sel-F277W+F356W+F444W_6(4)_final.fits'\n",
    "hst_bands = ['F435W', 'F606W', 'F814W']\n",
    "nircam_bands = ['F090W', 'F115W', 'F150W', 'F200W', 'F277W', 'F356W', 'F410M', 'F444W', 'F480M']\n",
    "version = '6(4)_final'"
   ]
  },
  {
   "cell_type": "code",
   "execution_count": null,
   "metadata": {},
   "outputs": [],
   "source": [
    "galaxy_info = []\n",
    "# Add HST bands\n",
    "for band in hst_bands:\n",
    "    band_info = PhotometryBandInfo(band_name=band, survey=survey,\n",
    "                                image_path = f'/raid/scratch/data/hst/{survey}/ACS_WFC/{version}/30mas/GLIMPSE-{band}_i2dnobgnobg.fits',\n",
    "                                wht_path = 'im_folder',\n",
    "                                err_path = 'im_folder',\n",
    "                                seg_path = f'/raid/scratch/work/goolsby/GALFIND_WORK/SExtractor/ACS_WFC/{version}/GLIMPSE/MAP_RMS/segmentation'\n",
    "    )\n",
    "    galaxy_info.append(band_info)\n",
    "\n",
    "# Now add NIRCam bands\n",
    "for band in nircam_bands:\n",
    "    band_info = PhotometryBandInfo(band_name=band, survey=survey,\n",
    "                                    image_path = f'/raid/scratch/data/jwst/GLIMPSE/NIRCam/{version}/30mas/',\n",
    "                                    wht_path = 'im',\n",
    "                                    err_path = 'im',\n",
    "                                    seg_path = f'/raid/scratch/work/goolsby/GALFIND_WORK/SExtractor/NIRCam/{version}/GLIMPSE/MAP_RMS/segmentation',\n",
    "    )\n",
    "\n",
    "    galaxy_info.append(band_info)\n",
    "\n",
    "field_info = FieldInfo(galaxy_info)"
   ]
  },
  {
   "cell_type": "markdown",
   "metadata": {},
   "source": [
    "Here we're just gonna implement an optional feature,to display a plot for a galaxy when selected.\n"
   ]
  },
  {
   "cell_type": "code",
   "execution_count": null,
   "metadata": {},
   "outputs": [],
   "source": [
    "plot_folder = '/raid/scratch/work/goolsby/GALFIND_WORK/Plots/6(4)_final/ACS_WFC+NIRCam/GLIMPSE/SED_plots/0.32as/EAZY_fsps_larson_zfree_0.32as/EPOCHS_NIRCam/'"
   ]
  },
  {
   "cell_type": "code",
   "execution_count": null,
   "metadata": {},
   "outputs": [],
   "source": [
    "create_fitsmap('GLIMPSE', \n",
    "            field_info, \n",
    "            catalogue_path=catalogue_path, \n",
    "            filter_field='EPOCHS_NIRCam_EAZY_fsps_larson_zfree_0.32as', \n",
    "            filter_val=True, \n",
    "            plot_path_column=plot_folder\n",
    "        )"
   ]
  },
  {
   "cell_type": "markdown",
   "metadata": {},
   "source": [
    "Now we can display the fitsmap inside the notebook using the display_fitsmap function."
   ]
  },
  {
   "cell_type": "code",
   "execution_count": null,
   "metadata": {},
   "outputs": [],
   "source": [
    "display_fitsmap(survey)"
   ]
  }
 ],
 "metadata": {},
 "nbformat": 4,
 "nbformat_minor": 2
}
