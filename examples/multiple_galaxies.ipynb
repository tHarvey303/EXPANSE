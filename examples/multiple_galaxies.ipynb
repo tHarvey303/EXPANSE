{
 "cells": [
  {
   "cell_type": "markdown",
   "metadata": {},
   "source": [
    "### Fitting Multiple Galaxies\n",
    "\n",
    "This notebook is a work in progress. Some examples of the techniques used here are available in the notebook in scripts/ containing the figures from Harvey et al. 2025. \n",
    "\n",
    "In brief, this galaxy will look at using the ResolvedGalaxies class to analyse and fit populations of galaxies, including parallelzied fitting over resolved bins of multiple galaxies simultaneously. "
   ]
  },
  {
   "cell_type": "markdown",
   "metadata": {},
   "source": []
  }
 ],
 "metadata": {
  "language_info": {
   "name": "python"
  }
 },
 "nbformat": 4,
 "nbformat_minor": 2
}
