{
 "cells": [
  {
   "cell_type": "code",
   "execution_count": 1,
   "metadata": {},
   "outputs": [],
   "source": [
    "import astropy.units as u\n",
    "import numpy as np\n",
    "from ResolvedGalaxy import ResolvedGalaxy\n",
    "from importlib import reload"
   ]
  },
  {
   "cell_type": "code",
   "execution_count": 20,
   "metadata": {},
   "outputs": [
    {
     "data": {
      "text/latex": [
       "$[6.3418059 \\times 10^{-21},~3.170903 \\times 10^{-21},~2.1139353 \\times 10^{-21},~1.5854515 \\times 10^{-21},~1.2683612 \\times 10^{-21}] \\; \\mathrm{\\frac{erg}{\\mathring{A}\\,s\\,cm^{2}}}$"
      ],
      "text/plain": [
       "<Quantity [6.34180590e-21, 3.17090295e-21, 2.11393530e-21, 1.58545148e-21,\n",
       "           1.26836118e-21] erg / (Angstrom s cm2)>"
      ]
     },
     "execution_count": 20,
     "metadata": {},
     "output_type": "execute_result"
    }
   ],
   "source": [
    "fluxes = [1, 2, 3, 4, 5] * u.MJy/u.sr\n",
    "wave = [1, 2, 3, 4, 5] * u.um\n",
    "pix_scale = 0.03 * u.arcsec\n",
    "\n",
    "flux_ergsmca = (fluxes * pix_scale**2).to(u.erg/u.s/u.cm**2/u.AA, equivalencies=u.spectral_density(wave))\n"
   ]
  },
  {
   "cell_type": "code",
   "execution_count": null,
   "metadata": {},
   "outputs": [],
   "source": [
    "galaxy = ResolvedGalaxy.init_from_galfind(52, 'NGDEEP2', 'v11', excl_bands = ['F435W', 'F775W', 'F850LP'])\n",
    "galaxy.dump_to_h5()\n",
    "galaxy2 = ResolvedGalaxy.init_from_h5(52)\n",
    "print(galaxy2.galaxy_id)\n",
    "          "
   ]
  }
 ],
 "metadata": {
  "kernelspec": {
   "display_name": "Python 3",
   "language": "python",
   "name": "python3"
  },
  "language_info": {
   "codemirror_mode": {
    "name": "ipython",
    "version": 3
   },
   "file_extension": ".py",
   "mimetype": "text/x-python",
   "name": "python",
   "nbconvert_exporter": "python",
   "pygments_lexer": "ipython3",
   "version": "3.10.4"
  }
 },
 "nbformat": 4,
 "nbformat_minor": 2
}
