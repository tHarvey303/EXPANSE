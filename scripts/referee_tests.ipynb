{
 "cells": [
  {
   "cell_type": "code",
   "execution_count": 6,
   "metadata": {},
   "outputs": [
    {
     "name": "stdout",
     "output_type": "stream",
     "text": [
      "The autoreload extension is already loaded. To reload it, use:\n",
      "  %reload_ext autoreload\n"
     ]
    }
   ],
   "source": [
    "%load_ext autoreload\n",
    "%autoreload 2\n",
    "\n",
    "import astropy.units as u\n",
    "import cmasher as cmr\n",
    "import matplotlib.cm as cm\n",
    "import numpy as np\n",
    "from astropy.cosmology import FlatLambdaCDM\n",
    "from matplotlib import pyplot as plt\n",
    "from matplotlib.colors import LogNorm\n",
    "from matplotlib.ticker import ScalarFormatter\n",
    "from mpl_toolkits.axes_grid1 import make_axes_locatable\n",
    "\n",
    "from EXPANSE import ResolvedGalaxies, ResolvedGalaxy\n",
    "from EXPANSE.bagpipes import continuity_dict, create_dicts, resolved_dict_cnst\n",
    "\n",
    "cosmo = FlatLambdaCDM(H0=70, Om0=0.3)\n",
    "plt.style.use('/nvme/scratch/work/tharvey/scripts/paper_scientific.mplstyle')\n",
    "plt.rcParams[\"figure.dpi\"] = 300\n",
    "\n",
    "%matplotlib inline"
   ]
  },
  {
   "cell_type": "markdown",
   "metadata": {},
   "source": [
    "Referee requests we test for systematic redshift offsets due to e.g. DLAs by refitting with model of Asada et al. 2024, as implemented in EAZY."
   ]
  },
  {
   "cell_type": "code",
   "execution_count": 7,
   "metadata": {},
   "outputs": [
    {
     "name": "stdout",
     "output_type": "stream",
     "text": [
      "Found 222 galaxies in field JOF_psfmatched\n"
     ]
    },
    {
     "name": "stderr",
     "output_type": "stream",
     "text": [
      "Loading galaxies in parallel:   0%|          | 0/222 [00:00<?, ?it/s]"
     ]
    },
    {
     "name": "stderr",
     "output_type": "stream",
     "text": [
      "Loading galaxies in parallel: 100%|██████████| 222/222 [02:05<00:00,  1.77it/s]\n"
     ]
    }
   ],
   "source": [
    "galaxies = ResolvedGalaxy.init_all_field_from_h5('JOF_psfmatched', '/nvme/scratch/work/tharvey/EXPANSE/galaxies/', n_jobs=6)\n",
    "\n",
    "galaxies = ResolvedGalaxies(galaxies)"
   ]
  },
  {
   "cell_type": "code",
   "execution_count": 18,
   "metadata": {},
   "outputs": [
    {
     "name": "stdout",
     "output_type": "stream",
     "text": [
      "Output MAG_APER_0.32 arcsec_fsps_larson_0.05__Asada24_cgm already exists. Use overwrite=True to recompute.\n",
      "Output MAG_APER_0.32 arcsec_fsps_larson_0.05__Asada24_cgm already exists. Use overwrite=True to recompute.\n",
      "Output MAG_APER_0.32 arcsec_fsps_larson_0.05__Asada24_cgm already exists. Use overwrite=True to recompute.\n",
      "Output MAG_APER_0.32 arcsec_fsps_larson_0.05__Asada24_cgm already exists. Use overwrite=True to recompute.\n",
      "Output MAG_APER_0.32 arcsec_fsps_larson_0.05__Asada24_cgm already exists. Use overwrite=True to recompute.\n",
      "Output MAG_APER_0.32 arcsec_fsps_larson_0.05__Asada24_cgm already exists. Use overwrite=True to recompute.\n",
      "Output MAG_APER_0.32 arcsec_fsps_larson_0.05__Asada24_cgm already exists. Use overwrite=True to recompute.\n",
      "Output MAG_APER_0.32 arcsec_fsps_larson_0.05__Asada24_cgm already exists. Use overwrite=True to recompute.\n",
      "Output MAG_APER_0.32 arcsec_fsps_larson_0.05__Asada24_cgm already exists. Use overwrite=True to recompute.\n",
      "Output MAG_APER_0.32 arcsec_fsps_larson_0.05__Asada24_cgm already exists. Use overwrite=True to recompute.\n",
      "Output MAG_APER_0.32 arcsec_fsps_larson_0.05__Asada24_cgm already exists. Use overwrite=True to recompute.\n",
      "Output MAG_APER_0.32 arcsec_fsps_larson_0.05__Asada24_cgm already exists. Use overwrite=True to recompute.\n",
      "Output MAG_APER_0.32 arcsec_fsps_larson_0.05__Asada24_cgm already exists. Use overwrite=True to recompute.\n",
      "Output MAG_APER_0.32 arcsec_fsps_larson_0.05__Asada24_cgm already exists. Use overwrite=True to recompute.\n",
      "Output MAG_APER_0.32 arcsec_fsps_larson_0.05__Asada24_cgm already exists. Use overwrite=True to recompute.\n",
      "Output MAG_APER_0.32 arcsec_fsps_larson_0.05__Asada24_cgm already exists. Use overwrite=True to recompute.\n",
      "Output MAG_APER_0.32 arcsec_fsps_larson_0.05__Asada24_cgm already exists. Use overwrite=True to recompute.\n",
      "Output MAG_APER_0.32 arcsec_fsps_larson_0.05__Asada24_cgm already exists. Use overwrite=True to recompute.\n",
      "Output MAG_APER_0.32 arcsec_fsps_larson_0.05__Asada24_cgm already exists. Use overwrite=True to recompute.\n",
      "Output MAG_APER_0.32 arcsec_fsps_larson_0.05__Asada24_cgm already exists. Use overwrite=True to recompute.\n",
      "Output MAG_APER_0.32 arcsec_fsps_larson_0.05__Asada24_cgm already exists. Use overwrite=True to recompute.\n",
      "Output MAG_APER_0.32 arcsec_fsps_larson_0.05__Asada24_cgm already exists. Use overwrite=True to recompute.\n",
      "Output MAG_APER_0.32 arcsec_fsps_larson_0.05__Asada24_cgm already exists. Use overwrite=True to recompute.\n",
      "Output MAG_APER_0.32 arcsec_fsps_larson_0.05__Asada24_cgm already exists. Use overwrite=True to recompute.\n",
      "Output MAG_APER_0.32 arcsec_fsps_larson_0.05__Asada24_cgm already exists. Use overwrite=True to recompute.\n",
      "Output MAG_APER_0.32 arcsec_fsps_larson_0.05__Asada24_cgm already exists. Use overwrite=True to recompute.\n",
      "Output MAG_APER_0.32 arcsec_fsps_larson_0.05__Asada24_cgm already exists. Use overwrite=True to recompute.\n",
      "Output MAG_APER_0.32 arcsec_fsps_larson_0.05__Asada24_cgm already exists. Use overwrite=True to recompute.\n",
      "Output MAG_APER_0.32 arcsec_fsps_larson_0.05__Asada24_cgm already exists. Use overwrite=True to recompute.\n",
      "Output MAG_APER_0.32 arcsec_fsps_larson_0.05__Asada24_cgm already exists. Use overwrite=True to recompute.\n",
      "Output MAG_APER_0.32 arcsec_fsps_larson_0.05__Asada24_cgm already exists. Use overwrite=True to recompute.\n",
      "Output MAG_APER_0.32 arcsec_fsps_larson_0.05__Asada24_cgm already exists. Use overwrite=True to recompute.\n",
      "Output MAG_APER_0.32 arcsec_fsps_larson_0.05__Asada24_cgm already exists. Use overwrite=True to recompute.\n",
      "Output MAG_APER_0.32 arcsec_fsps_larson_0.05__Asada24_cgm already exists. Use overwrite=True to recompute.\n",
      "Output MAG_APER_0.32 arcsec_fsps_larson_0.05__Asada24_cgm already exists. Use overwrite=True to recompute.\n",
      "Output MAG_APER_0.32 arcsec_fsps_larson_0.05__Asada24_cgm already exists. Use overwrite=True to recompute.\n",
      "Output MAG_APER_0.32 arcsec_fsps_larson_0.05__Asada24_cgm already exists. Use overwrite=True to recompute.\n",
      "Output MAG_APER_0.32 arcsec_fsps_larson_0.05__Asada24_cgm already exists. Use overwrite=True to recompute.\n",
      "Output MAG_APER_0.32 arcsec_fsps_larson_0.05__Asada24_cgm already exists. Use overwrite=True to recompute.\n",
      "Output MAG_APER_0.32 arcsec_fsps_larson_0.05__Asada24_cgm already exists. Use overwrite=True to recompute.\n",
      "Output MAG_APER_0.32 arcsec_fsps_larson_0.05__Asada24_cgm already exists. Use overwrite=True to recompute.\n",
      "Output MAG_APER_0.32 arcsec_fsps_larson_0.05__Asada24_cgm already exists. Use overwrite=True to recompute.\n",
      "Output MAG_APER_0.32 arcsec_fsps_larson_0.05__Asada24_cgm already exists. Use overwrite=True to recompute.\n",
      "Output MAG_APER_0.32 arcsec_fsps_larson_0.05__Asada24_cgm already exists. Use overwrite=True to recompute.\n",
      "Output MAG_APER_0.32 arcsec_fsps_larson_0.05__Asada24_cgm already exists. Use overwrite=True to recompute.\n",
      "Output MAG_APER_0.32 arcsec_fsps_larson_0.05__Asada24_cgm already exists. Use overwrite=True to recompute.\n",
      "Output MAG_APER_0.32 arcsec_fsps_larson_0.05__Asada24_cgm already exists. Use overwrite=True to recompute.\n",
      "Output MAG_APER_0.32 arcsec_fsps_larson_0.05__Asada24_cgm already exists. Use overwrite=True to recompute.\n",
      "Output MAG_APER_0.32 arcsec_fsps_larson_0.05__Asada24_cgm already exists. Use overwrite=True to recompute.\n",
      "Output MAG_APER_0.32 arcsec_fsps_larson_0.05__Asada24_cgm already exists. Use overwrite=True to recompute.\n",
      "Output MAG_APER_0.32 arcsec_fsps_larson_0.05__Asada24_cgm already exists. Use overwrite=True to recompute.\n",
      "Output MAG_APER_0.32 arcsec_fsps_larson_0.05__Asada24_cgm already exists. Use overwrite=True to recompute.\n",
      "Output MAG_APER_0.32 arcsec_fsps_larson_0.05__Asada24_cgm already exists. Use overwrite=True to recompute.\n",
      "Zeropoint: 23.9\n",
      "{'TEMPLATES_FILE': '/nvme/scratch/work/tharvey/EAZY/inputs/scripts/templates/LarsonTemplates/tweak_fsps_QSF_12_v3_newtemplates.param', 'FILTERS_RES': '/nvme/scratch/work/tharvey/EXPANSE/src/EXPANSE/eazy/jwst_nircam_FILTER.RES', 'MW_EBV': 0, 'CAT_HAS_EXTCORR': False, 'ADD_CGM': True, 'Z_STEP': 0.01, 'Z_MIN': 0.01, 'Z_MAX': 20.0, 'TEMP_ERR_FILE': '/nvme/scratch/work/tharvey/EXPANSE/src/EXPANSE/eazy/TEMPLATE_ERROR.eazy_v1.0', 'TEMP_ERR_A2': 0, 'SYS_ERR': 0, 'APPLY_PRIOR': 'n', 'PRIOR_ABZP': 23.9, 'PRIOR_FILTER': 28, 'PRIOR_FILE': '', 'FIX_ZSPEC': False, 'IGM_SCALE_TAU': 1.0, 'N_MIN_COLORS': 2, 'CATALOG_FILE': '/tmp/tmpogoosc1i/eazy_input.fits'}\n",
      "Read default param file: /nvme/scratch/software/anaconda3/envs/tharvey_galfind/lib/python3.10/site-packages/eazy/data/zphot.param.default\n",
      "Read CATALOG_FILE: /tmp/tmpogoosc1i/eazy_input.fits\n",
      "   >>> NOBJ = 1\n",
      "F22 E22 ( 22): hst/ACS_update_sep07/wfc_f435w_t81.dat\n",
      "F23 E23 ( 23): hst/ACS_update_sep07/wfc_f606w_t81.dat\n",
      "F24 E24 ( 24): hst/ACS_update_sep07/wfc_f814w_t81.dat\n",
      "F50 E50 ( 50): hst/ACS_update_sep07/wfc_f850lp_t81.dat\n",
      "F1 E1 (  1): jwst_nircam_f090w\n",
      "F2 E2 (  2): jwst_nircam_f115w\n",
      "F3 E3 (  3): jwst_nircam_f150w\n",
      "F38 E38 ( 38): jwst_nircam_f162m\n",
      "F39 E39 ( 39): jwst_nircam_f182m\n",
      "F4 E4 (  4): jwst_nircam_f200w\n",
      "F40 E40 ( 40): jwst_nircam_f210m\n",
      "F41 E41 ( 41): jwst_nircam_f250m\n",
      "F5 E5 (  5): jwst_nircam_f277w\n",
      "F42 E42 ( 42): jwst_nircam_f300m\n",
      "F43 E43 ( 43): jwst_nircam_f335m\n",
      "F6 E6 (  6): jwst_nircam_f356w\n",
      "F7 E7 (  7): jwst_nircam_f410m\n",
      "F8 E8 (  8): jwst_nircam_f444w\n",
      "Set sys_err = 0.00 (positive=True)\n",
      "Template grid: /nvme/scratch/work/tharvey/EAZY/inputs/scripts/templates/LarsonTemplates/tweak_fsps_QSF_12_v3_newtemplates.param (this may take some time)\n"
     ]
    },
    {
     "name": "stderr",
     "output_type": "stream",
     "text": [
      "100%|██████████| 18/18 [00:11<00:00,  1.60it/s]\n"
     ]
    },
    {
     "name": "stdout",
     "output_type": "stream",
     "text": [
      "Template   0: fsps_QSF_12_v3_001.dat (NZ=1).\n",
      "Template   1: fsps_QSF_12_v3_002.dat (NZ=1).\n",
      "Template   2: fsps_QSF_12_v3_003.dat (NZ=1).\n",
      "Template   3: fsps_QSF_12_v3_004.dat (NZ=1).\n",
      "Template   4: fsps_QSF_12_v3_005.dat (NZ=1).\n",
      "Template   5: fsps_QSF_12_v3_006.dat (NZ=1).\n",
      "Template   6: fsps_QSF_12_v3_007.dat (NZ=1).\n",
      "Template   7: fsps_QSF_12_v3_008.dat (NZ=1).\n",
      "Template   8: fsps_QSF_12_v3_009.dat (NZ=1).\n",
      "Template   9: fsps_QSF_12_v3_010.dat (NZ=1).\n",
      "Template  10: fsps_QSF_12_v3_011.dat (NZ=1).\n",
      "Template  11: fsps_QSF_12_v3_012.dat (NZ=1).\n",
      "Template  12: binc100z001age6_cloudy.dat (NZ=1).\n",
      "Template  13: binc100z001age65_cloudy.dat (NZ=1).\n",
      "Template  14: binc100z001age7_cloudy.dat (NZ=1).\n",
      "Template  15: binc100z001age6.dat (NZ=1).\n",
      "Template  16: binc100z001age65.dat (NZ=1).\n",
      "Template  17: binc100z001age7.dat (NZ=1).\n",
      "Process templates: 11.715 s\n"
     ]
    },
    {
     "name": "stderr",
     "output_type": "stream",
     "text": [
      "304it [00:00, 26965.03it/s]"
     ]
    },
    {
     "name": "stdout",
     "output_type": "stream",
     "text": [
      "Saving tempfilt to /nvme/scratch/work/tharvey/EXPANSE/src/EXPANSE/eazy/tempfilt/\n"
     ]
    },
    {
     "name": "stderr",
     "output_type": "stream",
     "text": [
      "\n",
      "100%|██████████| 304/304 [00:00<00:00, 4754.74it/s]\n"
     ]
    },
    {
     "name": "stdout",
     "output_type": "stream",
     "text": [
      "Compute best fits\n",
      "fit_best: 0.0 s (n_proc=1,  NOBJ=1)\n",
      "Fit 0.4 s (n_proc=4, NOBJ=1)\n",
      "Setting meta, id_phot, 0\n",
      "Setting meta, z_best, 6.1653776\n",
      "Setting meta, chi2, 23.203381248404973\n",
      "Setting meta, z16, 6.1134014\n",
      "Setting meta, z50, 6.1670604\n",
      "Setting meta, z84, 6.2498674\n",
      "Setting meta, flux_unit, uJy\n",
      "Setting meta, wave_unit, Angstrom\n",
      "Setting meta, templates_file, /nvme/scratch/work/tharvey/EAZY/inputs/scripts/templates/LarsonTemplates/tweak_fsps_QSF_12_v3_newtemplates.param\n",
      "Setting meta, z_min, 0.01\n",
      "Setting meta, z_max, 20.0\n",
      "Setting meta, z_step, 0.01\n",
      "Setting meta, region, MAG_APER_0.32 arcsec_fsps_larson_0.05__Asada24_cgm\n",
      " added to <HDF5 file \"JOF_psfmatched_12816.h5\" (mode r+)>, interactive_outputs/MAG_APER_0_32 arcsec_fsps_larson_0_05__Asada24_cgm/, eazy_fit\n",
      " added to <HDF5 file \"JOF_psfmatched_12816.h5\" (mode r+)>, interactive_outputs/MAG_APER_0_32 arcsec_fsps_larson_0_05__Asada24_cgm/, p_z\n",
      " added to <HDF5 file \"JOF_psfmatched_12816.h5\" (mode r+)>, interactive_outputs/MAG_APER_0_32 arcsec_fsps_larson_0_05__Asada24_cgm/, input_flux\n",
      " added to <HDF5 file \"JOF_psfmatched_12816.h5\" (mode r+)>, interactive_outputs/MAG_APER_0_32 arcsec_fsps_larson_0_05__Asada24_cgm/, input_flux_err\n",
      "Zeropoint: 23.9\n",
      "{'TEMPLATES_FILE': '/nvme/scratch/work/tharvey/EAZY/inputs/scripts/templates/LarsonTemplates/tweak_fsps_QSF_12_v3_newtemplates.param', 'FILTERS_RES': '/nvme/scratch/work/tharvey/EXPANSE/src/EXPANSE/eazy/jwst_nircam_FILTER.RES', 'MW_EBV': 0, 'CAT_HAS_EXTCORR': False, 'ADD_CGM': True, 'Z_STEP': 0.01, 'Z_MIN': 0.01, 'Z_MAX': 20.0, 'TEMP_ERR_FILE': '/nvme/scratch/work/tharvey/EXPANSE/src/EXPANSE/eazy/TEMPLATE_ERROR.eazy_v1.0', 'TEMP_ERR_A2': 0, 'SYS_ERR': 0, 'APPLY_PRIOR': 'n', 'PRIOR_ABZP': 23.9, 'PRIOR_FILTER': 28, 'PRIOR_FILE': '', 'FIX_ZSPEC': False, 'IGM_SCALE_TAU': 1.0, 'N_MIN_COLORS': 2, 'CATALOG_FILE': '/tmp/tmp3sql5sbs/eazy_input.fits'}\n",
      "Read default param file: /nvme/scratch/software/anaconda3/envs/tharvey_galfind/lib/python3.10/site-packages/eazy/data/zphot.param.default\n",
      "Read CATALOG_FILE: /tmp/tmp3sql5sbs/eazy_input.fits\n",
      "   >>> NOBJ = 1\n",
      "F22 E22 ( 22): hst/ACS_update_sep07/wfc_f435w_t81.dat\n",
      "F23 E23 ( 23): hst/ACS_update_sep07/wfc_f606w_t81.dat\n",
      "F49 E49 ( 49): hst/ACS_update_sep07/wfc_f775w_t81.dat\n",
      "F24 E24 ( 24): hst/ACS_update_sep07/wfc_f814w_t81.dat\n",
      "F50 E50 ( 50): hst/ACS_update_sep07/wfc_f850lp_t81.dat\n",
      "F1 E1 (  1): jwst_nircam_f090w\n",
      "F2 E2 (  2): jwst_nircam_f115w\n",
      "F3 E3 (  3): jwst_nircam_f150w\n",
      "F38 E38 ( 38): jwst_nircam_f162m\n",
      "F39 E39 ( 39): jwst_nircam_f182m\n",
      "F4 E4 (  4): jwst_nircam_f200w\n",
      "F40 E40 ( 40): jwst_nircam_f210m\n",
      "F41 E41 ( 41): jwst_nircam_f250m\n",
      "F5 E5 (  5): jwst_nircam_f277w\n",
      "F42 E42 ( 42): jwst_nircam_f300m\n",
      "F43 E43 ( 43): jwst_nircam_f335m\n",
      "F6 E6 (  6): jwst_nircam_f356w\n",
      "F7 E7 (  7): jwst_nircam_f410m\n",
      "F8 E8 (  8): jwst_nircam_f444w\n",
      "Set sys_err = 0.00 (positive=True)\n",
      "Template grid: /nvme/scratch/work/tharvey/EAZY/inputs/scripts/templates/LarsonTemplates/tweak_fsps_QSF_12_v3_newtemplates.param (this may take some time)\n"
     ]
    },
    {
     "name": "stderr",
     "output_type": "stream",
     "text": [
      "100%|██████████| 18/18 [00:11<00:00,  1.53it/s]\n"
     ]
    },
    {
     "name": "stdout",
     "output_type": "stream",
     "text": [
      "Template   0: fsps_QSF_12_v3_001.dat (NZ=1).\n",
      "Template   1: fsps_QSF_12_v3_002.dat (NZ=1).\n",
      "Template   2: fsps_QSF_12_v3_003.dat (NZ=1).\n",
      "Template   3: fsps_QSF_12_v3_004.dat (NZ=1).\n",
      "Template   4: fsps_QSF_12_v3_005.dat (NZ=1).\n",
      "Template   5: fsps_QSF_12_v3_006.dat (NZ=1).\n",
      "Template   6: fsps_QSF_12_v3_007.dat (NZ=1).\n",
      "Template   7: fsps_QSF_12_v3_008.dat (NZ=1).\n",
      "Template   8: fsps_QSF_12_v3_009.dat (NZ=1).\n",
      "Template   9: fsps_QSF_12_v3_010.dat (NZ=1).\n",
      "Template  10: fsps_QSF_12_v3_011.dat (NZ=1).\n",
      "Template  11: fsps_QSF_12_v3_012.dat (NZ=1).\n",
      "Template  12: binc100z001age6_cloudy.dat (NZ=1).\n",
      "Template  13: binc100z001age65_cloudy.dat (NZ=1).\n",
      "Template  14: binc100z001age7_cloudy.dat (NZ=1).\n",
      "Template  15: binc100z001age6.dat (NZ=1).\n",
      "Template  16: binc100z001age65.dat (NZ=1).\n",
      "Template  17: binc100z001age7.dat (NZ=1).\n",
      "Process templates: 12.274 s\n"
     ]
    },
    {
     "name": "stderr",
     "output_type": "stream",
     "text": [
      "304it [00:00, 26686.24it/s]"
     ]
    },
    {
     "name": "stdout",
     "output_type": "stream",
     "text": [
      "Saving tempfilt to /nvme/scratch/work/tharvey/EXPANSE/src/EXPANSE/eazy/tempfilt/\n"
     ]
    },
    {
     "name": "stderr",
     "output_type": "stream",
     "text": [
      "\n",
      "100%|██████████| 304/304 [00:00<00:00, 5347.93it/s]\n"
     ]
    },
    {
     "name": "stdout",
     "output_type": "stream",
     "text": [
      "Compute best fits\n",
      "fit_best: 0.0 s (n_proc=1,  NOBJ=1)\n",
      "Fit 0.4 s (n_proc=4, NOBJ=1)\n",
      "Setting meta, id_phot, 0\n",
      "Setting meta, z_best, 6.1706924\n",
      "Setting meta, chi2, 25.284038841536013\n",
      "Setting meta, z16, 6.1299295\n",
      "Setting meta, z50, 6.1610804\n",
      "Setting meta, z84, 6.2011666\n",
      "Setting meta, flux_unit, uJy\n",
      "Setting meta, wave_unit, Angstrom\n",
      "Setting meta, templates_file, /nvme/scratch/work/tharvey/EAZY/inputs/scripts/templates/LarsonTemplates/tweak_fsps_QSF_12_v3_newtemplates.param\n",
      "Setting meta, z_min, 0.01\n",
      "Setting meta, z_max, 20.0\n",
      "Setting meta, z_step, 0.01\n",
      "Setting meta, region, MAG_APER_0.32 arcsec_fsps_larson_0.05__Asada24_cgm\n",
      " added to <HDF5 file \"JOF_psfmatched_12880.h5\" (mode r+)>, interactive_outputs/MAG_APER_0_32 arcsec_fsps_larson_0_05__Asada24_cgm/, eazy_fit\n",
      " added to <HDF5 file \"JOF_psfmatched_12880.h5\" (mode r+)>, interactive_outputs/MAG_APER_0_32 arcsec_fsps_larson_0_05__Asada24_cgm/, p_z\n",
      " added to <HDF5 file \"JOF_psfmatched_12880.h5\" (mode r+)>, interactive_outputs/MAG_APER_0_32 arcsec_fsps_larson_0_05__Asada24_cgm/, input_flux\n",
      " added to <HDF5 file \"JOF_psfmatched_12880.h5\" (mode r+)>, interactive_outputs/MAG_APER_0_32 arcsec_fsps_larson_0_05__Asada24_cgm/, input_flux_err\n",
      "Zeropoint: 23.9\n",
      "{'TEMPLATES_FILE': '/nvme/scratch/work/tharvey/EAZY/inputs/scripts/templates/LarsonTemplates/tweak_fsps_QSF_12_v3_newtemplates.param', 'FILTERS_RES': '/nvme/scratch/work/tharvey/EXPANSE/src/EXPANSE/eazy/jwst_nircam_FILTER.RES', 'MW_EBV': 0, 'CAT_HAS_EXTCORR': False, 'ADD_CGM': True, 'Z_STEP': 0.01, 'Z_MIN': 0.01, 'Z_MAX': 20.0, 'TEMP_ERR_FILE': '/nvme/scratch/work/tharvey/EXPANSE/src/EXPANSE/eazy/TEMPLATE_ERROR.eazy_v1.0', 'TEMP_ERR_A2': 0, 'SYS_ERR': 0, 'APPLY_PRIOR': 'n', 'PRIOR_ABZP': 23.9, 'PRIOR_FILTER': 28, 'PRIOR_FILE': '', 'FIX_ZSPEC': False, 'IGM_SCALE_TAU': 1.0, 'N_MIN_COLORS': 2, 'CATALOG_FILE': '/tmp/tmpfbwsdqr_/eazy_input.fits'}\n",
      "Read default param file: /nvme/scratch/software/anaconda3/envs/tharvey_galfind/lib/python3.10/site-packages/eazy/data/zphot.param.default\n",
      "Read CATALOG_FILE: /tmp/tmpfbwsdqr_/eazy_input.fits\n",
      "   >>> NOBJ = 1\n",
      "F22 E22 ( 22): hst/ACS_update_sep07/wfc_f435w_t81.dat\n",
      "F23 E23 ( 23): hst/ACS_update_sep07/wfc_f606w_t81.dat\n",
      "F24 E24 ( 24): hst/ACS_update_sep07/wfc_f814w_t81.dat\n",
      "F50 E50 ( 50): hst/ACS_update_sep07/wfc_f850lp_t81.dat\n",
      "F1 E1 (  1): jwst_nircam_f090w\n",
      "F2 E2 (  2): jwst_nircam_f115w\n",
      "F3 E3 (  3): jwst_nircam_f150w\n",
      "F38 E38 ( 38): jwst_nircam_f162m\n",
      "F39 E39 ( 39): jwst_nircam_f182m\n",
      "F4 E4 (  4): jwst_nircam_f200w\n",
      "F40 E40 ( 40): jwst_nircam_f210m\n",
      "F41 E41 ( 41): jwst_nircam_f250m\n",
      "F5 E5 (  5): jwst_nircam_f277w\n",
      "F42 E42 ( 42): jwst_nircam_f300m\n",
      "F43 E43 ( 43): jwst_nircam_f335m\n",
      "F6 E6 (  6): jwst_nircam_f356w\n",
      "F7 E7 (  7): jwst_nircam_f410m\n",
      "F8 E8 (  8): jwst_nircam_f444w\n",
      "Set sys_err = 0.00 (positive=True)\n",
      "Template grid: /nvme/scratch/work/tharvey/EAZY/inputs/scripts/templates/LarsonTemplates/tweak_fsps_QSF_12_v3_newtemplates.param (this may take some time)\n"
     ]
    },
    {
     "name": "stderr",
     "output_type": "stream",
     "text": [
      "100%|██████████| 18/18 [00:11<00:00,  1.53it/s]\n"
     ]
    },
    {
     "name": "stdout",
     "output_type": "stream",
     "text": [
      "Template   0: fsps_QSF_12_v3_001.dat (NZ=1).\n",
      "Template   1: fsps_QSF_12_v3_002.dat (NZ=1).\n",
      "Template   2: fsps_QSF_12_v3_003.dat (NZ=1).\n",
      "Template   3: fsps_QSF_12_v3_004.dat (NZ=1).\n",
      "Template   4: fsps_QSF_12_v3_005.dat (NZ=1).\n",
      "Template   5: fsps_QSF_12_v3_006.dat (NZ=1).\n",
      "Template   6: fsps_QSF_12_v3_007.dat (NZ=1).\n",
      "Template   7: fsps_QSF_12_v3_008.dat (NZ=1).\n",
      "Template   8: fsps_QSF_12_v3_009.dat (NZ=1).\n",
      "Template   9: fsps_QSF_12_v3_010.dat (NZ=1).\n",
      "Template  10: fsps_QSF_12_v3_011.dat (NZ=1).\n",
      "Template  11: fsps_QSF_12_v3_012.dat (NZ=1).\n",
      "Template  12: binc100z001age6_cloudy.dat (NZ=1).\n",
      "Template  13: binc100z001age65_cloudy.dat (NZ=1).\n",
      "Template  14: binc100z001age7_cloudy.dat (NZ=1).\n",
      "Template  15: binc100z001age6.dat (NZ=1).\n",
      "Template  16: binc100z001age65.dat (NZ=1).\n",
      "Template  17: binc100z001age7.dat (NZ=1).\n",
      "Process templates: 12.220 s\n"
     ]
    },
    {
     "name": "stderr",
     "output_type": "stream",
     "text": [
      "304it [00:00, 22595.18it/s]"
     ]
    },
    {
     "name": "stdout",
     "output_type": "stream",
     "text": [
      "Saving tempfilt to /nvme/scratch/work/tharvey/EXPANSE/src/EXPANSE/eazy/tempfilt/\n"
     ]
    },
    {
     "name": "stderr",
     "output_type": "stream",
     "text": [
      "\n",
      "100%|██████████| 304/304 [00:00<00:00, 5306.04it/s]\n"
     ]
    },
    {
     "name": "stdout",
     "output_type": "stream",
     "text": [
      "Compute best fits\n",
      "fit_best: 0.0 s (n_proc=1,  NOBJ=1)\n",
      "Fit 0.4 s (n_proc=4, NOBJ=1)\n",
      "Setting meta, id_phot, 0\n",
      "Setting meta, z_best, 5.840781\n",
      "Setting meta, chi2, 17.458423140633112\n",
      "Setting meta, z16, 5.770674\n",
      "Setting meta, z50, 5.855494\n",
      "Setting meta, z84, 5.950074\n",
      "Setting meta, flux_unit, uJy\n",
      "Setting meta, wave_unit, Angstrom\n",
      "Setting meta, templates_file, /nvme/scratch/work/tharvey/EAZY/inputs/scripts/templates/LarsonTemplates/tweak_fsps_QSF_12_v3_newtemplates.param\n",
      "Setting meta, z_min, 0.01\n",
      "Setting meta, z_max, 20.0\n",
      "Setting meta, z_step, 0.01\n",
      "Setting meta, region, MAG_APER_0.32 arcsec_fsps_larson_0.05__Asada24_cgm\n",
      " added to <HDF5 file \"JOF_psfmatched_13059.h5\" (mode r+)>, interactive_outputs/MAG_APER_0_32 arcsec_fsps_larson_0_05__Asada24_cgm/, eazy_fit\n",
      " added to <HDF5 file \"JOF_psfmatched_13059.h5\" (mode r+)>, interactive_outputs/MAG_APER_0_32 arcsec_fsps_larson_0_05__Asada24_cgm/, p_z\n",
      " added to <HDF5 file \"JOF_psfmatched_13059.h5\" (mode r+)>, interactive_outputs/MAG_APER_0_32 arcsec_fsps_larson_0_05__Asada24_cgm/, input_flux\n",
      " added to <HDF5 file \"JOF_psfmatched_13059.h5\" (mode r+)>, interactive_outputs/MAG_APER_0_32 arcsec_fsps_larson_0_05__Asada24_cgm/, input_flux_err\n",
      "Zeropoint: 23.9\n",
      "{'TEMPLATES_FILE': '/nvme/scratch/work/tharvey/EAZY/inputs/scripts/templates/LarsonTemplates/tweak_fsps_QSF_12_v3_newtemplates.param', 'FILTERS_RES': '/nvme/scratch/work/tharvey/EXPANSE/src/EXPANSE/eazy/jwst_nircam_FILTER.RES', 'MW_EBV': 0, 'CAT_HAS_EXTCORR': False, 'ADD_CGM': True, 'Z_STEP': 0.01, 'Z_MIN': 0.01, 'Z_MAX': 20.0, 'TEMP_ERR_FILE': '/nvme/scratch/work/tharvey/EXPANSE/src/EXPANSE/eazy/TEMPLATE_ERROR.eazy_v1.0', 'TEMP_ERR_A2': 0, 'SYS_ERR': 0, 'APPLY_PRIOR': 'n', 'PRIOR_ABZP': 23.9, 'PRIOR_FILTER': 28, 'PRIOR_FILE': '', 'FIX_ZSPEC': False, 'IGM_SCALE_TAU': 1.0, 'N_MIN_COLORS': 2, 'CATALOG_FILE': '/tmp/tmp8ep95fd3/eazy_input.fits'}\n",
      "Read default param file: /nvme/scratch/software/anaconda3/envs/tharvey_galfind/lib/python3.10/site-packages/eazy/data/zphot.param.default\n",
      "Read CATALOG_FILE: /tmp/tmp8ep95fd3/eazy_input.fits\n",
      "   >>> NOBJ = 1\n",
      "F22 E22 ( 22): hst/ACS_update_sep07/wfc_f435w_t81.dat\n",
      "F23 E23 ( 23): hst/ACS_update_sep07/wfc_f606w_t81.dat\n",
      "F49 E49 ( 49): hst/ACS_update_sep07/wfc_f775w_t81.dat\n",
      "F24 E24 ( 24): hst/ACS_update_sep07/wfc_f814w_t81.dat\n",
      "F50 E50 ( 50): hst/ACS_update_sep07/wfc_f850lp_t81.dat\n",
      "F1 E1 (  1): jwst_nircam_f090w\n",
      "F2 E2 (  2): jwst_nircam_f115w\n",
      "F3 E3 (  3): jwst_nircam_f150w\n",
      "F38 E38 ( 38): jwst_nircam_f162m\n",
      "F39 E39 ( 39): jwst_nircam_f182m\n",
      "F4 E4 (  4): jwst_nircam_f200w\n",
      "F40 E40 ( 40): jwst_nircam_f210m\n",
      "F41 E41 ( 41): jwst_nircam_f250m\n",
      "F5 E5 (  5): jwst_nircam_f277w\n",
      "F42 E42 ( 42): jwst_nircam_f300m\n",
      "F43 E43 ( 43): jwst_nircam_f335m\n",
      "F6 E6 (  6): jwst_nircam_f356w\n",
      "F7 E7 (  7): jwst_nircam_f410m\n",
      "F8 E8 (  8): jwst_nircam_f444w\n",
      "Set sys_err = 0.00 (positive=True)\n",
      "Template grid: /nvme/scratch/work/tharvey/EAZY/inputs/scripts/templates/LarsonTemplates/tweak_fsps_QSF_12_v3_newtemplates.param (this may take some time)\n"
     ]
    },
    {
     "name": "stderr",
     "output_type": "stream",
     "text": [
      "100%|██████████| 18/18 [00:12<00:00,  1.42it/s]\n"
     ]
    },
    {
     "name": "stdout",
     "output_type": "stream",
     "text": [
      "Template   0: fsps_QSF_12_v3_001.dat (NZ=1).\n",
      "Template   1: fsps_QSF_12_v3_002.dat (NZ=1).\n",
      "Template   2: fsps_QSF_12_v3_003.dat (NZ=1).\n",
      "Template   3: fsps_QSF_12_v3_004.dat (NZ=1).\n",
      "Template   4: fsps_QSF_12_v3_005.dat (NZ=1).\n",
      "Template   5: fsps_QSF_12_v3_006.dat (NZ=1).\n",
      "Template   6: fsps_QSF_12_v3_007.dat (NZ=1).\n",
      "Template   7: fsps_QSF_12_v3_008.dat (NZ=1).\n",
      "Template   8: fsps_QSF_12_v3_009.dat (NZ=1).\n",
      "Template   9: fsps_QSF_12_v3_010.dat (NZ=1).\n",
      "Template  10: fsps_QSF_12_v3_011.dat (NZ=1).\n",
      "Template  11: fsps_QSF_12_v3_012.dat (NZ=1).\n",
      "Template  12: binc100z001age6_cloudy.dat (NZ=1).\n",
      "Template  13: binc100z001age65_cloudy.dat (NZ=1).\n",
      "Template  14: binc100z001age7_cloudy.dat (NZ=1).\n",
      "Template  15: binc100z001age6.dat (NZ=1).\n",
      "Template  16: binc100z001age65.dat (NZ=1).\n",
      "Template  17: binc100z001age7.dat (NZ=1).\n",
      "Process templates: 13.177 s\n"
     ]
    },
    {
     "name": "stderr",
     "output_type": "stream",
     "text": [
      "304it [00:00, 27021.03it/s]"
     ]
    },
    {
     "name": "stdout",
     "output_type": "stream",
     "text": [
      "Saving tempfilt to /nvme/scratch/work/tharvey/EXPANSE/src/EXPANSE/eazy/tempfilt/\n"
     ]
    },
    {
     "name": "stderr",
     "output_type": "stream",
     "text": [
      "\n",
      "100%|██████████| 304/304 [00:00<00:00, 5959.35it/s]\n"
     ]
    },
    {
     "name": "stdout",
     "output_type": "stream",
     "text": [
      "Compute best fits\n",
      "fit_best: 0.0 s (n_proc=1,  NOBJ=1)\n",
      "Fit 0.4 s (n_proc=4, NOBJ=1)\n",
      "Setting meta, id_phot, 0\n",
      "Setting meta, z_best, 9.223761\n",
      "Setting meta, chi2, 13.587034822840568\n",
      "Setting meta, z16, 9.11571\n",
      "Setting meta, z50, 9.296109\n",
      "Setting meta, z84, 9.565756\n",
      "Setting meta, flux_unit, uJy\n",
      "Setting meta, wave_unit, Angstrom\n",
      "Setting meta, templates_file, /nvme/scratch/work/tharvey/EAZY/inputs/scripts/templates/LarsonTemplates/tweak_fsps_QSF_12_v3_newtemplates.param\n",
      "Setting meta, z_min, 0.01\n",
      "Setting meta, z_max, 20.0\n",
      "Setting meta, z_step, 0.01\n",
      "Setting meta, region, MAG_APER_0.32 arcsec_fsps_larson_0.05__Asada24_cgm\n",
      " added to <HDF5 file \"JOF_psfmatched_13097.h5\" (mode r+)>, interactive_outputs/MAG_APER_0_32 arcsec_fsps_larson_0_05__Asada24_cgm/, eazy_fit\n",
      " added to <HDF5 file \"JOF_psfmatched_13097.h5\" (mode r+)>, interactive_outputs/MAG_APER_0_32 arcsec_fsps_larson_0_05__Asada24_cgm/, p_z\n",
      " added to <HDF5 file \"JOF_psfmatched_13097.h5\" (mode r+)>, interactive_outputs/MAG_APER_0_32 arcsec_fsps_larson_0_05__Asada24_cgm/, input_flux\n",
      " added to <HDF5 file \"JOF_psfmatched_13097.h5\" (mode r+)>, interactive_outputs/MAG_APER_0_32 arcsec_fsps_larson_0_05__Asada24_cgm/, input_flux_err\n",
      "Zeropoint: 23.9\n",
      "{'TEMPLATES_FILE': '/nvme/scratch/work/tharvey/EAZY/inputs/scripts/templates/LarsonTemplates/tweak_fsps_QSF_12_v3_newtemplates.param', 'FILTERS_RES': '/nvme/scratch/work/tharvey/EXPANSE/src/EXPANSE/eazy/jwst_nircam_FILTER.RES', 'MW_EBV': 0, 'CAT_HAS_EXTCORR': False, 'ADD_CGM': True, 'Z_STEP': 0.01, 'Z_MIN': 0.01, 'Z_MAX': 20.0, 'TEMP_ERR_FILE': '/nvme/scratch/work/tharvey/EXPANSE/src/EXPANSE/eazy/TEMPLATE_ERROR.eazy_v1.0', 'TEMP_ERR_A2': 0, 'SYS_ERR': 0, 'APPLY_PRIOR': 'n', 'PRIOR_ABZP': 23.9, 'PRIOR_FILTER': 28, 'PRIOR_FILE': '', 'FIX_ZSPEC': False, 'IGM_SCALE_TAU': 1.0, 'N_MIN_COLORS': 2, 'CATALOG_FILE': '/tmp/tmpcqqt6ogk/eazy_input.fits'}\n",
      "Read default param file: /nvme/scratch/software/anaconda3/envs/tharvey_galfind/lib/python3.10/site-packages/eazy/data/zphot.param.default\n",
      "Read CATALOG_FILE: /tmp/tmpcqqt6ogk/eazy_input.fits\n",
      "   >>> NOBJ = 1\n",
      "F22 E22 ( 22): hst/ACS_update_sep07/wfc_f435w_t81.dat\n",
      "F23 E23 ( 23): hst/ACS_update_sep07/wfc_f606w_t81.dat\n",
      "F49 E49 ( 49): hst/ACS_update_sep07/wfc_f775w_t81.dat\n",
      "F24 E24 ( 24): hst/ACS_update_sep07/wfc_f814w_t81.dat\n",
      "F50 E50 ( 50): hst/ACS_update_sep07/wfc_f850lp_t81.dat\n",
      "F1 E1 (  1): jwst_nircam_f090w\n",
      "F2 E2 (  2): jwst_nircam_f115w\n",
      "F3 E3 (  3): jwst_nircam_f150w\n",
      "F38 E38 ( 38): jwst_nircam_f162m\n",
      "F39 E39 ( 39): jwst_nircam_f182m\n",
      "F4 E4 (  4): jwst_nircam_f200w\n",
      "F40 E40 ( 40): jwst_nircam_f210m\n",
      "F41 E41 ( 41): jwst_nircam_f250m\n",
      "F5 E5 (  5): jwst_nircam_f277w\n",
      "F42 E42 ( 42): jwst_nircam_f300m\n",
      "F43 E43 ( 43): jwst_nircam_f335m\n",
      "F6 E6 (  6): jwst_nircam_f356w\n",
      "F7 E7 (  7): jwst_nircam_f410m\n",
      "F8 E8 (  8): jwst_nircam_f444w\n",
      "Set sys_err = 0.00 (positive=True)\n",
      "Template grid: /nvme/scratch/work/tharvey/EAZY/inputs/scripts/templates/LarsonTemplates/tweak_fsps_QSF_12_v3_newtemplates.param (this may take some time)\n"
     ]
    },
    {
     "name": "stderr",
     "output_type": "stream",
     "text": [
      "100%|██████████| 18/18 [00:12<00:00,  1.49it/s]\n"
     ]
    },
    {
     "name": "stdout",
     "output_type": "stream",
     "text": [
      "Template   0: fsps_QSF_12_v3_001.dat (NZ=1).\n",
      "Template   1: fsps_QSF_12_v3_002.dat (NZ=1).\n",
      "Template   2: fsps_QSF_12_v3_003.dat (NZ=1).\n",
      "Template   3: fsps_QSF_12_v3_004.dat (NZ=1).\n",
      "Template   4: fsps_QSF_12_v3_005.dat (NZ=1).\n",
      "Template   5: fsps_QSF_12_v3_006.dat (NZ=1).\n",
      "Template   6: fsps_QSF_12_v3_007.dat (NZ=1).\n",
      "Template   7: fsps_QSF_12_v3_008.dat (NZ=1).\n",
      "Template   8: fsps_QSF_12_v3_009.dat (NZ=1).\n",
      "Template   9: fsps_QSF_12_v3_010.dat (NZ=1).\n",
      "Template  10: fsps_QSF_12_v3_011.dat (NZ=1).\n",
      "Template  11: fsps_QSF_12_v3_012.dat (NZ=1).\n",
      "Template  12: binc100z001age6_cloudy.dat (NZ=1).\n",
      "Template  13: binc100z001age65_cloudy.dat (NZ=1).\n",
      "Template  14: binc100z001age7_cloudy.dat (NZ=1).\n",
      "Template  15: binc100z001age6.dat (NZ=1).\n",
      "Template  16: binc100z001age65.dat (NZ=1).\n",
      "Template  17: binc100z001age7.dat (NZ=1).\n",
      "Process templates: 12.596 s\n"
     ]
    },
    {
     "name": "stderr",
     "output_type": "stream",
     "text": [
      "304it [00:00, 27310.41it/s]"
     ]
    },
    {
     "name": "stdout",
     "output_type": "stream",
     "text": [
      "Saving tempfilt to /nvme/scratch/work/tharvey/EXPANSE/src/EXPANSE/eazy/tempfilt/\n"
     ]
    },
    {
     "name": "stderr",
     "output_type": "stream",
     "text": [
      "\n",
      "100%|██████████| 304/304 [00:00<00:00, 4955.09it/s]\n"
     ]
    },
    {
     "name": "stdout",
     "output_type": "stream",
     "text": [
      "Compute best fits\n",
      "fit_best: 0.0 s (n_proc=1,  NOBJ=1)\n",
      "Fit 0.4 s (n_proc=4, NOBJ=1)\n",
      "Setting meta, id_phot, 0\n",
      "Setting meta, z_best, 9.404525\n",
      "Setting meta, chi2, 14.728931782265041\n",
      "Setting meta, z16, 9.226982\n",
      "Setting meta, z50, 9.543672\n",
      "Setting meta, z84, 9.883346\n",
      "Setting meta, flux_unit, uJy\n",
      "Setting meta, wave_unit, Angstrom\n",
      "Setting meta, templates_file, /nvme/scratch/work/tharvey/EAZY/inputs/scripts/templates/LarsonTemplates/tweak_fsps_QSF_12_v3_newtemplates.param\n",
      "Setting meta, z_min, 0.01\n",
      "Setting meta, z_max, 20.0\n",
      "Setting meta, z_step, 0.01\n",
      "Setting meta, region, MAG_APER_0.32 arcsec_fsps_larson_0.05__Asada24_cgm\n",
      " added to <HDF5 file \"JOF_psfmatched_13136.h5\" (mode r+)>, interactive_outputs/MAG_APER_0_32 arcsec_fsps_larson_0_05__Asada24_cgm/, eazy_fit\n",
      " added to <HDF5 file \"JOF_psfmatched_13136.h5\" (mode r+)>, interactive_outputs/MAG_APER_0_32 arcsec_fsps_larson_0_05__Asada24_cgm/, p_z\n",
      " added to <HDF5 file \"JOF_psfmatched_13136.h5\" (mode r+)>, interactive_outputs/MAG_APER_0_32 arcsec_fsps_larson_0_05__Asada24_cgm/, input_flux\n",
      " added to <HDF5 file \"JOF_psfmatched_13136.h5\" (mode r+)>, interactive_outputs/MAG_APER_0_32 arcsec_fsps_larson_0_05__Asada24_cgm/, input_flux_err\n",
      "Zeropoint: 23.9\n",
      "{'TEMPLATES_FILE': '/nvme/scratch/work/tharvey/EAZY/inputs/scripts/templates/LarsonTemplates/tweak_fsps_QSF_12_v3_newtemplates.param', 'FILTERS_RES': '/nvme/scratch/work/tharvey/EXPANSE/src/EXPANSE/eazy/jwst_nircam_FILTER.RES', 'MW_EBV': 0, 'CAT_HAS_EXTCORR': False, 'ADD_CGM': True, 'Z_STEP': 0.01, 'Z_MIN': 0.01, 'Z_MAX': 20.0, 'TEMP_ERR_FILE': '/nvme/scratch/work/tharvey/EXPANSE/src/EXPANSE/eazy/TEMPLATE_ERROR.eazy_v1.0', 'TEMP_ERR_A2': 0, 'SYS_ERR': 0, 'APPLY_PRIOR': 'n', 'PRIOR_ABZP': 23.9, 'PRIOR_FILTER': 28, 'PRIOR_FILE': '', 'FIX_ZSPEC': False, 'IGM_SCALE_TAU': 1.0, 'N_MIN_COLORS': 2, 'CATALOG_FILE': '/tmp/tmplq0hu78i/eazy_input.fits'}\n",
      "Read default param file: /nvme/scratch/software/anaconda3/envs/tharvey_galfind/lib/python3.10/site-packages/eazy/data/zphot.param.default\n",
      "Read CATALOG_FILE: /tmp/tmplq0hu78i/eazy_input.fits\n",
      "   >>> NOBJ = 1\n",
      "F22 E22 ( 22): hst/ACS_update_sep07/wfc_f435w_t81.dat\n",
      "F23 E23 ( 23): hst/ACS_update_sep07/wfc_f606w_t81.dat\n",
      "F49 E49 ( 49): hst/ACS_update_sep07/wfc_f775w_t81.dat\n",
      "F24 E24 ( 24): hst/ACS_update_sep07/wfc_f814w_t81.dat\n",
      "F50 E50 ( 50): hst/ACS_update_sep07/wfc_f850lp_t81.dat\n",
      "F1 E1 (  1): jwst_nircam_f090w\n",
      "F2 E2 (  2): jwst_nircam_f115w\n",
      "F3 E3 (  3): jwst_nircam_f150w\n",
      "F38 E38 ( 38): jwst_nircam_f162m\n",
      "F39 E39 ( 39): jwst_nircam_f182m\n",
      "F4 E4 (  4): jwst_nircam_f200w\n",
      "F40 E40 ( 40): jwst_nircam_f210m\n",
      "F41 E41 ( 41): jwst_nircam_f250m\n",
      "F5 E5 (  5): jwst_nircam_f277w\n",
      "F42 E42 ( 42): jwst_nircam_f300m\n",
      "F43 E43 ( 43): jwst_nircam_f335m\n",
      "F6 E6 (  6): jwst_nircam_f356w\n",
      "F7 E7 (  7): jwst_nircam_f410m\n",
      "F8 E8 (  8): jwst_nircam_f444w\n",
      "Set sys_err = 0.00 (positive=True)\n",
      "Template grid: /nvme/scratch/work/tharvey/EAZY/inputs/scripts/templates/LarsonTemplates/tweak_fsps_QSF_12_v3_newtemplates.param (this may take some time)\n"
     ]
    },
    {
     "name": "stderr",
     "output_type": "stream",
     "text": [
      "100%|██████████| 18/18 [00:12<00:00,  1.46it/s]\n"
     ]
    },
    {
     "name": "stdout",
     "output_type": "stream",
     "text": [
      "Template   0: fsps_QSF_12_v3_001.dat (NZ=1).\n",
      "Template   1: fsps_QSF_12_v3_002.dat (NZ=1).\n",
      "Template   2: fsps_QSF_12_v3_003.dat (NZ=1).\n",
      "Template   3: fsps_QSF_12_v3_004.dat (NZ=1).\n",
      "Template   4: fsps_QSF_12_v3_005.dat (NZ=1).\n",
      "Template   5: fsps_QSF_12_v3_006.dat (NZ=1).\n",
      "Template   6: fsps_QSF_12_v3_007.dat (NZ=1).\n",
      "Template   7: fsps_QSF_12_v3_008.dat (NZ=1).\n",
      "Template   8: fsps_QSF_12_v3_009.dat (NZ=1).\n",
      "Template   9: fsps_QSF_12_v3_010.dat (NZ=1).\n",
      "Template  10: fsps_QSF_12_v3_011.dat (NZ=1).\n",
      "Template  11: fsps_QSF_12_v3_012.dat (NZ=1).\n",
      "Template  12: binc100z001age6_cloudy.dat (NZ=1).\n",
      "Template  13: binc100z001age65_cloudy.dat (NZ=1).\n",
      "Template  14: binc100z001age7_cloudy.dat (NZ=1).\n",
      "Template  15: binc100z001age6.dat (NZ=1).\n",
      "Template  16: binc100z001age65.dat (NZ=1).\n",
      "Template  17: binc100z001age7.dat (NZ=1).\n",
      "Process templates: 12.754 s\n"
     ]
    },
    {
     "name": "stderr",
     "output_type": "stream",
     "text": [
      "304it [00:00, 18169.84it/s]"
     ]
    },
    {
     "name": "stdout",
     "output_type": "stream",
     "text": [
      "Saving tempfilt to /nvme/scratch/work/tharvey/EXPANSE/src/EXPANSE/eazy/tempfilt/\n"
     ]
    },
    {
     "name": "stderr",
     "output_type": "stream",
     "text": [
      "\n",
      "100%|██████████| 304/304 [00:00<00:00, 6290.11it/s]\n"
     ]
    },
    {
     "name": "stdout",
     "output_type": "stream",
     "text": [
      "Compute best fits\n",
      "fit_best: 0.0 s (n_proc=1,  NOBJ=1)\n",
      "Fit 0.5 s (n_proc=4, NOBJ=1)\n",
      "Setting meta, id_phot, 0\n",
      "Setting meta, z_best, 7.114011\n",
      "Setting meta, chi2, 17.784129659360975\n",
      "Setting meta, z16, 7.078939\n",
      "Setting meta, z50, 7.2237816\n",
      "Setting meta, z84, 7.4108295\n",
      "Setting meta, flux_unit, uJy\n",
      "Setting meta, wave_unit, Angstrom\n",
      "Setting meta, templates_file, /nvme/scratch/work/tharvey/EAZY/inputs/scripts/templates/LarsonTemplates/tweak_fsps_QSF_12_v3_newtemplates.param\n",
      "Setting meta, z_min, 0.01\n",
      "Setting meta, z_max, 20.0\n",
      "Setting meta, z_step, 0.01\n",
      "Setting meta, region, MAG_APER_0.32 arcsec_fsps_larson_0.05__Asada24_cgm\n",
      " added to <HDF5 file \"JOF_psfmatched_13322.h5\" (mode r+)>, interactive_outputs/MAG_APER_0_32 arcsec_fsps_larson_0_05__Asada24_cgm/, eazy_fit\n",
      " added to <HDF5 file \"JOF_psfmatched_13322.h5\" (mode r+)>, interactive_outputs/MAG_APER_0_32 arcsec_fsps_larson_0_05__Asada24_cgm/, p_z\n",
      " added to <HDF5 file \"JOF_psfmatched_13322.h5\" (mode r+)>, interactive_outputs/MAG_APER_0_32 arcsec_fsps_larson_0_05__Asada24_cgm/, input_flux\n",
      " added to <HDF5 file \"JOF_psfmatched_13322.h5\" (mode r+)>, interactive_outputs/MAG_APER_0_32 arcsec_fsps_larson_0_05__Asada24_cgm/, input_flux_err\n",
      "Zeropoint: 23.9\n",
      "{'TEMPLATES_FILE': '/nvme/scratch/work/tharvey/EAZY/inputs/scripts/templates/LarsonTemplates/tweak_fsps_QSF_12_v3_newtemplates.param', 'FILTERS_RES': '/nvme/scratch/work/tharvey/EXPANSE/src/EXPANSE/eazy/jwst_nircam_FILTER.RES', 'MW_EBV': 0, 'CAT_HAS_EXTCORR': False, 'ADD_CGM': True, 'Z_STEP': 0.01, 'Z_MIN': 0.01, 'Z_MAX': 20.0, 'TEMP_ERR_FILE': '/nvme/scratch/work/tharvey/EXPANSE/src/EXPANSE/eazy/TEMPLATE_ERROR.eazy_v1.0', 'TEMP_ERR_A2': 0, 'SYS_ERR': 0, 'APPLY_PRIOR': 'n', 'PRIOR_ABZP': 23.9, 'PRIOR_FILTER': 28, 'PRIOR_FILE': '', 'FIX_ZSPEC': False, 'IGM_SCALE_TAU': 1.0, 'N_MIN_COLORS': 2, 'CATALOG_FILE': '/tmp/tmpi3iwidjk/eazy_input.fits'}\n",
      "Read default param file: /nvme/scratch/software/anaconda3/envs/tharvey_galfind/lib/python3.10/site-packages/eazy/data/zphot.param.default\n",
      "Read CATALOG_FILE: /tmp/tmpi3iwidjk/eazy_input.fits\n",
      "   >>> NOBJ = 1\n",
      "F22 E22 ( 22): hst/ACS_update_sep07/wfc_f435w_t81.dat\n",
      "F23 E23 ( 23): hst/ACS_update_sep07/wfc_f606w_t81.dat\n",
      "F24 E24 ( 24): hst/ACS_update_sep07/wfc_f814w_t81.dat\n",
      "F50 E50 ( 50): hst/ACS_update_sep07/wfc_f850lp_t81.dat\n",
      "F1 E1 (  1): jwst_nircam_f090w\n",
      "F2 E2 (  2): jwst_nircam_f115w\n",
      "F3 E3 (  3): jwst_nircam_f150w\n",
      "F38 E38 ( 38): jwst_nircam_f162m\n",
      "F39 E39 ( 39): jwst_nircam_f182m\n",
      "F4 E4 (  4): jwst_nircam_f200w\n",
      "F40 E40 ( 40): jwst_nircam_f210m\n",
      "F41 E41 ( 41): jwst_nircam_f250m\n",
      "F5 E5 (  5): jwst_nircam_f277w\n",
      "F42 E42 ( 42): jwst_nircam_f300m\n",
      "F43 E43 ( 43): jwst_nircam_f335m\n",
      "F6 E6 (  6): jwst_nircam_f356w\n",
      "F7 E7 (  7): jwst_nircam_f410m\n",
      "F8 E8 (  8): jwst_nircam_f444w\n",
      "Set sys_err = 0.00 (positive=True)\n",
      "Template grid: /nvme/scratch/work/tharvey/EAZY/inputs/scripts/templates/LarsonTemplates/tweak_fsps_QSF_12_v3_newtemplates.param (this may take some time)\n"
     ]
    },
    {
     "name": "stderr",
     "output_type": "stream",
     "text": [
      "100%|██████████| 18/18 [00:11<00:00,  1.50it/s]\n"
     ]
    },
    {
     "name": "stdout",
     "output_type": "stream",
     "text": [
      "Template   0: fsps_QSF_12_v3_001.dat (NZ=1).\n",
      "Template   1: fsps_QSF_12_v3_002.dat (NZ=1).\n",
      "Template   2: fsps_QSF_12_v3_003.dat (NZ=1).\n",
      "Template   3: fsps_QSF_12_v3_004.dat (NZ=1).\n",
      "Template   4: fsps_QSF_12_v3_005.dat (NZ=1).\n",
      "Template   5: fsps_QSF_12_v3_006.dat (NZ=1).\n",
      "Template   6: fsps_QSF_12_v3_007.dat (NZ=1).\n",
      "Template   7: fsps_QSF_12_v3_008.dat (NZ=1).\n",
      "Template   8: fsps_QSF_12_v3_009.dat (NZ=1).\n",
      "Template   9: fsps_QSF_12_v3_010.dat (NZ=1).\n",
      "Template  10: fsps_QSF_12_v3_011.dat (NZ=1).\n",
      "Template  11: fsps_QSF_12_v3_012.dat (NZ=1).\n",
      "Template  12: binc100z001age6_cloudy.dat (NZ=1).\n",
      "Template  13: binc100z001age65_cloudy.dat (NZ=1).\n",
      "Template  14: binc100z001age7_cloudy.dat (NZ=1).\n",
      "Template  15: binc100z001age6.dat (NZ=1).\n",
      "Template  16: binc100z001age65.dat (NZ=1).\n",
      "Template  17: binc100z001age7.dat (NZ=1).\n",
      "Process templates: 12.430 s\n"
     ]
    },
    {
     "name": "stderr",
     "output_type": "stream",
     "text": [
      "304it [00:00, 17473.87it/s]"
     ]
    },
    {
     "name": "stdout",
     "output_type": "stream",
     "text": [
      "Saving tempfilt to /nvme/scratch/work/tharvey/EXPANSE/src/EXPANSE/eazy/tempfilt/\n"
     ]
    },
    {
     "name": "stderr",
     "output_type": "stream",
     "text": [
      "\n",
      "100%|██████████| 304/304 [00:00<00:00, 5475.59it/s]\n"
     ]
    },
    {
     "name": "stdout",
     "output_type": "stream",
     "text": [
      "Compute best fits\n",
      "fit_best: 0.0 s (n_proc=1,  NOBJ=1)\n",
      "Fit 0.4 s (n_proc=4, NOBJ=1)\n",
      "Setting meta, id_phot, 0\n",
      "Setting meta, z_best, 6.1808057\n",
      "Setting meta, chi2, 25.46065791257292\n",
      "Setting meta, z16, 6.132467\n",
      "Setting meta, z50, 6.192823\n",
      "Setting meta, z84, 6.2939944\n",
      "Setting meta, flux_unit, uJy\n",
      "Setting meta, wave_unit, Angstrom\n",
      "Setting meta, templates_file, /nvme/scratch/work/tharvey/EAZY/inputs/scripts/templates/LarsonTemplates/tweak_fsps_QSF_12_v3_newtemplates.param\n",
      "Setting meta, z_min, 0.01\n",
      "Setting meta, z_max, 20.0\n",
      "Setting meta, z_step, 0.01\n",
      "Setting meta, region, MAG_APER_0.32 arcsec_fsps_larson_0.05__Asada24_cgm\n",
      " added to <HDF5 file \"JOF_psfmatched_13330.h5\" (mode r+)>, interactive_outputs/MAG_APER_0_32 arcsec_fsps_larson_0_05__Asada24_cgm/, eazy_fit\n",
      " added to <HDF5 file \"JOF_psfmatched_13330.h5\" (mode r+)>, interactive_outputs/MAG_APER_0_32 arcsec_fsps_larson_0_05__Asada24_cgm/, p_z\n",
      " added to <HDF5 file \"JOF_psfmatched_13330.h5\" (mode r+)>, interactive_outputs/MAG_APER_0_32 arcsec_fsps_larson_0_05__Asada24_cgm/, input_flux\n",
      " added to <HDF5 file \"JOF_psfmatched_13330.h5\" (mode r+)>, interactive_outputs/MAG_APER_0_32 arcsec_fsps_larson_0_05__Asada24_cgm/, input_flux_err\n",
      "Zeropoint: 23.9\n",
      "{'TEMPLATES_FILE': '/nvme/scratch/work/tharvey/EAZY/inputs/scripts/templates/LarsonTemplates/tweak_fsps_QSF_12_v3_newtemplates.param', 'FILTERS_RES': '/nvme/scratch/work/tharvey/EXPANSE/src/EXPANSE/eazy/jwst_nircam_FILTER.RES', 'MW_EBV': 0, 'CAT_HAS_EXTCORR': False, 'ADD_CGM': True, 'Z_STEP': 0.01, 'Z_MIN': 0.01, 'Z_MAX': 20.0, 'TEMP_ERR_FILE': '/nvme/scratch/work/tharvey/EXPANSE/src/EXPANSE/eazy/TEMPLATE_ERROR.eazy_v1.0', 'TEMP_ERR_A2': 0, 'SYS_ERR': 0, 'APPLY_PRIOR': 'n', 'PRIOR_ABZP': 23.9, 'PRIOR_FILTER': 28, 'PRIOR_FILE': '', 'FIX_ZSPEC': False, 'IGM_SCALE_TAU': 1.0, 'N_MIN_COLORS': 2, 'CATALOG_FILE': '/tmp/tmp8sd_ugag/eazy_input.fits'}\n",
      "Read default param file: /nvme/scratch/software/anaconda3/envs/tharvey_galfind/lib/python3.10/site-packages/eazy/data/zphot.param.default\n",
      "Read CATALOG_FILE: /tmp/tmp8sd_ugag/eazy_input.fits\n",
      "   >>> NOBJ = 1\n",
      "F22 E22 ( 22): hst/ACS_update_sep07/wfc_f435w_t81.dat\n",
      "F23 E23 ( 23): hst/ACS_update_sep07/wfc_f606w_t81.dat\n",
      "F49 E49 ( 49): hst/ACS_update_sep07/wfc_f775w_t81.dat\n",
      "F24 E24 ( 24): hst/ACS_update_sep07/wfc_f814w_t81.dat\n",
      "F50 E50 ( 50): hst/ACS_update_sep07/wfc_f850lp_t81.dat\n",
      "F1 E1 (  1): jwst_nircam_f090w\n",
      "F2 E2 (  2): jwst_nircam_f115w\n",
      "F3 E3 (  3): jwst_nircam_f150w\n",
      "F38 E38 ( 38): jwst_nircam_f162m\n",
      "F39 E39 ( 39): jwst_nircam_f182m\n",
      "F4 E4 (  4): jwst_nircam_f200w\n",
      "F40 E40 ( 40): jwst_nircam_f210m\n",
      "F41 E41 ( 41): jwst_nircam_f250m\n",
      "F5 E5 (  5): jwst_nircam_f277w\n",
      "F42 E42 ( 42): jwst_nircam_f300m\n",
      "F43 E43 ( 43): jwst_nircam_f335m\n",
      "F6 E6 (  6): jwst_nircam_f356w\n",
      "F7 E7 (  7): jwst_nircam_f410m\n",
      "F8 E8 (  8): jwst_nircam_f444w\n",
      "Set sys_err = 0.00 (positive=True)\n",
      "Template grid: /nvme/scratch/work/tharvey/EAZY/inputs/scripts/templates/LarsonTemplates/tweak_fsps_QSF_12_v3_newtemplates.param (this may take some time)\n"
     ]
    },
    {
     "name": "stderr",
     "output_type": "stream",
     "text": [
      "100%|██████████| 18/18 [00:12<00:00,  1.47it/s]\n"
     ]
    },
    {
     "name": "stdout",
     "output_type": "stream",
     "text": [
      "Template   0: fsps_QSF_12_v3_001.dat (NZ=1).\n",
      "Template   1: fsps_QSF_12_v3_002.dat (NZ=1).\n",
      "Template   2: fsps_QSF_12_v3_003.dat (NZ=1).\n",
      "Template   3: fsps_QSF_12_v3_004.dat (NZ=1).\n",
      "Template   4: fsps_QSF_12_v3_005.dat (NZ=1).\n",
      "Template   5: fsps_QSF_12_v3_006.dat (NZ=1).\n",
      "Template   6: fsps_QSF_12_v3_007.dat (NZ=1).\n",
      "Template   7: fsps_QSF_12_v3_008.dat (NZ=1).\n",
      "Template   8: fsps_QSF_12_v3_009.dat (NZ=1).\n",
      "Template   9: fsps_QSF_12_v3_010.dat (NZ=1).\n",
      "Template  10: fsps_QSF_12_v3_011.dat (NZ=1).\n",
      "Template  11: fsps_QSF_12_v3_012.dat (NZ=1).\n",
      "Template  12: binc100z001age6_cloudy.dat (NZ=1).\n",
      "Template  13: binc100z001age65_cloudy.dat (NZ=1).\n",
      "Template  14: binc100z001age7_cloudy.dat (NZ=1).\n",
      "Template  15: binc100z001age6.dat (NZ=1).\n",
      "Template  16: binc100z001age65.dat (NZ=1).\n",
      "Template  17: binc100z001age7.dat (NZ=1).\n",
      "Process templates: 12.729 s\n"
     ]
    },
    {
     "name": "stderr",
     "output_type": "stream",
     "text": [
      "304it [00:00, 16599.43it/s]"
     ]
    },
    {
     "name": "stdout",
     "output_type": "stream",
     "text": [
      "Saving tempfilt to /nvme/scratch/work/tharvey/EXPANSE/src/EXPANSE/eazy/tempfilt/\n"
     ]
    },
    {
     "name": "stderr",
     "output_type": "stream",
     "text": [
      "\n",
      "100%|██████████| 304/304 [00:00<00:00, 4930.77it/s]\n"
     ]
    },
    {
     "name": "stdout",
     "output_type": "stream",
     "text": [
      "Compute best fits\n",
      "fit_best: 0.0 s (n_proc=1,  NOBJ=1)\n",
      "Fit 0.5 s (n_proc=4, NOBJ=1)\n",
      "Setting meta, id_phot, 0\n",
      "Setting meta, z_best, 6.3288865\n",
      "Setting meta, chi2, 25.805131271886534\n",
      "Setting meta, z16, 6.2698145\n",
      "Setting meta, z50, 6.3381543\n",
      "Setting meta, z84, 6.429452\n",
      "Setting meta, flux_unit, uJy\n",
      "Setting meta, wave_unit, Angstrom\n",
      "Setting meta, templates_file, /nvme/scratch/work/tharvey/EAZY/inputs/scripts/templates/LarsonTemplates/tweak_fsps_QSF_12_v3_newtemplates.param\n",
      "Setting meta, z_min, 0.01\n",
      "Setting meta, z_max, 20.0\n",
      "Setting meta, z_step, 0.01\n",
      "Setting meta, region, MAG_APER_0.32 arcsec_fsps_larson_0.05__Asada24_cgm\n",
      " added to <HDF5 file \"JOF_psfmatched_13344.h5\" (mode r+)>, interactive_outputs/MAG_APER_0_32 arcsec_fsps_larson_0_05__Asada24_cgm/, eazy_fit\n",
      " added to <HDF5 file \"JOF_psfmatched_13344.h5\" (mode r+)>, interactive_outputs/MAG_APER_0_32 arcsec_fsps_larson_0_05__Asada24_cgm/, p_z\n",
      " added to <HDF5 file \"JOF_psfmatched_13344.h5\" (mode r+)>, interactive_outputs/MAG_APER_0_32 arcsec_fsps_larson_0_05__Asada24_cgm/, input_flux\n",
      " added to <HDF5 file \"JOF_psfmatched_13344.h5\" (mode r+)>, interactive_outputs/MAG_APER_0_32 arcsec_fsps_larson_0_05__Asada24_cgm/, input_flux_err\n",
      "Zeropoint: 23.9\n",
      "{'TEMPLATES_FILE': '/nvme/scratch/work/tharvey/EAZY/inputs/scripts/templates/LarsonTemplates/tweak_fsps_QSF_12_v3_newtemplates.param', 'FILTERS_RES': '/nvme/scratch/work/tharvey/EXPANSE/src/EXPANSE/eazy/jwst_nircam_FILTER.RES', 'MW_EBV': 0, 'CAT_HAS_EXTCORR': False, 'ADD_CGM': True, 'Z_STEP': 0.01, 'Z_MIN': 0.01, 'Z_MAX': 20.0, 'TEMP_ERR_FILE': '/nvme/scratch/work/tharvey/EXPANSE/src/EXPANSE/eazy/TEMPLATE_ERROR.eazy_v1.0', 'TEMP_ERR_A2': 0, 'SYS_ERR': 0, 'APPLY_PRIOR': 'n', 'PRIOR_ABZP': 23.9, 'PRIOR_FILTER': 28, 'PRIOR_FILE': '', 'FIX_ZSPEC': False, 'IGM_SCALE_TAU': 1.0, 'N_MIN_COLORS': 2, 'CATALOG_FILE': '/tmp/tmpahrywxfu/eazy_input.fits'}\n",
      "Read default param file: /nvme/scratch/software/anaconda3/envs/tharvey_galfind/lib/python3.10/site-packages/eazy/data/zphot.param.default\n",
      "Read CATALOG_FILE: /tmp/tmpahrywxfu/eazy_input.fits\n",
      "   >>> NOBJ = 1\n",
      "F22 E22 ( 22): hst/ACS_update_sep07/wfc_f435w_t81.dat\n",
      "F23 E23 ( 23): hst/ACS_update_sep07/wfc_f606w_t81.dat\n",
      "F49 E49 ( 49): hst/ACS_update_sep07/wfc_f775w_t81.dat\n",
      "F24 E24 ( 24): hst/ACS_update_sep07/wfc_f814w_t81.dat\n",
      "F50 E50 ( 50): hst/ACS_update_sep07/wfc_f850lp_t81.dat\n",
      "F1 E1 (  1): jwst_nircam_f090w\n",
      "F2 E2 (  2): jwst_nircam_f115w\n",
      "F3 E3 (  3): jwst_nircam_f150w\n",
      "F38 E38 ( 38): jwst_nircam_f162m\n",
      "F39 E39 ( 39): jwst_nircam_f182m\n",
      "F4 E4 (  4): jwst_nircam_f200w\n",
      "F40 E40 ( 40): jwst_nircam_f210m\n",
      "F41 E41 ( 41): jwst_nircam_f250m\n",
      "F5 E5 (  5): jwst_nircam_f277w\n",
      "F42 E42 ( 42): jwst_nircam_f300m\n",
      "F43 E43 ( 43): jwst_nircam_f335m\n",
      "F6 E6 (  6): jwst_nircam_f356w\n",
      "F7 E7 (  7): jwst_nircam_f410m\n",
      "F8 E8 (  8): jwst_nircam_f444w\n",
      "Set sys_err = 0.00 (positive=True)\n",
      "Template grid: /nvme/scratch/work/tharvey/EAZY/inputs/scripts/templates/LarsonTemplates/tweak_fsps_QSF_12_v3_newtemplates.param (this may take some time)\n"
     ]
    },
    {
     "name": "stderr",
     "output_type": "stream",
     "text": [
      "100%|██████████| 18/18 [00:12<00:00,  1.42it/s]\n"
     ]
    },
    {
     "name": "stdout",
     "output_type": "stream",
     "text": [
      "Template   0: fsps_QSF_12_v3_001.dat (NZ=1).\n",
      "Template   1: fsps_QSF_12_v3_002.dat (NZ=1).\n",
      "Template   2: fsps_QSF_12_v3_003.dat (NZ=1).\n",
      "Template   3: fsps_QSF_12_v3_004.dat (NZ=1).\n",
      "Template   4: fsps_QSF_12_v3_005.dat (NZ=1).\n",
      "Template   5: fsps_QSF_12_v3_006.dat (NZ=1).\n",
      "Template   6: fsps_QSF_12_v3_007.dat (NZ=1).\n",
      "Template   7: fsps_QSF_12_v3_008.dat (NZ=1).\n",
      "Template   8: fsps_QSF_12_v3_009.dat (NZ=1).\n",
      "Template   9: fsps_QSF_12_v3_010.dat (NZ=1).\n",
      "Template  10: fsps_QSF_12_v3_011.dat (NZ=1).\n",
      "Template  11: fsps_QSF_12_v3_012.dat (NZ=1).\n",
      "Template  12: binc100z001age6_cloudy.dat (NZ=1).\n",
      "Template  13: binc100z001age65_cloudy.dat (NZ=1).\n",
      "Template  14: binc100z001age7_cloudy.dat (NZ=1).\n",
      "Template  15: binc100z001age6.dat (NZ=1).\n",
      "Template  16: binc100z001age65.dat (NZ=1).\n",
      "Template  17: binc100z001age7.dat (NZ=1).\n",
      "Process templates: 13.133 s\n"
     ]
    },
    {
     "name": "stderr",
     "output_type": "stream",
     "text": [
      "304it [00:00, 26556.73it/s]"
     ]
    },
    {
     "name": "stdout",
     "output_type": "stream",
     "text": [
      "Saving tempfilt to /nvme/scratch/work/tharvey/EXPANSE/src/EXPANSE/eazy/tempfilt/\n"
     ]
    },
    {
     "name": "stderr",
     "output_type": "stream",
     "text": [
      "\n",
      "100%|██████████| 304/304 [00:00<00:00, 6421.67it/s]\n"
     ]
    },
    {
     "name": "stdout",
     "output_type": "stream",
     "text": [
      "Compute best fits\n",
      "fit_best: 0.0 s (n_proc=1,  NOBJ=1)\n",
      "Fit 0.4 s (n_proc=4, NOBJ=1)\n",
      "Setting meta, id_phot, 0\n",
      "Setting meta, z_best, 5.9653625\n",
      "Setting meta, chi2, 12.375429794887092\n",
      "Setting meta, z16, 5.856169\n",
      "Setting meta, z50, 5.9522104\n",
      "Setting meta, z84, 6.00864\n",
      "Setting meta, flux_unit, uJy\n",
      "Setting meta, wave_unit, Angstrom\n",
      "Setting meta, templates_file, /nvme/scratch/work/tharvey/EAZY/inputs/scripts/templates/LarsonTemplates/tweak_fsps_QSF_12_v3_newtemplates.param\n",
      "Setting meta, z_min, 0.01\n",
      "Setting meta, z_max, 20.0\n",
      "Setting meta, z_step, 0.01\n",
      "Setting meta, region, MAG_APER_0.32 arcsec_fsps_larson_0.05__Asada24_cgm\n",
      " added to <HDF5 file \"JOF_psfmatched_13349.h5\" (mode r+)>, interactive_outputs/MAG_APER_0_32 arcsec_fsps_larson_0_05__Asada24_cgm/, eazy_fit\n",
      " added to <HDF5 file \"JOF_psfmatched_13349.h5\" (mode r+)>, interactive_outputs/MAG_APER_0_32 arcsec_fsps_larson_0_05__Asada24_cgm/, p_z\n",
      " added to <HDF5 file \"JOF_psfmatched_13349.h5\" (mode r+)>, interactive_outputs/MAG_APER_0_32 arcsec_fsps_larson_0_05__Asada24_cgm/, input_flux\n",
      " added to <HDF5 file \"JOF_psfmatched_13349.h5\" (mode r+)>, interactive_outputs/MAG_APER_0_32 arcsec_fsps_larson_0_05__Asada24_cgm/, input_flux_err\n",
      "Zeropoint: 23.9\n",
      "{'TEMPLATES_FILE': '/nvme/scratch/work/tharvey/EAZY/inputs/scripts/templates/LarsonTemplates/tweak_fsps_QSF_12_v3_newtemplates.param', 'FILTERS_RES': '/nvme/scratch/work/tharvey/EXPANSE/src/EXPANSE/eazy/jwst_nircam_FILTER.RES', 'MW_EBV': 0, 'CAT_HAS_EXTCORR': False, 'ADD_CGM': True, 'Z_STEP': 0.01, 'Z_MIN': 0.01, 'Z_MAX': 20.0, 'TEMP_ERR_FILE': '/nvme/scratch/work/tharvey/EXPANSE/src/EXPANSE/eazy/TEMPLATE_ERROR.eazy_v1.0', 'TEMP_ERR_A2': 0, 'SYS_ERR': 0, 'APPLY_PRIOR': 'n', 'PRIOR_ABZP': 23.9, 'PRIOR_FILTER': 28, 'PRIOR_FILE': '', 'FIX_ZSPEC': False, 'IGM_SCALE_TAU': 1.0, 'N_MIN_COLORS': 2, 'CATALOG_FILE': '/tmp/tmpd3ow4l_0/eazy_input.fits'}\n",
      "Read default param file: /nvme/scratch/software/anaconda3/envs/tharvey_galfind/lib/python3.10/site-packages/eazy/data/zphot.param.default\n",
      "Read CATALOG_FILE: /tmp/tmpd3ow4l_0/eazy_input.fits\n",
      "   >>> NOBJ = 1\n",
      "F22 E22 ( 22): hst/ACS_update_sep07/wfc_f435w_t81.dat\n",
      "F23 E23 ( 23): hst/ACS_update_sep07/wfc_f606w_t81.dat\n",
      "F49 E49 ( 49): hst/ACS_update_sep07/wfc_f775w_t81.dat\n",
      "F24 E24 ( 24): hst/ACS_update_sep07/wfc_f814w_t81.dat\n",
      "F50 E50 ( 50): hst/ACS_update_sep07/wfc_f850lp_t81.dat\n",
      "F1 E1 (  1): jwst_nircam_f090w\n",
      "F2 E2 (  2): jwst_nircam_f115w\n",
      "F3 E3 (  3): jwst_nircam_f150w\n",
      "F38 E38 ( 38): jwst_nircam_f162m\n",
      "F39 E39 ( 39): jwst_nircam_f182m\n",
      "F4 E4 (  4): jwst_nircam_f200w\n",
      "F40 E40 ( 40): jwst_nircam_f210m\n",
      "F41 E41 ( 41): jwst_nircam_f250m\n",
      "F5 E5 (  5): jwst_nircam_f277w\n",
      "F42 E42 ( 42): jwst_nircam_f300m\n",
      "F43 E43 ( 43): jwst_nircam_f335m\n",
      "F6 E6 (  6): jwst_nircam_f356w\n",
      "F7 E7 (  7): jwst_nircam_f410m\n",
      "F8 E8 (  8): jwst_nircam_f444w\n",
      "Set sys_err = 0.00 (positive=True)\n",
      "Template grid: /nvme/scratch/work/tharvey/EAZY/inputs/scripts/templates/LarsonTemplates/tweak_fsps_QSF_12_v3_newtemplates.param (this may take some time)\n"
     ]
    },
    {
     "name": "stderr",
     "output_type": "stream",
     "text": [
      "100%|██████████| 18/18 [00:12<00:00,  1.43it/s]\n"
     ]
    },
    {
     "name": "stdout",
     "output_type": "stream",
     "text": [
      "Template   0: fsps_QSF_12_v3_001.dat (NZ=1).\n",
      "Template   1: fsps_QSF_12_v3_002.dat (NZ=1).\n",
      "Template   2: fsps_QSF_12_v3_003.dat (NZ=1).\n",
      "Template   3: fsps_QSF_12_v3_004.dat (NZ=1).\n",
      "Template   4: fsps_QSF_12_v3_005.dat (NZ=1).\n",
      "Template   5: fsps_QSF_12_v3_006.dat (NZ=1).\n",
      "Template   6: fsps_QSF_12_v3_007.dat (NZ=1).\n",
      "Template   7: fsps_QSF_12_v3_008.dat (NZ=1).\n",
      "Template   8: fsps_QSF_12_v3_009.dat (NZ=1).\n",
      "Template   9: fsps_QSF_12_v3_010.dat (NZ=1).\n",
      "Template  10: fsps_QSF_12_v3_011.dat (NZ=1).\n",
      "Template  11: fsps_QSF_12_v3_012.dat (NZ=1).\n",
      "Template  12: binc100z001age6_cloudy.dat (NZ=1).\n",
      "Template  13: binc100z001age65_cloudy.dat (NZ=1).\n",
      "Template  14: binc100z001age7_cloudy.dat (NZ=1).\n",
      "Template  15: binc100z001age6.dat (NZ=1).\n",
      "Template  16: binc100z001age65.dat (NZ=1).\n",
      "Template  17: binc100z001age7.dat (NZ=1).\n",
      "Process templates: 13.069 s\n"
     ]
    },
    {
     "name": "stderr",
     "output_type": "stream",
     "text": [
      "304it [00:00, 23927.87it/s]"
     ]
    },
    {
     "name": "stdout",
     "output_type": "stream",
     "text": [
      "Saving tempfilt to /nvme/scratch/work/tharvey/EXPANSE/src/EXPANSE/eazy/tempfilt/\n"
     ]
    },
    {
     "name": "stderr",
     "output_type": "stream",
     "text": [
      "\n",
      "100%|██████████| 304/304 [00:00<00:00, 4341.03it/s]\n"
     ]
    },
    {
     "name": "stdout",
     "output_type": "stream",
     "text": [
      "Compute best fits\n",
      "fit_best: 0.0 s (n_proc=1,  NOBJ=1)\n",
      "Fit 0.4 s (n_proc=4, NOBJ=1)\n",
      "Setting meta, id_phot, 0\n",
      "Setting meta, z_best, 6.5066323\n",
      "Setting meta, chi2, 27.152208240958025\n",
      "Setting meta, z16, 6.45203\n",
      "Setting meta, z50, 6.5040503\n",
      "Setting meta, z84, 6.547883\n",
      "Setting meta, flux_unit, uJy\n",
      "Setting meta, wave_unit, Angstrom\n",
      "Setting meta, templates_file, /nvme/scratch/work/tharvey/EAZY/inputs/scripts/templates/LarsonTemplates/tweak_fsps_QSF_12_v3_newtemplates.param\n",
      "Setting meta, z_min, 0.01\n",
      "Setting meta, z_max, 20.0\n",
      "Setting meta, z_step, 0.01\n",
      "Setting meta, region, MAG_APER_0.32 arcsec_fsps_larson_0.05__Asada24_cgm\n",
      " added to <HDF5 file \"JOF_psfmatched_13358.h5\" (mode r+)>, interactive_outputs/MAG_APER_0_32 arcsec_fsps_larson_0_05__Asada24_cgm/, eazy_fit\n",
      " added to <HDF5 file \"JOF_psfmatched_13358.h5\" (mode r+)>, interactive_outputs/MAG_APER_0_32 arcsec_fsps_larson_0_05__Asada24_cgm/, p_z\n",
      " added to <HDF5 file \"JOF_psfmatched_13358.h5\" (mode r+)>, interactive_outputs/MAG_APER_0_32 arcsec_fsps_larson_0_05__Asada24_cgm/, input_flux\n",
      " added to <HDF5 file \"JOF_psfmatched_13358.h5\" (mode r+)>, interactive_outputs/MAG_APER_0_32 arcsec_fsps_larson_0_05__Asada24_cgm/, input_flux_err\n",
      "Zeropoint: 23.9\n",
      "{'TEMPLATES_FILE': '/nvme/scratch/work/tharvey/EAZY/inputs/scripts/templates/LarsonTemplates/tweak_fsps_QSF_12_v3_newtemplates.param', 'FILTERS_RES': '/nvme/scratch/work/tharvey/EXPANSE/src/EXPANSE/eazy/jwst_nircam_FILTER.RES', 'MW_EBV': 0, 'CAT_HAS_EXTCORR': False, 'ADD_CGM': True, 'Z_STEP': 0.01, 'Z_MIN': 0.01, 'Z_MAX': 20.0, 'TEMP_ERR_FILE': '/nvme/scratch/work/tharvey/EXPANSE/src/EXPANSE/eazy/TEMPLATE_ERROR.eazy_v1.0', 'TEMP_ERR_A2': 0, 'SYS_ERR': 0, 'APPLY_PRIOR': 'n', 'PRIOR_ABZP': 23.9, 'PRIOR_FILTER': 28, 'PRIOR_FILE': '', 'FIX_ZSPEC': False, 'IGM_SCALE_TAU': 1.0, 'N_MIN_COLORS': 2, 'CATALOG_FILE': '/tmp/tmpx9uficnq/eazy_input.fits'}\n",
      "Read default param file: /nvme/scratch/software/anaconda3/envs/tharvey_galfind/lib/python3.10/site-packages/eazy/data/zphot.param.default\n",
      "Read CATALOG_FILE: /tmp/tmpx9uficnq/eazy_input.fits\n",
      "   >>> NOBJ = 1\n",
      "F22 E22 ( 22): hst/ACS_update_sep07/wfc_f435w_t81.dat\n",
      "F23 E23 ( 23): hst/ACS_update_sep07/wfc_f606w_t81.dat\n",
      "F49 E49 ( 49): hst/ACS_update_sep07/wfc_f775w_t81.dat\n",
      "F24 E24 ( 24): hst/ACS_update_sep07/wfc_f814w_t81.dat\n",
      "F50 E50 ( 50): hst/ACS_update_sep07/wfc_f850lp_t81.dat\n",
      "F1 E1 (  1): jwst_nircam_f090w\n",
      "F2 E2 (  2): jwst_nircam_f115w\n",
      "F3 E3 (  3): jwst_nircam_f150w\n",
      "F38 E38 ( 38): jwst_nircam_f162m\n",
      "F39 E39 ( 39): jwst_nircam_f182m\n",
      "F4 E4 (  4): jwst_nircam_f200w\n",
      "F40 E40 ( 40): jwst_nircam_f210m\n",
      "F41 E41 ( 41): jwst_nircam_f250m\n",
      "F5 E5 (  5): jwst_nircam_f277w\n",
      "F42 E42 ( 42): jwst_nircam_f300m\n",
      "F43 E43 ( 43): jwst_nircam_f335m\n",
      "F6 E6 (  6): jwst_nircam_f356w\n",
      "F7 E7 (  7): jwst_nircam_f410m\n",
      "F8 E8 (  8): jwst_nircam_f444w\n",
      "Set sys_err = 0.00 (positive=True)\n",
      "Template grid: /nvme/scratch/work/tharvey/EAZY/inputs/scripts/templates/LarsonTemplates/tweak_fsps_QSF_12_v3_newtemplates.param (this may take some time)\n"
     ]
    },
    {
     "name": "stderr",
     "output_type": "stream",
     "text": [
      "100%|██████████| 18/18 [00:12<00:00,  1.41it/s]\n"
     ]
    },
    {
     "name": "stdout",
     "output_type": "stream",
     "text": [
      "Template   0: fsps_QSF_12_v3_001.dat (NZ=1).\n",
      "Template   1: fsps_QSF_12_v3_002.dat (NZ=1).\n",
      "Template   2: fsps_QSF_12_v3_003.dat (NZ=1).\n",
      "Template   3: fsps_QSF_12_v3_004.dat (NZ=1).\n",
      "Template   4: fsps_QSF_12_v3_005.dat (NZ=1).\n",
      "Template   5: fsps_QSF_12_v3_006.dat (NZ=1).\n",
      "Template   6: fsps_QSF_12_v3_007.dat (NZ=1).\n",
      "Template   7: fsps_QSF_12_v3_008.dat (NZ=1).\n",
      "Template   8: fsps_QSF_12_v3_009.dat (NZ=1).\n",
      "Template   9: fsps_QSF_12_v3_010.dat (NZ=1).\n",
      "Template  10: fsps_QSF_12_v3_011.dat (NZ=1).\n",
      "Template  11: fsps_QSF_12_v3_012.dat (NZ=1).\n",
      "Template  12: binc100z001age6_cloudy.dat (NZ=1).\n",
      "Template  13: binc100z001age65_cloudy.dat (NZ=1).\n",
      "Template  14: binc100z001age7_cloudy.dat (NZ=1).\n",
      "Template  15: binc100z001age6.dat (NZ=1).\n",
      "Template  16: binc100z001age65.dat (NZ=1).\n",
      "Template  17: binc100z001age7.dat (NZ=1).\n",
      "Process templates: 13.246 s\n"
     ]
    },
    {
     "name": "stderr",
     "output_type": "stream",
     "text": [
      "304it [00:00, 27192.76it/s]"
     ]
    },
    {
     "name": "stdout",
     "output_type": "stream",
     "text": [
      "Saving tempfilt to /nvme/scratch/work/tharvey/EXPANSE/src/EXPANSE/eazy/tempfilt/\n"
     ]
    },
    {
     "name": "stderr",
     "output_type": "stream",
     "text": [
      "\n",
      "100%|██████████| 304/304 [00:00<00:00, 4957.77it/s]\n"
     ]
    },
    {
     "name": "stdout",
     "output_type": "stream",
     "text": [
      "Compute best fits\n",
      "fit_best: 0.0 s (n_proc=1,  NOBJ=1)\n",
      "Fit 0.4 s (n_proc=4, NOBJ=1)\n",
      "Setting meta, id_phot, 0\n",
      "Setting meta, z_best, 6.127081\n",
      "Setting meta, chi2, 23.332767195385202\n",
      "Setting meta, z16, 5.824668\n",
      "Setting meta, z50, 6.0621347\n",
      "Setting meta, z84, 6.2244887\n",
      "Setting meta, flux_unit, uJy\n",
      "Setting meta, wave_unit, Angstrom\n",
      "Setting meta, templates_file, /nvme/scratch/work/tharvey/EAZY/inputs/scripts/templates/LarsonTemplates/tweak_fsps_QSF_12_v3_newtemplates.param\n",
      "Setting meta, z_min, 0.01\n",
      "Setting meta, z_max, 20.0\n",
      "Setting meta, z_step, 0.01\n",
      "Setting meta, region, MAG_APER_0.32 arcsec_fsps_larson_0.05__Asada24_cgm\n",
      " added to <HDF5 file \"JOF_psfmatched_13434.h5\" (mode r+)>, interactive_outputs/MAG_APER_0_32 arcsec_fsps_larson_0_05__Asada24_cgm/, eazy_fit\n",
      " added to <HDF5 file \"JOF_psfmatched_13434.h5\" (mode r+)>, interactive_outputs/MAG_APER_0_32 arcsec_fsps_larson_0_05__Asada24_cgm/, p_z\n",
      " added to <HDF5 file \"JOF_psfmatched_13434.h5\" (mode r+)>, interactive_outputs/MAG_APER_0_32 arcsec_fsps_larson_0_05__Asada24_cgm/, input_flux\n",
      " added to <HDF5 file \"JOF_psfmatched_13434.h5\" (mode r+)>, interactive_outputs/MAG_APER_0_32 arcsec_fsps_larson_0_05__Asada24_cgm/, input_flux_err\n",
      "Zeropoint: 23.9\n",
      "{'TEMPLATES_FILE': '/nvme/scratch/work/tharvey/EAZY/inputs/scripts/templates/LarsonTemplates/tweak_fsps_QSF_12_v3_newtemplates.param', 'FILTERS_RES': '/nvme/scratch/work/tharvey/EXPANSE/src/EXPANSE/eazy/jwst_nircam_FILTER.RES', 'MW_EBV': 0, 'CAT_HAS_EXTCORR': False, 'ADD_CGM': True, 'Z_STEP': 0.01, 'Z_MIN': 0.01, 'Z_MAX': 20.0, 'TEMP_ERR_FILE': '/nvme/scratch/work/tharvey/EXPANSE/src/EXPANSE/eazy/TEMPLATE_ERROR.eazy_v1.0', 'TEMP_ERR_A2': 0, 'SYS_ERR': 0, 'APPLY_PRIOR': 'n', 'PRIOR_ABZP': 23.9, 'PRIOR_FILTER': 28, 'PRIOR_FILE': '', 'FIX_ZSPEC': False, 'IGM_SCALE_TAU': 1.0, 'N_MIN_COLORS': 2, 'CATALOG_FILE': '/tmp/tmpnm__brdw/eazy_input.fits'}\n",
      "Read default param file: /nvme/scratch/software/anaconda3/envs/tharvey_galfind/lib/python3.10/site-packages/eazy/data/zphot.param.default\n",
      "Read CATALOG_FILE: /tmp/tmpnm__brdw/eazy_input.fits\n",
      "   >>> NOBJ = 1\n",
      "F22 E22 ( 22): hst/ACS_update_sep07/wfc_f435w_t81.dat\n",
      "F23 E23 ( 23): hst/ACS_update_sep07/wfc_f606w_t81.dat\n",
      "F49 E49 ( 49): hst/ACS_update_sep07/wfc_f775w_t81.dat\n",
      "F24 E24 ( 24): hst/ACS_update_sep07/wfc_f814w_t81.dat\n",
      "F50 E50 ( 50): hst/ACS_update_sep07/wfc_f850lp_t81.dat\n",
      "F1 E1 (  1): jwst_nircam_f090w\n",
      "F2 E2 (  2): jwst_nircam_f115w\n",
      "F3 E3 (  3): jwst_nircam_f150w\n",
      "F38 E38 ( 38): jwst_nircam_f162m\n",
      "F39 E39 ( 39): jwst_nircam_f182m\n",
      "F4 E4 (  4): jwst_nircam_f200w\n",
      "F40 E40 ( 40): jwst_nircam_f210m\n",
      "F41 E41 ( 41): jwst_nircam_f250m\n",
      "F5 E5 (  5): jwst_nircam_f277w\n",
      "F42 E42 ( 42): jwst_nircam_f300m\n",
      "F43 E43 ( 43): jwst_nircam_f335m\n",
      "F6 E6 (  6): jwst_nircam_f356w\n",
      "F7 E7 (  7): jwst_nircam_f410m\n",
      "F8 E8 (  8): jwst_nircam_f444w\n",
      "Set sys_err = 0.00 (positive=True)\n",
      "Template grid: /nvme/scratch/work/tharvey/EAZY/inputs/scripts/templates/LarsonTemplates/tweak_fsps_QSF_12_v3_newtemplates.param (this may take some time)\n"
     ]
    },
    {
     "name": "stderr",
     "output_type": "stream",
     "text": [
      "100%|██████████| 18/18 [00:12<00:00,  1.44it/s]\n"
     ]
    },
    {
     "name": "stdout",
     "output_type": "stream",
     "text": [
      "Template   0: fsps_QSF_12_v3_001.dat (NZ=1).\n",
      "Template   1: fsps_QSF_12_v3_002.dat (NZ=1).\n",
      "Template   2: fsps_QSF_12_v3_003.dat (NZ=1).\n",
      "Template   3: fsps_QSF_12_v3_004.dat (NZ=1).\n",
      "Template   4: fsps_QSF_12_v3_005.dat (NZ=1).\n",
      "Template   5: fsps_QSF_12_v3_006.dat (NZ=1).\n",
      "Template   6: fsps_QSF_12_v3_007.dat (NZ=1).\n",
      "Template   7: fsps_QSF_12_v3_008.dat (NZ=1).\n",
      "Template   8: fsps_QSF_12_v3_009.dat (NZ=1).\n",
      "Template   9: fsps_QSF_12_v3_010.dat (NZ=1).\n",
      "Template  10: fsps_QSF_12_v3_011.dat (NZ=1).\n",
      "Template  11: fsps_QSF_12_v3_012.dat (NZ=1).\n",
      "Template  12: binc100z001age6_cloudy.dat (NZ=1).\n",
      "Template  13: binc100z001age65_cloudy.dat (NZ=1).\n",
      "Template  14: binc100z001age7_cloudy.dat (NZ=1).\n",
      "Template  15: binc100z001age6.dat (NZ=1).\n",
      "Template  16: binc100z001age65.dat (NZ=1).\n",
      "Template  17: binc100z001age7.dat (NZ=1).\n",
      "Process templates: 12.963 s\n"
     ]
    },
    {
     "name": "stderr",
     "output_type": "stream",
     "text": [
      "304it [00:00, 15111.03it/s]"
     ]
    },
    {
     "name": "stdout",
     "output_type": "stream",
     "text": [
      "Saving tempfilt to /nvme/scratch/work/tharvey/EXPANSE/src/EXPANSE/eazy/tempfilt/\n"
     ]
    },
    {
     "name": "stderr",
     "output_type": "stream",
     "text": [
      "\n",
      "100%|██████████| 304/304 [00:00<00:00, 5025.24it/s]\n"
     ]
    },
    {
     "name": "stdout",
     "output_type": "stream",
     "text": [
      "Compute best fits\n",
      "fit_best: 0.0 s (n_proc=1,  NOBJ=1)\n",
      "Fit 0.4 s (n_proc=4, NOBJ=1)\n",
      "Setting meta, id_phot, 0\n",
      "Setting meta, z_best, 7.024899\n",
      "Setting meta, chi2, 18.269596373290327\n",
      "Setting meta, z16, 6.9859343\n",
      "Setting meta, z50, 7.0307145\n",
      "Setting meta, z84, 7.084504\n",
      "Setting meta, flux_unit, uJy\n",
      "Setting meta, wave_unit, Angstrom\n",
      "Setting meta, templates_file, /nvme/scratch/work/tharvey/EAZY/inputs/scripts/templates/LarsonTemplates/tweak_fsps_QSF_12_v3_newtemplates.param\n",
      "Setting meta, z_min, 0.01\n",
      "Setting meta, z_max, 20.0\n",
      "Setting meta, z_step, 0.01\n",
      "Setting meta, region, MAG_APER_0.32 arcsec_fsps_larson_0.05__Asada24_cgm\n",
      " added to <HDF5 file \"JOF_psfmatched_13665.h5\" (mode r+)>, interactive_outputs/MAG_APER_0_32 arcsec_fsps_larson_0_05__Asada24_cgm/, eazy_fit\n",
      " added to <HDF5 file \"JOF_psfmatched_13665.h5\" (mode r+)>, interactive_outputs/MAG_APER_0_32 arcsec_fsps_larson_0_05__Asada24_cgm/, p_z\n",
      " added to <HDF5 file \"JOF_psfmatched_13665.h5\" (mode r+)>, interactive_outputs/MAG_APER_0_32 arcsec_fsps_larson_0_05__Asada24_cgm/, input_flux\n",
      " added to <HDF5 file \"JOF_psfmatched_13665.h5\" (mode r+)>, interactive_outputs/MAG_APER_0_32 arcsec_fsps_larson_0_05__Asada24_cgm/, input_flux_err\n",
      "Zeropoint: 23.9\n",
      "{'TEMPLATES_FILE': '/nvme/scratch/work/tharvey/EAZY/inputs/scripts/templates/LarsonTemplates/tweak_fsps_QSF_12_v3_newtemplates.param', 'FILTERS_RES': '/nvme/scratch/work/tharvey/EXPANSE/src/EXPANSE/eazy/jwst_nircam_FILTER.RES', 'MW_EBV': 0, 'CAT_HAS_EXTCORR': False, 'ADD_CGM': True, 'Z_STEP': 0.01, 'Z_MIN': 0.01, 'Z_MAX': 20.0, 'TEMP_ERR_FILE': '/nvme/scratch/work/tharvey/EXPANSE/src/EXPANSE/eazy/TEMPLATE_ERROR.eazy_v1.0', 'TEMP_ERR_A2': 0, 'SYS_ERR': 0, 'APPLY_PRIOR': 'n', 'PRIOR_ABZP': 23.9, 'PRIOR_FILTER': 28, 'PRIOR_FILE': '', 'FIX_ZSPEC': False, 'IGM_SCALE_TAU': 1.0, 'N_MIN_COLORS': 2, 'CATALOG_FILE': '/tmp/tmpohryr6lw/eazy_input.fits'}\n",
      "Read default param file: /nvme/scratch/software/anaconda3/envs/tharvey_galfind/lib/python3.10/site-packages/eazy/data/zphot.param.default\n",
      "Read CATALOG_FILE: /tmp/tmpohryr6lw/eazy_input.fits\n",
      "   >>> NOBJ = 1\n",
      "F22 E22 ( 22): hst/ACS_update_sep07/wfc_f435w_t81.dat\n",
      "F23 E23 ( 23): hst/ACS_update_sep07/wfc_f606w_t81.dat\n",
      "F24 E24 ( 24): hst/ACS_update_sep07/wfc_f814w_t81.dat\n",
      "F50 E50 ( 50): hst/ACS_update_sep07/wfc_f850lp_t81.dat\n",
      "F1 E1 (  1): jwst_nircam_f090w\n",
      "F2 E2 (  2): jwst_nircam_f115w\n",
      "F3 E3 (  3): jwst_nircam_f150w\n",
      "F38 E38 ( 38): jwst_nircam_f162m\n",
      "F39 E39 ( 39): jwst_nircam_f182m\n",
      "F4 E4 (  4): jwst_nircam_f200w\n",
      "F40 E40 ( 40): jwst_nircam_f210m\n",
      "F41 E41 ( 41): jwst_nircam_f250m\n",
      "F5 E5 (  5): jwst_nircam_f277w\n",
      "F42 E42 ( 42): jwst_nircam_f300m\n",
      "F43 E43 ( 43): jwst_nircam_f335m\n",
      "F6 E6 (  6): jwst_nircam_f356w\n",
      "F7 E7 (  7): jwst_nircam_f410m\n",
      "F8 E8 (  8): jwst_nircam_f444w\n",
      "Set sys_err = 0.00 (positive=True)\n",
      "Template grid: /nvme/scratch/work/tharvey/EAZY/inputs/scripts/templates/LarsonTemplates/tweak_fsps_QSF_12_v3_newtemplates.param (this may take some time)\n"
     ]
    },
    {
     "name": "stderr",
     "output_type": "stream",
     "text": [
      "100%|██████████| 18/18 [00:12<00:00,  1.47it/s]\n"
     ]
    },
    {
     "name": "stdout",
     "output_type": "stream",
     "text": [
      "Template   0: fsps_QSF_12_v3_001.dat (NZ=1).\n",
      "Template   1: fsps_QSF_12_v3_002.dat (NZ=1).\n",
      "Template   2: fsps_QSF_12_v3_003.dat (NZ=1).\n",
      "Template   3: fsps_QSF_12_v3_004.dat (NZ=1).\n",
      "Template   4: fsps_QSF_12_v3_005.dat (NZ=1).\n",
      "Template   5: fsps_QSF_12_v3_006.dat (NZ=1).\n",
      "Template   6: fsps_QSF_12_v3_007.dat (NZ=1).\n",
      "Template   7: fsps_QSF_12_v3_008.dat (NZ=1).\n",
      "Template   8: fsps_QSF_12_v3_009.dat (NZ=1).\n",
      "Template   9: fsps_QSF_12_v3_010.dat (NZ=1).\n",
      "Template  10: fsps_QSF_12_v3_011.dat (NZ=1).\n",
      "Template  11: fsps_QSF_12_v3_012.dat (NZ=1).\n",
      "Template  12: binc100z001age6_cloudy.dat (NZ=1).\n",
      "Template  13: binc100z001age65_cloudy.dat (NZ=1).\n",
      "Template  14: binc100z001age7_cloudy.dat (NZ=1).\n",
      "Template  15: binc100z001age6.dat (NZ=1).\n",
      "Template  16: binc100z001age65.dat (NZ=1).\n",
      "Template  17: binc100z001age7.dat (NZ=1).\n",
      "Process templates: 12.728 s\n"
     ]
    },
    {
     "name": "stderr",
     "output_type": "stream",
     "text": [
      "304it [00:00, 21639.57it/s]"
     ]
    },
    {
     "name": "stdout",
     "output_type": "stream",
     "text": [
      "Saving tempfilt to /nvme/scratch/work/tharvey/EXPANSE/src/EXPANSE/eazy/tempfilt/\n"
     ]
    },
    {
     "name": "stderr",
     "output_type": "stream",
     "text": [
      "\n",
      "100%|██████████| 304/304 [00:00<00:00, 4541.65it/s]\n"
     ]
    },
    {
     "name": "stdout",
     "output_type": "stream",
     "text": [
      "Compute best fits\n",
      "fit_best: 0.0 s (n_proc=1,  NOBJ=1)\n",
      "Fit 0.4 s (n_proc=4, NOBJ=1)\n",
      "Setting meta, id_phot, 0\n",
      "Setting meta, z_best, 1.0630876\n",
      "Setting meta, chi2, 72.50003850049188\n",
      "Setting meta, z16, 1.0456496\n",
      "Setting meta, z50, 1.2028725\n",
      "Setting meta, z84, 2.1573634\n",
      "Setting meta, flux_unit, uJy\n",
      "Setting meta, wave_unit, Angstrom\n",
      "Setting meta, templates_file, /nvme/scratch/work/tharvey/EAZY/inputs/scripts/templates/LarsonTemplates/tweak_fsps_QSF_12_v3_newtemplates.param\n",
      "Setting meta, z_min, 0.01\n",
      "Setting meta, z_max, 20.0\n",
      "Setting meta, z_step, 0.01\n",
      "Setting meta, region, MAG_APER_0.32 arcsec_fsps_larson_0.05__Asada24_cgm\n",
      " added to <HDF5 file \"JOF_psfmatched_13728.h5\" (mode r+)>, interactive_outputs/MAG_APER_0_32 arcsec_fsps_larson_0_05__Asada24_cgm/, eazy_fit\n",
      " added to <HDF5 file \"JOF_psfmatched_13728.h5\" (mode r+)>, interactive_outputs/MAG_APER_0_32 arcsec_fsps_larson_0_05__Asada24_cgm/, p_z\n",
      " added to <HDF5 file \"JOF_psfmatched_13728.h5\" (mode r+)>, interactive_outputs/MAG_APER_0_32 arcsec_fsps_larson_0_05__Asada24_cgm/, input_flux\n",
      " added to <HDF5 file \"JOF_psfmatched_13728.h5\" (mode r+)>, interactive_outputs/MAG_APER_0_32 arcsec_fsps_larson_0_05__Asada24_cgm/, input_flux_err\n",
      "Zeropoint: 23.9\n",
      "{'TEMPLATES_FILE': '/nvme/scratch/work/tharvey/EAZY/inputs/scripts/templates/LarsonTemplates/tweak_fsps_QSF_12_v3_newtemplates.param', 'FILTERS_RES': '/nvme/scratch/work/tharvey/EXPANSE/src/EXPANSE/eazy/jwst_nircam_FILTER.RES', 'MW_EBV': 0, 'CAT_HAS_EXTCORR': False, 'ADD_CGM': True, 'Z_STEP': 0.01, 'Z_MIN': 0.01, 'Z_MAX': 20.0, 'TEMP_ERR_FILE': '/nvme/scratch/work/tharvey/EXPANSE/src/EXPANSE/eazy/TEMPLATE_ERROR.eazy_v1.0', 'TEMP_ERR_A2': 0, 'SYS_ERR': 0, 'APPLY_PRIOR': 'n', 'PRIOR_ABZP': 23.9, 'PRIOR_FILTER': 28, 'PRIOR_FILE': '', 'FIX_ZSPEC': False, 'IGM_SCALE_TAU': 1.0, 'N_MIN_COLORS': 2, 'CATALOG_FILE': '/tmp/tmp0n8wrhwi/eazy_input.fits'}\n",
      "Read default param file: /nvme/scratch/software/anaconda3/envs/tharvey_galfind/lib/python3.10/site-packages/eazy/data/zphot.param.default\n",
      "Read CATALOG_FILE: /tmp/tmp0n8wrhwi/eazy_input.fits\n",
      "   >>> NOBJ = 1\n",
      "F22 E22 ( 22): hst/ACS_update_sep07/wfc_f435w_t81.dat\n",
      "F23 E23 ( 23): hst/ACS_update_sep07/wfc_f606w_t81.dat\n",
      "F49 E49 ( 49): hst/ACS_update_sep07/wfc_f775w_t81.dat\n",
      "F24 E24 ( 24): hst/ACS_update_sep07/wfc_f814w_t81.dat\n",
      "F50 E50 ( 50): hst/ACS_update_sep07/wfc_f850lp_t81.dat\n",
      "F1 E1 (  1): jwst_nircam_f090w\n",
      "F2 E2 (  2): jwst_nircam_f115w\n",
      "F3 E3 (  3): jwst_nircam_f150w\n",
      "F38 E38 ( 38): jwst_nircam_f162m\n",
      "F39 E39 ( 39): jwst_nircam_f182m\n",
      "F4 E4 (  4): jwst_nircam_f200w\n",
      "F40 E40 ( 40): jwst_nircam_f210m\n",
      "F41 E41 ( 41): jwst_nircam_f250m\n",
      "F5 E5 (  5): jwst_nircam_f277w\n",
      "F42 E42 ( 42): jwst_nircam_f300m\n",
      "F43 E43 ( 43): jwst_nircam_f335m\n",
      "F6 E6 (  6): jwst_nircam_f356w\n",
      "F7 E7 (  7): jwst_nircam_f410m\n",
      "F8 E8 (  8): jwst_nircam_f444w\n",
      "Set sys_err = 0.00 (positive=True)\n",
      "Template grid: /nvme/scratch/work/tharvey/EAZY/inputs/scripts/templates/LarsonTemplates/tweak_fsps_QSF_12_v3_newtemplates.param (this may take some time)\n"
     ]
    },
    {
     "name": "stderr",
     "output_type": "stream",
     "text": [
      "100%|██████████| 18/18 [00:11<00:00,  1.50it/s]\n"
     ]
    },
    {
     "name": "stdout",
     "output_type": "stream",
     "text": [
      "Template   0: fsps_QSF_12_v3_001.dat (NZ=1).\n",
      "Template   1: fsps_QSF_12_v3_002.dat (NZ=1).\n",
      "Template   2: fsps_QSF_12_v3_003.dat (NZ=1).\n",
      "Template   3: fsps_QSF_12_v3_004.dat (NZ=1).\n",
      "Template   4: fsps_QSF_12_v3_005.dat (NZ=1).\n",
      "Template   5: fsps_QSF_12_v3_006.dat (NZ=1).\n",
      "Template   6: fsps_QSF_12_v3_007.dat (NZ=1).\n",
      "Template   7: fsps_QSF_12_v3_008.dat (NZ=1).\n",
      "Template   8: fsps_QSF_12_v3_009.dat (NZ=1).\n",
      "Template   9: fsps_QSF_12_v3_010.dat (NZ=1).\n",
      "Template  10: fsps_QSF_12_v3_011.dat (NZ=1).\n",
      "Template  11: fsps_QSF_12_v3_012.dat (NZ=1).\n",
      "Template  12: binc100z001age6_cloudy.dat (NZ=1).\n",
      "Template  13: binc100z001age65_cloudy.dat (NZ=1).\n",
      "Template  14: binc100z001age7_cloudy.dat (NZ=1).\n",
      "Template  15: binc100z001age6.dat (NZ=1).\n",
      "Template  16: binc100z001age65.dat (NZ=1).\n",
      "Template  17: binc100z001age7.dat (NZ=1).\n",
      "Process templates: 12.451 s\n"
     ]
    },
    {
     "name": "stderr",
     "output_type": "stream",
     "text": [
      "304it [00:00, 27718.88it/s]"
     ]
    },
    {
     "name": "stdout",
     "output_type": "stream",
     "text": [
      "Saving tempfilt to /nvme/scratch/work/tharvey/EXPANSE/src/EXPANSE/eazy/tempfilt/\n"
     ]
    },
    {
     "name": "stderr",
     "output_type": "stream",
     "text": [
      "\n",
      "100%|██████████| 304/304 [00:00<00:00, 5419.41it/s]\n"
     ]
    },
    {
     "name": "stdout",
     "output_type": "stream",
     "text": [
      "Compute best fits\n",
      "fit_best: 0.0 s (n_proc=1,  NOBJ=1)\n",
      "Fit 0.4 s (n_proc=4, NOBJ=1)\n",
      "Setting meta, id_phot, 0\n",
      "Setting meta, z_best, 6.3160915\n",
      "Setting meta, chi2, 14.46606336934436\n",
      "Setting meta, z16, 6.2273583\n",
      "Setting meta, z50, 6.324472\n",
      "Setting meta, z84, 6.4270763\n",
      "Setting meta, flux_unit, uJy\n",
      "Setting meta, wave_unit, Angstrom\n",
      "Setting meta, templates_file, /nvme/scratch/work/tharvey/EAZY/inputs/scripts/templates/LarsonTemplates/tweak_fsps_QSF_12_v3_newtemplates.param\n",
      "Setting meta, z_min, 0.01\n",
      "Setting meta, z_max, 20.0\n",
      "Setting meta, z_step, 0.01\n",
      "Setting meta, region, MAG_APER_0.32 arcsec_fsps_larson_0.05__Asada24_cgm\n",
      " added to <HDF5 file \"JOF_psfmatched_1381.h5\" (mode r+)>, interactive_outputs/MAG_APER_0_32 arcsec_fsps_larson_0_05__Asada24_cgm/, eazy_fit\n",
      " added to <HDF5 file \"JOF_psfmatched_1381.h5\" (mode r+)>, interactive_outputs/MAG_APER_0_32 arcsec_fsps_larson_0_05__Asada24_cgm/, p_z\n",
      " added to <HDF5 file \"JOF_psfmatched_1381.h5\" (mode r+)>, interactive_outputs/MAG_APER_0_32 arcsec_fsps_larson_0_05__Asada24_cgm/, input_flux\n",
      " added to <HDF5 file \"JOF_psfmatched_1381.h5\" (mode r+)>, interactive_outputs/MAG_APER_0_32 arcsec_fsps_larson_0_05__Asada24_cgm/, input_flux_err\n",
      "Zeropoint: 23.9\n",
      "{'TEMPLATES_FILE': '/nvme/scratch/work/tharvey/EAZY/inputs/scripts/templates/LarsonTemplates/tweak_fsps_QSF_12_v3_newtemplates.param', 'FILTERS_RES': '/nvme/scratch/work/tharvey/EXPANSE/src/EXPANSE/eazy/jwst_nircam_FILTER.RES', 'MW_EBV': 0, 'CAT_HAS_EXTCORR': False, 'ADD_CGM': True, 'Z_STEP': 0.01, 'Z_MIN': 0.01, 'Z_MAX': 20.0, 'TEMP_ERR_FILE': '/nvme/scratch/work/tharvey/EXPANSE/src/EXPANSE/eazy/TEMPLATE_ERROR.eazy_v1.0', 'TEMP_ERR_A2': 0, 'SYS_ERR': 0, 'APPLY_PRIOR': 'n', 'PRIOR_ABZP': 23.9, 'PRIOR_FILTER': 28, 'PRIOR_FILE': '', 'FIX_ZSPEC': False, 'IGM_SCALE_TAU': 1.0, 'N_MIN_COLORS': 2, 'CATALOG_FILE': '/tmp/tmpqjidlc9v/eazy_input.fits'}\n",
      "Read default param file: /nvme/scratch/software/anaconda3/envs/tharvey_galfind/lib/python3.10/site-packages/eazy/data/zphot.param.default\n",
      "Read CATALOG_FILE: /tmp/tmpqjidlc9v/eazy_input.fits\n",
      "   >>> NOBJ = 1\n",
      "F22 E22 ( 22): hst/ACS_update_sep07/wfc_f435w_t81.dat\n",
      "F23 E23 ( 23): hst/ACS_update_sep07/wfc_f606w_t81.dat\n",
      "F49 E49 ( 49): hst/ACS_update_sep07/wfc_f775w_t81.dat\n",
      "F24 E24 ( 24): hst/ACS_update_sep07/wfc_f814w_t81.dat\n",
      "F50 E50 ( 50): hst/ACS_update_sep07/wfc_f850lp_t81.dat\n",
      "F1 E1 (  1): jwst_nircam_f090w\n",
      "F2 E2 (  2): jwst_nircam_f115w\n",
      "F3 E3 (  3): jwst_nircam_f150w\n",
      "F38 E38 ( 38): jwst_nircam_f162m\n",
      "F39 E39 ( 39): jwst_nircam_f182m\n",
      "F4 E4 (  4): jwst_nircam_f200w\n",
      "F40 E40 ( 40): jwst_nircam_f210m\n",
      "F41 E41 ( 41): jwst_nircam_f250m\n",
      "F5 E5 (  5): jwst_nircam_f277w\n",
      "F42 E42 ( 42): jwst_nircam_f300m\n",
      "F43 E43 ( 43): jwst_nircam_f335m\n",
      "F6 E6 (  6): jwst_nircam_f356w\n",
      "F7 E7 (  7): jwst_nircam_f410m\n",
      "F8 E8 (  8): jwst_nircam_f444w\n",
      "Set sys_err = 0.00 (positive=True)\n",
      "Template grid: /nvme/scratch/work/tharvey/EAZY/inputs/scripts/templates/LarsonTemplates/tweak_fsps_QSF_12_v3_newtemplates.param (this may take some time)\n"
     ]
    },
    {
     "name": "stderr",
     "output_type": "stream",
     "text": [
      "100%|██████████| 18/18 [00:11<00:00,  1.50it/s]\n"
     ]
    },
    {
     "name": "stdout",
     "output_type": "stream",
     "text": [
      "Template   0: fsps_QSF_12_v3_001.dat (NZ=1).\n",
      "Template   1: fsps_QSF_12_v3_002.dat (NZ=1).\n",
      "Template   2: fsps_QSF_12_v3_003.dat (NZ=1).\n",
      "Template   3: fsps_QSF_12_v3_004.dat (NZ=1).\n",
      "Template   4: fsps_QSF_12_v3_005.dat (NZ=1).\n",
      "Template   5: fsps_QSF_12_v3_006.dat (NZ=1).\n",
      "Template   6: fsps_QSF_12_v3_007.dat (NZ=1).\n",
      "Template   7: fsps_QSF_12_v3_008.dat (NZ=1).\n",
      "Template   8: fsps_QSF_12_v3_009.dat (NZ=1).\n",
      "Template   9: fsps_QSF_12_v3_010.dat (NZ=1).\n",
      "Template  10: fsps_QSF_12_v3_011.dat (NZ=1).\n",
      "Template  11: fsps_QSF_12_v3_012.dat (NZ=1).\n",
      "Template  12: binc100z001age6_cloudy.dat (NZ=1).\n",
      "Template  13: binc100z001age65_cloudy.dat (NZ=1).\n",
      "Template  14: binc100z001age7_cloudy.dat (NZ=1).\n",
      "Template  15: binc100z001age6.dat (NZ=1).\n",
      "Template  16: binc100z001age65.dat (NZ=1).\n",
      "Template  17: binc100z001age7.dat (NZ=1).\n",
      "Process templates: 12.452 s\n"
     ]
    },
    {
     "name": "stderr",
     "output_type": "stream",
     "text": [
      "304it [00:00, 23123.36it/s]"
     ]
    },
    {
     "name": "stdout",
     "output_type": "stream",
     "text": [
      "Saving tempfilt to /nvme/scratch/work/tharvey/EXPANSE/src/EXPANSE/eazy/tempfilt/\n"
     ]
    },
    {
     "name": "stderr",
     "output_type": "stream",
     "text": [
      "\n",
      "100%|██████████| 304/304 [00:00<00:00, 5538.29it/s]\n"
     ]
    },
    {
     "name": "stdout",
     "output_type": "stream",
     "text": [
      "Compute best fits\n",
      "fit_best: 0.0 s (n_proc=1,  NOBJ=1)\n",
      "Fit 0.4 s (n_proc=4, NOBJ=1)\n",
      "Setting meta, id_phot, 0\n",
      "Setting meta, z_best, 5.2129745\n",
      "Setting meta, chi2, 28.956180487735573\n",
      "Setting meta, z16, 5.166479\n",
      "Setting meta, z50, 5.2124157\n",
      "Setting meta, z84, 5.2450457\n",
      "Setting meta, flux_unit, uJy\n",
      "Setting meta, wave_unit, Angstrom\n",
      "Setting meta, templates_file, /nvme/scratch/work/tharvey/EAZY/inputs/scripts/templates/LarsonTemplates/tweak_fsps_QSF_12_v3_newtemplates.param\n",
      "Setting meta, z_min, 0.01\n",
      "Setting meta, z_max, 20.0\n",
      "Setting meta, z_step, 0.01\n",
      "Setting meta, region, MAG_APER_0.32 arcsec_fsps_larson_0.05__Asada24_cgm\n",
      " added to <HDF5 file \"JOF_psfmatched_13892.h5\" (mode r+)>, interactive_outputs/MAG_APER_0_32 arcsec_fsps_larson_0_05__Asada24_cgm/, eazy_fit\n",
      " added to <HDF5 file \"JOF_psfmatched_13892.h5\" (mode r+)>, interactive_outputs/MAG_APER_0_32 arcsec_fsps_larson_0_05__Asada24_cgm/, p_z\n",
      " added to <HDF5 file \"JOF_psfmatched_13892.h5\" (mode r+)>, interactive_outputs/MAG_APER_0_32 arcsec_fsps_larson_0_05__Asada24_cgm/, input_flux\n",
      " added to <HDF5 file \"JOF_psfmatched_13892.h5\" (mode r+)>, interactive_outputs/MAG_APER_0_32 arcsec_fsps_larson_0_05__Asada24_cgm/, input_flux_err\n",
      "Zeropoint: 23.9\n",
      "{'TEMPLATES_FILE': '/nvme/scratch/work/tharvey/EAZY/inputs/scripts/templates/LarsonTemplates/tweak_fsps_QSF_12_v3_newtemplates.param', 'FILTERS_RES': '/nvme/scratch/work/tharvey/EXPANSE/src/EXPANSE/eazy/jwst_nircam_FILTER.RES', 'MW_EBV': 0, 'CAT_HAS_EXTCORR': False, 'ADD_CGM': True, 'Z_STEP': 0.01, 'Z_MIN': 0.01, 'Z_MAX': 20.0, 'TEMP_ERR_FILE': '/nvme/scratch/work/tharvey/EXPANSE/src/EXPANSE/eazy/TEMPLATE_ERROR.eazy_v1.0', 'TEMP_ERR_A2': 0, 'SYS_ERR': 0, 'APPLY_PRIOR': 'n', 'PRIOR_ABZP': 23.9, 'PRIOR_FILTER': 28, 'PRIOR_FILE': '', 'FIX_ZSPEC': False, 'IGM_SCALE_TAU': 1.0, 'N_MIN_COLORS': 2, 'CATALOG_FILE': '/tmp/tmpd3q8por4/eazy_input.fits'}\n",
      "Read default param file: /nvme/scratch/software/anaconda3/envs/tharvey_galfind/lib/python3.10/site-packages/eazy/data/zphot.param.default\n",
      "Read CATALOG_FILE: /tmp/tmpd3q8por4/eazy_input.fits\n",
      "   >>> NOBJ = 1\n",
      "F22 E22 ( 22): hst/ACS_update_sep07/wfc_f435w_t81.dat\n",
      "F23 E23 ( 23): hst/ACS_update_sep07/wfc_f606w_t81.dat\n",
      "F24 E24 ( 24): hst/ACS_update_sep07/wfc_f814w_t81.dat\n",
      "F50 E50 ( 50): hst/ACS_update_sep07/wfc_f850lp_t81.dat\n",
      "F1 E1 (  1): jwst_nircam_f090w\n",
      "F2 E2 (  2): jwst_nircam_f115w\n",
      "F3 E3 (  3): jwst_nircam_f150w\n",
      "F38 E38 ( 38): jwst_nircam_f162m\n",
      "F39 E39 ( 39): jwst_nircam_f182m\n",
      "F4 E4 (  4): jwst_nircam_f200w\n",
      "F40 E40 ( 40): jwst_nircam_f210m\n",
      "F41 E41 ( 41): jwst_nircam_f250m\n",
      "F5 E5 (  5): jwst_nircam_f277w\n",
      "F42 E42 ( 42): jwst_nircam_f300m\n",
      "F43 E43 ( 43): jwst_nircam_f335m\n",
      "F6 E6 (  6): jwst_nircam_f356w\n",
      "F7 E7 (  7): jwst_nircam_f410m\n",
      "F8 E8 (  8): jwst_nircam_f444w\n",
      "Set sys_err = 0.00 (positive=True)\n",
      "Template grid: /nvme/scratch/work/tharvey/EAZY/inputs/scripts/templates/LarsonTemplates/tweak_fsps_QSF_12_v3_newtemplates.param (this may take some time)\n"
     ]
    },
    {
     "name": "stderr",
     "output_type": "stream",
     "text": [
      "100%|██████████| 18/18 [00:11<00:00,  1.53it/s]\n"
     ]
    },
    {
     "name": "stdout",
     "output_type": "stream",
     "text": [
      "Template   0: fsps_QSF_12_v3_001.dat (NZ=1).\n",
      "Template   1: fsps_QSF_12_v3_002.dat (NZ=1).\n",
      "Template   2: fsps_QSF_12_v3_003.dat (NZ=1).\n",
      "Template   3: fsps_QSF_12_v3_004.dat (NZ=1).\n",
      "Template   4: fsps_QSF_12_v3_005.dat (NZ=1).\n",
      "Template   5: fsps_QSF_12_v3_006.dat (NZ=1).\n",
      "Template   6: fsps_QSF_12_v3_007.dat (NZ=1).\n",
      "Template   7: fsps_QSF_12_v3_008.dat (NZ=1).\n",
      "Template   8: fsps_QSF_12_v3_009.dat (NZ=1).\n",
      "Template   9: fsps_QSF_12_v3_010.dat (NZ=1).\n",
      "Template  10: fsps_QSF_12_v3_011.dat (NZ=1).\n",
      "Template  11: fsps_QSF_12_v3_012.dat (NZ=1).\n",
      "Template  12: binc100z001age6_cloudy.dat (NZ=1).\n",
      "Template  13: binc100z001age65_cloudy.dat (NZ=1).\n",
      "Template  14: binc100z001age7_cloudy.dat (NZ=1).\n",
      "Template  15: binc100z001age6.dat (NZ=1).\n",
      "Template  16: binc100z001age65.dat (NZ=1).\n",
      "Template  17: binc100z001age7.dat (NZ=1).\n",
      "Process templates: 12.193 s\n"
     ]
    },
    {
     "name": "stderr",
     "output_type": "stream",
     "text": [
      "304it [00:00, 26256.51it/s]"
     ]
    },
    {
     "name": "stdout",
     "output_type": "stream",
     "text": [
      "Saving tempfilt to /nvme/scratch/work/tharvey/EXPANSE/src/EXPANSE/eazy/tempfilt/\n"
     ]
    },
    {
     "name": "stderr",
     "output_type": "stream",
     "text": [
      "\n",
      "100%|██████████| 304/304 [00:00<00:00, 5295.46it/s]\n"
     ]
    },
    {
     "name": "stdout",
     "output_type": "stream",
     "text": [
      "Compute best fits\n",
      "fit_best: 0.0 s (n_proc=1,  NOBJ=1)\n",
      "Fit 0.4 s (n_proc=4, NOBJ=1)\n",
      "Setting meta, id_phot, 0\n",
      "Setting meta, z_best, 6.0030484\n",
      "Setting meta, chi2, 42.75336797731866\n",
      "Setting meta, z16, 5.966899\n",
      "Setting meta, z50, 6.000707\n",
      "Setting meta, z84, 6.027015\n",
      "Setting meta, flux_unit, uJy\n",
      "Setting meta, wave_unit, Angstrom\n",
      "Setting meta, templates_file, /nvme/scratch/work/tharvey/EAZY/inputs/scripts/templates/LarsonTemplates/tweak_fsps_QSF_12_v3_newtemplates.param\n",
      "Setting meta, z_min, 0.01\n",
      "Setting meta, z_max, 20.0\n",
      "Setting meta, z_step, 0.01\n",
      "Setting meta, region, MAG_APER_0.32 arcsec_fsps_larson_0.05__Asada24_cgm\n",
      " added to <HDF5 file \"JOF_psfmatched_13912.h5\" (mode r+)>, interactive_outputs/MAG_APER_0_32 arcsec_fsps_larson_0_05__Asada24_cgm/, eazy_fit\n",
      " added to <HDF5 file \"JOF_psfmatched_13912.h5\" (mode r+)>, interactive_outputs/MAG_APER_0_32 arcsec_fsps_larson_0_05__Asada24_cgm/, p_z\n",
      " added to <HDF5 file \"JOF_psfmatched_13912.h5\" (mode r+)>, interactive_outputs/MAG_APER_0_32 arcsec_fsps_larson_0_05__Asada24_cgm/, input_flux\n",
      " added to <HDF5 file \"JOF_psfmatched_13912.h5\" (mode r+)>, interactive_outputs/MAG_APER_0_32 arcsec_fsps_larson_0_05__Asada24_cgm/, input_flux_err\n",
      "Zeropoint: 23.9\n",
      "{'TEMPLATES_FILE': '/nvme/scratch/work/tharvey/EAZY/inputs/scripts/templates/LarsonTemplates/tweak_fsps_QSF_12_v3_newtemplates.param', 'FILTERS_RES': '/nvme/scratch/work/tharvey/EXPANSE/src/EXPANSE/eazy/jwst_nircam_FILTER.RES', 'MW_EBV': 0, 'CAT_HAS_EXTCORR': False, 'ADD_CGM': True, 'Z_STEP': 0.01, 'Z_MIN': 0.01, 'Z_MAX': 20.0, 'TEMP_ERR_FILE': '/nvme/scratch/work/tharvey/EXPANSE/src/EXPANSE/eazy/TEMPLATE_ERROR.eazy_v1.0', 'TEMP_ERR_A2': 0, 'SYS_ERR': 0, 'APPLY_PRIOR': 'n', 'PRIOR_ABZP': 23.9, 'PRIOR_FILTER': 28, 'PRIOR_FILE': '', 'FIX_ZSPEC': False, 'IGM_SCALE_TAU': 1.0, 'N_MIN_COLORS': 2, 'CATALOG_FILE': '/tmp/tmphxnss9ub/eazy_input.fits'}\n",
      "Read default param file: /nvme/scratch/software/anaconda3/envs/tharvey_galfind/lib/python3.10/site-packages/eazy/data/zphot.param.default\n",
      "Read CATALOG_FILE: /tmp/tmphxnss9ub/eazy_input.fits\n",
      "   >>> NOBJ = 1\n",
      "F22 E22 ( 22): hst/ACS_update_sep07/wfc_f435w_t81.dat\n",
      "F23 E23 ( 23): hst/ACS_update_sep07/wfc_f606w_t81.dat\n",
      "F24 E24 ( 24): hst/ACS_update_sep07/wfc_f814w_t81.dat\n",
      "F50 E50 ( 50): hst/ACS_update_sep07/wfc_f850lp_t81.dat\n",
      "F1 E1 (  1): jwst_nircam_f090w\n",
      "F2 E2 (  2): jwst_nircam_f115w\n",
      "F3 E3 (  3): jwst_nircam_f150w\n",
      "F38 E38 ( 38): jwst_nircam_f162m\n",
      "F39 E39 ( 39): jwst_nircam_f182m\n",
      "F4 E4 (  4): jwst_nircam_f200w\n",
      "F40 E40 ( 40): jwst_nircam_f210m\n",
      "F41 E41 ( 41): jwst_nircam_f250m\n",
      "F5 E5 (  5): jwst_nircam_f277w\n",
      "F42 E42 ( 42): jwst_nircam_f300m\n",
      "F43 E43 ( 43): jwst_nircam_f335m\n",
      "F6 E6 (  6): jwst_nircam_f356w\n",
      "F7 E7 (  7): jwst_nircam_f410m\n",
      "F8 E8 (  8): jwst_nircam_f444w\n",
      "Set sys_err = 0.00 (positive=True)\n",
      "Template grid: /nvme/scratch/work/tharvey/EAZY/inputs/scripts/templates/LarsonTemplates/tweak_fsps_QSF_12_v3_newtemplates.param (this may take some time)\n"
     ]
    },
    {
     "name": "stderr",
     "output_type": "stream",
     "text": [
      "100%|██████████| 18/18 [00:12<00:00,  1.49it/s]\n"
     ]
    },
    {
     "name": "stdout",
     "output_type": "stream",
     "text": [
      "Template   0: fsps_QSF_12_v3_001.dat (NZ=1).\n",
      "Template   1: fsps_QSF_12_v3_002.dat (NZ=1).\n",
      "Template   2: fsps_QSF_12_v3_003.dat (NZ=1).\n",
      "Template   3: fsps_QSF_12_v3_004.dat (NZ=1).\n",
      "Template   4: fsps_QSF_12_v3_005.dat (NZ=1).\n",
      "Template   5: fsps_QSF_12_v3_006.dat (NZ=1).\n",
      "Template   6: fsps_QSF_12_v3_007.dat (NZ=1).\n",
      "Template   7: fsps_QSF_12_v3_008.dat (NZ=1).\n",
      "Template   8: fsps_QSF_12_v3_009.dat (NZ=1).\n",
      "Template   9: fsps_QSF_12_v3_010.dat (NZ=1).\n",
      "Template  10: fsps_QSF_12_v3_011.dat (NZ=1).\n",
      "Template  11: fsps_QSF_12_v3_012.dat (NZ=1).\n",
      "Template  12: binc100z001age6_cloudy.dat (NZ=1).\n",
      "Template  13: binc100z001age65_cloudy.dat (NZ=1).\n",
      "Template  14: binc100z001age7_cloudy.dat (NZ=1).\n",
      "Template  15: binc100z001age6.dat (NZ=1).\n",
      "Template  16: binc100z001age65.dat (NZ=1).\n",
      "Template  17: binc100z001age7.dat (NZ=1).\n",
      "Process templates: 12.528 s\n"
     ]
    },
    {
     "name": "stderr",
     "output_type": "stream",
     "text": [
      "304it [00:00, 29453.43it/s]"
     ]
    },
    {
     "name": "stdout",
     "output_type": "stream",
     "text": [
      "Saving tempfilt to /nvme/scratch/work/tharvey/EXPANSE/src/EXPANSE/eazy/tempfilt/\n"
     ]
    },
    {
     "name": "stderr",
     "output_type": "stream",
     "text": [
      "\n",
      "100%|██████████| 304/304 [00:00<00:00, 4905.56it/s]\n"
     ]
    },
    {
     "name": "stdout",
     "output_type": "stream",
     "text": [
      "Compute best fits\n",
      "fit_best: 0.0 s (n_proc=1,  NOBJ=1)\n",
      "Fit 0.4 s (n_proc=4, NOBJ=1)\n",
      "Setting meta, id_phot, 0\n",
      "Setting meta, z_best, 6.7163873\n",
      "Setting meta, chi2, 65.32114223364452\n",
      "Setting meta, z16, 6.6950397\n",
      "Setting meta, z50, 6.713697\n",
      "Setting meta, z84, 6.7333536\n",
      "Setting meta, flux_unit, uJy\n",
      "Setting meta, wave_unit, Angstrom\n",
      "Setting meta, templates_file, /nvme/scratch/work/tharvey/EAZY/inputs/scripts/templates/LarsonTemplates/tweak_fsps_QSF_12_v3_newtemplates.param\n",
      "Setting meta, z_min, 0.01\n",
      "Setting meta, z_max, 20.0\n",
      "Setting meta, z_step, 0.01\n",
      "Setting meta, region, MAG_APER_0.32 arcsec_fsps_larson_0.05__Asada24_cgm\n",
      " added to <HDF5 file \"JOF_psfmatched_13921.h5\" (mode r+)>, interactive_outputs/MAG_APER_0_32 arcsec_fsps_larson_0_05__Asada24_cgm/, eazy_fit\n",
      " added to <HDF5 file \"JOF_psfmatched_13921.h5\" (mode r+)>, interactive_outputs/MAG_APER_0_32 arcsec_fsps_larson_0_05__Asada24_cgm/, p_z\n",
      " added to <HDF5 file \"JOF_psfmatched_13921.h5\" (mode r+)>, interactive_outputs/MAG_APER_0_32 arcsec_fsps_larson_0_05__Asada24_cgm/, input_flux\n",
      " added to <HDF5 file \"JOF_psfmatched_13921.h5\" (mode r+)>, interactive_outputs/MAG_APER_0_32 arcsec_fsps_larson_0_05__Asada24_cgm/, input_flux_err\n",
      "Zeropoint: 23.9\n",
      "{'TEMPLATES_FILE': '/nvme/scratch/work/tharvey/EAZY/inputs/scripts/templates/LarsonTemplates/tweak_fsps_QSF_12_v3_newtemplates.param', 'FILTERS_RES': '/nvme/scratch/work/tharvey/EXPANSE/src/EXPANSE/eazy/jwst_nircam_FILTER.RES', 'MW_EBV': 0, 'CAT_HAS_EXTCORR': False, 'ADD_CGM': True, 'Z_STEP': 0.01, 'Z_MIN': 0.01, 'Z_MAX': 20.0, 'TEMP_ERR_FILE': '/nvme/scratch/work/tharvey/EXPANSE/src/EXPANSE/eazy/TEMPLATE_ERROR.eazy_v1.0', 'TEMP_ERR_A2': 0, 'SYS_ERR': 0, 'APPLY_PRIOR': 'n', 'PRIOR_ABZP': 23.9, 'PRIOR_FILTER': 28, 'PRIOR_FILE': '', 'FIX_ZSPEC': False, 'IGM_SCALE_TAU': 1.0, 'N_MIN_COLORS': 2, 'CATALOG_FILE': '/tmp/tmp6warq4cm/eazy_input.fits'}\n",
      "Read default param file: /nvme/scratch/software/anaconda3/envs/tharvey_galfind/lib/python3.10/site-packages/eazy/data/zphot.param.default\n",
      "Read CATALOG_FILE: /tmp/tmp6warq4cm/eazy_input.fits\n",
      "   >>> NOBJ = 1\n",
      "F22 E22 ( 22): hst/ACS_update_sep07/wfc_f435w_t81.dat\n",
      "F23 E23 ( 23): hst/ACS_update_sep07/wfc_f606w_t81.dat\n",
      "F49 E49 ( 49): hst/ACS_update_sep07/wfc_f775w_t81.dat\n",
      "F24 E24 ( 24): hst/ACS_update_sep07/wfc_f814w_t81.dat\n",
      "F50 E50 ( 50): hst/ACS_update_sep07/wfc_f850lp_t81.dat\n",
      "F1 E1 (  1): jwst_nircam_f090w\n",
      "F2 E2 (  2): jwst_nircam_f115w\n",
      "F3 E3 (  3): jwst_nircam_f150w\n",
      "F38 E38 ( 38): jwst_nircam_f162m\n",
      "F39 E39 ( 39): jwst_nircam_f182m\n",
      "F4 E4 (  4): jwst_nircam_f200w\n",
      "F40 E40 ( 40): jwst_nircam_f210m\n",
      "F41 E41 ( 41): jwst_nircam_f250m\n",
      "F5 E5 (  5): jwst_nircam_f277w\n",
      "F42 E42 ( 42): jwst_nircam_f300m\n",
      "F43 E43 ( 43): jwst_nircam_f335m\n",
      "F6 E6 (  6): jwst_nircam_f356w\n",
      "F7 E7 (  7): jwst_nircam_f410m\n",
      "F8 E8 (  8): jwst_nircam_f444w\n",
      "Set sys_err = 0.00 (positive=True)\n",
      "Template grid: /nvme/scratch/work/tharvey/EAZY/inputs/scripts/templates/LarsonTemplates/tweak_fsps_QSF_12_v3_newtemplates.param (this may take some time)\n"
     ]
    },
    {
     "name": "stderr",
     "output_type": "stream",
     "text": [
      "100%|██████████| 18/18 [00:12<00:00,  1.49it/s]\n"
     ]
    },
    {
     "name": "stdout",
     "output_type": "stream",
     "text": [
      "Template   0: fsps_QSF_12_v3_001.dat (NZ=1).\n",
      "Template   1: fsps_QSF_12_v3_002.dat (NZ=1).\n",
      "Template   2: fsps_QSF_12_v3_003.dat (NZ=1).\n",
      "Template   3: fsps_QSF_12_v3_004.dat (NZ=1).\n",
      "Template   4: fsps_QSF_12_v3_005.dat (NZ=1).\n",
      "Template   5: fsps_QSF_12_v3_006.dat (NZ=1).\n",
      "Template   6: fsps_QSF_12_v3_007.dat (NZ=1).\n",
      "Template   7: fsps_QSF_12_v3_008.dat (NZ=1).\n",
      "Template   8: fsps_QSF_12_v3_009.dat (NZ=1).\n",
      "Template   9: fsps_QSF_12_v3_010.dat (NZ=1).\n",
      "Template  10: fsps_QSF_12_v3_011.dat (NZ=1).\n",
      "Template  11: fsps_QSF_12_v3_012.dat (NZ=1).\n",
      "Template  12: binc100z001age6_cloudy.dat (NZ=1).\n",
      "Template  13: binc100z001age65_cloudy.dat (NZ=1).\n",
      "Template  14: binc100z001age7_cloudy.dat (NZ=1).\n",
      "Template  15: binc100z001age6.dat (NZ=1).\n",
      "Template  16: binc100z001age65.dat (NZ=1).\n",
      "Template  17: binc100z001age7.dat (NZ=1).\n",
      "Process templates: 12.543 s\n"
     ]
    },
    {
     "name": "stderr",
     "output_type": "stream",
     "text": [
      "304it [00:00, 20308.49it/s]\n"
     ]
    },
    {
     "name": "stdout",
     "output_type": "stream",
     "text": [
      "Saving tempfilt to /nvme/scratch/work/tharvey/EXPANSE/src/EXPANSE/eazy/tempfilt/\n"
     ]
    },
    {
     "name": "stderr",
     "output_type": "stream",
     "text": [
      "100%|██████████| 304/304 [00:00<00:00, 6021.35it/s]\n"
     ]
    },
    {
     "name": "stdout",
     "output_type": "stream",
     "text": [
      "Compute best fits\n",
      "fit_best: 0.0 s (n_proc=1,  NOBJ=1)\n",
      "Fit 0.4 s (n_proc=4, NOBJ=1)\n",
      "Setting meta, id_phot, 0\n",
      "Setting meta, z_best, 6.175025\n",
      "Setting meta, chi2, 21.906081879805043\n",
      "Setting meta, z16, 6.1314297\n",
      "Setting meta, z50, 6.171408\n",
      "Setting meta, z84, 6.2235947\n",
      "Setting meta, flux_unit, uJy\n",
      "Setting meta, wave_unit, Angstrom\n",
      "Setting meta, templates_file, /nvme/scratch/work/tharvey/EAZY/inputs/scripts/templates/LarsonTemplates/tweak_fsps_QSF_12_v3_newtemplates.param\n",
      "Setting meta, z_min, 0.01\n",
      "Setting meta, z_max, 20.0\n",
      "Setting meta, z_step, 0.01\n",
      "Setting meta, region, MAG_APER_0.32 arcsec_fsps_larson_0.05__Asada24_cgm\n",
      " added to <HDF5 file \"JOF_psfmatched_1393.h5\" (mode r+)>, interactive_outputs/MAG_APER_0_32 arcsec_fsps_larson_0_05__Asada24_cgm/, eazy_fit\n",
      " added to <HDF5 file \"JOF_psfmatched_1393.h5\" (mode r+)>, interactive_outputs/MAG_APER_0_32 arcsec_fsps_larson_0_05__Asada24_cgm/, p_z\n",
      " added to <HDF5 file \"JOF_psfmatched_1393.h5\" (mode r+)>, interactive_outputs/MAG_APER_0_32 arcsec_fsps_larson_0_05__Asada24_cgm/, input_flux\n",
      " added to <HDF5 file \"JOF_psfmatched_1393.h5\" (mode r+)>, interactive_outputs/MAG_APER_0_32 arcsec_fsps_larson_0_05__Asada24_cgm/, input_flux_err\n",
      "Zeropoint: 23.9\n",
      "{'TEMPLATES_FILE': '/nvme/scratch/work/tharvey/EAZY/inputs/scripts/templates/LarsonTemplates/tweak_fsps_QSF_12_v3_newtemplates.param', 'FILTERS_RES': '/nvme/scratch/work/tharvey/EXPANSE/src/EXPANSE/eazy/jwst_nircam_FILTER.RES', 'MW_EBV': 0, 'CAT_HAS_EXTCORR': False, 'ADD_CGM': True, 'Z_STEP': 0.01, 'Z_MIN': 0.01, 'Z_MAX': 20.0, 'TEMP_ERR_FILE': '/nvme/scratch/work/tharvey/EXPANSE/src/EXPANSE/eazy/TEMPLATE_ERROR.eazy_v1.0', 'TEMP_ERR_A2': 0, 'SYS_ERR': 0, 'APPLY_PRIOR': 'n', 'PRIOR_ABZP': 23.9, 'PRIOR_FILTER': 28, 'PRIOR_FILE': '', 'FIX_ZSPEC': False, 'IGM_SCALE_TAU': 1.0, 'N_MIN_COLORS': 2, 'CATALOG_FILE': '/tmp/tmp2tfc2868/eazy_input.fits'}\n",
      "Read default param file: /nvme/scratch/software/anaconda3/envs/tharvey_galfind/lib/python3.10/site-packages/eazy/data/zphot.param.default\n",
      "Read CATALOG_FILE: /tmp/tmp2tfc2868/eazy_input.fits\n",
      "   >>> NOBJ = 1\n",
      "F22 E22 ( 22): hst/ACS_update_sep07/wfc_f435w_t81.dat\n",
      "F23 E23 ( 23): hst/ACS_update_sep07/wfc_f606w_t81.dat\n",
      "F49 E49 ( 49): hst/ACS_update_sep07/wfc_f775w_t81.dat\n",
      "F24 E24 ( 24): hst/ACS_update_sep07/wfc_f814w_t81.dat\n",
      "F50 E50 ( 50): hst/ACS_update_sep07/wfc_f850lp_t81.dat\n",
      "F1 E1 (  1): jwst_nircam_f090w\n",
      "F2 E2 (  2): jwst_nircam_f115w\n",
      "F3 E3 (  3): jwst_nircam_f150w\n",
      "F38 E38 ( 38): jwst_nircam_f162m\n",
      "F39 E39 ( 39): jwst_nircam_f182m\n",
      "F4 E4 (  4): jwst_nircam_f200w\n",
      "F40 E40 ( 40): jwst_nircam_f210m\n",
      "F41 E41 ( 41): jwst_nircam_f250m\n",
      "F5 E5 (  5): jwst_nircam_f277w\n",
      "F42 E42 ( 42): jwst_nircam_f300m\n",
      "F43 E43 ( 43): jwst_nircam_f335m\n",
      "F6 E6 (  6): jwst_nircam_f356w\n",
      "F7 E7 (  7): jwst_nircam_f410m\n",
      "F8 E8 (  8): jwst_nircam_f444w\n",
      "Set sys_err = 0.00 (positive=True)\n",
      "Template grid: /nvme/scratch/work/tharvey/EAZY/inputs/scripts/templates/LarsonTemplates/tweak_fsps_QSF_12_v3_newtemplates.param (this may take some time)\n"
     ]
    },
    {
     "name": "stderr",
     "output_type": "stream",
     "text": [
      "100%|██████████| 18/18 [00:12<00:00,  1.49it/s]\n"
     ]
    },
    {
     "name": "stdout",
     "output_type": "stream",
     "text": [
      "Template   0: fsps_QSF_12_v3_001.dat (NZ=1).\n",
      "Template   1: fsps_QSF_12_v3_002.dat (NZ=1).\n",
      "Template   2: fsps_QSF_12_v3_003.dat (NZ=1).\n",
      "Template   3: fsps_QSF_12_v3_004.dat (NZ=1).\n",
      "Template   4: fsps_QSF_12_v3_005.dat (NZ=1).\n",
      "Template   5: fsps_QSF_12_v3_006.dat (NZ=1).\n",
      "Template   6: fsps_QSF_12_v3_007.dat (NZ=1).\n",
      "Template   7: fsps_QSF_12_v3_008.dat (NZ=1).\n",
      "Template   8: fsps_QSF_12_v3_009.dat (NZ=1).\n",
      "Template   9: fsps_QSF_12_v3_010.dat (NZ=1).\n",
      "Template  10: fsps_QSF_12_v3_011.dat (NZ=1).\n",
      "Template  11: fsps_QSF_12_v3_012.dat (NZ=1).\n",
      "Template  12: binc100z001age6_cloudy.dat (NZ=1).\n",
      "Template  13: binc100z001age65_cloudy.dat (NZ=1).\n",
      "Template  14: binc100z001age7_cloudy.dat (NZ=1).\n",
      "Template  15: binc100z001age6.dat (NZ=1).\n",
      "Template  16: binc100z001age65.dat (NZ=1).\n",
      "Template  17: binc100z001age7.dat (NZ=1).\n",
      "Process templates: 12.520 s\n"
     ]
    },
    {
     "name": "stderr",
     "output_type": "stream",
     "text": [
      "304it [00:00, 27558.92it/s]\n"
     ]
    },
    {
     "name": "stdout",
     "output_type": "stream",
     "text": [
      "Saving tempfilt to /nvme/scratch/work/tharvey/EXPANSE/src/EXPANSE/eazy/tempfilt/\n"
     ]
    },
    {
     "name": "stderr",
     "output_type": "stream",
     "text": [
      "100%|██████████| 304/304 [00:00<00:00, 4817.07it/s]\n"
     ]
    },
    {
     "name": "stdout",
     "output_type": "stream",
     "text": [
      "Compute best fits\n",
      "fit_best: 0.0 s (n_proc=1,  NOBJ=1)\n",
      "Fit 0.4 s (n_proc=4, NOBJ=1)\n",
      "Setting meta, id_phot, 0\n",
      "Setting meta, z_best, 6.7363253\n",
      "Setting meta, chi2, 36.277319725831106\n",
      "Setting meta, z16, 6.7072854\n",
      "Setting meta, z50, 6.736331\n",
      "Setting meta, z84, 6.763896\n",
      "Setting meta, flux_unit, uJy\n",
      "Setting meta, wave_unit, Angstrom\n",
      "Setting meta, templates_file, /nvme/scratch/work/tharvey/EAZY/inputs/scripts/templates/LarsonTemplates/tweak_fsps_QSF_12_v3_newtemplates.param\n",
      "Setting meta, z_min, 0.01\n",
      "Setting meta, z_max, 20.0\n",
      "Setting meta, z_step, 0.01\n",
      "Setting meta, region, MAG_APER_0.32 arcsec_fsps_larson_0.05__Asada24_cgm\n",
      " added to <HDF5 file \"JOF_psfmatched_14185.h5\" (mode r+)>, interactive_outputs/MAG_APER_0_32 arcsec_fsps_larson_0_05__Asada24_cgm/, eazy_fit\n",
      " added to <HDF5 file \"JOF_psfmatched_14185.h5\" (mode r+)>, interactive_outputs/MAG_APER_0_32 arcsec_fsps_larson_0_05__Asada24_cgm/, p_z\n",
      " added to <HDF5 file \"JOF_psfmatched_14185.h5\" (mode r+)>, interactive_outputs/MAG_APER_0_32 arcsec_fsps_larson_0_05__Asada24_cgm/, input_flux\n",
      " added to <HDF5 file \"JOF_psfmatched_14185.h5\" (mode r+)>, interactive_outputs/MAG_APER_0_32 arcsec_fsps_larson_0_05__Asada24_cgm/, input_flux_err\n",
      "Zeropoint: 23.9\n",
      "{'TEMPLATES_FILE': '/nvme/scratch/work/tharvey/EAZY/inputs/scripts/templates/LarsonTemplates/tweak_fsps_QSF_12_v3_newtemplates.param', 'FILTERS_RES': '/nvme/scratch/work/tharvey/EXPANSE/src/EXPANSE/eazy/jwst_nircam_FILTER.RES', 'MW_EBV': 0, 'CAT_HAS_EXTCORR': False, 'ADD_CGM': True, 'Z_STEP': 0.01, 'Z_MIN': 0.01, 'Z_MAX': 20.0, 'TEMP_ERR_FILE': '/nvme/scratch/work/tharvey/EXPANSE/src/EXPANSE/eazy/TEMPLATE_ERROR.eazy_v1.0', 'TEMP_ERR_A2': 0, 'SYS_ERR': 0, 'APPLY_PRIOR': 'n', 'PRIOR_ABZP': 23.9, 'PRIOR_FILTER': 28, 'PRIOR_FILE': '', 'FIX_ZSPEC': False, 'IGM_SCALE_TAU': 1.0, 'N_MIN_COLORS': 2, 'CATALOG_FILE': '/tmp/tmps68101lt/eazy_input.fits'}\n",
      "Read default param file: /nvme/scratch/software/anaconda3/envs/tharvey_galfind/lib/python3.10/site-packages/eazy/data/zphot.param.default\n",
      "Read CATALOG_FILE: /tmp/tmps68101lt/eazy_input.fits\n",
      "   >>> NOBJ = 1\n",
      "F22 E22 ( 22): hst/ACS_update_sep07/wfc_f435w_t81.dat\n",
      "F23 E23 ( 23): hst/ACS_update_sep07/wfc_f606w_t81.dat\n",
      "F49 E49 ( 49): hst/ACS_update_sep07/wfc_f775w_t81.dat\n",
      "F24 E24 ( 24): hst/ACS_update_sep07/wfc_f814w_t81.dat\n",
      "F50 E50 ( 50): hst/ACS_update_sep07/wfc_f850lp_t81.dat\n",
      "F1 E1 (  1): jwst_nircam_f090w\n",
      "F2 E2 (  2): jwst_nircam_f115w\n",
      "F3 E3 (  3): jwst_nircam_f150w\n",
      "F38 E38 ( 38): jwst_nircam_f162m\n",
      "F39 E39 ( 39): jwst_nircam_f182m\n",
      "F4 E4 (  4): jwst_nircam_f200w\n",
      "F40 E40 ( 40): jwst_nircam_f210m\n",
      "F41 E41 ( 41): jwst_nircam_f250m\n",
      "F5 E5 (  5): jwst_nircam_f277w\n",
      "F42 E42 ( 42): jwst_nircam_f300m\n",
      "F43 E43 ( 43): jwst_nircam_f335m\n",
      "F6 E6 (  6): jwst_nircam_f356w\n",
      "F7 E7 (  7): jwst_nircam_f410m\n",
      "F8 E8 (  8): jwst_nircam_f444w\n",
      "Set sys_err = 0.00 (positive=True)\n",
      "Template grid: /nvme/scratch/work/tharvey/EAZY/inputs/scripts/templates/LarsonTemplates/tweak_fsps_QSF_12_v3_newtemplates.param (this may take some time)\n"
     ]
    },
    {
     "name": "stderr",
     "output_type": "stream",
     "text": [
      "100%|██████████| 18/18 [00:11<00:00,  1.53it/s]\n"
     ]
    },
    {
     "name": "stdout",
     "output_type": "stream",
     "text": [
      "Template   0: fsps_QSF_12_v3_001.dat (NZ=1).\n",
      "Template   1: fsps_QSF_12_v3_002.dat (NZ=1).\n",
      "Template   2: fsps_QSF_12_v3_003.dat (NZ=1).\n",
      "Template   3: fsps_QSF_12_v3_004.dat (NZ=1).\n",
      "Template   4: fsps_QSF_12_v3_005.dat (NZ=1).\n",
      "Template   5: fsps_QSF_12_v3_006.dat (NZ=1).\n",
      "Template   6: fsps_QSF_12_v3_007.dat (NZ=1).\n",
      "Template   7: fsps_QSF_12_v3_008.dat (NZ=1).\n",
      "Template   8: fsps_QSF_12_v3_009.dat (NZ=1).\n",
      "Template   9: fsps_QSF_12_v3_010.dat (NZ=1).\n",
      "Template  10: fsps_QSF_12_v3_011.dat (NZ=1).\n",
      "Template  11: fsps_QSF_12_v3_012.dat (NZ=1).\n",
      "Template  12: binc100z001age6_cloudy.dat (NZ=1).\n",
      "Template  13: binc100z001age65_cloudy.dat (NZ=1).\n",
      "Template  14: binc100z001age7_cloudy.dat (NZ=1).\n",
      "Template  15: binc100z001age6.dat (NZ=1).\n",
      "Template  16: binc100z001age65.dat (NZ=1).\n",
      "Template  17: binc100z001age7.dat (NZ=1).\n",
      "Process templates: 12.229 s\n"
     ]
    },
    {
     "name": "stderr",
     "output_type": "stream",
     "text": [
      "304it [00:00, 28456.27it/s]"
     ]
    },
    {
     "name": "stdout",
     "output_type": "stream",
     "text": [
      "Saving tempfilt to /nvme/scratch/work/tharvey/EXPANSE/src/EXPANSE/eazy/tempfilt/\n"
     ]
    },
    {
     "name": "stderr",
     "output_type": "stream",
     "text": [
      "\n",
      "100%|██████████| 304/304 [00:00<00:00, 5211.91it/s]\n"
     ]
    },
    {
     "name": "stdout",
     "output_type": "stream",
     "text": [
      "Compute best fits\n",
      "fit_best: 0.0 s (n_proc=1,  NOBJ=1)\n",
      "Fit 0.4 s (n_proc=4, NOBJ=1)\n",
      "Setting meta, id_phot, 0\n",
      "Setting meta, z_best, 6.3285384\n",
      "Setting meta, chi2, 26.841261071648077\n",
      "Setting meta, z16, 6.092555\n",
      "Setting meta, z50, 6.3045864\n",
      "Setting meta, z84, 6.507785\n",
      "Setting meta, flux_unit, uJy\n",
      "Setting meta, wave_unit, Angstrom\n",
      "Setting meta, templates_file, /nvme/scratch/work/tharvey/EAZY/inputs/scripts/templates/LarsonTemplates/tweak_fsps_QSF_12_v3_newtemplates.param\n",
      "Setting meta, z_min, 0.01\n",
      "Setting meta, z_max, 20.0\n",
      "Setting meta, z_step, 0.01\n",
      "Setting meta, region, MAG_APER_0.32 arcsec_fsps_larson_0.05__Asada24_cgm\n",
      " added to <HDF5 file \"JOF_psfmatched_14194.h5\" (mode r+)>, interactive_outputs/MAG_APER_0_32 arcsec_fsps_larson_0_05__Asada24_cgm/, eazy_fit\n",
      " added to <HDF5 file \"JOF_psfmatched_14194.h5\" (mode r+)>, interactive_outputs/MAG_APER_0_32 arcsec_fsps_larson_0_05__Asada24_cgm/, p_z\n",
      " added to <HDF5 file \"JOF_psfmatched_14194.h5\" (mode r+)>, interactive_outputs/MAG_APER_0_32 arcsec_fsps_larson_0_05__Asada24_cgm/, input_flux\n",
      " added to <HDF5 file \"JOF_psfmatched_14194.h5\" (mode r+)>, interactive_outputs/MAG_APER_0_32 arcsec_fsps_larson_0_05__Asada24_cgm/, input_flux_err\n",
      "Zeropoint: 23.9\n",
      "{'TEMPLATES_FILE': '/nvme/scratch/work/tharvey/EAZY/inputs/scripts/templates/LarsonTemplates/tweak_fsps_QSF_12_v3_newtemplates.param', 'FILTERS_RES': '/nvme/scratch/work/tharvey/EXPANSE/src/EXPANSE/eazy/jwst_nircam_FILTER.RES', 'MW_EBV': 0, 'CAT_HAS_EXTCORR': False, 'ADD_CGM': True, 'Z_STEP': 0.01, 'Z_MIN': 0.01, 'Z_MAX': 20.0, 'TEMP_ERR_FILE': '/nvme/scratch/work/tharvey/EXPANSE/src/EXPANSE/eazy/TEMPLATE_ERROR.eazy_v1.0', 'TEMP_ERR_A2': 0, 'SYS_ERR': 0, 'APPLY_PRIOR': 'n', 'PRIOR_ABZP': 23.9, 'PRIOR_FILTER': 28, 'PRIOR_FILE': '', 'FIX_ZSPEC': False, 'IGM_SCALE_TAU': 1.0, 'N_MIN_COLORS': 2, 'CATALOG_FILE': '/tmp/tmpgp1th79a/eazy_input.fits'}\n",
      "Read default param file: /nvme/scratch/software/anaconda3/envs/tharvey_galfind/lib/python3.10/site-packages/eazy/data/zphot.param.default\n",
      "Read CATALOG_FILE: /tmp/tmpgp1th79a/eazy_input.fits\n",
      "   >>> NOBJ = 1\n",
      "F22 E22 ( 22): hst/ACS_update_sep07/wfc_f435w_t81.dat\n",
      "F23 E23 ( 23): hst/ACS_update_sep07/wfc_f606w_t81.dat\n",
      "F49 E49 ( 49): hst/ACS_update_sep07/wfc_f775w_t81.dat\n",
      "F24 E24 ( 24): hst/ACS_update_sep07/wfc_f814w_t81.dat\n",
      "F50 E50 ( 50): hst/ACS_update_sep07/wfc_f850lp_t81.dat\n",
      "F1 E1 (  1): jwst_nircam_f090w\n",
      "F2 E2 (  2): jwst_nircam_f115w\n",
      "F3 E3 (  3): jwst_nircam_f150w\n",
      "F38 E38 ( 38): jwst_nircam_f162m\n",
      "F39 E39 ( 39): jwst_nircam_f182m\n",
      "F4 E4 (  4): jwst_nircam_f200w\n",
      "F40 E40 ( 40): jwst_nircam_f210m\n",
      "F41 E41 ( 41): jwst_nircam_f250m\n",
      "F5 E5 (  5): jwst_nircam_f277w\n",
      "F42 E42 ( 42): jwst_nircam_f300m\n",
      "F43 E43 ( 43): jwst_nircam_f335m\n",
      "F6 E6 (  6): jwst_nircam_f356w\n",
      "F7 E7 (  7): jwst_nircam_f410m\n",
      "F8 E8 (  8): jwst_nircam_f444w\n",
      "Set sys_err = 0.00 (positive=True)\n",
      "Template grid: /nvme/scratch/work/tharvey/EAZY/inputs/scripts/templates/LarsonTemplates/tweak_fsps_QSF_12_v3_newtemplates.param (this may take some time)\n"
     ]
    },
    {
     "name": "stderr",
     "output_type": "stream",
     "text": [
      "100%|██████████| 18/18 [00:12<00:00,  1.49it/s]\n"
     ]
    },
    {
     "name": "stdout",
     "output_type": "stream",
     "text": [
      "Template   0: fsps_QSF_12_v3_001.dat (NZ=1).\n",
      "Template   1: fsps_QSF_12_v3_002.dat (NZ=1).\n",
      "Template   2: fsps_QSF_12_v3_003.dat (NZ=1).\n",
      "Template   3: fsps_QSF_12_v3_004.dat (NZ=1).\n",
      "Template   4: fsps_QSF_12_v3_005.dat (NZ=1).\n",
      "Template   5: fsps_QSF_12_v3_006.dat (NZ=1).\n",
      "Template   6: fsps_QSF_12_v3_007.dat (NZ=1).\n",
      "Template   7: fsps_QSF_12_v3_008.dat (NZ=1).\n",
      "Template   8: fsps_QSF_12_v3_009.dat (NZ=1).\n",
      "Template   9: fsps_QSF_12_v3_010.dat (NZ=1).\n",
      "Template  10: fsps_QSF_12_v3_011.dat (NZ=1).\n",
      "Template  11: fsps_QSF_12_v3_012.dat (NZ=1).\n",
      "Template  12: binc100z001age6_cloudy.dat (NZ=1).\n",
      "Template  13: binc100z001age65_cloudy.dat (NZ=1).\n",
      "Template  14: binc100z001age7_cloudy.dat (NZ=1).\n",
      "Template  15: binc100z001age6.dat (NZ=1).\n",
      "Template  16: binc100z001age65.dat (NZ=1).\n",
      "Template  17: binc100z001age7.dat (NZ=1).\n",
      "Process templates: 12.580 s\n"
     ]
    },
    {
     "name": "stderr",
     "output_type": "stream",
     "text": [
      "304it [00:00, 24985.66it/s]"
     ]
    },
    {
     "name": "stdout",
     "output_type": "stream",
     "text": [
      "Saving tempfilt to /nvme/scratch/work/tharvey/EXPANSE/src/EXPANSE/eazy/tempfilt/\n"
     ]
    },
    {
     "name": "stderr",
     "output_type": "stream",
     "text": [
      "\n",
      "100%|██████████| 304/304 [00:00<00:00, 5544.35it/s]\n"
     ]
    },
    {
     "name": "stdout",
     "output_type": "stream",
     "text": [
      "Compute best fits\n",
      "fit_best: 0.0 s (n_proc=1,  NOBJ=1)\n",
      "Fit 0.4 s (n_proc=4, NOBJ=1)\n",
      "Setting meta, id_phot, 0\n",
      "Setting meta, z_best, 6.039291\n",
      "Setting meta, chi2, 13.198924694306472\n",
      "Setting meta, z16, 5.994485\n",
      "Setting meta, z50, 6.04212\n",
      "Setting meta, z84, 6.0801044\n",
      "Setting meta, flux_unit, uJy\n",
      "Setting meta, wave_unit, Angstrom\n",
      "Setting meta, templates_file, /nvme/scratch/work/tharvey/EAZY/inputs/scripts/templates/LarsonTemplates/tweak_fsps_QSF_12_v3_newtemplates.param\n",
      "Setting meta, z_min, 0.01\n",
      "Setting meta, z_max, 20.0\n",
      "Setting meta, z_step, 0.01\n",
      "Setting meta, region, MAG_APER_0.32 arcsec_fsps_larson_0.05__Asada24_cgm\n",
      " added to <HDF5 file \"JOF_psfmatched_14307.h5\" (mode r+)>, interactive_outputs/MAG_APER_0_32 arcsec_fsps_larson_0_05__Asada24_cgm/, eazy_fit\n",
      " added to <HDF5 file \"JOF_psfmatched_14307.h5\" (mode r+)>, interactive_outputs/MAG_APER_0_32 arcsec_fsps_larson_0_05__Asada24_cgm/, p_z\n",
      " added to <HDF5 file \"JOF_psfmatched_14307.h5\" (mode r+)>, interactive_outputs/MAG_APER_0_32 arcsec_fsps_larson_0_05__Asada24_cgm/, input_flux\n",
      " added to <HDF5 file \"JOF_psfmatched_14307.h5\" (mode r+)>, interactive_outputs/MAG_APER_0_32 arcsec_fsps_larson_0_05__Asada24_cgm/, input_flux_err\n",
      "Zeropoint: 23.9\n",
      "{'TEMPLATES_FILE': '/nvme/scratch/work/tharvey/EAZY/inputs/scripts/templates/LarsonTemplates/tweak_fsps_QSF_12_v3_newtemplates.param', 'FILTERS_RES': '/nvme/scratch/work/tharvey/EXPANSE/src/EXPANSE/eazy/jwst_nircam_FILTER.RES', 'MW_EBV': 0, 'CAT_HAS_EXTCORR': False, 'ADD_CGM': True, 'Z_STEP': 0.01, 'Z_MIN': 0.01, 'Z_MAX': 20.0, 'TEMP_ERR_FILE': '/nvme/scratch/work/tharvey/EXPANSE/src/EXPANSE/eazy/TEMPLATE_ERROR.eazy_v1.0', 'TEMP_ERR_A2': 0, 'SYS_ERR': 0, 'APPLY_PRIOR': 'n', 'PRIOR_ABZP': 23.9, 'PRIOR_FILTER': 28, 'PRIOR_FILE': '', 'FIX_ZSPEC': False, 'IGM_SCALE_TAU': 1.0, 'N_MIN_COLORS': 2, 'CATALOG_FILE': '/tmp/tmp4j05bo0w/eazy_input.fits'}\n",
      "Read default param file: /nvme/scratch/software/anaconda3/envs/tharvey_galfind/lib/python3.10/site-packages/eazy/data/zphot.param.default\n",
      "Read CATALOG_FILE: /tmp/tmp4j05bo0w/eazy_input.fits\n",
      "   >>> NOBJ = 1\n",
      "F22 E22 ( 22): hst/ACS_update_sep07/wfc_f435w_t81.dat\n",
      "F23 E23 ( 23): hst/ACS_update_sep07/wfc_f606w_t81.dat\n",
      "F49 E49 ( 49): hst/ACS_update_sep07/wfc_f775w_t81.dat\n",
      "F24 E24 ( 24): hst/ACS_update_sep07/wfc_f814w_t81.dat\n",
      "F50 E50 ( 50): hst/ACS_update_sep07/wfc_f850lp_t81.dat\n",
      "F1 E1 (  1): jwst_nircam_f090w\n",
      "F2 E2 (  2): jwst_nircam_f115w\n",
      "F3 E3 (  3): jwst_nircam_f150w\n",
      "F38 E38 ( 38): jwst_nircam_f162m\n",
      "F39 E39 ( 39): jwst_nircam_f182m\n",
      "F4 E4 (  4): jwst_nircam_f200w\n",
      "F40 E40 ( 40): jwst_nircam_f210m\n",
      "F41 E41 ( 41): jwst_nircam_f250m\n",
      "F5 E5 (  5): jwst_nircam_f277w\n",
      "F42 E42 ( 42): jwst_nircam_f300m\n",
      "F43 E43 ( 43): jwst_nircam_f335m\n",
      "F6 E6 (  6): jwst_nircam_f356w\n",
      "F7 E7 (  7): jwst_nircam_f410m\n",
      "F8 E8 (  8): jwst_nircam_f444w\n",
      "Set sys_err = 0.00 (positive=True)\n",
      "Template grid: /nvme/scratch/work/tharvey/EAZY/inputs/scripts/templates/LarsonTemplates/tweak_fsps_QSF_12_v3_newtemplates.param (this may take some time)\n"
     ]
    },
    {
     "name": "stderr",
     "output_type": "stream",
     "text": [
      "100%|██████████| 18/18 [00:12<00:00,  1.45it/s]\n"
     ]
    },
    {
     "name": "stdout",
     "output_type": "stream",
     "text": [
      "Template   0: fsps_QSF_12_v3_001.dat (NZ=1).\n",
      "Template   1: fsps_QSF_12_v3_002.dat (NZ=1).\n",
      "Template   2: fsps_QSF_12_v3_003.dat (NZ=1).\n",
      "Template   3: fsps_QSF_12_v3_004.dat (NZ=1).\n",
      "Template   4: fsps_QSF_12_v3_005.dat (NZ=1).\n",
      "Template   5: fsps_QSF_12_v3_006.dat (NZ=1).\n",
      "Template   6: fsps_QSF_12_v3_007.dat (NZ=1).\n",
      "Template   7: fsps_QSF_12_v3_008.dat (NZ=1).\n",
      "Template   8: fsps_QSF_12_v3_009.dat (NZ=1).\n",
      "Template   9: fsps_QSF_12_v3_010.dat (NZ=1).\n",
      "Template  10: fsps_QSF_12_v3_011.dat (NZ=1).\n",
      "Template  11: fsps_QSF_12_v3_012.dat (NZ=1).\n",
      "Template  12: binc100z001age6_cloudy.dat (NZ=1).\n",
      "Template  13: binc100z001age65_cloudy.dat (NZ=1).\n",
      "Template  14: binc100z001age7_cloudy.dat (NZ=1).\n",
      "Template  15: binc100z001age6.dat (NZ=1).\n",
      "Template  16: binc100z001age65.dat (NZ=1).\n",
      "Template  17: binc100z001age7.dat (NZ=1).\n",
      "Process templates: 12.898 s\n"
     ]
    },
    {
     "name": "stderr",
     "output_type": "stream",
     "text": [
      "304it [00:00, 22382.97it/s]"
     ]
    },
    {
     "name": "stdout",
     "output_type": "stream",
     "text": [
      "Saving tempfilt to /nvme/scratch/work/tharvey/EXPANSE/src/EXPANSE/eazy/tempfilt/\n"
     ]
    },
    {
     "name": "stderr",
     "output_type": "stream",
     "text": [
      "\n",
      "100%|██████████| 304/304 [00:00<00:00, 4690.72it/s]\n"
     ]
    },
    {
     "name": "stdout",
     "output_type": "stream",
     "text": [
      "Compute best fits\n",
      "fit_best: 0.0 s (n_proc=1,  NOBJ=1)\n",
      "Fit 0.4 s (n_proc=4, NOBJ=1)\n",
      "Setting meta, id_phot, 0\n",
      "Setting meta, z_best, 4.537729\n",
      "Setting meta, chi2, 20.278921758460708\n",
      "Setting meta, z16, 4.480731\n",
      "Setting meta, z50, 4.536349\n",
      "Setting meta, z84, 4.5879965\n",
      "Setting meta, flux_unit, uJy\n",
      "Setting meta, wave_unit, Angstrom\n",
      "Setting meta, templates_file, /nvme/scratch/work/tharvey/EAZY/inputs/scripts/templates/LarsonTemplates/tweak_fsps_QSF_12_v3_newtemplates.param\n",
      "Setting meta, z_min, 0.01\n",
      "Setting meta, z_max, 20.0\n",
      "Setting meta, z_step, 0.01\n",
      "Setting meta, region, MAG_APER_0.32 arcsec_fsps_larson_0.05__Asada24_cgm\n",
      " added to <HDF5 file \"JOF_psfmatched_1438.h5\" (mode r+)>, interactive_outputs/MAG_APER_0_32 arcsec_fsps_larson_0_05__Asada24_cgm/, eazy_fit\n",
      " added to <HDF5 file \"JOF_psfmatched_1438.h5\" (mode r+)>, interactive_outputs/MAG_APER_0_32 arcsec_fsps_larson_0_05__Asada24_cgm/, p_z\n",
      " added to <HDF5 file \"JOF_psfmatched_1438.h5\" (mode r+)>, interactive_outputs/MAG_APER_0_32 arcsec_fsps_larson_0_05__Asada24_cgm/, input_flux\n",
      " added to <HDF5 file \"JOF_psfmatched_1438.h5\" (mode r+)>, interactive_outputs/MAG_APER_0_32 arcsec_fsps_larson_0_05__Asada24_cgm/, input_flux_err\n",
      "Zeropoint: 23.9\n",
      "{'TEMPLATES_FILE': '/nvme/scratch/work/tharvey/EAZY/inputs/scripts/templates/LarsonTemplates/tweak_fsps_QSF_12_v3_newtemplates.param', 'FILTERS_RES': '/nvme/scratch/work/tharvey/EXPANSE/src/EXPANSE/eazy/jwst_nircam_FILTER.RES', 'MW_EBV': 0, 'CAT_HAS_EXTCORR': False, 'ADD_CGM': True, 'Z_STEP': 0.01, 'Z_MIN': 0.01, 'Z_MAX': 20.0, 'TEMP_ERR_FILE': '/nvme/scratch/work/tharvey/EXPANSE/src/EXPANSE/eazy/TEMPLATE_ERROR.eazy_v1.0', 'TEMP_ERR_A2': 0, 'SYS_ERR': 0, 'APPLY_PRIOR': 'n', 'PRIOR_ABZP': 23.9, 'PRIOR_FILTER': 28, 'PRIOR_FILE': '', 'FIX_ZSPEC': False, 'IGM_SCALE_TAU': 1.0, 'N_MIN_COLORS': 2, 'CATALOG_FILE': '/tmp/tmprnth2yla/eazy_input.fits'}\n",
      "Read default param file: /nvme/scratch/software/anaconda3/envs/tharvey_galfind/lib/python3.10/site-packages/eazy/data/zphot.param.default\n",
      "Read CATALOG_FILE: /tmp/tmprnth2yla/eazy_input.fits\n",
      "   >>> NOBJ = 1\n",
      "F22 E22 ( 22): hst/ACS_update_sep07/wfc_f435w_t81.dat\n",
      "F23 E23 ( 23): hst/ACS_update_sep07/wfc_f606w_t81.dat\n",
      "F49 E49 ( 49): hst/ACS_update_sep07/wfc_f775w_t81.dat\n",
      "F24 E24 ( 24): hst/ACS_update_sep07/wfc_f814w_t81.dat\n",
      "F50 E50 ( 50): hst/ACS_update_sep07/wfc_f850lp_t81.dat\n",
      "F1 E1 (  1): jwst_nircam_f090w\n",
      "F2 E2 (  2): jwst_nircam_f115w\n",
      "F3 E3 (  3): jwst_nircam_f150w\n",
      "F38 E38 ( 38): jwst_nircam_f162m\n",
      "F39 E39 ( 39): jwst_nircam_f182m\n",
      "F4 E4 (  4): jwst_nircam_f200w\n",
      "F40 E40 ( 40): jwst_nircam_f210m\n",
      "F41 E41 ( 41): jwst_nircam_f250m\n",
      "F5 E5 (  5): jwst_nircam_f277w\n",
      "F42 E42 ( 42): jwst_nircam_f300m\n",
      "F43 E43 ( 43): jwst_nircam_f335m\n",
      "F6 E6 (  6): jwst_nircam_f356w\n",
      "F7 E7 (  7): jwst_nircam_f410m\n",
      "F8 E8 (  8): jwst_nircam_f444w\n",
      "Set sys_err = 0.00 (positive=True)\n",
      "Template grid: /nvme/scratch/work/tharvey/EAZY/inputs/scripts/templates/LarsonTemplates/tweak_fsps_QSF_12_v3_newtemplates.param (this may take some time)\n"
     ]
    },
    {
     "name": "stderr",
     "output_type": "stream",
     "text": [
      "100%|██████████| 18/18 [00:12<00:00,  1.46it/s]\n"
     ]
    },
    {
     "name": "stdout",
     "output_type": "stream",
     "text": [
      "Template   0: fsps_QSF_12_v3_001.dat (NZ=1).\n",
      "Template   1: fsps_QSF_12_v3_002.dat (NZ=1).\n",
      "Template   2: fsps_QSF_12_v3_003.dat (NZ=1).\n",
      "Template   3: fsps_QSF_12_v3_004.dat (NZ=1).\n",
      "Template   4: fsps_QSF_12_v3_005.dat (NZ=1).\n",
      "Template   5: fsps_QSF_12_v3_006.dat (NZ=1).\n",
      "Template   6: fsps_QSF_12_v3_007.dat (NZ=1).\n",
      "Template   7: fsps_QSF_12_v3_008.dat (NZ=1).\n",
      "Template   8: fsps_QSF_12_v3_009.dat (NZ=1).\n",
      "Template   9: fsps_QSF_12_v3_010.dat (NZ=1).\n",
      "Template  10: fsps_QSF_12_v3_011.dat (NZ=1).\n",
      "Template  11: fsps_QSF_12_v3_012.dat (NZ=1).\n",
      "Template  12: binc100z001age6_cloudy.dat (NZ=1).\n",
      "Template  13: binc100z001age65_cloudy.dat (NZ=1).\n",
      "Template  14: binc100z001age7_cloudy.dat (NZ=1).\n",
      "Template  15: binc100z001age6.dat (NZ=1).\n",
      "Template  16: binc100z001age65.dat (NZ=1).\n",
      "Template  17: binc100z001age7.dat (NZ=1).\n",
      "Process templates: 12.777 s\n"
     ]
    },
    {
     "name": "stderr",
     "output_type": "stream",
     "text": [
      "304it [00:00, 18241.06it/s]"
     ]
    },
    {
     "name": "stdout",
     "output_type": "stream",
     "text": [
      "Saving tempfilt to /nvme/scratch/work/tharvey/EXPANSE/src/EXPANSE/eazy/tempfilt/\n"
     ]
    },
    {
     "name": "stderr",
     "output_type": "stream",
     "text": [
      "\n",
      "100%|██████████| 304/304 [00:00<00:00, 4653.79it/s]\n"
     ]
    },
    {
     "name": "stdout",
     "output_type": "stream",
     "text": [
      "Compute best fits\n",
      "fit_best: 0.0 s (n_proc=1,  NOBJ=1)\n",
      "Fit 0.4 s (n_proc=4, NOBJ=1)\n",
      "Setting meta, id_phot, 0\n",
      "Setting meta, z_best, 4.6275005\n",
      "Setting meta, chi2, 14.661999164749894\n",
      "Setting meta, z16, 4.618627\n",
      "Setting meta, z50, 4.6352577\n",
      "Setting meta, z84, 4.6488237\n",
      "Setting meta, flux_unit, uJy\n",
      "Setting meta, wave_unit, Angstrom\n",
      "Setting meta, templates_file, /nvme/scratch/work/tharvey/EAZY/inputs/scripts/templates/LarsonTemplates/tweak_fsps_QSF_12_v3_newtemplates.param\n",
      "Setting meta, z_min, 0.01\n",
      "Setting meta, z_max, 20.0\n",
      "Setting meta, z_step, 0.01\n",
      "Setting meta, region, MAG_APER_0.32 arcsec_fsps_larson_0.05__Asada24_cgm\n",
      " added to <HDF5 file \"JOF_psfmatched_14386.h5\" (mode r+)>, interactive_outputs/MAG_APER_0_32 arcsec_fsps_larson_0_05__Asada24_cgm/, eazy_fit\n",
      " added to <HDF5 file \"JOF_psfmatched_14386.h5\" (mode r+)>, interactive_outputs/MAG_APER_0_32 arcsec_fsps_larson_0_05__Asada24_cgm/, p_z\n",
      " added to <HDF5 file \"JOF_psfmatched_14386.h5\" (mode r+)>, interactive_outputs/MAG_APER_0_32 arcsec_fsps_larson_0_05__Asada24_cgm/, input_flux\n",
      " added to <HDF5 file \"JOF_psfmatched_14386.h5\" (mode r+)>, interactive_outputs/MAG_APER_0_32 arcsec_fsps_larson_0_05__Asada24_cgm/, input_flux_err\n",
      "Zeropoint: 23.9\n",
      "{'TEMPLATES_FILE': '/nvme/scratch/work/tharvey/EAZY/inputs/scripts/templates/LarsonTemplates/tweak_fsps_QSF_12_v3_newtemplates.param', 'FILTERS_RES': '/nvme/scratch/work/tharvey/EXPANSE/src/EXPANSE/eazy/jwst_nircam_FILTER.RES', 'MW_EBV': 0, 'CAT_HAS_EXTCORR': False, 'ADD_CGM': True, 'Z_STEP': 0.01, 'Z_MIN': 0.01, 'Z_MAX': 20.0, 'TEMP_ERR_FILE': '/nvme/scratch/work/tharvey/EXPANSE/src/EXPANSE/eazy/TEMPLATE_ERROR.eazy_v1.0', 'TEMP_ERR_A2': 0, 'SYS_ERR': 0, 'APPLY_PRIOR': 'n', 'PRIOR_ABZP': 23.9, 'PRIOR_FILTER': 28, 'PRIOR_FILE': '', 'FIX_ZSPEC': False, 'IGM_SCALE_TAU': 1.0, 'N_MIN_COLORS': 2, 'CATALOG_FILE': '/tmp/tmp5i1mt1jr/eazy_input.fits'}\n",
      "Read default param file: /nvme/scratch/software/anaconda3/envs/tharvey_galfind/lib/python3.10/site-packages/eazy/data/zphot.param.default\n",
      "Read CATALOG_FILE: /tmp/tmp5i1mt1jr/eazy_input.fits\n",
      "   >>> NOBJ = 1\n",
      "F22 E22 ( 22): hst/ACS_update_sep07/wfc_f435w_t81.dat\n",
      "F23 E23 ( 23): hst/ACS_update_sep07/wfc_f606w_t81.dat\n",
      "F49 E49 ( 49): hst/ACS_update_sep07/wfc_f775w_t81.dat\n",
      "F24 E24 ( 24): hst/ACS_update_sep07/wfc_f814w_t81.dat\n",
      "F50 E50 ( 50): hst/ACS_update_sep07/wfc_f850lp_t81.dat\n",
      "F1 E1 (  1): jwst_nircam_f090w\n",
      "F2 E2 (  2): jwst_nircam_f115w\n",
      "F3 E3 (  3): jwst_nircam_f150w\n",
      "F38 E38 ( 38): jwst_nircam_f162m\n",
      "F39 E39 ( 39): jwst_nircam_f182m\n",
      "F4 E4 (  4): jwst_nircam_f200w\n",
      "F40 E40 ( 40): jwst_nircam_f210m\n",
      "F41 E41 ( 41): jwst_nircam_f250m\n",
      "F5 E5 (  5): jwst_nircam_f277w\n",
      "F42 E42 ( 42): jwst_nircam_f300m\n",
      "F43 E43 ( 43): jwst_nircam_f335m\n",
      "F6 E6 (  6): jwst_nircam_f356w\n",
      "F7 E7 (  7): jwst_nircam_f410m\n",
      "F8 E8 (  8): jwst_nircam_f444w\n",
      "Set sys_err = 0.00 (positive=True)\n",
      "Template grid: /nvme/scratch/work/tharvey/EAZY/inputs/scripts/templates/LarsonTemplates/tweak_fsps_QSF_12_v3_newtemplates.param (this may take some time)\n"
     ]
    },
    {
     "name": "stderr",
     "output_type": "stream",
     "text": [
      "100%|██████████| 18/18 [00:12<00:00,  1.48it/s]\n"
     ]
    },
    {
     "name": "stdout",
     "output_type": "stream",
     "text": [
      "Template   0: fsps_QSF_12_v3_001.dat (NZ=1).\n",
      "Template   1: fsps_QSF_12_v3_002.dat (NZ=1).\n",
      "Template   2: fsps_QSF_12_v3_003.dat (NZ=1).\n",
      "Template   3: fsps_QSF_12_v3_004.dat (NZ=1).\n",
      "Template   4: fsps_QSF_12_v3_005.dat (NZ=1).\n",
      "Template   5: fsps_QSF_12_v3_006.dat (NZ=1).\n",
      "Template   6: fsps_QSF_12_v3_007.dat (NZ=1).\n",
      "Template   7: fsps_QSF_12_v3_008.dat (NZ=1).\n",
      "Template   8: fsps_QSF_12_v3_009.dat (NZ=1).\n",
      "Template   9: fsps_QSF_12_v3_010.dat (NZ=1).\n",
      "Template  10: fsps_QSF_12_v3_011.dat (NZ=1).\n",
      "Template  11: fsps_QSF_12_v3_012.dat (NZ=1).\n",
      "Template  12: binc100z001age6_cloudy.dat (NZ=1).\n",
      "Template  13: binc100z001age65_cloudy.dat (NZ=1).\n",
      "Template  14: binc100z001age7_cloudy.dat (NZ=1).\n",
      "Template  15: binc100z001age6.dat (NZ=1).\n",
      "Template  16: binc100z001age65.dat (NZ=1).\n",
      "Template  17: binc100z001age7.dat (NZ=1).\n",
      "Process templates: 12.620 s\n"
     ]
    },
    {
     "name": "stderr",
     "output_type": "stream",
     "text": [
      "304it [00:00, 27435.58it/s]"
     ]
    },
    {
     "name": "stdout",
     "output_type": "stream",
     "text": [
      "Saving tempfilt to /nvme/scratch/work/tharvey/EXPANSE/src/EXPANSE/eazy/tempfilt/\n"
     ]
    },
    {
     "name": "stderr",
     "output_type": "stream",
     "text": [
      "\n",
      "100%|██████████| 304/304 [00:00<00:00, 5020.01it/s]\n"
     ]
    },
    {
     "name": "stdout",
     "output_type": "stream",
     "text": [
      "Compute best fits\n",
      "fit_best: 0.0 s (n_proc=1,  NOBJ=1)\n",
      "Fit 0.4 s (n_proc=4, NOBJ=1)\n",
      "Setting meta, id_phot, 0\n",
      "Setting meta, z_best, 4.578727\n",
      "Setting meta, chi2, 49.88168060351242\n",
      "Setting meta, z16, 4.552129\n",
      "Setting meta, z50, 4.582313\n",
      "Setting meta, z84, 4.608767\n",
      "Setting meta, flux_unit, uJy\n",
      "Setting meta, wave_unit, Angstrom\n",
      "Setting meta, templates_file, /nvme/scratch/work/tharvey/EAZY/inputs/scripts/templates/LarsonTemplates/tweak_fsps_QSF_12_v3_newtemplates.param\n",
      "Setting meta, z_min, 0.01\n",
      "Setting meta, z_max, 20.0\n",
      "Setting meta, z_step, 0.01\n",
      "Setting meta, region, MAG_APER_0.32 arcsec_fsps_larson_0.05__Asada24_cgm\n",
      " added to <HDF5 file \"JOF_psfmatched_14524.h5\" (mode r+)>, interactive_outputs/MAG_APER_0_32 arcsec_fsps_larson_0_05__Asada24_cgm/, eazy_fit\n",
      " added to <HDF5 file \"JOF_psfmatched_14524.h5\" (mode r+)>, interactive_outputs/MAG_APER_0_32 arcsec_fsps_larson_0_05__Asada24_cgm/, p_z\n",
      " added to <HDF5 file \"JOF_psfmatched_14524.h5\" (mode r+)>, interactive_outputs/MAG_APER_0_32 arcsec_fsps_larson_0_05__Asada24_cgm/, input_flux\n",
      " added to <HDF5 file \"JOF_psfmatched_14524.h5\" (mode r+)>, interactive_outputs/MAG_APER_0_32 arcsec_fsps_larson_0_05__Asada24_cgm/, input_flux_err\n",
      "Zeropoint: 23.9\n",
      "{'TEMPLATES_FILE': '/nvme/scratch/work/tharvey/EAZY/inputs/scripts/templates/LarsonTemplates/tweak_fsps_QSF_12_v3_newtemplates.param', 'FILTERS_RES': '/nvme/scratch/work/tharvey/EXPANSE/src/EXPANSE/eazy/jwst_nircam_FILTER.RES', 'MW_EBV': 0, 'CAT_HAS_EXTCORR': False, 'ADD_CGM': True, 'Z_STEP': 0.01, 'Z_MIN': 0.01, 'Z_MAX': 20.0, 'TEMP_ERR_FILE': '/nvme/scratch/work/tharvey/EXPANSE/src/EXPANSE/eazy/TEMPLATE_ERROR.eazy_v1.0', 'TEMP_ERR_A2': 0, 'SYS_ERR': 0, 'APPLY_PRIOR': 'n', 'PRIOR_ABZP': 23.9, 'PRIOR_FILTER': 28, 'PRIOR_FILE': '', 'FIX_ZSPEC': False, 'IGM_SCALE_TAU': 1.0, 'N_MIN_COLORS': 2, 'CATALOG_FILE': '/tmp/tmpg30pnple/eazy_input.fits'}\n",
      "Read default param file: /nvme/scratch/software/anaconda3/envs/tharvey_galfind/lib/python3.10/site-packages/eazy/data/zphot.param.default\n",
      "Read CATALOG_FILE: /tmp/tmpg30pnple/eazy_input.fits\n",
      "   >>> NOBJ = 1\n",
      "F22 E22 ( 22): hst/ACS_update_sep07/wfc_f435w_t81.dat\n",
      "F23 E23 ( 23): hst/ACS_update_sep07/wfc_f606w_t81.dat\n",
      "F24 E24 ( 24): hst/ACS_update_sep07/wfc_f814w_t81.dat\n",
      "F50 E50 ( 50): hst/ACS_update_sep07/wfc_f850lp_t81.dat\n",
      "F1 E1 (  1): jwst_nircam_f090w\n",
      "F2 E2 (  2): jwst_nircam_f115w\n",
      "F3 E3 (  3): jwst_nircam_f150w\n",
      "F38 E38 ( 38): jwst_nircam_f162m\n",
      "F39 E39 ( 39): jwst_nircam_f182m\n",
      "F4 E4 (  4): jwst_nircam_f200w\n",
      "F40 E40 ( 40): jwst_nircam_f210m\n",
      "F41 E41 ( 41): jwst_nircam_f250m\n",
      "F5 E5 (  5): jwst_nircam_f277w\n",
      "F42 E42 ( 42): jwst_nircam_f300m\n",
      "F43 E43 ( 43): jwst_nircam_f335m\n",
      "F6 E6 (  6): jwst_nircam_f356w\n",
      "F7 E7 (  7): jwst_nircam_f410m\n",
      "F8 E8 (  8): jwst_nircam_f444w\n",
      "Set sys_err = 0.00 (positive=True)\n",
      "Template grid: /nvme/scratch/work/tharvey/EAZY/inputs/scripts/templates/LarsonTemplates/tweak_fsps_QSF_12_v3_newtemplates.param (this may take some time)\n"
     ]
    },
    {
     "name": "stderr",
     "output_type": "stream",
     "text": [
      "100%|██████████| 18/18 [00:12<00:00,  1.49it/s]\n"
     ]
    },
    {
     "name": "stdout",
     "output_type": "stream",
     "text": [
      "Template   0: fsps_QSF_12_v3_001.dat (NZ=1).\n",
      "Template   1: fsps_QSF_12_v3_002.dat (NZ=1).\n",
      "Template   2: fsps_QSF_12_v3_003.dat (NZ=1).\n",
      "Template   3: fsps_QSF_12_v3_004.dat (NZ=1).\n",
      "Template   4: fsps_QSF_12_v3_005.dat (NZ=1).\n",
      "Template   5: fsps_QSF_12_v3_006.dat (NZ=1).\n",
      "Template   6: fsps_QSF_12_v3_007.dat (NZ=1).\n",
      "Template   7: fsps_QSF_12_v3_008.dat (NZ=1).\n",
      "Template   8: fsps_QSF_12_v3_009.dat (NZ=1).\n",
      "Template   9: fsps_QSF_12_v3_010.dat (NZ=1).\n",
      "Template  10: fsps_QSF_12_v3_011.dat (NZ=1).\n",
      "Template  11: fsps_QSF_12_v3_012.dat (NZ=1).\n",
      "Template  12: binc100z001age6_cloudy.dat (NZ=1).\n",
      "Template  13: binc100z001age65_cloudy.dat (NZ=1).\n",
      "Template  14: binc100z001age7_cloudy.dat (NZ=1).\n",
      "Template  15: binc100z001age6.dat (NZ=1).\n",
      "Template  16: binc100z001age65.dat (NZ=1).\n",
      "Template  17: binc100z001age7.dat (NZ=1).\n",
      "Process templates: 12.551 s\n"
     ]
    },
    {
     "name": "stderr",
     "output_type": "stream",
     "text": [
      "304it [00:00, 26165.45it/s]"
     ]
    },
    {
     "name": "stdout",
     "output_type": "stream",
     "text": [
      "Saving tempfilt to /nvme/scratch/work/tharvey/EXPANSE/src/EXPANSE/eazy/tempfilt/\n"
     ]
    },
    {
     "name": "stderr",
     "output_type": "stream",
     "text": [
      "\n",
      "100%|██████████| 304/304 [00:00<00:00, 6087.84it/s]\n"
     ]
    },
    {
     "name": "stdout",
     "output_type": "stream",
     "text": [
      "Compute best fits\n",
      "fit_best: 0.0 s (n_proc=1,  NOBJ=1)\n",
      "Fit 0.4 s (n_proc=4, NOBJ=1)\n",
      "Setting meta, id_phot, 0\n",
      "Setting meta, z_best, 7.4878025\n",
      "Setting meta, chi2, 32.19542405581174\n",
      "Setting meta, z16, 7.1860485\n",
      "Setting meta, z50, 7.4207025\n",
      "Setting meta, z84, 7.5343757\n",
      "Setting meta, flux_unit, uJy\n",
      "Setting meta, wave_unit, Angstrom\n",
      "Setting meta, templates_file, /nvme/scratch/work/tharvey/EAZY/inputs/scripts/templates/LarsonTemplates/tweak_fsps_QSF_12_v3_newtemplates.param\n",
      "Setting meta, z_min, 0.01\n",
      "Setting meta, z_max, 20.0\n",
      "Setting meta, z_step, 0.01\n",
      "Setting meta, region, MAG_APER_0.32 arcsec_fsps_larson_0.05__Asada24_cgm\n",
      " added to <HDF5 file \"JOF_psfmatched_14708.h5\" (mode r+)>, interactive_outputs/MAG_APER_0_32 arcsec_fsps_larson_0_05__Asada24_cgm/, eazy_fit\n",
      " added to <HDF5 file \"JOF_psfmatched_14708.h5\" (mode r+)>, interactive_outputs/MAG_APER_0_32 arcsec_fsps_larson_0_05__Asada24_cgm/, p_z\n",
      " added to <HDF5 file \"JOF_psfmatched_14708.h5\" (mode r+)>, interactive_outputs/MAG_APER_0_32 arcsec_fsps_larson_0_05__Asada24_cgm/, input_flux\n",
      " added to <HDF5 file \"JOF_psfmatched_14708.h5\" (mode r+)>, interactive_outputs/MAG_APER_0_32 arcsec_fsps_larson_0_05__Asada24_cgm/, input_flux_err\n",
      "Zeropoint: 23.9\n",
      "{'TEMPLATES_FILE': '/nvme/scratch/work/tharvey/EAZY/inputs/scripts/templates/LarsonTemplates/tweak_fsps_QSF_12_v3_newtemplates.param', 'FILTERS_RES': '/nvme/scratch/work/tharvey/EXPANSE/src/EXPANSE/eazy/jwst_nircam_FILTER.RES', 'MW_EBV': 0, 'CAT_HAS_EXTCORR': False, 'ADD_CGM': True, 'Z_STEP': 0.01, 'Z_MIN': 0.01, 'Z_MAX': 20.0, 'TEMP_ERR_FILE': '/nvme/scratch/work/tharvey/EXPANSE/src/EXPANSE/eazy/TEMPLATE_ERROR.eazy_v1.0', 'TEMP_ERR_A2': 0, 'SYS_ERR': 0, 'APPLY_PRIOR': 'n', 'PRIOR_ABZP': 23.9, 'PRIOR_FILTER': 28, 'PRIOR_FILE': '', 'FIX_ZSPEC': False, 'IGM_SCALE_TAU': 1.0, 'N_MIN_COLORS': 2, 'CATALOG_FILE': '/tmp/tmpqyg05tmu/eazy_input.fits'}\n",
      "Read default param file: /nvme/scratch/software/anaconda3/envs/tharvey_galfind/lib/python3.10/site-packages/eazy/data/zphot.param.default\n",
      "Read CATALOG_FILE: /tmp/tmpqyg05tmu/eazy_input.fits\n",
      "   >>> NOBJ = 1\n",
      "F22 E22 ( 22): hst/ACS_update_sep07/wfc_f435w_t81.dat\n",
      "F23 E23 ( 23): hst/ACS_update_sep07/wfc_f606w_t81.dat\n",
      "F49 E49 ( 49): hst/ACS_update_sep07/wfc_f775w_t81.dat\n",
      "F24 E24 ( 24): hst/ACS_update_sep07/wfc_f814w_t81.dat\n",
      "F50 E50 ( 50): hst/ACS_update_sep07/wfc_f850lp_t81.dat\n",
      "F1 E1 (  1): jwst_nircam_f090w\n",
      "F2 E2 (  2): jwst_nircam_f115w\n",
      "F3 E3 (  3): jwst_nircam_f150w\n",
      "F38 E38 ( 38): jwst_nircam_f162m\n",
      "F39 E39 ( 39): jwst_nircam_f182m\n",
      "F4 E4 (  4): jwst_nircam_f200w\n",
      "F40 E40 ( 40): jwst_nircam_f210m\n",
      "F41 E41 ( 41): jwst_nircam_f250m\n",
      "F5 E5 (  5): jwst_nircam_f277w\n",
      "F42 E42 ( 42): jwst_nircam_f300m\n",
      "F43 E43 ( 43): jwst_nircam_f335m\n",
      "F6 E6 (  6): jwst_nircam_f356w\n",
      "F7 E7 (  7): jwst_nircam_f410m\n",
      "F8 E8 (  8): jwst_nircam_f444w\n",
      "Set sys_err = 0.00 (positive=True)\n",
      "Template grid: /nvme/scratch/work/tharvey/EAZY/inputs/scripts/templates/LarsonTemplates/tweak_fsps_QSF_12_v3_newtemplates.param (this may take some time)\n"
     ]
    },
    {
     "name": "stderr",
     "output_type": "stream",
     "text": [
      "100%|██████████| 18/18 [00:12<00:00,  1.49it/s]\n"
     ]
    },
    {
     "name": "stdout",
     "output_type": "stream",
     "text": [
      "Template   0: fsps_QSF_12_v3_001.dat (NZ=1).\n",
      "Template   1: fsps_QSF_12_v3_002.dat (NZ=1).\n",
      "Template   2: fsps_QSF_12_v3_003.dat (NZ=1).\n",
      "Template   3: fsps_QSF_12_v3_004.dat (NZ=1).\n",
      "Template   4: fsps_QSF_12_v3_005.dat (NZ=1).\n",
      "Template   5: fsps_QSF_12_v3_006.dat (NZ=1).\n",
      "Template   6: fsps_QSF_12_v3_007.dat (NZ=1).\n",
      "Template   7: fsps_QSF_12_v3_008.dat (NZ=1).\n",
      "Template   8: fsps_QSF_12_v3_009.dat (NZ=1).\n",
      "Template   9: fsps_QSF_12_v3_010.dat (NZ=1).\n",
      "Template  10: fsps_QSF_12_v3_011.dat (NZ=1).\n",
      "Template  11: fsps_QSF_12_v3_012.dat (NZ=1).\n",
      "Template  12: binc100z001age6_cloudy.dat (NZ=1).\n",
      "Template  13: binc100z001age65_cloudy.dat (NZ=1).\n",
      "Template  14: binc100z001age7_cloudy.dat (NZ=1).\n",
      "Template  15: binc100z001age6.dat (NZ=1).\n",
      "Template  16: binc100z001age65.dat (NZ=1).\n",
      "Template  17: binc100z001age7.dat (NZ=1).\n",
      "Process templates: 12.579 s\n"
     ]
    },
    {
     "name": "stderr",
     "output_type": "stream",
     "text": [
      "304it [00:00, 26314.49it/s]"
     ]
    },
    {
     "name": "stdout",
     "output_type": "stream",
     "text": [
      "Saving tempfilt to /nvme/scratch/work/tharvey/EXPANSE/src/EXPANSE/eazy/tempfilt/\n"
     ]
    },
    {
     "name": "stderr",
     "output_type": "stream",
     "text": [
      "\n",
      "100%|██████████| 304/304 [00:00<00:00, 5765.11it/s]\n"
     ]
    },
    {
     "name": "stdout",
     "output_type": "stream",
     "text": [
      "Compute best fits\n",
      "fit_best: 0.0 s (n_proc=1,  NOBJ=1)\n",
      "Fit 0.4 s (n_proc=4, NOBJ=1)\n",
      "Setting meta, id_phot, 0\n",
      "Setting meta, z_best, 6.8008914\n",
      "Setting meta, chi2, 12.694045504186574\n",
      "Setting meta, z16, 6.7677593\n",
      "Setting meta, z50, 6.8010654\n",
      "Setting meta, z84, 6.8389335\n",
      "Setting meta, flux_unit, uJy\n",
      "Setting meta, wave_unit, Angstrom\n",
      "Setting meta, templates_file, /nvme/scratch/work/tharvey/EAZY/inputs/scripts/templates/LarsonTemplates/tweak_fsps_QSF_12_v3_newtemplates.param\n",
      "Setting meta, z_min, 0.01\n",
      "Setting meta, z_max, 20.0\n",
      "Setting meta, z_step, 0.01\n",
      "Setting meta, region, MAG_APER_0.32 arcsec_fsps_larson_0.05__Asada24_cgm\n",
      " added to <HDF5 file \"JOF_psfmatched_14747.h5\" (mode r+)>, interactive_outputs/MAG_APER_0_32 arcsec_fsps_larson_0_05__Asada24_cgm/, eazy_fit\n",
      " added to <HDF5 file \"JOF_psfmatched_14747.h5\" (mode r+)>, interactive_outputs/MAG_APER_0_32 arcsec_fsps_larson_0_05__Asada24_cgm/, p_z\n",
      " added to <HDF5 file \"JOF_psfmatched_14747.h5\" (mode r+)>, interactive_outputs/MAG_APER_0_32 arcsec_fsps_larson_0_05__Asada24_cgm/, input_flux\n",
      " added to <HDF5 file \"JOF_psfmatched_14747.h5\" (mode r+)>, interactive_outputs/MAG_APER_0_32 arcsec_fsps_larson_0_05__Asada24_cgm/, input_flux_err\n",
      "Zeropoint: 23.9\n",
      "{'TEMPLATES_FILE': '/nvme/scratch/work/tharvey/EAZY/inputs/scripts/templates/LarsonTemplates/tweak_fsps_QSF_12_v3_newtemplates.param', 'FILTERS_RES': '/nvme/scratch/work/tharvey/EXPANSE/src/EXPANSE/eazy/jwst_nircam_FILTER.RES', 'MW_EBV': 0, 'CAT_HAS_EXTCORR': False, 'ADD_CGM': True, 'Z_STEP': 0.01, 'Z_MIN': 0.01, 'Z_MAX': 20.0, 'TEMP_ERR_FILE': '/nvme/scratch/work/tharvey/EXPANSE/src/EXPANSE/eazy/TEMPLATE_ERROR.eazy_v1.0', 'TEMP_ERR_A2': 0, 'SYS_ERR': 0, 'APPLY_PRIOR': 'n', 'PRIOR_ABZP': 23.9, 'PRIOR_FILTER': 28, 'PRIOR_FILE': '', 'FIX_ZSPEC': False, 'IGM_SCALE_TAU': 1.0, 'N_MIN_COLORS': 2, 'CATALOG_FILE': '/tmp/tmpzj88nkq8/eazy_input.fits'}\n",
      "Read default param file: /nvme/scratch/software/anaconda3/envs/tharvey_galfind/lib/python3.10/site-packages/eazy/data/zphot.param.default\n",
      "Read CATALOG_FILE: /tmp/tmpzj88nkq8/eazy_input.fits\n",
      "   >>> NOBJ = 1\n",
      "F22 E22 ( 22): hst/ACS_update_sep07/wfc_f435w_t81.dat\n",
      "F23 E23 ( 23): hst/ACS_update_sep07/wfc_f606w_t81.dat\n",
      "F24 E24 ( 24): hst/ACS_update_sep07/wfc_f814w_t81.dat\n",
      "F50 E50 ( 50): hst/ACS_update_sep07/wfc_f850lp_t81.dat\n",
      "F1 E1 (  1): jwst_nircam_f090w\n",
      "F2 E2 (  2): jwst_nircam_f115w\n",
      "F3 E3 (  3): jwst_nircam_f150w\n",
      "F38 E38 ( 38): jwst_nircam_f162m\n",
      "F39 E39 ( 39): jwst_nircam_f182m\n",
      "F4 E4 (  4): jwst_nircam_f200w\n",
      "F40 E40 ( 40): jwst_nircam_f210m\n",
      "F41 E41 ( 41): jwst_nircam_f250m\n",
      "F5 E5 (  5): jwst_nircam_f277w\n",
      "F42 E42 ( 42): jwst_nircam_f300m\n",
      "F43 E43 ( 43): jwst_nircam_f335m\n",
      "F6 E6 (  6): jwst_nircam_f356w\n",
      "F7 E7 (  7): jwst_nircam_f410m\n",
      "F8 E8 (  8): jwst_nircam_f444w\n",
      "Set sys_err = 0.00 (positive=True)\n",
      "Template grid: /nvme/scratch/work/tharvey/EAZY/inputs/scripts/templates/LarsonTemplates/tweak_fsps_QSF_12_v3_newtemplates.param (this may take some time)\n"
     ]
    },
    {
     "name": "stderr",
     "output_type": "stream",
     "text": [
      "100%|██████████| 18/18 [00:11<00:00,  1.54it/s]\n"
     ]
    },
    {
     "name": "stdout",
     "output_type": "stream",
     "text": [
      "Template   0: fsps_QSF_12_v3_001.dat (NZ=1).\n",
      "Template   1: fsps_QSF_12_v3_002.dat (NZ=1).\n",
      "Template   2: fsps_QSF_12_v3_003.dat (NZ=1).\n",
      "Template   3: fsps_QSF_12_v3_004.dat (NZ=1).\n",
      "Template   4: fsps_QSF_12_v3_005.dat (NZ=1).\n",
      "Template   5: fsps_QSF_12_v3_006.dat (NZ=1).\n",
      "Template   6: fsps_QSF_12_v3_007.dat (NZ=1).\n",
      "Template   7: fsps_QSF_12_v3_008.dat (NZ=1).\n",
      "Template   8: fsps_QSF_12_v3_009.dat (NZ=1).\n",
      "Template   9: fsps_QSF_12_v3_010.dat (NZ=1).\n",
      "Template  10: fsps_QSF_12_v3_011.dat (NZ=1).\n",
      "Template  11: fsps_QSF_12_v3_012.dat (NZ=1).\n",
      "Template  12: binc100z001age6_cloudy.dat (NZ=1).\n",
      "Template  13: binc100z001age65_cloudy.dat (NZ=1).\n",
      "Template  14: binc100z001age7_cloudy.dat (NZ=1).\n",
      "Template  15: binc100z001age6.dat (NZ=1).\n",
      "Template  16: binc100z001age65.dat (NZ=1).\n",
      "Template  17: binc100z001age7.dat (NZ=1).\n",
      "Process templates: 12.147 s\n"
     ]
    },
    {
     "name": "stderr",
     "output_type": "stream",
     "text": [
      "304it [00:00, 17903.99it/s]"
     ]
    },
    {
     "name": "stdout",
     "output_type": "stream",
     "text": [
      "Saving tempfilt to /nvme/scratch/work/tharvey/EXPANSE/src/EXPANSE/eazy/tempfilt/\n"
     ]
    },
    {
     "name": "stderr",
     "output_type": "stream",
     "text": [
      "\n",
      "100%|██████████| 304/304 [00:00<00:00, 4622.66it/s]\n"
     ]
    },
    {
     "name": "stdout",
     "output_type": "stream",
     "text": [
      "Compute best fits\n",
      "fit_best: 0.0 s (n_proc=1,  NOBJ=1)\n",
      "Fit 0.4 s (n_proc=4, NOBJ=1)\n",
      "Setting meta, id_phot, 0\n",
      "Setting meta, z_best, 6.008887\n",
      "Setting meta, chi2, 42.66401705940855\n",
      "Setting meta, z16, 5.817012\n",
      "Setting meta, z50, 5.990828\n",
      "Setting meta, z84, 6.040545\n",
      "Setting meta, flux_unit, uJy\n",
      "Setting meta, wave_unit, Angstrom\n",
      "Setting meta, templates_file, /nvme/scratch/work/tharvey/EAZY/inputs/scripts/templates/LarsonTemplates/tweak_fsps_QSF_12_v3_newtemplates.param\n",
      "Setting meta, z_min, 0.01\n",
      "Setting meta, z_max, 20.0\n",
      "Setting meta, z_step, 0.01\n",
      "Setting meta, region, MAG_APER_0.32 arcsec_fsps_larson_0.05__Asada24_cgm\n",
      " added to <HDF5 file \"JOF_psfmatched_14940.h5\" (mode r+)>, interactive_outputs/MAG_APER_0_32 arcsec_fsps_larson_0_05__Asada24_cgm/, eazy_fit\n",
      " added to <HDF5 file \"JOF_psfmatched_14940.h5\" (mode r+)>, interactive_outputs/MAG_APER_0_32 arcsec_fsps_larson_0_05__Asada24_cgm/, p_z\n",
      " added to <HDF5 file \"JOF_psfmatched_14940.h5\" (mode r+)>, interactive_outputs/MAG_APER_0_32 arcsec_fsps_larson_0_05__Asada24_cgm/, input_flux\n",
      " added to <HDF5 file \"JOF_psfmatched_14940.h5\" (mode r+)>, interactive_outputs/MAG_APER_0_32 arcsec_fsps_larson_0_05__Asada24_cgm/, input_flux_err\n",
      "Zeropoint: 23.9\n",
      "{'TEMPLATES_FILE': '/nvme/scratch/work/tharvey/EAZY/inputs/scripts/templates/LarsonTemplates/tweak_fsps_QSF_12_v3_newtemplates.param', 'FILTERS_RES': '/nvme/scratch/work/tharvey/EXPANSE/src/EXPANSE/eazy/jwst_nircam_FILTER.RES', 'MW_EBV': 0, 'CAT_HAS_EXTCORR': False, 'ADD_CGM': True, 'Z_STEP': 0.01, 'Z_MIN': 0.01, 'Z_MAX': 20.0, 'TEMP_ERR_FILE': '/nvme/scratch/work/tharvey/EXPANSE/src/EXPANSE/eazy/TEMPLATE_ERROR.eazy_v1.0', 'TEMP_ERR_A2': 0, 'SYS_ERR': 0, 'APPLY_PRIOR': 'n', 'PRIOR_ABZP': 23.9, 'PRIOR_FILTER': 28, 'PRIOR_FILE': '', 'FIX_ZSPEC': False, 'IGM_SCALE_TAU': 1.0, 'N_MIN_COLORS': 2, 'CATALOG_FILE': '/tmp/tmp51pl0yd2/eazy_input.fits'}\n",
      "Read default param file: /nvme/scratch/software/anaconda3/envs/tharvey_galfind/lib/python3.10/site-packages/eazy/data/zphot.param.default\n",
      "Read CATALOG_FILE: /tmp/tmp51pl0yd2/eazy_input.fits\n",
      "   >>> NOBJ = 1\n",
      "F22 E22 ( 22): hst/ACS_update_sep07/wfc_f435w_t81.dat\n",
      "F23 E23 ( 23): hst/ACS_update_sep07/wfc_f606w_t81.dat\n",
      "F49 E49 ( 49): hst/ACS_update_sep07/wfc_f775w_t81.dat\n",
      "F24 E24 ( 24): hst/ACS_update_sep07/wfc_f814w_t81.dat\n",
      "F50 E50 ( 50): hst/ACS_update_sep07/wfc_f850lp_t81.dat\n",
      "F1 E1 (  1): jwst_nircam_f090w\n",
      "F2 E2 (  2): jwst_nircam_f115w\n",
      "F3 E3 (  3): jwst_nircam_f150w\n",
      "F38 E38 ( 38): jwst_nircam_f162m\n",
      "F39 E39 ( 39): jwst_nircam_f182m\n",
      "F4 E4 (  4): jwst_nircam_f200w\n",
      "F40 E40 ( 40): jwst_nircam_f210m\n",
      "F41 E41 ( 41): jwst_nircam_f250m\n",
      "F5 E5 (  5): jwst_nircam_f277w\n",
      "F42 E42 ( 42): jwst_nircam_f300m\n",
      "F43 E43 ( 43): jwst_nircam_f335m\n",
      "F6 E6 (  6): jwst_nircam_f356w\n",
      "F7 E7 (  7): jwst_nircam_f410m\n",
      "F8 E8 (  8): jwst_nircam_f444w\n",
      "Set sys_err = 0.00 (positive=True)\n",
      "Template grid: /nvme/scratch/work/tharvey/EAZY/inputs/scripts/templates/LarsonTemplates/tweak_fsps_QSF_12_v3_newtemplates.param (this may take some time)\n"
     ]
    },
    {
     "name": "stderr",
     "output_type": "stream",
     "text": [
      "100%|██████████| 18/18 [00:12<00:00,  1.47it/s]\n"
     ]
    },
    {
     "name": "stdout",
     "output_type": "stream",
     "text": [
      "Template   0: fsps_QSF_12_v3_001.dat (NZ=1).\n",
      "Template   1: fsps_QSF_12_v3_002.dat (NZ=1).\n",
      "Template   2: fsps_QSF_12_v3_003.dat (NZ=1).\n",
      "Template   3: fsps_QSF_12_v3_004.dat (NZ=1).\n",
      "Template   4: fsps_QSF_12_v3_005.dat (NZ=1).\n",
      "Template   5: fsps_QSF_12_v3_006.dat (NZ=1).\n",
      "Template   6: fsps_QSF_12_v3_007.dat (NZ=1).\n",
      "Template   7: fsps_QSF_12_v3_008.dat (NZ=1).\n",
      "Template   8: fsps_QSF_12_v3_009.dat (NZ=1).\n",
      "Template   9: fsps_QSF_12_v3_010.dat (NZ=1).\n",
      "Template  10: fsps_QSF_12_v3_011.dat (NZ=1).\n",
      "Template  11: fsps_QSF_12_v3_012.dat (NZ=1).\n",
      "Template  12: binc100z001age6_cloudy.dat (NZ=1).\n",
      "Template  13: binc100z001age65_cloudy.dat (NZ=1).\n",
      "Template  14: binc100z001age7_cloudy.dat (NZ=1).\n",
      "Template  15: binc100z001age6.dat (NZ=1).\n",
      "Template  16: binc100z001age65.dat (NZ=1).\n",
      "Template  17: binc100z001age7.dat (NZ=1).\n",
      "Process templates: 12.643 s\n"
     ]
    },
    {
     "name": "stderr",
     "output_type": "stream",
     "text": [
      "304it [00:00, 26518.07it/s]"
     ]
    },
    {
     "name": "stdout",
     "output_type": "stream",
     "text": [
      "Saving tempfilt to /nvme/scratch/work/tharvey/EXPANSE/src/EXPANSE/eazy/tempfilt/\n"
     ]
    },
    {
     "name": "stderr",
     "output_type": "stream",
     "text": [
      "\n",
      "100%|██████████| 304/304 [00:00<00:00, 3866.13it/s]\n"
     ]
    },
    {
     "name": "stdout",
     "output_type": "stream",
     "text": [
      "Compute best fits\n",
      "fit_best: 0.0 s (n_proc=1,  NOBJ=1)\n",
      "Fit 0.4 s (n_proc=4, NOBJ=1)\n",
      "Setting meta, id_phot, 0\n",
      "Setting meta, z_best, 6.7332273\n",
      "Setting meta, chi2, 15.745230053762853\n",
      "Setting meta, z16, 6.6987233\n",
      "Setting meta, z50, 6.732875\n",
      "Setting meta, z84, 6.766509\n",
      "Setting meta, flux_unit, uJy\n",
      "Setting meta, wave_unit, Angstrom\n",
      "Setting meta, templates_file, /nvme/scratch/work/tharvey/EAZY/inputs/scripts/templates/LarsonTemplates/tweak_fsps_QSF_12_v3_newtemplates.param\n",
      "Setting meta, z_min, 0.01\n",
      "Setting meta, z_max, 20.0\n",
      "Setting meta, z_step, 0.01\n",
      "Setting meta, region, MAG_APER_0.32 arcsec_fsps_larson_0.05__Asada24_cgm\n",
      " added to <HDF5 file \"JOF_psfmatched_14982.h5\" (mode r+)>, interactive_outputs/MAG_APER_0_32 arcsec_fsps_larson_0_05__Asada24_cgm/, eazy_fit\n",
      " added to <HDF5 file \"JOF_psfmatched_14982.h5\" (mode r+)>, interactive_outputs/MAG_APER_0_32 arcsec_fsps_larson_0_05__Asada24_cgm/, p_z\n",
      " added to <HDF5 file \"JOF_psfmatched_14982.h5\" (mode r+)>, interactive_outputs/MAG_APER_0_32 arcsec_fsps_larson_0_05__Asada24_cgm/, input_flux\n",
      " added to <HDF5 file \"JOF_psfmatched_14982.h5\" (mode r+)>, interactive_outputs/MAG_APER_0_32 arcsec_fsps_larson_0_05__Asada24_cgm/, input_flux_err\n",
      "Zeropoint: 23.9\n",
      "{'TEMPLATES_FILE': '/nvme/scratch/work/tharvey/EAZY/inputs/scripts/templates/LarsonTemplates/tweak_fsps_QSF_12_v3_newtemplates.param', 'FILTERS_RES': '/nvme/scratch/work/tharvey/EXPANSE/src/EXPANSE/eazy/jwst_nircam_FILTER.RES', 'MW_EBV': 0, 'CAT_HAS_EXTCORR': False, 'ADD_CGM': True, 'Z_STEP': 0.01, 'Z_MIN': 0.01, 'Z_MAX': 20.0, 'TEMP_ERR_FILE': '/nvme/scratch/work/tharvey/EXPANSE/src/EXPANSE/eazy/TEMPLATE_ERROR.eazy_v1.0', 'TEMP_ERR_A2': 0, 'SYS_ERR': 0, 'APPLY_PRIOR': 'n', 'PRIOR_ABZP': 23.9, 'PRIOR_FILTER': 28, 'PRIOR_FILE': '', 'FIX_ZSPEC': False, 'IGM_SCALE_TAU': 1.0, 'N_MIN_COLORS': 2, 'CATALOG_FILE': '/tmp/tmpiy8tpqz3/eazy_input.fits'}\n",
      "Read default param file: /nvme/scratch/software/anaconda3/envs/tharvey_galfind/lib/python3.10/site-packages/eazy/data/zphot.param.default\n",
      "Read CATALOG_FILE: /tmp/tmpiy8tpqz3/eazy_input.fits\n",
      "   >>> NOBJ = 1\n",
      "F22 E22 ( 22): hst/ACS_update_sep07/wfc_f435w_t81.dat\n",
      "F23 E23 ( 23): hst/ACS_update_sep07/wfc_f606w_t81.dat\n",
      "F49 E49 ( 49): hst/ACS_update_sep07/wfc_f775w_t81.dat\n",
      "F24 E24 ( 24): hst/ACS_update_sep07/wfc_f814w_t81.dat\n",
      "F50 E50 ( 50): hst/ACS_update_sep07/wfc_f850lp_t81.dat\n",
      "F1 E1 (  1): jwst_nircam_f090w\n",
      "F2 E2 (  2): jwst_nircam_f115w\n",
      "F3 E3 (  3): jwst_nircam_f150w\n",
      "F38 E38 ( 38): jwst_nircam_f162m\n",
      "F39 E39 ( 39): jwst_nircam_f182m\n",
      "F4 E4 (  4): jwst_nircam_f200w\n",
      "F40 E40 ( 40): jwst_nircam_f210m\n",
      "F41 E41 ( 41): jwst_nircam_f250m\n",
      "F5 E5 (  5): jwst_nircam_f277w\n",
      "F42 E42 ( 42): jwst_nircam_f300m\n",
      "F43 E43 ( 43): jwst_nircam_f335m\n",
      "F6 E6 (  6): jwst_nircam_f356w\n",
      "F7 E7 (  7): jwst_nircam_f410m\n",
      "F8 E8 (  8): jwst_nircam_f444w\n",
      "Set sys_err = 0.00 (positive=True)\n",
      "Template grid: /nvme/scratch/work/tharvey/EAZY/inputs/scripts/templates/LarsonTemplates/tweak_fsps_QSF_12_v3_newtemplates.param (this may take some time)\n"
     ]
    },
    {
     "name": "stderr",
     "output_type": "stream",
     "text": [
      "100%|██████████| 18/18 [00:12<00:00,  1.38it/s]\n"
     ]
    },
    {
     "name": "stdout",
     "output_type": "stream",
     "text": [
      "Template   0: fsps_QSF_12_v3_001.dat (NZ=1).\n",
      "Template   1: fsps_QSF_12_v3_002.dat (NZ=1).\n",
      "Template   2: fsps_QSF_12_v3_003.dat (NZ=1).\n",
      "Template   3: fsps_QSF_12_v3_004.dat (NZ=1).\n",
      "Template   4: fsps_QSF_12_v3_005.dat (NZ=1).\n",
      "Template   5: fsps_QSF_12_v3_006.dat (NZ=1).\n",
      "Template   6: fsps_QSF_12_v3_007.dat (NZ=1).\n",
      "Template   7: fsps_QSF_12_v3_008.dat (NZ=1).\n",
      "Template   8: fsps_QSF_12_v3_009.dat (NZ=1).\n",
      "Template   9: fsps_QSF_12_v3_010.dat (NZ=1).\n",
      "Template  10: fsps_QSF_12_v3_011.dat (NZ=1).\n",
      "Template  11: fsps_QSF_12_v3_012.dat (NZ=1).\n",
      "Template  12: binc100z001age6_cloudy.dat (NZ=1).\n",
      "Template  13: binc100z001age65_cloudy.dat (NZ=1).\n",
      "Template  14: binc100z001age7_cloudy.dat (NZ=1).\n",
      "Template  15: binc100z001age6.dat (NZ=1).\n",
      "Template  16: binc100z001age65.dat (NZ=1).\n",
      "Template  17: binc100z001age7.dat (NZ=1).\n",
      "Process templates: 13.453 s\n"
     ]
    },
    {
     "name": "stderr",
     "output_type": "stream",
     "text": [
      "304it [00:00, 22982.07it/s]"
     ]
    },
    {
     "name": "stdout",
     "output_type": "stream",
     "text": [
      "Saving tempfilt to /nvme/scratch/work/tharvey/EXPANSE/src/EXPANSE/eazy/tempfilt/\n"
     ]
    },
    {
     "name": "stderr",
     "output_type": "stream",
     "text": [
      "\n",
      "100%|██████████| 304/304 [00:00<00:00, 5200.62it/s]\n"
     ]
    },
    {
     "name": "stdout",
     "output_type": "stream",
     "text": [
      "Compute best fits\n",
      "fit_best: 0.0 s (n_proc=1,  NOBJ=1)\n",
      "Fit 0.4 s (n_proc=4, NOBJ=1)\n",
      "Setting meta, id_phot, 0\n",
      "Setting meta, z_best, 9.388197\n",
      "Setting meta, chi2, 25.93990319106453\n",
      "Setting meta, z16, 9.371393\n",
      "Setting meta, z50, 9.842659\n",
      "Setting meta, z84, 10.210176\n",
      "Setting meta, flux_unit, uJy\n",
      "Setting meta, wave_unit, Angstrom\n",
      "Setting meta, templates_file, /nvme/scratch/work/tharvey/EAZY/inputs/scripts/templates/LarsonTemplates/tweak_fsps_QSF_12_v3_newtemplates.param\n",
      "Setting meta, z_min, 0.01\n",
      "Setting meta, z_max, 20.0\n",
      "Setting meta, z_step, 0.01\n",
      "Setting meta, region, MAG_APER_0.32 arcsec_fsps_larson_0.05__Asada24_cgm\n",
      " added to <HDF5 file \"JOF_psfmatched_15021.h5\" (mode r+)>, interactive_outputs/MAG_APER_0_32 arcsec_fsps_larson_0_05__Asada24_cgm/, eazy_fit\n",
      " added to <HDF5 file \"JOF_psfmatched_15021.h5\" (mode r+)>, interactive_outputs/MAG_APER_0_32 arcsec_fsps_larson_0_05__Asada24_cgm/, p_z\n",
      " added to <HDF5 file \"JOF_psfmatched_15021.h5\" (mode r+)>, interactive_outputs/MAG_APER_0_32 arcsec_fsps_larson_0_05__Asada24_cgm/, input_flux\n",
      " added to <HDF5 file \"JOF_psfmatched_15021.h5\" (mode r+)>, interactive_outputs/MAG_APER_0_32 arcsec_fsps_larson_0_05__Asada24_cgm/, input_flux_err\n",
      "Zeropoint: 23.9\n",
      "{'TEMPLATES_FILE': '/nvme/scratch/work/tharvey/EAZY/inputs/scripts/templates/LarsonTemplates/tweak_fsps_QSF_12_v3_newtemplates.param', 'FILTERS_RES': '/nvme/scratch/work/tharvey/EXPANSE/src/EXPANSE/eazy/jwst_nircam_FILTER.RES', 'MW_EBV': 0, 'CAT_HAS_EXTCORR': False, 'ADD_CGM': True, 'Z_STEP': 0.01, 'Z_MIN': 0.01, 'Z_MAX': 20.0, 'TEMP_ERR_FILE': '/nvme/scratch/work/tharvey/EXPANSE/src/EXPANSE/eazy/TEMPLATE_ERROR.eazy_v1.0', 'TEMP_ERR_A2': 0, 'SYS_ERR': 0, 'APPLY_PRIOR': 'n', 'PRIOR_ABZP': 23.9, 'PRIOR_FILTER': 28, 'PRIOR_FILE': '', 'FIX_ZSPEC': False, 'IGM_SCALE_TAU': 1.0, 'N_MIN_COLORS': 2, 'CATALOG_FILE': '/tmp/tmpl25h2fdc/eazy_input.fits'}\n",
      "Read default param file: /nvme/scratch/software/anaconda3/envs/tharvey_galfind/lib/python3.10/site-packages/eazy/data/zphot.param.default\n",
      "Read CATALOG_FILE: /tmp/tmpl25h2fdc/eazy_input.fits\n",
      "   >>> NOBJ = 1\n",
      "F22 E22 ( 22): hst/ACS_update_sep07/wfc_f435w_t81.dat\n",
      "F23 E23 ( 23): hst/ACS_update_sep07/wfc_f606w_t81.dat\n",
      "F49 E49 ( 49): hst/ACS_update_sep07/wfc_f775w_t81.dat\n",
      "F24 E24 ( 24): hst/ACS_update_sep07/wfc_f814w_t81.dat\n",
      "F50 E50 ( 50): hst/ACS_update_sep07/wfc_f850lp_t81.dat\n",
      "F1 E1 (  1): jwst_nircam_f090w\n",
      "F2 E2 (  2): jwst_nircam_f115w\n",
      "F3 E3 (  3): jwst_nircam_f150w\n",
      "F38 E38 ( 38): jwst_nircam_f162m\n",
      "F39 E39 ( 39): jwst_nircam_f182m\n",
      "F4 E4 (  4): jwst_nircam_f200w\n",
      "F40 E40 ( 40): jwst_nircam_f210m\n",
      "F41 E41 ( 41): jwst_nircam_f250m\n",
      "F5 E5 (  5): jwst_nircam_f277w\n",
      "F42 E42 ( 42): jwst_nircam_f300m\n",
      "F43 E43 ( 43): jwst_nircam_f335m\n",
      "F6 E6 (  6): jwst_nircam_f356w\n",
      "F7 E7 (  7): jwst_nircam_f410m\n",
      "F8 E8 (  8): jwst_nircam_f444w\n",
      "Set sys_err = 0.00 (positive=True)\n",
      "Template grid: /nvme/scratch/work/tharvey/EAZY/inputs/scripts/templates/LarsonTemplates/tweak_fsps_QSF_12_v3_newtemplates.param (this may take some time)\n"
     ]
    },
    {
     "name": "stderr",
     "output_type": "stream",
     "text": [
      "100%|██████████| 18/18 [00:12<00:00,  1.46it/s]\n"
     ]
    },
    {
     "name": "stdout",
     "output_type": "stream",
     "text": [
      "Template   0: fsps_QSF_12_v3_001.dat (NZ=1).\n",
      "Template   1: fsps_QSF_12_v3_002.dat (NZ=1).\n",
      "Template   2: fsps_QSF_12_v3_003.dat (NZ=1).\n",
      "Template   3: fsps_QSF_12_v3_004.dat (NZ=1).\n",
      "Template   4: fsps_QSF_12_v3_005.dat (NZ=1).\n",
      "Template   5: fsps_QSF_12_v3_006.dat (NZ=1).\n",
      "Template   6: fsps_QSF_12_v3_007.dat (NZ=1).\n",
      "Template   7: fsps_QSF_12_v3_008.dat (NZ=1).\n",
      "Template   8: fsps_QSF_12_v3_009.dat (NZ=1).\n",
      "Template   9: fsps_QSF_12_v3_010.dat (NZ=1).\n",
      "Template  10: fsps_QSF_12_v3_011.dat (NZ=1).\n",
      "Template  11: fsps_QSF_12_v3_012.dat (NZ=1).\n",
      "Template  12: binc100z001age6_cloudy.dat (NZ=1).\n",
      "Template  13: binc100z001age65_cloudy.dat (NZ=1).\n",
      "Template  14: binc100z001age7_cloudy.dat (NZ=1).\n",
      "Template  15: binc100z001age6.dat (NZ=1).\n",
      "Template  16: binc100z001age65.dat (NZ=1).\n",
      "Template  17: binc100z001age7.dat (NZ=1).\n",
      "Process templates: 12.775 s\n"
     ]
    },
    {
     "name": "stderr",
     "output_type": "stream",
     "text": [
      "304it [00:00, 25694.59it/s]"
     ]
    },
    {
     "name": "stdout",
     "output_type": "stream",
     "text": [
      "Saving tempfilt to /nvme/scratch/work/tharvey/EXPANSE/src/EXPANSE/eazy/tempfilt/\n"
     ]
    },
    {
     "name": "stderr",
     "output_type": "stream",
     "text": [
      "\n",
      "100%|██████████| 304/304 [00:00<00:00, 4890.32it/s]\n"
     ]
    },
    {
     "name": "stdout",
     "output_type": "stream",
     "text": [
      "Compute best fits\n",
      "fit_best: 0.0 s (n_proc=1,  NOBJ=1)\n",
      "Fit 0.4 s (n_proc=4, NOBJ=1)\n",
      "Setting meta, id_phot, 0\n",
      "Setting meta, z_best, 6.668941\n",
      "Setting meta, chi2, 26.596678195822754\n",
      "Setting meta, z16, 6.5704207\n",
      "Setting meta, z50, 6.6581044\n",
      "Setting meta, z84, 6.7250824\n",
      "Setting meta, flux_unit, uJy\n",
      "Setting meta, wave_unit, Angstrom\n",
      "Setting meta, templates_file, /nvme/scratch/work/tharvey/EAZY/inputs/scripts/templates/LarsonTemplates/tweak_fsps_QSF_12_v3_newtemplates.param\n",
      "Setting meta, z_min, 0.01\n",
      "Setting meta, z_max, 20.0\n",
      "Setting meta, z_step, 0.01\n",
      "Setting meta, region, MAG_APER_0.32 arcsec_fsps_larson_0.05__Asada24_cgm\n",
      " added to <HDF5 file \"JOF_psfmatched_15099.h5\" (mode r+)>, interactive_outputs/MAG_APER_0_32 arcsec_fsps_larson_0_05__Asada24_cgm/, eazy_fit\n",
      " added to <HDF5 file \"JOF_psfmatched_15099.h5\" (mode r+)>, interactive_outputs/MAG_APER_0_32 arcsec_fsps_larson_0_05__Asada24_cgm/, p_z\n",
      " added to <HDF5 file \"JOF_psfmatched_15099.h5\" (mode r+)>, interactive_outputs/MAG_APER_0_32 arcsec_fsps_larson_0_05__Asada24_cgm/, input_flux\n",
      " added to <HDF5 file \"JOF_psfmatched_15099.h5\" (mode r+)>, interactive_outputs/MAG_APER_0_32 arcsec_fsps_larson_0_05__Asada24_cgm/, input_flux_err\n",
      "Zeropoint: 23.9\n",
      "{'TEMPLATES_FILE': '/nvme/scratch/work/tharvey/EAZY/inputs/scripts/templates/LarsonTemplates/tweak_fsps_QSF_12_v3_newtemplates.param', 'FILTERS_RES': '/nvme/scratch/work/tharvey/EXPANSE/src/EXPANSE/eazy/jwst_nircam_FILTER.RES', 'MW_EBV': 0, 'CAT_HAS_EXTCORR': False, 'ADD_CGM': True, 'Z_STEP': 0.01, 'Z_MIN': 0.01, 'Z_MAX': 20.0, 'TEMP_ERR_FILE': '/nvme/scratch/work/tharvey/EXPANSE/src/EXPANSE/eazy/TEMPLATE_ERROR.eazy_v1.0', 'TEMP_ERR_A2': 0, 'SYS_ERR': 0, 'APPLY_PRIOR': 'n', 'PRIOR_ABZP': 23.9, 'PRIOR_FILTER': 28, 'PRIOR_FILE': '', 'FIX_ZSPEC': False, 'IGM_SCALE_TAU': 1.0, 'N_MIN_COLORS': 2, 'CATALOG_FILE': '/tmp/tmpsz3i5slw/eazy_input.fits'}\n",
      "Read default param file: /nvme/scratch/software/anaconda3/envs/tharvey_galfind/lib/python3.10/site-packages/eazy/data/zphot.param.default\n",
      "Read CATALOG_FILE: /tmp/tmpsz3i5slw/eazy_input.fits\n",
      "   >>> NOBJ = 1\n",
      "F22 E22 ( 22): hst/ACS_update_sep07/wfc_f435w_t81.dat\n",
      "F23 E23 ( 23): hst/ACS_update_sep07/wfc_f606w_t81.dat\n",
      "F24 E24 ( 24): hst/ACS_update_sep07/wfc_f814w_t81.dat\n",
      "F50 E50 ( 50): hst/ACS_update_sep07/wfc_f850lp_t81.dat\n",
      "F1 E1 (  1): jwst_nircam_f090w\n",
      "F2 E2 (  2): jwst_nircam_f115w\n",
      "F3 E3 (  3): jwst_nircam_f150w\n",
      "F38 E38 ( 38): jwst_nircam_f162m\n",
      "F39 E39 ( 39): jwst_nircam_f182m\n",
      "F4 E4 (  4): jwst_nircam_f200w\n",
      "F40 E40 ( 40): jwst_nircam_f210m\n",
      "F41 E41 ( 41): jwst_nircam_f250m\n",
      "F5 E5 (  5): jwst_nircam_f277w\n",
      "F42 E42 ( 42): jwst_nircam_f300m\n",
      "F43 E43 ( 43): jwst_nircam_f335m\n",
      "F6 E6 (  6): jwst_nircam_f356w\n",
      "F7 E7 (  7): jwst_nircam_f410m\n",
      "F8 E8 (  8): jwst_nircam_f444w\n",
      "Set sys_err = 0.00 (positive=True)\n",
      "Template grid: /nvme/scratch/work/tharvey/EAZY/inputs/scripts/templates/LarsonTemplates/tweak_fsps_QSF_12_v3_newtemplates.param (this may take some time)\n"
     ]
    },
    {
     "name": "stderr",
     "output_type": "stream",
     "text": [
      "100%|██████████| 18/18 [00:12<00:00,  1.48it/s]\n"
     ]
    },
    {
     "name": "stdout",
     "output_type": "stream",
     "text": [
      "Template   0: fsps_QSF_12_v3_001.dat (NZ=1).\n",
      "Template   1: fsps_QSF_12_v3_002.dat (NZ=1).\n",
      "Template   2: fsps_QSF_12_v3_003.dat (NZ=1).\n",
      "Template   3: fsps_QSF_12_v3_004.dat (NZ=1).\n",
      "Template   4: fsps_QSF_12_v3_005.dat (NZ=1).\n",
      "Template   5: fsps_QSF_12_v3_006.dat (NZ=1).\n",
      "Template   6: fsps_QSF_12_v3_007.dat (NZ=1).\n",
      "Template   7: fsps_QSF_12_v3_008.dat (NZ=1).\n",
      "Template   8: fsps_QSF_12_v3_009.dat (NZ=1).\n",
      "Template   9: fsps_QSF_12_v3_010.dat (NZ=1).\n",
      "Template  10: fsps_QSF_12_v3_011.dat (NZ=1).\n",
      "Template  11: fsps_QSF_12_v3_012.dat (NZ=1).\n",
      "Template  12: binc100z001age6_cloudy.dat (NZ=1).\n",
      "Template  13: binc100z001age65_cloudy.dat (NZ=1).\n",
      "Template  14: binc100z001age7_cloudy.dat (NZ=1).\n",
      "Template  15: binc100z001age6.dat (NZ=1).\n",
      "Template  16: binc100z001age65.dat (NZ=1).\n",
      "Template  17: binc100z001age7.dat (NZ=1).\n",
      "Process templates: 12.633 s\n"
     ]
    },
    {
     "name": "stderr",
     "output_type": "stream",
     "text": [
      "304it [00:00, 17392.59it/s]"
     ]
    },
    {
     "name": "stdout",
     "output_type": "stream",
     "text": [
      "Saving tempfilt to /nvme/scratch/work/tharvey/EXPANSE/src/EXPANSE/eazy/tempfilt/\n"
     ]
    },
    {
     "name": "stderr",
     "output_type": "stream",
     "text": [
      "\n",
      "100%|██████████| 304/304 [00:00<00:00, 5100.74it/s]\n"
     ]
    },
    {
     "name": "stdout",
     "output_type": "stream",
     "text": [
      "Compute best fits\n",
      "fit_best: 0.0 s (n_proc=1,  NOBJ=1)\n",
      "Fit 0.4 s (n_proc=4, NOBJ=1)\n",
      "Setting meta, id_phot, 0\n",
      "Setting meta, z_best, 11.295368\n",
      "Setting meta, chi2, 32.10670666110473\n",
      "Setting meta, z16, 10.630779\n",
      "Setting meta, z50, 11.209354\n",
      "Setting meta, z84, 11.507151\n",
      "Setting meta, flux_unit, uJy\n",
      "Setting meta, wave_unit, Angstrom\n",
      "Setting meta, templates_file, /nvme/scratch/work/tharvey/EAZY/inputs/scripts/templates/LarsonTemplates/tweak_fsps_QSF_12_v3_newtemplates.param\n",
      "Setting meta, z_min, 0.01\n",
      "Setting meta, z_max, 20.0\n",
      "Setting meta, z_step, 0.01\n",
      "Setting meta, region, MAG_APER_0.32 arcsec_fsps_larson_0.05__Asada24_cgm\n",
      " added to <HDF5 file \"JOF_psfmatched_15149.h5\" (mode r+)>, interactive_outputs/MAG_APER_0_32 arcsec_fsps_larson_0_05__Asada24_cgm/, eazy_fit\n",
      " added to <HDF5 file \"JOF_psfmatched_15149.h5\" (mode r+)>, interactive_outputs/MAG_APER_0_32 arcsec_fsps_larson_0_05__Asada24_cgm/, p_z\n",
      " added to <HDF5 file \"JOF_psfmatched_15149.h5\" (mode r+)>, interactive_outputs/MAG_APER_0_32 arcsec_fsps_larson_0_05__Asada24_cgm/, input_flux\n",
      " added to <HDF5 file \"JOF_psfmatched_15149.h5\" (mode r+)>, interactive_outputs/MAG_APER_0_32 arcsec_fsps_larson_0_05__Asada24_cgm/, input_flux_err\n",
      "Zeropoint: 23.9\n",
      "{'TEMPLATES_FILE': '/nvme/scratch/work/tharvey/EAZY/inputs/scripts/templates/LarsonTemplates/tweak_fsps_QSF_12_v3_newtemplates.param', 'FILTERS_RES': '/nvme/scratch/work/tharvey/EXPANSE/src/EXPANSE/eazy/jwst_nircam_FILTER.RES', 'MW_EBV': 0, 'CAT_HAS_EXTCORR': False, 'ADD_CGM': True, 'Z_STEP': 0.01, 'Z_MIN': 0.01, 'Z_MAX': 20.0, 'TEMP_ERR_FILE': '/nvme/scratch/work/tharvey/EXPANSE/src/EXPANSE/eazy/TEMPLATE_ERROR.eazy_v1.0', 'TEMP_ERR_A2': 0, 'SYS_ERR': 0, 'APPLY_PRIOR': 'n', 'PRIOR_ABZP': 23.9, 'PRIOR_FILTER': 28, 'PRIOR_FILE': '', 'FIX_ZSPEC': False, 'IGM_SCALE_TAU': 1.0, 'N_MIN_COLORS': 2, 'CATALOG_FILE': '/tmp/tmpwm3p1eiu/eazy_input.fits'}\n",
      "Read default param file: /nvme/scratch/software/anaconda3/envs/tharvey_galfind/lib/python3.10/site-packages/eazy/data/zphot.param.default\n",
      "Read CATALOG_FILE: /tmp/tmpwm3p1eiu/eazy_input.fits\n",
      "   >>> NOBJ = 1\n",
      "F22 E22 ( 22): hst/ACS_update_sep07/wfc_f435w_t81.dat\n",
      "F23 E23 ( 23): hst/ACS_update_sep07/wfc_f606w_t81.dat\n",
      "F24 E24 ( 24): hst/ACS_update_sep07/wfc_f814w_t81.dat\n",
      "F50 E50 ( 50): hst/ACS_update_sep07/wfc_f850lp_t81.dat\n",
      "F1 E1 (  1): jwst_nircam_f090w\n",
      "F2 E2 (  2): jwst_nircam_f115w\n",
      "F3 E3 (  3): jwst_nircam_f150w\n",
      "F38 E38 ( 38): jwst_nircam_f162m\n",
      "F39 E39 ( 39): jwst_nircam_f182m\n",
      "F4 E4 (  4): jwst_nircam_f200w\n",
      "F40 E40 ( 40): jwst_nircam_f210m\n",
      "F41 E41 ( 41): jwst_nircam_f250m\n",
      "F5 E5 (  5): jwst_nircam_f277w\n",
      "F42 E42 ( 42): jwst_nircam_f300m\n",
      "F43 E43 ( 43): jwst_nircam_f335m\n",
      "F6 E6 (  6): jwst_nircam_f356w\n",
      "F7 E7 (  7): jwst_nircam_f410m\n",
      "F8 E8 (  8): jwst_nircam_f444w\n",
      "Set sys_err = 0.00 (positive=True)\n",
      "Template grid: /nvme/scratch/work/tharvey/EAZY/inputs/scripts/templates/LarsonTemplates/tweak_fsps_QSF_12_v3_newtemplates.param (this may take some time)\n"
     ]
    },
    {
     "name": "stderr",
     "output_type": "stream",
     "text": [
      "100%|██████████| 18/18 [00:11<00:00,  1.53it/s]\n"
     ]
    },
    {
     "name": "stdout",
     "output_type": "stream",
     "text": [
      "Template   0: fsps_QSF_12_v3_001.dat (NZ=1).\n",
      "Template   1: fsps_QSF_12_v3_002.dat (NZ=1).\n",
      "Template   2: fsps_QSF_12_v3_003.dat (NZ=1).\n",
      "Template   3: fsps_QSF_12_v3_004.dat (NZ=1).\n",
      "Template   4: fsps_QSF_12_v3_005.dat (NZ=1).\n",
      "Template   5: fsps_QSF_12_v3_006.dat (NZ=1).\n",
      "Template   6: fsps_QSF_12_v3_007.dat (NZ=1).\n",
      "Template   7: fsps_QSF_12_v3_008.dat (NZ=1).\n",
      "Template   8: fsps_QSF_12_v3_009.dat (NZ=1).\n",
      "Template   9: fsps_QSF_12_v3_010.dat (NZ=1).\n",
      "Template  10: fsps_QSF_12_v3_011.dat (NZ=1).\n",
      "Template  11: fsps_QSF_12_v3_012.dat (NZ=1).\n",
      "Template  12: binc100z001age6_cloudy.dat (NZ=1).\n",
      "Template  13: binc100z001age65_cloudy.dat (NZ=1).\n",
      "Template  14: binc100z001age7_cloudy.dat (NZ=1).\n",
      "Template  15: binc100z001age6.dat (NZ=1).\n",
      "Template  16: binc100z001age65.dat (NZ=1).\n",
      "Template  17: binc100z001age7.dat (NZ=1).\n",
      "Process templates: 12.212 s\n"
     ]
    },
    {
     "name": "stderr",
     "output_type": "stream",
     "text": [
      "304it [00:00, 22749.58it/s]"
     ]
    },
    {
     "name": "stdout",
     "output_type": "stream",
     "text": [
      "Saving tempfilt to /nvme/scratch/work/tharvey/EXPANSE/src/EXPANSE/eazy/tempfilt/\n"
     ]
    },
    {
     "name": "stderr",
     "output_type": "stream",
     "text": [
      "\n",
      "100%|██████████| 304/304 [00:00<00:00, 5418.72it/s]\n"
     ]
    },
    {
     "name": "stdout",
     "output_type": "stream",
     "text": [
      "Compute best fits\n",
      "fit_best: 0.0 s (n_proc=1,  NOBJ=1)\n",
      "Fit 0.4 s (n_proc=4, NOBJ=1)\n",
      "Setting meta, id_phot, 0\n",
      "Setting meta, z_best, 0.040276773\n",
      "Setting meta, chi2, 62.29813031127451\n",
      "Setting meta, z16, 0.023637531\n",
      "Setting meta, z50, 0.04221561\n",
      "Setting meta, z84, 0.06314936\n",
      "Setting meta, flux_unit, uJy\n",
      "Setting meta, wave_unit, Angstrom\n",
      "Setting meta, templates_file, /nvme/scratch/work/tharvey/EAZY/inputs/scripts/templates/LarsonTemplates/tweak_fsps_QSF_12_v3_newtemplates.param\n",
      "Setting meta, z_min, 0.01\n",
      "Setting meta, z_max, 20.0\n",
      "Setting meta, z_step, 0.01\n",
      "Setting meta, region, MAG_APER_0.32 arcsec_fsps_larson_0.05__Asada24_cgm\n",
      " added to <HDF5 file \"JOF_psfmatched_15156.h5\" (mode r+)>, interactive_outputs/MAG_APER_0_32 arcsec_fsps_larson_0_05__Asada24_cgm/, eazy_fit\n",
      " added to <HDF5 file \"JOF_psfmatched_15156.h5\" (mode r+)>, interactive_outputs/MAG_APER_0_32 arcsec_fsps_larson_0_05__Asada24_cgm/, p_z\n",
      " added to <HDF5 file \"JOF_psfmatched_15156.h5\" (mode r+)>, interactive_outputs/MAG_APER_0_32 arcsec_fsps_larson_0_05__Asada24_cgm/, input_flux\n",
      " added to <HDF5 file \"JOF_psfmatched_15156.h5\" (mode r+)>, interactive_outputs/MAG_APER_0_32 arcsec_fsps_larson_0_05__Asada24_cgm/, input_flux_err\n",
      "Zeropoint: 23.9\n",
      "{'TEMPLATES_FILE': '/nvme/scratch/work/tharvey/EAZY/inputs/scripts/templates/LarsonTemplates/tweak_fsps_QSF_12_v3_newtemplates.param', 'FILTERS_RES': '/nvme/scratch/work/tharvey/EXPANSE/src/EXPANSE/eazy/jwst_nircam_FILTER.RES', 'MW_EBV': 0, 'CAT_HAS_EXTCORR': False, 'ADD_CGM': True, 'Z_STEP': 0.01, 'Z_MIN': 0.01, 'Z_MAX': 20.0, 'TEMP_ERR_FILE': '/nvme/scratch/work/tharvey/EXPANSE/src/EXPANSE/eazy/TEMPLATE_ERROR.eazy_v1.0', 'TEMP_ERR_A2': 0, 'SYS_ERR': 0, 'APPLY_PRIOR': 'n', 'PRIOR_ABZP': 23.9, 'PRIOR_FILTER': 28, 'PRIOR_FILE': '', 'FIX_ZSPEC': False, 'IGM_SCALE_TAU': 1.0, 'N_MIN_COLORS': 2, 'CATALOG_FILE': '/tmp/tmp1edphg3h/eazy_input.fits'}\n",
      "Read default param file: /nvme/scratch/software/anaconda3/envs/tharvey_galfind/lib/python3.10/site-packages/eazy/data/zphot.param.default\n",
      "Read CATALOG_FILE: /tmp/tmp1edphg3h/eazy_input.fits\n",
      "   >>> NOBJ = 1\n",
      "F1 E1 (  1): jwst_nircam_f090w\n",
      "F2 E2 (  2): jwst_nircam_f115w\n",
      "F3 E3 (  3): jwst_nircam_f150w\n",
      "F38 E38 ( 38): jwst_nircam_f162m\n",
      "F39 E39 ( 39): jwst_nircam_f182m\n",
      "F4 E4 (  4): jwst_nircam_f200w\n",
      "F40 E40 ( 40): jwst_nircam_f210m\n",
      "F41 E41 ( 41): jwst_nircam_f250m\n",
      "F5 E5 (  5): jwst_nircam_f277w\n",
      "F42 E42 ( 42): jwst_nircam_f300m\n",
      "F43 E43 ( 43): jwst_nircam_f335m\n",
      "F6 E6 (  6): jwst_nircam_f356w\n",
      "F7 E7 (  7): jwst_nircam_f410m\n",
      "F8 E8 (  8): jwst_nircam_f444w\n",
      "Set sys_err = 0.00 (positive=True)\n",
      "Template grid: /nvme/scratch/work/tharvey/EAZY/inputs/scripts/templates/LarsonTemplates/tweak_fsps_QSF_12_v3_newtemplates.param (this may take some time)\n"
     ]
    },
    {
     "name": "stderr",
     "output_type": "stream",
     "text": [
      "100%|██████████| 18/18 [00:10<00:00,  1.70it/s]\n"
     ]
    },
    {
     "name": "stdout",
     "output_type": "stream",
     "text": [
      "Template   0: fsps_QSF_12_v3_001.dat (NZ=1).\n",
      "Template   1: fsps_QSF_12_v3_002.dat (NZ=1).\n",
      "Template   2: fsps_QSF_12_v3_003.dat (NZ=1).\n",
      "Template   3: fsps_QSF_12_v3_004.dat (NZ=1).\n",
      "Template   4: fsps_QSF_12_v3_005.dat (NZ=1).\n",
      "Template   5: fsps_QSF_12_v3_006.dat (NZ=1).\n",
      "Template   6: fsps_QSF_12_v3_007.dat (NZ=1).\n",
      "Template   7: fsps_QSF_12_v3_008.dat (NZ=1).\n",
      "Template   8: fsps_QSF_12_v3_009.dat (NZ=1).\n",
      "Template   9: fsps_QSF_12_v3_010.dat (NZ=1).\n",
      "Template  10: fsps_QSF_12_v3_011.dat (NZ=1).\n",
      "Template  11: fsps_QSF_12_v3_012.dat (NZ=1).\n",
      "Template  12: binc100z001age6_cloudy.dat (NZ=1).\n",
      "Template  13: binc100z001age65_cloudy.dat (NZ=1).\n",
      "Template  14: binc100z001age7_cloudy.dat (NZ=1).\n",
      "Template  15: binc100z001age6.dat (NZ=1).\n",
      "Template  16: binc100z001age65.dat (NZ=1).\n",
      "Template  17: binc100z001age7.dat (NZ=1).\n",
      "Process templates: 11.020 s\n"
     ]
    },
    {
     "name": "stderr",
     "output_type": "stream",
     "text": [
      "304it [00:00, 18328.90it/s]"
     ]
    },
    {
     "name": "stdout",
     "output_type": "stream",
     "text": [
      "Saving tempfilt to /nvme/scratch/work/tharvey/EXPANSE/src/EXPANSE/eazy/tempfilt/\n"
     ]
    },
    {
     "name": "stderr",
     "output_type": "stream",
     "text": [
      "\n",
      "100%|██████████| 304/304 [00:00<00:00, 6178.50it/s]\n"
     ]
    },
    {
     "name": "stdout",
     "output_type": "stream",
     "text": [
      "Compute best fits\n",
      "fit_best: 0.0 s (n_proc=1,  NOBJ=1)\n",
      "Fit 0.4 s (n_proc=4, NOBJ=1)\n",
      "Setting meta, id_phot, 0\n",
      "Setting meta, z_best, 7.3702807\n",
      "Setting meta, chi2, 10.882409821937053\n",
      "Setting meta, z16, 7.2718043\n",
      "Setting meta, z50, 7.370216\n",
      "Setting meta, z84, 7.462991\n",
      "Setting meta, flux_unit, uJy\n",
      "Setting meta, wave_unit, Angstrom\n",
      "Setting meta, templates_file, /nvme/scratch/work/tharvey/EAZY/inputs/scripts/templates/LarsonTemplates/tweak_fsps_QSF_12_v3_newtemplates.param\n",
      "Setting meta, z_min, 0.01\n",
      "Setting meta, z_max, 20.0\n",
      "Setting meta, z_step, 0.01\n",
      "Setting meta, region, MAG_APER_0.32 arcsec_fsps_larson_0.05__Asada24_cgm\n",
      " added to <HDF5 file \"JOF_psfmatched_15198.h5\" (mode r+)>, interactive_outputs/MAG_APER_0_32 arcsec_fsps_larson_0_05__Asada24_cgm/, eazy_fit\n",
      " added to <HDF5 file \"JOF_psfmatched_15198.h5\" (mode r+)>, interactive_outputs/MAG_APER_0_32 arcsec_fsps_larson_0_05__Asada24_cgm/, p_z\n",
      " added to <HDF5 file \"JOF_psfmatched_15198.h5\" (mode r+)>, interactive_outputs/MAG_APER_0_32 arcsec_fsps_larson_0_05__Asada24_cgm/, input_flux\n",
      " added to <HDF5 file \"JOF_psfmatched_15198.h5\" (mode r+)>, interactive_outputs/MAG_APER_0_32 arcsec_fsps_larson_0_05__Asada24_cgm/, input_flux_err\n",
      "Zeropoint: 23.9\n",
      "{'TEMPLATES_FILE': '/nvme/scratch/work/tharvey/EAZY/inputs/scripts/templates/LarsonTemplates/tweak_fsps_QSF_12_v3_newtemplates.param', 'FILTERS_RES': '/nvme/scratch/work/tharvey/EXPANSE/src/EXPANSE/eazy/jwst_nircam_FILTER.RES', 'MW_EBV': 0, 'CAT_HAS_EXTCORR': False, 'ADD_CGM': True, 'Z_STEP': 0.01, 'Z_MIN': 0.01, 'Z_MAX': 20.0, 'TEMP_ERR_FILE': '/nvme/scratch/work/tharvey/EXPANSE/src/EXPANSE/eazy/TEMPLATE_ERROR.eazy_v1.0', 'TEMP_ERR_A2': 0, 'SYS_ERR': 0, 'APPLY_PRIOR': 'n', 'PRIOR_ABZP': 23.9, 'PRIOR_FILTER': 28, 'PRIOR_FILE': '', 'FIX_ZSPEC': False, 'IGM_SCALE_TAU': 1.0, 'N_MIN_COLORS': 2, 'CATALOG_FILE': '/tmp/tmp4qfok6ep/eazy_input.fits'}\n",
      "Read default param file: /nvme/scratch/software/anaconda3/envs/tharvey_galfind/lib/python3.10/site-packages/eazy/data/zphot.param.default\n",
      "Read CATALOG_FILE: /tmp/tmp4qfok6ep/eazy_input.fits\n",
      "   >>> NOBJ = 1\n",
      "F22 E22 ( 22): hst/ACS_update_sep07/wfc_f435w_t81.dat\n",
      "F23 E23 ( 23): hst/ACS_update_sep07/wfc_f606w_t81.dat\n",
      "F49 E49 ( 49): hst/ACS_update_sep07/wfc_f775w_t81.dat\n",
      "F24 E24 ( 24): hst/ACS_update_sep07/wfc_f814w_t81.dat\n",
      "F50 E50 ( 50): hst/ACS_update_sep07/wfc_f850lp_t81.dat\n",
      "F1 E1 (  1): jwst_nircam_f090w\n",
      "F2 E2 (  2): jwst_nircam_f115w\n",
      "F3 E3 (  3): jwst_nircam_f150w\n",
      "F38 E38 ( 38): jwst_nircam_f162m\n",
      "F39 E39 ( 39): jwst_nircam_f182m\n",
      "F4 E4 (  4): jwst_nircam_f200w\n",
      "F40 E40 ( 40): jwst_nircam_f210m\n",
      "F41 E41 ( 41): jwst_nircam_f250m\n",
      "F5 E5 (  5): jwst_nircam_f277w\n",
      "F42 E42 ( 42): jwst_nircam_f300m\n",
      "F43 E43 ( 43): jwst_nircam_f335m\n",
      "F6 E6 (  6): jwst_nircam_f356w\n",
      "F7 E7 (  7): jwst_nircam_f410m\n",
      "F8 E8 (  8): jwst_nircam_f444w\n",
      "Set sys_err = 0.00 (positive=True)\n",
      "Template grid: /nvme/scratch/work/tharvey/EAZY/inputs/scripts/templates/LarsonTemplates/tweak_fsps_QSF_12_v3_newtemplates.param (this may take some time)\n"
     ]
    },
    {
     "name": "stderr",
     "output_type": "stream",
     "text": [
      "100%|██████████| 18/18 [00:12<00:00,  1.45it/s]\n"
     ]
    },
    {
     "name": "stdout",
     "output_type": "stream",
     "text": [
      "Template   0: fsps_QSF_12_v3_001.dat (NZ=1).\n",
      "Template   1: fsps_QSF_12_v3_002.dat (NZ=1).\n",
      "Template   2: fsps_QSF_12_v3_003.dat (NZ=1).\n",
      "Template   3: fsps_QSF_12_v3_004.dat (NZ=1).\n",
      "Template   4: fsps_QSF_12_v3_005.dat (NZ=1).\n",
      "Template   5: fsps_QSF_12_v3_006.dat (NZ=1).\n",
      "Template   6: fsps_QSF_12_v3_007.dat (NZ=1).\n",
      "Template   7: fsps_QSF_12_v3_008.dat (NZ=1).\n",
      "Template   8: fsps_QSF_12_v3_009.dat (NZ=1).\n",
      "Template   9: fsps_QSF_12_v3_010.dat (NZ=1).\n",
      "Template  10: fsps_QSF_12_v3_011.dat (NZ=1).\n",
      "Template  11: fsps_QSF_12_v3_012.dat (NZ=1).\n",
      "Template  12: binc100z001age6_cloudy.dat (NZ=1).\n",
      "Template  13: binc100z001age65_cloudy.dat (NZ=1).\n",
      "Template  14: binc100z001age7_cloudy.dat (NZ=1).\n",
      "Template  15: binc100z001age6.dat (NZ=1).\n",
      "Template  16: binc100z001age65.dat (NZ=1).\n",
      "Template  17: binc100z001age7.dat (NZ=1).\n",
      "Process templates: 12.809 s\n"
     ]
    },
    {
     "name": "stderr",
     "output_type": "stream",
     "text": [
      "304it [00:00, 21662.00it/s]"
     ]
    },
    {
     "name": "stdout",
     "output_type": "stream",
     "text": [
      "Saving tempfilt to /nvme/scratch/work/tharvey/EXPANSE/src/EXPANSE/eazy/tempfilt/\n"
     ]
    },
    {
     "name": "stderr",
     "output_type": "stream",
     "text": [
      "\n",
      "100%|██████████| 304/304 [00:00<00:00, 5072.46it/s]\n"
     ]
    },
    {
     "name": "stdout",
     "output_type": "stream",
     "text": [
      "Compute best fits\n",
      "fit_best: 0.0 s (n_proc=1,  NOBJ=1)\n",
      "Fit 0.4 s (n_proc=4, NOBJ=1)\n",
      "Setting meta, id_phot, 0\n",
      "Setting meta, z_best, 5.8896885\n",
      "Setting meta, chi2, 22.53255800522413\n",
      "Setting meta, z16, 5.7440796\n",
      "Setting meta, z50, 5.872864\n",
      "Setting meta, z84, 5.9808908\n",
      "Setting meta, flux_unit, uJy\n",
      "Setting meta, wave_unit, Angstrom\n",
      "Setting meta, templates_file, /nvme/scratch/work/tharvey/EAZY/inputs/scripts/templates/LarsonTemplates/tweak_fsps_QSF_12_v3_newtemplates.param\n",
      "Setting meta, z_min, 0.01\n",
      "Setting meta, z_max, 20.0\n",
      "Setting meta, z_step, 0.01\n",
      "Setting meta, region, MAG_APER_0.32 arcsec_fsps_larson_0.05__Asada24_cgm\n",
      " added to <HDF5 file \"JOF_psfmatched_1542.h5\" (mode r+)>, interactive_outputs/MAG_APER_0_32 arcsec_fsps_larson_0_05__Asada24_cgm/, eazy_fit\n",
      " added to <HDF5 file \"JOF_psfmatched_1542.h5\" (mode r+)>, interactive_outputs/MAG_APER_0_32 arcsec_fsps_larson_0_05__Asada24_cgm/, p_z\n",
      " added to <HDF5 file \"JOF_psfmatched_1542.h5\" (mode r+)>, interactive_outputs/MAG_APER_0_32 arcsec_fsps_larson_0_05__Asada24_cgm/, input_flux\n",
      " added to <HDF5 file \"JOF_psfmatched_1542.h5\" (mode r+)>, interactive_outputs/MAG_APER_0_32 arcsec_fsps_larson_0_05__Asada24_cgm/, input_flux_err\n",
      "Zeropoint: 23.9\n",
      "{'TEMPLATES_FILE': '/nvme/scratch/work/tharvey/EAZY/inputs/scripts/templates/LarsonTemplates/tweak_fsps_QSF_12_v3_newtemplates.param', 'FILTERS_RES': '/nvme/scratch/work/tharvey/EXPANSE/src/EXPANSE/eazy/jwst_nircam_FILTER.RES', 'MW_EBV': 0, 'CAT_HAS_EXTCORR': False, 'ADD_CGM': True, 'Z_STEP': 0.01, 'Z_MIN': 0.01, 'Z_MAX': 20.0, 'TEMP_ERR_FILE': '/nvme/scratch/work/tharvey/EXPANSE/src/EXPANSE/eazy/TEMPLATE_ERROR.eazy_v1.0', 'TEMP_ERR_A2': 0, 'SYS_ERR': 0, 'APPLY_PRIOR': 'n', 'PRIOR_ABZP': 23.9, 'PRIOR_FILTER': 28, 'PRIOR_FILE': '', 'FIX_ZSPEC': False, 'IGM_SCALE_TAU': 1.0, 'N_MIN_COLORS': 2, 'CATALOG_FILE': '/tmp/tmpzitpp_ar/eazy_input.fits'}\n",
      "Read default param file: /nvme/scratch/software/anaconda3/envs/tharvey_galfind/lib/python3.10/site-packages/eazy/data/zphot.param.default\n",
      "Read CATALOG_FILE: /tmp/tmpzitpp_ar/eazy_input.fits\n",
      "   >>> NOBJ = 1\n",
      "F1 E1 (  1): jwst_nircam_f090w\n",
      "F2 E2 (  2): jwst_nircam_f115w\n",
      "F3 E3 (  3): jwst_nircam_f150w\n",
      "F38 E38 ( 38): jwst_nircam_f162m\n",
      "F39 E39 ( 39): jwst_nircam_f182m\n",
      "F4 E4 (  4): jwst_nircam_f200w\n",
      "F40 E40 ( 40): jwst_nircam_f210m\n",
      "F41 E41 ( 41): jwst_nircam_f250m\n",
      "F5 E5 (  5): jwst_nircam_f277w\n",
      "F42 E42 ( 42): jwst_nircam_f300m\n",
      "F43 E43 ( 43): jwst_nircam_f335m\n",
      "F6 E6 (  6): jwst_nircam_f356w\n",
      "F7 E7 (  7): jwst_nircam_f410m\n",
      "F8 E8 (  8): jwst_nircam_f444w\n",
      "Set sys_err = 0.00 (positive=True)\n",
      "Template grid: /nvme/scratch/work/tharvey/EAZY/inputs/scripts/templates/LarsonTemplates/tweak_fsps_QSF_12_v3_newtemplates.param (this may take some time)\n"
     ]
    },
    {
     "name": "stderr",
     "output_type": "stream",
     "text": [
      "100%|██████████| 18/18 [00:10<00:00,  1.68it/s]\n"
     ]
    },
    {
     "name": "stdout",
     "output_type": "stream",
     "text": [
      "Template   0: fsps_QSF_12_v3_001.dat (NZ=1).\n",
      "Template   1: fsps_QSF_12_v3_002.dat (NZ=1).\n",
      "Template   2: fsps_QSF_12_v3_003.dat (NZ=1).\n",
      "Template   3: fsps_QSF_12_v3_004.dat (NZ=1).\n",
      "Template   4: fsps_QSF_12_v3_005.dat (NZ=1).\n",
      "Template   5: fsps_QSF_12_v3_006.dat (NZ=1).\n",
      "Template   6: fsps_QSF_12_v3_007.dat (NZ=1).\n",
      "Template   7: fsps_QSF_12_v3_008.dat (NZ=1).\n",
      "Template   8: fsps_QSF_12_v3_009.dat (NZ=1).\n",
      "Template   9: fsps_QSF_12_v3_010.dat (NZ=1).\n",
      "Template  10: fsps_QSF_12_v3_011.dat (NZ=1).\n",
      "Template  11: fsps_QSF_12_v3_012.dat (NZ=1).\n",
      "Template  12: binc100z001age6_cloudy.dat (NZ=1).\n",
      "Template  13: binc100z001age65_cloudy.dat (NZ=1).\n",
      "Template  14: binc100z001age7_cloudy.dat (NZ=1).\n",
      "Template  15: binc100z001age6.dat (NZ=1).\n",
      "Template  16: binc100z001age65.dat (NZ=1).\n",
      "Template  17: binc100z001age7.dat (NZ=1).\n",
      "Process templates: 11.135 s\n"
     ]
    },
    {
     "name": "stderr",
     "output_type": "stream",
     "text": [
      "304it [00:00, 26982.15it/s]"
     ]
    },
    {
     "name": "stdout",
     "output_type": "stream",
     "text": [
      "Saving tempfilt to /nvme/scratch/work/tharvey/EXPANSE/src/EXPANSE/eazy/tempfilt/\n"
     ]
    },
    {
     "name": "stderr",
     "output_type": "stream",
     "text": [
      "\n",
      "100%|██████████| 304/304 [00:00<00:00, 5518.27it/s]\n"
     ]
    },
    {
     "name": "stdout",
     "output_type": "stream",
     "text": [
      "Compute best fits\n",
      "fit_best: 0.0 s (n_proc=1,  NOBJ=1)\n",
      "Fit 0.4 s (n_proc=4, NOBJ=1)\n",
      "Setting meta, id_phot, 0\n",
      "Setting meta, z_best, 8.492884\n",
      "Setting meta, chi2, 4.663835618634701\n",
      "Setting meta, z16, 8.378462\n",
      "Setting meta, z50, 8.497075\n",
      "Setting meta, z84, 8.623092\n",
      "Setting meta, flux_unit, uJy\n",
      "Setting meta, wave_unit, Angstrom\n",
      "Setting meta, templates_file, /nvme/scratch/work/tharvey/EAZY/inputs/scripts/templates/LarsonTemplates/tweak_fsps_QSF_12_v3_newtemplates.param\n",
      "Setting meta, z_min, 0.01\n",
      "Setting meta, z_max, 20.0\n",
      "Setting meta, z_step, 0.01\n",
      "Setting meta, region, MAG_APER_0.32 arcsec_fsps_larson_0.05__Asada24_cgm\n",
      " added to <HDF5 file \"JOF_psfmatched_15476.h5\" (mode r+)>, interactive_outputs/MAG_APER_0_32 arcsec_fsps_larson_0_05__Asada24_cgm/, eazy_fit\n",
      " added to <HDF5 file \"JOF_psfmatched_15476.h5\" (mode r+)>, interactive_outputs/MAG_APER_0_32 arcsec_fsps_larson_0_05__Asada24_cgm/, p_z\n",
      " added to <HDF5 file \"JOF_psfmatched_15476.h5\" (mode r+)>, interactive_outputs/MAG_APER_0_32 arcsec_fsps_larson_0_05__Asada24_cgm/, input_flux\n",
      " added to <HDF5 file \"JOF_psfmatched_15476.h5\" (mode r+)>, interactive_outputs/MAG_APER_0_32 arcsec_fsps_larson_0_05__Asada24_cgm/, input_flux_err\n",
      "Zeropoint: 23.9\n",
      "{'TEMPLATES_FILE': '/nvme/scratch/work/tharvey/EAZY/inputs/scripts/templates/LarsonTemplates/tweak_fsps_QSF_12_v3_newtemplates.param', 'FILTERS_RES': '/nvme/scratch/work/tharvey/EXPANSE/src/EXPANSE/eazy/jwst_nircam_FILTER.RES', 'MW_EBV': 0, 'CAT_HAS_EXTCORR': False, 'ADD_CGM': True, 'Z_STEP': 0.01, 'Z_MIN': 0.01, 'Z_MAX': 20.0, 'TEMP_ERR_FILE': '/nvme/scratch/work/tharvey/EXPANSE/src/EXPANSE/eazy/TEMPLATE_ERROR.eazy_v1.0', 'TEMP_ERR_A2': 0, 'SYS_ERR': 0, 'APPLY_PRIOR': 'n', 'PRIOR_ABZP': 23.9, 'PRIOR_FILTER': 28, 'PRIOR_FILE': '', 'FIX_ZSPEC': False, 'IGM_SCALE_TAU': 1.0, 'N_MIN_COLORS': 2, 'CATALOG_FILE': '/tmp/tmpnym6ifih/eazy_input.fits'}\n",
      "Read default param file: /nvme/scratch/software/anaconda3/envs/tharvey_galfind/lib/python3.10/site-packages/eazy/data/zphot.param.default\n",
      "Read CATALOG_FILE: /tmp/tmpnym6ifih/eazy_input.fits\n",
      "   >>> NOBJ = 1\n",
      "F1 E1 (  1): jwst_nircam_f090w\n",
      "F2 E2 (  2): jwst_nircam_f115w\n",
      "F3 E3 (  3): jwst_nircam_f150w\n",
      "F38 E38 ( 38): jwst_nircam_f162m\n",
      "F39 E39 ( 39): jwst_nircam_f182m\n",
      "F4 E4 (  4): jwst_nircam_f200w\n",
      "F40 E40 ( 40): jwst_nircam_f210m\n",
      "F41 E41 ( 41): jwst_nircam_f250m\n",
      "F5 E5 (  5): jwst_nircam_f277w\n",
      "F42 E42 ( 42): jwst_nircam_f300m\n",
      "F43 E43 ( 43): jwst_nircam_f335m\n",
      "F6 E6 (  6): jwst_nircam_f356w\n",
      "F7 E7 (  7): jwst_nircam_f410m\n",
      "F8 E8 (  8): jwst_nircam_f444w\n",
      "Set sys_err = 0.00 (positive=True)\n",
      "Template grid: /nvme/scratch/work/tharvey/EAZY/inputs/scripts/templates/LarsonTemplates/tweak_fsps_QSF_12_v3_newtemplates.param (this may take some time)\n"
     ]
    },
    {
     "name": "stderr",
     "output_type": "stream",
     "text": [
      "100%|██████████| 18/18 [00:10<00:00,  1.73it/s]\n"
     ]
    },
    {
     "name": "stdout",
     "output_type": "stream",
     "text": [
      "Template   0: fsps_QSF_12_v3_001.dat (NZ=1).\n",
      "Template   1: fsps_QSF_12_v3_002.dat (NZ=1).\n",
      "Template   2: fsps_QSF_12_v3_003.dat (NZ=1).\n",
      "Template   3: fsps_QSF_12_v3_004.dat (NZ=1).\n",
      "Template   4: fsps_QSF_12_v3_005.dat (NZ=1).\n",
      "Template   5: fsps_QSF_12_v3_006.dat (NZ=1).\n",
      "Template   6: fsps_QSF_12_v3_007.dat (NZ=1).\n",
      "Template   7: fsps_QSF_12_v3_008.dat (NZ=1).\n",
      "Template   8: fsps_QSF_12_v3_009.dat (NZ=1).\n",
      "Template   9: fsps_QSF_12_v3_010.dat (NZ=1).\n",
      "Template  10: fsps_QSF_12_v3_011.dat (NZ=1).\n",
      "Template  11: fsps_QSF_12_v3_012.dat (NZ=1).\n",
      "Template  12: binc100z001age6_cloudy.dat (NZ=1).\n",
      "Template  13: binc100z001age65_cloudy.dat (NZ=1).\n",
      "Template  14: binc100z001age7_cloudy.dat (NZ=1).\n",
      "Template  15: binc100z001age6.dat (NZ=1).\n",
      "Template  16: binc100z001age65.dat (NZ=1).\n",
      "Template  17: binc100z001age7.dat (NZ=1).\n",
      "Process templates: 10.859 s\n"
     ]
    },
    {
     "name": "stderr",
     "output_type": "stream",
     "text": [
      "304it [00:00, 16532.06it/s]"
     ]
    },
    {
     "name": "stdout",
     "output_type": "stream",
     "text": [
      "Saving tempfilt to /nvme/scratch/work/tharvey/EXPANSE/src/EXPANSE/eazy/tempfilt/\n"
     ]
    },
    {
     "name": "stderr",
     "output_type": "stream",
     "text": [
      "\n",
      "100%|██████████| 304/304 [00:00<00:00, 4296.54it/s]\n"
     ]
    },
    {
     "name": "stdout",
     "output_type": "stream",
     "text": [
      "Compute best fits\n",
      "fit_best: 0.0 s (n_proc=1,  NOBJ=1)\n",
      "Fit 0.4 s (n_proc=4, NOBJ=1)\n",
      "Setting meta, id_phot, 0\n",
      "Setting meta, z_best, 8.006568\n",
      "Setting meta, chi2, 17.006723873309763\n",
      "Setting meta, z16, 7.8453016\n",
      "Setting meta, z50, 8.002926\n",
      "Setting meta, z84, 8.157974\n",
      "Setting meta, flux_unit, uJy\n",
      "Setting meta, wave_unit, Angstrom\n",
      "Setting meta, templates_file, /nvme/scratch/work/tharvey/EAZY/inputs/scripts/templates/LarsonTemplates/tweak_fsps_QSF_12_v3_newtemplates.param\n",
      "Setting meta, z_min, 0.01\n",
      "Setting meta, z_max, 20.0\n",
      "Setting meta, z_step, 0.01\n",
      "Setting meta, region, MAG_APER_0.32 arcsec_fsps_larson_0.05__Asada24_cgm\n",
      " added to <HDF5 file \"JOF_psfmatched_15589.h5\" (mode r+)>, interactive_outputs/MAG_APER_0_32 arcsec_fsps_larson_0_05__Asada24_cgm/, eazy_fit\n",
      " added to <HDF5 file \"JOF_psfmatched_15589.h5\" (mode r+)>, interactive_outputs/MAG_APER_0_32 arcsec_fsps_larson_0_05__Asada24_cgm/, p_z\n",
      " added to <HDF5 file \"JOF_psfmatched_15589.h5\" (mode r+)>, interactive_outputs/MAG_APER_0_32 arcsec_fsps_larson_0_05__Asada24_cgm/, input_flux\n",
      " added to <HDF5 file \"JOF_psfmatched_15589.h5\" (mode r+)>, interactive_outputs/MAG_APER_0_32 arcsec_fsps_larson_0_05__Asada24_cgm/, input_flux_err\n",
      "Zeropoint: 23.9\n",
      "{'TEMPLATES_FILE': '/nvme/scratch/work/tharvey/EAZY/inputs/scripts/templates/LarsonTemplates/tweak_fsps_QSF_12_v3_newtemplates.param', 'FILTERS_RES': '/nvme/scratch/work/tharvey/EXPANSE/src/EXPANSE/eazy/jwst_nircam_FILTER.RES', 'MW_EBV': 0, 'CAT_HAS_EXTCORR': False, 'ADD_CGM': True, 'Z_STEP': 0.01, 'Z_MIN': 0.01, 'Z_MAX': 20.0, 'TEMP_ERR_FILE': '/nvme/scratch/work/tharvey/EXPANSE/src/EXPANSE/eazy/TEMPLATE_ERROR.eazy_v1.0', 'TEMP_ERR_A2': 0, 'SYS_ERR': 0, 'APPLY_PRIOR': 'n', 'PRIOR_ABZP': 23.9, 'PRIOR_FILTER': 28, 'PRIOR_FILE': '', 'FIX_ZSPEC': False, 'IGM_SCALE_TAU': 1.0, 'N_MIN_COLORS': 2, 'CATALOG_FILE': '/tmp/tmpwy15_a_3/eazy_input.fits'}\n",
      "Read default param file: /nvme/scratch/software/anaconda3/envs/tharvey_galfind/lib/python3.10/site-packages/eazy/data/zphot.param.default\n",
      "Read CATALOG_FILE: /tmp/tmpwy15_a_3/eazy_input.fits\n",
      "   >>> NOBJ = 1\n",
      "F22 E22 ( 22): hst/ACS_update_sep07/wfc_f435w_t81.dat\n",
      "F23 E23 ( 23): hst/ACS_update_sep07/wfc_f606w_t81.dat\n",
      "F49 E49 ( 49): hst/ACS_update_sep07/wfc_f775w_t81.dat\n",
      "F24 E24 ( 24): hst/ACS_update_sep07/wfc_f814w_t81.dat\n",
      "F50 E50 ( 50): hst/ACS_update_sep07/wfc_f850lp_t81.dat\n",
      "F1 E1 (  1): jwst_nircam_f090w\n",
      "F2 E2 (  2): jwst_nircam_f115w\n",
      "F3 E3 (  3): jwst_nircam_f150w\n",
      "F38 E38 ( 38): jwst_nircam_f162m\n",
      "F39 E39 ( 39): jwst_nircam_f182m\n",
      "F4 E4 (  4): jwst_nircam_f200w\n",
      "F40 E40 ( 40): jwst_nircam_f210m\n",
      "F41 E41 ( 41): jwst_nircam_f250m\n",
      "F5 E5 (  5): jwst_nircam_f277w\n",
      "F42 E42 ( 42): jwst_nircam_f300m\n",
      "F43 E43 ( 43): jwst_nircam_f335m\n",
      "F6 E6 (  6): jwst_nircam_f356w\n",
      "F7 E7 (  7): jwst_nircam_f410m\n",
      "F8 E8 (  8): jwst_nircam_f444w\n",
      "Set sys_err = 0.00 (positive=True)\n",
      "Template grid: /nvme/scratch/work/tharvey/EAZY/inputs/scripts/templates/LarsonTemplates/tweak_fsps_QSF_12_v3_newtemplates.param (this may take some time)\n"
     ]
    },
    {
     "name": "stderr",
     "output_type": "stream",
     "text": [
      "100%|██████████| 18/18 [00:11<00:00,  1.53it/s]\n"
     ]
    },
    {
     "name": "stdout",
     "output_type": "stream",
     "text": [
      "Template   0: fsps_QSF_12_v3_001.dat (NZ=1).\n",
      "Template   1: fsps_QSF_12_v3_002.dat (NZ=1).\n",
      "Template   2: fsps_QSF_12_v3_003.dat (NZ=1).\n",
      "Template   3: fsps_QSF_12_v3_004.dat (NZ=1).\n",
      "Template   4: fsps_QSF_12_v3_005.dat (NZ=1).\n",
      "Template   5: fsps_QSF_12_v3_006.dat (NZ=1).\n",
      "Template   6: fsps_QSF_12_v3_007.dat (NZ=1).\n",
      "Template   7: fsps_QSF_12_v3_008.dat (NZ=1).\n",
      "Template   8: fsps_QSF_12_v3_009.dat (NZ=1).\n",
      "Template   9: fsps_QSF_12_v3_010.dat (NZ=1).\n",
      "Template  10: fsps_QSF_12_v3_011.dat (NZ=1).\n",
      "Template  11: fsps_QSF_12_v3_012.dat (NZ=1).\n",
      "Template  12: binc100z001age6_cloudy.dat (NZ=1).\n",
      "Template  13: binc100z001age65_cloudy.dat (NZ=1).\n",
      "Template  14: binc100z001age7_cloudy.dat (NZ=1).\n",
      "Template  15: binc100z001age6.dat (NZ=1).\n",
      "Template  16: binc100z001age65.dat (NZ=1).\n",
      "Template  17: binc100z001age7.dat (NZ=1).\n",
      "Process templates: 12.202 s\n"
     ]
    },
    {
     "name": "stderr",
     "output_type": "stream",
     "text": [
      "304it [00:00, 27083.02it/s]"
     ]
    },
    {
     "name": "stdout",
     "output_type": "stream",
     "text": [
      "Saving tempfilt to /nvme/scratch/work/tharvey/EXPANSE/src/EXPANSE/eazy/tempfilt/\n"
     ]
    },
    {
     "name": "stderr",
     "output_type": "stream",
     "text": [
      "\n",
      "100%|██████████| 304/304 [00:00<00:00, 4688.63it/s]\n"
     ]
    },
    {
     "name": "stdout",
     "output_type": "stream",
     "text": [
      "Compute best fits\n",
      "fit_best: 0.0 s (n_proc=1,  NOBJ=1)\n",
      "Fit 0.4 s (n_proc=4, NOBJ=1)\n",
      "Setting meta, id_phot, 0\n",
      "Setting meta, z_best, 4.5479074\n",
      "Setting meta, chi2, 24.228033598193456\n",
      "Setting meta, z16, 4.4920826\n",
      "Setting meta, z50, 4.5488353\n",
      "Setting meta, z84, 4.60554\n",
      "Setting meta, flux_unit, uJy\n",
      "Setting meta, wave_unit, Angstrom\n",
      "Setting meta, templates_file, /nvme/scratch/work/tharvey/EAZY/inputs/scripts/templates/LarsonTemplates/tweak_fsps_QSF_12_v3_newtemplates.param\n",
      "Setting meta, z_min, 0.01\n",
      "Setting meta, z_max, 20.0\n",
      "Setting meta, z_step, 0.01\n",
      "Setting meta, region, MAG_APER_0.32 arcsec_fsps_larson_0.05__Asada24_cgm\n",
      " added to <HDF5 file \"JOF_psfmatched_16.h5\" (mode r+)>, interactive_outputs/MAG_APER_0_32 arcsec_fsps_larson_0_05__Asada24_cgm/, eazy_fit\n",
      " added to <HDF5 file \"JOF_psfmatched_16.h5\" (mode r+)>, interactive_outputs/MAG_APER_0_32 arcsec_fsps_larson_0_05__Asada24_cgm/, p_z\n",
      " added to <HDF5 file \"JOF_psfmatched_16.h5\" (mode r+)>, interactive_outputs/MAG_APER_0_32 arcsec_fsps_larson_0_05__Asada24_cgm/, input_flux\n",
      " added to <HDF5 file \"JOF_psfmatched_16.h5\" (mode r+)>, interactive_outputs/MAG_APER_0_32 arcsec_fsps_larson_0_05__Asada24_cgm/, input_flux_err\n",
      "Zeropoint: 23.9\n",
      "{'TEMPLATES_FILE': '/nvme/scratch/work/tharvey/EAZY/inputs/scripts/templates/LarsonTemplates/tweak_fsps_QSF_12_v3_newtemplates.param', 'FILTERS_RES': '/nvme/scratch/work/tharvey/EXPANSE/src/EXPANSE/eazy/jwst_nircam_FILTER.RES', 'MW_EBV': 0, 'CAT_HAS_EXTCORR': False, 'ADD_CGM': True, 'Z_STEP': 0.01, 'Z_MIN': 0.01, 'Z_MAX': 20.0, 'TEMP_ERR_FILE': '/nvme/scratch/work/tharvey/EXPANSE/src/EXPANSE/eazy/TEMPLATE_ERROR.eazy_v1.0', 'TEMP_ERR_A2': 0, 'SYS_ERR': 0, 'APPLY_PRIOR': 'n', 'PRIOR_ABZP': 23.9, 'PRIOR_FILTER': 28, 'PRIOR_FILE': '', 'FIX_ZSPEC': False, 'IGM_SCALE_TAU': 1.0, 'N_MIN_COLORS': 2, 'CATALOG_FILE': '/tmp/tmplo7t_njk/eazy_input.fits'}\n",
      "Read default param file: /nvme/scratch/software/anaconda3/envs/tharvey_galfind/lib/python3.10/site-packages/eazy/data/zphot.param.default\n",
      "Read CATALOG_FILE: /tmp/tmplo7t_njk/eazy_input.fits\n",
      "   >>> NOBJ = 1\n",
      "F1 E1 (  1): jwst_nircam_f090w\n",
      "F2 E2 (  2): jwst_nircam_f115w\n",
      "F3 E3 (  3): jwst_nircam_f150w\n",
      "F38 E38 ( 38): jwst_nircam_f162m\n",
      "F39 E39 ( 39): jwst_nircam_f182m\n",
      "F4 E4 (  4): jwst_nircam_f200w\n",
      "F40 E40 ( 40): jwst_nircam_f210m\n",
      "F41 E41 ( 41): jwst_nircam_f250m\n",
      "F5 E5 (  5): jwst_nircam_f277w\n",
      "F42 E42 ( 42): jwst_nircam_f300m\n",
      "F43 E43 ( 43): jwst_nircam_f335m\n",
      "F6 E6 (  6): jwst_nircam_f356w\n",
      "F7 E7 (  7): jwst_nircam_f410m\n",
      "F8 E8 (  8): jwst_nircam_f444w\n",
      "Set sys_err = 0.00 (positive=True)\n",
      "Template grid: /nvme/scratch/work/tharvey/EAZY/inputs/scripts/templates/LarsonTemplates/tweak_fsps_QSF_12_v3_newtemplates.param (this may take some time)\n"
     ]
    },
    {
     "name": "stderr",
     "output_type": "stream",
     "text": [
      "100%|██████████| 18/18 [00:10<00:00,  1.66it/s]\n"
     ]
    },
    {
     "name": "stdout",
     "output_type": "stream",
     "text": [
      "Template   0: fsps_QSF_12_v3_001.dat (NZ=1).\n",
      "Template   1: fsps_QSF_12_v3_002.dat (NZ=1).\n",
      "Template   2: fsps_QSF_12_v3_003.dat (NZ=1).\n",
      "Template   3: fsps_QSF_12_v3_004.dat (NZ=1).\n",
      "Template   4: fsps_QSF_12_v3_005.dat (NZ=1).\n",
      "Template   5: fsps_QSF_12_v3_006.dat (NZ=1).\n",
      "Template   6: fsps_QSF_12_v3_007.dat (NZ=1).\n",
      "Template   7: fsps_QSF_12_v3_008.dat (NZ=1).\n",
      "Template   8: fsps_QSF_12_v3_009.dat (NZ=1).\n",
      "Template   9: fsps_QSF_12_v3_010.dat (NZ=1).\n",
      "Template  10: fsps_QSF_12_v3_011.dat (NZ=1).\n",
      "Template  11: fsps_QSF_12_v3_012.dat (NZ=1).\n",
      "Template  12: binc100z001age6_cloudy.dat (NZ=1).\n",
      "Template  13: binc100z001age65_cloudy.dat (NZ=1).\n",
      "Template  14: binc100z001age7_cloudy.dat (NZ=1).\n",
      "Template  15: binc100z001age6.dat (NZ=1).\n",
      "Template  16: binc100z001age65.dat (NZ=1).\n",
      "Template  17: binc100z001age7.dat (NZ=1).\n",
      "Process templates: 11.329 s\n"
     ]
    },
    {
     "name": "stderr",
     "output_type": "stream",
     "text": [
      "304it [00:00, 27235.74it/s]"
     ]
    },
    {
     "name": "stdout",
     "output_type": "stream",
     "text": [
      "Saving tempfilt to /nvme/scratch/work/tharvey/EXPANSE/src/EXPANSE/eazy/tempfilt/\n"
     ]
    },
    {
     "name": "stderr",
     "output_type": "stream",
     "text": [
      "\n",
      "100%|██████████| 304/304 [00:00<00:00, 4529.70it/s]\n"
     ]
    },
    {
     "name": "stdout",
     "output_type": "stream",
     "text": [
      "Compute best fits\n",
      "fit_best: 0.0 s (n_proc=1,  NOBJ=1)\n",
      "Fit 0.4 s (n_proc=4, NOBJ=1)\n",
      "Setting meta, id_phot, 0\n",
      "Setting meta, z_best, 8.32063\n",
      "Setting meta, chi2, 16.824149241481773\n",
      "Setting meta, z16, 7.968128\n",
      "Setting meta, z50, 8.246163\n",
      "Setting meta, z84, 8.483125\n",
      "Setting meta, flux_unit, uJy\n",
      "Setting meta, wave_unit, Angstrom\n",
      "Setting meta, templates_file, /nvme/scratch/work/tharvey/EAZY/inputs/scripts/templates/LarsonTemplates/tweak_fsps_QSF_12_v3_newtemplates.param\n",
      "Setting meta, z_min, 0.01\n",
      "Setting meta, z_max, 20.0\n",
      "Setting meta, z_step, 0.01\n",
      "Setting meta, region, MAG_APER_0.32 arcsec_fsps_larson_0.05__Asada24_cgm\n",
      " added to <HDF5 file \"JOF_psfmatched_16028.h5\" (mode r+)>, interactive_outputs/MAG_APER_0_32 arcsec_fsps_larson_0_05__Asada24_cgm/, eazy_fit\n",
      " added to <HDF5 file \"JOF_psfmatched_16028.h5\" (mode r+)>, interactive_outputs/MAG_APER_0_32 arcsec_fsps_larson_0_05__Asada24_cgm/, p_z\n",
      " added to <HDF5 file \"JOF_psfmatched_16028.h5\" (mode r+)>, interactive_outputs/MAG_APER_0_32 arcsec_fsps_larson_0_05__Asada24_cgm/, input_flux\n",
      " added to <HDF5 file \"JOF_psfmatched_16028.h5\" (mode r+)>, interactive_outputs/MAG_APER_0_32 arcsec_fsps_larson_0_05__Asada24_cgm/, input_flux_err\n",
      "Zeropoint: 23.9\n",
      "{'TEMPLATES_FILE': '/nvme/scratch/work/tharvey/EAZY/inputs/scripts/templates/LarsonTemplates/tweak_fsps_QSF_12_v3_newtemplates.param', 'FILTERS_RES': '/nvme/scratch/work/tharvey/EXPANSE/src/EXPANSE/eazy/jwst_nircam_FILTER.RES', 'MW_EBV': 0, 'CAT_HAS_EXTCORR': False, 'ADD_CGM': True, 'Z_STEP': 0.01, 'Z_MIN': 0.01, 'Z_MAX': 20.0, 'TEMP_ERR_FILE': '/nvme/scratch/work/tharvey/EXPANSE/src/EXPANSE/eazy/TEMPLATE_ERROR.eazy_v1.0', 'TEMP_ERR_A2': 0, 'SYS_ERR': 0, 'APPLY_PRIOR': 'n', 'PRIOR_ABZP': 23.9, 'PRIOR_FILTER': 28, 'PRIOR_FILE': '', 'FIX_ZSPEC': False, 'IGM_SCALE_TAU': 1.0, 'N_MIN_COLORS': 2, 'CATALOG_FILE': '/tmp/tmp0jp1pk22/eazy_input.fits'}\n",
      "Read default param file: /nvme/scratch/software/anaconda3/envs/tharvey_galfind/lib/python3.10/site-packages/eazy/data/zphot.param.default\n",
      "Read CATALOG_FILE: /tmp/tmp0jp1pk22/eazy_input.fits\n",
      "   >>> NOBJ = 1\n",
      "F22 E22 ( 22): hst/ACS_update_sep07/wfc_f435w_t81.dat\n",
      "F23 E23 ( 23): hst/ACS_update_sep07/wfc_f606w_t81.dat\n",
      "F49 E49 ( 49): hst/ACS_update_sep07/wfc_f775w_t81.dat\n",
      "F24 E24 ( 24): hst/ACS_update_sep07/wfc_f814w_t81.dat\n",
      "F50 E50 ( 50): hst/ACS_update_sep07/wfc_f850lp_t81.dat\n",
      "F1 E1 (  1): jwst_nircam_f090w\n",
      "F2 E2 (  2): jwst_nircam_f115w\n",
      "F3 E3 (  3): jwst_nircam_f150w\n",
      "F38 E38 ( 38): jwst_nircam_f162m\n",
      "F39 E39 ( 39): jwst_nircam_f182m\n",
      "F4 E4 (  4): jwst_nircam_f200w\n",
      "F40 E40 ( 40): jwst_nircam_f210m\n",
      "F41 E41 ( 41): jwst_nircam_f250m\n",
      "F5 E5 (  5): jwst_nircam_f277w\n",
      "F42 E42 ( 42): jwst_nircam_f300m\n",
      "F43 E43 ( 43): jwst_nircam_f335m\n",
      "F6 E6 (  6): jwst_nircam_f356w\n",
      "F7 E7 (  7): jwst_nircam_f410m\n",
      "F8 E8 (  8): jwst_nircam_f444w\n",
      "Set sys_err = 0.00 (positive=True)\n",
      "Template grid: /nvme/scratch/work/tharvey/EAZY/inputs/scripts/templates/LarsonTemplates/tweak_fsps_QSF_12_v3_newtemplates.param (this may take some time)\n"
     ]
    },
    {
     "name": "stderr",
     "output_type": "stream",
     "text": [
      "100%|██████████| 18/18 [00:12<00:00,  1.49it/s]\n"
     ]
    },
    {
     "name": "stdout",
     "output_type": "stream",
     "text": [
      "Template   0: fsps_QSF_12_v3_001.dat (NZ=1).\n",
      "Template   1: fsps_QSF_12_v3_002.dat (NZ=1).\n",
      "Template   2: fsps_QSF_12_v3_003.dat (NZ=1).\n",
      "Template   3: fsps_QSF_12_v3_004.dat (NZ=1).\n",
      "Template   4: fsps_QSF_12_v3_005.dat (NZ=1).\n",
      "Template   5: fsps_QSF_12_v3_006.dat (NZ=1).\n",
      "Template   6: fsps_QSF_12_v3_007.dat (NZ=1).\n",
      "Template   7: fsps_QSF_12_v3_008.dat (NZ=1).\n",
      "Template   8: fsps_QSF_12_v3_009.dat (NZ=1).\n",
      "Template   9: fsps_QSF_12_v3_010.dat (NZ=1).\n",
      "Template  10: fsps_QSF_12_v3_011.dat (NZ=1).\n",
      "Template  11: fsps_QSF_12_v3_012.dat (NZ=1).\n",
      "Template  12: binc100z001age6_cloudy.dat (NZ=1).\n",
      "Template  13: binc100z001age65_cloudy.dat (NZ=1).\n",
      "Template  14: binc100z001age7_cloudy.dat (NZ=1).\n",
      "Template  15: binc100z001age6.dat (NZ=1).\n",
      "Template  16: binc100z001age65.dat (NZ=1).\n",
      "Template  17: binc100z001age7.dat (NZ=1).\n",
      "Process templates: 12.565 s\n"
     ]
    },
    {
     "name": "stderr",
     "output_type": "stream",
     "text": [
      "304it [00:00, 26370.00it/s]"
     ]
    },
    {
     "name": "stdout",
     "output_type": "stream",
     "text": [
      "Saving tempfilt to /nvme/scratch/work/tharvey/EXPANSE/src/EXPANSE/eazy/tempfilt/\n"
     ]
    },
    {
     "name": "stderr",
     "output_type": "stream",
     "text": [
      "\n",
      "100%|██████████| 304/304 [00:00<00:00, 4860.00it/s]\n"
     ]
    },
    {
     "name": "stdout",
     "output_type": "stream",
     "text": [
      "Compute best fits\n",
      "fit_best: 0.0 s (n_proc=1,  NOBJ=1)\n",
      "Fit 0.4 s (n_proc=4, NOBJ=1)\n",
      "Setting meta, id_phot, 0\n",
      "Setting meta, z_best, 4.5870624\n",
      "Setting meta, chi2, 51.97887160836806\n",
      "Setting meta, z16, 4.563155\n",
      "Setting meta, z50, 4.587089\n",
      "Setting meta, z84, 4.6110215\n",
      "Setting meta, flux_unit, uJy\n",
      "Setting meta, wave_unit, Angstrom\n",
      "Setting meta, templates_file, /nvme/scratch/work/tharvey/EAZY/inputs/scripts/templates/LarsonTemplates/tweak_fsps_QSF_12_v3_newtemplates.param\n",
      "Setting meta, z_min, 0.01\n",
      "Setting meta, z_max, 20.0\n",
      "Setting meta, z_step, 0.01\n",
      "Setting meta, region, MAG_APER_0.32 arcsec_fsps_larson_0.05__Asada24_cgm\n",
      " added to <HDF5 file \"JOF_psfmatched_1623.h5\" (mode r+)>, interactive_outputs/MAG_APER_0_32 arcsec_fsps_larson_0_05__Asada24_cgm/, eazy_fit\n",
      " added to <HDF5 file \"JOF_psfmatched_1623.h5\" (mode r+)>, interactive_outputs/MAG_APER_0_32 arcsec_fsps_larson_0_05__Asada24_cgm/, p_z\n",
      " added to <HDF5 file \"JOF_psfmatched_1623.h5\" (mode r+)>, interactive_outputs/MAG_APER_0_32 arcsec_fsps_larson_0_05__Asada24_cgm/, input_flux\n",
      " added to <HDF5 file \"JOF_psfmatched_1623.h5\" (mode r+)>, interactive_outputs/MAG_APER_0_32 arcsec_fsps_larson_0_05__Asada24_cgm/, input_flux_err\n",
      "Zeropoint: 23.9\n",
      "{'TEMPLATES_FILE': '/nvme/scratch/work/tharvey/EAZY/inputs/scripts/templates/LarsonTemplates/tweak_fsps_QSF_12_v3_newtemplates.param', 'FILTERS_RES': '/nvme/scratch/work/tharvey/EXPANSE/src/EXPANSE/eazy/jwst_nircam_FILTER.RES', 'MW_EBV': 0, 'CAT_HAS_EXTCORR': False, 'ADD_CGM': True, 'Z_STEP': 0.01, 'Z_MIN': 0.01, 'Z_MAX': 20.0, 'TEMP_ERR_FILE': '/nvme/scratch/work/tharvey/EXPANSE/src/EXPANSE/eazy/TEMPLATE_ERROR.eazy_v1.0', 'TEMP_ERR_A2': 0, 'SYS_ERR': 0, 'APPLY_PRIOR': 'n', 'PRIOR_ABZP': 23.9, 'PRIOR_FILTER': 28, 'PRIOR_FILE': '', 'FIX_ZSPEC': False, 'IGM_SCALE_TAU': 1.0, 'N_MIN_COLORS': 2, 'CATALOG_FILE': '/tmp/tmprbpq2df1/eazy_input.fits'}\n",
      "Read default param file: /nvme/scratch/software/anaconda3/envs/tharvey_galfind/lib/python3.10/site-packages/eazy/data/zphot.param.default\n",
      "Read CATALOG_FILE: /tmp/tmprbpq2df1/eazy_input.fits\n",
      "   >>> NOBJ = 1\n",
      "F22 E22 ( 22): hst/ACS_update_sep07/wfc_f435w_t81.dat\n",
      "F23 E23 ( 23): hst/ACS_update_sep07/wfc_f606w_t81.dat\n",
      "F49 E49 ( 49): hst/ACS_update_sep07/wfc_f775w_t81.dat\n",
      "F24 E24 ( 24): hst/ACS_update_sep07/wfc_f814w_t81.dat\n",
      "F50 E50 ( 50): hst/ACS_update_sep07/wfc_f850lp_t81.dat\n",
      "F1 E1 (  1): jwst_nircam_f090w\n",
      "F2 E2 (  2): jwst_nircam_f115w\n",
      "F3 E3 (  3): jwst_nircam_f150w\n",
      "F38 E38 ( 38): jwst_nircam_f162m\n",
      "F39 E39 ( 39): jwst_nircam_f182m\n",
      "F4 E4 (  4): jwst_nircam_f200w\n",
      "F40 E40 ( 40): jwst_nircam_f210m\n",
      "F41 E41 ( 41): jwst_nircam_f250m\n",
      "F5 E5 (  5): jwst_nircam_f277w\n",
      "F42 E42 ( 42): jwst_nircam_f300m\n",
      "F43 E43 ( 43): jwst_nircam_f335m\n",
      "F6 E6 (  6): jwst_nircam_f356w\n",
      "F7 E7 (  7): jwst_nircam_f410m\n",
      "F8 E8 (  8): jwst_nircam_f444w\n",
      "Set sys_err = 0.00 (positive=True)\n",
      "Template grid: /nvme/scratch/work/tharvey/EAZY/inputs/scripts/templates/LarsonTemplates/tweak_fsps_QSF_12_v3_newtemplates.param (this may take some time)\n"
     ]
    },
    {
     "name": "stderr",
     "output_type": "stream",
     "text": [
      "100%|██████████| 18/18 [00:12<00:00,  1.47it/s]\n"
     ]
    },
    {
     "name": "stdout",
     "output_type": "stream",
     "text": [
      "Template   0: fsps_QSF_12_v3_001.dat (NZ=1).\n",
      "Template   1: fsps_QSF_12_v3_002.dat (NZ=1).\n",
      "Template   2: fsps_QSF_12_v3_003.dat (NZ=1).\n",
      "Template   3: fsps_QSF_12_v3_004.dat (NZ=1).\n",
      "Template   4: fsps_QSF_12_v3_005.dat (NZ=1).\n",
      "Template   5: fsps_QSF_12_v3_006.dat (NZ=1).\n",
      "Template   6: fsps_QSF_12_v3_007.dat (NZ=1).\n",
      "Template   7: fsps_QSF_12_v3_008.dat (NZ=1).\n",
      "Template   8: fsps_QSF_12_v3_009.dat (NZ=1).\n",
      "Template   9: fsps_QSF_12_v3_010.dat (NZ=1).\n",
      "Template  10: fsps_QSF_12_v3_011.dat (NZ=1).\n",
      "Template  11: fsps_QSF_12_v3_012.dat (NZ=1).\n",
      "Template  12: binc100z001age6_cloudy.dat (NZ=1).\n",
      "Template  13: binc100z001age65_cloudy.dat (NZ=1).\n",
      "Template  14: binc100z001age7_cloudy.dat (NZ=1).\n",
      "Template  15: binc100z001age6.dat (NZ=1).\n",
      "Template  16: binc100z001age65.dat (NZ=1).\n",
      "Template  17: binc100z001age7.dat (NZ=1).\n",
      "Process templates: 12.680 s\n"
     ]
    },
    {
     "name": "stderr",
     "output_type": "stream",
     "text": [
      "304it [00:00, 22648.56it/s]"
     ]
    },
    {
     "name": "stdout",
     "output_type": "stream",
     "text": [
      "Saving tempfilt to /nvme/scratch/work/tharvey/EXPANSE/src/EXPANSE/eazy/tempfilt/\n"
     ]
    },
    {
     "name": "stderr",
     "output_type": "stream",
     "text": [
      "\n",
      "100%|██████████| 304/304 [00:00<00:00, 6276.24it/s]\n"
     ]
    },
    {
     "name": "stdout",
     "output_type": "stream",
     "text": [
      "Compute best fits\n",
      "fit_best: 0.0 s (n_proc=1,  NOBJ=1)\n",
      "Fit 0.4 s (n_proc=4, NOBJ=1)\n",
      "Setting meta, id_phot, 0\n",
      "Setting meta, z_best, 8.403584\n",
      "Setting meta, chi2, 5.3131639614985\n",
      "Setting meta, z16, 8.254739\n",
      "Setting meta, z50, 8.389681\n",
      "Setting meta, z84, 8.506209\n",
      "Setting meta, flux_unit, uJy\n",
      "Setting meta, wave_unit, Angstrom\n",
      "Setting meta, templates_file, /nvme/scratch/work/tharvey/EAZY/inputs/scripts/templates/LarsonTemplates/tweak_fsps_QSF_12_v3_newtemplates.param\n",
      "Setting meta, z_min, 0.01\n",
      "Setting meta, z_max, 20.0\n",
      "Setting meta, z_step, 0.01\n",
      "Setting meta, region, MAG_APER_0.32 arcsec_fsps_larson_0.05__Asada24_cgm\n",
      " added to <HDF5 file \"JOF_psfmatched_1685.h5\" (mode r+)>, interactive_outputs/MAG_APER_0_32 arcsec_fsps_larson_0_05__Asada24_cgm/, eazy_fit\n",
      " added to <HDF5 file \"JOF_psfmatched_1685.h5\" (mode r+)>, interactive_outputs/MAG_APER_0_32 arcsec_fsps_larson_0_05__Asada24_cgm/, p_z\n",
      " added to <HDF5 file \"JOF_psfmatched_1685.h5\" (mode r+)>, interactive_outputs/MAG_APER_0_32 arcsec_fsps_larson_0_05__Asada24_cgm/, input_flux\n",
      " added to <HDF5 file \"JOF_psfmatched_1685.h5\" (mode r+)>, interactive_outputs/MAG_APER_0_32 arcsec_fsps_larson_0_05__Asada24_cgm/, input_flux_err\n",
      "Zeropoint: 23.9\n",
      "{'TEMPLATES_FILE': '/nvme/scratch/work/tharvey/EAZY/inputs/scripts/templates/LarsonTemplates/tweak_fsps_QSF_12_v3_newtemplates.param', 'FILTERS_RES': '/nvme/scratch/work/tharvey/EXPANSE/src/EXPANSE/eazy/jwst_nircam_FILTER.RES', 'MW_EBV': 0, 'CAT_HAS_EXTCORR': False, 'ADD_CGM': True, 'Z_STEP': 0.01, 'Z_MIN': 0.01, 'Z_MAX': 20.0, 'TEMP_ERR_FILE': '/nvme/scratch/work/tharvey/EXPANSE/src/EXPANSE/eazy/TEMPLATE_ERROR.eazy_v1.0', 'TEMP_ERR_A2': 0, 'SYS_ERR': 0, 'APPLY_PRIOR': 'n', 'PRIOR_ABZP': 23.9, 'PRIOR_FILTER': 28, 'PRIOR_FILE': '', 'FIX_ZSPEC': False, 'IGM_SCALE_TAU': 1.0, 'N_MIN_COLORS': 2, 'CATALOG_FILE': '/tmp/tmpl33ika4o/eazy_input.fits'}\n",
      "Read default param file: /nvme/scratch/software/anaconda3/envs/tharvey_galfind/lib/python3.10/site-packages/eazy/data/zphot.param.default\n",
      "Read CATALOG_FILE: /tmp/tmpl33ika4o/eazy_input.fits\n",
      "   >>> NOBJ = 1\n",
      "F22 E22 ( 22): hst/ACS_update_sep07/wfc_f435w_t81.dat\n",
      "F23 E23 ( 23): hst/ACS_update_sep07/wfc_f606w_t81.dat\n",
      "F49 E49 ( 49): hst/ACS_update_sep07/wfc_f775w_t81.dat\n",
      "F24 E24 ( 24): hst/ACS_update_sep07/wfc_f814w_t81.dat\n",
      "F50 E50 ( 50): hst/ACS_update_sep07/wfc_f850lp_t81.dat\n",
      "F1 E1 (  1): jwst_nircam_f090w\n",
      "F2 E2 (  2): jwst_nircam_f115w\n",
      "F3 E3 (  3): jwst_nircam_f150w\n",
      "F38 E38 ( 38): jwst_nircam_f162m\n",
      "F39 E39 ( 39): jwst_nircam_f182m\n",
      "F4 E4 (  4): jwst_nircam_f200w\n",
      "F40 E40 ( 40): jwst_nircam_f210m\n",
      "F41 E41 ( 41): jwst_nircam_f250m\n",
      "F5 E5 (  5): jwst_nircam_f277w\n",
      "F42 E42 ( 42): jwst_nircam_f300m\n",
      "F43 E43 ( 43): jwst_nircam_f335m\n",
      "F6 E6 (  6): jwst_nircam_f356w\n",
      "F7 E7 (  7): jwst_nircam_f410m\n",
      "F8 E8 (  8): jwst_nircam_f444w\n",
      "Set sys_err = 0.00 (positive=True)\n",
      "Template grid: /nvme/scratch/work/tharvey/EAZY/inputs/scripts/templates/LarsonTemplates/tweak_fsps_QSF_12_v3_newtemplates.param (this may take some time)\n"
     ]
    },
    {
     "name": "stderr",
     "output_type": "stream",
     "text": [
      "100%|██████████| 18/18 [00:11<00:00,  1.52it/s]\n"
     ]
    },
    {
     "name": "stdout",
     "output_type": "stream",
     "text": [
      "Template   0: fsps_QSF_12_v3_001.dat (NZ=1).\n",
      "Template   1: fsps_QSF_12_v3_002.dat (NZ=1).\n",
      "Template   2: fsps_QSF_12_v3_003.dat (NZ=1).\n",
      "Template   3: fsps_QSF_12_v3_004.dat (NZ=1).\n",
      "Template   4: fsps_QSF_12_v3_005.dat (NZ=1).\n",
      "Template   5: fsps_QSF_12_v3_006.dat (NZ=1).\n",
      "Template   6: fsps_QSF_12_v3_007.dat (NZ=1).\n",
      "Template   7: fsps_QSF_12_v3_008.dat (NZ=1).\n",
      "Template   8: fsps_QSF_12_v3_009.dat (NZ=1).\n",
      "Template   9: fsps_QSF_12_v3_010.dat (NZ=1).\n",
      "Template  10: fsps_QSF_12_v3_011.dat (NZ=1).\n",
      "Template  11: fsps_QSF_12_v3_012.dat (NZ=1).\n",
      "Template  12: binc100z001age6_cloudy.dat (NZ=1).\n",
      "Template  13: binc100z001age65_cloudy.dat (NZ=1).\n",
      "Template  14: binc100z001age7_cloudy.dat (NZ=1).\n",
      "Template  15: binc100z001age6.dat (NZ=1).\n",
      "Template  16: binc100z001age65.dat (NZ=1).\n",
      "Template  17: binc100z001age7.dat (NZ=1).\n",
      "Process templates: 12.257 s\n"
     ]
    },
    {
     "name": "stderr",
     "output_type": "stream",
     "text": [
      "304it [00:00, 19396.22it/s]"
     ]
    },
    {
     "name": "stdout",
     "output_type": "stream",
     "text": [
      "Saving tempfilt to /nvme/scratch/work/tharvey/EXPANSE/src/EXPANSE/eazy/tempfilt/\n"
     ]
    },
    {
     "name": "stderr",
     "output_type": "stream",
     "text": [
      "\n",
      "100%|██████████| 304/304 [00:00<00:00, 5102.25it/s]\n"
     ]
    },
    {
     "name": "stdout",
     "output_type": "stream",
     "text": [
      "Compute best fits\n",
      "fit_best: 0.0 s (n_proc=1,  NOBJ=1)\n",
      "Fit 0.4 s (n_proc=4, NOBJ=1)\n",
      "Setting meta, id_phot, 0\n",
      "Setting meta, z_best, 7.830814\n",
      "Setting meta, chi2, 33.11113478567091\n",
      "Setting meta, z16, 7.7152476\n",
      "Setting meta, z50, 7.897767\n",
      "Setting meta, z84, 8.1206045\n",
      "Setting meta, flux_unit, uJy\n",
      "Setting meta, wave_unit, Angstrom\n",
      "Setting meta, templates_file, /nvme/scratch/work/tharvey/EAZY/inputs/scripts/templates/LarsonTemplates/tweak_fsps_QSF_12_v3_newtemplates.param\n",
      "Setting meta, z_min, 0.01\n",
      "Setting meta, z_max, 20.0\n",
      "Setting meta, z_step, 0.01\n",
      "Setting meta, region, MAG_APER_0.32 arcsec_fsps_larson_0.05__Asada24_cgm\n",
      " added to <HDF5 file \"JOF_psfmatched_1694.h5\" (mode r+)>, interactive_outputs/MAG_APER_0_32 arcsec_fsps_larson_0_05__Asada24_cgm/, eazy_fit\n",
      " added to <HDF5 file \"JOF_psfmatched_1694.h5\" (mode r+)>, interactive_outputs/MAG_APER_0_32 arcsec_fsps_larson_0_05__Asada24_cgm/, p_z\n",
      " added to <HDF5 file \"JOF_psfmatched_1694.h5\" (mode r+)>, interactive_outputs/MAG_APER_0_32 arcsec_fsps_larson_0_05__Asada24_cgm/, input_flux\n",
      " added to <HDF5 file \"JOF_psfmatched_1694.h5\" (mode r+)>, interactive_outputs/MAG_APER_0_32 arcsec_fsps_larson_0_05__Asada24_cgm/, input_flux_err\n",
      "Zeropoint: 23.9\n",
      "{'TEMPLATES_FILE': '/nvme/scratch/work/tharvey/EAZY/inputs/scripts/templates/LarsonTemplates/tweak_fsps_QSF_12_v3_newtemplates.param', 'FILTERS_RES': '/nvme/scratch/work/tharvey/EXPANSE/src/EXPANSE/eazy/jwst_nircam_FILTER.RES', 'MW_EBV': 0, 'CAT_HAS_EXTCORR': False, 'ADD_CGM': True, 'Z_STEP': 0.01, 'Z_MIN': 0.01, 'Z_MAX': 20.0, 'TEMP_ERR_FILE': '/nvme/scratch/work/tharvey/EXPANSE/src/EXPANSE/eazy/TEMPLATE_ERROR.eazy_v1.0', 'TEMP_ERR_A2': 0, 'SYS_ERR': 0, 'APPLY_PRIOR': 'n', 'PRIOR_ABZP': 23.9, 'PRIOR_FILTER': 28, 'PRIOR_FILE': '', 'FIX_ZSPEC': False, 'IGM_SCALE_TAU': 1.0, 'N_MIN_COLORS': 2, 'CATALOG_FILE': '/tmp/tmpgyt1iwi5/eazy_input.fits'}\n",
      "Read default param file: /nvme/scratch/software/anaconda3/envs/tharvey_galfind/lib/python3.10/site-packages/eazy/data/zphot.param.default\n",
      "Read CATALOG_FILE: /tmp/tmpgyt1iwi5/eazy_input.fits\n",
      "   >>> NOBJ = 1\n",
      "F22 E22 ( 22): hst/ACS_update_sep07/wfc_f435w_t81.dat\n",
      "F23 E23 ( 23): hst/ACS_update_sep07/wfc_f606w_t81.dat\n",
      "F49 E49 ( 49): hst/ACS_update_sep07/wfc_f775w_t81.dat\n",
      "F24 E24 ( 24): hst/ACS_update_sep07/wfc_f814w_t81.dat\n",
      "F50 E50 ( 50): hst/ACS_update_sep07/wfc_f850lp_t81.dat\n",
      "F1 E1 (  1): jwst_nircam_f090w\n",
      "F2 E2 (  2): jwst_nircam_f115w\n",
      "F3 E3 (  3): jwst_nircam_f150w\n",
      "F38 E38 ( 38): jwst_nircam_f162m\n",
      "F39 E39 ( 39): jwst_nircam_f182m\n",
      "F4 E4 (  4): jwst_nircam_f200w\n",
      "F40 E40 ( 40): jwst_nircam_f210m\n",
      "F41 E41 ( 41): jwst_nircam_f250m\n",
      "F5 E5 (  5): jwst_nircam_f277w\n",
      "F42 E42 ( 42): jwst_nircam_f300m\n",
      "F43 E43 ( 43): jwst_nircam_f335m\n",
      "F6 E6 (  6): jwst_nircam_f356w\n",
      "F7 E7 (  7): jwst_nircam_f410m\n",
      "F8 E8 (  8): jwst_nircam_f444w\n",
      "Set sys_err = 0.00 (positive=True)\n",
      "Template grid: /nvme/scratch/work/tharvey/EAZY/inputs/scripts/templates/LarsonTemplates/tweak_fsps_QSF_12_v3_newtemplates.param (this may take some time)\n"
     ]
    },
    {
     "name": "stderr",
     "output_type": "stream",
     "text": [
      "100%|██████████| 18/18 [00:11<00:00,  1.51it/s]\n"
     ]
    },
    {
     "name": "stdout",
     "output_type": "stream",
     "text": [
      "Template   0: fsps_QSF_12_v3_001.dat (NZ=1).\n",
      "Template   1: fsps_QSF_12_v3_002.dat (NZ=1).\n",
      "Template   2: fsps_QSF_12_v3_003.dat (NZ=1).\n",
      "Template   3: fsps_QSF_12_v3_004.dat (NZ=1).\n",
      "Template   4: fsps_QSF_12_v3_005.dat (NZ=1).\n",
      "Template   5: fsps_QSF_12_v3_006.dat (NZ=1).\n",
      "Template   6: fsps_QSF_12_v3_007.dat (NZ=1).\n",
      "Template   7: fsps_QSF_12_v3_008.dat (NZ=1).\n",
      "Template   8: fsps_QSF_12_v3_009.dat (NZ=1).\n",
      "Template   9: fsps_QSF_12_v3_010.dat (NZ=1).\n",
      "Template  10: fsps_QSF_12_v3_011.dat (NZ=1).\n",
      "Template  11: fsps_QSF_12_v3_012.dat (NZ=1).\n",
      "Template  12: binc100z001age6_cloudy.dat (NZ=1).\n",
      "Template  13: binc100z001age65_cloudy.dat (NZ=1).\n",
      "Template  14: binc100z001age7_cloudy.dat (NZ=1).\n",
      "Template  15: binc100z001age6.dat (NZ=1).\n",
      "Template  16: binc100z001age65.dat (NZ=1).\n",
      "Template  17: binc100z001age7.dat (NZ=1).\n",
      "Process templates: 12.346 s\n"
     ]
    },
    {
     "name": "stderr",
     "output_type": "stream",
     "text": [
      "304it [00:00, 25826.26it/s]"
     ]
    },
    {
     "name": "stdout",
     "output_type": "stream",
     "text": [
      "Saving tempfilt to /nvme/scratch/work/tharvey/EXPANSE/src/EXPANSE/eazy/tempfilt/\n"
     ]
    },
    {
     "name": "stderr",
     "output_type": "stream",
     "text": [
      "\n",
      "100%|██████████| 304/304 [00:00<00:00, 4878.16it/s]\n"
     ]
    },
    {
     "name": "stdout",
     "output_type": "stream",
     "text": [
      "Compute best fits\n",
      "fit_best: 0.0 s (n_proc=1,  NOBJ=1)\n",
      "Fit 0.4 s (n_proc=4, NOBJ=1)\n",
      "Setting meta, id_phot, 0\n",
      "Setting meta, z_best, 5.979604\n",
      "Setting meta, chi2, 24.68284744640544\n",
      "Setting meta, z16, 5.872243\n",
      "Setting meta, z50, 5.963923\n",
      "Setting meta, z84, 6.0228477\n",
      "Setting meta, flux_unit, uJy\n",
      "Setting meta, wave_unit, Angstrom\n",
      "Setting meta, templates_file, /nvme/scratch/work/tharvey/EAZY/inputs/scripts/templates/LarsonTemplates/tweak_fsps_QSF_12_v3_newtemplates.param\n",
      "Setting meta, z_min, 0.01\n",
      "Setting meta, z_max, 20.0\n",
      "Setting meta, z_step, 0.01\n",
      "Setting meta, region, MAG_APER_0.32 arcsec_fsps_larson_0.05__Asada24_cgm\n",
      " added to <HDF5 file \"JOF_psfmatched_1723.h5\" (mode r+)>, interactive_outputs/MAG_APER_0_32 arcsec_fsps_larson_0_05__Asada24_cgm/, eazy_fit\n",
      " added to <HDF5 file \"JOF_psfmatched_1723.h5\" (mode r+)>, interactive_outputs/MAG_APER_0_32 arcsec_fsps_larson_0_05__Asada24_cgm/, p_z\n",
      " added to <HDF5 file \"JOF_psfmatched_1723.h5\" (mode r+)>, interactive_outputs/MAG_APER_0_32 arcsec_fsps_larson_0_05__Asada24_cgm/, input_flux\n",
      " added to <HDF5 file \"JOF_psfmatched_1723.h5\" (mode r+)>, interactive_outputs/MAG_APER_0_32 arcsec_fsps_larson_0_05__Asada24_cgm/, input_flux_err\n",
      "Zeropoint: 23.9\n",
      "{'TEMPLATES_FILE': '/nvme/scratch/work/tharvey/EAZY/inputs/scripts/templates/LarsonTemplates/tweak_fsps_QSF_12_v3_newtemplates.param', 'FILTERS_RES': '/nvme/scratch/work/tharvey/EXPANSE/src/EXPANSE/eazy/jwst_nircam_FILTER.RES', 'MW_EBV': 0, 'CAT_HAS_EXTCORR': False, 'ADD_CGM': True, 'Z_STEP': 0.01, 'Z_MIN': 0.01, 'Z_MAX': 20.0, 'TEMP_ERR_FILE': '/nvme/scratch/work/tharvey/EXPANSE/src/EXPANSE/eazy/TEMPLATE_ERROR.eazy_v1.0', 'TEMP_ERR_A2': 0, 'SYS_ERR': 0, 'APPLY_PRIOR': 'n', 'PRIOR_ABZP': 23.9, 'PRIOR_FILTER': 28, 'PRIOR_FILE': '', 'FIX_ZSPEC': False, 'IGM_SCALE_TAU': 1.0, 'N_MIN_COLORS': 2, 'CATALOG_FILE': '/tmp/tmpss4rex3f/eazy_input.fits'}\n",
      "Read default param file: /nvme/scratch/software/anaconda3/envs/tharvey_galfind/lib/python3.10/site-packages/eazy/data/zphot.param.default\n",
      "Read CATALOG_FILE: /tmp/tmpss4rex3f/eazy_input.fits\n",
      "   >>> NOBJ = 1\n",
      "F22 E22 ( 22): hst/ACS_update_sep07/wfc_f435w_t81.dat\n",
      "F23 E23 ( 23): hst/ACS_update_sep07/wfc_f606w_t81.dat\n",
      "F49 E49 ( 49): hst/ACS_update_sep07/wfc_f775w_t81.dat\n",
      "F24 E24 ( 24): hst/ACS_update_sep07/wfc_f814w_t81.dat\n",
      "F50 E50 ( 50): hst/ACS_update_sep07/wfc_f850lp_t81.dat\n",
      "F1 E1 (  1): jwst_nircam_f090w\n",
      "F2 E2 (  2): jwst_nircam_f115w\n",
      "F3 E3 (  3): jwst_nircam_f150w\n",
      "F38 E38 ( 38): jwst_nircam_f162m\n",
      "F39 E39 ( 39): jwst_nircam_f182m\n",
      "F4 E4 (  4): jwst_nircam_f200w\n",
      "F40 E40 ( 40): jwst_nircam_f210m\n",
      "F41 E41 ( 41): jwst_nircam_f250m\n",
      "F5 E5 (  5): jwst_nircam_f277w\n",
      "F42 E42 ( 42): jwst_nircam_f300m\n",
      "F43 E43 ( 43): jwst_nircam_f335m\n",
      "F6 E6 (  6): jwst_nircam_f356w\n",
      "F7 E7 (  7): jwst_nircam_f410m\n",
      "F8 E8 (  8): jwst_nircam_f444w\n",
      "Set sys_err = 0.00 (positive=True)\n",
      "Template grid: /nvme/scratch/work/tharvey/EAZY/inputs/scripts/templates/LarsonTemplates/tweak_fsps_QSF_12_v3_newtemplates.param (this may take some time)\n"
     ]
    },
    {
     "name": "stderr",
     "output_type": "stream",
     "text": [
      "100%|██████████| 18/18 [00:11<00:00,  1.56it/s]\n"
     ]
    },
    {
     "name": "stdout",
     "output_type": "stream",
     "text": [
      "Template   0: fsps_QSF_12_v3_001.dat (NZ=1).\n",
      "Template   1: fsps_QSF_12_v3_002.dat (NZ=1).\n",
      "Template   2: fsps_QSF_12_v3_003.dat (NZ=1).\n",
      "Template   3: fsps_QSF_12_v3_004.dat (NZ=1).\n",
      "Template   4: fsps_QSF_12_v3_005.dat (NZ=1).\n",
      "Template   5: fsps_QSF_12_v3_006.dat (NZ=1).\n",
      "Template   6: fsps_QSF_12_v3_007.dat (NZ=1).\n",
      "Template   7: fsps_QSF_12_v3_008.dat (NZ=1).\n",
      "Template   8: fsps_QSF_12_v3_009.dat (NZ=1).\n",
      "Template   9: fsps_QSF_12_v3_010.dat (NZ=1).\n",
      "Template  10: fsps_QSF_12_v3_011.dat (NZ=1).\n",
      "Template  11: fsps_QSF_12_v3_012.dat (NZ=1).\n",
      "Template  12: binc100z001age6_cloudy.dat (NZ=1).\n",
      "Template  13: binc100z001age65_cloudy.dat (NZ=1).\n",
      "Template  14: binc100z001age7_cloudy.dat (NZ=1).\n",
      "Template  15: binc100z001age6.dat (NZ=1).\n",
      "Template  16: binc100z001age65.dat (NZ=1).\n",
      "Template  17: binc100z001age7.dat (NZ=1).\n",
      "Process templates: 11.977 s\n"
     ]
    },
    {
     "name": "stderr",
     "output_type": "stream",
     "text": [
      "304it [00:00, 26264.08it/s]"
     ]
    },
    {
     "name": "stdout",
     "output_type": "stream",
     "text": [
      "Saving tempfilt to /nvme/scratch/work/tharvey/EXPANSE/src/EXPANSE/eazy/tempfilt/\n"
     ]
    },
    {
     "name": "stderr",
     "output_type": "stream",
     "text": [
      "\n",
      "100%|██████████| 304/304 [00:00<00:00, 5129.51it/s]\n"
     ]
    },
    {
     "name": "stdout",
     "output_type": "stream",
     "text": [
      "Compute best fits\n",
      "fit_best: 0.0 s (n_proc=1,  NOBJ=1)\n",
      "Fit 0.4 s (n_proc=4, NOBJ=1)\n",
      "Setting meta, id_phot, 0\n",
      "Setting meta, z_best, 6.186365\n",
      "Setting meta, chi2, 22.39657904578417\n",
      "Setting meta, z16, 6.1432276\n",
      "Setting meta, z50, 6.2027426\n",
      "Setting meta, z84, 6.3278246\n",
      "Setting meta, flux_unit, uJy\n",
      "Setting meta, wave_unit, Angstrom\n",
      "Setting meta, templates_file, /nvme/scratch/work/tharvey/EAZY/inputs/scripts/templates/LarsonTemplates/tweak_fsps_QSF_12_v3_newtemplates.param\n",
      "Setting meta, z_min, 0.01\n",
      "Setting meta, z_max, 20.0\n",
      "Setting meta, z_step, 0.01\n",
      "Setting meta, region, MAG_APER_0.32 arcsec_fsps_larson_0.05__Asada24_cgm\n",
      " added to <HDF5 file \"JOF_psfmatched_1755.h5\" (mode r+)>, interactive_outputs/MAG_APER_0_32 arcsec_fsps_larson_0_05__Asada24_cgm/, eazy_fit\n",
      " added to <HDF5 file \"JOF_psfmatched_1755.h5\" (mode r+)>, interactive_outputs/MAG_APER_0_32 arcsec_fsps_larson_0_05__Asada24_cgm/, p_z\n",
      " added to <HDF5 file \"JOF_psfmatched_1755.h5\" (mode r+)>, interactive_outputs/MAG_APER_0_32 arcsec_fsps_larson_0_05__Asada24_cgm/, input_flux\n",
      " added to <HDF5 file \"JOF_psfmatched_1755.h5\" (mode r+)>, interactive_outputs/MAG_APER_0_32 arcsec_fsps_larson_0_05__Asada24_cgm/, input_flux_err\n",
      "Zeropoint: 23.9\n",
      "{'TEMPLATES_FILE': '/nvme/scratch/work/tharvey/EAZY/inputs/scripts/templates/LarsonTemplates/tweak_fsps_QSF_12_v3_newtemplates.param', 'FILTERS_RES': '/nvme/scratch/work/tharvey/EXPANSE/src/EXPANSE/eazy/jwst_nircam_FILTER.RES', 'MW_EBV': 0, 'CAT_HAS_EXTCORR': False, 'ADD_CGM': True, 'Z_STEP': 0.01, 'Z_MIN': 0.01, 'Z_MAX': 20.0, 'TEMP_ERR_FILE': '/nvme/scratch/work/tharvey/EXPANSE/src/EXPANSE/eazy/TEMPLATE_ERROR.eazy_v1.0', 'TEMP_ERR_A2': 0, 'SYS_ERR': 0, 'APPLY_PRIOR': 'n', 'PRIOR_ABZP': 23.9, 'PRIOR_FILTER': 28, 'PRIOR_FILE': '', 'FIX_ZSPEC': False, 'IGM_SCALE_TAU': 1.0, 'N_MIN_COLORS': 2, 'CATALOG_FILE': '/tmp/tmp_o1_jega/eazy_input.fits'}\n",
      "Read default param file: /nvme/scratch/software/anaconda3/envs/tharvey_galfind/lib/python3.10/site-packages/eazy/data/zphot.param.default\n",
      "Read CATALOG_FILE: /tmp/tmp_o1_jega/eazy_input.fits\n",
      "   >>> NOBJ = 1\n",
      "F22 E22 ( 22): hst/ACS_update_sep07/wfc_f435w_t81.dat\n",
      "F23 E23 ( 23): hst/ACS_update_sep07/wfc_f606w_t81.dat\n",
      "F49 E49 ( 49): hst/ACS_update_sep07/wfc_f775w_t81.dat\n",
      "F24 E24 ( 24): hst/ACS_update_sep07/wfc_f814w_t81.dat\n",
      "F50 E50 ( 50): hst/ACS_update_sep07/wfc_f850lp_t81.dat\n",
      "F1 E1 (  1): jwst_nircam_f090w\n",
      "F2 E2 (  2): jwst_nircam_f115w\n",
      "F3 E3 (  3): jwst_nircam_f150w\n",
      "F38 E38 ( 38): jwst_nircam_f162m\n",
      "F39 E39 ( 39): jwst_nircam_f182m\n",
      "F4 E4 (  4): jwst_nircam_f200w\n",
      "F40 E40 ( 40): jwst_nircam_f210m\n",
      "F41 E41 ( 41): jwst_nircam_f250m\n",
      "F5 E5 (  5): jwst_nircam_f277w\n",
      "F42 E42 ( 42): jwst_nircam_f300m\n",
      "F43 E43 ( 43): jwst_nircam_f335m\n",
      "F6 E6 (  6): jwst_nircam_f356w\n",
      "F7 E7 (  7): jwst_nircam_f410m\n",
      "F8 E8 (  8): jwst_nircam_f444w\n",
      "Set sys_err = 0.00 (positive=True)\n",
      "Template grid: /nvme/scratch/work/tharvey/EAZY/inputs/scripts/templates/LarsonTemplates/tweak_fsps_QSF_12_v3_newtemplates.param (this may take some time)\n"
     ]
    },
    {
     "name": "stderr",
     "output_type": "stream",
     "text": [
      "100%|██████████| 18/18 [00:12<00:00,  1.46it/s]\n"
     ]
    },
    {
     "name": "stdout",
     "output_type": "stream",
     "text": [
      "Template   0: fsps_QSF_12_v3_001.dat (NZ=1).\n",
      "Template   1: fsps_QSF_12_v3_002.dat (NZ=1).\n",
      "Template   2: fsps_QSF_12_v3_003.dat (NZ=1).\n",
      "Template   3: fsps_QSF_12_v3_004.dat (NZ=1).\n",
      "Template   4: fsps_QSF_12_v3_005.dat (NZ=1).\n",
      "Template   5: fsps_QSF_12_v3_006.dat (NZ=1).\n",
      "Template   6: fsps_QSF_12_v3_007.dat (NZ=1).\n",
      "Template   7: fsps_QSF_12_v3_008.dat (NZ=1).\n",
      "Template   8: fsps_QSF_12_v3_009.dat (NZ=1).\n",
      "Template   9: fsps_QSF_12_v3_010.dat (NZ=1).\n",
      "Template  10: fsps_QSF_12_v3_011.dat (NZ=1).\n",
      "Template  11: fsps_QSF_12_v3_012.dat (NZ=1).\n",
      "Template  12: binc100z001age6_cloudy.dat (NZ=1).\n",
      "Template  13: binc100z001age65_cloudy.dat (NZ=1).\n",
      "Template  14: binc100z001age7_cloudy.dat (NZ=1).\n",
      "Template  15: binc100z001age6.dat (NZ=1).\n",
      "Template  16: binc100z001age65.dat (NZ=1).\n",
      "Template  17: binc100z001age7.dat (NZ=1).\n",
      "Process templates: 12.796 s\n"
     ]
    },
    {
     "name": "stderr",
     "output_type": "stream",
     "text": [
      "304it [00:00, 23982.78it/s]"
     ]
    },
    {
     "name": "stdout",
     "output_type": "stream",
     "text": [
      "Saving tempfilt to /nvme/scratch/work/tharvey/EXPANSE/src/EXPANSE/eazy/tempfilt/\n"
     ]
    },
    {
     "name": "stderr",
     "output_type": "stream",
     "text": [
      "\n",
      "100%|██████████| 304/304 [00:00<00:00, 5543.10it/s]\n"
     ]
    },
    {
     "name": "stdout",
     "output_type": "stream",
     "text": [
      "Compute best fits\n",
      "fit_best: 0.0 s (n_proc=1,  NOBJ=1)\n",
      "Fit 0.4 s (n_proc=4, NOBJ=1)\n",
      "Setting meta, id_phot, 0\n",
      "Setting meta, z_best, 6.047386\n",
      "Setting meta, chi2, 48.52395178216163\n",
      "Setting meta, z16, 5.9489822\n",
      "Setting meta, z50, 6.0637355\n",
      "Setting meta, z84, 6.2092233\n",
      "Setting meta, flux_unit, uJy\n",
      "Setting meta, wave_unit, Angstrom\n",
      "Setting meta, templates_file, /nvme/scratch/work/tharvey/EAZY/inputs/scripts/templates/LarsonTemplates/tweak_fsps_QSF_12_v3_newtemplates.param\n",
      "Setting meta, z_min, 0.01\n",
      "Setting meta, z_max, 20.0\n",
      "Setting meta, z_step, 0.01\n",
      "Setting meta, region, MAG_APER_0.32 arcsec_fsps_larson_0.05__Asada24_cgm\n",
      " added to <HDF5 file \"JOF_psfmatched_1867.h5\" (mode r+)>, interactive_outputs/MAG_APER_0_32 arcsec_fsps_larson_0_05__Asada24_cgm/, eazy_fit\n",
      " added to <HDF5 file \"JOF_psfmatched_1867.h5\" (mode r+)>, interactive_outputs/MAG_APER_0_32 arcsec_fsps_larson_0_05__Asada24_cgm/, p_z\n",
      " added to <HDF5 file \"JOF_psfmatched_1867.h5\" (mode r+)>, interactive_outputs/MAG_APER_0_32 arcsec_fsps_larson_0_05__Asada24_cgm/, input_flux\n",
      " added to <HDF5 file \"JOF_psfmatched_1867.h5\" (mode r+)>, interactive_outputs/MAG_APER_0_32 arcsec_fsps_larson_0_05__Asada24_cgm/, input_flux_err\n",
      "Zeropoint: 23.9\n",
      "{'TEMPLATES_FILE': '/nvme/scratch/work/tharvey/EAZY/inputs/scripts/templates/LarsonTemplates/tweak_fsps_QSF_12_v3_newtemplates.param', 'FILTERS_RES': '/nvme/scratch/work/tharvey/EXPANSE/src/EXPANSE/eazy/jwst_nircam_FILTER.RES', 'MW_EBV': 0, 'CAT_HAS_EXTCORR': False, 'ADD_CGM': True, 'Z_STEP': 0.01, 'Z_MIN': 0.01, 'Z_MAX': 20.0, 'TEMP_ERR_FILE': '/nvme/scratch/work/tharvey/EXPANSE/src/EXPANSE/eazy/TEMPLATE_ERROR.eazy_v1.0', 'TEMP_ERR_A2': 0, 'SYS_ERR': 0, 'APPLY_PRIOR': 'n', 'PRIOR_ABZP': 23.9, 'PRIOR_FILTER': 28, 'PRIOR_FILE': '', 'FIX_ZSPEC': False, 'IGM_SCALE_TAU': 1.0, 'N_MIN_COLORS': 2, 'CATALOG_FILE': '/tmp/tmpurgf3tyw/eazy_input.fits'}\n",
      "Read default param file: /nvme/scratch/software/anaconda3/envs/tharvey_galfind/lib/python3.10/site-packages/eazy/data/zphot.param.default\n",
      "Read CATALOG_FILE: /tmp/tmpurgf3tyw/eazy_input.fits\n",
      "   >>> NOBJ = 1\n",
      "F22 E22 ( 22): hst/ACS_update_sep07/wfc_f435w_t81.dat\n",
      "F23 E23 ( 23): hst/ACS_update_sep07/wfc_f606w_t81.dat\n",
      "F49 E49 ( 49): hst/ACS_update_sep07/wfc_f775w_t81.dat\n",
      "F24 E24 ( 24): hst/ACS_update_sep07/wfc_f814w_t81.dat\n",
      "F50 E50 ( 50): hst/ACS_update_sep07/wfc_f850lp_t81.dat\n",
      "F1 E1 (  1): jwst_nircam_f090w\n",
      "F2 E2 (  2): jwst_nircam_f115w\n",
      "F3 E3 (  3): jwst_nircam_f150w\n",
      "F38 E38 ( 38): jwst_nircam_f162m\n",
      "F39 E39 ( 39): jwst_nircam_f182m\n",
      "F4 E4 (  4): jwst_nircam_f200w\n",
      "F40 E40 ( 40): jwst_nircam_f210m\n",
      "F41 E41 ( 41): jwst_nircam_f250m\n",
      "F5 E5 (  5): jwst_nircam_f277w\n",
      "F42 E42 ( 42): jwst_nircam_f300m\n",
      "F43 E43 ( 43): jwst_nircam_f335m\n",
      "F6 E6 (  6): jwst_nircam_f356w\n",
      "F7 E7 (  7): jwst_nircam_f410m\n",
      "F8 E8 (  8): jwst_nircam_f444w\n",
      "Set sys_err = 0.00 (positive=True)\n",
      "Template grid: /nvme/scratch/work/tharvey/EAZY/inputs/scripts/templates/LarsonTemplates/tweak_fsps_QSF_12_v3_newtemplates.param (this may take some time)\n"
     ]
    },
    {
     "name": "stderr",
     "output_type": "stream",
     "text": [
      "100%|██████████| 18/18 [00:12<00:00,  1.49it/s]\n"
     ]
    },
    {
     "name": "stdout",
     "output_type": "stream",
     "text": [
      "Template   0: fsps_QSF_12_v3_001.dat (NZ=1).\n",
      "Template   1: fsps_QSF_12_v3_002.dat (NZ=1).\n",
      "Template   2: fsps_QSF_12_v3_003.dat (NZ=1).\n",
      "Template   3: fsps_QSF_12_v3_004.dat (NZ=1).\n",
      "Template   4: fsps_QSF_12_v3_005.dat (NZ=1).\n",
      "Template   5: fsps_QSF_12_v3_006.dat (NZ=1).\n",
      "Template   6: fsps_QSF_12_v3_007.dat (NZ=1).\n",
      "Template   7: fsps_QSF_12_v3_008.dat (NZ=1).\n",
      "Template   8: fsps_QSF_12_v3_009.dat (NZ=1).\n",
      "Template   9: fsps_QSF_12_v3_010.dat (NZ=1).\n",
      "Template  10: fsps_QSF_12_v3_011.dat (NZ=1).\n",
      "Template  11: fsps_QSF_12_v3_012.dat (NZ=1).\n",
      "Template  12: binc100z001age6_cloudy.dat (NZ=1).\n",
      "Template  13: binc100z001age65_cloudy.dat (NZ=1).\n",
      "Template  14: binc100z001age7_cloudy.dat (NZ=1).\n",
      "Template  15: binc100z001age6.dat (NZ=1).\n",
      "Template  16: binc100z001age65.dat (NZ=1).\n",
      "Template  17: binc100z001age7.dat (NZ=1).\n",
      "Process templates: 12.568 s\n"
     ]
    },
    {
     "name": "stderr",
     "output_type": "stream",
     "text": [
      "304it [00:00, 21920.44it/s]"
     ]
    },
    {
     "name": "stdout",
     "output_type": "stream",
     "text": [
      "Saving tempfilt to /nvme/scratch/work/tharvey/EXPANSE/src/EXPANSE/eazy/tempfilt/\n"
     ]
    },
    {
     "name": "stderr",
     "output_type": "stream",
     "text": [
      "\n",
      "100%|██████████| 304/304 [00:00<00:00, 4747.76it/s]\n"
     ]
    },
    {
     "name": "stdout",
     "output_type": "stream",
     "text": [
      "Compute best fits\n",
      "fit_best: 0.0 s (n_proc=1,  NOBJ=1)\n",
      "Fit 0.4 s (n_proc=4, NOBJ=1)\n",
      "Setting meta, id_phot, 0\n",
      "Setting meta, z_best, 5.96353\n",
      "Setting meta, chi2, 36.940674472434345\n",
      "Setting meta, z16, 5.7795334\n",
      "Setting meta, z50, 5.912719\n",
      "Setting meta, z84, 6.018158\n",
      "Setting meta, flux_unit, uJy\n",
      "Setting meta, wave_unit, Angstrom\n",
      "Setting meta, templates_file, /nvme/scratch/work/tharvey/EAZY/inputs/scripts/templates/LarsonTemplates/tweak_fsps_QSF_12_v3_newtemplates.param\n",
      "Setting meta, z_min, 0.01\n",
      "Setting meta, z_max, 20.0\n",
      "Setting meta, z_step, 0.01\n",
      "Setting meta, region, MAG_APER_0.32 arcsec_fsps_larson_0.05__Asada24_cgm\n",
      " added to <HDF5 file \"JOF_psfmatched_1951.h5\" (mode r+)>, interactive_outputs/MAG_APER_0_32 arcsec_fsps_larson_0_05__Asada24_cgm/, eazy_fit\n",
      " added to <HDF5 file \"JOF_psfmatched_1951.h5\" (mode r+)>, interactive_outputs/MAG_APER_0_32 arcsec_fsps_larson_0_05__Asada24_cgm/, p_z\n",
      " added to <HDF5 file \"JOF_psfmatched_1951.h5\" (mode r+)>, interactive_outputs/MAG_APER_0_32 arcsec_fsps_larson_0_05__Asada24_cgm/, input_flux\n",
      " added to <HDF5 file \"JOF_psfmatched_1951.h5\" (mode r+)>, interactive_outputs/MAG_APER_0_32 arcsec_fsps_larson_0_05__Asada24_cgm/, input_flux_err\n",
      "Zeropoint: 23.9\n",
      "{'TEMPLATES_FILE': '/nvme/scratch/work/tharvey/EAZY/inputs/scripts/templates/LarsonTemplates/tweak_fsps_QSF_12_v3_newtemplates.param', 'FILTERS_RES': '/nvme/scratch/work/tharvey/EXPANSE/src/EXPANSE/eazy/jwst_nircam_FILTER.RES', 'MW_EBV': 0, 'CAT_HAS_EXTCORR': False, 'ADD_CGM': True, 'Z_STEP': 0.01, 'Z_MIN': 0.01, 'Z_MAX': 20.0, 'TEMP_ERR_FILE': '/nvme/scratch/work/tharvey/EXPANSE/src/EXPANSE/eazy/TEMPLATE_ERROR.eazy_v1.0', 'TEMP_ERR_A2': 0, 'SYS_ERR': 0, 'APPLY_PRIOR': 'n', 'PRIOR_ABZP': 23.9, 'PRIOR_FILTER': 28, 'PRIOR_FILE': '', 'FIX_ZSPEC': False, 'IGM_SCALE_TAU': 1.0, 'N_MIN_COLORS': 2, 'CATALOG_FILE': '/tmp/tmpj7mieohm/eazy_input.fits'}\n",
      "Read default param file: /nvme/scratch/software/anaconda3/envs/tharvey_galfind/lib/python3.10/site-packages/eazy/data/zphot.param.default\n",
      "Read CATALOG_FILE: /tmp/tmpj7mieohm/eazy_input.fits\n",
      "   >>> NOBJ = 1\n",
      "F22 E22 ( 22): hst/ACS_update_sep07/wfc_f435w_t81.dat\n",
      "F23 E23 ( 23): hst/ACS_update_sep07/wfc_f606w_t81.dat\n",
      "F49 E49 ( 49): hst/ACS_update_sep07/wfc_f775w_t81.dat\n",
      "F24 E24 ( 24): hst/ACS_update_sep07/wfc_f814w_t81.dat\n",
      "F50 E50 ( 50): hst/ACS_update_sep07/wfc_f850lp_t81.dat\n",
      "F1 E1 (  1): jwst_nircam_f090w\n",
      "F2 E2 (  2): jwst_nircam_f115w\n",
      "F3 E3 (  3): jwst_nircam_f150w\n",
      "F38 E38 ( 38): jwst_nircam_f162m\n",
      "F39 E39 ( 39): jwst_nircam_f182m\n",
      "F4 E4 (  4): jwst_nircam_f200w\n",
      "F40 E40 ( 40): jwst_nircam_f210m\n",
      "F41 E41 ( 41): jwst_nircam_f250m\n",
      "F5 E5 (  5): jwst_nircam_f277w\n",
      "F42 E42 ( 42): jwst_nircam_f300m\n",
      "F43 E43 ( 43): jwst_nircam_f335m\n",
      "F6 E6 (  6): jwst_nircam_f356w\n",
      "F7 E7 (  7): jwst_nircam_f410m\n",
      "F8 E8 (  8): jwst_nircam_f444w\n",
      "Set sys_err = 0.00 (positive=True)\n",
      "Template grid: /nvme/scratch/work/tharvey/EAZY/inputs/scripts/templates/LarsonTemplates/tweak_fsps_QSF_12_v3_newtemplates.param (this may take some time)\n"
     ]
    },
    {
     "name": "stderr",
     "output_type": "stream",
     "text": [
      "100%|██████████| 18/18 [00:12<00:00,  1.46it/s]\n"
     ]
    },
    {
     "name": "stdout",
     "output_type": "stream",
     "text": [
      "Template   0: fsps_QSF_12_v3_001.dat (NZ=1).\n",
      "Template   1: fsps_QSF_12_v3_002.dat (NZ=1).\n",
      "Template   2: fsps_QSF_12_v3_003.dat (NZ=1).\n",
      "Template   3: fsps_QSF_12_v3_004.dat (NZ=1).\n",
      "Template   4: fsps_QSF_12_v3_005.dat (NZ=1).\n",
      "Template   5: fsps_QSF_12_v3_006.dat (NZ=1).\n",
      "Template   6: fsps_QSF_12_v3_007.dat (NZ=1).\n",
      "Template   7: fsps_QSF_12_v3_008.dat (NZ=1).\n",
      "Template   8: fsps_QSF_12_v3_009.dat (NZ=1).\n",
      "Template   9: fsps_QSF_12_v3_010.dat (NZ=1).\n",
      "Template  10: fsps_QSF_12_v3_011.dat (NZ=1).\n",
      "Template  11: fsps_QSF_12_v3_012.dat (NZ=1).\n",
      "Template  12: binc100z001age6_cloudy.dat (NZ=1).\n",
      "Template  13: binc100z001age65_cloudy.dat (NZ=1).\n",
      "Template  14: binc100z001age7_cloudy.dat (NZ=1).\n",
      "Template  15: binc100z001age6.dat (NZ=1).\n",
      "Template  16: binc100z001age65.dat (NZ=1).\n",
      "Template  17: binc100z001age7.dat (NZ=1).\n",
      "Process templates: 12.743 s\n"
     ]
    },
    {
     "name": "stderr",
     "output_type": "stream",
     "text": [
      "304it [00:00, 26885.43it/s]"
     ]
    },
    {
     "name": "stdout",
     "output_type": "stream",
     "text": [
      "Saving tempfilt to /nvme/scratch/work/tharvey/EXPANSE/src/EXPANSE/eazy/tempfilt/\n"
     ]
    },
    {
     "name": "stderr",
     "output_type": "stream",
     "text": [
      "\n",
      "100%|██████████| 304/304 [00:00<00:00, 5415.32it/s]\n"
     ]
    },
    {
     "name": "stdout",
     "output_type": "stream",
     "text": [
      "Compute best fits\n",
      "fit_best: 0.0 s (n_proc=1,  NOBJ=1)\n",
      "Fit 0.4 s (n_proc=4, NOBJ=1)\n",
      "Setting meta, id_phot, 0\n",
      "Setting meta, z_best, 6.234944\n",
      "Setting meta, chi2, 20.99310326656434\n",
      "Setting meta, z16, 6.0185843\n",
      "Setting meta, z50, 6.2039924\n",
      "Setting meta, z84, 6.363394\n",
      "Setting meta, flux_unit, uJy\n",
      "Setting meta, wave_unit, Angstrom\n",
      "Setting meta, templates_file, /nvme/scratch/work/tharvey/EAZY/inputs/scripts/templates/LarsonTemplates/tweak_fsps_QSF_12_v3_newtemplates.param\n",
      "Setting meta, z_min, 0.01\n",
      "Setting meta, z_max, 20.0\n",
      "Setting meta, z_step, 0.01\n",
      "Setting meta, region, MAG_APER_0.32 arcsec_fsps_larson_0.05__Asada24_cgm\n",
      " added to <HDF5 file \"JOF_psfmatched_1991.h5\" (mode r+)>, interactive_outputs/MAG_APER_0_32 arcsec_fsps_larson_0_05__Asada24_cgm/, eazy_fit\n",
      " added to <HDF5 file \"JOF_psfmatched_1991.h5\" (mode r+)>, interactive_outputs/MAG_APER_0_32 arcsec_fsps_larson_0_05__Asada24_cgm/, p_z\n",
      " added to <HDF5 file \"JOF_psfmatched_1991.h5\" (mode r+)>, interactive_outputs/MAG_APER_0_32 arcsec_fsps_larson_0_05__Asada24_cgm/, input_flux\n",
      " added to <HDF5 file \"JOF_psfmatched_1991.h5\" (mode r+)>, interactive_outputs/MAG_APER_0_32 arcsec_fsps_larson_0_05__Asada24_cgm/, input_flux_err\n",
      "Zeropoint: 23.9\n",
      "{'TEMPLATES_FILE': '/nvme/scratch/work/tharvey/EAZY/inputs/scripts/templates/LarsonTemplates/tweak_fsps_QSF_12_v3_newtemplates.param', 'FILTERS_RES': '/nvme/scratch/work/tharvey/EXPANSE/src/EXPANSE/eazy/jwst_nircam_FILTER.RES', 'MW_EBV': 0, 'CAT_HAS_EXTCORR': False, 'ADD_CGM': True, 'Z_STEP': 0.01, 'Z_MIN': 0.01, 'Z_MAX': 20.0, 'TEMP_ERR_FILE': '/nvme/scratch/work/tharvey/EXPANSE/src/EXPANSE/eazy/TEMPLATE_ERROR.eazy_v1.0', 'TEMP_ERR_A2': 0, 'SYS_ERR': 0, 'APPLY_PRIOR': 'n', 'PRIOR_ABZP': 23.9, 'PRIOR_FILTER': 28, 'PRIOR_FILE': '', 'FIX_ZSPEC': False, 'IGM_SCALE_TAU': 1.0, 'N_MIN_COLORS': 2, 'CATALOG_FILE': '/tmp/tmpay27se58/eazy_input.fits'}\n",
      "Read default param file: /nvme/scratch/software/anaconda3/envs/tharvey_galfind/lib/python3.10/site-packages/eazy/data/zphot.param.default\n",
      "Read CATALOG_FILE: /tmp/tmpay27se58/eazy_input.fits\n",
      "   >>> NOBJ = 1\n",
      "F22 E22 ( 22): hst/ACS_update_sep07/wfc_f435w_t81.dat\n",
      "F23 E23 ( 23): hst/ACS_update_sep07/wfc_f606w_t81.dat\n",
      "F49 E49 ( 49): hst/ACS_update_sep07/wfc_f775w_t81.dat\n",
      "F24 E24 ( 24): hst/ACS_update_sep07/wfc_f814w_t81.dat\n",
      "F50 E50 ( 50): hst/ACS_update_sep07/wfc_f850lp_t81.dat\n",
      "F1 E1 (  1): jwst_nircam_f090w\n",
      "F2 E2 (  2): jwst_nircam_f115w\n",
      "F3 E3 (  3): jwst_nircam_f150w\n",
      "F38 E38 ( 38): jwst_nircam_f162m\n",
      "F39 E39 ( 39): jwst_nircam_f182m\n",
      "F4 E4 (  4): jwst_nircam_f200w\n",
      "F40 E40 ( 40): jwst_nircam_f210m\n",
      "F41 E41 ( 41): jwst_nircam_f250m\n",
      "F5 E5 (  5): jwst_nircam_f277w\n",
      "F42 E42 ( 42): jwst_nircam_f300m\n",
      "F43 E43 ( 43): jwst_nircam_f335m\n",
      "F6 E6 (  6): jwst_nircam_f356w\n",
      "F7 E7 (  7): jwst_nircam_f410m\n",
      "F8 E8 (  8): jwst_nircam_f444w\n",
      "Set sys_err = 0.00 (positive=True)\n",
      "Template grid: /nvme/scratch/work/tharvey/EAZY/inputs/scripts/templates/LarsonTemplates/tweak_fsps_QSF_12_v3_newtemplates.param (this may take some time)\n"
     ]
    },
    {
     "name": "stderr",
     "output_type": "stream",
     "text": [
      "100%|██████████| 18/18 [00:12<00:00,  1.46it/s]\n"
     ]
    },
    {
     "name": "stdout",
     "output_type": "stream",
     "text": [
      "Template   0: fsps_QSF_12_v3_001.dat (NZ=1).\n",
      "Template   1: fsps_QSF_12_v3_002.dat (NZ=1).\n",
      "Template   2: fsps_QSF_12_v3_003.dat (NZ=1).\n",
      "Template   3: fsps_QSF_12_v3_004.dat (NZ=1).\n",
      "Template   4: fsps_QSF_12_v3_005.dat (NZ=1).\n",
      "Template   5: fsps_QSF_12_v3_006.dat (NZ=1).\n",
      "Template   6: fsps_QSF_12_v3_007.dat (NZ=1).\n",
      "Template   7: fsps_QSF_12_v3_008.dat (NZ=1).\n",
      "Template   8: fsps_QSF_12_v3_009.dat (NZ=1).\n",
      "Template   9: fsps_QSF_12_v3_010.dat (NZ=1).\n",
      "Template  10: fsps_QSF_12_v3_011.dat (NZ=1).\n",
      "Template  11: fsps_QSF_12_v3_012.dat (NZ=1).\n",
      "Template  12: binc100z001age6_cloudy.dat (NZ=1).\n",
      "Template  13: binc100z001age65_cloudy.dat (NZ=1).\n",
      "Template  14: binc100z001age7_cloudy.dat (NZ=1).\n",
      "Template  15: binc100z001age6.dat (NZ=1).\n",
      "Template  16: binc100z001age65.dat (NZ=1).\n",
      "Template  17: binc100z001age7.dat (NZ=1).\n",
      "Process templates: 12.720 s\n"
     ]
    },
    {
     "name": "stderr",
     "output_type": "stream",
     "text": [
      "304it [00:00, 24923.15it/s]"
     ]
    },
    {
     "name": "stdout",
     "output_type": "stream",
     "text": [
      "Saving tempfilt to /nvme/scratch/work/tharvey/EXPANSE/src/EXPANSE/eazy/tempfilt/\n"
     ]
    },
    {
     "name": "stderr",
     "output_type": "stream",
     "text": [
      "\n",
      "100%|██████████| 304/304 [00:00<00:00, 5611.13it/s]\n"
     ]
    },
    {
     "name": "stdout",
     "output_type": "stream",
     "text": [
      "Compute best fits\n",
      "fit_best: 0.0 s (n_proc=1,  NOBJ=1)\n",
      "Fit 0.4 s (n_proc=4, NOBJ=1)\n",
      "Setting meta, id_phot, 0\n",
      "Setting meta, z_best, 6.03422\n",
      "Setting meta, chi2, 22.152363061655873\n",
      "Setting meta, z16, 5.9772034\n",
      "Setting meta, z50, 6.1399016\n",
      "Setting meta, z84, 6.3311644\n",
      "Setting meta, flux_unit, uJy\n",
      "Setting meta, wave_unit, Angstrom\n",
      "Setting meta, templates_file, /nvme/scratch/work/tharvey/EAZY/inputs/scripts/templates/LarsonTemplates/tweak_fsps_QSF_12_v3_newtemplates.param\n",
      "Setting meta, z_min, 0.01\n",
      "Setting meta, z_max, 20.0\n",
      "Setting meta, z_step, 0.01\n",
      "Setting meta, region, MAG_APER_0.32 arcsec_fsps_larson_0.05__Asada24_cgm\n",
      " added to <HDF5 file \"JOF_psfmatched_2015.h5\" (mode r+)>, interactive_outputs/MAG_APER_0_32 arcsec_fsps_larson_0_05__Asada24_cgm/, eazy_fit\n",
      " added to <HDF5 file \"JOF_psfmatched_2015.h5\" (mode r+)>, interactive_outputs/MAG_APER_0_32 arcsec_fsps_larson_0_05__Asada24_cgm/, p_z\n",
      " added to <HDF5 file \"JOF_psfmatched_2015.h5\" (mode r+)>, interactive_outputs/MAG_APER_0_32 arcsec_fsps_larson_0_05__Asada24_cgm/, input_flux\n",
      " added to <HDF5 file \"JOF_psfmatched_2015.h5\" (mode r+)>, interactive_outputs/MAG_APER_0_32 arcsec_fsps_larson_0_05__Asada24_cgm/, input_flux_err\n",
      "Zeropoint: 23.9\n",
      "{'TEMPLATES_FILE': '/nvme/scratch/work/tharvey/EAZY/inputs/scripts/templates/LarsonTemplates/tweak_fsps_QSF_12_v3_newtemplates.param', 'FILTERS_RES': '/nvme/scratch/work/tharvey/EXPANSE/src/EXPANSE/eazy/jwst_nircam_FILTER.RES', 'MW_EBV': 0, 'CAT_HAS_EXTCORR': False, 'ADD_CGM': True, 'Z_STEP': 0.01, 'Z_MIN': 0.01, 'Z_MAX': 20.0, 'TEMP_ERR_FILE': '/nvme/scratch/work/tharvey/EXPANSE/src/EXPANSE/eazy/TEMPLATE_ERROR.eazy_v1.0', 'TEMP_ERR_A2': 0, 'SYS_ERR': 0, 'APPLY_PRIOR': 'n', 'PRIOR_ABZP': 23.9, 'PRIOR_FILTER': 28, 'PRIOR_FILE': '', 'FIX_ZSPEC': False, 'IGM_SCALE_TAU': 1.0, 'N_MIN_COLORS': 2, 'CATALOG_FILE': '/tmp/tmprf09g1m5/eazy_input.fits'}\n",
      "Read default param file: /nvme/scratch/software/anaconda3/envs/tharvey_galfind/lib/python3.10/site-packages/eazy/data/zphot.param.default\n",
      "Read CATALOG_FILE: /tmp/tmprf09g1m5/eazy_input.fits\n",
      "   >>> NOBJ = 1\n",
      "F22 E22 ( 22): hst/ACS_update_sep07/wfc_f435w_t81.dat\n",
      "F23 E23 ( 23): hst/ACS_update_sep07/wfc_f606w_t81.dat\n",
      "F49 E49 ( 49): hst/ACS_update_sep07/wfc_f775w_t81.dat\n",
      "F24 E24 ( 24): hst/ACS_update_sep07/wfc_f814w_t81.dat\n",
      "F50 E50 ( 50): hst/ACS_update_sep07/wfc_f850lp_t81.dat\n",
      "F1 E1 (  1): jwst_nircam_f090w\n",
      "F2 E2 (  2): jwst_nircam_f115w\n",
      "F3 E3 (  3): jwst_nircam_f150w\n",
      "F38 E38 ( 38): jwst_nircam_f162m\n",
      "F39 E39 ( 39): jwst_nircam_f182m\n",
      "F4 E4 (  4): jwst_nircam_f200w\n",
      "F40 E40 ( 40): jwst_nircam_f210m\n",
      "F41 E41 ( 41): jwst_nircam_f250m\n",
      "F5 E5 (  5): jwst_nircam_f277w\n",
      "F42 E42 ( 42): jwst_nircam_f300m\n",
      "F43 E43 ( 43): jwst_nircam_f335m\n",
      "F6 E6 (  6): jwst_nircam_f356w\n",
      "F7 E7 (  7): jwst_nircam_f410m\n",
      "F8 E8 (  8): jwst_nircam_f444w\n",
      "Set sys_err = 0.00 (positive=True)\n",
      "Template grid: /nvme/scratch/work/tharvey/EAZY/inputs/scripts/templates/LarsonTemplates/tweak_fsps_QSF_12_v3_newtemplates.param (this may take some time)\n"
     ]
    },
    {
     "name": "stderr",
     "output_type": "stream",
     "text": [
      "100%|██████████| 18/18 [00:12<00:00,  1.45it/s]\n"
     ]
    },
    {
     "name": "stdout",
     "output_type": "stream",
     "text": [
      "Template   0: fsps_QSF_12_v3_001.dat (NZ=1).\n",
      "Template   1: fsps_QSF_12_v3_002.dat (NZ=1).\n",
      "Template   2: fsps_QSF_12_v3_003.dat (NZ=1).\n",
      "Template   3: fsps_QSF_12_v3_004.dat (NZ=1).\n",
      "Template   4: fsps_QSF_12_v3_005.dat (NZ=1).\n",
      "Template   5: fsps_QSF_12_v3_006.dat (NZ=1).\n",
      "Template   6: fsps_QSF_12_v3_007.dat (NZ=1).\n",
      "Template   7: fsps_QSF_12_v3_008.dat (NZ=1).\n",
      "Template   8: fsps_QSF_12_v3_009.dat (NZ=1).\n",
      "Template   9: fsps_QSF_12_v3_010.dat (NZ=1).\n",
      "Template  10: fsps_QSF_12_v3_011.dat (NZ=1).\n",
      "Template  11: fsps_QSF_12_v3_012.dat (NZ=1).\n",
      "Template  12: binc100z001age6_cloudy.dat (NZ=1).\n",
      "Template  13: binc100z001age65_cloudy.dat (NZ=1).\n",
      "Template  14: binc100z001age7_cloudy.dat (NZ=1).\n",
      "Template  15: binc100z001age6.dat (NZ=1).\n",
      "Template  16: binc100z001age65.dat (NZ=1).\n",
      "Template  17: binc100z001age7.dat (NZ=1).\n",
      "Process templates: 12.867 s\n"
     ]
    },
    {
     "name": "stderr",
     "output_type": "stream",
     "text": [
      "304it [00:00, 22862.98it/s]"
     ]
    },
    {
     "name": "stdout",
     "output_type": "stream",
     "text": [
      "Saving tempfilt to /nvme/scratch/work/tharvey/EXPANSE/src/EXPANSE/eazy/tempfilt/\n"
     ]
    },
    {
     "name": "stderr",
     "output_type": "stream",
     "text": [
      "\n",
      "100%|██████████| 304/304 [00:00<00:00, 5934.14it/s]\n"
     ]
    },
    {
     "name": "stdout",
     "output_type": "stream",
     "text": [
      "Compute best fits\n",
      "fit_best: 0.0 s (n_proc=1,  NOBJ=1)\n",
      "Fit 0.4 s (n_proc=4, NOBJ=1)\n",
      "Setting meta, id_phot, 0\n",
      "Setting meta, z_best, 8.199822\n",
      "Setting meta, chi2, 7.0643762384046145\n",
      "Setting meta, z16, 8.076909\n",
      "Setting meta, z50, 8.197149\n",
      "Setting meta, z84, 8.314113\n",
      "Setting meta, flux_unit, uJy\n",
      "Setting meta, wave_unit, Angstrom\n",
      "Setting meta, templates_file, /nvme/scratch/work/tharvey/EAZY/inputs/scripts/templates/LarsonTemplates/tweak_fsps_QSF_12_v3_newtemplates.param\n",
      "Setting meta, z_min, 0.01\n",
      "Setting meta, z_max, 20.0\n",
      "Setting meta, z_step, 0.01\n",
      "Setting meta, region, MAG_APER_0.32 arcsec_fsps_larson_0.05__Asada24_cgm\n",
      " added to <HDF5 file \"JOF_psfmatched_2171.h5\" (mode r+)>, interactive_outputs/MAG_APER_0_32 arcsec_fsps_larson_0_05__Asada24_cgm/, eazy_fit\n",
      " added to <HDF5 file \"JOF_psfmatched_2171.h5\" (mode r+)>, interactive_outputs/MAG_APER_0_32 arcsec_fsps_larson_0_05__Asada24_cgm/, p_z\n",
      " added to <HDF5 file \"JOF_psfmatched_2171.h5\" (mode r+)>, interactive_outputs/MAG_APER_0_32 arcsec_fsps_larson_0_05__Asada24_cgm/, input_flux\n",
      " added to <HDF5 file \"JOF_psfmatched_2171.h5\" (mode r+)>, interactive_outputs/MAG_APER_0_32 arcsec_fsps_larson_0_05__Asada24_cgm/, input_flux_err\n",
      "Zeropoint: 23.9\n",
      "{'TEMPLATES_FILE': '/nvme/scratch/work/tharvey/EAZY/inputs/scripts/templates/LarsonTemplates/tweak_fsps_QSF_12_v3_newtemplates.param', 'FILTERS_RES': '/nvme/scratch/work/tharvey/EXPANSE/src/EXPANSE/eazy/jwst_nircam_FILTER.RES', 'MW_EBV': 0, 'CAT_HAS_EXTCORR': False, 'ADD_CGM': True, 'Z_STEP': 0.01, 'Z_MIN': 0.01, 'Z_MAX': 20.0, 'TEMP_ERR_FILE': '/nvme/scratch/work/tharvey/EXPANSE/src/EXPANSE/eazy/TEMPLATE_ERROR.eazy_v1.0', 'TEMP_ERR_A2': 0, 'SYS_ERR': 0, 'APPLY_PRIOR': 'n', 'PRIOR_ABZP': 23.9, 'PRIOR_FILTER': 28, 'PRIOR_FILE': '', 'FIX_ZSPEC': False, 'IGM_SCALE_TAU': 1.0, 'N_MIN_COLORS': 2, 'CATALOG_FILE': '/tmp/tmp0n8j8czx/eazy_input.fits'}\n",
      "Read default param file: /nvme/scratch/software/anaconda3/envs/tharvey_galfind/lib/python3.10/site-packages/eazy/data/zphot.param.default\n",
      "Read CATALOG_FILE: /tmp/tmp0n8j8czx/eazy_input.fits\n",
      "   >>> NOBJ = 1\n",
      "F22 E22 ( 22): hst/ACS_update_sep07/wfc_f435w_t81.dat\n",
      "F23 E23 ( 23): hst/ACS_update_sep07/wfc_f606w_t81.dat\n",
      "F49 E49 ( 49): hst/ACS_update_sep07/wfc_f775w_t81.dat\n",
      "F24 E24 ( 24): hst/ACS_update_sep07/wfc_f814w_t81.dat\n",
      "F50 E50 ( 50): hst/ACS_update_sep07/wfc_f850lp_t81.dat\n",
      "F1 E1 (  1): jwst_nircam_f090w\n",
      "F2 E2 (  2): jwst_nircam_f115w\n",
      "F3 E3 (  3): jwst_nircam_f150w\n",
      "F38 E38 ( 38): jwst_nircam_f162m\n",
      "F39 E39 ( 39): jwst_nircam_f182m\n",
      "F4 E4 (  4): jwst_nircam_f200w\n",
      "F40 E40 ( 40): jwst_nircam_f210m\n",
      "F41 E41 ( 41): jwst_nircam_f250m\n",
      "F5 E5 (  5): jwst_nircam_f277w\n",
      "F42 E42 ( 42): jwst_nircam_f300m\n",
      "F43 E43 ( 43): jwst_nircam_f335m\n",
      "F6 E6 (  6): jwst_nircam_f356w\n",
      "F7 E7 (  7): jwst_nircam_f410m\n",
      "F8 E8 (  8): jwst_nircam_f444w\n",
      "Set sys_err = 0.00 (positive=True)\n",
      "Template grid: /nvme/scratch/work/tharvey/EAZY/inputs/scripts/templates/LarsonTemplates/tweak_fsps_QSF_12_v3_newtemplates.param (this may take some time)\n"
     ]
    },
    {
     "name": "stderr",
     "output_type": "stream",
     "text": [
      "100%|██████████| 18/18 [00:12<00:00,  1.46it/s]\n"
     ]
    },
    {
     "name": "stdout",
     "output_type": "stream",
     "text": [
      "Template   0: fsps_QSF_12_v3_001.dat (NZ=1).\n",
      "Template   1: fsps_QSF_12_v3_002.dat (NZ=1).\n",
      "Template   2: fsps_QSF_12_v3_003.dat (NZ=1).\n",
      "Template   3: fsps_QSF_12_v3_004.dat (NZ=1).\n",
      "Template   4: fsps_QSF_12_v3_005.dat (NZ=1).\n",
      "Template   5: fsps_QSF_12_v3_006.dat (NZ=1).\n",
      "Template   6: fsps_QSF_12_v3_007.dat (NZ=1).\n",
      "Template   7: fsps_QSF_12_v3_008.dat (NZ=1).\n",
      "Template   8: fsps_QSF_12_v3_009.dat (NZ=1).\n",
      "Template   9: fsps_QSF_12_v3_010.dat (NZ=1).\n",
      "Template  10: fsps_QSF_12_v3_011.dat (NZ=1).\n",
      "Template  11: fsps_QSF_12_v3_012.dat (NZ=1).\n",
      "Template  12: binc100z001age6_cloudy.dat (NZ=1).\n",
      "Template  13: binc100z001age65_cloudy.dat (NZ=1).\n",
      "Template  14: binc100z001age7_cloudy.dat (NZ=1).\n",
      "Template  15: binc100z001age6.dat (NZ=1).\n",
      "Template  16: binc100z001age65.dat (NZ=1).\n",
      "Template  17: binc100z001age7.dat (NZ=1).\n",
      "Process templates: 12.766 s\n"
     ]
    },
    {
     "name": "stderr",
     "output_type": "stream",
     "text": [
      "304it [00:00, 24824.65it/s]"
     ]
    },
    {
     "name": "stdout",
     "output_type": "stream",
     "text": [
      "Saving tempfilt to /nvme/scratch/work/tharvey/EXPANSE/src/EXPANSE/eazy/tempfilt/\n"
     ]
    },
    {
     "name": "stderr",
     "output_type": "stream",
     "text": [
      "\n",
      "100%|██████████| 304/304 [00:00<00:00, 5204.59it/s]\n"
     ]
    },
    {
     "name": "stdout",
     "output_type": "stream",
     "text": [
      "Compute best fits\n",
      "fit_best: 0.0 s (n_proc=1,  NOBJ=1)\n",
      "Fit 0.4 s (n_proc=4, NOBJ=1)\n",
      "Setting meta, id_phot, 0\n",
      "Setting meta, z_best, 8.683268\n",
      "Setting meta, chi2, 19.75054433534144\n",
      "Setting meta, z16, 8.552815\n",
      "Setting meta, z50, 8.69432\n",
      "Setting meta, z84, 8.851104\n",
      "Setting meta, flux_unit, uJy\n",
      "Setting meta, wave_unit, Angstrom\n",
      "Setting meta, templates_file, /nvme/scratch/work/tharvey/EAZY/inputs/scripts/templates/LarsonTemplates/tweak_fsps_QSF_12_v3_newtemplates.param\n",
      "Setting meta, z_min, 0.01\n",
      "Setting meta, z_max, 20.0\n",
      "Setting meta, z_step, 0.01\n",
      "Setting meta, region, MAG_APER_0.32 arcsec_fsps_larson_0.05__Asada24_cgm\n",
      " added to <HDF5 file \"JOF_psfmatched_2267.h5\" (mode r+)>, interactive_outputs/MAG_APER_0_32 arcsec_fsps_larson_0_05__Asada24_cgm/, eazy_fit\n",
      " added to <HDF5 file \"JOF_psfmatched_2267.h5\" (mode r+)>, interactive_outputs/MAG_APER_0_32 arcsec_fsps_larson_0_05__Asada24_cgm/, p_z\n",
      " added to <HDF5 file \"JOF_psfmatched_2267.h5\" (mode r+)>, interactive_outputs/MAG_APER_0_32 arcsec_fsps_larson_0_05__Asada24_cgm/, input_flux\n",
      " added to <HDF5 file \"JOF_psfmatched_2267.h5\" (mode r+)>, interactive_outputs/MAG_APER_0_32 arcsec_fsps_larson_0_05__Asada24_cgm/, input_flux_err\n",
      "Zeropoint: 23.9\n",
      "{'TEMPLATES_FILE': '/nvme/scratch/work/tharvey/EAZY/inputs/scripts/templates/LarsonTemplates/tweak_fsps_QSF_12_v3_newtemplates.param', 'FILTERS_RES': '/nvme/scratch/work/tharvey/EXPANSE/src/EXPANSE/eazy/jwst_nircam_FILTER.RES', 'MW_EBV': 0, 'CAT_HAS_EXTCORR': False, 'ADD_CGM': True, 'Z_STEP': 0.01, 'Z_MIN': 0.01, 'Z_MAX': 20.0, 'TEMP_ERR_FILE': '/nvme/scratch/work/tharvey/EXPANSE/src/EXPANSE/eazy/TEMPLATE_ERROR.eazy_v1.0', 'TEMP_ERR_A2': 0, 'SYS_ERR': 0, 'APPLY_PRIOR': 'n', 'PRIOR_ABZP': 23.9, 'PRIOR_FILTER': 28, 'PRIOR_FILE': '', 'FIX_ZSPEC': False, 'IGM_SCALE_TAU': 1.0, 'N_MIN_COLORS': 2, 'CATALOG_FILE': '/tmp/tmpvtp8ydn3/eazy_input.fits'}\n",
      "Read default param file: /nvme/scratch/software/anaconda3/envs/tharvey_galfind/lib/python3.10/site-packages/eazy/data/zphot.param.default\n",
      "Read CATALOG_FILE: /tmp/tmpvtp8ydn3/eazy_input.fits\n",
      "   >>> NOBJ = 1\n",
      "F22 E22 ( 22): hst/ACS_update_sep07/wfc_f435w_t81.dat\n",
      "F23 E23 ( 23): hst/ACS_update_sep07/wfc_f606w_t81.dat\n",
      "F49 E49 ( 49): hst/ACS_update_sep07/wfc_f775w_t81.dat\n",
      "F24 E24 ( 24): hst/ACS_update_sep07/wfc_f814w_t81.dat\n",
      "F50 E50 ( 50): hst/ACS_update_sep07/wfc_f850lp_t81.dat\n",
      "F1 E1 (  1): jwst_nircam_f090w\n",
      "F2 E2 (  2): jwst_nircam_f115w\n",
      "F3 E3 (  3): jwst_nircam_f150w\n",
      "F38 E38 ( 38): jwst_nircam_f162m\n",
      "F39 E39 ( 39): jwst_nircam_f182m\n",
      "F4 E4 (  4): jwst_nircam_f200w\n",
      "F40 E40 ( 40): jwst_nircam_f210m\n",
      "F41 E41 ( 41): jwst_nircam_f250m\n",
      "F5 E5 (  5): jwst_nircam_f277w\n",
      "F42 E42 ( 42): jwst_nircam_f300m\n",
      "F43 E43 ( 43): jwst_nircam_f335m\n",
      "F6 E6 (  6): jwst_nircam_f356w\n",
      "F7 E7 (  7): jwst_nircam_f410m\n",
      "F8 E8 (  8): jwst_nircam_f444w\n",
      "Set sys_err = 0.00 (positive=True)\n",
      "Template grid: /nvme/scratch/work/tharvey/EAZY/inputs/scripts/templates/LarsonTemplates/tweak_fsps_QSF_12_v3_newtemplates.param (this may take some time)\n"
     ]
    },
    {
     "name": "stderr",
     "output_type": "stream",
     "text": [
      "100%|██████████| 18/18 [00:11<00:00,  1.51it/s]\n"
     ]
    },
    {
     "name": "stdout",
     "output_type": "stream",
     "text": [
      "Template   0: fsps_QSF_12_v3_001.dat (NZ=1).\n",
      "Template   1: fsps_QSF_12_v3_002.dat (NZ=1).\n",
      "Template   2: fsps_QSF_12_v3_003.dat (NZ=1).\n",
      "Template   3: fsps_QSF_12_v3_004.dat (NZ=1).\n",
      "Template   4: fsps_QSF_12_v3_005.dat (NZ=1).\n",
      "Template   5: fsps_QSF_12_v3_006.dat (NZ=1).\n",
      "Template   6: fsps_QSF_12_v3_007.dat (NZ=1).\n",
      "Template   7: fsps_QSF_12_v3_008.dat (NZ=1).\n",
      "Template   8: fsps_QSF_12_v3_009.dat (NZ=1).\n",
      "Template   9: fsps_QSF_12_v3_010.dat (NZ=1).\n",
      "Template  10: fsps_QSF_12_v3_011.dat (NZ=1).\n",
      "Template  11: fsps_QSF_12_v3_012.dat (NZ=1).\n",
      "Template  12: binc100z001age6_cloudy.dat (NZ=1).\n",
      "Template  13: binc100z001age65_cloudy.dat (NZ=1).\n",
      "Template  14: binc100z001age7_cloudy.dat (NZ=1).\n",
      "Template  15: binc100z001age6.dat (NZ=1).\n",
      "Template  16: binc100z001age65.dat (NZ=1).\n",
      "Template  17: binc100z001age7.dat (NZ=1).\n",
      "Process templates: 12.393 s\n"
     ]
    },
    {
     "name": "stderr",
     "output_type": "stream",
     "text": [
      "304it [00:00, 27345.55it/s]"
     ]
    },
    {
     "name": "stdout",
     "output_type": "stream",
     "text": [
      "Saving tempfilt to /nvme/scratch/work/tharvey/EXPANSE/src/EXPANSE/eazy/tempfilt/\n"
     ]
    },
    {
     "name": "stderr",
     "output_type": "stream",
     "text": [
      "\n",
      "100%|██████████| 304/304 [00:00<00:00, 5817.74it/s]\n"
     ]
    },
    {
     "name": "stdout",
     "output_type": "stream",
     "text": [
      "Compute best fits\n",
      "fit_best: 0.0 s (n_proc=1,  NOBJ=1)\n",
      "Fit 0.4 s (n_proc=4, NOBJ=1)\n",
      "Setting meta, id_phot, 0\n",
      "Setting meta, z_best, 6.183129\n",
      "Setting meta, chi2, 38.98015164221952\n",
      "Setting meta, z16, 6.120431\n",
      "Setting meta, z50, 6.1875806\n",
      "Setting meta, z84, 6.26749\n",
      "Setting meta, flux_unit, uJy\n",
      "Setting meta, wave_unit, Angstrom\n",
      "Setting meta, templates_file, /nvme/scratch/work/tharvey/EAZY/inputs/scripts/templates/LarsonTemplates/tweak_fsps_QSF_12_v3_newtemplates.param\n",
      "Setting meta, z_min, 0.01\n",
      "Setting meta, z_max, 20.0\n",
      "Setting meta, z_step, 0.01\n",
      "Setting meta, region, MAG_APER_0.32 arcsec_fsps_larson_0.05__Asada24_cgm\n",
      " added to <HDF5 file \"JOF_psfmatched_2393.h5\" (mode r+)>, interactive_outputs/MAG_APER_0_32 arcsec_fsps_larson_0_05__Asada24_cgm/, eazy_fit\n",
      " added to <HDF5 file \"JOF_psfmatched_2393.h5\" (mode r+)>, interactive_outputs/MAG_APER_0_32 arcsec_fsps_larson_0_05__Asada24_cgm/, p_z\n",
      " added to <HDF5 file \"JOF_psfmatched_2393.h5\" (mode r+)>, interactive_outputs/MAG_APER_0_32 arcsec_fsps_larson_0_05__Asada24_cgm/, input_flux\n",
      " added to <HDF5 file \"JOF_psfmatched_2393.h5\" (mode r+)>, interactive_outputs/MAG_APER_0_32 arcsec_fsps_larson_0_05__Asada24_cgm/, input_flux_err\n",
      "Zeropoint: 23.9\n",
      "{'TEMPLATES_FILE': '/nvme/scratch/work/tharvey/EAZY/inputs/scripts/templates/LarsonTemplates/tweak_fsps_QSF_12_v3_newtemplates.param', 'FILTERS_RES': '/nvme/scratch/work/tharvey/EXPANSE/src/EXPANSE/eazy/jwst_nircam_FILTER.RES', 'MW_EBV': 0, 'CAT_HAS_EXTCORR': False, 'ADD_CGM': True, 'Z_STEP': 0.01, 'Z_MIN': 0.01, 'Z_MAX': 20.0, 'TEMP_ERR_FILE': '/nvme/scratch/work/tharvey/EXPANSE/src/EXPANSE/eazy/TEMPLATE_ERROR.eazy_v1.0', 'TEMP_ERR_A2': 0, 'SYS_ERR': 0, 'APPLY_PRIOR': 'n', 'PRIOR_ABZP': 23.9, 'PRIOR_FILTER': 28, 'PRIOR_FILE': '', 'FIX_ZSPEC': False, 'IGM_SCALE_TAU': 1.0, 'N_MIN_COLORS': 2, 'CATALOG_FILE': '/tmp/tmpox8lyf2x/eazy_input.fits'}\n",
      "Read default param file: /nvme/scratch/software/anaconda3/envs/tharvey_galfind/lib/python3.10/site-packages/eazy/data/zphot.param.default\n",
      "Read CATALOG_FILE: /tmp/tmpox8lyf2x/eazy_input.fits\n",
      "   >>> NOBJ = 1\n",
      "F22 E22 ( 22): hst/ACS_update_sep07/wfc_f435w_t81.dat\n",
      "F23 E23 ( 23): hst/ACS_update_sep07/wfc_f606w_t81.dat\n",
      "F49 E49 ( 49): hst/ACS_update_sep07/wfc_f775w_t81.dat\n",
      "F24 E24 ( 24): hst/ACS_update_sep07/wfc_f814w_t81.dat\n",
      "F50 E50 ( 50): hst/ACS_update_sep07/wfc_f850lp_t81.dat\n",
      "F1 E1 (  1): jwst_nircam_f090w\n",
      "F2 E2 (  2): jwst_nircam_f115w\n",
      "F3 E3 (  3): jwst_nircam_f150w\n",
      "F38 E38 ( 38): jwst_nircam_f162m\n",
      "F39 E39 ( 39): jwst_nircam_f182m\n",
      "F4 E4 (  4): jwst_nircam_f200w\n",
      "F40 E40 ( 40): jwst_nircam_f210m\n",
      "F41 E41 ( 41): jwst_nircam_f250m\n",
      "F5 E5 (  5): jwst_nircam_f277w\n",
      "F42 E42 ( 42): jwst_nircam_f300m\n",
      "F43 E43 ( 43): jwst_nircam_f335m\n",
      "F6 E6 (  6): jwst_nircam_f356w\n",
      "F7 E7 (  7): jwst_nircam_f410m\n",
      "F8 E8 (  8): jwst_nircam_f444w\n",
      "Set sys_err = 0.00 (positive=True)\n",
      "Template grid: /nvme/scratch/work/tharvey/EAZY/inputs/scripts/templates/LarsonTemplates/tweak_fsps_QSF_12_v3_newtemplates.param (this may take some time)\n"
     ]
    },
    {
     "name": "stderr",
     "output_type": "stream",
     "text": [
      "100%|██████████| 18/18 [00:12<00:00,  1.48it/s]\n"
     ]
    },
    {
     "name": "stdout",
     "output_type": "stream",
     "text": [
      "Template   0: fsps_QSF_12_v3_001.dat (NZ=1).\n",
      "Template   1: fsps_QSF_12_v3_002.dat (NZ=1).\n",
      "Template   2: fsps_QSF_12_v3_003.dat (NZ=1).\n",
      "Template   3: fsps_QSF_12_v3_004.dat (NZ=1).\n",
      "Template   4: fsps_QSF_12_v3_005.dat (NZ=1).\n",
      "Template   5: fsps_QSF_12_v3_006.dat (NZ=1).\n",
      "Template   6: fsps_QSF_12_v3_007.dat (NZ=1).\n",
      "Template   7: fsps_QSF_12_v3_008.dat (NZ=1).\n",
      "Template   8: fsps_QSF_12_v3_009.dat (NZ=1).\n",
      "Template   9: fsps_QSF_12_v3_010.dat (NZ=1).\n",
      "Template  10: fsps_QSF_12_v3_011.dat (NZ=1).\n",
      "Template  11: fsps_QSF_12_v3_012.dat (NZ=1).\n",
      "Template  12: binc100z001age6_cloudy.dat (NZ=1).\n",
      "Template  13: binc100z001age65_cloudy.dat (NZ=1).\n",
      "Template  14: binc100z001age7_cloudy.dat (NZ=1).\n",
      "Template  15: binc100z001age6.dat (NZ=1).\n",
      "Template  16: binc100z001age65.dat (NZ=1).\n",
      "Template  17: binc100z001age7.dat (NZ=1).\n",
      "Process templates: 12.614 s\n"
     ]
    },
    {
     "name": "stderr",
     "output_type": "stream",
     "text": [
      "304it [00:00, 16554.17it/s]"
     ]
    },
    {
     "name": "stdout",
     "output_type": "stream",
     "text": [
      "Saving tempfilt to /nvme/scratch/work/tharvey/EXPANSE/src/EXPANSE/eazy/tempfilt/\n"
     ]
    },
    {
     "name": "stderr",
     "output_type": "stream",
     "text": [
      "\n",
      "100%|██████████| 304/304 [00:00<00:00, 5641.67it/s]\n"
     ]
    },
    {
     "name": "stdout",
     "output_type": "stream",
     "text": [
      "Compute best fits\n",
      "fit_best: 0.0 s (n_proc=1,  NOBJ=1)\n",
      "Fit 0.4 s (n_proc=4, NOBJ=1)\n",
      "Setting meta, id_phot, 0\n",
      "Setting meta, z_best, 7.967767\n",
      "Setting meta, chi2, 54.283872865789036\n",
      "Setting meta, z16, 7.841169\n",
      "Setting meta, z50, 8.05818\n",
      "Setting meta, z84, 8.308234\n",
      "Setting meta, flux_unit, uJy\n",
      "Setting meta, wave_unit, Angstrom\n",
      "Setting meta, templates_file, /nvme/scratch/work/tharvey/EAZY/inputs/scripts/templates/LarsonTemplates/tweak_fsps_QSF_12_v3_newtemplates.param\n",
      "Setting meta, z_min, 0.01\n",
      "Setting meta, z_max, 20.0\n",
      "Setting meta, z_step, 0.01\n",
      "Setting meta, region, MAG_APER_0.32 arcsec_fsps_larson_0.05__Asada24_cgm\n",
      " added to <HDF5 file \"JOF_psfmatched_2398.h5\" (mode r+)>, interactive_outputs/MAG_APER_0_32 arcsec_fsps_larson_0_05__Asada24_cgm/, eazy_fit\n",
      " added to <HDF5 file \"JOF_psfmatched_2398.h5\" (mode r+)>, interactive_outputs/MAG_APER_0_32 arcsec_fsps_larson_0_05__Asada24_cgm/, p_z\n",
      " added to <HDF5 file \"JOF_psfmatched_2398.h5\" (mode r+)>, interactive_outputs/MAG_APER_0_32 arcsec_fsps_larson_0_05__Asada24_cgm/, input_flux\n",
      " added to <HDF5 file \"JOF_psfmatched_2398.h5\" (mode r+)>, interactive_outputs/MAG_APER_0_32 arcsec_fsps_larson_0_05__Asada24_cgm/, input_flux_err\n",
      "Zeropoint: 23.9\n",
      "{'TEMPLATES_FILE': '/nvme/scratch/work/tharvey/EAZY/inputs/scripts/templates/LarsonTemplates/tweak_fsps_QSF_12_v3_newtemplates.param', 'FILTERS_RES': '/nvme/scratch/work/tharvey/EXPANSE/src/EXPANSE/eazy/jwst_nircam_FILTER.RES', 'MW_EBV': 0, 'CAT_HAS_EXTCORR': False, 'ADD_CGM': True, 'Z_STEP': 0.01, 'Z_MIN': 0.01, 'Z_MAX': 20.0, 'TEMP_ERR_FILE': '/nvme/scratch/work/tharvey/EXPANSE/src/EXPANSE/eazy/TEMPLATE_ERROR.eazy_v1.0', 'TEMP_ERR_A2': 0, 'SYS_ERR': 0, 'APPLY_PRIOR': 'n', 'PRIOR_ABZP': 23.9, 'PRIOR_FILTER': 28, 'PRIOR_FILE': '', 'FIX_ZSPEC': False, 'IGM_SCALE_TAU': 1.0, 'N_MIN_COLORS': 2, 'CATALOG_FILE': '/tmp/tmpuy1esg11/eazy_input.fits'}\n",
      "Read default param file: /nvme/scratch/software/anaconda3/envs/tharvey_galfind/lib/python3.10/site-packages/eazy/data/zphot.param.default\n",
      "Read CATALOG_FILE: /tmp/tmpuy1esg11/eazy_input.fits\n",
      "   >>> NOBJ = 1\n",
      "F22 E22 ( 22): hst/ACS_update_sep07/wfc_f435w_t81.dat\n",
      "F23 E23 ( 23): hst/ACS_update_sep07/wfc_f606w_t81.dat\n",
      "F49 E49 ( 49): hst/ACS_update_sep07/wfc_f775w_t81.dat\n",
      "F24 E24 ( 24): hst/ACS_update_sep07/wfc_f814w_t81.dat\n",
      "F50 E50 ( 50): hst/ACS_update_sep07/wfc_f850lp_t81.dat\n",
      "F1 E1 (  1): jwst_nircam_f090w\n",
      "F2 E2 (  2): jwst_nircam_f115w\n",
      "F3 E3 (  3): jwst_nircam_f150w\n",
      "F38 E38 ( 38): jwst_nircam_f162m\n",
      "F39 E39 ( 39): jwst_nircam_f182m\n",
      "F4 E4 (  4): jwst_nircam_f200w\n",
      "F40 E40 ( 40): jwst_nircam_f210m\n",
      "F41 E41 ( 41): jwst_nircam_f250m\n",
      "F5 E5 (  5): jwst_nircam_f277w\n",
      "F42 E42 ( 42): jwst_nircam_f300m\n",
      "F43 E43 ( 43): jwst_nircam_f335m\n",
      "F6 E6 (  6): jwst_nircam_f356w\n",
      "F7 E7 (  7): jwst_nircam_f410m\n",
      "F8 E8 (  8): jwst_nircam_f444w\n",
      "Set sys_err = 0.00 (positive=True)\n",
      "Template grid: /nvme/scratch/work/tharvey/EAZY/inputs/scripts/templates/LarsonTemplates/tweak_fsps_QSF_12_v3_newtemplates.param (this may take some time)\n"
     ]
    },
    {
     "name": "stderr",
     "output_type": "stream",
     "text": [
      "100%|██████████| 18/18 [00:12<00:00,  1.49it/s]\n"
     ]
    },
    {
     "name": "stdout",
     "output_type": "stream",
     "text": [
      "Template   0: fsps_QSF_12_v3_001.dat (NZ=1).\n",
      "Template   1: fsps_QSF_12_v3_002.dat (NZ=1).\n",
      "Template   2: fsps_QSF_12_v3_003.dat (NZ=1).\n",
      "Template   3: fsps_QSF_12_v3_004.dat (NZ=1).\n",
      "Template   4: fsps_QSF_12_v3_005.dat (NZ=1).\n",
      "Template   5: fsps_QSF_12_v3_006.dat (NZ=1).\n",
      "Template   6: fsps_QSF_12_v3_007.dat (NZ=1).\n",
      "Template   7: fsps_QSF_12_v3_008.dat (NZ=1).\n",
      "Template   8: fsps_QSF_12_v3_009.dat (NZ=1).\n",
      "Template   9: fsps_QSF_12_v3_010.dat (NZ=1).\n",
      "Template  10: fsps_QSF_12_v3_011.dat (NZ=1).\n",
      "Template  11: fsps_QSF_12_v3_012.dat (NZ=1).\n",
      "Template  12: binc100z001age6_cloudy.dat (NZ=1).\n",
      "Template  13: binc100z001age65_cloudy.dat (NZ=1).\n",
      "Template  14: binc100z001age7_cloudy.dat (NZ=1).\n",
      "Template  15: binc100z001age6.dat (NZ=1).\n",
      "Template  16: binc100z001age65.dat (NZ=1).\n",
      "Template  17: binc100z001age7.dat (NZ=1).\n",
      "Process templates: 12.481 s\n"
     ]
    },
    {
     "name": "stderr",
     "output_type": "stream",
     "text": [
      "304it [00:00, 28420.75it/s]"
     ]
    },
    {
     "name": "stdout",
     "output_type": "stream",
     "text": [
      "Saving tempfilt to /nvme/scratch/work/tharvey/EXPANSE/src/EXPANSE/eazy/tempfilt/\n"
     ]
    },
    {
     "name": "stderr",
     "output_type": "stream",
     "text": [
      "\n",
      "100%|██████████| 304/304 [00:00<00:00, 5221.30it/s]\n"
     ]
    },
    {
     "name": "stdout",
     "output_type": "stream",
     "text": [
      "Compute best fits\n",
      "fit_best: 0.0 s (n_proc=1,  NOBJ=1)\n",
      "Fit 0.4 s (n_proc=4, NOBJ=1)\n",
      "Setting meta, id_phot, 0\n",
      "Setting meta, z_best, 6.43609\n",
      "Setting meta, chi2, 17.632205019513734\n",
      "Setting meta, z16, 6.3017077\n",
      "Setting meta, z50, 6.416069\n",
      "Setting meta, z84, 6.513631\n",
      "Setting meta, flux_unit, uJy\n",
      "Setting meta, wave_unit, Angstrom\n",
      "Setting meta, templates_file, /nvme/scratch/work/tharvey/EAZY/inputs/scripts/templates/LarsonTemplates/tweak_fsps_QSF_12_v3_newtemplates.param\n",
      "Setting meta, z_min, 0.01\n",
      "Setting meta, z_max, 20.0\n",
      "Setting meta, z_step, 0.01\n",
      "Setting meta, region, MAG_APER_0.32 arcsec_fsps_larson_0.05__Asada24_cgm\n",
      " added to <HDF5 file \"JOF_psfmatched_2439.h5\" (mode r+)>, interactive_outputs/MAG_APER_0_32 arcsec_fsps_larson_0_05__Asada24_cgm/, eazy_fit\n",
      " added to <HDF5 file \"JOF_psfmatched_2439.h5\" (mode r+)>, interactive_outputs/MAG_APER_0_32 arcsec_fsps_larson_0_05__Asada24_cgm/, p_z\n",
      " added to <HDF5 file \"JOF_psfmatched_2439.h5\" (mode r+)>, interactive_outputs/MAG_APER_0_32 arcsec_fsps_larson_0_05__Asada24_cgm/, input_flux\n",
      " added to <HDF5 file \"JOF_psfmatched_2439.h5\" (mode r+)>, interactive_outputs/MAG_APER_0_32 arcsec_fsps_larson_0_05__Asada24_cgm/, input_flux_err\n",
      "Zeropoint: 23.9\n",
      "{'TEMPLATES_FILE': '/nvme/scratch/work/tharvey/EAZY/inputs/scripts/templates/LarsonTemplates/tweak_fsps_QSF_12_v3_newtemplates.param', 'FILTERS_RES': '/nvme/scratch/work/tharvey/EXPANSE/src/EXPANSE/eazy/jwst_nircam_FILTER.RES', 'MW_EBV': 0, 'CAT_HAS_EXTCORR': False, 'ADD_CGM': True, 'Z_STEP': 0.01, 'Z_MIN': 0.01, 'Z_MAX': 20.0, 'TEMP_ERR_FILE': '/nvme/scratch/work/tharvey/EXPANSE/src/EXPANSE/eazy/TEMPLATE_ERROR.eazy_v1.0', 'TEMP_ERR_A2': 0, 'SYS_ERR': 0, 'APPLY_PRIOR': 'n', 'PRIOR_ABZP': 23.9, 'PRIOR_FILTER': 28, 'PRIOR_FILE': '', 'FIX_ZSPEC': False, 'IGM_SCALE_TAU': 1.0, 'N_MIN_COLORS': 2, 'CATALOG_FILE': '/tmp/tmp_91dr0uh/eazy_input.fits'}\n",
      "Read default param file: /nvme/scratch/software/anaconda3/envs/tharvey_galfind/lib/python3.10/site-packages/eazy/data/zphot.param.default\n",
      "Read CATALOG_FILE: /tmp/tmp_91dr0uh/eazy_input.fits\n",
      "   >>> NOBJ = 1\n",
      "F22 E22 ( 22): hst/ACS_update_sep07/wfc_f435w_t81.dat\n",
      "F23 E23 ( 23): hst/ACS_update_sep07/wfc_f606w_t81.dat\n",
      "F49 E49 ( 49): hst/ACS_update_sep07/wfc_f775w_t81.dat\n",
      "F24 E24 ( 24): hst/ACS_update_sep07/wfc_f814w_t81.dat\n",
      "F50 E50 ( 50): hst/ACS_update_sep07/wfc_f850lp_t81.dat\n",
      "F1 E1 (  1): jwst_nircam_f090w\n",
      "F2 E2 (  2): jwst_nircam_f115w\n",
      "F3 E3 (  3): jwst_nircam_f150w\n",
      "F38 E38 ( 38): jwst_nircam_f162m\n",
      "F39 E39 ( 39): jwst_nircam_f182m\n",
      "F4 E4 (  4): jwst_nircam_f200w\n",
      "F40 E40 ( 40): jwst_nircam_f210m\n",
      "F41 E41 ( 41): jwst_nircam_f250m\n",
      "F5 E5 (  5): jwst_nircam_f277w\n",
      "F42 E42 ( 42): jwst_nircam_f300m\n",
      "F43 E43 ( 43): jwst_nircam_f335m\n",
      "F6 E6 (  6): jwst_nircam_f356w\n",
      "F7 E7 (  7): jwst_nircam_f410m\n",
      "F8 E8 (  8): jwst_nircam_f444w\n",
      "Set sys_err = 0.00 (positive=True)\n",
      "Template grid: /nvme/scratch/work/tharvey/EAZY/inputs/scripts/templates/LarsonTemplates/tweak_fsps_QSF_12_v3_newtemplates.param (this may take some time)\n"
     ]
    },
    {
     "name": "stderr",
     "output_type": "stream",
     "text": [
      "100%|██████████| 18/18 [00:11<00:00,  1.51it/s]\n"
     ]
    },
    {
     "name": "stdout",
     "output_type": "stream",
     "text": [
      "Template   0: fsps_QSF_12_v3_001.dat (NZ=1).\n",
      "Template   1: fsps_QSF_12_v3_002.dat (NZ=1).\n",
      "Template   2: fsps_QSF_12_v3_003.dat (NZ=1).\n",
      "Template   3: fsps_QSF_12_v3_004.dat (NZ=1).\n",
      "Template   4: fsps_QSF_12_v3_005.dat (NZ=1).\n",
      "Template   5: fsps_QSF_12_v3_006.dat (NZ=1).\n",
      "Template   6: fsps_QSF_12_v3_007.dat (NZ=1).\n",
      "Template   7: fsps_QSF_12_v3_008.dat (NZ=1).\n",
      "Template   8: fsps_QSF_12_v3_009.dat (NZ=1).\n",
      "Template   9: fsps_QSF_12_v3_010.dat (NZ=1).\n",
      "Template  10: fsps_QSF_12_v3_011.dat (NZ=1).\n",
      "Template  11: fsps_QSF_12_v3_012.dat (NZ=1).\n",
      "Template  12: binc100z001age6_cloudy.dat (NZ=1).\n",
      "Template  13: binc100z001age65_cloudy.dat (NZ=1).\n",
      "Template  14: binc100z001age7_cloudy.dat (NZ=1).\n",
      "Template  15: binc100z001age6.dat (NZ=1).\n",
      "Template  16: binc100z001age65.dat (NZ=1).\n",
      "Template  17: binc100z001age7.dat (NZ=1).\n",
      "Process templates: 12.373 s\n"
     ]
    },
    {
     "name": "stderr",
     "output_type": "stream",
     "text": [
      "304it [00:00, 21584.26it/s]"
     ]
    },
    {
     "name": "stdout",
     "output_type": "stream",
     "text": [
      "Saving tempfilt to /nvme/scratch/work/tharvey/EXPANSE/src/EXPANSE/eazy/tempfilt/\n"
     ]
    },
    {
     "name": "stderr",
     "output_type": "stream",
     "text": [
      "\n",
      "100%|██████████| 304/304 [00:00<00:00, 4489.05it/s]\n"
     ]
    },
    {
     "name": "stdout",
     "output_type": "stream",
     "text": [
      "Compute best fits\n",
      "fit_best: 0.0 s (n_proc=1,  NOBJ=1)\n",
      "Fit 0.4 s (n_proc=4, NOBJ=1)\n",
      "Setting meta, id_phot, 0\n",
      "Setting meta, z_best, 6.276196\n",
      "Setting meta, chi2, 26.053696706612893\n",
      "Setting meta, z16, 6.249214\n",
      "Setting meta, z50, 6.335472\n",
      "Setting meta, z84, 6.4420915\n",
      "Setting meta, flux_unit, uJy\n",
      "Setting meta, wave_unit, Angstrom\n",
      "Setting meta, templates_file, /nvme/scratch/work/tharvey/EAZY/inputs/scripts/templates/LarsonTemplates/tweak_fsps_QSF_12_v3_newtemplates.param\n",
      "Setting meta, z_min, 0.01\n",
      "Setting meta, z_max, 20.0\n",
      "Setting meta, z_step, 0.01\n",
      "Setting meta, region, MAG_APER_0.32 arcsec_fsps_larson_0.05__Asada24_cgm\n",
      " added to <HDF5 file \"JOF_psfmatched_2478.h5\" (mode r+)>, interactive_outputs/MAG_APER_0_32 arcsec_fsps_larson_0_05__Asada24_cgm/, eazy_fit\n",
      " added to <HDF5 file \"JOF_psfmatched_2478.h5\" (mode r+)>, interactive_outputs/MAG_APER_0_32 arcsec_fsps_larson_0_05__Asada24_cgm/, p_z\n",
      " added to <HDF5 file \"JOF_psfmatched_2478.h5\" (mode r+)>, interactive_outputs/MAG_APER_0_32 arcsec_fsps_larson_0_05__Asada24_cgm/, input_flux\n",
      " added to <HDF5 file \"JOF_psfmatched_2478.h5\" (mode r+)>, interactive_outputs/MAG_APER_0_32 arcsec_fsps_larson_0_05__Asada24_cgm/, input_flux_err\n",
      "Zeropoint: 23.9\n",
      "{'TEMPLATES_FILE': '/nvme/scratch/work/tharvey/EAZY/inputs/scripts/templates/LarsonTemplates/tweak_fsps_QSF_12_v3_newtemplates.param', 'FILTERS_RES': '/nvme/scratch/work/tharvey/EXPANSE/src/EXPANSE/eazy/jwst_nircam_FILTER.RES', 'MW_EBV': 0, 'CAT_HAS_EXTCORR': False, 'ADD_CGM': True, 'Z_STEP': 0.01, 'Z_MIN': 0.01, 'Z_MAX': 20.0, 'TEMP_ERR_FILE': '/nvme/scratch/work/tharvey/EXPANSE/src/EXPANSE/eazy/TEMPLATE_ERROR.eazy_v1.0', 'TEMP_ERR_A2': 0, 'SYS_ERR': 0, 'APPLY_PRIOR': 'n', 'PRIOR_ABZP': 23.9, 'PRIOR_FILTER': 28, 'PRIOR_FILE': '', 'FIX_ZSPEC': False, 'IGM_SCALE_TAU': 1.0, 'N_MIN_COLORS': 2, 'CATALOG_FILE': '/tmp/tmpqiaxnjsr/eazy_input.fits'}\n",
      "Read default param file: /nvme/scratch/software/anaconda3/envs/tharvey_galfind/lib/python3.10/site-packages/eazy/data/zphot.param.default\n",
      "Read CATALOG_FILE: /tmp/tmpqiaxnjsr/eazy_input.fits\n",
      "   >>> NOBJ = 1\n",
      "F22 E22 ( 22): hst/ACS_update_sep07/wfc_f435w_t81.dat\n",
      "F23 E23 ( 23): hst/ACS_update_sep07/wfc_f606w_t81.dat\n",
      "F49 E49 ( 49): hst/ACS_update_sep07/wfc_f775w_t81.dat\n",
      "F24 E24 ( 24): hst/ACS_update_sep07/wfc_f814w_t81.dat\n",
      "F50 E50 ( 50): hst/ACS_update_sep07/wfc_f850lp_t81.dat\n",
      "F1 E1 (  1): jwst_nircam_f090w\n",
      "F2 E2 (  2): jwst_nircam_f115w\n",
      "F3 E3 (  3): jwst_nircam_f150w\n",
      "F38 E38 ( 38): jwst_nircam_f162m\n",
      "F39 E39 ( 39): jwst_nircam_f182m\n",
      "F4 E4 (  4): jwst_nircam_f200w\n",
      "F40 E40 ( 40): jwst_nircam_f210m\n",
      "F41 E41 ( 41): jwst_nircam_f250m\n",
      "F5 E5 (  5): jwst_nircam_f277w\n",
      "F42 E42 ( 42): jwst_nircam_f300m\n",
      "F43 E43 ( 43): jwst_nircam_f335m\n",
      "F6 E6 (  6): jwst_nircam_f356w\n",
      "F7 E7 (  7): jwst_nircam_f410m\n",
      "F8 E8 (  8): jwst_nircam_f444w\n",
      "Set sys_err = 0.00 (positive=True)\n",
      "Template grid: /nvme/scratch/work/tharvey/EAZY/inputs/scripts/templates/LarsonTemplates/tweak_fsps_QSF_12_v3_newtemplates.param (this may take some time)\n"
     ]
    },
    {
     "name": "stderr",
     "output_type": "stream",
     "text": [
      "100%|██████████| 18/18 [00:12<00:00,  1.45it/s]\n"
     ]
    },
    {
     "name": "stdout",
     "output_type": "stream",
     "text": [
      "Template   0: fsps_QSF_12_v3_001.dat (NZ=1).\n",
      "Template   1: fsps_QSF_12_v3_002.dat (NZ=1).\n",
      "Template   2: fsps_QSF_12_v3_003.dat (NZ=1).\n",
      "Template   3: fsps_QSF_12_v3_004.dat (NZ=1).\n",
      "Template   4: fsps_QSF_12_v3_005.dat (NZ=1).\n",
      "Template   5: fsps_QSF_12_v3_006.dat (NZ=1).\n",
      "Template   6: fsps_QSF_12_v3_007.dat (NZ=1).\n",
      "Template   7: fsps_QSF_12_v3_008.dat (NZ=1).\n",
      "Template   8: fsps_QSF_12_v3_009.dat (NZ=1).\n",
      "Template   9: fsps_QSF_12_v3_010.dat (NZ=1).\n",
      "Template  10: fsps_QSF_12_v3_011.dat (NZ=1).\n",
      "Template  11: fsps_QSF_12_v3_012.dat (NZ=1).\n",
      "Template  12: binc100z001age6_cloudy.dat (NZ=1).\n",
      "Template  13: binc100z001age65_cloudy.dat (NZ=1).\n",
      "Template  14: binc100z001age7_cloudy.dat (NZ=1).\n",
      "Template  15: binc100z001age6.dat (NZ=1).\n",
      "Template  16: binc100z001age65.dat (NZ=1).\n",
      "Template  17: binc100z001age7.dat (NZ=1).\n",
      "Process templates: 12.873 s\n"
     ]
    },
    {
     "name": "stderr",
     "output_type": "stream",
     "text": [
      "304it [00:00, 27270.69it/s]"
     ]
    },
    {
     "name": "stdout",
     "output_type": "stream",
     "text": [
      "Saving tempfilt to /nvme/scratch/work/tharvey/EXPANSE/src/EXPANSE/eazy/tempfilt/\n"
     ]
    },
    {
     "name": "stderr",
     "output_type": "stream",
     "text": [
      "\n",
      "100%|██████████| 304/304 [00:00<00:00, 5445.52it/s]\n"
     ]
    },
    {
     "name": "stdout",
     "output_type": "stream",
     "text": [
      "Compute best fits\n",
      "fit_best: 0.0 s (n_proc=1,  NOBJ=1)\n",
      "Fit 0.4 s (n_proc=4, NOBJ=1)\n",
      "Setting meta, id_phot, 0\n",
      "Setting meta, z_best, 6.1119933\n",
      "Setting meta, chi2, 16.511519118022143\n",
      "Setting meta, z16, 5.979069\n",
      "Setting meta, z50, 6.1025696\n",
      "Setting meta, z84, 6.21362\n",
      "Setting meta, flux_unit, uJy\n",
      "Setting meta, wave_unit, Angstrom\n",
      "Setting meta, templates_file, /nvme/scratch/work/tharvey/EAZY/inputs/scripts/templates/LarsonTemplates/tweak_fsps_QSF_12_v3_newtemplates.param\n",
      "Setting meta, z_min, 0.01\n",
      "Setting meta, z_max, 20.0\n",
      "Setting meta, z_step, 0.01\n",
      "Setting meta, region, MAG_APER_0.32 arcsec_fsps_larson_0.05__Asada24_cgm\n",
      " added to <HDF5 file \"JOF_psfmatched_2491.h5\" (mode r+)>, interactive_outputs/MAG_APER_0_32 arcsec_fsps_larson_0_05__Asada24_cgm/, eazy_fit\n",
      " added to <HDF5 file \"JOF_psfmatched_2491.h5\" (mode r+)>, interactive_outputs/MAG_APER_0_32 arcsec_fsps_larson_0_05__Asada24_cgm/, p_z\n",
      " added to <HDF5 file \"JOF_psfmatched_2491.h5\" (mode r+)>, interactive_outputs/MAG_APER_0_32 arcsec_fsps_larson_0_05__Asada24_cgm/, input_flux\n",
      " added to <HDF5 file \"JOF_psfmatched_2491.h5\" (mode r+)>, interactive_outputs/MAG_APER_0_32 arcsec_fsps_larson_0_05__Asada24_cgm/, input_flux_err\n",
      "Zeropoint: 23.9\n",
      "{'TEMPLATES_FILE': '/nvme/scratch/work/tharvey/EAZY/inputs/scripts/templates/LarsonTemplates/tweak_fsps_QSF_12_v3_newtemplates.param', 'FILTERS_RES': '/nvme/scratch/work/tharvey/EXPANSE/src/EXPANSE/eazy/jwst_nircam_FILTER.RES', 'MW_EBV': 0, 'CAT_HAS_EXTCORR': False, 'ADD_CGM': True, 'Z_STEP': 0.01, 'Z_MIN': 0.01, 'Z_MAX': 20.0, 'TEMP_ERR_FILE': '/nvme/scratch/work/tharvey/EXPANSE/src/EXPANSE/eazy/TEMPLATE_ERROR.eazy_v1.0', 'TEMP_ERR_A2': 0, 'SYS_ERR': 0, 'APPLY_PRIOR': 'n', 'PRIOR_ABZP': 23.9, 'PRIOR_FILTER': 28, 'PRIOR_FILE': '', 'FIX_ZSPEC': False, 'IGM_SCALE_TAU': 1.0, 'N_MIN_COLORS': 2, 'CATALOG_FILE': '/tmp/tmpw2cki867/eazy_input.fits'}\n",
      "Read default param file: /nvme/scratch/software/anaconda3/envs/tharvey_galfind/lib/python3.10/site-packages/eazy/data/zphot.param.default\n",
      "Read CATALOG_FILE: /tmp/tmpw2cki867/eazy_input.fits\n",
      "   >>> NOBJ = 1\n",
      "F22 E22 ( 22): hst/ACS_update_sep07/wfc_f435w_t81.dat\n",
      "F23 E23 ( 23): hst/ACS_update_sep07/wfc_f606w_t81.dat\n",
      "F49 E49 ( 49): hst/ACS_update_sep07/wfc_f775w_t81.dat\n",
      "F24 E24 ( 24): hst/ACS_update_sep07/wfc_f814w_t81.dat\n",
      "F50 E50 ( 50): hst/ACS_update_sep07/wfc_f850lp_t81.dat\n",
      "F1 E1 (  1): jwst_nircam_f090w\n",
      "F2 E2 (  2): jwst_nircam_f115w\n",
      "F3 E3 (  3): jwst_nircam_f150w\n",
      "F38 E38 ( 38): jwst_nircam_f162m\n",
      "F39 E39 ( 39): jwst_nircam_f182m\n",
      "F4 E4 (  4): jwst_nircam_f200w\n",
      "F40 E40 ( 40): jwst_nircam_f210m\n",
      "F41 E41 ( 41): jwst_nircam_f250m\n",
      "F5 E5 (  5): jwst_nircam_f277w\n",
      "F42 E42 ( 42): jwst_nircam_f300m\n",
      "F43 E43 ( 43): jwst_nircam_f335m\n",
      "F6 E6 (  6): jwst_nircam_f356w\n",
      "F7 E7 (  7): jwst_nircam_f410m\n",
      "F8 E8 (  8): jwst_nircam_f444w\n",
      "Set sys_err = 0.00 (positive=True)\n",
      "Template grid: /nvme/scratch/work/tharvey/EAZY/inputs/scripts/templates/LarsonTemplates/tweak_fsps_QSF_12_v3_newtemplates.param (this may take some time)\n"
     ]
    },
    {
     "name": "stderr",
     "output_type": "stream",
     "text": [
      "100%|██████████| 18/18 [00:11<00:00,  1.54it/s]\n"
     ]
    },
    {
     "name": "stdout",
     "output_type": "stream",
     "text": [
      "Template   0: fsps_QSF_12_v3_001.dat (NZ=1).\n",
      "Template   1: fsps_QSF_12_v3_002.dat (NZ=1).\n",
      "Template   2: fsps_QSF_12_v3_003.dat (NZ=1).\n",
      "Template   3: fsps_QSF_12_v3_004.dat (NZ=1).\n",
      "Template   4: fsps_QSF_12_v3_005.dat (NZ=1).\n",
      "Template   5: fsps_QSF_12_v3_006.dat (NZ=1).\n",
      "Template   6: fsps_QSF_12_v3_007.dat (NZ=1).\n",
      "Template   7: fsps_QSF_12_v3_008.dat (NZ=1).\n",
      "Template   8: fsps_QSF_12_v3_009.dat (NZ=1).\n",
      "Template   9: fsps_QSF_12_v3_010.dat (NZ=1).\n",
      "Template  10: fsps_QSF_12_v3_011.dat (NZ=1).\n",
      "Template  11: fsps_QSF_12_v3_012.dat (NZ=1).\n",
      "Template  12: binc100z001age6_cloudy.dat (NZ=1).\n",
      "Template  13: binc100z001age65_cloudy.dat (NZ=1).\n",
      "Template  14: binc100z001age7_cloudy.dat (NZ=1).\n",
      "Template  15: binc100z001age6.dat (NZ=1).\n",
      "Template  16: binc100z001age65.dat (NZ=1).\n",
      "Template  17: binc100z001age7.dat (NZ=1).\n",
      "Process templates: 12.117 s\n"
     ]
    },
    {
     "name": "stderr",
     "output_type": "stream",
     "text": [
      "304it [00:00, 23759.78it/s]"
     ]
    },
    {
     "name": "stdout",
     "output_type": "stream",
     "text": [
      "Saving tempfilt to /nvme/scratch/work/tharvey/EXPANSE/src/EXPANSE/eazy/tempfilt/\n"
     ]
    },
    {
     "name": "stderr",
     "output_type": "stream",
     "text": [
      "\n",
      "100%|██████████| 304/304 [00:00<00:00, 4931.25it/s]\n"
     ]
    },
    {
     "name": "stdout",
     "output_type": "stream",
     "text": [
      "Compute best fits\n",
      "fit_best: 0.0 s (n_proc=1,  NOBJ=1)\n",
      "Fit 0.4 s (n_proc=4, NOBJ=1)\n",
      "Setting meta, id_phot, 0\n",
      "Setting meta, z_best, 6.343503\n",
      "Setting meta, chi2, 52.72475950121871\n",
      "Setting meta, z16, 6.201222\n",
      "Setting meta, z50, 6.3389096\n",
      "Setting meta, z84, 6.4678497\n",
      "Setting meta, flux_unit, uJy\n",
      "Setting meta, wave_unit, Angstrom\n",
      "Setting meta, templates_file, /nvme/scratch/work/tharvey/EAZY/inputs/scripts/templates/LarsonTemplates/tweak_fsps_QSF_12_v3_newtemplates.param\n",
      "Setting meta, z_min, 0.01\n",
      "Setting meta, z_max, 20.0\n",
      "Setting meta, z_step, 0.01\n",
      "Setting meta, region, MAG_APER_0.32 arcsec_fsps_larson_0.05__Asada24_cgm\n",
      " added to <HDF5 file \"JOF_psfmatched_2521.h5\" (mode r+)>, interactive_outputs/MAG_APER_0_32 arcsec_fsps_larson_0_05__Asada24_cgm/, eazy_fit\n",
      " added to <HDF5 file \"JOF_psfmatched_2521.h5\" (mode r+)>, interactive_outputs/MAG_APER_0_32 arcsec_fsps_larson_0_05__Asada24_cgm/, p_z\n",
      " added to <HDF5 file \"JOF_psfmatched_2521.h5\" (mode r+)>, interactive_outputs/MAG_APER_0_32 arcsec_fsps_larson_0_05__Asada24_cgm/, input_flux\n",
      " added to <HDF5 file \"JOF_psfmatched_2521.h5\" (mode r+)>, interactive_outputs/MAG_APER_0_32 arcsec_fsps_larson_0_05__Asada24_cgm/, input_flux_err\n",
      "Zeropoint: 23.9\n",
      "{'TEMPLATES_FILE': '/nvme/scratch/work/tharvey/EAZY/inputs/scripts/templates/LarsonTemplates/tweak_fsps_QSF_12_v3_newtemplates.param', 'FILTERS_RES': '/nvme/scratch/work/tharvey/EXPANSE/src/EXPANSE/eazy/jwst_nircam_FILTER.RES', 'MW_EBV': 0, 'CAT_HAS_EXTCORR': False, 'ADD_CGM': True, 'Z_STEP': 0.01, 'Z_MIN': 0.01, 'Z_MAX': 20.0, 'TEMP_ERR_FILE': '/nvme/scratch/work/tharvey/EXPANSE/src/EXPANSE/eazy/TEMPLATE_ERROR.eazy_v1.0', 'TEMP_ERR_A2': 0, 'SYS_ERR': 0, 'APPLY_PRIOR': 'n', 'PRIOR_ABZP': 23.9, 'PRIOR_FILTER': 28, 'PRIOR_FILE': '', 'FIX_ZSPEC': False, 'IGM_SCALE_TAU': 1.0, 'N_MIN_COLORS': 2, 'CATALOG_FILE': '/tmp/tmpn8a41lp9/eazy_input.fits'}\n",
      "Read default param file: /nvme/scratch/software/anaconda3/envs/tharvey_galfind/lib/python3.10/site-packages/eazy/data/zphot.param.default\n",
      "Read CATALOG_FILE: /tmp/tmpn8a41lp9/eazy_input.fits\n",
      "   >>> NOBJ = 1\n",
      "F22 E22 ( 22): hst/ACS_update_sep07/wfc_f435w_t81.dat\n",
      "F23 E23 ( 23): hst/ACS_update_sep07/wfc_f606w_t81.dat\n",
      "F49 E49 ( 49): hst/ACS_update_sep07/wfc_f775w_t81.dat\n",
      "F24 E24 ( 24): hst/ACS_update_sep07/wfc_f814w_t81.dat\n",
      "F50 E50 ( 50): hst/ACS_update_sep07/wfc_f850lp_t81.dat\n",
      "F1 E1 (  1): jwst_nircam_f090w\n",
      "F2 E2 (  2): jwst_nircam_f115w\n",
      "F3 E3 (  3): jwst_nircam_f150w\n",
      "F38 E38 ( 38): jwst_nircam_f162m\n",
      "F39 E39 ( 39): jwst_nircam_f182m\n",
      "F4 E4 (  4): jwst_nircam_f200w\n",
      "F40 E40 ( 40): jwst_nircam_f210m\n",
      "F41 E41 ( 41): jwst_nircam_f250m\n",
      "F5 E5 (  5): jwst_nircam_f277w\n",
      "F42 E42 ( 42): jwst_nircam_f300m\n",
      "F43 E43 ( 43): jwst_nircam_f335m\n",
      "F6 E6 (  6): jwst_nircam_f356w\n",
      "F7 E7 (  7): jwst_nircam_f410m\n",
      "F8 E8 (  8): jwst_nircam_f444w\n",
      "Set sys_err = 0.00 (positive=True)\n",
      "Template grid: /nvme/scratch/work/tharvey/EAZY/inputs/scripts/templates/LarsonTemplates/tweak_fsps_QSF_12_v3_newtemplates.param (this may take some time)\n"
     ]
    },
    {
     "name": "stderr",
     "output_type": "stream",
     "text": [
      "100%|██████████| 18/18 [00:11<00:00,  1.50it/s]\n"
     ]
    },
    {
     "name": "stdout",
     "output_type": "stream",
     "text": [
      "Template   0: fsps_QSF_12_v3_001.dat (NZ=1).\n",
      "Template   1: fsps_QSF_12_v3_002.dat (NZ=1).\n",
      "Template   2: fsps_QSF_12_v3_003.dat (NZ=1).\n",
      "Template   3: fsps_QSF_12_v3_004.dat (NZ=1).\n",
      "Template   4: fsps_QSF_12_v3_005.dat (NZ=1).\n",
      "Template   5: fsps_QSF_12_v3_006.dat (NZ=1).\n",
      "Template   6: fsps_QSF_12_v3_007.dat (NZ=1).\n",
      "Template   7: fsps_QSF_12_v3_008.dat (NZ=1).\n",
      "Template   8: fsps_QSF_12_v3_009.dat (NZ=1).\n",
      "Template   9: fsps_QSF_12_v3_010.dat (NZ=1).\n",
      "Template  10: fsps_QSF_12_v3_011.dat (NZ=1).\n",
      "Template  11: fsps_QSF_12_v3_012.dat (NZ=1).\n",
      "Template  12: binc100z001age6_cloudy.dat (NZ=1).\n",
      "Template  13: binc100z001age65_cloudy.dat (NZ=1).\n",
      "Template  14: binc100z001age7_cloudy.dat (NZ=1).\n",
      "Template  15: binc100z001age6.dat (NZ=1).\n",
      "Template  16: binc100z001age65.dat (NZ=1).\n",
      "Template  17: binc100z001age7.dat (NZ=1).\n",
      "Process templates: 12.418 s\n"
     ]
    },
    {
     "name": "stderr",
     "output_type": "stream",
     "text": [
      "304it [00:00, 27985.35it/s]"
     ]
    },
    {
     "name": "stdout",
     "output_type": "stream",
     "text": [
      "Saving tempfilt to /nvme/scratch/work/tharvey/EXPANSE/src/EXPANSE/eazy/tempfilt/\n"
     ]
    },
    {
     "name": "stderr",
     "output_type": "stream",
     "text": [
      "\n",
      "100%|██████████| 304/304 [00:00<00:00, 5481.93it/s]\n"
     ]
    },
    {
     "name": "stdout",
     "output_type": "stream",
     "text": [
      "Compute best fits\n",
      "fit_best: 0.0 s (n_proc=1,  NOBJ=1)\n",
      "Fit 0.4 s (n_proc=4, NOBJ=1)\n",
      "Setting meta, id_phot, 0\n",
      "Setting meta, z_best, 4.604181\n",
      "Setting meta, chi2, 52.84947181068292\n",
      "Setting meta, z16, 4.5681334\n",
      "Setting meta, z50, 4.604034\n",
      "Setting meta, z84, 4.63664\n",
      "Setting meta, flux_unit, uJy\n",
      "Setting meta, wave_unit, Angstrom\n",
      "Setting meta, templates_file, /nvme/scratch/work/tharvey/EAZY/inputs/scripts/templates/LarsonTemplates/tweak_fsps_QSF_12_v3_newtemplates.param\n",
      "Setting meta, z_min, 0.01\n",
      "Setting meta, z_max, 20.0\n",
      "Setting meta, z_step, 0.01\n",
      "Setting meta, region, MAG_APER_0.32 arcsec_fsps_larson_0.05__Asada24_cgm\n",
      " added to <HDF5 file \"JOF_psfmatched_2643.h5\" (mode r+)>, interactive_outputs/MAG_APER_0_32 arcsec_fsps_larson_0_05__Asada24_cgm/, eazy_fit\n",
      " added to <HDF5 file \"JOF_psfmatched_2643.h5\" (mode r+)>, interactive_outputs/MAG_APER_0_32 arcsec_fsps_larson_0_05__Asada24_cgm/, p_z\n",
      " added to <HDF5 file \"JOF_psfmatched_2643.h5\" (mode r+)>, interactive_outputs/MAG_APER_0_32 arcsec_fsps_larson_0_05__Asada24_cgm/, input_flux\n",
      " added to <HDF5 file \"JOF_psfmatched_2643.h5\" (mode r+)>, interactive_outputs/MAG_APER_0_32 arcsec_fsps_larson_0_05__Asada24_cgm/, input_flux_err\n",
      "Zeropoint: 23.9\n",
      "{'TEMPLATES_FILE': '/nvme/scratch/work/tharvey/EAZY/inputs/scripts/templates/LarsonTemplates/tweak_fsps_QSF_12_v3_newtemplates.param', 'FILTERS_RES': '/nvme/scratch/work/tharvey/EXPANSE/src/EXPANSE/eazy/jwst_nircam_FILTER.RES', 'MW_EBV': 0, 'CAT_HAS_EXTCORR': False, 'ADD_CGM': True, 'Z_STEP': 0.01, 'Z_MIN': 0.01, 'Z_MAX': 20.0, 'TEMP_ERR_FILE': '/nvme/scratch/work/tharvey/EXPANSE/src/EXPANSE/eazy/TEMPLATE_ERROR.eazy_v1.0', 'TEMP_ERR_A2': 0, 'SYS_ERR': 0, 'APPLY_PRIOR': 'n', 'PRIOR_ABZP': 23.9, 'PRIOR_FILTER': 28, 'PRIOR_FILE': '', 'FIX_ZSPEC': False, 'IGM_SCALE_TAU': 1.0, 'N_MIN_COLORS': 2, 'CATALOG_FILE': '/tmp/tmp41qu5iu9/eazy_input.fits'}\n",
      "Read default param file: /nvme/scratch/software/anaconda3/envs/tharvey_galfind/lib/python3.10/site-packages/eazy/data/zphot.param.default\n",
      "Read CATALOG_FILE: /tmp/tmp41qu5iu9/eazy_input.fits\n",
      "   >>> NOBJ = 1\n",
      "F22 E22 ( 22): hst/ACS_update_sep07/wfc_f435w_t81.dat\n",
      "F23 E23 ( 23): hst/ACS_update_sep07/wfc_f606w_t81.dat\n",
      "F49 E49 ( 49): hst/ACS_update_sep07/wfc_f775w_t81.dat\n",
      "F24 E24 ( 24): hst/ACS_update_sep07/wfc_f814w_t81.dat\n",
      "F50 E50 ( 50): hst/ACS_update_sep07/wfc_f850lp_t81.dat\n",
      "F1 E1 (  1): jwst_nircam_f090w\n",
      "F2 E2 (  2): jwst_nircam_f115w\n",
      "F3 E3 (  3): jwst_nircam_f150w\n",
      "F38 E38 ( 38): jwst_nircam_f162m\n",
      "F39 E39 ( 39): jwst_nircam_f182m\n",
      "F4 E4 (  4): jwst_nircam_f200w\n",
      "F40 E40 ( 40): jwst_nircam_f210m\n",
      "F41 E41 ( 41): jwst_nircam_f250m\n",
      "F5 E5 (  5): jwst_nircam_f277w\n",
      "F42 E42 ( 42): jwst_nircam_f300m\n",
      "F43 E43 ( 43): jwst_nircam_f335m\n",
      "F6 E6 (  6): jwst_nircam_f356w\n",
      "F7 E7 (  7): jwst_nircam_f410m\n",
      "F8 E8 (  8): jwst_nircam_f444w\n",
      "Set sys_err = 0.00 (positive=True)\n",
      "Template grid: /nvme/scratch/work/tharvey/EAZY/inputs/scripts/templates/LarsonTemplates/tweak_fsps_QSF_12_v3_newtemplates.param (this may take some time)\n"
     ]
    },
    {
     "name": "stderr",
     "output_type": "stream",
     "text": [
      "100%|██████████| 18/18 [00:12<00:00,  1.50it/s]\n"
     ]
    },
    {
     "name": "stdout",
     "output_type": "stream",
     "text": [
      "Template   0: fsps_QSF_12_v3_001.dat (NZ=1).\n",
      "Template   1: fsps_QSF_12_v3_002.dat (NZ=1).\n",
      "Template   2: fsps_QSF_12_v3_003.dat (NZ=1).\n",
      "Template   3: fsps_QSF_12_v3_004.dat (NZ=1).\n",
      "Template   4: fsps_QSF_12_v3_005.dat (NZ=1).\n",
      "Template   5: fsps_QSF_12_v3_006.dat (NZ=1).\n",
      "Template   6: fsps_QSF_12_v3_007.dat (NZ=1).\n",
      "Template   7: fsps_QSF_12_v3_008.dat (NZ=1).\n",
      "Template   8: fsps_QSF_12_v3_009.dat (NZ=1).\n",
      "Template   9: fsps_QSF_12_v3_010.dat (NZ=1).\n",
      "Template  10: fsps_QSF_12_v3_011.dat (NZ=1).\n",
      "Template  11: fsps_QSF_12_v3_012.dat (NZ=1).\n",
      "Template  12: binc100z001age6_cloudy.dat (NZ=1).\n",
      "Template  13: binc100z001age65_cloudy.dat (NZ=1).\n",
      "Template  14: binc100z001age7_cloudy.dat (NZ=1).\n",
      "Template  15: binc100z001age6.dat (NZ=1).\n",
      "Template  16: binc100z001age65.dat (NZ=1).\n",
      "Template  17: binc100z001age7.dat (NZ=1).\n",
      "Process templates: 12.477 s\n"
     ]
    },
    {
     "name": "stderr",
     "output_type": "stream",
     "text": [
      "304it [00:00, 26465.78it/s]"
     ]
    },
    {
     "name": "stdout",
     "output_type": "stream",
     "text": [
      "Saving tempfilt to /nvme/scratch/work/tharvey/EXPANSE/src/EXPANSE/eazy/tempfilt/\n"
     ]
    },
    {
     "name": "stderr",
     "output_type": "stream",
     "text": [
      "\n",
      "100%|██████████| 304/304 [00:00<00:00, 5548.99it/s]\n"
     ]
    },
    {
     "name": "stdout",
     "output_type": "stream",
     "text": [
      "Compute best fits\n",
      "fit_best: 0.0 s (n_proc=1,  NOBJ=1)\n",
      "Fit 0.4 s (n_proc=4, NOBJ=1)\n",
      "Setting meta, id_phot, 0\n",
      "Setting meta, z_best, 5.9096518\n",
      "Setting meta, chi2, 39.42768091049797\n",
      "Setting meta, z16, 5.818063\n",
      "Setting meta, z50, 5.903234\n",
      "Setting meta, z84, 5.9674463\n",
      "Setting meta, flux_unit, uJy\n",
      "Setting meta, wave_unit, Angstrom\n",
      "Setting meta, templates_file, /nvme/scratch/work/tharvey/EAZY/inputs/scripts/templates/LarsonTemplates/tweak_fsps_QSF_12_v3_newtemplates.param\n",
      "Setting meta, z_min, 0.01\n",
      "Setting meta, z_max, 20.0\n",
      "Setting meta, z_step, 0.01\n",
      "Setting meta, region, MAG_APER_0.32 arcsec_fsps_larson_0.05__Asada24_cgm\n",
      " added to <HDF5 file \"JOF_psfmatched_2749.h5\" (mode r+)>, interactive_outputs/MAG_APER_0_32 arcsec_fsps_larson_0_05__Asada24_cgm/, eazy_fit\n",
      " added to <HDF5 file \"JOF_psfmatched_2749.h5\" (mode r+)>, interactive_outputs/MAG_APER_0_32 arcsec_fsps_larson_0_05__Asada24_cgm/, p_z\n",
      " added to <HDF5 file \"JOF_psfmatched_2749.h5\" (mode r+)>, interactive_outputs/MAG_APER_0_32 arcsec_fsps_larson_0_05__Asada24_cgm/, input_flux\n",
      " added to <HDF5 file \"JOF_psfmatched_2749.h5\" (mode r+)>, interactive_outputs/MAG_APER_0_32 arcsec_fsps_larson_0_05__Asada24_cgm/, input_flux_err\n",
      "Zeropoint: 23.9\n",
      "{'TEMPLATES_FILE': '/nvme/scratch/work/tharvey/EAZY/inputs/scripts/templates/LarsonTemplates/tweak_fsps_QSF_12_v3_newtemplates.param', 'FILTERS_RES': '/nvme/scratch/work/tharvey/EXPANSE/src/EXPANSE/eazy/jwst_nircam_FILTER.RES', 'MW_EBV': 0, 'CAT_HAS_EXTCORR': False, 'ADD_CGM': True, 'Z_STEP': 0.01, 'Z_MIN': 0.01, 'Z_MAX': 20.0, 'TEMP_ERR_FILE': '/nvme/scratch/work/tharvey/EXPANSE/src/EXPANSE/eazy/TEMPLATE_ERROR.eazy_v1.0', 'TEMP_ERR_A2': 0, 'SYS_ERR': 0, 'APPLY_PRIOR': 'n', 'PRIOR_ABZP': 23.9, 'PRIOR_FILTER': 28, 'PRIOR_FILE': '', 'FIX_ZSPEC': False, 'IGM_SCALE_TAU': 1.0, 'N_MIN_COLORS': 2, 'CATALOG_FILE': '/tmp/tmpwwj6r9uc/eazy_input.fits'}\n",
      "Read default param file: /nvme/scratch/software/anaconda3/envs/tharvey_galfind/lib/python3.10/site-packages/eazy/data/zphot.param.default\n",
      "Read CATALOG_FILE: /tmp/tmpwwj6r9uc/eazy_input.fits\n",
      "   >>> NOBJ = 1\n",
      "F22 E22 ( 22): hst/ACS_update_sep07/wfc_f435w_t81.dat\n",
      "F23 E23 ( 23): hst/ACS_update_sep07/wfc_f606w_t81.dat\n",
      "F49 E49 ( 49): hst/ACS_update_sep07/wfc_f775w_t81.dat\n",
      "F24 E24 ( 24): hst/ACS_update_sep07/wfc_f814w_t81.dat\n",
      "F50 E50 ( 50): hst/ACS_update_sep07/wfc_f850lp_t81.dat\n",
      "F1 E1 (  1): jwst_nircam_f090w\n",
      "F2 E2 (  2): jwst_nircam_f115w\n",
      "F3 E3 (  3): jwst_nircam_f150w\n",
      "F38 E38 ( 38): jwst_nircam_f162m\n",
      "F39 E39 ( 39): jwst_nircam_f182m\n",
      "F4 E4 (  4): jwst_nircam_f200w\n",
      "F40 E40 ( 40): jwst_nircam_f210m\n",
      "F41 E41 ( 41): jwst_nircam_f250m\n",
      "F5 E5 (  5): jwst_nircam_f277w\n",
      "F42 E42 ( 42): jwst_nircam_f300m\n",
      "F43 E43 ( 43): jwst_nircam_f335m\n",
      "F6 E6 (  6): jwst_nircam_f356w\n",
      "F7 E7 (  7): jwst_nircam_f410m\n",
      "F8 E8 (  8): jwst_nircam_f444w\n",
      "Set sys_err = 0.00 (positive=True)\n",
      "Template grid: /nvme/scratch/work/tharvey/EAZY/inputs/scripts/templates/LarsonTemplates/tweak_fsps_QSF_12_v3_newtemplates.param (this may take some time)\n"
     ]
    },
    {
     "name": "stderr",
     "output_type": "stream",
     "text": [
      "100%|██████████| 18/18 [00:12<00:00,  1.46it/s]\n"
     ]
    },
    {
     "name": "stdout",
     "output_type": "stream",
     "text": [
      "Template   0: fsps_QSF_12_v3_001.dat (NZ=1).\n",
      "Template   1: fsps_QSF_12_v3_002.dat (NZ=1).\n",
      "Template   2: fsps_QSF_12_v3_003.dat (NZ=1).\n",
      "Template   3: fsps_QSF_12_v3_004.dat (NZ=1).\n",
      "Template   4: fsps_QSF_12_v3_005.dat (NZ=1).\n",
      "Template   5: fsps_QSF_12_v3_006.dat (NZ=1).\n",
      "Template   6: fsps_QSF_12_v3_007.dat (NZ=1).\n",
      "Template   7: fsps_QSF_12_v3_008.dat (NZ=1).\n",
      "Template   8: fsps_QSF_12_v3_009.dat (NZ=1).\n",
      "Template   9: fsps_QSF_12_v3_010.dat (NZ=1).\n",
      "Template  10: fsps_QSF_12_v3_011.dat (NZ=1).\n",
      "Template  11: fsps_QSF_12_v3_012.dat (NZ=1).\n",
      "Template  12: binc100z001age6_cloudy.dat (NZ=1).\n",
      "Template  13: binc100z001age65_cloudy.dat (NZ=1).\n",
      "Template  14: binc100z001age7_cloudy.dat (NZ=1).\n",
      "Template  15: binc100z001age6.dat (NZ=1).\n",
      "Template  16: binc100z001age65.dat (NZ=1).\n",
      "Template  17: binc100z001age7.dat (NZ=1).\n",
      "Process templates: 12.752 s\n"
     ]
    },
    {
     "name": "stderr",
     "output_type": "stream",
     "text": [
      "304it [00:00, 18229.33it/s]"
     ]
    },
    {
     "name": "stdout",
     "output_type": "stream",
     "text": [
      "Saving tempfilt to /nvme/scratch/work/tharvey/EXPANSE/src/EXPANSE/eazy/tempfilt/\n"
     ]
    },
    {
     "name": "stderr",
     "output_type": "stream",
     "text": [
      "\n",
      "100%|██████████| 304/304 [00:00<00:00, 5270.14it/s]\n"
     ]
    },
    {
     "name": "stdout",
     "output_type": "stream",
     "text": [
      "Compute best fits\n",
      "fit_best: 0.0 s (n_proc=1,  NOBJ=1)\n",
      "Fit 0.4 s (n_proc=4, NOBJ=1)\n",
      "Setting meta, id_phot, 0\n",
      "Setting meta, z_best, 6.131784\n",
      "Setting meta, chi2, 14.490203823664196\n",
      "Setting meta, z16, 6.1057754\n",
      "Setting meta, z50, 6.1333833\n",
      "Setting meta, z84, 6.168112\n",
      "Setting meta, flux_unit, uJy\n",
      "Setting meta, wave_unit, Angstrom\n",
      "Setting meta, templates_file, /nvme/scratch/work/tharvey/EAZY/inputs/scripts/templates/LarsonTemplates/tweak_fsps_QSF_12_v3_newtemplates.param\n",
      "Setting meta, z_min, 0.01\n",
      "Setting meta, z_max, 20.0\n",
      "Setting meta, z_step, 0.01\n",
      "Setting meta, region, MAG_APER_0.32 arcsec_fsps_larson_0.05__Asada24_cgm\n",
      " added to <HDF5 file \"JOF_psfmatched_2779.h5\" (mode r+)>, interactive_outputs/MAG_APER_0_32 arcsec_fsps_larson_0_05__Asada24_cgm/, eazy_fit\n",
      " added to <HDF5 file \"JOF_psfmatched_2779.h5\" (mode r+)>, interactive_outputs/MAG_APER_0_32 arcsec_fsps_larson_0_05__Asada24_cgm/, p_z\n",
      " added to <HDF5 file \"JOF_psfmatched_2779.h5\" (mode r+)>, interactive_outputs/MAG_APER_0_32 arcsec_fsps_larson_0_05__Asada24_cgm/, input_flux\n",
      " added to <HDF5 file \"JOF_psfmatched_2779.h5\" (mode r+)>, interactive_outputs/MAG_APER_0_32 arcsec_fsps_larson_0_05__Asada24_cgm/, input_flux_err\n",
      "Zeropoint: 23.9\n",
      "{'TEMPLATES_FILE': '/nvme/scratch/work/tharvey/EAZY/inputs/scripts/templates/LarsonTemplates/tweak_fsps_QSF_12_v3_newtemplates.param', 'FILTERS_RES': '/nvme/scratch/work/tharvey/EXPANSE/src/EXPANSE/eazy/jwst_nircam_FILTER.RES', 'MW_EBV': 0, 'CAT_HAS_EXTCORR': False, 'ADD_CGM': True, 'Z_STEP': 0.01, 'Z_MIN': 0.01, 'Z_MAX': 20.0, 'TEMP_ERR_FILE': '/nvme/scratch/work/tharvey/EXPANSE/src/EXPANSE/eazy/TEMPLATE_ERROR.eazy_v1.0', 'TEMP_ERR_A2': 0, 'SYS_ERR': 0, 'APPLY_PRIOR': 'n', 'PRIOR_ABZP': 23.9, 'PRIOR_FILTER': 28, 'PRIOR_FILE': '', 'FIX_ZSPEC': False, 'IGM_SCALE_TAU': 1.0, 'N_MIN_COLORS': 2, 'CATALOG_FILE': '/tmp/tmp0mwst2sg/eazy_input.fits'}\n",
      "Read default param file: /nvme/scratch/software/anaconda3/envs/tharvey_galfind/lib/python3.10/site-packages/eazy/data/zphot.param.default\n",
      "Read CATALOG_FILE: /tmp/tmp0mwst2sg/eazy_input.fits\n",
      "   >>> NOBJ = 1\n",
      "F22 E22 ( 22): hst/ACS_update_sep07/wfc_f435w_t81.dat\n",
      "F23 E23 ( 23): hst/ACS_update_sep07/wfc_f606w_t81.dat\n",
      "F49 E49 ( 49): hst/ACS_update_sep07/wfc_f775w_t81.dat\n",
      "F24 E24 ( 24): hst/ACS_update_sep07/wfc_f814w_t81.dat\n",
      "F50 E50 ( 50): hst/ACS_update_sep07/wfc_f850lp_t81.dat\n",
      "F1 E1 (  1): jwst_nircam_f090w\n",
      "F2 E2 (  2): jwst_nircam_f115w\n",
      "F3 E3 (  3): jwst_nircam_f150w\n",
      "F38 E38 ( 38): jwst_nircam_f162m\n",
      "F39 E39 ( 39): jwst_nircam_f182m\n",
      "F4 E4 (  4): jwst_nircam_f200w\n",
      "F40 E40 ( 40): jwst_nircam_f210m\n",
      "F41 E41 ( 41): jwst_nircam_f250m\n",
      "F5 E5 (  5): jwst_nircam_f277w\n",
      "F42 E42 ( 42): jwst_nircam_f300m\n",
      "F43 E43 ( 43): jwst_nircam_f335m\n",
      "F6 E6 (  6): jwst_nircam_f356w\n",
      "F7 E7 (  7): jwst_nircam_f410m\n",
      "F8 E8 (  8): jwst_nircam_f444w\n",
      "Set sys_err = 0.00 (positive=True)\n",
      "Template grid: /nvme/scratch/work/tharvey/EAZY/inputs/scripts/templates/LarsonTemplates/tweak_fsps_QSF_12_v3_newtemplates.param (this may take some time)\n"
     ]
    },
    {
     "name": "stderr",
     "output_type": "stream",
     "text": [
      "100%|██████████| 18/18 [00:12<00:00,  1.50it/s]\n"
     ]
    },
    {
     "name": "stdout",
     "output_type": "stream",
     "text": [
      "Template   0: fsps_QSF_12_v3_001.dat (NZ=1).\n",
      "Template   1: fsps_QSF_12_v3_002.dat (NZ=1).\n",
      "Template   2: fsps_QSF_12_v3_003.dat (NZ=1).\n",
      "Template   3: fsps_QSF_12_v3_004.dat (NZ=1).\n",
      "Template   4: fsps_QSF_12_v3_005.dat (NZ=1).\n",
      "Template   5: fsps_QSF_12_v3_006.dat (NZ=1).\n",
      "Template   6: fsps_QSF_12_v3_007.dat (NZ=1).\n",
      "Template   7: fsps_QSF_12_v3_008.dat (NZ=1).\n",
      "Template   8: fsps_QSF_12_v3_009.dat (NZ=1).\n",
      "Template   9: fsps_QSF_12_v3_010.dat (NZ=1).\n",
      "Template  10: fsps_QSF_12_v3_011.dat (NZ=1).\n",
      "Template  11: fsps_QSF_12_v3_012.dat (NZ=1).\n",
      "Template  12: binc100z001age6_cloudy.dat (NZ=1).\n",
      "Template  13: binc100z001age65_cloudy.dat (NZ=1).\n",
      "Template  14: binc100z001age7_cloudy.dat (NZ=1).\n",
      "Template  15: binc100z001age6.dat (NZ=1).\n",
      "Template  16: binc100z001age65.dat (NZ=1).\n",
      "Template  17: binc100z001age7.dat (NZ=1).\n",
      "Process templates: 12.457 s\n"
     ]
    },
    {
     "name": "stderr",
     "output_type": "stream",
     "text": [
      "304it [00:00, 24411.17it/s]"
     ]
    },
    {
     "name": "stdout",
     "output_type": "stream",
     "text": [
      "Saving tempfilt to /nvme/scratch/work/tharvey/EXPANSE/src/EXPANSE/eazy/tempfilt/\n"
     ]
    },
    {
     "name": "stderr",
     "output_type": "stream",
     "text": [
      "\n",
      "100%|██████████| 304/304 [00:00<00:00, 5696.49it/s]\n"
     ]
    },
    {
     "name": "stdout",
     "output_type": "stream",
     "text": [
      "Compute best fits\n",
      "fit_best: 0.0 s (n_proc=1,  NOBJ=1)\n",
      "Fit 0.4 s (n_proc=4, NOBJ=1)\n",
      "Setting meta, id_phot, 0\n",
      "Setting meta, z_best, 7.0346947\n",
      "Setting meta, chi2, 35.317572982219204\n",
      "Setting meta, z16, 6.92881\n",
      "Setting meta, z50, 7.069938\n",
      "Setting meta, z84, 7.323003\n",
      "Setting meta, flux_unit, uJy\n",
      "Setting meta, wave_unit, Angstrom\n",
      "Setting meta, templates_file, /nvme/scratch/work/tharvey/EAZY/inputs/scripts/templates/LarsonTemplates/tweak_fsps_QSF_12_v3_newtemplates.param\n",
      "Setting meta, z_min, 0.01\n",
      "Setting meta, z_max, 20.0\n",
      "Setting meta, z_step, 0.01\n",
      "Setting meta, region, MAG_APER_0.32 arcsec_fsps_larson_0.05__Asada24_cgm\n",
      " added to <HDF5 file \"JOF_psfmatched_2808.h5\" (mode r+)>, interactive_outputs/MAG_APER_0_32 arcsec_fsps_larson_0_05__Asada24_cgm/, eazy_fit\n",
      " added to <HDF5 file \"JOF_psfmatched_2808.h5\" (mode r+)>, interactive_outputs/MAG_APER_0_32 arcsec_fsps_larson_0_05__Asada24_cgm/, p_z\n",
      " added to <HDF5 file \"JOF_psfmatched_2808.h5\" (mode r+)>, interactive_outputs/MAG_APER_0_32 arcsec_fsps_larson_0_05__Asada24_cgm/, input_flux\n",
      " added to <HDF5 file \"JOF_psfmatched_2808.h5\" (mode r+)>, interactive_outputs/MAG_APER_0_32 arcsec_fsps_larson_0_05__Asada24_cgm/, input_flux_err\n",
      "Zeropoint: 23.9\n",
      "{'TEMPLATES_FILE': '/nvme/scratch/work/tharvey/EAZY/inputs/scripts/templates/LarsonTemplates/tweak_fsps_QSF_12_v3_newtemplates.param', 'FILTERS_RES': '/nvme/scratch/work/tharvey/EXPANSE/src/EXPANSE/eazy/jwst_nircam_FILTER.RES', 'MW_EBV': 0, 'CAT_HAS_EXTCORR': False, 'ADD_CGM': True, 'Z_STEP': 0.01, 'Z_MIN': 0.01, 'Z_MAX': 20.0, 'TEMP_ERR_FILE': '/nvme/scratch/work/tharvey/EXPANSE/src/EXPANSE/eazy/TEMPLATE_ERROR.eazy_v1.0', 'TEMP_ERR_A2': 0, 'SYS_ERR': 0, 'APPLY_PRIOR': 'n', 'PRIOR_ABZP': 23.9, 'PRIOR_FILTER': 28, 'PRIOR_FILE': '', 'FIX_ZSPEC': False, 'IGM_SCALE_TAU': 1.0, 'N_MIN_COLORS': 2, 'CATALOG_FILE': '/tmp/tmpu_e50dhj/eazy_input.fits'}\n",
      "Read default param file: /nvme/scratch/software/anaconda3/envs/tharvey_galfind/lib/python3.10/site-packages/eazy/data/zphot.param.default\n",
      "Read CATALOG_FILE: /tmp/tmpu_e50dhj/eazy_input.fits\n",
      "   >>> NOBJ = 1\n",
      "F22 E22 ( 22): hst/ACS_update_sep07/wfc_f435w_t81.dat\n",
      "F23 E23 ( 23): hst/ACS_update_sep07/wfc_f606w_t81.dat\n",
      "F49 E49 ( 49): hst/ACS_update_sep07/wfc_f775w_t81.dat\n",
      "F24 E24 ( 24): hst/ACS_update_sep07/wfc_f814w_t81.dat\n",
      "F50 E50 ( 50): hst/ACS_update_sep07/wfc_f850lp_t81.dat\n",
      "F1 E1 (  1): jwst_nircam_f090w\n",
      "F2 E2 (  2): jwst_nircam_f115w\n",
      "F3 E3 (  3): jwst_nircam_f150w\n",
      "F38 E38 ( 38): jwst_nircam_f162m\n",
      "F39 E39 ( 39): jwst_nircam_f182m\n",
      "F4 E4 (  4): jwst_nircam_f200w\n",
      "F40 E40 ( 40): jwst_nircam_f210m\n",
      "F41 E41 ( 41): jwst_nircam_f250m\n",
      "F5 E5 (  5): jwst_nircam_f277w\n",
      "F42 E42 ( 42): jwst_nircam_f300m\n",
      "F43 E43 ( 43): jwst_nircam_f335m\n",
      "F6 E6 (  6): jwst_nircam_f356w\n",
      "F7 E7 (  7): jwst_nircam_f410m\n",
      "F8 E8 (  8): jwst_nircam_f444w\n",
      "Set sys_err = 0.00 (positive=True)\n",
      "Template grid: /nvme/scratch/work/tharvey/EAZY/inputs/scripts/templates/LarsonTemplates/tweak_fsps_QSF_12_v3_newtemplates.param (this may take some time)\n"
     ]
    },
    {
     "name": "stderr",
     "output_type": "stream",
     "text": [
      "100%|██████████| 18/18 [00:12<00:00,  1.45it/s]\n"
     ]
    },
    {
     "name": "stdout",
     "output_type": "stream",
     "text": [
      "Template   0: fsps_QSF_12_v3_001.dat (NZ=1).\n",
      "Template   1: fsps_QSF_12_v3_002.dat (NZ=1).\n",
      "Template   2: fsps_QSF_12_v3_003.dat (NZ=1).\n",
      "Template   3: fsps_QSF_12_v3_004.dat (NZ=1).\n",
      "Template   4: fsps_QSF_12_v3_005.dat (NZ=1).\n",
      "Template   5: fsps_QSF_12_v3_006.dat (NZ=1).\n",
      "Template   6: fsps_QSF_12_v3_007.dat (NZ=1).\n",
      "Template   7: fsps_QSF_12_v3_008.dat (NZ=1).\n",
      "Template   8: fsps_QSF_12_v3_009.dat (NZ=1).\n",
      "Template   9: fsps_QSF_12_v3_010.dat (NZ=1).\n",
      "Template  10: fsps_QSF_12_v3_011.dat (NZ=1).\n",
      "Template  11: fsps_QSF_12_v3_012.dat (NZ=1).\n",
      "Template  12: binc100z001age6_cloudy.dat (NZ=1).\n",
      "Template  13: binc100z001age65_cloudy.dat (NZ=1).\n",
      "Template  14: binc100z001age7_cloudy.dat (NZ=1).\n",
      "Template  15: binc100z001age6.dat (NZ=1).\n",
      "Template  16: binc100z001age65.dat (NZ=1).\n",
      "Template  17: binc100z001age7.dat (NZ=1).\n",
      "Process templates: 12.890 s\n"
     ]
    },
    {
     "name": "stderr",
     "output_type": "stream",
     "text": [
      "304it [00:00, 24090.17it/s]"
     ]
    },
    {
     "name": "stdout",
     "output_type": "stream",
     "text": [
      "Saving tempfilt to /nvme/scratch/work/tharvey/EXPANSE/src/EXPANSE/eazy/tempfilt/\n"
     ]
    },
    {
     "name": "stderr",
     "output_type": "stream",
     "text": [
      "\n",
      "100%|██████████| 304/304 [00:00<00:00, 5407.67it/s]\n"
     ]
    },
    {
     "name": "stdout",
     "output_type": "stream",
     "text": [
      "Compute best fits\n",
      "fit_best: 0.0 s (n_proc=1,  NOBJ=1)\n",
      "Fit 0.4 s (n_proc=4, NOBJ=1)\n",
      "Setting meta, id_phot, 0\n",
      "Setting meta, z_best, 9.35806\n",
      "Setting meta, chi2, 11.66440620162696\n",
      "Setting meta, z16, 9.270211\n",
      "Setting meta, z50, 9.477222\n",
      "Setting meta, z84, 9.911214\n",
      "Setting meta, flux_unit, uJy\n",
      "Setting meta, wave_unit, Angstrom\n",
      "Setting meta, templates_file, /nvme/scratch/work/tharvey/EAZY/inputs/scripts/templates/LarsonTemplates/tweak_fsps_QSF_12_v3_newtemplates.param\n",
      "Setting meta, z_min, 0.01\n",
      "Setting meta, z_max, 20.0\n",
      "Setting meta, z_step, 0.01\n",
      "Setting meta, region, MAG_APER_0.32 arcsec_fsps_larson_0.05__Asada24_cgm\n",
      " added to <HDF5 file \"JOF_psfmatched_2883.h5\" (mode r+)>, interactive_outputs/MAG_APER_0_32 arcsec_fsps_larson_0_05__Asada24_cgm/, eazy_fit\n",
      " added to <HDF5 file \"JOF_psfmatched_2883.h5\" (mode r+)>, interactive_outputs/MAG_APER_0_32 arcsec_fsps_larson_0_05__Asada24_cgm/, p_z\n",
      " added to <HDF5 file \"JOF_psfmatched_2883.h5\" (mode r+)>, interactive_outputs/MAG_APER_0_32 arcsec_fsps_larson_0_05__Asada24_cgm/, input_flux\n",
      " added to <HDF5 file \"JOF_psfmatched_2883.h5\" (mode r+)>, interactive_outputs/MAG_APER_0_32 arcsec_fsps_larson_0_05__Asada24_cgm/, input_flux_err\n",
      "Zeropoint: 23.9\n",
      "{'TEMPLATES_FILE': '/nvme/scratch/work/tharvey/EAZY/inputs/scripts/templates/LarsonTemplates/tweak_fsps_QSF_12_v3_newtemplates.param', 'FILTERS_RES': '/nvme/scratch/work/tharvey/EXPANSE/src/EXPANSE/eazy/jwst_nircam_FILTER.RES', 'MW_EBV': 0, 'CAT_HAS_EXTCORR': False, 'ADD_CGM': True, 'Z_STEP': 0.01, 'Z_MIN': 0.01, 'Z_MAX': 20.0, 'TEMP_ERR_FILE': '/nvme/scratch/work/tharvey/EXPANSE/src/EXPANSE/eazy/TEMPLATE_ERROR.eazy_v1.0', 'TEMP_ERR_A2': 0, 'SYS_ERR': 0, 'APPLY_PRIOR': 'n', 'PRIOR_ABZP': 23.9, 'PRIOR_FILTER': 28, 'PRIOR_FILE': '', 'FIX_ZSPEC': False, 'IGM_SCALE_TAU': 1.0, 'N_MIN_COLORS': 2, 'CATALOG_FILE': '/tmp/tmp3vnz_i75/eazy_input.fits'}\n",
      "Read default param file: /nvme/scratch/software/anaconda3/envs/tharvey_galfind/lib/python3.10/site-packages/eazy/data/zphot.param.default\n",
      "Read CATALOG_FILE: /tmp/tmp3vnz_i75/eazy_input.fits\n",
      "   >>> NOBJ = 1\n",
      "F22 E22 ( 22): hst/ACS_update_sep07/wfc_f435w_t81.dat\n",
      "F23 E23 ( 23): hst/ACS_update_sep07/wfc_f606w_t81.dat\n",
      "F49 E49 ( 49): hst/ACS_update_sep07/wfc_f775w_t81.dat\n",
      "F24 E24 ( 24): hst/ACS_update_sep07/wfc_f814w_t81.dat\n",
      "F50 E50 ( 50): hst/ACS_update_sep07/wfc_f850lp_t81.dat\n",
      "F1 E1 (  1): jwst_nircam_f090w\n",
      "F2 E2 (  2): jwst_nircam_f115w\n",
      "F3 E3 (  3): jwst_nircam_f150w\n",
      "F38 E38 ( 38): jwst_nircam_f162m\n",
      "F39 E39 ( 39): jwst_nircam_f182m\n",
      "F4 E4 (  4): jwst_nircam_f200w\n",
      "F40 E40 ( 40): jwst_nircam_f210m\n",
      "F41 E41 ( 41): jwst_nircam_f250m\n",
      "F5 E5 (  5): jwst_nircam_f277w\n",
      "F42 E42 ( 42): jwst_nircam_f300m\n",
      "F43 E43 ( 43): jwst_nircam_f335m\n",
      "F6 E6 (  6): jwst_nircam_f356w\n",
      "F7 E7 (  7): jwst_nircam_f410m\n",
      "F8 E8 (  8): jwst_nircam_f444w\n",
      "Set sys_err = 0.00 (positive=True)\n",
      "Template grid: /nvme/scratch/work/tharvey/EAZY/inputs/scripts/templates/LarsonTemplates/tweak_fsps_QSF_12_v3_newtemplates.param (this may take some time)\n"
     ]
    },
    {
     "name": "stderr",
     "output_type": "stream",
     "text": [
      "100%|██████████| 18/18 [00:12<00:00,  1.39it/s]\n"
     ]
    },
    {
     "name": "stdout",
     "output_type": "stream",
     "text": [
      "Template   0: fsps_QSF_12_v3_001.dat (NZ=1).\n",
      "Template   1: fsps_QSF_12_v3_002.dat (NZ=1).\n",
      "Template   2: fsps_QSF_12_v3_003.dat (NZ=1).\n",
      "Template   3: fsps_QSF_12_v3_004.dat (NZ=1).\n",
      "Template   4: fsps_QSF_12_v3_005.dat (NZ=1).\n",
      "Template   5: fsps_QSF_12_v3_006.dat (NZ=1).\n",
      "Template   6: fsps_QSF_12_v3_007.dat (NZ=1).\n",
      "Template   7: fsps_QSF_12_v3_008.dat (NZ=1).\n",
      "Template   8: fsps_QSF_12_v3_009.dat (NZ=1).\n",
      "Template   9: fsps_QSF_12_v3_010.dat (NZ=1).\n",
      "Template  10: fsps_QSF_12_v3_011.dat (NZ=1).\n",
      "Template  11: fsps_QSF_12_v3_012.dat (NZ=1).\n",
      "Template  12: binc100z001age6_cloudy.dat (NZ=1).\n",
      "Template  13: binc100z001age65_cloudy.dat (NZ=1).\n",
      "Template  14: binc100z001age7_cloudy.dat (NZ=1).\n",
      "Template  15: binc100z001age6.dat (NZ=1).\n",
      "Template  16: binc100z001age65.dat (NZ=1).\n",
      "Template  17: binc100z001age7.dat (NZ=1).\n",
      "Process templates: 13.461 s\n"
     ]
    },
    {
     "name": "stderr",
     "output_type": "stream",
     "text": [
      "304it [00:00, 17466.45it/s]"
     ]
    },
    {
     "name": "stdout",
     "output_type": "stream",
     "text": [
      "Saving tempfilt to /nvme/scratch/work/tharvey/EXPANSE/src/EXPANSE/eazy/tempfilt/\n"
     ]
    },
    {
     "name": "stderr",
     "output_type": "stream",
     "text": [
      "\n",
      "100%|██████████| 304/304 [00:00<00:00, 5306.84it/s]\n"
     ]
    },
    {
     "name": "stdout",
     "output_type": "stream",
     "text": [
      "Compute best fits\n",
      "fit_best: 0.0 s (n_proc=1,  NOBJ=1)\n",
      "Fit 0.4 s (n_proc=4, NOBJ=1)\n",
      "Setting meta, id_phot, 0\n",
      "Setting meta, z_best, 7.6547956\n",
      "Setting meta, chi2, 20.38157377978005\n",
      "Setting meta, z16, 7.6110463\n",
      "Setting meta, z50, 7.649117\n",
      "Setting meta, z84, 7.6875877\n",
      "Setting meta, flux_unit, uJy\n",
      "Setting meta, wave_unit, Angstrom\n",
      "Setting meta, templates_file, /nvme/scratch/work/tharvey/EAZY/inputs/scripts/templates/LarsonTemplates/tweak_fsps_QSF_12_v3_newtemplates.param\n",
      "Setting meta, z_min, 0.01\n",
      "Setting meta, z_max, 20.0\n",
      "Setting meta, z_step, 0.01\n",
      "Setting meta, region, MAG_APER_0.32 arcsec_fsps_larson_0.05__Asada24_cgm\n",
      " added to <HDF5 file \"JOF_psfmatched_295.h5\" (mode r+)>, interactive_outputs/MAG_APER_0_32 arcsec_fsps_larson_0_05__Asada24_cgm/, eazy_fit\n",
      " added to <HDF5 file \"JOF_psfmatched_295.h5\" (mode r+)>, interactive_outputs/MAG_APER_0_32 arcsec_fsps_larson_0_05__Asada24_cgm/, p_z\n",
      " added to <HDF5 file \"JOF_psfmatched_295.h5\" (mode r+)>, interactive_outputs/MAG_APER_0_32 arcsec_fsps_larson_0_05__Asada24_cgm/, input_flux\n",
      " added to <HDF5 file \"JOF_psfmatched_295.h5\" (mode r+)>, interactive_outputs/MAG_APER_0_32 arcsec_fsps_larson_0_05__Asada24_cgm/, input_flux_err\n",
      "Zeropoint: 23.9\n",
      "{'TEMPLATES_FILE': '/nvme/scratch/work/tharvey/EAZY/inputs/scripts/templates/LarsonTemplates/tweak_fsps_QSF_12_v3_newtemplates.param', 'FILTERS_RES': '/nvme/scratch/work/tharvey/EXPANSE/src/EXPANSE/eazy/jwst_nircam_FILTER.RES', 'MW_EBV': 0, 'CAT_HAS_EXTCORR': False, 'ADD_CGM': True, 'Z_STEP': 0.01, 'Z_MIN': 0.01, 'Z_MAX': 20.0, 'TEMP_ERR_FILE': '/nvme/scratch/work/tharvey/EXPANSE/src/EXPANSE/eazy/TEMPLATE_ERROR.eazy_v1.0', 'TEMP_ERR_A2': 0, 'SYS_ERR': 0, 'APPLY_PRIOR': 'n', 'PRIOR_ABZP': 23.9, 'PRIOR_FILTER': 28, 'PRIOR_FILE': '', 'FIX_ZSPEC': False, 'IGM_SCALE_TAU': 1.0, 'N_MIN_COLORS': 2, 'CATALOG_FILE': '/tmp/tmpp4_hhvp3/eazy_input.fits'}\n",
      "Read default param file: /nvme/scratch/software/anaconda3/envs/tharvey_galfind/lib/python3.10/site-packages/eazy/data/zphot.param.default\n",
      "Read CATALOG_FILE: /tmp/tmpp4_hhvp3/eazy_input.fits\n",
      "   >>> NOBJ = 1\n",
      "F22 E22 ( 22): hst/ACS_update_sep07/wfc_f435w_t81.dat\n",
      "F23 E23 ( 23): hst/ACS_update_sep07/wfc_f606w_t81.dat\n",
      "F49 E49 ( 49): hst/ACS_update_sep07/wfc_f775w_t81.dat\n",
      "F24 E24 ( 24): hst/ACS_update_sep07/wfc_f814w_t81.dat\n",
      "F50 E50 ( 50): hst/ACS_update_sep07/wfc_f850lp_t81.dat\n",
      "F1 E1 (  1): jwst_nircam_f090w\n",
      "F2 E2 (  2): jwst_nircam_f115w\n",
      "F3 E3 (  3): jwst_nircam_f150w\n",
      "F38 E38 ( 38): jwst_nircam_f162m\n",
      "F39 E39 ( 39): jwst_nircam_f182m\n",
      "F4 E4 (  4): jwst_nircam_f200w\n",
      "F40 E40 ( 40): jwst_nircam_f210m\n",
      "F41 E41 ( 41): jwst_nircam_f250m\n",
      "F5 E5 (  5): jwst_nircam_f277w\n",
      "F42 E42 ( 42): jwst_nircam_f300m\n",
      "F43 E43 ( 43): jwst_nircam_f335m\n",
      "F6 E6 (  6): jwst_nircam_f356w\n",
      "F7 E7 (  7): jwst_nircam_f410m\n",
      "F8 E8 (  8): jwst_nircam_f444w\n",
      "Set sys_err = 0.00 (positive=True)\n",
      "Template grid: /nvme/scratch/work/tharvey/EAZY/inputs/scripts/templates/LarsonTemplates/tweak_fsps_QSF_12_v3_newtemplates.param (this may take some time)\n"
     ]
    },
    {
     "name": "stderr",
     "output_type": "stream",
     "text": [
      "100%|██████████| 18/18 [00:12<00:00,  1.41it/s]\n"
     ]
    },
    {
     "name": "stdout",
     "output_type": "stream",
     "text": [
      "Template   0: fsps_QSF_12_v3_001.dat (NZ=1).\n",
      "Template   1: fsps_QSF_12_v3_002.dat (NZ=1).\n",
      "Template   2: fsps_QSF_12_v3_003.dat (NZ=1).\n",
      "Template   3: fsps_QSF_12_v3_004.dat (NZ=1).\n",
      "Template   4: fsps_QSF_12_v3_005.dat (NZ=1).\n",
      "Template   5: fsps_QSF_12_v3_006.dat (NZ=1).\n",
      "Template   6: fsps_QSF_12_v3_007.dat (NZ=1).\n",
      "Template   7: fsps_QSF_12_v3_008.dat (NZ=1).\n",
      "Template   8: fsps_QSF_12_v3_009.dat (NZ=1).\n",
      "Template   9: fsps_QSF_12_v3_010.dat (NZ=1).\n",
      "Template  10: fsps_QSF_12_v3_011.dat (NZ=1).\n",
      "Template  11: fsps_QSF_12_v3_012.dat (NZ=1).\n",
      "Template  12: binc100z001age6_cloudy.dat (NZ=1).\n",
      "Template  13: binc100z001age65_cloudy.dat (NZ=1).\n",
      "Template  14: binc100z001age7_cloudy.dat (NZ=1).\n",
      "Template  15: binc100z001age6.dat (NZ=1).\n",
      "Template  16: binc100z001age65.dat (NZ=1).\n",
      "Template  17: binc100z001age7.dat (NZ=1).\n",
      "Process templates: 13.261 s\n"
     ]
    },
    {
     "name": "stderr",
     "output_type": "stream",
     "text": [
      "304it [00:00, 25942.39it/s]"
     ]
    },
    {
     "name": "stdout",
     "output_type": "stream",
     "text": [
      "Saving tempfilt to /nvme/scratch/work/tharvey/EXPANSE/src/EXPANSE/eazy/tempfilt/\n"
     ]
    },
    {
     "name": "stderr",
     "output_type": "stream",
     "text": [
      "\n",
      "100%|██████████| 304/304 [00:00<00:00, 4545.54it/s]\n"
     ]
    },
    {
     "name": "stdout",
     "output_type": "stream",
     "text": [
      "Compute best fits\n",
      "fit_best: 0.0 s (n_proc=1,  NOBJ=1)\n",
      "Fit 0.4 s (n_proc=4, NOBJ=1)\n",
      "Setting meta, id_phot, 0\n",
      "Setting meta, z_best, 6.6061487\n",
      "Setting meta, chi2, 5.524631208055528\n",
      "Setting meta, z16, 6.4865813\n",
      "Setting meta, z50, 6.595138\n",
      "Setting meta, z84, 6.681615\n",
      "Setting meta, flux_unit, uJy\n",
      "Setting meta, wave_unit, Angstrom\n",
      "Setting meta, templates_file, /nvme/scratch/work/tharvey/EAZY/inputs/scripts/templates/LarsonTemplates/tweak_fsps_QSF_12_v3_newtemplates.param\n",
      "Setting meta, z_min, 0.01\n",
      "Setting meta, z_max, 20.0\n",
      "Setting meta, z_step, 0.01\n",
      "Setting meta, region, MAG_APER_0.32 arcsec_fsps_larson_0.05__Asada24_cgm\n",
      " added to <HDF5 file \"JOF_psfmatched_2957.h5\" (mode r+)>, interactive_outputs/MAG_APER_0_32 arcsec_fsps_larson_0_05__Asada24_cgm/, eazy_fit\n",
      " added to <HDF5 file \"JOF_psfmatched_2957.h5\" (mode r+)>, interactive_outputs/MAG_APER_0_32 arcsec_fsps_larson_0_05__Asada24_cgm/, p_z\n",
      " added to <HDF5 file \"JOF_psfmatched_2957.h5\" (mode r+)>, interactive_outputs/MAG_APER_0_32 arcsec_fsps_larson_0_05__Asada24_cgm/, input_flux\n",
      " added to <HDF5 file \"JOF_psfmatched_2957.h5\" (mode r+)>, interactive_outputs/MAG_APER_0_32 arcsec_fsps_larson_0_05__Asada24_cgm/, input_flux_err\n",
      "Zeropoint: 23.9\n",
      "{'TEMPLATES_FILE': '/nvme/scratch/work/tharvey/EAZY/inputs/scripts/templates/LarsonTemplates/tweak_fsps_QSF_12_v3_newtemplates.param', 'FILTERS_RES': '/nvme/scratch/work/tharvey/EXPANSE/src/EXPANSE/eazy/jwst_nircam_FILTER.RES', 'MW_EBV': 0, 'CAT_HAS_EXTCORR': False, 'ADD_CGM': True, 'Z_STEP': 0.01, 'Z_MIN': 0.01, 'Z_MAX': 20.0, 'TEMP_ERR_FILE': '/nvme/scratch/work/tharvey/EXPANSE/src/EXPANSE/eazy/TEMPLATE_ERROR.eazy_v1.0', 'TEMP_ERR_A2': 0, 'SYS_ERR': 0, 'APPLY_PRIOR': 'n', 'PRIOR_ABZP': 23.9, 'PRIOR_FILTER': 28, 'PRIOR_FILE': '', 'FIX_ZSPEC': False, 'IGM_SCALE_TAU': 1.0, 'N_MIN_COLORS': 2, 'CATALOG_FILE': '/tmp/tmpbacpszz6/eazy_input.fits'}\n",
      "Read default param file: /nvme/scratch/software/anaconda3/envs/tharvey_galfind/lib/python3.10/site-packages/eazy/data/zphot.param.default\n",
      "Read CATALOG_FILE: /tmp/tmpbacpszz6/eazy_input.fits\n",
      "   >>> NOBJ = 1\n",
      "F22 E22 ( 22): hst/ACS_update_sep07/wfc_f435w_t81.dat\n",
      "F23 E23 ( 23): hst/ACS_update_sep07/wfc_f606w_t81.dat\n",
      "F49 E49 ( 49): hst/ACS_update_sep07/wfc_f775w_t81.dat\n",
      "F24 E24 ( 24): hst/ACS_update_sep07/wfc_f814w_t81.dat\n",
      "F50 E50 ( 50): hst/ACS_update_sep07/wfc_f850lp_t81.dat\n",
      "F1 E1 (  1): jwst_nircam_f090w\n",
      "F2 E2 (  2): jwst_nircam_f115w\n",
      "F3 E3 (  3): jwst_nircam_f150w\n",
      "F38 E38 ( 38): jwst_nircam_f162m\n",
      "F39 E39 ( 39): jwst_nircam_f182m\n",
      "F4 E4 (  4): jwst_nircam_f200w\n",
      "F40 E40 ( 40): jwst_nircam_f210m\n",
      "F41 E41 ( 41): jwst_nircam_f250m\n",
      "F5 E5 (  5): jwst_nircam_f277w\n",
      "F42 E42 ( 42): jwst_nircam_f300m\n",
      "F43 E43 ( 43): jwst_nircam_f335m\n",
      "F6 E6 (  6): jwst_nircam_f356w\n",
      "F7 E7 (  7): jwst_nircam_f410m\n",
      "F8 E8 (  8): jwst_nircam_f444w\n",
      "Set sys_err = 0.00 (positive=True)\n",
      "Template grid: /nvme/scratch/work/tharvey/EAZY/inputs/scripts/templates/LarsonTemplates/tweak_fsps_QSF_12_v3_newtemplates.param (this may take some time)\n"
     ]
    },
    {
     "name": "stderr",
     "output_type": "stream",
     "text": [
      "100%|██████████| 18/18 [00:12<00:00,  1.39it/s]\n"
     ]
    },
    {
     "name": "stdout",
     "output_type": "stream",
     "text": [
      "Template   0: fsps_QSF_12_v3_001.dat (NZ=1).\n",
      "Template   1: fsps_QSF_12_v3_002.dat (NZ=1).\n",
      "Template   2: fsps_QSF_12_v3_003.dat (NZ=1).\n",
      "Template   3: fsps_QSF_12_v3_004.dat (NZ=1).\n",
      "Template   4: fsps_QSF_12_v3_005.dat (NZ=1).\n",
      "Template   5: fsps_QSF_12_v3_006.dat (NZ=1).\n",
      "Template   6: fsps_QSF_12_v3_007.dat (NZ=1).\n",
      "Template   7: fsps_QSF_12_v3_008.dat (NZ=1).\n",
      "Template   8: fsps_QSF_12_v3_009.dat (NZ=1).\n",
      "Template   9: fsps_QSF_12_v3_010.dat (NZ=1).\n",
      "Template  10: fsps_QSF_12_v3_011.dat (NZ=1).\n",
      "Template  11: fsps_QSF_12_v3_012.dat (NZ=1).\n",
      "Template  12: binc100z001age6_cloudy.dat (NZ=1).\n",
      "Template  13: binc100z001age65_cloudy.dat (NZ=1).\n",
      "Template  14: binc100z001age7_cloudy.dat (NZ=1).\n",
      "Template  15: binc100z001age6.dat (NZ=1).\n",
      "Template  16: binc100z001age65.dat (NZ=1).\n",
      "Template  17: binc100z001age7.dat (NZ=1).\n",
      "Process templates: 13.455 s\n"
     ]
    },
    {
     "name": "stderr",
     "output_type": "stream",
     "text": [
      "304it [00:00, 25657.88it/s]"
     ]
    },
    {
     "name": "stdout",
     "output_type": "stream",
     "text": [
      "Saving tempfilt to /nvme/scratch/work/tharvey/EXPANSE/src/EXPANSE/eazy/tempfilt/\n"
     ]
    },
    {
     "name": "stderr",
     "output_type": "stream",
     "text": [
      "\n",
      "100%|██████████| 304/304 [00:00<00:00, 4975.08it/s]\n"
     ]
    },
    {
     "name": "stdout",
     "output_type": "stream",
     "text": [
      "Compute best fits\n",
      "fit_best: 0.0 s (n_proc=1,  NOBJ=1)\n",
      "Fit 0.4 s (n_proc=4, NOBJ=1)\n",
      "Setting meta, id_phot, 0\n",
      "Setting meta, z_best, 6.264556\n",
      "Setting meta, chi2, 15.224434335221984\n",
      "Setting meta, z16, 6.1948814\n",
      "Setting meta, z50, 6.272869\n",
      "Setting meta, z84, 6.364938\n",
      "Setting meta, flux_unit, uJy\n",
      "Setting meta, wave_unit, Angstrom\n",
      "Setting meta, templates_file, /nvme/scratch/work/tharvey/EAZY/inputs/scripts/templates/LarsonTemplates/tweak_fsps_QSF_12_v3_newtemplates.param\n",
      "Setting meta, z_min, 0.01\n",
      "Setting meta, z_max, 20.0\n",
      "Setting meta, z_step, 0.01\n",
      "Setting meta, region, MAG_APER_0.32 arcsec_fsps_larson_0.05__Asada24_cgm\n",
      " added to <HDF5 file \"JOF_psfmatched_2994.h5\" (mode r+)>, interactive_outputs/MAG_APER_0_32 arcsec_fsps_larson_0_05__Asada24_cgm/, eazy_fit\n",
      " added to <HDF5 file \"JOF_psfmatched_2994.h5\" (mode r+)>, interactive_outputs/MAG_APER_0_32 arcsec_fsps_larson_0_05__Asada24_cgm/, p_z\n",
      " added to <HDF5 file \"JOF_psfmatched_2994.h5\" (mode r+)>, interactive_outputs/MAG_APER_0_32 arcsec_fsps_larson_0_05__Asada24_cgm/, input_flux\n",
      " added to <HDF5 file \"JOF_psfmatched_2994.h5\" (mode r+)>, interactive_outputs/MAG_APER_0_32 arcsec_fsps_larson_0_05__Asada24_cgm/, input_flux_err\n",
      "Zeropoint: 23.9\n",
      "{'TEMPLATES_FILE': '/nvme/scratch/work/tharvey/EAZY/inputs/scripts/templates/LarsonTemplates/tweak_fsps_QSF_12_v3_newtemplates.param', 'FILTERS_RES': '/nvme/scratch/work/tharvey/EXPANSE/src/EXPANSE/eazy/jwst_nircam_FILTER.RES', 'MW_EBV': 0, 'CAT_HAS_EXTCORR': False, 'ADD_CGM': True, 'Z_STEP': 0.01, 'Z_MIN': 0.01, 'Z_MAX': 20.0, 'TEMP_ERR_FILE': '/nvme/scratch/work/tharvey/EXPANSE/src/EXPANSE/eazy/TEMPLATE_ERROR.eazy_v1.0', 'TEMP_ERR_A2': 0, 'SYS_ERR': 0, 'APPLY_PRIOR': 'n', 'PRIOR_ABZP': 23.9, 'PRIOR_FILTER': 28, 'PRIOR_FILE': '', 'FIX_ZSPEC': False, 'IGM_SCALE_TAU': 1.0, 'N_MIN_COLORS': 2, 'CATALOG_FILE': '/tmp/tmp0l2nof3h/eazy_input.fits'}\n",
      "Read default param file: /nvme/scratch/software/anaconda3/envs/tharvey_galfind/lib/python3.10/site-packages/eazy/data/zphot.param.default\n",
      "Read CATALOG_FILE: /tmp/tmp0l2nof3h/eazy_input.fits\n",
      "   >>> NOBJ = 1\n",
      "F22 E22 ( 22): hst/ACS_update_sep07/wfc_f435w_t81.dat\n",
      "F23 E23 ( 23): hst/ACS_update_sep07/wfc_f606w_t81.dat\n",
      "F49 E49 ( 49): hst/ACS_update_sep07/wfc_f775w_t81.dat\n",
      "F24 E24 ( 24): hst/ACS_update_sep07/wfc_f814w_t81.dat\n",
      "F50 E50 ( 50): hst/ACS_update_sep07/wfc_f850lp_t81.dat\n",
      "F1 E1 (  1): jwst_nircam_f090w\n",
      "F2 E2 (  2): jwst_nircam_f115w\n",
      "F3 E3 (  3): jwst_nircam_f150w\n",
      "F38 E38 ( 38): jwst_nircam_f162m\n",
      "F39 E39 ( 39): jwst_nircam_f182m\n",
      "F4 E4 (  4): jwst_nircam_f200w\n",
      "F40 E40 ( 40): jwst_nircam_f210m\n",
      "F41 E41 ( 41): jwst_nircam_f250m\n",
      "F5 E5 (  5): jwst_nircam_f277w\n",
      "F42 E42 ( 42): jwst_nircam_f300m\n",
      "F43 E43 ( 43): jwst_nircam_f335m\n",
      "F6 E6 (  6): jwst_nircam_f356w\n",
      "F7 E7 (  7): jwst_nircam_f410m\n",
      "F8 E8 (  8): jwst_nircam_f444w\n",
      "Set sys_err = 0.00 (positive=True)\n",
      "Template grid: /nvme/scratch/work/tharvey/EAZY/inputs/scripts/templates/LarsonTemplates/tweak_fsps_QSF_12_v3_newtemplates.param (this may take some time)\n"
     ]
    },
    {
     "name": "stderr",
     "output_type": "stream",
     "text": [
      "100%|██████████| 18/18 [00:12<00:00,  1.41it/s]\n"
     ]
    },
    {
     "name": "stdout",
     "output_type": "stream",
     "text": [
      "Template   0: fsps_QSF_12_v3_001.dat (NZ=1).\n",
      "Template   1: fsps_QSF_12_v3_002.dat (NZ=1).\n",
      "Template   2: fsps_QSF_12_v3_003.dat (NZ=1).\n",
      "Template   3: fsps_QSF_12_v3_004.dat (NZ=1).\n",
      "Template   4: fsps_QSF_12_v3_005.dat (NZ=1).\n",
      "Template   5: fsps_QSF_12_v3_006.dat (NZ=1).\n",
      "Template   6: fsps_QSF_12_v3_007.dat (NZ=1).\n",
      "Template   7: fsps_QSF_12_v3_008.dat (NZ=1).\n",
      "Template   8: fsps_QSF_12_v3_009.dat (NZ=1).\n",
      "Template   9: fsps_QSF_12_v3_010.dat (NZ=1).\n",
      "Template  10: fsps_QSF_12_v3_011.dat (NZ=1).\n",
      "Template  11: fsps_QSF_12_v3_012.dat (NZ=1).\n",
      "Template  12: binc100z001age6_cloudy.dat (NZ=1).\n",
      "Template  13: binc100z001age65_cloudy.dat (NZ=1).\n",
      "Template  14: binc100z001age7_cloudy.dat (NZ=1).\n",
      "Template  15: binc100z001age6.dat (NZ=1).\n",
      "Template  16: binc100z001age65.dat (NZ=1).\n",
      "Template  17: binc100z001age7.dat (NZ=1).\n",
      "Process templates: 13.260 s\n"
     ]
    },
    {
     "name": "stderr",
     "output_type": "stream",
     "text": [
      "304it [00:00, 23585.30it/s]"
     ]
    },
    {
     "name": "stdout",
     "output_type": "stream",
     "text": [
      "Saving tempfilt to /nvme/scratch/work/tharvey/EXPANSE/src/EXPANSE/eazy/tempfilt/\n"
     ]
    },
    {
     "name": "stderr",
     "output_type": "stream",
     "text": [
      "\n",
      "100%|██████████| 304/304 [00:00<00:00, 4727.90it/s]\n"
     ]
    },
    {
     "name": "stdout",
     "output_type": "stream",
     "text": [
      "Compute best fits\n",
      "fit_best: 0.0 s (n_proc=1,  NOBJ=1)\n",
      "Fit 0.4 s (n_proc=4, NOBJ=1)\n",
      "Setting meta, id_phot, 0\n",
      "Setting meta, z_best, 12.179701\n",
      "Setting meta, chi2, 41.47949012854092\n",
      "Setting meta, z16, 12.017883\n",
      "Setting meta, z50, 12.176999\n",
      "Setting meta, z84, 12.326741\n",
      "Setting meta, flux_unit, uJy\n",
      "Setting meta, wave_unit, Angstrom\n",
      "Setting meta, templates_file, /nvme/scratch/work/tharvey/EAZY/inputs/scripts/templates/LarsonTemplates/tweak_fsps_QSF_12_v3_newtemplates.param\n",
      "Setting meta, z_min, 0.01\n",
      "Setting meta, z_max, 20.0\n",
      "Setting meta, z_step, 0.01\n",
      "Setting meta, region, MAG_APER_0.32 arcsec_fsps_larson_0.05__Asada24_cgm\n",
      " added to <HDF5 file \"JOF_psfmatched_3217.h5\" (mode r+)>, interactive_outputs/MAG_APER_0_32 arcsec_fsps_larson_0_05__Asada24_cgm/, eazy_fit\n",
      " added to <HDF5 file \"JOF_psfmatched_3217.h5\" (mode r+)>, interactive_outputs/MAG_APER_0_32 arcsec_fsps_larson_0_05__Asada24_cgm/, p_z\n",
      " added to <HDF5 file \"JOF_psfmatched_3217.h5\" (mode r+)>, interactive_outputs/MAG_APER_0_32 arcsec_fsps_larson_0_05__Asada24_cgm/, input_flux\n",
      " added to <HDF5 file \"JOF_psfmatched_3217.h5\" (mode r+)>, interactive_outputs/MAG_APER_0_32 arcsec_fsps_larson_0_05__Asada24_cgm/, input_flux_err\n",
      "Zeropoint: 23.9\n",
      "{'TEMPLATES_FILE': '/nvme/scratch/work/tharvey/EAZY/inputs/scripts/templates/LarsonTemplates/tweak_fsps_QSF_12_v3_newtemplates.param', 'FILTERS_RES': '/nvme/scratch/work/tharvey/EXPANSE/src/EXPANSE/eazy/jwst_nircam_FILTER.RES', 'MW_EBV': 0, 'CAT_HAS_EXTCORR': False, 'ADD_CGM': True, 'Z_STEP': 0.01, 'Z_MIN': 0.01, 'Z_MAX': 20.0, 'TEMP_ERR_FILE': '/nvme/scratch/work/tharvey/EXPANSE/src/EXPANSE/eazy/TEMPLATE_ERROR.eazy_v1.0', 'TEMP_ERR_A2': 0, 'SYS_ERR': 0, 'APPLY_PRIOR': 'n', 'PRIOR_ABZP': 23.9, 'PRIOR_FILTER': 28, 'PRIOR_FILE': '', 'FIX_ZSPEC': False, 'IGM_SCALE_TAU': 1.0, 'N_MIN_COLORS': 2, 'CATALOG_FILE': '/tmp/tmpox7tspt9/eazy_input.fits'}\n",
      "Read default param file: /nvme/scratch/software/anaconda3/envs/tharvey_galfind/lib/python3.10/site-packages/eazy/data/zphot.param.default\n",
      "Read CATALOG_FILE: /tmp/tmpox7tspt9/eazy_input.fits\n",
      "   >>> NOBJ = 1\n",
      "F22 E22 ( 22): hst/ACS_update_sep07/wfc_f435w_t81.dat\n",
      "F23 E23 ( 23): hst/ACS_update_sep07/wfc_f606w_t81.dat\n",
      "F49 E49 ( 49): hst/ACS_update_sep07/wfc_f775w_t81.dat\n",
      "F24 E24 ( 24): hst/ACS_update_sep07/wfc_f814w_t81.dat\n",
      "F50 E50 ( 50): hst/ACS_update_sep07/wfc_f850lp_t81.dat\n",
      "F1 E1 (  1): jwst_nircam_f090w\n",
      "F2 E2 (  2): jwst_nircam_f115w\n",
      "F3 E3 (  3): jwst_nircam_f150w\n",
      "F38 E38 ( 38): jwst_nircam_f162m\n",
      "F39 E39 ( 39): jwst_nircam_f182m\n",
      "F4 E4 (  4): jwst_nircam_f200w\n",
      "F40 E40 ( 40): jwst_nircam_f210m\n",
      "F41 E41 ( 41): jwst_nircam_f250m\n",
      "F5 E5 (  5): jwst_nircam_f277w\n",
      "F42 E42 ( 42): jwst_nircam_f300m\n",
      "F43 E43 ( 43): jwst_nircam_f335m\n",
      "F6 E6 (  6): jwst_nircam_f356w\n",
      "F7 E7 (  7): jwst_nircam_f410m\n",
      "F8 E8 (  8): jwst_nircam_f444w\n",
      "Set sys_err = 0.00 (positive=True)\n",
      "Template grid: /nvme/scratch/work/tharvey/EAZY/inputs/scripts/templates/LarsonTemplates/tweak_fsps_QSF_12_v3_newtemplates.param (this may take some time)\n"
     ]
    },
    {
     "name": "stderr",
     "output_type": "stream",
     "text": [
      "100%|██████████| 18/18 [00:11<00:00,  1.52it/s]\n"
     ]
    },
    {
     "name": "stdout",
     "output_type": "stream",
     "text": [
      "Template   0: fsps_QSF_12_v3_001.dat (NZ=1).\n",
      "Template   1: fsps_QSF_12_v3_002.dat (NZ=1).\n",
      "Template   2: fsps_QSF_12_v3_003.dat (NZ=1).\n",
      "Template   3: fsps_QSF_12_v3_004.dat (NZ=1).\n",
      "Template   4: fsps_QSF_12_v3_005.dat (NZ=1).\n",
      "Template   5: fsps_QSF_12_v3_006.dat (NZ=1).\n",
      "Template   6: fsps_QSF_12_v3_007.dat (NZ=1).\n",
      "Template   7: fsps_QSF_12_v3_008.dat (NZ=1).\n",
      "Template   8: fsps_QSF_12_v3_009.dat (NZ=1).\n",
      "Template   9: fsps_QSF_12_v3_010.dat (NZ=1).\n",
      "Template  10: fsps_QSF_12_v3_011.dat (NZ=1).\n",
      "Template  11: fsps_QSF_12_v3_012.dat (NZ=1).\n",
      "Template  12: binc100z001age6_cloudy.dat (NZ=1).\n",
      "Template  13: binc100z001age65_cloudy.dat (NZ=1).\n",
      "Template  14: binc100z001age7_cloudy.dat (NZ=1).\n",
      "Template  15: binc100z001age6.dat (NZ=1).\n",
      "Template  16: binc100z001age65.dat (NZ=1).\n",
      "Template  17: binc100z001age7.dat (NZ=1).\n",
      "Process templates: 12.289 s\n"
     ]
    },
    {
     "name": "stderr",
     "output_type": "stream",
     "text": [
      "304it [00:00, 27988.42it/s]"
     ]
    },
    {
     "name": "stdout",
     "output_type": "stream",
     "text": [
      "Saving tempfilt to /nvme/scratch/work/tharvey/EXPANSE/src/EXPANSE/eazy/tempfilt/\n"
     ]
    },
    {
     "name": "stderr",
     "output_type": "stream",
     "text": [
      "\n",
      "100%|██████████| 304/304 [00:00<00:00, 6403.87it/s]\n"
     ]
    },
    {
     "name": "stdout",
     "output_type": "stream",
     "text": [
      "Compute best fits\n",
      "fit_best: 0.0 s (n_proc=1,  NOBJ=1)\n",
      "Fit 0.4 s (n_proc=4, NOBJ=1)\n",
      "Setting meta, id_phot, 0\n",
      "Setting meta, z_best, 6.201048\n",
      "Setting meta, chi2, 19.569503267510058\n",
      "Setting meta, z16, 6.15875\n",
      "Setting meta, z50, 6.2057953\n",
      "Setting meta, z84, 6.261774\n",
      "Setting meta, flux_unit, uJy\n",
      "Setting meta, wave_unit, Angstrom\n",
      "Setting meta, templates_file, /nvme/scratch/work/tharvey/EAZY/inputs/scripts/templates/LarsonTemplates/tweak_fsps_QSF_12_v3_newtemplates.param\n",
      "Setting meta, z_min, 0.01\n",
      "Setting meta, z_max, 20.0\n",
      "Setting meta, z_step, 0.01\n",
      "Setting meta, region, MAG_APER_0.32 arcsec_fsps_larson_0.05__Asada24_cgm\n",
      " added to <HDF5 file \"JOF_psfmatched_3307.h5\" (mode r+)>, interactive_outputs/MAG_APER_0_32 arcsec_fsps_larson_0_05__Asada24_cgm/, eazy_fit\n",
      " added to <HDF5 file \"JOF_psfmatched_3307.h5\" (mode r+)>, interactive_outputs/MAG_APER_0_32 arcsec_fsps_larson_0_05__Asada24_cgm/, p_z\n",
      " added to <HDF5 file \"JOF_psfmatched_3307.h5\" (mode r+)>, interactive_outputs/MAG_APER_0_32 arcsec_fsps_larson_0_05__Asada24_cgm/, input_flux\n",
      " added to <HDF5 file \"JOF_psfmatched_3307.h5\" (mode r+)>, interactive_outputs/MAG_APER_0_32 arcsec_fsps_larson_0_05__Asada24_cgm/, input_flux_err\n",
      "Zeropoint: 23.9\n",
      "{'TEMPLATES_FILE': '/nvme/scratch/work/tharvey/EAZY/inputs/scripts/templates/LarsonTemplates/tweak_fsps_QSF_12_v3_newtemplates.param', 'FILTERS_RES': '/nvme/scratch/work/tharvey/EXPANSE/src/EXPANSE/eazy/jwst_nircam_FILTER.RES', 'MW_EBV': 0, 'CAT_HAS_EXTCORR': False, 'ADD_CGM': True, 'Z_STEP': 0.01, 'Z_MIN': 0.01, 'Z_MAX': 20.0, 'TEMP_ERR_FILE': '/nvme/scratch/work/tharvey/EXPANSE/src/EXPANSE/eazy/TEMPLATE_ERROR.eazy_v1.0', 'TEMP_ERR_A2': 0, 'SYS_ERR': 0, 'APPLY_PRIOR': 'n', 'PRIOR_ABZP': 23.9, 'PRIOR_FILTER': 28, 'PRIOR_FILE': '', 'FIX_ZSPEC': False, 'IGM_SCALE_TAU': 1.0, 'N_MIN_COLORS': 2, 'CATALOG_FILE': '/tmp/tmpprbtzzt5/eazy_input.fits'}\n",
      "Read default param file: /nvme/scratch/software/anaconda3/envs/tharvey_galfind/lib/python3.10/site-packages/eazy/data/zphot.param.default\n",
      "Read CATALOG_FILE: /tmp/tmpprbtzzt5/eazy_input.fits\n",
      "   >>> NOBJ = 1\n",
      "F22 E22 ( 22): hst/ACS_update_sep07/wfc_f435w_t81.dat\n",
      "F23 E23 ( 23): hst/ACS_update_sep07/wfc_f606w_t81.dat\n",
      "F49 E49 ( 49): hst/ACS_update_sep07/wfc_f775w_t81.dat\n",
      "F24 E24 ( 24): hst/ACS_update_sep07/wfc_f814w_t81.dat\n",
      "F50 E50 ( 50): hst/ACS_update_sep07/wfc_f850lp_t81.dat\n",
      "F1 E1 (  1): jwst_nircam_f090w\n",
      "F2 E2 (  2): jwst_nircam_f115w\n",
      "F3 E3 (  3): jwst_nircam_f150w\n",
      "F38 E38 ( 38): jwst_nircam_f162m\n",
      "F39 E39 ( 39): jwst_nircam_f182m\n",
      "F4 E4 (  4): jwst_nircam_f200w\n",
      "F40 E40 ( 40): jwst_nircam_f210m\n",
      "F41 E41 ( 41): jwst_nircam_f250m\n",
      "F5 E5 (  5): jwst_nircam_f277w\n",
      "F42 E42 ( 42): jwst_nircam_f300m\n",
      "F43 E43 ( 43): jwst_nircam_f335m\n",
      "F6 E6 (  6): jwst_nircam_f356w\n",
      "F7 E7 (  7): jwst_nircam_f410m\n",
      "F8 E8 (  8): jwst_nircam_f444w\n",
      "Set sys_err = 0.00 (positive=True)\n",
      "Template grid: /nvme/scratch/work/tharvey/EAZY/inputs/scripts/templates/LarsonTemplates/tweak_fsps_QSF_12_v3_newtemplates.param (this may take some time)\n"
     ]
    },
    {
     "name": "stderr",
     "output_type": "stream",
     "text": [
      "100%|██████████| 18/18 [00:12<00:00,  1.46it/s]\n"
     ]
    },
    {
     "name": "stdout",
     "output_type": "stream",
     "text": [
      "Template   0: fsps_QSF_12_v3_001.dat (NZ=1).\n",
      "Template   1: fsps_QSF_12_v3_002.dat (NZ=1).\n",
      "Template   2: fsps_QSF_12_v3_003.dat (NZ=1).\n",
      "Template   3: fsps_QSF_12_v3_004.dat (NZ=1).\n",
      "Template   4: fsps_QSF_12_v3_005.dat (NZ=1).\n",
      "Template   5: fsps_QSF_12_v3_006.dat (NZ=1).\n",
      "Template   6: fsps_QSF_12_v3_007.dat (NZ=1).\n",
      "Template   7: fsps_QSF_12_v3_008.dat (NZ=1).\n",
      "Template   8: fsps_QSF_12_v3_009.dat (NZ=1).\n",
      "Template   9: fsps_QSF_12_v3_010.dat (NZ=1).\n",
      "Template  10: fsps_QSF_12_v3_011.dat (NZ=1).\n",
      "Template  11: fsps_QSF_12_v3_012.dat (NZ=1).\n",
      "Template  12: binc100z001age6_cloudy.dat (NZ=1).\n",
      "Template  13: binc100z001age65_cloudy.dat (NZ=1).\n",
      "Template  14: binc100z001age7_cloudy.dat (NZ=1).\n",
      "Template  15: binc100z001age6.dat (NZ=1).\n",
      "Template  16: binc100z001age65.dat (NZ=1).\n",
      "Template  17: binc100z001age7.dat (NZ=1).\n",
      "Process templates: 12.750 s\n"
     ]
    },
    {
     "name": "stderr",
     "output_type": "stream",
     "text": [
      "304it [00:00, 30417.43it/s]"
     ]
    },
    {
     "name": "stdout",
     "output_type": "stream",
     "text": [
      "Saving tempfilt to /nvme/scratch/work/tharvey/EXPANSE/src/EXPANSE/eazy/tempfilt/\n"
     ]
    },
    {
     "name": "stderr",
     "output_type": "stream",
     "text": [
      "\n",
      "100%|██████████| 304/304 [00:00<00:00, 5481.97it/s]\n"
     ]
    },
    {
     "name": "stdout",
     "output_type": "stream",
     "text": [
      "Compute best fits\n",
      "fit_best: 0.0 s (n_proc=1,  NOBJ=1)\n",
      "Fit 0.4 s (n_proc=4, NOBJ=1)\n",
      "Setting meta, id_phot, 0\n",
      "Setting meta, z_best, 6.8552637\n",
      "Setting meta, chi2, 34.93829121263209\n",
      "Setting meta, z16, 6.7938337\n",
      "Setting meta, z50, 6.850825\n",
      "Setting meta, z84, 6.9086018\n",
      "Setting meta, flux_unit, uJy\n",
      "Setting meta, wave_unit, Angstrom\n",
      "Setting meta, templates_file, /nvme/scratch/work/tharvey/EAZY/inputs/scripts/templates/LarsonTemplates/tweak_fsps_QSF_12_v3_newtemplates.param\n",
      "Setting meta, z_min, 0.01\n",
      "Setting meta, z_max, 20.0\n",
      "Setting meta, z_step, 0.01\n",
      "Setting meta, region, MAG_APER_0.32 arcsec_fsps_larson_0.05__Asada24_cgm\n",
      " added to <HDF5 file \"JOF_psfmatched_3360.h5\" (mode r+)>, interactive_outputs/MAG_APER_0_32 arcsec_fsps_larson_0_05__Asada24_cgm/, eazy_fit\n",
      " added to <HDF5 file \"JOF_psfmatched_3360.h5\" (mode r+)>, interactive_outputs/MAG_APER_0_32 arcsec_fsps_larson_0_05__Asada24_cgm/, p_z\n",
      " added to <HDF5 file \"JOF_psfmatched_3360.h5\" (mode r+)>, interactive_outputs/MAG_APER_0_32 arcsec_fsps_larson_0_05__Asada24_cgm/, input_flux\n",
      " added to <HDF5 file \"JOF_psfmatched_3360.h5\" (mode r+)>, interactive_outputs/MAG_APER_0_32 arcsec_fsps_larson_0_05__Asada24_cgm/, input_flux_err\n",
      "Zeropoint: 23.9\n",
      "{'TEMPLATES_FILE': '/nvme/scratch/work/tharvey/EAZY/inputs/scripts/templates/LarsonTemplates/tweak_fsps_QSF_12_v3_newtemplates.param', 'FILTERS_RES': '/nvme/scratch/work/tharvey/EXPANSE/src/EXPANSE/eazy/jwst_nircam_FILTER.RES', 'MW_EBV': 0, 'CAT_HAS_EXTCORR': False, 'ADD_CGM': True, 'Z_STEP': 0.01, 'Z_MIN': 0.01, 'Z_MAX': 20.0, 'TEMP_ERR_FILE': '/nvme/scratch/work/tharvey/EXPANSE/src/EXPANSE/eazy/TEMPLATE_ERROR.eazy_v1.0', 'TEMP_ERR_A2': 0, 'SYS_ERR': 0, 'APPLY_PRIOR': 'n', 'PRIOR_ABZP': 23.9, 'PRIOR_FILTER': 28, 'PRIOR_FILE': '', 'FIX_ZSPEC': False, 'IGM_SCALE_TAU': 1.0, 'N_MIN_COLORS': 2, 'CATALOG_FILE': '/tmp/tmp_ij4ypzc/eazy_input.fits'}\n",
      "Read default param file: /nvme/scratch/software/anaconda3/envs/tharvey_galfind/lib/python3.10/site-packages/eazy/data/zphot.param.default\n",
      "Read CATALOG_FILE: /tmp/tmp_ij4ypzc/eazy_input.fits\n",
      "   >>> NOBJ = 1\n",
      "F22 E22 ( 22): hst/ACS_update_sep07/wfc_f435w_t81.dat\n",
      "F23 E23 ( 23): hst/ACS_update_sep07/wfc_f606w_t81.dat\n",
      "F49 E49 ( 49): hst/ACS_update_sep07/wfc_f775w_t81.dat\n",
      "F24 E24 ( 24): hst/ACS_update_sep07/wfc_f814w_t81.dat\n",
      "F50 E50 ( 50): hst/ACS_update_sep07/wfc_f850lp_t81.dat\n",
      "F1 E1 (  1): jwst_nircam_f090w\n",
      "F2 E2 (  2): jwst_nircam_f115w\n",
      "F3 E3 (  3): jwst_nircam_f150w\n",
      "F38 E38 ( 38): jwst_nircam_f162m\n",
      "F39 E39 ( 39): jwst_nircam_f182m\n",
      "F4 E4 (  4): jwst_nircam_f200w\n",
      "F40 E40 ( 40): jwst_nircam_f210m\n",
      "F41 E41 ( 41): jwst_nircam_f250m\n",
      "F5 E5 (  5): jwst_nircam_f277w\n",
      "F42 E42 ( 42): jwst_nircam_f300m\n",
      "F43 E43 ( 43): jwst_nircam_f335m\n",
      "F6 E6 (  6): jwst_nircam_f356w\n",
      "F7 E7 (  7): jwst_nircam_f410m\n",
      "F8 E8 (  8): jwst_nircam_f444w\n",
      "Set sys_err = 0.00 (positive=True)\n",
      "Template grid: /nvme/scratch/work/tharvey/EAZY/inputs/scripts/templates/LarsonTemplates/tweak_fsps_QSF_12_v3_newtemplates.param (this may take some time)\n"
     ]
    },
    {
     "name": "stderr",
     "output_type": "stream",
     "text": [
      "100%|██████████| 18/18 [00:12<00:00,  1.46it/s]\n"
     ]
    },
    {
     "name": "stdout",
     "output_type": "stream",
     "text": [
      "Template   0: fsps_QSF_12_v3_001.dat (NZ=1).\n",
      "Template   1: fsps_QSF_12_v3_002.dat (NZ=1).\n",
      "Template   2: fsps_QSF_12_v3_003.dat (NZ=1).\n",
      "Template   3: fsps_QSF_12_v3_004.dat (NZ=1).\n",
      "Template   4: fsps_QSF_12_v3_005.dat (NZ=1).\n",
      "Template   5: fsps_QSF_12_v3_006.dat (NZ=1).\n",
      "Template   6: fsps_QSF_12_v3_007.dat (NZ=1).\n",
      "Template   7: fsps_QSF_12_v3_008.dat (NZ=1).\n",
      "Template   8: fsps_QSF_12_v3_009.dat (NZ=1).\n",
      "Template   9: fsps_QSF_12_v3_010.dat (NZ=1).\n",
      "Template  10: fsps_QSF_12_v3_011.dat (NZ=1).\n",
      "Template  11: fsps_QSF_12_v3_012.dat (NZ=1).\n",
      "Template  12: binc100z001age6_cloudy.dat (NZ=1).\n",
      "Template  13: binc100z001age65_cloudy.dat (NZ=1).\n",
      "Template  14: binc100z001age7_cloudy.dat (NZ=1).\n",
      "Template  15: binc100z001age6.dat (NZ=1).\n",
      "Template  16: binc100z001age65.dat (NZ=1).\n",
      "Template  17: binc100z001age7.dat (NZ=1).\n",
      "Process templates: 12.798 s\n"
     ]
    },
    {
     "name": "stderr",
     "output_type": "stream",
     "text": [
      "304it [00:00, 26382.55it/s]"
     ]
    },
    {
     "name": "stdout",
     "output_type": "stream",
     "text": [
      "Saving tempfilt to /nvme/scratch/work/tharvey/EXPANSE/src/EXPANSE/eazy/tempfilt/\n"
     ]
    },
    {
     "name": "stderr",
     "output_type": "stream",
     "text": [
      "\n",
      "100%|██████████| 304/304 [00:00<00:00, 5607.04it/s]\n"
     ]
    },
    {
     "name": "stdout",
     "output_type": "stream",
     "text": [
      "Compute best fits\n",
      "fit_best: 0.0 s (n_proc=1,  NOBJ=1)\n",
      "Fit 0.4 s (n_proc=4, NOBJ=1)\n",
      "Setting meta, id_phot, 0\n",
      "Setting meta, z_best, 5.9955974\n",
      "Setting meta, chi2, 9.637257336921087\n",
      "Setting meta, z16, 5.8214135\n",
      "Setting meta, z50, 5.954693\n",
      "Setting meta, z84, 6.0235944\n",
      "Setting meta, flux_unit, uJy\n",
      "Setting meta, wave_unit, Angstrom\n",
      "Setting meta, templates_file, /nvme/scratch/work/tharvey/EAZY/inputs/scripts/templates/LarsonTemplates/tweak_fsps_QSF_12_v3_newtemplates.param\n",
      "Setting meta, z_min, 0.01\n",
      "Setting meta, z_max, 20.0\n",
      "Setting meta, z_step, 0.01\n",
      "Setting meta, region, MAG_APER_0.32 arcsec_fsps_larson_0.05__Asada24_cgm\n",
      " added to <HDF5 file \"JOF_psfmatched_3398.h5\" (mode r+)>, interactive_outputs/MAG_APER_0_32 arcsec_fsps_larson_0_05__Asada24_cgm/, eazy_fit\n",
      " added to <HDF5 file \"JOF_psfmatched_3398.h5\" (mode r+)>, interactive_outputs/MAG_APER_0_32 arcsec_fsps_larson_0_05__Asada24_cgm/, p_z\n",
      " added to <HDF5 file \"JOF_psfmatched_3398.h5\" (mode r+)>, interactive_outputs/MAG_APER_0_32 arcsec_fsps_larson_0_05__Asada24_cgm/, input_flux\n",
      " added to <HDF5 file \"JOF_psfmatched_3398.h5\" (mode r+)>, interactive_outputs/MAG_APER_0_32 arcsec_fsps_larson_0_05__Asada24_cgm/, input_flux_err\n",
      "Zeropoint: 23.9\n",
      "{'TEMPLATES_FILE': '/nvme/scratch/work/tharvey/EAZY/inputs/scripts/templates/LarsonTemplates/tweak_fsps_QSF_12_v3_newtemplates.param', 'FILTERS_RES': '/nvme/scratch/work/tharvey/EXPANSE/src/EXPANSE/eazy/jwst_nircam_FILTER.RES', 'MW_EBV': 0, 'CAT_HAS_EXTCORR': False, 'ADD_CGM': True, 'Z_STEP': 0.01, 'Z_MIN': 0.01, 'Z_MAX': 20.0, 'TEMP_ERR_FILE': '/nvme/scratch/work/tharvey/EXPANSE/src/EXPANSE/eazy/TEMPLATE_ERROR.eazy_v1.0', 'TEMP_ERR_A2': 0, 'SYS_ERR': 0, 'APPLY_PRIOR': 'n', 'PRIOR_ABZP': 23.9, 'PRIOR_FILTER': 28, 'PRIOR_FILE': '', 'FIX_ZSPEC': False, 'IGM_SCALE_TAU': 1.0, 'N_MIN_COLORS': 2, 'CATALOG_FILE': '/tmp/tmp50lswaev/eazy_input.fits'}\n",
      "Read default param file: /nvme/scratch/software/anaconda3/envs/tharvey_galfind/lib/python3.10/site-packages/eazy/data/zphot.param.default\n",
      "Read CATALOG_FILE: /tmp/tmp50lswaev/eazy_input.fits\n",
      "   >>> NOBJ = 1\n",
      "F22 E22 ( 22): hst/ACS_update_sep07/wfc_f435w_t81.dat\n",
      "F23 E23 ( 23): hst/ACS_update_sep07/wfc_f606w_t81.dat\n",
      "F49 E49 ( 49): hst/ACS_update_sep07/wfc_f775w_t81.dat\n",
      "F24 E24 ( 24): hst/ACS_update_sep07/wfc_f814w_t81.dat\n",
      "F50 E50 ( 50): hst/ACS_update_sep07/wfc_f850lp_t81.dat\n",
      "F1 E1 (  1): jwst_nircam_f090w\n",
      "F2 E2 (  2): jwst_nircam_f115w\n",
      "F3 E3 (  3): jwst_nircam_f150w\n",
      "F38 E38 ( 38): jwst_nircam_f162m\n",
      "F39 E39 ( 39): jwst_nircam_f182m\n",
      "F4 E4 (  4): jwst_nircam_f200w\n",
      "F40 E40 ( 40): jwst_nircam_f210m\n",
      "F41 E41 ( 41): jwst_nircam_f250m\n",
      "F5 E5 (  5): jwst_nircam_f277w\n",
      "F42 E42 ( 42): jwst_nircam_f300m\n",
      "F43 E43 ( 43): jwst_nircam_f335m\n",
      "F6 E6 (  6): jwst_nircam_f356w\n",
      "F7 E7 (  7): jwst_nircam_f410m\n",
      "F8 E8 (  8): jwst_nircam_f444w\n",
      "Set sys_err = 0.00 (positive=True)\n",
      "Template grid: /nvme/scratch/work/tharvey/EAZY/inputs/scripts/templates/LarsonTemplates/tweak_fsps_QSF_12_v3_newtemplates.param (this may take some time)\n"
     ]
    },
    {
     "name": "stderr",
     "output_type": "stream",
     "text": [
      "100%|██████████| 18/18 [00:12<00:00,  1.49it/s]\n"
     ]
    },
    {
     "name": "stdout",
     "output_type": "stream",
     "text": [
      "Template   0: fsps_QSF_12_v3_001.dat (NZ=1).\n",
      "Template   1: fsps_QSF_12_v3_002.dat (NZ=1).\n",
      "Template   2: fsps_QSF_12_v3_003.dat (NZ=1).\n",
      "Template   3: fsps_QSF_12_v3_004.dat (NZ=1).\n",
      "Template   4: fsps_QSF_12_v3_005.dat (NZ=1).\n",
      "Template   5: fsps_QSF_12_v3_006.dat (NZ=1).\n",
      "Template   6: fsps_QSF_12_v3_007.dat (NZ=1).\n",
      "Template   7: fsps_QSF_12_v3_008.dat (NZ=1).\n",
      "Template   8: fsps_QSF_12_v3_009.dat (NZ=1).\n",
      "Template   9: fsps_QSF_12_v3_010.dat (NZ=1).\n",
      "Template  10: fsps_QSF_12_v3_011.dat (NZ=1).\n",
      "Template  11: fsps_QSF_12_v3_012.dat (NZ=1).\n",
      "Template  12: binc100z001age6_cloudy.dat (NZ=1).\n",
      "Template  13: binc100z001age65_cloudy.dat (NZ=1).\n",
      "Template  14: binc100z001age7_cloudy.dat (NZ=1).\n",
      "Template  15: binc100z001age6.dat (NZ=1).\n",
      "Template  16: binc100z001age65.dat (NZ=1).\n",
      "Template  17: binc100z001age7.dat (NZ=1).\n",
      "Process templates: 12.542 s\n"
     ]
    },
    {
     "name": "stderr",
     "output_type": "stream",
     "text": [
      "304it [00:00, 20916.82it/s]"
     ]
    },
    {
     "name": "stdout",
     "output_type": "stream",
     "text": [
      "Saving tempfilt to /nvme/scratch/work/tharvey/EXPANSE/src/EXPANSE/eazy/tempfilt/\n"
     ]
    },
    {
     "name": "stderr",
     "output_type": "stream",
     "text": [
      "\n",
      "100%|██████████| 304/304 [00:00<00:00, 4192.95it/s]\n"
     ]
    },
    {
     "name": "stdout",
     "output_type": "stream",
     "text": [
      "Compute best fits\n",
      "fit_best: 0.0 s (n_proc=1,  NOBJ=1)\n",
      "Fit 0.4 s (n_proc=4, NOBJ=1)\n",
      "Setting meta, id_phot, 0\n",
      "Setting meta, z_best, 8.277986\n",
      "Setting meta, chi2, 7.371494627669971\n",
      "Setting meta, z16, 8.150514\n",
      "Setting meta, z50, 8.281299\n",
      "Setting meta, z84, 8.417032\n",
      "Setting meta, flux_unit, uJy\n",
      "Setting meta, wave_unit, Angstrom\n",
      "Setting meta, templates_file, /nvme/scratch/work/tharvey/EAZY/inputs/scripts/templates/LarsonTemplates/tweak_fsps_QSF_12_v3_newtemplates.param\n",
      "Setting meta, z_min, 0.01\n",
      "Setting meta, z_max, 20.0\n",
      "Setting meta, z_step, 0.01\n",
      "Setting meta, region, MAG_APER_0.32 arcsec_fsps_larson_0.05__Asada24_cgm\n",
      " added to <HDF5 file \"JOF_psfmatched_3400.h5\" (mode r+)>, interactive_outputs/MAG_APER_0_32 arcsec_fsps_larson_0_05__Asada24_cgm/, eazy_fit\n",
      " added to <HDF5 file \"JOF_psfmatched_3400.h5\" (mode r+)>, interactive_outputs/MAG_APER_0_32 arcsec_fsps_larson_0_05__Asada24_cgm/, p_z\n",
      " added to <HDF5 file \"JOF_psfmatched_3400.h5\" (mode r+)>, interactive_outputs/MAG_APER_0_32 arcsec_fsps_larson_0_05__Asada24_cgm/, input_flux\n",
      " added to <HDF5 file \"JOF_psfmatched_3400.h5\" (mode r+)>, interactive_outputs/MAG_APER_0_32 arcsec_fsps_larson_0_05__Asada24_cgm/, input_flux_err\n",
      "Zeropoint: 23.9\n",
      "{'TEMPLATES_FILE': '/nvme/scratch/work/tharvey/EAZY/inputs/scripts/templates/LarsonTemplates/tweak_fsps_QSF_12_v3_newtemplates.param', 'FILTERS_RES': '/nvme/scratch/work/tharvey/EXPANSE/src/EXPANSE/eazy/jwst_nircam_FILTER.RES', 'MW_EBV': 0, 'CAT_HAS_EXTCORR': False, 'ADD_CGM': True, 'Z_STEP': 0.01, 'Z_MIN': 0.01, 'Z_MAX': 20.0, 'TEMP_ERR_FILE': '/nvme/scratch/work/tharvey/EXPANSE/src/EXPANSE/eazy/TEMPLATE_ERROR.eazy_v1.0', 'TEMP_ERR_A2': 0, 'SYS_ERR': 0, 'APPLY_PRIOR': 'n', 'PRIOR_ABZP': 23.9, 'PRIOR_FILTER': 28, 'PRIOR_FILE': '', 'FIX_ZSPEC': False, 'IGM_SCALE_TAU': 1.0, 'N_MIN_COLORS': 2, 'CATALOG_FILE': '/tmp/tmp90xqzlyj/eazy_input.fits'}\n",
      "Read default param file: /nvme/scratch/software/anaconda3/envs/tharvey_galfind/lib/python3.10/site-packages/eazy/data/zphot.param.default\n",
      "Read CATALOG_FILE: /tmp/tmp90xqzlyj/eazy_input.fits\n",
      "   >>> NOBJ = 1\n",
      "F22 E22 ( 22): hst/ACS_update_sep07/wfc_f435w_t81.dat\n",
      "F23 E23 ( 23): hst/ACS_update_sep07/wfc_f606w_t81.dat\n",
      "F49 E49 ( 49): hst/ACS_update_sep07/wfc_f775w_t81.dat\n",
      "F24 E24 ( 24): hst/ACS_update_sep07/wfc_f814w_t81.dat\n",
      "F50 E50 ( 50): hst/ACS_update_sep07/wfc_f850lp_t81.dat\n",
      "F1 E1 (  1): jwst_nircam_f090w\n",
      "F2 E2 (  2): jwst_nircam_f115w\n",
      "F3 E3 (  3): jwst_nircam_f150w\n",
      "F38 E38 ( 38): jwst_nircam_f162m\n",
      "F39 E39 ( 39): jwst_nircam_f182m\n",
      "F4 E4 (  4): jwst_nircam_f200w\n",
      "F40 E40 ( 40): jwst_nircam_f210m\n",
      "F41 E41 ( 41): jwst_nircam_f250m\n",
      "F5 E5 (  5): jwst_nircam_f277w\n",
      "F42 E42 ( 42): jwst_nircam_f300m\n",
      "F43 E43 ( 43): jwst_nircam_f335m\n",
      "F6 E6 (  6): jwst_nircam_f356w\n",
      "F7 E7 (  7): jwst_nircam_f410m\n",
      "F8 E8 (  8): jwst_nircam_f444w\n",
      "Set sys_err = 0.00 (positive=True)\n",
      "Template grid: /nvme/scratch/work/tharvey/EAZY/inputs/scripts/templates/LarsonTemplates/tweak_fsps_QSF_12_v3_newtemplates.param (this may take some time)\n"
     ]
    },
    {
     "name": "stderr",
     "output_type": "stream",
     "text": [
      "100%|██████████| 18/18 [00:11<00:00,  1.52it/s]\n"
     ]
    },
    {
     "name": "stdout",
     "output_type": "stream",
     "text": [
      "Template   0: fsps_QSF_12_v3_001.dat (NZ=1).\n",
      "Template   1: fsps_QSF_12_v3_002.dat (NZ=1).\n",
      "Template   2: fsps_QSF_12_v3_003.dat (NZ=1).\n",
      "Template   3: fsps_QSF_12_v3_004.dat (NZ=1).\n",
      "Template   4: fsps_QSF_12_v3_005.dat (NZ=1).\n",
      "Template   5: fsps_QSF_12_v3_006.dat (NZ=1).\n",
      "Template   6: fsps_QSF_12_v3_007.dat (NZ=1).\n",
      "Template   7: fsps_QSF_12_v3_008.dat (NZ=1).\n",
      "Template   8: fsps_QSF_12_v3_009.dat (NZ=1).\n",
      "Template   9: fsps_QSF_12_v3_010.dat (NZ=1).\n",
      "Template  10: fsps_QSF_12_v3_011.dat (NZ=1).\n",
      "Template  11: fsps_QSF_12_v3_012.dat (NZ=1).\n",
      "Template  12: binc100z001age6_cloudy.dat (NZ=1).\n",
      "Template  13: binc100z001age65_cloudy.dat (NZ=1).\n",
      "Template  14: binc100z001age7_cloudy.dat (NZ=1).\n",
      "Template  15: binc100z001age6.dat (NZ=1).\n",
      "Template  16: binc100z001age65.dat (NZ=1).\n",
      "Template  17: binc100z001age7.dat (NZ=1).\n",
      "Process templates: 12.256 s\n"
     ]
    },
    {
     "name": "stderr",
     "output_type": "stream",
     "text": [
      "304it [00:00, 17605.61it/s]"
     ]
    },
    {
     "name": "stdout",
     "output_type": "stream",
     "text": [
      "Saving tempfilt to /nvme/scratch/work/tharvey/EXPANSE/src/EXPANSE/eazy/tempfilt/\n"
     ]
    },
    {
     "name": "stderr",
     "output_type": "stream",
     "text": [
      "\n",
      "100%|██████████| 304/304 [00:00<00:00, 5696.80it/s]\n"
     ]
    },
    {
     "name": "stdout",
     "output_type": "stream",
     "text": [
      "Compute best fits\n",
      "fit_best: 0.0 s (n_proc=1,  NOBJ=1)\n",
      "Fit 0.4 s (n_proc=4, NOBJ=1)\n",
      "Setting meta, id_phot, 0\n",
      "Setting meta, z_best, 5.937262\n",
      "Setting meta, chi2, 35.9740046586634\n",
      "Setting meta, z16, 5.8251843\n",
      "Setting meta, z50, 5.9251337\n",
      "Setting meta, z84, 5.9725246\n",
      "Setting meta, flux_unit, uJy\n",
      "Setting meta, wave_unit, Angstrom\n",
      "Setting meta, templates_file, /nvme/scratch/work/tharvey/EAZY/inputs/scripts/templates/LarsonTemplates/tweak_fsps_QSF_12_v3_newtemplates.param\n",
      "Setting meta, z_min, 0.01\n",
      "Setting meta, z_max, 20.0\n",
      "Setting meta, z_step, 0.01\n",
      "Setting meta, region, MAG_APER_0.32 arcsec_fsps_larson_0.05__Asada24_cgm\n",
      " added to <HDF5 file \"JOF_psfmatched_3419.h5\" (mode r+)>, interactive_outputs/MAG_APER_0_32 arcsec_fsps_larson_0_05__Asada24_cgm/, eazy_fit\n",
      " added to <HDF5 file \"JOF_psfmatched_3419.h5\" (mode r+)>, interactive_outputs/MAG_APER_0_32 arcsec_fsps_larson_0_05__Asada24_cgm/, p_z\n",
      " added to <HDF5 file \"JOF_psfmatched_3419.h5\" (mode r+)>, interactive_outputs/MAG_APER_0_32 arcsec_fsps_larson_0_05__Asada24_cgm/, input_flux\n",
      " added to <HDF5 file \"JOF_psfmatched_3419.h5\" (mode r+)>, interactive_outputs/MAG_APER_0_32 arcsec_fsps_larson_0_05__Asada24_cgm/, input_flux_err\n",
      "Zeropoint: 23.9\n",
      "{'TEMPLATES_FILE': '/nvme/scratch/work/tharvey/EAZY/inputs/scripts/templates/LarsonTemplates/tweak_fsps_QSF_12_v3_newtemplates.param', 'FILTERS_RES': '/nvme/scratch/work/tharvey/EXPANSE/src/EXPANSE/eazy/jwst_nircam_FILTER.RES', 'MW_EBV': 0, 'CAT_HAS_EXTCORR': False, 'ADD_CGM': True, 'Z_STEP': 0.01, 'Z_MIN': 0.01, 'Z_MAX': 20.0, 'TEMP_ERR_FILE': '/nvme/scratch/work/tharvey/EXPANSE/src/EXPANSE/eazy/TEMPLATE_ERROR.eazy_v1.0', 'TEMP_ERR_A2': 0, 'SYS_ERR': 0, 'APPLY_PRIOR': 'n', 'PRIOR_ABZP': 23.9, 'PRIOR_FILTER': 28, 'PRIOR_FILE': '', 'FIX_ZSPEC': False, 'IGM_SCALE_TAU': 1.0, 'N_MIN_COLORS': 2, 'CATALOG_FILE': '/tmp/tmpg5vqu47r/eazy_input.fits'}\n",
      "Read default param file: /nvme/scratch/software/anaconda3/envs/tharvey_galfind/lib/python3.10/site-packages/eazy/data/zphot.param.default\n",
      "Read CATALOG_FILE: /tmp/tmpg5vqu47r/eazy_input.fits\n",
      "   >>> NOBJ = 1\n",
      "F22 E22 ( 22): hst/ACS_update_sep07/wfc_f435w_t81.dat\n",
      "F23 E23 ( 23): hst/ACS_update_sep07/wfc_f606w_t81.dat\n",
      "F49 E49 ( 49): hst/ACS_update_sep07/wfc_f775w_t81.dat\n",
      "F24 E24 ( 24): hst/ACS_update_sep07/wfc_f814w_t81.dat\n",
      "F50 E50 ( 50): hst/ACS_update_sep07/wfc_f850lp_t81.dat\n",
      "F1 E1 (  1): jwst_nircam_f090w\n",
      "F2 E2 (  2): jwst_nircam_f115w\n",
      "F3 E3 (  3): jwst_nircam_f150w\n",
      "F38 E38 ( 38): jwst_nircam_f162m\n",
      "F39 E39 ( 39): jwst_nircam_f182m\n",
      "F4 E4 (  4): jwst_nircam_f200w\n",
      "F40 E40 ( 40): jwst_nircam_f210m\n",
      "F41 E41 ( 41): jwst_nircam_f250m\n",
      "F5 E5 (  5): jwst_nircam_f277w\n",
      "F42 E42 ( 42): jwst_nircam_f300m\n",
      "F43 E43 ( 43): jwst_nircam_f335m\n",
      "F6 E6 (  6): jwst_nircam_f356w\n",
      "F7 E7 (  7): jwst_nircam_f410m\n",
      "F8 E8 (  8): jwst_nircam_f444w\n",
      "Set sys_err = 0.00 (positive=True)\n",
      "Template grid: /nvme/scratch/work/tharvey/EAZY/inputs/scripts/templates/LarsonTemplates/tweak_fsps_QSF_12_v3_newtemplates.param (this may take some time)\n"
     ]
    },
    {
     "name": "stderr",
     "output_type": "stream",
     "text": [
      "100%|██████████| 18/18 [00:11<00:00,  1.53it/s]\n"
     ]
    },
    {
     "name": "stdout",
     "output_type": "stream",
     "text": [
      "Template   0: fsps_QSF_12_v3_001.dat (NZ=1).\n",
      "Template   1: fsps_QSF_12_v3_002.dat (NZ=1).\n",
      "Template   2: fsps_QSF_12_v3_003.dat (NZ=1).\n",
      "Template   3: fsps_QSF_12_v3_004.dat (NZ=1).\n",
      "Template   4: fsps_QSF_12_v3_005.dat (NZ=1).\n",
      "Template   5: fsps_QSF_12_v3_006.dat (NZ=1).\n",
      "Template   6: fsps_QSF_12_v3_007.dat (NZ=1).\n",
      "Template   7: fsps_QSF_12_v3_008.dat (NZ=1).\n",
      "Template   8: fsps_QSF_12_v3_009.dat (NZ=1).\n",
      "Template   9: fsps_QSF_12_v3_010.dat (NZ=1).\n",
      "Template  10: fsps_QSF_12_v3_011.dat (NZ=1).\n",
      "Template  11: fsps_QSF_12_v3_012.dat (NZ=1).\n",
      "Template  12: binc100z001age6_cloudy.dat (NZ=1).\n",
      "Template  13: binc100z001age65_cloudy.dat (NZ=1).\n",
      "Template  14: binc100z001age7_cloudy.dat (NZ=1).\n",
      "Template  15: binc100z001age6.dat (NZ=1).\n",
      "Template  16: binc100z001age65.dat (NZ=1).\n",
      "Template  17: binc100z001age7.dat (NZ=1).\n",
      "Process templates: 12.189 s\n"
     ]
    },
    {
     "name": "stderr",
     "output_type": "stream",
     "text": [
      "304it [00:00, 17145.39it/s]"
     ]
    },
    {
     "name": "stdout",
     "output_type": "stream",
     "text": [
      "Saving tempfilt to /nvme/scratch/work/tharvey/EXPANSE/src/EXPANSE/eazy/tempfilt/\n"
     ]
    },
    {
     "name": "stderr",
     "output_type": "stream",
     "text": [
      "\n",
      "100%|██████████| 304/304 [00:00<00:00, 5981.97it/s]\n"
     ]
    },
    {
     "name": "stdout",
     "output_type": "stream",
     "text": [
      "Compute best fits\n",
      "fit_best: 0.0 s (n_proc=1,  NOBJ=1)\n",
      "Fit 0.4 s (n_proc=4, NOBJ=1)\n",
      "Setting meta, id_phot, 0\n",
      "Setting meta, z_best, 5.974819\n",
      "Setting meta, chi2, 33.886349011066514\n",
      "Setting meta, z16, 5.9164786\n",
      "Setting meta, z50, 5.9750752\n",
      "Setting meta, z84, 6.0114365\n",
      "Setting meta, flux_unit, uJy\n",
      "Setting meta, wave_unit, Angstrom\n",
      "Setting meta, templates_file, /nvme/scratch/work/tharvey/EAZY/inputs/scripts/templates/LarsonTemplates/tweak_fsps_QSF_12_v3_newtemplates.param\n",
      "Setting meta, z_min, 0.01\n",
      "Setting meta, z_max, 20.0\n",
      "Setting meta, z_step, 0.01\n",
      "Setting meta, region, MAG_APER_0.32 arcsec_fsps_larson_0.05__Asada24_cgm\n",
      " added to <HDF5 file \"JOF_psfmatched_3434.h5\" (mode r+)>, interactive_outputs/MAG_APER_0_32 arcsec_fsps_larson_0_05__Asada24_cgm/, eazy_fit\n",
      " added to <HDF5 file \"JOF_psfmatched_3434.h5\" (mode r+)>, interactive_outputs/MAG_APER_0_32 arcsec_fsps_larson_0_05__Asada24_cgm/, p_z\n",
      " added to <HDF5 file \"JOF_psfmatched_3434.h5\" (mode r+)>, interactive_outputs/MAG_APER_0_32 arcsec_fsps_larson_0_05__Asada24_cgm/, input_flux\n",
      " added to <HDF5 file \"JOF_psfmatched_3434.h5\" (mode r+)>, interactive_outputs/MAG_APER_0_32 arcsec_fsps_larson_0_05__Asada24_cgm/, input_flux_err\n",
      "Zeropoint: 23.9\n",
      "{'TEMPLATES_FILE': '/nvme/scratch/work/tharvey/EAZY/inputs/scripts/templates/LarsonTemplates/tweak_fsps_QSF_12_v3_newtemplates.param', 'FILTERS_RES': '/nvme/scratch/work/tharvey/EXPANSE/src/EXPANSE/eazy/jwst_nircam_FILTER.RES', 'MW_EBV': 0, 'CAT_HAS_EXTCORR': False, 'ADD_CGM': True, 'Z_STEP': 0.01, 'Z_MIN': 0.01, 'Z_MAX': 20.0, 'TEMP_ERR_FILE': '/nvme/scratch/work/tharvey/EXPANSE/src/EXPANSE/eazy/TEMPLATE_ERROR.eazy_v1.0', 'TEMP_ERR_A2': 0, 'SYS_ERR': 0, 'APPLY_PRIOR': 'n', 'PRIOR_ABZP': 23.9, 'PRIOR_FILTER': 28, 'PRIOR_FILE': '', 'FIX_ZSPEC': False, 'IGM_SCALE_TAU': 1.0, 'N_MIN_COLORS': 2, 'CATALOG_FILE': '/tmp/tmpvpp8t7oo/eazy_input.fits'}\n",
      "Read default param file: /nvme/scratch/software/anaconda3/envs/tharvey_galfind/lib/python3.10/site-packages/eazy/data/zphot.param.default\n",
      "Read CATALOG_FILE: /tmp/tmpvpp8t7oo/eazy_input.fits\n",
      "   >>> NOBJ = 1\n",
      "F22 E22 ( 22): hst/ACS_update_sep07/wfc_f435w_t81.dat\n",
      "F23 E23 ( 23): hst/ACS_update_sep07/wfc_f606w_t81.dat\n",
      "F49 E49 ( 49): hst/ACS_update_sep07/wfc_f775w_t81.dat\n",
      "F24 E24 ( 24): hst/ACS_update_sep07/wfc_f814w_t81.dat\n",
      "F50 E50 ( 50): hst/ACS_update_sep07/wfc_f850lp_t81.dat\n",
      "F1 E1 (  1): jwst_nircam_f090w\n",
      "F2 E2 (  2): jwst_nircam_f115w\n",
      "F3 E3 (  3): jwst_nircam_f150w\n",
      "F38 E38 ( 38): jwst_nircam_f162m\n",
      "F39 E39 ( 39): jwst_nircam_f182m\n",
      "F4 E4 (  4): jwst_nircam_f200w\n",
      "F40 E40 ( 40): jwst_nircam_f210m\n",
      "F41 E41 ( 41): jwst_nircam_f250m\n",
      "F5 E5 (  5): jwst_nircam_f277w\n",
      "F42 E42 ( 42): jwst_nircam_f300m\n",
      "F43 E43 ( 43): jwst_nircam_f335m\n",
      "F6 E6 (  6): jwst_nircam_f356w\n",
      "F7 E7 (  7): jwst_nircam_f410m\n",
      "F8 E8 (  8): jwst_nircam_f444w\n",
      "Set sys_err = 0.00 (positive=True)\n",
      "Template grid: /nvme/scratch/work/tharvey/EAZY/inputs/scripts/templates/LarsonTemplates/tweak_fsps_QSF_12_v3_newtemplates.param (this may take some time)\n"
     ]
    },
    {
     "name": "stderr",
     "output_type": "stream",
     "text": [
      "100%|██████████| 18/18 [00:11<00:00,  1.52it/s]\n"
     ]
    },
    {
     "name": "stdout",
     "output_type": "stream",
     "text": [
      "Template   0: fsps_QSF_12_v3_001.dat (NZ=1).\n",
      "Template   1: fsps_QSF_12_v3_002.dat (NZ=1).\n",
      "Template   2: fsps_QSF_12_v3_003.dat (NZ=1).\n",
      "Template   3: fsps_QSF_12_v3_004.dat (NZ=1).\n",
      "Template   4: fsps_QSF_12_v3_005.dat (NZ=1).\n",
      "Template   5: fsps_QSF_12_v3_006.dat (NZ=1).\n",
      "Template   6: fsps_QSF_12_v3_007.dat (NZ=1).\n",
      "Template   7: fsps_QSF_12_v3_008.dat (NZ=1).\n",
      "Template   8: fsps_QSF_12_v3_009.dat (NZ=1).\n",
      "Template   9: fsps_QSF_12_v3_010.dat (NZ=1).\n",
      "Template  10: fsps_QSF_12_v3_011.dat (NZ=1).\n",
      "Template  11: fsps_QSF_12_v3_012.dat (NZ=1).\n",
      "Template  12: binc100z001age6_cloudy.dat (NZ=1).\n",
      "Template  13: binc100z001age65_cloudy.dat (NZ=1).\n",
      "Template  14: binc100z001age7_cloudy.dat (NZ=1).\n",
      "Template  15: binc100z001age6.dat (NZ=1).\n",
      "Template  16: binc100z001age65.dat (NZ=1).\n",
      "Template  17: binc100z001age7.dat (NZ=1).\n",
      "Process templates: 12.383 s\n"
     ]
    },
    {
     "name": "stderr",
     "output_type": "stream",
     "text": [
      "304it [00:00, 20215.12it/s]"
     ]
    },
    {
     "name": "stdout",
     "output_type": "stream",
     "text": [
      "Saving tempfilt to /nvme/scratch/work/tharvey/EXPANSE/src/EXPANSE/eazy/tempfilt/\n"
     ]
    },
    {
     "name": "stderr",
     "output_type": "stream",
     "text": [
      "\n",
      "100%|██████████| 304/304 [00:00<00:00, 6255.30it/s]\n"
     ]
    },
    {
     "name": "stdout",
     "output_type": "stream",
     "text": [
      "Compute best fits\n",
      "fit_best: 0.0 s (n_proc=1,  NOBJ=1)\n",
      "Fit 0.4 s (n_proc=4, NOBJ=1)\n",
      "Setting meta, id_phot, 0\n",
      "Setting meta, z_best, 8.316404\n",
      "Setting meta, chi2, 17.62933203529334\n",
      "Setting meta, z16, 8.205802\n",
      "Setting meta, z50, 8.315014\n",
      "Setting meta, z84, 8.424715\n",
      "Setting meta, flux_unit, uJy\n",
      "Setting meta, wave_unit, Angstrom\n",
      "Setting meta, templates_file, /nvme/scratch/work/tharvey/EAZY/inputs/scripts/templates/LarsonTemplates/tweak_fsps_QSF_12_v3_newtemplates.param\n",
      "Setting meta, z_min, 0.01\n",
      "Setting meta, z_max, 20.0\n",
      "Setting meta, z_step, 0.01\n",
      "Setting meta, region, MAG_APER_0.32 arcsec_fsps_larson_0.05__Asada24_cgm\n",
      " added to <HDF5 file \"JOF_psfmatched_3639.h5\" (mode r+)>, interactive_outputs/MAG_APER_0_32 arcsec_fsps_larson_0_05__Asada24_cgm/, eazy_fit\n",
      " added to <HDF5 file \"JOF_psfmatched_3639.h5\" (mode r+)>, interactive_outputs/MAG_APER_0_32 arcsec_fsps_larson_0_05__Asada24_cgm/, p_z\n",
      " added to <HDF5 file \"JOF_psfmatched_3639.h5\" (mode r+)>, interactive_outputs/MAG_APER_0_32 arcsec_fsps_larson_0_05__Asada24_cgm/, input_flux\n",
      " added to <HDF5 file \"JOF_psfmatched_3639.h5\" (mode r+)>, interactive_outputs/MAG_APER_0_32 arcsec_fsps_larson_0_05__Asada24_cgm/, input_flux_err\n",
      "Zeropoint: 23.9\n",
      "{'TEMPLATES_FILE': '/nvme/scratch/work/tharvey/EAZY/inputs/scripts/templates/LarsonTemplates/tweak_fsps_QSF_12_v3_newtemplates.param', 'FILTERS_RES': '/nvme/scratch/work/tharvey/EXPANSE/src/EXPANSE/eazy/jwst_nircam_FILTER.RES', 'MW_EBV': 0, 'CAT_HAS_EXTCORR': False, 'ADD_CGM': True, 'Z_STEP': 0.01, 'Z_MIN': 0.01, 'Z_MAX': 20.0, 'TEMP_ERR_FILE': '/nvme/scratch/work/tharvey/EXPANSE/src/EXPANSE/eazy/TEMPLATE_ERROR.eazy_v1.0', 'TEMP_ERR_A2': 0, 'SYS_ERR': 0, 'APPLY_PRIOR': 'n', 'PRIOR_ABZP': 23.9, 'PRIOR_FILTER': 28, 'PRIOR_FILE': '', 'FIX_ZSPEC': False, 'IGM_SCALE_TAU': 1.0, 'N_MIN_COLORS': 2, 'CATALOG_FILE': '/tmp/tmpggd1iewx/eazy_input.fits'}\n",
      "Read default param file: /nvme/scratch/software/anaconda3/envs/tharvey_galfind/lib/python3.10/site-packages/eazy/data/zphot.param.default\n",
      "Read CATALOG_FILE: /tmp/tmpggd1iewx/eazy_input.fits\n",
      "   >>> NOBJ = 1\n",
      "F22 E22 ( 22): hst/ACS_update_sep07/wfc_f435w_t81.dat\n",
      "F23 E23 ( 23): hst/ACS_update_sep07/wfc_f606w_t81.dat\n",
      "F49 E49 ( 49): hst/ACS_update_sep07/wfc_f775w_t81.dat\n",
      "F24 E24 ( 24): hst/ACS_update_sep07/wfc_f814w_t81.dat\n",
      "F50 E50 ( 50): hst/ACS_update_sep07/wfc_f850lp_t81.dat\n",
      "F1 E1 (  1): jwst_nircam_f090w\n",
      "F2 E2 (  2): jwst_nircam_f115w\n",
      "F3 E3 (  3): jwst_nircam_f150w\n",
      "F38 E38 ( 38): jwst_nircam_f162m\n",
      "F39 E39 ( 39): jwst_nircam_f182m\n",
      "F4 E4 (  4): jwst_nircam_f200w\n",
      "F40 E40 ( 40): jwst_nircam_f210m\n",
      "F41 E41 ( 41): jwst_nircam_f250m\n",
      "F5 E5 (  5): jwst_nircam_f277w\n",
      "F42 E42 ( 42): jwst_nircam_f300m\n",
      "F43 E43 ( 43): jwst_nircam_f335m\n",
      "F6 E6 (  6): jwst_nircam_f356w\n",
      "F7 E7 (  7): jwst_nircam_f410m\n",
      "F8 E8 (  8): jwst_nircam_f444w\n",
      "Set sys_err = 0.00 (positive=True)\n",
      "Template grid: /nvme/scratch/work/tharvey/EAZY/inputs/scripts/templates/LarsonTemplates/tweak_fsps_QSF_12_v3_newtemplates.param (this may take some time)\n"
     ]
    },
    {
     "name": "stderr",
     "output_type": "stream",
     "text": [
      "100%|██████████| 18/18 [00:11<00:00,  1.53it/s]\n"
     ]
    },
    {
     "name": "stdout",
     "output_type": "stream",
     "text": [
      "Template   0: fsps_QSF_12_v3_001.dat (NZ=1).\n",
      "Template   1: fsps_QSF_12_v3_002.dat (NZ=1).\n",
      "Template   2: fsps_QSF_12_v3_003.dat (NZ=1).\n",
      "Template   3: fsps_QSF_12_v3_004.dat (NZ=1).\n",
      "Template   4: fsps_QSF_12_v3_005.dat (NZ=1).\n",
      "Template   5: fsps_QSF_12_v3_006.dat (NZ=1).\n",
      "Template   6: fsps_QSF_12_v3_007.dat (NZ=1).\n",
      "Template   7: fsps_QSF_12_v3_008.dat (NZ=1).\n",
      "Template   8: fsps_QSF_12_v3_009.dat (NZ=1).\n",
      "Template   9: fsps_QSF_12_v3_010.dat (NZ=1).\n",
      "Template  10: fsps_QSF_12_v3_011.dat (NZ=1).\n",
      "Template  11: fsps_QSF_12_v3_012.dat (NZ=1).\n",
      "Template  12: binc100z001age6_cloudy.dat (NZ=1).\n",
      "Template  13: binc100z001age65_cloudy.dat (NZ=1).\n",
      "Template  14: binc100z001age7_cloudy.dat (NZ=1).\n",
      "Template  15: binc100z001age6.dat (NZ=1).\n",
      "Template  16: binc100z001age65.dat (NZ=1).\n",
      "Template  17: binc100z001age7.dat (NZ=1).\n",
      "Process templates: 12.199 s\n"
     ]
    },
    {
     "name": "stderr",
     "output_type": "stream",
     "text": [
      "304it [00:00, 22326.93it/s]"
     ]
    },
    {
     "name": "stdout",
     "output_type": "stream",
     "text": [
      "Saving tempfilt to /nvme/scratch/work/tharvey/EXPANSE/src/EXPANSE/eazy/tempfilt/\n"
     ]
    },
    {
     "name": "stderr",
     "output_type": "stream",
     "text": [
      "\n",
      "100%|██████████| 304/304 [00:00<00:00, 4838.91it/s]\n"
     ]
    },
    {
     "name": "stdout",
     "output_type": "stream",
     "text": [
      "Compute best fits\n",
      "fit_best: 0.0 s (n_proc=1,  NOBJ=1)\n",
      "Fit 0.4 s (n_proc=4, NOBJ=1)\n",
      "Setting meta, id_phot, 0\n",
      "Setting meta, z_best, 5.9403734\n",
      "Setting meta, chi2, 24.83991211981165\n",
      "Setting meta, z16, 5.8179855\n",
      "Setting meta, z50, 5.9483933\n",
      "Setting meta, z84, 6.095056\n",
      "Setting meta, flux_unit, uJy\n",
      "Setting meta, wave_unit, Angstrom\n",
      "Setting meta, templates_file, /nvme/scratch/work/tharvey/EAZY/inputs/scripts/templates/LarsonTemplates/tweak_fsps_QSF_12_v3_newtemplates.param\n",
      "Setting meta, z_min, 0.01\n",
      "Setting meta, z_max, 20.0\n",
      "Setting meta, z_step, 0.01\n",
      "Setting meta, region, MAG_APER_0.32 arcsec_fsps_larson_0.05__Asada24_cgm\n",
      " added to <HDF5 file \"JOF_psfmatched_3748.h5\" (mode r+)>, interactive_outputs/MAG_APER_0_32 arcsec_fsps_larson_0_05__Asada24_cgm/, eazy_fit\n",
      " added to <HDF5 file \"JOF_psfmatched_3748.h5\" (mode r+)>, interactive_outputs/MAG_APER_0_32 arcsec_fsps_larson_0_05__Asada24_cgm/, p_z\n",
      " added to <HDF5 file \"JOF_psfmatched_3748.h5\" (mode r+)>, interactive_outputs/MAG_APER_0_32 arcsec_fsps_larson_0_05__Asada24_cgm/, input_flux\n",
      " added to <HDF5 file \"JOF_psfmatched_3748.h5\" (mode r+)>, interactive_outputs/MAG_APER_0_32 arcsec_fsps_larson_0_05__Asada24_cgm/, input_flux_err\n",
      "Zeropoint: 23.9\n",
      "{'TEMPLATES_FILE': '/nvme/scratch/work/tharvey/EAZY/inputs/scripts/templates/LarsonTemplates/tweak_fsps_QSF_12_v3_newtemplates.param', 'FILTERS_RES': '/nvme/scratch/work/tharvey/EXPANSE/src/EXPANSE/eazy/jwst_nircam_FILTER.RES', 'MW_EBV': 0, 'CAT_HAS_EXTCORR': False, 'ADD_CGM': True, 'Z_STEP': 0.01, 'Z_MIN': 0.01, 'Z_MAX': 20.0, 'TEMP_ERR_FILE': '/nvme/scratch/work/tharvey/EXPANSE/src/EXPANSE/eazy/TEMPLATE_ERROR.eazy_v1.0', 'TEMP_ERR_A2': 0, 'SYS_ERR': 0, 'APPLY_PRIOR': 'n', 'PRIOR_ABZP': 23.9, 'PRIOR_FILTER': 28, 'PRIOR_FILE': '', 'FIX_ZSPEC': False, 'IGM_SCALE_TAU': 1.0, 'N_MIN_COLORS': 2, 'CATALOG_FILE': '/tmp/tmpp0ocvfrf/eazy_input.fits'}\n",
      "Read default param file: /nvme/scratch/software/anaconda3/envs/tharvey_galfind/lib/python3.10/site-packages/eazy/data/zphot.param.default\n",
      "Read CATALOG_FILE: /tmp/tmpp0ocvfrf/eazy_input.fits\n",
      "   >>> NOBJ = 1\n",
      "F22 E22 ( 22): hst/ACS_update_sep07/wfc_f435w_t81.dat\n",
      "F23 E23 ( 23): hst/ACS_update_sep07/wfc_f606w_t81.dat\n",
      "F49 E49 ( 49): hst/ACS_update_sep07/wfc_f775w_t81.dat\n",
      "F24 E24 ( 24): hst/ACS_update_sep07/wfc_f814w_t81.dat\n",
      "F50 E50 ( 50): hst/ACS_update_sep07/wfc_f850lp_t81.dat\n",
      "F1 E1 (  1): jwst_nircam_f090w\n",
      "F2 E2 (  2): jwst_nircam_f115w\n",
      "F3 E3 (  3): jwst_nircam_f150w\n",
      "F38 E38 ( 38): jwst_nircam_f162m\n",
      "F39 E39 ( 39): jwst_nircam_f182m\n",
      "F4 E4 (  4): jwst_nircam_f200w\n",
      "F40 E40 ( 40): jwst_nircam_f210m\n",
      "F41 E41 ( 41): jwst_nircam_f250m\n",
      "F5 E5 (  5): jwst_nircam_f277w\n",
      "F42 E42 ( 42): jwst_nircam_f300m\n",
      "F43 E43 ( 43): jwst_nircam_f335m\n",
      "F6 E6 (  6): jwst_nircam_f356w\n",
      "F7 E7 (  7): jwst_nircam_f410m\n",
      "F8 E8 (  8): jwst_nircam_f444w\n",
      "Set sys_err = 0.00 (positive=True)\n",
      "Template grid: /nvme/scratch/work/tharvey/EAZY/inputs/scripts/templates/LarsonTemplates/tweak_fsps_QSF_12_v3_newtemplates.param (this may take some time)\n"
     ]
    },
    {
     "name": "stderr",
     "output_type": "stream",
     "text": [
      "100%|██████████| 18/18 [00:11<00:00,  1.62it/s]\n"
     ]
    },
    {
     "name": "stdout",
     "output_type": "stream",
     "text": [
      "Template   0: fsps_QSF_12_v3_001.dat (NZ=1).\n",
      "Template   1: fsps_QSF_12_v3_002.dat (NZ=1).\n",
      "Template   2: fsps_QSF_12_v3_003.dat (NZ=1).\n",
      "Template   3: fsps_QSF_12_v3_004.dat (NZ=1).\n",
      "Template   4: fsps_QSF_12_v3_005.dat (NZ=1).\n",
      "Template   5: fsps_QSF_12_v3_006.dat (NZ=1).\n",
      "Template   6: fsps_QSF_12_v3_007.dat (NZ=1).\n",
      "Template   7: fsps_QSF_12_v3_008.dat (NZ=1).\n",
      "Template   8: fsps_QSF_12_v3_009.dat (NZ=1).\n",
      "Template   9: fsps_QSF_12_v3_010.dat (NZ=1).\n",
      "Template  10: fsps_QSF_12_v3_011.dat (NZ=1).\n",
      "Template  11: fsps_QSF_12_v3_012.dat (NZ=1).\n",
      "Template  12: binc100z001age6_cloudy.dat (NZ=1).\n",
      "Template  13: binc100z001age65_cloudy.dat (NZ=1).\n",
      "Template  14: binc100z001age7_cloudy.dat (NZ=1).\n",
      "Template  15: binc100z001age6.dat (NZ=1).\n",
      "Template  16: binc100z001age65.dat (NZ=1).\n",
      "Template  17: binc100z001age7.dat (NZ=1).\n",
      "Process templates: 11.596 s\n"
     ]
    },
    {
     "name": "stderr",
     "output_type": "stream",
     "text": [
      "304it [00:00, 26244.08it/s]"
     ]
    },
    {
     "name": "stdout",
     "output_type": "stream",
     "text": [
      "Saving tempfilt to /nvme/scratch/work/tharvey/EXPANSE/src/EXPANSE/eazy/tempfilt/\n"
     ]
    },
    {
     "name": "stderr",
     "output_type": "stream",
     "text": [
      "\n",
      "100%|██████████| 304/304 [00:00<00:00, 6701.40it/s]\n"
     ]
    },
    {
     "name": "stdout",
     "output_type": "stream",
     "text": [
      "Compute best fits\n",
      "fit_best: 0.0 s (n_proc=1,  NOBJ=1)\n",
      "Fit 0.4 s (n_proc=4, NOBJ=1)\n",
      "Setting meta, id_phot, 0\n",
      "Setting meta, z_best, 8.508112\n",
      "Setting meta, chi2, 11.664962316765237\n",
      "Setting meta, z16, 8.376396\n",
      "Setting meta, z50, 8.506107\n",
      "Setting meta, z84, 8.634192\n",
      "Setting meta, flux_unit, uJy\n",
      "Setting meta, wave_unit, Angstrom\n",
      "Setting meta, templates_file, /nvme/scratch/work/tharvey/EAZY/inputs/scripts/templates/LarsonTemplates/tweak_fsps_QSF_12_v3_newtemplates.param\n",
      "Setting meta, z_min, 0.01\n",
      "Setting meta, z_max, 20.0\n",
      "Setting meta, z_step, 0.01\n",
      "Setting meta, region, MAG_APER_0.32 arcsec_fsps_larson_0.05__Asada24_cgm\n",
      " added to <HDF5 file \"JOF_psfmatched_3823.h5\" (mode r+)>, interactive_outputs/MAG_APER_0_32 arcsec_fsps_larson_0_05__Asada24_cgm/, eazy_fit\n",
      " added to <HDF5 file \"JOF_psfmatched_3823.h5\" (mode r+)>, interactive_outputs/MAG_APER_0_32 arcsec_fsps_larson_0_05__Asada24_cgm/, p_z\n",
      " added to <HDF5 file \"JOF_psfmatched_3823.h5\" (mode r+)>, interactive_outputs/MAG_APER_0_32 arcsec_fsps_larson_0_05__Asada24_cgm/, input_flux\n",
      " added to <HDF5 file \"JOF_psfmatched_3823.h5\" (mode r+)>, interactive_outputs/MAG_APER_0_32 arcsec_fsps_larson_0_05__Asada24_cgm/, input_flux_err\n",
      "Zeropoint: 23.9\n",
      "{'TEMPLATES_FILE': '/nvme/scratch/work/tharvey/EAZY/inputs/scripts/templates/LarsonTemplates/tweak_fsps_QSF_12_v3_newtemplates.param', 'FILTERS_RES': '/nvme/scratch/work/tharvey/EXPANSE/src/EXPANSE/eazy/jwst_nircam_FILTER.RES', 'MW_EBV': 0, 'CAT_HAS_EXTCORR': False, 'ADD_CGM': True, 'Z_STEP': 0.01, 'Z_MIN': 0.01, 'Z_MAX': 20.0, 'TEMP_ERR_FILE': '/nvme/scratch/work/tharvey/EXPANSE/src/EXPANSE/eazy/TEMPLATE_ERROR.eazy_v1.0', 'TEMP_ERR_A2': 0, 'SYS_ERR': 0, 'APPLY_PRIOR': 'n', 'PRIOR_ABZP': 23.9, 'PRIOR_FILTER': 28, 'PRIOR_FILE': '', 'FIX_ZSPEC': False, 'IGM_SCALE_TAU': 1.0, 'N_MIN_COLORS': 2, 'CATALOG_FILE': '/tmp/tmpnb863fp0/eazy_input.fits'}\n",
      "Read default param file: /nvme/scratch/software/anaconda3/envs/tharvey_galfind/lib/python3.10/site-packages/eazy/data/zphot.param.default\n",
      "Read CATALOG_FILE: /tmp/tmpnb863fp0/eazy_input.fits\n",
      "   >>> NOBJ = 1\n",
      "F22 E22 ( 22): hst/ACS_update_sep07/wfc_f435w_t81.dat\n",
      "F23 E23 ( 23): hst/ACS_update_sep07/wfc_f606w_t81.dat\n",
      "F49 E49 ( 49): hst/ACS_update_sep07/wfc_f775w_t81.dat\n",
      "F24 E24 ( 24): hst/ACS_update_sep07/wfc_f814w_t81.dat\n",
      "F50 E50 ( 50): hst/ACS_update_sep07/wfc_f850lp_t81.dat\n",
      "F1 E1 (  1): jwst_nircam_f090w\n",
      "F2 E2 (  2): jwst_nircam_f115w\n",
      "F3 E3 (  3): jwst_nircam_f150w\n",
      "F38 E38 ( 38): jwst_nircam_f162m\n",
      "F39 E39 ( 39): jwst_nircam_f182m\n",
      "F4 E4 (  4): jwst_nircam_f200w\n",
      "F40 E40 ( 40): jwst_nircam_f210m\n",
      "F41 E41 ( 41): jwst_nircam_f250m\n",
      "F5 E5 (  5): jwst_nircam_f277w\n",
      "F42 E42 ( 42): jwst_nircam_f300m\n",
      "F43 E43 ( 43): jwst_nircam_f335m\n",
      "F6 E6 (  6): jwst_nircam_f356w\n",
      "F7 E7 (  7): jwst_nircam_f410m\n",
      "F8 E8 (  8): jwst_nircam_f444w\n",
      "Set sys_err = 0.00 (positive=True)\n",
      "Template grid: /nvme/scratch/work/tharvey/EAZY/inputs/scripts/templates/LarsonTemplates/tweak_fsps_QSF_12_v3_newtemplates.param (this may take some time)\n"
     ]
    },
    {
     "name": "stderr",
     "output_type": "stream",
     "text": [
      "100%|██████████| 18/18 [00:11<00:00,  1.59it/s]\n"
     ]
    },
    {
     "name": "stdout",
     "output_type": "stream",
     "text": [
      "Template   0: fsps_QSF_12_v3_001.dat (NZ=1).\n",
      "Template   1: fsps_QSF_12_v3_002.dat (NZ=1).\n",
      "Template   2: fsps_QSF_12_v3_003.dat (NZ=1).\n",
      "Template   3: fsps_QSF_12_v3_004.dat (NZ=1).\n",
      "Template   4: fsps_QSF_12_v3_005.dat (NZ=1).\n",
      "Template   5: fsps_QSF_12_v3_006.dat (NZ=1).\n",
      "Template   6: fsps_QSF_12_v3_007.dat (NZ=1).\n",
      "Template   7: fsps_QSF_12_v3_008.dat (NZ=1).\n",
      "Template   8: fsps_QSF_12_v3_009.dat (NZ=1).\n",
      "Template   9: fsps_QSF_12_v3_010.dat (NZ=1).\n",
      "Template  10: fsps_QSF_12_v3_011.dat (NZ=1).\n",
      "Template  11: fsps_QSF_12_v3_012.dat (NZ=1).\n",
      "Template  12: binc100z001age6_cloudy.dat (NZ=1).\n",
      "Template  13: binc100z001age65_cloudy.dat (NZ=1).\n",
      "Template  14: binc100z001age7_cloudy.dat (NZ=1).\n",
      "Template  15: binc100z001age6.dat (NZ=1).\n",
      "Template  16: binc100z001age65.dat (NZ=1).\n",
      "Template  17: binc100z001age7.dat (NZ=1).\n",
      "Process templates: 11.782 s\n"
     ]
    },
    {
     "name": "stderr",
     "output_type": "stream",
     "text": [
      "304it [00:00, 24927.54it/s]"
     ]
    },
    {
     "name": "stdout",
     "output_type": "stream",
     "text": [
      "Saving tempfilt to /nvme/scratch/work/tharvey/EXPANSE/src/EXPANSE/eazy/tempfilt/\n"
     ]
    },
    {
     "name": "stderr",
     "output_type": "stream",
     "text": [
      "\n",
      "100%|██████████| 304/304 [00:00<00:00, 6704.22it/s]\n"
     ]
    },
    {
     "name": "stdout",
     "output_type": "stream",
     "text": [
      "Compute best fits\n",
      "fit_best: 0.0 s (n_proc=1,  NOBJ=1)\n",
      "Fit 0.4 s (n_proc=4, NOBJ=1)\n",
      "Setting meta, id_phot, 0\n",
      "Setting meta, z_best, 5.4554987\n",
      "Setting meta, chi2, 12.55245267501448\n",
      "Setting meta, z16, 5.4269934\n",
      "Setting meta, z50, 5.5056405\n",
      "Setting meta, z84, 5.6033735\n",
      "Setting meta, flux_unit, uJy\n",
      "Setting meta, wave_unit, Angstrom\n",
      "Setting meta, templates_file, /nvme/scratch/work/tharvey/EAZY/inputs/scripts/templates/LarsonTemplates/tweak_fsps_QSF_12_v3_newtemplates.param\n",
      "Setting meta, z_min, 0.01\n",
      "Setting meta, z_max, 20.0\n",
      "Setting meta, z_step, 0.01\n",
      "Setting meta, region, MAG_APER_0.32 arcsec_fsps_larson_0.05__Asada24_cgm\n",
      " added to <HDF5 file \"JOF_psfmatched_3845.h5\" (mode r+)>, interactive_outputs/MAG_APER_0_32 arcsec_fsps_larson_0_05__Asada24_cgm/, eazy_fit\n",
      " added to <HDF5 file \"JOF_psfmatched_3845.h5\" (mode r+)>, interactive_outputs/MAG_APER_0_32 arcsec_fsps_larson_0_05__Asada24_cgm/, p_z\n",
      " added to <HDF5 file \"JOF_psfmatched_3845.h5\" (mode r+)>, interactive_outputs/MAG_APER_0_32 arcsec_fsps_larson_0_05__Asada24_cgm/, input_flux\n",
      " added to <HDF5 file \"JOF_psfmatched_3845.h5\" (mode r+)>, interactive_outputs/MAG_APER_0_32 arcsec_fsps_larson_0_05__Asada24_cgm/, input_flux_err\n",
      "Zeropoint: 23.9\n",
      "{'TEMPLATES_FILE': '/nvme/scratch/work/tharvey/EAZY/inputs/scripts/templates/LarsonTemplates/tweak_fsps_QSF_12_v3_newtemplates.param', 'FILTERS_RES': '/nvme/scratch/work/tharvey/EXPANSE/src/EXPANSE/eazy/jwst_nircam_FILTER.RES', 'MW_EBV': 0, 'CAT_HAS_EXTCORR': False, 'ADD_CGM': True, 'Z_STEP': 0.01, 'Z_MIN': 0.01, 'Z_MAX': 20.0, 'TEMP_ERR_FILE': '/nvme/scratch/work/tharvey/EXPANSE/src/EXPANSE/eazy/TEMPLATE_ERROR.eazy_v1.0', 'TEMP_ERR_A2': 0, 'SYS_ERR': 0, 'APPLY_PRIOR': 'n', 'PRIOR_ABZP': 23.9, 'PRIOR_FILTER': 28, 'PRIOR_FILE': '', 'FIX_ZSPEC': False, 'IGM_SCALE_TAU': 1.0, 'N_MIN_COLORS': 2, 'CATALOG_FILE': '/tmp/tmp9p05_81l/eazy_input.fits'}\n",
      "Read default param file: /nvme/scratch/software/anaconda3/envs/tharvey_galfind/lib/python3.10/site-packages/eazy/data/zphot.param.default\n",
      "Read CATALOG_FILE: /tmp/tmp9p05_81l/eazy_input.fits\n",
      "   >>> NOBJ = 1\n",
      "F22 E22 ( 22): hst/ACS_update_sep07/wfc_f435w_t81.dat\n",
      "F23 E23 ( 23): hst/ACS_update_sep07/wfc_f606w_t81.dat\n",
      "F49 E49 ( 49): hst/ACS_update_sep07/wfc_f775w_t81.dat\n",
      "F24 E24 ( 24): hst/ACS_update_sep07/wfc_f814w_t81.dat\n",
      "F50 E50 ( 50): hst/ACS_update_sep07/wfc_f850lp_t81.dat\n",
      "F1 E1 (  1): jwst_nircam_f090w\n",
      "F2 E2 (  2): jwst_nircam_f115w\n",
      "F3 E3 (  3): jwst_nircam_f150w\n",
      "F38 E38 ( 38): jwst_nircam_f162m\n",
      "F39 E39 ( 39): jwst_nircam_f182m\n",
      "F4 E4 (  4): jwst_nircam_f200w\n",
      "F40 E40 ( 40): jwst_nircam_f210m\n",
      "F41 E41 ( 41): jwst_nircam_f250m\n",
      "F5 E5 (  5): jwst_nircam_f277w\n",
      "F42 E42 ( 42): jwst_nircam_f300m\n",
      "F43 E43 ( 43): jwst_nircam_f335m\n",
      "F6 E6 (  6): jwst_nircam_f356w\n",
      "F7 E7 (  7): jwst_nircam_f410m\n",
      "F8 E8 (  8): jwst_nircam_f444w\n",
      "Set sys_err = 0.00 (positive=True)\n",
      "Template grid: /nvme/scratch/work/tharvey/EAZY/inputs/scripts/templates/LarsonTemplates/tweak_fsps_QSF_12_v3_newtemplates.param (this may take some time)\n"
     ]
    },
    {
     "name": "stderr",
     "output_type": "stream",
     "text": [
      "100%|██████████| 18/18 [00:11<00:00,  1.56it/s]\n"
     ]
    },
    {
     "name": "stdout",
     "output_type": "stream",
     "text": [
      "Template   0: fsps_QSF_12_v3_001.dat (NZ=1).\n",
      "Template   1: fsps_QSF_12_v3_002.dat (NZ=1).\n",
      "Template   2: fsps_QSF_12_v3_003.dat (NZ=1).\n",
      "Template   3: fsps_QSF_12_v3_004.dat (NZ=1).\n",
      "Template   4: fsps_QSF_12_v3_005.dat (NZ=1).\n",
      "Template   5: fsps_QSF_12_v3_006.dat (NZ=1).\n",
      "Template   6: fsps_QSF_12_v3_007.dat (NZ=1).\n",
      "Template   7: fsps_QSF_12_v3_008.dat (NZ=1).\n",
      "Template   8: fsps_QSF_12_v3_009.dat (NZ=1).\n",
      "Template   9: fsps_QSF_12_v3_010.dat (NZ=1).\n",
      "Template  10: fsps_QSF_12_v3_011.dat (NZ=1).\n",
      "Template  11: fsps_QSF_12_v3_012.dat (NZ=1).\n",
      "Template  12: binc100z001age6_cloudy.dat (NZ=1).\n",
      "Template  13: binc100z001age65_cloudy.dat (NZ=1).\n",
      "Template  14: binc100z001age7_cloudy.dat (NZ=1).\n",
      "Template  15: binc100z001age6.dat (NZ=1).\n",
      "Template  16: binc100z001age65.dat (NZ=1).\n",
      "Template  17: binc100z001age7.dat (NZ=1).\n",
      "Process templates: 12.033 s\n"
     ]
    },
    {
     "name": "stderr",
     "output_type": "stream",
     "text": [
      "304it [00:00, 24268.99it/s]"
     ]
    },
    {
     "name": "stdout",
     "output_type": "stream",
     "text": [
      "Saving tempfilt to /nvme/scratch/work/tharvey/EXPANSE/src/EXPANSE/eazy/tempfilt/\n"
     ]
    },
    {
     "name": "stderr",
     "output_type": "stream",
     "text": [
      "\n",
      "100%|██████████| 304/304 [00:00<00:00, 5615.78it/s]\n"
     ]
    },
    {
     "name": "stdout",
     "output_type": "stream",
     "text": [
      "Compute best fits\n",
      "fit_best: 0.0 s (n_proc=1,  NOBJ=1)\n",
      "Fit 0.5 s (n_proc=4, NOBJ=1)\n",
      "Setting meta, id_phot, 0\n",
      "Setting meta, z_best, 8.243388\n",
      "Setting meta, chi2, 40.177188169834004\n",
      "Setting meta, z16, 8.030242\n",
      "Setting meta, z50, 8.209289\n",
      "Setting meta, z84, 8.309598\n",
      "Setting meta, flux_unit, uJy\n",
      "Setting meta, wave_unit, Angstrom\n",
      "Setting meta, templates_file, /nvme/scratch/work/tharvey/EAZY/inputs/scripts/templates/LarsonTemplates/tweak_fsps_QSF_12_v3_newtemplates.param\n",
      "Setting meta, z_min, 0.01\n",
      "Setting meta, z_max, 20.0\n",
      "Setting meta, z_step, 0.01\n",
      "Setting meta, region, MAG_APER_0.32 arcsec_fsps_larson_0.05__Asada24_cgm\n",
      " added to <HDF5 file \"JOF_psfmatched_3888.h5\" (mode r+)>, interactive_outputs/MAG_APER_0_32 arcsec_fsps_larson_0_05__Asada24_cgm/, eazy_fit\n",
      " added to <HDF5 file \"JOF_psfmatched_3888.h5\" (mode r+)>, interactive_outputs/MAG_APER_0_32 arcsec_fsps_larson_0_05__Asada24_cgm/, p_z\n",
      " added to <HDF5 file \"JOF_psfmatched_3888.h5\" (mode r+)>, interactive_outputs/MAG_APER_0_32 arcsec_fsps_larson_0_05__Asada24_cgm/, input_flux\n",
      " added to <HDF5 file \"JOF_psfmatched_3888.h5\" (mode r+)>, interactive_outputs/MAG_APER_0_32 arcsec_fsps_larson_0_05__Asada24_cgm/, input_flux_err\n",
      "Zeropoint: 23.9\n",
      "{'TEMPLATES_FILE': '/nvme/scratch/work/tharvey/EAZY/inputs/scripts/templates/LarsonTemplates/tweak_fsps_QSF_12_v3_newtemplates.param', 'FILTERS_RES': '/nvme/scratch/work/tharvey/EXPANSE/src/EXPANSE/eazy/jwst_nircam_FILTER.RES', 'MW_EBV': 0, 'CAT_HAS_EXTCORR': False, 'ADD_CGM': True, 'Z_STEP': 0.01, 'Z_MIN': 0.01, 'Z_MAX': 20.0, 'TEMP_ERR_FILE': '/nvme/scratch/work/tharvey/EXPANSE/src/EXPANSE/eazy/TEMPLATE_ERROR.eazy_v1.0', 'TEMP_ERR_A2': 0, 'SYS_ERR': 0, 'APPLY_PRIOR': 'n', 'PRIOR_ABZP': 23.9, 'PRIOR_FILTER': 28, 'PRIOR_FILE': '', 'FIX_ZSPEC': False, 'IGM_SCALE_TAU': 1.0, 'N_MIN_COLORS': 2, 'CATALOG_FILE': '/tmp/tmpqa41h8x3/eazy_input.fits'}\n",
      "Read default param file: /nvme/scratch/software/anaconda3/envs/tharvey_galfind/lib/python3.10/site-packages/eazy/data/zphot.param.default\n",
      "Read CATALOG_FILE: /tmp/tmpqa41h8x3/eazy_input.fits\n",
      "   >>> NOBJ = 1\n",
      "F22 E22 ( 22): hst/ACS_update_sep07/wfc_f435w_t81.dat\n",
      "F23 E23 ( 23): hst/ACS_update_sep07/wfc_f606w_t81.dat\n",
      "F49 E49 ( 49): hst/ACS_update_sep07/wfc_f775w_t81.dat\n",
      "F24 E24 ( 24): hst/ACS_update_sep07/wfc_f814w_t81.dat\n",
      "F50 E50 ( 50): hst/ACS_update_sep07/wfc_f850lp_t81.dat\n",
      "F1 E1 (  1): jwst_nircam_f090w\n",
      "F2 E2 (  2): jwst_nircam_f115w\n",
      "F3 E3 (  3): jwst_nircam_f150w\n",
      "F38 E38 ( 38): jwst_nircam_f162m\n",
      "F39 E39 ( 39): jwst_nircam_f182m\n",
      "F4 E4 (  4): jwst_nircam_f200w\n",
      "F40 E40 ( 40): jwst_nircam_f210m\n",
      "F41 E41 ( 41): jwst_nircam_f250m\n",
      "F5 E5 (  5): jwst_nircam_f277w\n",
      "F42 E42 ( 42): jwst_nircam_f300m\n",
      "F43 E43 ( 43): jwst_nircam_f335m\n",
      "F6 E6 (  6): jwst_nircam_f356w\n",
      "F7 E7 (  7): jwst_nircam_f410m\n",
      "F8 E8 (  8): jwst_nircam_f444w\n",
      "Set sys_err = 0.00 (positive=True)\n",
      "Template grid: /nvme/scratch/work/tharvey/EAZY/inputs/scripts/templates/LarsonTemplates/tweak_fsps_QSF_12_v3_newtemplates.param (this may take some time)\n"
     ]
    },
    {
     "name": "stderr",
     "output_type": "stream",
     "text": [
      "100%|██████████| 18/18 [00:11<00:00,  1.53it/s]\n"
     ]
    },
    {
     "name": "stdout",
     "output_type": "stream",
     "text": [
      "Template   0: fsps_QSF_12_v3_001.dat (NZ=1).\n",
      "Template   1: fsps_QSF_12_v3_002.dat (NZ=1).\n",
      "Template   2: fsps_QSF_12_v3_003.dat (NZ=1).\n",
      "Template   3: fsps_QSF_12_v3_004.dat (NZ=1).\n",
      "Template   4: fsps_QSF_12_v3_005.dat (NZ=1).\n",
      "Template   5: fsps_QSF_12_v3_006.dat (NZ=1).\n",
      "Template   6: fsps_QSF_12_v3_007.dat (NZ=1).\n",
      "Template   7: fsps_QSF_12_v3_008.dat (NZ=1).\n",
      "Template   8: fsps_QSF_12_v3_009.dat (NZ=1).\n",
      "Template   9: fsps_QSF_12_v3_010.dat (NZ=1).\n",
      "Template  10: fsps_QSF_12_v3_011.dat (NZ=1).\n",
      "Template  11: fsps_QSF_12_v3_012.dat (NZ=1).\n",
      "Template  12: binc100z001age6_cloudy.dat (NZ=1).\n",
      "Template  13: binc100z001age65_cloudy.dat (NZ=1).\n",
      "Template  14: binc100z001age7_cloudy.dat (NZ=1).\n",
      "Template  15: binc100z001age6.dat (NZ=1).\n",
      "Template  16: binc100z001age65.dat (NZ=1).\n",
      "Template  17: binc100z001age7.dat (NZ=1).\n",
      "Process templates: 12.225 s\n"
     ]
    },
    {
     "name": "stderr",
     "output_type": "stream",
     "text": [
      "304it [00:00, 17639.46it/s]"
     ]
    },
    {
     "name": "stdout",
     "output_type": "stream",
     "text": [
      "Saving tempfilt to /nvme/scratch/work/tharvey/EXPANSE/src/EXPANSE/eazy/tempfilt/\n"
     ]
    },
    {
     "name": "stderr",
     "output_type": "stream",
     "text": [
      "\n",
      "100%|██████████| 304/304 [00:00<00:00, 4386.29it/s]\n"
     ]
    },
    {
     "name": "stdout",
     "output_type": "stream",
     "text": [
      "Compute best fits\n",
      "fit_best: 0.0 s (n_proc=1,  NOBJ=1)\n",
      "Fit 0.4 s (n_proc=4, NOBJ=1)\n",
      "Setting meta, id_phot, 0\n",
      "Setting meta, z_best, 9.210059\n",
      "Setting meta, chi2, 12.053861651220783\n",
      "Setting meta, z16, 9.170055\n",
      "Setting meta, z50, 9.690585\n",
      "Setting meta, z84, 10.219994\n",
      "Setting meta, flux_unit, uJy\n",
      "Setting meta, wave_unit, Angstrom\n",
      "Setting meta, templates_file, /nvme/scratch/work/tharvey/EAZY/inputs/scripts/templates/LarsonTemplates/tweak_fsps_QSF_12_v3_newtemplates.param\n",
      "Setting meta, z_min, 0.01\n",
      "Setting meta, z_max, 20.0\n",
      "Setting meta, z_step, 0.01\n",
      "Setting meta, region, MAG_APER_0.32 arcsec_fsps_larson_0.05__Asada24_cgm\n",
      " added to <HDF5 file \"JOF_psfmatched_3908.h5\" (mode r+)>, interactive_outputs/MAG_APER_0_32 arcsec_fsps_larson_0_05__Asada24_cgm/, eazy_fit\n",
      " added to <HDF5 file \"JOF_psfmatched_3908.h5\" (mode r+)>, interactive_outputs/MAG_APER_0_32 arcsec_fsps_larson_0_05__Asada24_cgm/, p_z\n",
      " added to <HDF5 file \"JOF_psfmatched_3908.h5\" (mode r+)>, interactive_outputs/MAG_APER_0_32 arcsec_fsps_larson_0_05__Asada24_cgm/, input_flux\n",
      " added to <HDF5 file \"JOF_psfmatched_3908.h5\" (mode r+)>, interactive_outputs/MAG_APER_0_32 arcsec_fsps_larson_0_05__Asada24_cgm/, input_flux_err\n",
      "Zeropoint: 23.9\n",
      "{'TEMPLATES_FILE': '/nvme/scratch/work/tharvey/EAZY/inputs/scripts/templates/LarsonTemplates/tweak_fsps_QSF_12_v3_newtemplates.param', 'FILTERS_RES': '/nvme/scratch/work/tharvey/EXPANSE/src/EXPANSE/eazy/jwst_nircam_FILTER.RES', 'MW_EBV': 0, 'CAT_HAS_EXTCORR': False, 'ADD_CGM': True, 'Z_STEP': 0.01, 'Z_MIN': 0.01, 'Z_MAX': 20.0, 'TEMP_ERR_FILE': '/nvme/scratch/work/tharvey/EXPANSE/src/EXPANSE/eazy/TEMPLATE_ERROR.eazy_v1.0', 'TEMP_ERR_A2': 0, 'SYS_ERR': 0, 'APPLY_PRIOR': 'n', 'PRIOR_ABZP': 23.9, 'PRIOR_FILTER': 28, 'PRIOR_FILE': '', 'FIX_ZSPEC': False, 'IGM_SCALE_TAU': 1.0, 'N_MIN_COLORS': 2, 'CATALOG_FILE': '/tmp/tmpjc2pt7zq/eazy_input.fits'}\n",
      "Read default param file: /nvme/scratch/software/anaconda3/envs/tharvey_galfind/lib/python3.10/site-packages/eazy/data/zphot.param.default\n",
      "Read CATALOG_FILE: /tmp/tmpjc2pt7zq/eazy_input.fits\n",
      "   >>> NOBJ = 1\n",
      "F22 E22 ( 22): hst/ACS_update_sep07/wfc_f435w_t81.dat\n",
      "F23 E23 ( 23): hst/ACS_update_sep07/wfc_f606w_t81.dat\n",
      "F49 E49 ( 49): hst/ACS_update_sep07/wfc_f775w_t81.dat\n",
      "F24 E24 ( 24): hst/ACS_update_sep07/wfc_f814w_t81.dat\n",
      "F50 E50 ( 50): hst/ACS_update_sep07/wfc_f850lp_t81.dat\n",
      "F1 E1 (  1): jwst_nircam_f090w\n",
      "F2 E2 (  2): jwst_nircam_f115w\n",
      "F3 E3 (  3): jwst_nircam_f150w\n",
      "F38 E38 ( 38): jwst_nircam_f162m\n",
      "F39 E39 ( 39): jwst_nircam_f182m\n",
      "F4 E4 (  4): jwst_nircam_f200w\n",
      "F40 E40 ( 40): jwst_nircam_f210m\n",
      "F41 E41 ( 41): jwst_nircam_f250m\n",
      "F5 E5 (  5): jwst_nircam_f277w\n",
      "F42 E42 ( 42): jwst_nircam_f300m\n",
      "F43 E43 ( 43): jwst_nircam_f335m\n",
      "F6 E6 (  6): jwst_nircam_f356w\n",
      "F7 E7 (  7): jwst_nircam_f410m\n",
      "F8 E8 (  8): jwst_nircam_f444w\n",
      "Set sys_err = 0.00 (positive=True)\n",
      "Template grid: /nvme/scratch/work/tharvey/EAZY/inputs/scripts/templates/LarsonTemplates/tweak_fsps_QSF_12_v3_newtemplates.param (this may take some time)\n"
     ]
    },
    {
     "name": "stderr",
     "output_type": "stream",
     "text": [
      "100%|██████████| 18/18 [00:12<00:00,  1.46it/s]\n"
     ]
    },
    {
     "name": "stdout",
     "output_type": "stream",
     "text": [
      "Template   0: fsps_QSF_12_v3_001.dat (NZ=1).\n",
      "Template   1: fsps_QSF_12_v3_002.dat (NZ=1).\n",
      "Template   2: fsps_QSF_12_v3_003.dat (NZ=1).\n",
      "Template   3: fsps_QSF_12_v3_004.dat (NZ=1).\n",
      "Template   4: fsps_QSF_12_v3_005.dat (NZ=1).\n",
      "Template   5: fsps_QSF_12_v3_006.dat (NZ=1).\n",
      "Template   6: fsps_QSF_12_v3_007.dat (NZ=1).\n",
      "Template   7: fsps_QSF_12_v3_008.dat (NZ=1).\n",
      "Template   8: fsps_QSF_12_v3_009.dat (NZ=1).\n",
      "Template   9: fsps_QSF_12_v3_010.dat (NZ=1).\n",
      "Template  10: fsps_QSF_12_v3_011.dat (NZ=1).\n",
      "Template  11: fsps_QSF_12_v3_012.dat (NZ=1).\n",
      "Template  12: binc100z001age6_cloudy.dat (NZ=1).\n",
      "Template  13: binc100z001age65_cloudy.dat (NZ=1).\n",
      "Template  14: binc100z001age7_cloudy.dat (NZ=1).\n",
      "Template  15: binc100z001age6.dat (NZ=1).\n",
      "Template  16: binc100z001age65.dat (NZ=1).\n",
      "Template  17: binc100z001age7.dat (NZ=1).\n",
      "Process templates: 12.825 s\n"
     ]
    },
    {
     "name": "stderr",
     "output_type": "stream",
     "text": [
      "304it [00:00, 23137.21it/s]"
     ]
    },
    {
     "name": "stdout",
     "output_type": "stream",
     "text": [
      "Saving tempfilt to /nvme/scratch/work/tharvey/EXPANSE/src/EXPANSE/eazy/tempfilt/\n"
     ]
    },
    {
     "name": "stderr",
     "output_type": "stream",
     "text": [
      "\n",
      "100%|██████████| 304/304 [00:00<00:00, 3886.09it/s]\n"
     ]
    },
    {
     "name": "stdout",
     "output_type": "stream",
     "text": [
      "Compute best fits\n",
      "fit_best: 0.0 s (n_proc=1,  NOBJ=1)\n",
      "Fit 0.4 s (n_proc=4, NOBJ=1)\n",
      "Setting meta, id_phot, 0\n",
      "Setting meta, z_best, 7.111815\n",
      "Setting meta, chi2, 15.736848326220418\n",
      "Setting meta, z16, 7.0510473\n",
      "Setting meta, z50, 7.220564\n",
      "Setting meta, z84, 7.426518\n",
      "Setting meta, flux_unit, uJy\n",
      "Setting meta, wave_unit, Angstrom\n",
      "Setting meta, templates_file, /nvme/scratch/work/tharvey/EAZY/inputs/scripts/templates/LarsonTemplates/tweak_fsps_QSF_12_v3_newtemplates.param\n",
      "Setting meta, z_min, 0.01\n",
      "Setting meta, z_max, 20.0\n",
      "Setting meta, z_step, 0.01\n",
      "Setting meta, region, MAG_APER_0.32 arcsec_fsps_larson_0.05__Asada24_cgm\n",
      " added to <HDF5 file \"JOF_psfmatched_4013.h5\" (mode r+)>, interactive_outputs/MAG_APER_0_32 arcsec_fsps_larson_0_05__Asada24_cgm/, eazy_fit\n",
      " added to <HDF5 file \"JOF_psfmatched_4013.h5\" (mode r+)>, interactive_outputs/MAG_APER_0_32 arcsec_fsps_larson_0_05__Asada24_cgm/, p_z\n",
      " added to <HDF5 file \"JOF_psfmatched_4013.h5\" (mode r+)>, interactive_outputs/MAG_APER_0_32 arcsec_fsps_larson_0_05__Asada24_cgm/, input_flux\n",
      " added to <HDF5 file \"JOF_psfmatched_4013.h5\" (mode r+)>, interactive_outputs/MAG_APER_0_32 arcsec_fsps_larson_0_05__Asada24_cgm/, input_flux_err\n",
      "Zeropoint: 23.9\n",
      "{'TEMPLATES_FILE': '/nvme/scratch/work/tharvey/EAZY/inputs/scripts/templates/LarsonTemplates/tweak_fsps_QSF_12_v3_newtemplates.param', 'FILTERS_RES': '/nvme/scratch/work/tharvey/EXPANSE/src/EXPANSE/eazy/jwst_nircam_FILTER.RES', 'MW_EBV': 0, 'CAT_HAS_EXTCORR': False, 'ADD_CGM': True, 'Z_STEP': 0.01, 'Z_MIN': 0.01, 'Z_MAX': 20.0, 'TEMP_ERR_FILE': '/nvme/scratch/work/tharvey/EXPANSE/src/EXPANSE/eazy/TEMPLATE_ERROR.eazy_v1.0', 'TEMP_ERR_A2': 0, 'SYS_ERR': 0, 'APPLY_PRIOR': 'n', 'PRIOR_ABZP': 23.9, 'PRIOR_FILTER': 28, 'PRIOR_FILE': '', 'FIX_ZSPEC': False, 'IGM_SCALE_TAU': 1.0, 'N_MIN_COLORS': 2, 'CATALOG_FILE': '/tmp/tmpzg5py9z7/eazy_input.fits'}\n",
      "Read default param file: /nvme/scratch/software/anaconda3/envs/tharvey_galfind/lib/python3.10/site-packages/eazy/data/zphot.param.default\n",
      "Read CATALOG_FILE: /tmp/tmpzg5py9z7/eazy_input.fits\n",
      "   >>> NOBJ = 1\n",
      "F22 E22 ( 22): hst/ACS_update_sep07/wfc_f435w_t81.dat\n",
      "F23 E23 ( 23): hst/ACS_update_sep07/wfc_f606w_t81.dat\n",
      "F49 E49 ( 49): hst/ACS_update_sep07/wfc_f775w_t81.dat\n",
      "F24 E24 ( 24): hst/ACS_update_sep07/wfc_f814w_t81.dat\n",
      "F50 E50 ( 50): hst/ACS_update_sep07/wfc_f850lp_t81.dat\n",
      "F1 E1 (  1): jwst_nircam_f090w\n",
      "F2 E2 (  2): jwst_nircam_f115w\n",
      "F3 E3 (  3): jwst_nircam_f150w\n",
      "F38 E38 ( 38): jwst_nircam_f162m\n",
      "F39 E39 ( 39): jwst_nircam_f182m\n",
      "F4 E4 (  4): jwst_nircam_f200w\n",
      "F40 E40 ( 40): jwst_nircam_f210m\n",
      "F41 E41 ( 41): jwst_nircam_f250m\n",
      "F5 E5 (  5): jwst_nircam_f277w\n",
      "F42 E42 ( 42): jwst_nircam_f300m\n",
      "F43 E43 ( 43): jwst_nircam_f335m\n",
      "F6 E6 (  6): jwst_nircam_f356w\n",
      "F7 E7 (  7): jwst_nircam_f410m\n",
      "F8 E8 (  8): jwst_nircam_f444w\n",
      "Set sys_err = 0.00 (positive=True)\n",
      "Template grid: /nvme/scratch/work/tharvey/EAZY/inputs/scripts/templates/LarsonTemplates/tweak_fsps_QSF_12_v3_newtemplates.param (this may take some time)\n"
     ]
    },
    {
     "name": "stderr",
     "output_type": "stream",
     "text": [
      "100%|██████████| 18/18 [00:12<00:00,  1.45it/s]\n"
     ]
    },
    {
     "name": "stdout",
     "output_type": "stream",
     "text": [
      "Template   0: fsps_QSF_12_v3_001.dat (NZ=1).\n",
      "Template   1: fsps_QSF_12_v3_002.dat (NZ=1).\n",
      "Template   2: fsps_QSF_12_v3_003.dat (NZ=1).\n",
      "Template   3: fsps_QSF_12_v3_004.dat (NZ=1).\n",
      "Template   4: fsps_QSF_12_v3_005.dat (NZ=1).\n",
      "Template   5: fsps_QSF_12_v3_006.dat (NZ=1).\n",
      "Template   6: fsps_QSF_12_v3_007.dat (NZ=1).\n",
      "Template   7: fsps_QSF_12_v3_008.dat (NZ=1).\n",
      "Template   8: fsps_QSF_12_v3_009.dat (NZ=1).\n",
      "Template   9: fsps_QSF_12_v3_010.dat (NZ=1).\n",
      "Template  10: fsps_QSF_12_v3_011.dat (NZ=1).\n",
      "Template  11: fsps_QSF_12_v3_012.dat (NZ=1).\n",
      "Template  12: binc100z001age6_cloudy.dat (NZ=1).\n",
      "Template  13: binc100z001age65_cloudy.dat (NZ=1).\n",
      "Template  14: binc100z001age7_cloudy.dat (NZ=1).\n",
      "Template  15: binc100z001age6.dat (NZ=1).\n",
      "Template  16: binc100z001age65.dat (NZ=1).\n",
      "Template  17: binc100z001age7.dat (NZ=1).\n",
      "Process templates: 12.879 s\n"
     ]
    },
    {
     "name": "stderr",
     "output_type": "stream",
     "text": [
      "304it [00:00, 28730.70it/s]"
     ]
    },
    {
     "name": "stdout",
     "output_type": "stream",
     "text": [
      "Saving tempfilt to /nvme/scratch/work/tharvey/EXPANSE/src/EXPANSE/eazy/tempfilt/\n"
     ]
    },
    {
     "name": "stderr",
     "output_type": "stream",
     "text": [
      "\n",
      "100%|██████████| 304/304 [00:00<00:00, 5851.35it/s]\n"
     ]
    },
    {
     "name": "stdout",
     "output_type": "stream",
     "text": [
      "Compute best fits\n",
      "fit_best: 0.0 s (n_proc=1,  NOBJ=1)\n",
      "Fit 0.4 s (n_proc=4, NOBJ=1)\n",
      "Setting meta, id_phot, 0\n",
      "Setting meta, z_best, 6.2050056\n",
      "Setting meta, chi2, 39.74967064497987\n",
      "Setting meta, z16, 6.1544833\n",
      "Setting meta, z50, 6.241177\n",
      "Setting meta, z84, 6.3472595\n",
      "Setting meta, flux_unit, uJy\n",
      "Setting meta, wave_unit, Angstrom\n",
      "Setting meta, templates_file, /nvme/scratch/work/tharvey/EAZY/inputs/scripts/templates/LarsonTemplates/tweak_fsps_QSF_12_v3_newtemplates.param\n",
      "Setting meta, z_min, 0.01\n",
      "Setting meta, z_max, 20.0\n",
      "Setting meta, z_step, 0.01\n",
      "Setting meta, region, MAG_APER_0.32 arcsec_fsps_larson_0.05__Asada24_cgm\n",
      " added to <HDF5 file \"JOF_psfmatched_4025.h5\" (mode r+)>, interactive_outputs/MAG_APER_0_32 arcsec_fsps_larson_0_05__Asada24_cgm/, eazy_fit\n",
      " added to <HDF5 file \"JOF_psfmatched_4025.h5\" (mode r+)>, interactive_outputs/MAG_APER_0_32 arcsec_fsps_larson_0_05__Asada24_cgm/, p_z\n",
      " added to <HDF5 file \"JOF_psfmatched_4025.h5\" (mode r+)>, interactive_outputs/MAG_APER_0_32 arcsec_fsps_larson_0_05__Asada24_cgm/, input_flux\n",
      " added to <HDF5 file \"JOF_psfmatched_4025.h5\" (mode r+)>, interactive_outputs/MAG_APER_0_32 arcsec_fsps_larson_0_05__Asada24_cgm/, input_flux_err\n",
      "Zeropoint: 23.9\n",
      "{'TEMPLATES_FILE': '/nvme/scratch/work/tharvey/EAZY/inputs/scripts/templates/LarsonTemplates/tweak_fsps_QSF_12_v3_newtemplates.param', 'FILTERS_RES': '/nvme/scratch/work/tharvey/EXPANSE/src/EXPANSE/eazy/jwst_nircam_FILTER.RES', 'MW_EBV': 0, 'CAT_HAS_EXTCORR': False, 'ADD_CGM': True, 'Z_STEP': 0.01, 'Z_MIN': 0.01, 'Z_MAX': 20.0, 'TEMP_ERR_FILE': '/nvme/scratch/work/tharvey/EXPANSE/src/EXPANSE/eazy/TEMPLATE_ERROR.eazy_v1.0', 'TEMP_ERR_A2': 0, 'SYS_ERR': 0, 'APPLY_PRIOR': 'n', 'PRIOR_ABZP': 23.9, 'PRIOR_FILTER': 28, 'PRIOR_FILE': '', 'FIX_ZSPEC': False, 'IGM_SCALE_TAU': 1.0, 'N_MIN_COLORS': 2, 'CATALOG_FILE': '/tmp/tmpnbxkltho/eazy_input.fits'}\n",
      "Read default param file: /nvme/scratch/software/anaconda3/envs/tharvey_galfind/lib/python3.10/site-packages/eazy/data/zphot.param.default\n",
      "Read CATALOG_FILE: /tmp/tmpnbxkltho/eazy_input.fits\n",
      "   >>> NOBJ = 1\n",
      "F22 E22 ( 22): hst/ACS_update_sep07/wfc_f435w_t81.dat\n",
      "F23 E23 ( 23): hst/ACS_update_sep07/wfc_f606w_t81.dat\n",
      "F49 E49 ( 49): hst/ACS_update_sep07/wfc_f775w_t81.dat\n",
      "F24 E24 ( 24): hst/ACS_update_sep07/wfc_f814w_t81.dat\n",
      "F50 E50 ( 50): hst/ACS_update_sep07/wfc_f850lp_t81.dat\n",
      "F1 E1 (  1): jwst_nircam_f090w\n",
      "F2 E2 (  2): jwst_nircam_f115w\n",
      "F3 E3 (  3): jwst_nircam_f150w\n",
      "F38 E38 ( 38): jwst_nircam_f162m\n",
      "F39 E39 ( 39): jwst_nircam_f182m\n",
      "F4 E4 (  4): jwst_nircam_f200w\n",
      "F40 E40 ( 40): jwst_nircam_f210m\n",
      "F41 E41 ( 41): jwst_nircam_f250m\n",
      "F5 E5 (  5): jwst_nircam_f277w\n",
      "F42 E42 ( 42): jwst_nircam_f300m\n",
      "F43 E43 ( 43): jwst_nircam_f335m\n",
      "F6 E6 (  6): jwst_nircam_f356w\n",
      "F7 E7 (  7): jwst_nircam_f410m\n",
      "F8 E8 (  8): jwst_nircam_f444w\n",
      "Set sys_err = 0.00 (positive=True)\n",
      "Template grid: /nvme/scratch/work/tharvey/EAZY/inputs/scripts/templates/LarsonTemplates/tweak_fsps_QSF_12_v3_newtemplates.param (this may take some time)\n"
     ]
    },
    {
     "name": "stderr",
     "output_type": "stream",
     "text": [
      "100%|██████████| 18/18 [00:11<00:00,  1.50it/s]\n"
     ]
    },
    {
     "name": "stdout",
     "output_type": "stream",
     "text": [
      "Template   0: fsps_QSF_12_v3_001.dat (NZ=1).\n",
      "Template   1: fsps_QSF_12_v3_002.dat (NZ=1).\n",
      "Template   2: fsps_QSF_12_v3_003.dat (NZ=1).\n",
      "Template   3: fsps_QSF_12_v3_004.dat (NZ=1).\n",
      "Template   4: fsps_QSF_12_v3_005.dat (NZ=1).\n",
      "Template   5: fsps_QSF_12_v3_006.dat (NZ=1).\n",
      "Template   6: fsps_QSF_12_v3_007.dat (NZ=1).\n",
      "Template   7: fsps_QSF_12_v3_008.dat (NZ=1).\n",
      "Template   8: fsps_QSF_12_v3_009.dat (NZ=1).\n",
      "Template   9: fsps_QSF_12_v3_010.dat (NZ=1).\n",
      "Template  10: fsps_QSF_12_v3_011.dat (NZ=1).\n",
      "Template  11: fsps_QSF_12_v3_012.dat (NZ=1).\n",
      "Template  12: binc100z001age6_cloudy.dat (NZ=1).\n",
      "Template  13: binc100z001age65_cloudy.dat (NZ=1).\n",
      "Template  14: binc100z001age7_cloudy.dat (NZ=1).\n",
      "Template  15: binc100z001age6.dat (NZ=1).\n",
      "Template  16: binc100z001age65.dat (NZ=1).\n",
      "Template  17: binc100z001age7.dat (NZ=1).\n",
      "Process templates: 12.454 s\n"
     ]
    },
    {
     "name": "stderr",
     "output_type": "stream",
     "text": [
      "304it [00:00, 26734.92it/s]"
     ]
    },
    {
     "name": "stdout",
     "output_type": "stream",
     "text": [
      "Saving tempfilt to /nvme/scratch/work/tharvey/EXPANSE/src/EXPANSE/eazy/tempfilt/\n"
     ]
    },
    {
     "name": "stderr",
     "output_type": "stream",
     "text": [
      "\n",
      "100%|██████████| 304/304 [00:00<00:00, 5964.23it/s]\n"
     ]
    },
    {
     "name": "stdout",
     "output_type": "stream",
     "text": [
      "Compute best fits\n",
      "fit_best: 0.0 s (n_proc=1,  NOBJ=1)\n",
      "Fit 0.4 s (n_proc=4, NOBJ=1)\n",
      "Setting meta, id_phot, 0\n",
      "Setting meta, z_best, 8.884467\n",
      "Setting meta, chi2, 14.58038012312241\n",
      "Setting meta, z16, 8.820984\n",
      "Setting meta, z50, 8.887376\n",
      "Setting meta, z84, 8.947856\n",
      "Setting meta, flux_unit, uJy\n",
      "Setting meta, wave_unit, Angstrom\n",
      "Setting meta, templates_file, /nvme/scratch/work/tharvey/EAZY/inputs/scripts/templates/LarsonTemplates/tweak_fsps_QSF_12_v3_newtemplates.param\n",
      "Setting meta, z_min, 0.01\n",
      "Setting meta, z_max, 20.0\n",
      "Setting meta, z_step, 0.01\n",
      "Setting meta, region, MAG_APER_0.32 arcsec_fsps_larson_0.05__Asada24_cgm\n",
      " added to <HDF5 file \"JOF_psfmatched_4040.h5\" (mode r+)>, interactive_outputs/MAG_APER_0_32 arcsec_fsps_larson_0_05__Asada24_cgm/, eazy_fit\n",
      " added to <HDF5 file \"JOF_psfmatched_4040.h5\" (mode r+)>, interactive_outputs/MAG_APER_0_32 arcsec_fsps_larson_0_05__Asada24_cgm/, p_z\n",
      " added to <HDF5 file \"JOF_psfmatched_4040.h5\" (mode r+)>, interactive_outputs/MAG_APER_0_32 arcsec_fsps_larson_0_05__Asada24_cgm/, input_flux\n",
      " added to <HDF5 file \"JOF_psfmatched_4040.h5\" (mode r+)>, interactive_outputs/MAG_APER_0_32 arcsec_fsps_larson_0_05__Asada24_cgm/, input_flux_err\n",
      "Zeropoint: 23.9\n",
      "{'TEMPLATES_FILE': '/nvme/scratch/work/tharvey/EAZY/inputs/scripts/templates/LarsonTemplates/tweak_fsps_QSF_12_v3_newtemplates.param', 'FILTERS_RES': '/nvme/scratch/work/tharvey/EXPANSE/src/EXPANSE/eazy/jwst_nircam_FILTER.RES', 'MW_EBV': 0, 'CAT_HAS_EXTCORR': False, 'ADD_CGM': True, 'Z_STEP': 0.01, 'Z_MIN': 0.01, 'Z_MAX': 20.0, 'TEMP_ERR_FILE': '/nvme/scratch/work/tharvey/EXPANSE/src/EXPANSE/eazy/TEMPLATE_ERROR.eazy_v1.0', 'TEMP_ERR_A2': 0, 'SYS_ERR': 0, 'APPLY_PRIOR': 'n', 'PRIOR_ABZP': 23.9, 'PRIOR_FILTER': 28, 'PRIOR_FILE': '', 'FIX_ZSPEC': False, 'IGM_SCALE_TAU': 1.0, 'N_MIN_COLORS': 2, 'CATALOG_FILE': '/tmp/tmp3d17wtv5/eazy_input.fits'}\n",
      "Read default param file: /nvme/scratch/software/anaconda3/envs/tharvey_galfind/lib/python3.10/site-packages/eazy/data/zphot.param.default\n",
      "Read CATALOG_FILE: /tmp/tmp3d17wtv5/eazy_input.fits\n",
      "   >>> NOBJ = 1\n",
      "F22 E22 ( 22): hst/ACS_update_sep07/wfc_f435w_t81.dat\n",
      "F23 E23 ( 23): hst/ACS_update_sep07/wfc_f606w_t81.dat\n",
      "F49 E49 ( 49): hst/ACS_update_sep07/wfc_f775w_t81.dat\n",
      "F24 E24 ( 24): hst/ACS_update_sep07/wfc_f814w_t81.dat\n",
      "F50 E50 ( 50): hst/ACS_update_sep07/wfc_f850lp_t81.dat\n",
      "F1 E1 (  1): jwst_nircam_f090w\n",
      "F2 E2 (  2): jwst_nircam_f115w\n",
      "F3 E3 (  3): jwst_nircam_f150w\n",
      "F38 E38 ( 38): jwst_nircam_f162m\n",
      "F39 E39 ( 39): jwst_nircam_f182m\n",
      "F4 E4 (  4): jwst_nircam_f200w\n",
      "F40 E40 ( 40): jwst_nircam_f210m\n",
      "F41 E41 ( 41): jwst_nircam_f250m\n",
      "F5 E5 (  5): jwst_nircam_f277w\n",
      "F42 E42 ( 42): jwst_nircam_f300m\n",
      "F43 E43 ( 43): jwst_nircam_f335m\n",
      "F6 E6 (  6): jwst_nircam_f356w\n",
      "F7 E7 (  7): jwst_nircam_f410m\n",
      "F8 E8 (  8): jwst_nircam_f444w\n",
      "Set sys_err = 0.00 (positive=True)\n",
      "Template grid: /nvme/scratch/work/tharvey/EAZY/inputs/scripts/templates/LarsonTemplates/tweak_fsps_QSF_12_v3_newtemplates.param (this may take some time)\n"
     ]
    },
    {
     "name": "stderr",
     "output_type": "stream",
     "text": [
      "100%|██████████| 18/18 [00:12<00:00,  1.47it/s]\n"
     ]
    },
    {
     "name": "stdout",
     "output_type": "stream",
     "text": [
      "Template   0: fsps_QSF_12_v3_001.dat (NZ=1).\n",
      "Template   1: fsps_QSF_12_v3_002.dat (NZ=1).\n",
      "Template   2: fsps_QSF_12_v3_003.dat (NZ=1).\n",
      "Template   3: fsps_QSF_12_v3_004.dat (NZ=1).\n",
      "Template   4: fsps_QSF_12_v3_005.dat (NZ=1).\n",
      "Template   5: fsps_QSF_12_v3_006.dat (NZ=1).\n",
      "Template   6: fsps_QSF_12_v3_007.dat (NZ=1).\n",
      "Template   7: fsps_QSF_12_v3_008.dat (NZ=1).\n",
      "Template   8: fsps_QSF_12_v3_009.dat (NZ=1).\n",
      "Template   9: fsps_QSF_12_v3_010.dat (NZ=1).\n",
      "Template  10: fsps_QSF_12_v3_011.dat (NZ=1).\n",
      "Template  11: fsps_QSF_12_v3_012.dat (NZ=1).\n",
      "Template  12: binc100z001age6_cloudy.dat (NZ=1).\n",
      "Template  13: binc100z001age65_cloudy.dat (NZ=1).\n",
      "Template  14: binc100z001age7_cloudy.dat (NZ=1).\n",
      "Template  15: binc100z001age6.dat (NZ=1).\n",
      "Template  16: binc100z001age65.dat (NZ=1).\n",
      "Template  17: binc100z001age7.dat (NZ=1).\n",
      "Process templates: 12.747 s\n"
     ]
    },
    {
     "name": "stderr",
     "output_type": "stream",
     "text": [
      "304it [00:00, 24725.96it/s]"
     ]
    },
    {
     "name": "stdout",
     "output_type": "stream",
     "text": [
      "Saving tempfilt to /nvme/scratch/work/tharvey/EXPANSE/src/EXPANSE/eazy/tempfilt/\n"
     ]
    },
    {
     "name": "stderr",
     "output_type": "stream",
     "text": [
      "\n",
      "100%|██████████| 304/304 [00:00<00:00, 6801.71it/s]\n"
     ]
    },
    {
     "name": "stdout",
     "output_type": "stream",
     "text": [
      "Compute best fits\n",
      "fit_best: 0.0 s (n_proc=1,  NOBJ=1)\n",
      "Fit 0.4 s (n_proc=4, NOBJ=1)\n",
      "Setting meta, id_phot, 0\n",
      "Setting meta, z_best, 7.2680664\n",
      "Setting meta, chi2, 16.208934606966253\n",
      "Setting meta, z16, 7.188512\n",
      "Setting meta, z50, 7.285572\n",
      "Setting meta, z84, 7.406413\n",
      "Setting meta, flux_unit, uJy\n",
      "Setting meta, wave_unit, Angstrom\n",
      "Setting meta, templates_file, /nvme/scratch/work/tharvey/EAZY/inputs/scripts/templates/LarsonTemplates/tweak_fsps_QSF_12_v3_newtemplates.param\n",
      "Setting meta, z_min, 0.01\n",
      "Setting meta, z_max, 20.0\n",
      "Setting meta, z_step, 0.01\n",
      "Setting meta, region, MAG_APER_0.32 arcsec_fsps_larson_0.05__Asada24_cgm\n",
      " added to <HDF5 file \"JOF_psfmatched_4097.h5\" (mode r+)>, interactive_outputs/MAG_APER_0_32 arcsec_fsps_larson_0_05__Asada24_cgm/, eazy_fit\n",
      " added to <HDF5 file \"JOF_psfmatched_4097.h5\" (mode r+)>, interactive_outputs/MAG_APER_0_32 arcsec_fsps_larson_0_05__Asada24_cgm/, p_z\n",
      " added to <HDF5 file \"JOF_psfmatched_4097.h5\" (mode r+)>, interactive_outputs/MAG_APER_0_32 arcsec_fsps_larson_0_05__Asada24_cgm/, input_flux\n",
      " added to <HDF5 file \"JOF_psfmatched_4097.h5\" (mode r+)>, interactive_outputs/MAG_APER_0_32 arcsec_fsps_larson_0_05__Asada24_cgm/, input_flux_err\n",
      "Zeropoint: 23.9\n",
      "{'TEMPLATES_FILE': '/nvme/scratch/work/tharvey/EAZY/inputs/scripts/templates/LarsonTemplates/tweak_fsps_QSF_12_v3_newtemplates.param', 'FILTERS_RES': '/nvme/scratch/work/tharvey/EXPANSE/src/EXPANSE/eazy/jwst_nircam_FILTER.RES', 'MW_EBV': 0, 'CAT_HAS_EXTCORR': False, 'ADD_CGM': True, 'Z_STEP': 0.01, 'Z_MIN': 0.01, 'Z_MAX': 20.0, 'TEMP_ERR_FILE': '/nvme/scratch/work/tharvey/EXPANSE/src/EXPANSE/eazy/TEMPLATE_ERROR.eazy_v1.0', 'TEMP_ERR_A2': 0, 'SYS_ERR': 0, 'APPLY_PRIOR': 'n', 'PRIOR_ABZP': 23.9, 'PRIOR_FILTER': 28, 'PRIOR_FILE': '', 'FIX_ZSPEC': False, 'IGM_SCALE_TAU': 1.0, 'N_MIN_COLORS': 2, 'CATALOG_FILE': '/tmp/tmp3ms8oef6/eazy_input.fits'}\n",
      "Read default param file: /nvme/scratch/software/anaconda3/envs/tharvey_galfind/lib/python3.10/site-packages/eazy/data/zphot.param.default\n",
      "Read CATALOG_FILE: /tmp/tmp3ms8oef6/eazy_input.fits\n",
      "   >>> NOBJ = 1\n",
      "F22 E22 ( 22): hst/ACS_update_sep07/wfc_f435w_t81.dat\n",
      "F23 E23 ( 23): hst/ACS_update_sep07/wfc_f606w_t81.dat\n",
      "F49 E49 ( 49): hst/ACS_update_sep07/wfc_f775w_t81.dat\n",
      "F24 E24 ( 24): hst/ACS_update_sep07/wfc_f814w_t81.dat\n",
      "F50 E50 ( 50): hst/ACS_update_sep07/wfc_f850lp_t81.dat\n",
      "F1 E1 (  1): jwst_nircam_f090w\n",
      "F2 E2 (  2): jwst_nircam_f115w\n",
      "F3 E3 (  3): jwst_nircam_f150w\n",
      "F38 E38 ( 38): jwst_nircam_f162m\n",
      "F39 E39 ( 39): jwst_nircam_f182m\n",
      "F4 E4 (  4): jwst_nircam_f200w\n",
      "F40 E40 ( 40): jwst_nircam_f210m\n",
      "F41 E41 ( 41): jwst_nircam_f250m\n",
      "F5 E5 (  5): jwst_nircam_f277w\n",
      "F42 E42 ( 42): jwst_nircam_f300m\n",
      "F43 E43 ( 43): jwst_nircam_f335m\n",
      "F6 E6 (  6): jwst_nircam_f356w\n",
      "F7 E7 (  7): jwst_nircam_f410m\n",
      "F8 E8 (  8): jwst_nircam_f444w\n",
      "Set sys_err = 0.00 (positive=True)\n",
      "Template grid: /nvme/scratch/work/tharvey/EAZY/inputs/scripts/templates/LarsonTemplates/tweak_fsps_QSF_12_v3_newtemplates.param (this may take some time)\n"
     ]
    },
    {
     "name": "stderr",
     "output_type": "stream",
     "text": [
      "100%|██████████| 18/18 [00:12<00:00,  1.41it/s]\n"
     ]
    },
    {
     "name": "stdout",
     "output_type": "stream",
     "text": [
      "Template   0: fsps_QSF_12_v3_001.dat (NZ=1).\n",
      "Template   1: fsps_QSF_12_v3_002.dat (NZ=1).\n",
      "Template   2: fsps_QSF_12_v3_003.dat (NZ=1).\n",
      "Template   3: fsps_QSF_12_v3_004.dat (NZ=1).\n",
      "Template   4: fsps_QSF_12_v3_005.dat (NZ=1).\n",
      "Template   5: fsps_QSF_12_v3_006.dat (NZ=1).\n",
      "Template   6: fsps_QSF_12_v3_007.dat (NZ=1).\n",
      "Template   7: fsps_QSF_12_v3_008.dat (NZ=1).\n",
      "Template   8: fsps_QSF_12_v3_009.dat (NZ=1).\n",
      "Template   9: fsps_QSF_12_v3_010.dat (NZ=1).\n",
      "Template  10: fsps_QSF_12_v3_011.dat (NZ=1).\n",
      "Template  11: fsps_QSF_12_v3_012.dat (NZ=1).\n",
      "Template  12: binc100z001age6_cloudy.dat (NZ=1).\n",
      "Template  13: binc100z001age65_cloudy.dat (NZ=1).\n",
      "Template  14: binc100z001age7_cloudy.dat (NZ=1).\n",
      "Template  15: binc100z001age6.dat (NZ=1).\n",
      "Template  16: binc100z001age65.dat (NZ=1).\n",
      "Template  17: binc100z001age7.dat (NZ=1).\n",
      "Process templates: 13.317 s\n"
     ]
    },
    {
     "name": "stderr",
     "output_type": "stream",
     "text": [
      "304it [00:00, 23471.98it/s]"
     ]
    },
    {
     "name": "stdout",
     "output_type": "stream",
     "text": [
      "Saving tempfilt to /nvme/scratch/work/tharvey/EXPANSE/src/EXPANSE/eazy/tempfilt/\n"
     ]
    },
    {
     "name": "stderr",
     "output_type": "stream",
     "text": [
      "\n",
      "100%|██████████| 304/304 [00:00<00:00, 5728.82it/s]\n"
     ]
    },
    {
     "name": "stdout",
     "output_type": "stream",
     "text": [
      "Compute best fits\n",
      "fit_best: 0.0 s (n_proc=1,  NOBJ=1)\n",
      "Fit 0.4 s (n_proc=4, NOBJ=1)\n",
      "Setting meta, id_phot, 0\n",
      "Setting meta, z_best, 7.008862\n",
      "Setting meta, chi2, 19.69731698251121\n",
      "Setting meta, z16, 6.945118\n",
      "Setting meta, z50, 7.024351\n",
      "Setting meta, z84, 7.1487055\n",
      "Setting meta, flux_unit, uJy\n",
      "Setting meta, wave_unit, Angstrom\n",
      "Setting meta, templates_file, /nvme/scratch/work/tharvey/EAZY/inputs/scripts/templates/LarsonTemplates/tweak_fsps_QSF_12_v3_newtemplates.param\n",
      "Setting meta, z_min, 0.01\n",
      "Setting meta, z_max, 20.0\n",
      "Setting meta, z_step, 0.01\n",
      "Setting meta, region, MAG_APER_0.32 arcsec_fsps_larson_0.05__Asada24_cgm\n",
      " added to <HDF5 file \"JOF_psfmatched_4104.h5\" (mode r+)>, interactive_outputs/MAG_APER_0_32 arcsec_fsps_larson_0_05__Asada24_cgm/, eazy_fit\n",
      " added to <HDF5 file \"JOF_psfmatched_4104.h5\" (mode r+)>, interactive_outputs/MAG_APER_0_32 arcsec_fsps_larson_0_05__Asada24_cgm/, p_z\n",
      " added to <HDF5 file \"JOF_psfmatched_4104.h5\" (mode r+)>, interactive_outputs/MAG_APER_0_32 arcsec_fsps_larson_0_05__Asada24_cgm/, input_flux\n",
      " added to <HDF5 file \"JOF_psfmatched_4104.h5\" (mode r+)>, interactive_outputs/MAG_APER_0_32 arcsec_fsps_larson_0_05__Asada24_cgm/, input_flux_err\n",
      "Zeropoint: 23.9\n",
      "{'TEMPLATES_FILE': '/nvme/scratch/work/tharvey/EAZY/inputs/scripts/templates/LarsonTemplates/tweak_fsps_QSF_12_v3_newtemplates.param', 'FILTERS_RES': '/nvme/scratch/work/tharvey/EXPANSE/src/EXPANSE/eazy/jwst_nircam_FILTER.RES', 'MW_EBV': 0, 'CAT_HAS_EXTCORR': False, 'ADD_CGM': True, 'Z_STEP': 0.01, 'Z_MIN': 0.01, 'Z_MAX': 20.0, 'TEMP_ERR_FILE': '/nvme/scratch/work/tharvey/EXPANSE/src/EXPANSE/eazy/TEMPLATE_ERROR.eazy_v1.0', 'TEMP_ERR_A2': 0, 'SYS_ERR': 0, 'APPLY_PRIOR': 'n', 'PRIOR_ABZP': 23.9, 'PRIOR_FILTER': 28, 'PRIOR_FILE': '', 'FIX_ZSPEC': False, 'IGM_SCALE_TAU': 1.0, 'N_MIN_COLORS': 2, 'CATALOG_FILE': '/tmp/tmp7rr233jn/eazy_input.fits'}\n",
      "Read default param file: /nvme/scratch/software/anaconda3/envs/tharvey_galfind/lib/python3.10/site-packages/eazy/data/zphot.param.default\n",
      "Read CATALOG_FILE: /tmp/tmp7rr233jn/eazy_input.fits\n",
      "   >>> NOBJ = 1\n",
      "F22 E22 ( 22): hst/ACS_update_sep07/wfc_f435w_t81.dat\n",
      "F23 E23 ( 23): hst/ACS_update_sep07/wfc_f606w_t81.dat\n",
      "F49 E49 ( 49): hst/ACS_update_sep07/wfc_f775w_t81.dat\n",
      "F24 E24 ( 24): hst/ACS_update_sep07/wfc_f814w_t81.dat\n",
      "F50 E50 ( 50): hst/ACS_update_sep07/wfc_f850lp_t81.dat\n",
      "F1 E1 (  1): jwst_nircam_f090w\n",
      "F2 E2 (  2): jwst_nircam_f115w\n",
      "F3 E3 (  3): jwst_nircam_f150w\n",
      "F38 E38 ( 38): jwst_nircam_f162m\n",
      "F39 E39 ( 39): jwst_nircam_f182m\n",
      "F4 E4 (  4): jwst_nircam_f200w\n",
      "F40 E40 ( 40): jwst_nircam_f210m\n",
      "F41 E41 ( 41): jwst_nircam_f250m\n",
      "F5 E5 (  5): jwst_nircam_f277w\n",
      "F42 E42 ( 42): jwst_nircam_f300m\n",
      "F43 E43 ( 43): jwst_nircam_f335m\n",
      "F6 E6 (  6): jwst_nircam_f356w\n",
      "F7 E7 (  7): jwst_nircam_f410m\n",
      "F8 E8 (  8): jwst_nircam_f444w\n",
      "Set sys_err = 0.00 (positive=True)\n",
      "Template grid: /nvme/scratch/work/tharvey/EAZY/inputs/scripts/templates/LarsonTemplates/tweak_fsps_QSF_12_v3_newtemplates.param (this may take some time)\n"
     ]
    },
    {
     "name": "stderr",
     "output_type": "stream",
     "text": [
      "100%|██████████| 18/18 [00:12<00:00,  1.48it/s]\n"
     ]
    },
    {
     "name": "stdout",
     "output_type": "stream",
     "text": [
      "Template   0: fsps_QSF_12_v3_001.dat (NZ=1).\n",
      "Template   1: fsps_QSF_12_v3_002.dat (NZ=1).\n",
      "Template   2: fsps_QSF_12_v3_003.dat (NZ=1).\n",
      "Template   3: fsps_QSF_12_v3_004.dat (NZ=1).\n",
      "Template   4: fsps_QSF_12_v3_005.dat (NZ=1).\n",
      "Template   5: fsps_QSF_12_v3_006.dat (NZ=1).\n",
      "Template   6: fsps_QSF_12_v3_007.dat (NZ=1).\n",
      "Template   7: fsps_QSF_12_v3_008.dat (NZ=1).\n",
      "Template   8: fsps_QSF_12_v3_009.dat (NZ=1).\n",
      "Template   9: fsps_QSF_12_v3_010.dat (NZ=1).\n",
      "Template  10: fsps_QSF_12_v3_011.dat (NZ=1).\n",
      "Template  11: fsps_QSF_12_v3_012.dat (NZ=1).\n",
      "Template  12: binc100z001age6_cloudy.dat (NZ=1).\n",
      "Template  13: binc100z001age65_cloudy.dat (NZ=1).\n",
      "Template  14: binc100z001age7_cloudy.dat (NZ=1).\n",
      "Template  15: binc100z001age6.dat (NZ=1).\n",
      "Template  16: binc100z001age65.dat (NZ=1).\n",
      "Template  17: binc100z001age7.dat (NZ=1).\n",
      "Process templates: 12.659 s\n"
     ]
    },
    {
     "name": "stderr",
     "output_type": "stream",
     "text": [
      "304it [00:00, 28021.63it/s]"
     ]
    },
    {
     "name": "stdout",
     "output_type": "stream",
     "text": [
      "Saving tempfilt to /nvme/scratch/work/tharvey/EXPANSE/src/EXPANSE/eazy/tempfilt/\n"
     ]
    },
    {
     "name": "stderr",
     "output_type": "stream",
     "text": [
      "\n",
      "100%|██████████| 304/304 [00:00<00:00, 5296.63it/s]\n"
     ]
    },
    {
     "name": "stdout",
     "output_type": "stream",
     "text": [
      "Compute best fits\n",
      "fit_best: 0.0 s (n_proc=1,  NOBJ=1)\n",
      "Fit 0.4 s (n_proc=4, NOBJ=1)\n",
      "Setting meta, id_phot, 0\n",
      "Setting meta, z_best, 7.966331\n",
      "Setting meta, chi2, 24.687519455698112\n",
      "Setting meta, z16, 7.8837624\n",
      "Setting meta, z50, 7.9614925\n",
      "Setting meta, z84, 8.033948\n",
      "Setting meta, flux_unit, uJy\n",
      "Setting meta, wave_unit, Angstrom\n",
      "Setting meta, templates_file, /nvme/scratch/work/tharvey/EAZY/inputs/scripts/templates/LarsonTemplates/tweak_fsps_QSF_12_v3_newtemplates.param\n",
      "Setting meta, z_min, 0.01\n",
      "Setting meta, z_max, 20.0\n",
      "Setting meta, z_step, 0.01\n",
      "Setting meta, region, MAG_APER_0.32 arcsec_fsps_larson_0.05__Asada24_cgm\n",
      " added to <HDF5 file \"JOF_psfmatched_4143.h5\" (mode r+)>, interactive_outputs/MAG_APER_0_32 arcsec_fsps_larson_0_05__Asada24_cgm/, eazy_fit\n",
      " added to <HDF5 file \"JOF_psfmatched_4143.h5\" (mode r+)>, interactive_outputs/MAG_APER_0_32 arcsec_fsps_larson_0_05__Asada24_cgm/, p_z\n",
      " added to <HDF5 file \"JOF_psfmatched_4143.h5\" (mode r+)>, interactive_outputs/MAG_APER_0_32 arcsec_fsps_larson_0_05__Asada24_cgm/, input_flux\n",
      " added to <HDF5 file \"JOF_psfmatched_4143.h5\" (mode r+)>, interactive_outputs/MAG_APER_0_32 arcsec_fsps_larson_0_05__Asada24_cgm/, input_flux_err\n",
      "Zeropoint: 23.9\n",
      "{'TEMPLATES_FILE': '/nvme/scratch/work/tharvey/EAZY/inputs/scripts/templates/LarsonTemplates/tweak_fsps_QSF_12_v3_newtemplates.param', 'FILTERS_RES': '/nvme/scratch/work/tharvey/EXPANSE/src/EXPANSE/eazy/jwst_nircam_FILTER.RES', 'MW_EBV': 0, 'CAT_HAS_EXTCORR': False, 'ADD_CGM': True, 'Z_STEP': 0.01, 'Z_MIN': 0.01, 'Z_MAX': 20.0, 'TEMP_ERR_FILE': '/nvme/scratch/work/tharvey/EXPANSE/src/EXPANSE/eazy/TEMPLATE_ERROR.eazy_v1.0', 'TEMP_ERR_A2': 0, 'SYS_ERR': 0, 'APPLY_PRIOR': 'n', 'PRIOR_ABZP': 23.9, 'PRIOR_FILTER': 28, 'PRIOR_FILE': '', 'FIX_ZSPEC': False, 'IGM_SCALE_TAU': 1.0, 'N_MIN_COLORS': 2, 'CATALOG_FILE': '/tmp/tmpl4zzcndi/eazy_input.fits'}\n",
      "Read default param file: /nvme/scratch/software/anaconda3/envs/tharvey_galfind/lib/python3.10/site-packages/eazy/data/zphot.param.default\n",
      "Read CATALOG_FILE: /tmp/tmpl4zzcndi/eazy_input.fits\n",
      "   >>> NOBJ = 1\n",
      "F22 E22 ( 22): hst/ACS_update_sep07/wfc_f435w_t81.dat\n",
      "F23 E23 ( 23): hst/ACS_update_sep07/wfc_f606w_t81.dat\n",
      "F49 E49 ( 49): hst/ACS_update_sep07/wfc_f775w_t81.dat\n",
      "F24 E24 ( 24): hst/ACS_update_sep07/wfc_f814w_t81.dat\n",
      "F50 E50 ( 50): hst/ACS_update_sep07/wfc_f850lp_t81.dat\n",
      "F1 E1 (  1): jwst_nircam_f090w\n",
      "F2 E2 (  2): jwst_nircam_f115w\n",
      "F3 E3 (  3): jwst_nircam_f150w\n",
      "F38 E38 ( 38): jwst_nircam_f162m\n",
      "F39 E39 ( 39): jwst_nircam_f182m\n",
      "F4 E4 (  4): jwst_nircam_f200w\n",
      "F40 E40 ( 40): jwst_nircam_f210m\n",
      "F41 E41 ( 41): jwst_nircam_f250m\n",
      "F5 E5 (  5): jwst_nircam_f277w\n",
      "F42 E42 ( 42): jwst_nircam_f300m\n",
      "F43 E43 ( 43): jwst_nircam_f335m\n",
      "F6 E6 (  6): jwst_nircam_f356w\n",
      "F7 E7 (  7): jwst_nircam_f410m\n",
      "F8 E8 (  8): jwst_nircam_f444w\n",
      "Set sys_err = 0.00 (positive=True)\n",
      "Template grid: /nvme/scratch/work/tharvey/EAZY/inputs/scripts/templates/LarsonTemplates/tweak_fsps_QSF_12_v3_newtemplates.param (this may take some time)\n"
     ]
    },
    {
     "name": "stderr",
     "output_type": "stream",
     "text": [
      "100%|██████████| 18/18 [00:11<00:00,  1.52it/s]\n"
     ]
    },
    {
     "name": "stdout",
     "output_type": "stream",
     "text": [
      "Template   0: fsps_QSF_12_v3_001.dat (NZ=1).\n",
      "Template   1: fsps_QSF_12_v3_002.dat (NZ=1).\n",
      "Template   2: fsps_QSF_12_v3_003.dat (NZ=1).\n",
      "Template   3: fsps_QSF_12_v3_004.dat (NZ=1).\n",
      "Template   4: fsps_QSF_12_v3_005.dat (NZ=1).\n",
      "Template   5: fsps_QSF_12_v3_006.dat (NZ=1).\n",
      "Template   6: fsps_QSF_12_v3_007.dat (NZ=1).\n",
      "Template   7: fsps_QSF_12_v3_008.dat (NZ=1).\n",
      "Template   8: fsps_QSF_12_v3_009.dat (NZ=1).\n",
      "Template   9: fsps_QSF_12_v3_010.dat (NZ=1).\n",
      "Template  10: fsps_QSF_12_v3_011.dat (NZ=1).\n",
      "Template  11: fsps_QSF_12_v3_012.dat (NZ=1).\n",
      "Template  12: binc100z001age6_cloudy.dat (NZ=1).\n",
      "Template  13: binc100z001age65_cloudy.dat (NZ=1).\n",
      "Template  14: binc100z001age7_cloudy.dat (NZ=1).\n",
      "Template  15: binc100z001age6.dat (NZ=1).\n",
      "Template  16: binc100z001age65.dat (NZ=1).\n",
      "Template  17: binc100z001age7.dat (NZ=1).\n",
      "Process templates: 12.346 s\n"
     ]
    },
    {
     "name": "stderr",
     "output_type": "stream",
     "text": [
      "304it [00:00, 26392.37it/s]"
     ]
    },
    {
     "name": "stdout",
     "output_type": "stream",
     "text": [
      "Saving tempfilt to /nvme/scratch/work/tharvey/EXPANSE/src/EXPANSE/eazy/tempfilt/\n"
     ]
    },
    {
     "name": "stderr",
     "output_type": "stream",
     "text": [
      "\n",
      "100%|██████████| 304/304 [00:00<00:00, 5591.74it/s]\n"
     ]
    },
    {
     "name": "stdout",
     "output_type": "stream",
     "text": [
      "Compute best fits\n",
      "fit_best: 0.0 s (n_proc=1,  NOBJ=1)\n",
      "Fit 0.4 s (n_proc=4, NOBJ=1)\n",
      "Setting meta, id_phot, 0\n",
      "Setting meta, z_best, 5.862922\n",
      "Setting meta, chi2, 10.397855470991704\n",
      "Setting meta, z16, 5.6113\n",
      "Setting meta, z50, 5.7925243\n",
      "Setting meta, z84, 5.9226727\n",
      "Setting meta, flux_unit, uJy\n",
      "Setting meta, wave_unit, Angstrom\n",
      "Setting meta, templates_file, /nvme/scratch/work/tharvey/EAZY/inputs/scripts/templates/LarsonTemplates/tweak_fsps_QSF_12_v3_newtemplates.param\n",
      "Setting meta, z_min, 0.01\n",
      "Setting meta, z_max, 20.0\n",
      "Setting meta, z_step, 0.01\n",
      "Setting meta, region, MAG_APER_0.32 arcsec_fsps_larson_0.05__Asada24_cgm\n",
      " added to <HDF5 file \"JOF_psfmatched_4234.h5\" (mode r+)>, interactive_outputs/MAG_APER_0_32 arcsec_fsps_larson_0_05__Asada24_cgm/, eazy_fit\n",
      " added to <HDF5 file \"JOF_psfmatched_4234.h5\" (mode r+)>, interactive_outputs/MAG_APER_0_32 arcsec_fsps_larson_0_05__Asada24_cgm/, p_z\n",
      " added to <HDF5 file \"JOF_psfmatched_4234.h5\" (mode r+)>, interactive_outputs/MAG_APER_0_32 arcsec_fsps_larson_0_05__Asada24_cgm/, input_flux\n",
      " added to <HDF5 file \"JOF_psfmatched_4234.h5\" (mode r+)>, interactive_outputs/MAG_APER_0_32 arcsec_fsps_larson_0_05__Asada24_cgm/, input_flux_err\n",
      "Zeropoint: 23.9\n",
      "{'TEMPLATES_FILE': '/nvme/scratch/work/tharvey/EAZY/inputs/scripts/templates/LarsonTemplates/tweak_fsps_QSF_12_v3_newtemplates.param', 'FILTERS_RES': '/nvme/scratch/work/tharvey/EXPANSE/src/EXPANSE/eazy/jwst_nircam_FILTER.RES', 'MW_EBV': 0, 'CAT_HAS_EXTCORR': False, 'ADD_CGM': True, 'Z_STEP': 0.01, 'Z_MIN': 0.01, 'Z_MAX': 20.0, 'TEMP_ERR_FILE': '/nvme/scratch/work/tharvey/EXPANSE/src/EXPANSE/eazy/TEMPLATE_ERROR.eazy_v1.0', 'TEMP_ERR_A2': 0, 'SYS_ERR': 0, 'APPLY_PRIOR': 'n', 'PRIOR_ABZP': 23.9, 'PRIOR_FILTER': 28, 'PRIOR_FILE': '', 'FIX_ZSPEC': False, 'IGM_SCALE_TAU': 1.0, 'N_MIN_COLORS': 2, 'CATALOG_FILE': '/tmp/tmpwxko8ykr/eazy_input.fits'}\n",
      "Read default param file: /nvme/scratch/software/anaconda3/envs/tharvey_galfind/lib/python3.10/site-packages/eazy/data/zphot.param.default\n",
      "Read CATALOG_FILE: /tmp/tmpwxko8ykr/eazy_input.fits\n",
      "   >>> NOBJ = 1\n",
      "F22 E22 ( 22): hst/ACS_update_sep07/wfc_f435w_t81.dat\n",
      "F23 E23 ( 23): hst/ACS_update_sep07/wfc_f606w_t81.dat\n",
      "F49 E49 ( 49): hst/ACS_update_sep07/wfc_f775w_t81.dat\n",
      "F24 E24 ( 24): hst/ACS_update_sep07/wfc_f814w_t81.dat\n",
      "F50 E50 ( 50): hst/ACS_update_sep07/wfc_f850lp_t81.dat\n",
      "F1 E1 (  1): jwst_nircam_f090w\n",
      "F2 E2 (  2): jwst_nircam_f115w\n",
      "F3 E3 (  3): jwst_nircam_f150w\n",
      "F38 E38 ( 38): jwst_nircam_f162m\n",
      "F39 E39 ( 39): jwst_nircam_f182m\n",
      "F4 E4 (  4): jwst_nircam_f200w\n",
      "F40 E40 ( 40): jwst_nircam_f210m\n",
      "F41 E41 ( 41): jwst_nircam_f250m\n",
      "F5 E5 (  5): jwst_nircam_f277w\n",
      "F42 E42 ( 42): jwst_nircam_f300m\n",
      "F43 E43 ( 43): jwst_nircam_f335m\n",
      "F6 E6 (  6): jwst_nircam_f356w\n",
      "F7 E7 (  7): jwst_nircam_f410m\n",
      "F8 E8 (  8): jwst_nircam_f444w\n",
      "Set sys_err = 0.00 (positive=True)\n",
      "Template grid: /nvme/scratch/work/tharvey/EAZY/inputs/scripts/templates/LarsonTemplates/tweak_fsps_QSF_12_v3_newtemplates.param (this may take some time)\n"
     ]
    },
    {
     "name": "stderr",
     "output_type": "stream",
     "text": [
      "100%|██████████| 18/18 [00:12<00:00,  1.48it/s]\n"
     ]
    },
    {
     "name": "stdout",
     "output_type": "stream",
     "text": [
      "Template   0: fsps_QSF_12_v3_001.dat (NZ=1).\n",
      "Template   1: fsps_QSF_12_v3_002.dat (NZ=1).\n",
      "Template   2: fsps_QSF_12_v3_003.dat (NZ=1).\n",
      "Template   3: fsps_QSF_12_v3_004.dat (NZ=1).\n",
      "Template   4: fsps_QSF_12_v3_005.dat (NZ=1).\n",
      "Template   5: fsps_QSF_12_v3_006.dat (NZ=1).\n",
      "Template   6: fsps_QSF_12_v3_007.dat (NZ=1).\n",
      "Template   7: fsps_QSF_12_v3_008.dat (NZ=1).\n",
      "Template   8: fsps_QSF_12_v3_009.dat (NZ=1).\n",
      "Template   9: fsps_QSF_12_v3_010.dat (NZ=1).\n",
      "Template  10: fsps_QSF_12_v3_011.dat (NZ=1).\n",
      "Template  11: fsps_QSF_12_v3_012.dat (NZ=1).\n",
      "Template  12: binc100z001age6_cloudy.dat (NZ=1).\n",
      "Template  13: binc100z001age65_cloudy.dat (NZ=1).\n",
      "Template  14: binc100z001age7_cloudy.dat (NZ=1).\n",
      "Template  15: binc100z001age6.dat (NZ=1).\n",
      "Template  16: binc100z001age65.dat (NZ=1).\n",
      "Template  17: binc100z001age7.dat (NZ=1).\n",
      "Process templates: 12.623 s\n"
     ]
    },
    {
     "name": "stderr",
     "output_type": "stream",
     "text": [
      "304it [00:00, 22804.10it/s]"
     ]
    },
    {
     "name": "stdout",
     "output_type": "stream",
     "text": [
      "Saving tempfilt to /nvme/scratch/work/tharvey/EXPANSE/src/EXPANSE/eazy/tempfilt/\n"
     ]
    },
    {
     "name": "stderr",
     "output_type": "stream",
     "text": [
      "\n",
      "100%|██████████| 304/304 [00:00<00:00, 5839.75it/s]\n"
     ]
    },
    {
     "name": "stdout",
     "output_type": "stream",
     "text": [
      "Compute best fits\n",
      "fit_best: 0.0 s (n_proc=1,  NOBJ=1)\n",
      "Fit 0.4 s (n_proc=4, NOBJ=1)\n",
      "Setting meta, id_phot, 0\n",
      "Setting meta, z_best, 8.242231\n",
      "Setting meta, chi2, 17.392856805532517\n",
      "Setting meta, z16, 8.0856495\n",
      "Setting meta, z50, 8.257025\n",
      "Setting meta, z84, 8.433055\n",
      "Setting meta, flux_unit, uJy\n",
      "Setting meta, wave_unit, Angstrom\n",
      "Setting meta, templates_file, /nvme/scratch/work/tharvey/EAZY/inputs/scripts/templates/LarsonTemplates/tweak_fsps_QSF_12_v3_newtemplates.param\n",
      "Setting meta, z_min, 0.01\n",
      "Setting meta, z_max, 20.0\n",
      "Setting meta, z_step, 0.01\n",
      "Setting meta, region, MAG_APER_0.32 arcsec_fsps_larson_0.05__Asada24_cgm\n",
      " added to <HDF5 file \"JOF_psfmatched_4266.h5\" (mode r+)>, interactive_outputs/MAG_APER_0_32 arcsec_fsps_larson_0_05__Asada24_cgm/, eazy_fit\n",
      " added to <HDF5 file \"JOF_psfmatched_4266.h5\" (mode r+)>, interactive_outputs/MAG_APER_0_32 arcsec_fsps_larson_0_05__Asada24_cgm/, p_z\n",
      " added to <HDF5 file \"JOF_psfmatched_4266.h5\" (mode r+)>, interactive_outputs/MAG_APER_0_32 arcsec_fsps_larson_0_05__Asada24_cgm/, input_flux\n",
      " added to <HDF5 file \"JOF_psfmatched_4266.h5\" (mode r+)>, interactive_outputs/MAG_APER_0_32 arcsec_fsps_larson_0_05__Asada24_cgm/, input_flux_err\n",
      "Zeropoint: 23.9\n",
      "{'TEMPLATES_FILE': '/nvme/scratch/work/tharvey/EAZY/inputs/scripts/templates/LarsonTemplates/tweak_fsps_QSF_12_v3_newtemplates.param', 'FILTERS_RES': '/nvme/scratch/work/tharvey/EXPANSE/src/EXPANSE/eazy/jwst_nircam_FILTER.RES', 'MW_EBV': 0, 'CAT_HAS_EXTCORR': False, 'ADD_CGM': True, 'Z_STEP': 0.01, 'Z_MIN': 0.01, 'Z_MAX': 20.0, 'TEMP_ERR_FILE': '/nvme/scratch/work/tharvey/EXPANSE/src/EXPANSE/eazy/TEMPLATE_ERROR.eazy_v1.0', 'TEMP_ERR_A2': 0, 'SYS_ERR': 0, 'APPLY_PRIOR': 'n', 'PRIOR_ABZP': 23.9, 'PRIOR_FILTER': 28, 'PRIOR_FILE': '', 'FIX_ZSPEC': False, 'IGM_SCALE_TAU': 1.0, 'N_MIN_COLORS': 2, 'CATALOG_FILE': '/tmp/tmpwq0w42ym/eazy_input.fits'}\n",
      "Read default param file: /nvme/scratch/software/anaconda3/envs/tharvey_galfind/lib/python3.10/site-packages/eazy/data/zphot.param.default\n",
      "Read CATALOG_FILE: /tmp/tmpwq0w42ym/eazy_input.fits\n",
      "   >>> NOBJ = 1\n",
      "F22 E22 ( 22): hst/ACS_update_sep07/wfc_f435w_t81.dat\n",
      "F23 E23 ( 23): hst/ACS_update_sep07/wfc_f606w_t81.dat\n",
      "F49 E49 ( 49): hst/ACS_update_sep07/wfc_f775w_t81.dat\n",
      "F24 E24 ( 24): hst/ACS_update_sep07/wfc_f814w_t81.dat\n",
      "F50 E50 ( 50): hst/ACS_update_sep07/wfc_f850lp_t81.dat\n",
      "F1 E1 (  1): jwst_nircam_f090w\n",
      "F2 E2 (  2): jwst_nircam_f115w\n",
      "F3 E3 (  3): jwst_nircam_f150w\n",
      "F38 E38 ( 38): jwst_nircam_f162m\n",
      "F39 E39 ( 39): jwst_nircam_f182m\n",
      "F4 E4 (  4): jwst_nircam_f200w\n",
      "F40 E40 ( 40): jwst_nircam_f210m\n",
      "F41 E41 ( 41): jwst_nircam_f250m\n",
      "F5 E5 (  5): jwst_nircam_f277w\n",
      "F42 E42 ( 42): jwst_nircam_f300m\n",
      "F43 E43 ( 43): jwst_nircam_f335m\n",
      "F6 E6 (  6): jwst_nircam_f356w\n",
      "F7 E7 (  7): jwst_nircam_f410m\n",
      "F8 E8 (  8): jwst_nircam_f444w\n",
      "Set sys_err = 0.00 (positive=True)\n",
      "Template grid: /nvme/scratch/work/tharvey/EAZY/inputs/scripts/templates/LarsonTemplates/tweak_fsps_QSF_12_v3_newtemplates.param (this may take some time)\n"
     ]
    },
    {
     "name": "stderr",
     "output_type": "stream",
     "text": [
      "100%|██████████| 18/18 [00:12<00:00,  1.45it/s]\n"
     ]
    },
    {
     "name": "stdout",
     "output_type": "stream",
     "text": [
      "Template   0: fsps_QSF_12_v3_001.dat (NZ=1).\n",
      "Template   1: fsps_QSF_12_v3_002.dat (NZ=1).\n",
      "Template   2: fsps_QSF_12_v3_003.dat (NZ=1).\n",
      "Template   3: fsps_QSF_12_v3_004.dat (NZ=1).\n",
      "Template   4: fsps_QSF_12_v3_005.dat (NZ=1).\n",
      "Template   5: fsps_QSF_12_v3_006.dat (NZ=1).\n",
      "Template   6: fsps_QSF_12_v3_007.dat (NZ=1).\n",
      "Template   7: fsps_QSF_12_v3_008.dat (NZ=1).\n",
      "Template   8: fsps_QSF_12_v3_009.dat (NZ=1).\n",
      "Template   9: fsps_QSF_12_v3_010.dat (NZ=1).\n",
      "Template  10: fsps_QSF_12_v3_011.dat (NZ=1).\n",
      "Template  11: fsps_QSF_12_v3_012.dat (NZ=1).\n",
      "Template  12: binc100z001age6_cloudy.dat (NZ=1).\n",
      "Template  13: binc100z001age65_cloudy.dat (NZ=1).\n",
      "Template  14: binc100z001age7_cloudy.dat (NZ=1).\n",
      "Template  15: binc100z001age6.dat (NZ=1).\n",
      "Template  16: binc100z001age65.dat (NZ=1).\n",
      "Template  17: binc100z001age7.dat (NZ=1).\n",
      "Process templates: 12.857 s\n"
     ]
    },
    {
     "name": "stderr",
     "output_type": "stream",
     "text": [
      "304it [00:00, 21729.55it/s]"
     ]
    },
    {
     "name": "stdout",
     "output_type": "stream",
     "text": [
      "Saving tempfilt to /nvme/scratch/work/tharvey/EXPANSE/src/EXPANSE/eazy/tempfilt/\n"
     ]
    },
    {
     "name": "stderr",
     "output_type": "stream",
     "text": [
      "\n",
      "100%|██████████| 304/304 [00:00<00:00, 5343.24it/s]\n"
     ]
    },
    {
     "name": "stdout",
     "output_type": "stream",
     "text": [
      "Compute best fits\n",
      "fit_best: 0.0 s (n_proc=1,  NOBJ=1)\n",
      "Fit 0.4 s (n_proc=4, NOBJ=1)\n",
      "Setting meta, id_phot, 0\n",
      "Setting meta, z_best, 9.3189125\n",
      "Setting meta, chi2, 17.45507653309012\n",
      "Setting meta, z16, 9.243141\n",
      "Setting meta, z50, 9.488435\n",
      "Setting meta, z84, 9.872302\n",
      "Setting meta, flux_unit, uJy\n",
      "Setting meta, wave_unit, Angstrom\n",
      "Setting meta, templates_file, /nvme/scratch/work/tharvey/EAZY/inputs/scripts/templates/LarsonTemplates/tweak_fsps_QSF_12_v3_newtemplates.param\n",
      "Setting meta, z_min, 0.01\n",
      "Setting meta, z_max, 20.0\n",
      "Setting meta, z_step, 0.01\n",
      "Setting meta, region, MAG_APER_0.32 arcsec_fsps_larson_0.05__Asada24_cgm\n",
      " added to <HDF5 file \"JOF_psfmatched_4277.h5\" (mode r+)>, interactive_outputs/MAG_APER_0_32 arcsec_fsps_larson_0_05__Asada24_cgm/, eazy_fit\n",
      " added to <HDF5 file \"JOF_psfmatched_4277.h5\" (mode r+)>, interactive_outputs/MAG_APER_0_32 arcsec_fsps_larson_0_05__Asada24_cgm/, p_z\n",
      " added to <HDF5 file \"JOF_psfmatched_4277.h5\" (mode r+)>, interactive_outputs/MAG_APER_0_32 arcsec_fsps_larson_0_05__Asada24_cgm/, input_flux\n",
      " added to <HDF5 file \"JOF_psfmatched_4277.h5\" (mode r+)>, interactive_outputs/MAG_APER_0_32 arcsec_fsps_larson_0_05__Asada24_cgm/, input_flux_err\n",
      "Zeropoint: 23.9\n",
      "{'TEMPLATES_FILE': '/nvme/scratch/work/tharvey/EAZY/inputs/scripts/templates/LarsonTemplates/tweak_fsps_QSF_12_v3_newtemplates.param', 'FILTERS_RES': '/nvme/scratch/work/tharvey/EXPANSE/src/EXPANSE/eazy/jwst_nircam_FILTER.RES', 'MW_EBV': 0, 'CAT_HAS_EXTCORR': False, 'ADD_CGM': True, 'Z_STEP': 0.01, 'Z_MIN': 0.01, 'Z_MAX': 20.0, 'TEMP_ERR_FILE': '/nvme/scratch/work/tharvey/EXPANSE/src/EXPANSE/eazy/TEMPLATE_ERROR.eazy_v1.0', 'TEMP_ERR_A2': 0, 'SYS_ERR': 0, 'APPLY_PRIOR': 'n', 'PRIOR_ABZP': 23.9, 'PRIOR_FILTER': 28, 'PRIOR_FILE': '', 'FIX_ZSPEC': False, 'IGM_SCALE_TAU': 1.0, 'N_MIN_COLORS': 2, 'CATALOG_FILE': '/tmp/tmpve3l_ug6/eazy_input.fits'}\n",
      "Read default param file: /nvme/scratch/software/anaconda3/envs/tharvey_galfind/lib/python3.10/site-packages/eazy/data/zphot.param.default\n",
      "Read CATALOG_FILE: /tmp/tmpve3l_ug6/eazy_input.fits\n",
      "   >>> NOBJ = 1\n",
      "F22 E22 ( 22): hst/ACS_update_sep07/wfc_f435w_t81.dat\n",
      "F23 E23 ( 23): hst/ACS_update_sep07/wfc_f606w_t81.dat\n",
      "F49 E49 ( 49): hst/ACS_update_sep07/wfc_f775w_t81.dat\n",
      "F24 E24 ( 24): hst/ACS_update_sep07/wfc_f814w_t81.dat\n",
      "F50 E50 ( 50): hst/ACS_update_sep07/wfc_f850lp_t81.dat\n",
      "F1 E1 (  1): jwst_nircam_f090w\n",
      "F2 E2 (  2): jwst_nircam_f115w\n",
      "F3 E3 (  3): jwst_nircam_f150w\n",
      "F38 E38 ( 38): jwst_nircam_f162m\n",
      "F39 E39 ( 39): jwst_nircam_f182m\n",
      "F4 E4 (  4): jwst_nircam_f200w\n",
      "F40 E40 ( 40): jwst_nircam_f210m\n",
      "F41 E41 ( 41): jwst_nircam_f250m\n",
      "F5 E5 (  5): jwst_nircam_f277w\n",
      "F42 E42 ( 42): jwst_nircam_f300m\n",
      "F43 E43 ( 43): jwst_nircam_f335m\n",
      "F6 E6 (  6): jwst_nircam_f356w\n",
      "F7 E7 (  7): jwst_nircam_f410m\n",
      "F8 E8 (  8): jwst_nircam_f444w\n",
      "Set sys_err = 0.00 (positive=True)\n",
      "Template grid: /nvme/scratch/work/tharvey/EAZY/inputs/scripts/templates/LarsonTemplates/tweak_fsps_QSF_12_v3_newtemplates.param (this may take some time)\n"
     ]
    },
    {
     "name": "stderr",
     "output_type": "stream",
     "text": [
      "100%|██████████| 18/18 [00:11<00:00,  1.50it/s]\n"
     ]
    },
    {
     "name": "stdout",
     "output_type": "stream",
     "text": [
      "Template   0: fsps_QSF_12_v3_001.dat (NZ=1).\n",
      "Template   1: fsps_QSF_12_v3_002.dat (NZ=1).\n",
      "Template   2: fsps_QSF_12_v3_003.dat (NZ=1).\n",
      "Template   3: fsps_QSF_12_v3_004.dat (NZ=1).\n",
      "Template   4: fsps_QSF_12_v3_005.dat (NZ=1).\n",
      "Template   5: fsps_QSF_12_v3_006.dat (NZ=1).\n",
      "Template   6: fsps_QSF_12_v3_007.dat (NZ=1).\n",
      "Template   7: fsps_QSF_12_v3_008.dat (NZ=1).\n",
      "Template   8: fsps_QSF_12_v3_009.dat (NZ=1).\n",
      "Template   9: fsps_QSF_12_v3_010.dat (NZ=1).\n",
      "Template  10: fsps_QSF_12_v3_011.dat (NZ=1).\n",
      "Template  11: fsps_QSF_12_v3_012.dat (NZ=1).\n",
      "Template  12: binc100z001age6_cloudy.dat (NZ=1).\n",
      "Template  13: binc100z001age65_cloudy.dat (NZ=1).\n",
      "Template  14: binc100z001age7_cloudy.dat (NZ=1).\n",
      "Template  15: binc100z001age6.dat (NZ=1).\n",
      "Template  16: binc100z001age65.dat (NZ=1).\n",
      "Template  17: binc100z001age7.dat (NZ=1).\n",
      "Process templates: 12.445 s\n"
     ]
    },
    {
     "name": "stderr",
     "output_type": "stream",
     "text": [
      "304it [00:00, 20552.03it/s]"
     ]
    },
    {
     "name": "stdout",
     "output_type": "stream",
     "text": [
      "Saving tempfilt to /nvme/scratch/work/tharvey/EXPANSE/src/EXPANSE/eazy/tempfilt/\n"
     ]
    },
    {
     "name": "stderr",
     "output_type": "stream",
     "text": [
      "\n",
      "100%|██████████| 304/304 [00:00<00:00, 4992.83it/s]\n"
     ]
    },
    {
     "name": "stdout",
     "output_type": "stream",
     "text": [
      "Compute best fits\n",
      "fit_best: 0.0 s (n_proc=1,  NOBJ=1)\n",
      "Fit 0.4 s (n_proc=4, NOBJ=1)\n",
      "Setting meta, id_phot, 0\n",
      "Setting meta, z_best, 6.413977\n",
      "Setting meta, chi2, 28.29954825784699\n",
      "Setting meta, z16, 6.294369\n",
      "Setting meta, z50, 6.4178267\n",
      "Setting meta, z84, 6.54961\n",
      "Setting meta, flux_unit, uJy\n",
      "Setting meta, wave_unit, Angstrom\n",
      "Setting meta, templates_file, /nvme/scratch/work/tharvey/EAZY/inputs/scripts/templates/LarsonTemplates/tweak_fsps_QSF_12_v3_newtemplates.param\n",
      "Setting meta, z_min, 0.01\n",
      "Setting meta, z_max, 20.0\n",
      "Setting meta, z_step, 0.01\n",
      "Setting meta, region, MAG_APER_0.32 arcsec_fsps_larson_0.05__Asada24_cgm\n",
      " added to <HDF5 file \"JOF_psfmatched_4403.h5\" (mode r+)>, interactive_outputs/MAG_APER_0_32 arcsec_fsps_larson_0_05__Asada24_cgm/, eazy_fit\n",
      " added to <HDF5 file \"JOF_psfmatched_4403.h5\" (mode r+)>, interactive_outputs/MAG_APER_0_32 arcsec_fsps_larson_0_05__Asada24_cgm/, p_z\n",
      " added to <HDF5 file \"JOF_psfmatched_4403.h5\" (mode r+)>, interactive_outputs/MAG_APER_0_32 arcsec_fsps_larson_0_05__Asada24_cgm/, input_flux\n",
      " added to <HDF5 file \"JOF_psfmatched_4403.h5\" (mode r+)>, interactive_outputs/MAG_APER_0_32 arcsec_fsps_larson_0_05__Asada24_cgm/, input_flux_err\n",
      "Zeropoint: 23.9\n",
      "{'TEMPLATES_FILE': '/nvme/scratch/work/tharvey/EAZY/inputs/scripts/templates/LarsonTemplates/tweak_fsps_QSF_12_v3_newtemplates.param', 'FILTERS_RES': '/nvme/scratch/work/tharvey/EXPANSE/src/EXPANSE/eazy/jwst_nircam_FILTER.RES', 'MW_EBV': 0, 'CAT_HAS_EXTCORR': False, 'ADD_CGM': True, 'Z_STEP': 0.01, 'Z_MIN': 0.01, 'Z_MAX': 20.0, 'TEMP_ERR_FILE': '/nvme/scratch/work/tharvey/EXPANSE/src/EXPANSE/eazy/TEMPLATE_ERROR.eazy_v1.0', 'TEMP_ERR_A2': 0, 'SYS_ERR': 0, 'APPLY_PRIOR': 'n', 'PRIOR_ABZP': 23.9, 'PRIOR_FILTER': 28, 'PRIOR_FILE': '', 'FIX_ZSPEC': False, 'IGM_SCALE_TAU': 1.0, 'N_MIN_COLORS': 2, 'CATALOG_FILE': '/tmp/tmphn6kjpkz/eazy_input.fits'}\n",
      "Read default param file: /nvme/scratch/software/anaconda3/envs/tharvey_galfind/lib/python3.10/site-packages/eazy/data/zphot.param.default\n",
      "Read CATALOG_FILE: /tmp/tmphn6kjpkz/eazy_input.fits\n",
      "   >>> NOBJ = 1\n",
      "F22 E22 ( 22): hst/ACS_update_sep07/wfc_f435w_t81.dat\n",
      "F23 E23 ( 23): hst/ACS_update_sep07/wfc_f606w_t81.dat\n",
      "F49 E49 ( 49): hst/ACS_update_sep07/wfc_f775w_t81.dat\n",
      "F24 E24 ( 24): hst/ACS_update_sep07/wfc_f814w_t81.dat\n",
      "F50 E50 ( 50): hst/ACS_update_sep07/wfc_f850lp_t81.dat\n",
      "F1 E1 (  1): jwst_nircam_f090w\n",
      "F2 E2 (  2): jwst_nircam_f115w\n",
      "F3 E3 (  3): jwst_nircam_f150w\n",
      "F38 E38 ( 38): jwst_nircam_f162m\n",
      "F39 E39 ( 39): jwst_nircam_f182m\n",
      "F4 E4 (  4): jwst_nircam_f200w\n",
      "F40 E40 ( 40): jwst_nircam_f210m\n",
      "F41 E41 ( 41): jwst_nircam_f250m\n",
      "F5 E5 (  5): jwst_nircam_f277w\n",
      "F42 E42 ( 42): jwst_nircam_f300m\n",
      "F43 E43 ( 43): jwst_nircam_f335m\n",
      "F6 E6 (  6): jwst_nircam_f356w\n",
      "F7 E7 (  7): jwst_nircam_f410m\n",
      "F8 E8 (  8): jwst_nircam_f444w\n",
      "Set sys_err = 0.00 (positive=True)\n",
      "Template grid: /nvme/scratch/work/tharvey/EAZY/inputs/scripts/templates/LarsonTemplates/tweak_fsps_QSF_12_v3_newtemplates.param (this may take some time)\n"
     ]
    },
    {
     "name": "stderr",
     "output_type": "stream",
     "text": [
      "100%|██████████| 18/18 [00:12<00:00,  1.46it/s]\n"
     ]
    },
    {
     "name": "stdout",
     "output_type": "stream",
     "text": [
      "Template   0: fsps_QSF_12_v3_001.dat (NZ=1).\n",
      "Template   1: fsps_QSF_12_v3_002.dat (NZ=1).\n",
      "Template   2: fsps_QSF_12_v3_003.dat (NZ=1).\n",
      "Template   3: fsps_QSF_12_v3_004.dat (NZ=1).\n",
      "Template   4: fsps_QSF_12_v3_005.dat (NZ=1).\n",
      "Template   5: fsps_QSF_12_v3_006.dat (NZ=1).\n",
      "Template   6: fsps_QSF_12_v3_007.dat (NZ=1).\n",
      "Template   7: fsps_QSF_12_v3_008.dat (NZ=1).\n",
      "Template   8: fsps_QSF_12_v3_009.dat (NZ=1).\n",
      "Template   9: fsps_QSF_12_v3_010.dat (NZ=1).\n",
      "Template  10: fsps_QSF_12_v3_011.dat (NZ=1).\n",
      "Template  11: fsps_QSF_12_v3_012.dat (NZ=1).\n",
      "Template  12: binc100z001age6_cloudy.dat (NZ=1).\n",
      "Template  13: binc100z001age65_cloudy.dat (NZ=1).\n",
      "Template  14: binc100z001age7_cloudy.dat (NZ=1).\n",
      "Template  15: binc100z001age6.dat (NZ=1).\n",
      "Template  16: binc100z001age65.dat (NZ=1).\n",
      "Template  17: binc100z001age7.dat (NZ=1).\n",
      "Process templates: 12.828 s\n"
     ]
    },
    {
     "name": "stderr",
     "output_type": "stream",
     "text": [
      "304it [00:00, 25208.94it/s]"
     ]
    },
    {
     "name": "stdout",
     "output_type": "stream",
     "text": [
      "Saving tempfilt to /nvme/scratch/work/tharvey/EXPANSE/src/EXPANSE/eazy/tempfilt/\n"
     ]
    },
    {
     "name": "stderr",
     "output_type": "stream",
     "text": [
      "\n",
      "100%|██████████| 304/304 [00:00<00:00, 5390.86it/s]\n"
     ]
    },
    {
     "name": "stdout",
     "output_type": "stream",
     "text": [
      "Compute best fits\n",
      "fit_best: 0.0 s (n_proc=1,  NOBJ=1)\n",
      "Fit 0.4 s (n_proc=4, NOBJ=1)\n",
      "Setting meta, id_phot, 0\n",
      "Setting meta, z_best, 6.0627375\n",
      "Setting meta, chi2, 28.495153195711442\n",
      "Setting meta, z16, 6.0149584\n",
      "Setting meta, z50, 6.0687475\n",
      "Setting meta, z84, 6.1364555\n",
      "Setting meta, flux_unit, uJy\n",
      "Setting meta, wave_unit, Angstrom\n",
      "Setting meta, templates_file, /nvme/scratch/work/tharvey/EAZY/inputs/scripts/templates/LarsonTemplates/tweak_fsps_QSF_12_v3_newtemplates.param\n",
      "Setting meta, z_min, 0.01\n",
      "Setting meta, z_max, 20.0\n",
      "Setting meta, z_step, 0.01\n",
      "Setting meta, region, MAG_APER_0.32 arcsec_fsps_larson_0.05__Asada24_cgm\n",
      " added to <HDF5 file \"JOF_psfmatched_4456.h5\" (mode r+)>, interactive_outputs/MAG_APER_0_32 arcsec_fsps_larson_0_05__Asada24_cgm/, eazy_fit\n",
      " added to <HDF5 file \"JOF_psfmatched_4456.h5\" (mode r+)>, interactive_outputs/MAG_APER_0_32 arcsec_fsps_larson_0_05__Asada24_cgm/, p_z\n",
      " added to <HDF5 file \"JOF_psfmatched_4456.h5\" (mode r+)>, interactive_outputs/MAG_APER_0_32 arcsec_fsps_larson_0_05__Asada24_cgm/, input_flux\n",
      " added to <HDF5 file \"JOF_psfmatched_4456.h5\" (mode r+)>, interactive_outputs/MAG_APER_0_32 arcsec_fsps_larson_0_05__Asada24_cgm/, input_flux_err\n",
      "Zeropoint: 23.9\n",
      "{'TEMPLATES_FILE': '/nvme/scratch/work/tharvey/EAZY/inputs/scripts/templates/LarsonTemplates/tweak_fsps_QSF_12_v3_newtemplates.param', 'FILTERS_RES': '/nvme/scratch/work/tharvey/EXPANSE/src/EXPANSE/eazy/jwst_nircam_FILTER.RES', 'MW_EBV': 0, 'CAT_HAS_EXTCORR': False, 'ADD_CGM': True, 'Z_STEP': 0.01, 'Z_MIN': 0.01, 'Z_MAX': 20.0, 'TEMP_ERR_FILE': '/nvme/scratch/work/tharvey/EXPANSE/src/EXPANSE/eazy/TEMPLATE_ERROR.eazy_v1.0', 'TEMP_ERR_A2': 0, 'SYS_ERR': 0, 'APPLY_PRIOR': 'n', 'PRIOR_ABZP': 23.9, 'PRIOR_FILTER': 28, 'PRIOR_FILE': '', 'FIX_ZSPEC': False, 'IGM_SCALE_TAU': 1.0, 'N_MIN_COLORS': 2, 'CATALOG_FILE': '/tmp/tmpksqp22ai/eazy_input.fits'}\n",
      "Read default param file: /nvme/scratch/software/anaconda3/envs/tharvey_galfind/lib/python3.10/site-packages/eazy/data/zphot.param.default\n",
      "Read CATALOG_FILE: /tmp/tmpksqp22ai/eazy_input.fits\n",
      "   >>> NOBJ = 1\n",
      "F22 E22 ( 22): hst/ACS_update_sep07/wfc_f435w_t81.dat\n",
      "F23 E23 ( 23): hst/ACS_update_sep07/wfc_f606w_t81.dat\n",
      "F49 E49 ( 49): hst/ACS_update_sep07/wfc_f775w_t81.dat\n",
      "F24 E24 ( 24): hst/ACS_update_sep07/wfc_f814w_t81.dat\n",
      "F50 E50 ( 50): hst/ACS_update_sep07/wfc_f850lp_t81.dat\n",
      "F1 E1 (  1): jwst_nircam_f090w\n",
      "F2 E2 (  2): jwst_nircam_f115w\n",
      "F3 E3 (  3): jwst_nircam_f150w\n",
      "F38 E38 ( 38): jwst_nircam_f162m\n",
      "F39 E39 ( 39): jwst_nircam_f182m\n",
      "F4 E4 (  4): jwst_nircam_f200w\n",
      "F40 E40 ( 40): jwst_nircam_f210m\n",
      "F41 E41 ( 41): jwst_nircam_f250m\n",
      "F5 E5 (  5): jwst_nircam_f277w\n",
      "F42 E42 ( 42): jwst_nircam_f300m\n",
      "F43 E43 ( 43): jwst_nircam_f335m\n",
      "F6 E6 (  6): jwst_nircam_f356w\n",
      "F7 E7 (  7): jwst_nircam_f410m\n",
      "F8 E8 (  8): jwst_nircam_f444w\n",
      "Set sys_err = 0.00 (positive=True)\n",
      "Template grid: /nvme/scratch/work/tharvey/EAZY/inputs/scripts/templates/LarsonTemplates/tweak_fsps_QSF_12_v3_newtemplates.param (this may take some time)\n"
     ]
    },
    {
     "name": "stderr",
     "output_type": "stream",
     "text": [
      "100%|██████████| 18/18 [00:12<00:00,  1.44it/s]\n"
     ]
    },
    {
     "name": "stdout",
     "output_type": "stream",
     "text": [
      "Template   0: fsps_QSF_12_v3_001.dat (NZ=1).\n",
      "Template   1: fsps_QSF_12_v3_002.dat (NZ=1).\n",
      "Template   2: fsps_QSF_12_v3_003.dat (NZ=1).\n",
      "Template   3: fsps_QSF_12_v3_004.dat (NZ=1).\n",
      "Template   4: fsps_QSF_12_v3_005.dat (NZ=1).\n",
      "Template   5: fsps_QSF_12_v3_006.dat (NZ=1).\n",
      "Template   6: fsps_QSF_12_v3_007.dat (NZ=1).\n",
      "Template   7: fsps_QSF_12_v3_008.dat (NZ=1).\n",
      "Template   8: fsps_QSF_12_v3_009.dat (NZ=1).\n",
      "Template   9: fsps_QSF_12_v3_010.dat (NZ=1).\n",
      "Template  10: fsps_QSF_12_v3_011.dat (NZ=1).\n",
      "Template  11: fsps_QSF_12_v3_012.dat (NZ=1).\n",
      "Template  12: binc100z001age6_cloudy.dat (NZ=1).\n",
      "Template  13: binc100z001age65_cloudy.dat (NZ=1).\n",
      "Template  14: binc100z001age7_cloudy.dat (NZ=1).\n",
      "Template  15: binc100z001age6.dat (NZ=1).\n",
      "Template  16: binc100z001age65.dat (NZ=1).\n",
      "Template  17: binc100z001age7.dat (NZ=1).\n",
      "Process templates: 13.006 s\n"
     ]
    },
    {
     "name": "stderr",
     "output_type": "stream",
     "text": [
      "304it [00:00, 21193.56it/s]"
     ]
    },
    {
     "name": "stdout",
     "output_type": "stream",
     "text": [
      "Saving tempfilt to /nvme/scratch/work/tharvey/EXPANSE/src/EXPANSE/eazy/tempfilt/\n"
     ]
    },
    {
     "name": "stderr",
     "output_type": "stream",
     "text": [
      "\n",
      "100%|██████████| 304/304 [00:00<00:00, 4168.91it/s]\n"
     ]
    },
    {
     "name": "stdout",
     "output_type": "stream",
     "text": [
      "Compute best fits\n",
      "fit_best: 0.0 s (n_proc=1,  NOBJ=1)\n",
      "Fit 0.4 s (n_proc=4, NOBJ=1)\n",
      "Setting meta, id_phot, 0\n",
      "Setting meta, z_best, 9.947004\n",
      "Setting meta, chi2, 13.096295254408972\n",
      "Setting meta, z16, 9.612951\n",
      "Setting meta, z50, 9.945098\n",
      "Setting meta, z84, 10.266245\n",
      "Setting meta, flux_unit, uJy\n",
      "Setting meta, wave_unit, Angstrom\n",
      "Setting meta, templates_file, /nvme/scratch/work/tharvey/EAZY/inputs/scripts/templates/LarsonTemplates/tweak_fsps_QSF_12_v3_newtemplates.param\n",
      "Setting meta, z_min, 0.01\n",
      "Setting meta, z_max, 20.0\n",
      "Setting meta, z_step, 0.01\n",
      "Setting meta, region, MAG_APER_0.32 arcsec_fsps_larson_0.05__Asada24_cgm\n",
      " added to <HDF5 file \"JOF_psfmatched_4766.h5\" (mode r+)>, interactive_outputs/MAG_APER_0_32 arcsec_fsps_larson_0_05__Asada24_cgm/, eazy_fit\n",
      " added to <HDF5 file \"JOF_psfmatched_4766.h5\" (mode r+)>, interactive_outputs/MAG_APER_0_32 arcsec_fsps_larson_0_05__Asada24_cgm/, p_z\n",
      " added to <HDF5 file \"JOF_psfmatched_4766.h5\" (mode r+)>, interactive_outputs/MAG_APER_0_32 arcsec_fsps_larson_0_05__Asada24_cgm/, input_flux\n",
      " added to <HDF5 file \"JOF_psfmatched_4766.h5\" (mode r+)>, interactive_outputs/MAG_APER_0_32 arcsec_fsps_larson_0_05__Asada24_cgm/, input_flux_err\n",
      "Zeropoint: 23.9\n",
      "{'TEMPLATES_FILE': '/nvme/scratch/work/tharvey/EAZY/inputs/scripts/templates/LarsonTemplates/tweak_fsps_QSF_12_v3_newtemplates.param', 'FILTERS_RES': '/nvme/scratch/work/tharvey/EXPANSE/src/EXPANSE/eazy/jwst_nircam_FILTER.RES', 'MW_EBV': 0, 'CAT_HAS_EXTCORR': False, 'ADD_CGM': True, 'Z_STEP': 0.01, 'Z_MIN': 0.01, 'Z_MAX': 20.0, 'TEMP_ERR_FILE': '/nvme/scratch/work/tharvey/EXPANSE/src/EXPANSE/eazy/TEMPLATE_ERROR.eazy_v1.0', 'TEMP_ERR_A2': 0, 'SYS_ERR': 0, 'APPLY_PRIOR': 'n', 'PRIOR_ABZP': 23.9, 'PRIOR_FILTER': 28, 'PRIOR_FILE': '', 'FIX_ZSPEC': False, 'IGM_SCALE_TAU': 1.0, 'N_MIN_COLORS': 2, 'CATALOG_FILE': '/tmp/tmpy166oqun/eazy_input.fits'}\n",
      "Read default param file: /nvme/scratch/software/anaconda3/envs/tharvey_galfind/lib/python3.10/site-packages/eazy/data/zphot.param.default\n",
      "Read CATALOG_FILE: /tmp/tmpy166oqun/eazy_input.fits\n",
      "   >>> NOBJ = 1\n",
      "F22 E22 ( 22): hst/ACS_update_sep07/wfc_f435w_t81.dat\n",
      "F23 E23 ( 23): hst/ACS_update_sep07/wfc_f606w_t81.dat\n",
      "F49 E49 ( 49): hst/ACS_update_sep07/wfc_f775w_t81.dat\n",
      "F24 E24 ( 24): hst/ACS_update_sep07/wfc_f814w_t81.dat\n",
      "F50 E50 ( 50): hst/ACS_update_sep07/wfc_f850lp_t81.dat\n",
      "F1 E1 (  1): jwst_nircam_f090w\n",
      "F2 E2 (  2): jwst_nircam_f115w\n",
      "F3 E3 (  3): jwst_nircam_f150w\n",
      "F38 E38 ( 38): jwst_nircam_f162m\n",
      "F39 E39 ( 39): jwst_nircam_f182m\n",
      "F4 E4 (  4): jwst_nircam_f200w\n",
      "F40 E40 ( 40): jwst_nircam_f210m\n",
      "F41 E41 ( 41): jwst_nircam_f250m\n",
      "F5 E5 (  5): jwst_nircam_f277w\n",
      "F42 E42 ( 42): jwst_nircam_f300m\n",
      "F43 E43 ( 43): jwst_nircam_f335m\n",
      "F6 E6 (  6): jwst_nircam_f356w\n",
      "F7 E7 (  7): jwst_nircam_f410m\n",
      "F8 E8 (  8): jwst_nircam_f444w\n",
      "Set sys_err = 0.00 (positive=True)\n",
      "Template grid: /nvme/scratch/work/tharvey/EAZY/inputs/scripts/templates/LarsonTemplates/tweak_fsps_QSF_12_v3_newtemplates.param (this may take some time)\n"
     ]
    },
    {
     "name": "stderr",
     "output_type": "stream",
     "text": [
      "100%|██████████| 18/18 [00:12<00:00,  1.50it/s]\n"
     ]
    },
    {
     "name": "stdout",
     "output_type": "stream",
     "text": [
      "Template   0: fsps_QSF_12_v3_001.dat (NZ=1).\n",
      "Template   1: fsps_QSF_12_v3_002.dat (NZ=1).\n",
      "Template   2: fsps_QSF_12_v3_003.dat (NZ=1).\n",
      "Template   3: fsps_QSF_12_v3_004.dat (NZ=1).\n",
      "Template   4: fsps_QSF_12_v3_005.dat (NZ=1).\n",
      "Template   5: fsps_QSF_12_v3_006.dat (NZ=1).\n",
      "Template   6: fsps_QSF_12_v3_007.dat (NZ=1).\n",
      "Template   7: fsps_QSF_12_v3_008.dat (NZ=1).\n",
      "Template   8: fsps_QSF_12_v3_009.dat (NZ=1).\n",
      "Template   9: fsps_QSF_12_v3_010.dat (NZ=1).\n",
      "Template  10: fsps_QSF_12_v3_011.dat (NZ=1).\n",
      "Template  11: fsps_QSF_12_v3_012.dat (NZ=1).\n",
      "Template  12: binc100z001age6_cloudy.dat (NZ=1).\n",
      "Template  13: binc100z001age65_cloudy.dat (NZ=1).\n",
      "Template  14: binc100z001age7_cloudy.dat (NZ=1).\n",
      "Template  15: binc100z001age6.dat (NZ=1).\n",
      "Template  16: binc100z001age65.dat (NZ=1).\n",
      "Template  17: binc100z001age7.dat (NZ=1).\n",
      "Process templates: 12.462 s\n"
     ]
    },
    {
     "name": "stderr",
     "output_type": "stream",
     "text": [
      "304it [00:00, 26914.37it/s]"
     ]
    },
    {
     "name": "stdout",
     "output_type": "stream",
     "text": [
      "Saving tempfilt to /nvme/scratch/work/tharvey/EXPANSE/src/EXPANSE/eazy/tempfilt/\n"
     ]
    },
    {
     "name": "stderr",
     "output_type": "stream",
     "text": [
      "\n",
      "100%|██████████| 304/304 [00:00<00:00, 4247.38it/s]\n"
     ]
    },
    {
     "name": "stdout",
     "output_type": "stream",
     "text": [
      "Compute best fits\n",
      "fit_best: 0.0 s (n_proc=1,  NOBJ=1)\n",
      "Fit 0.4 s (n_proc=4, NOBJ=1)\n",
      "Setting meta, id_phot, 0\n",
      "Setting meta, z_best, 5.8364406\n",
      "Setting meta, chi2, 37.499382599078935\n",
      "Setting meta, z16, 5.791885\n",
      "Setting meta, z50, 5.860775\n",
      "Setting meta, z84, 5.955618\n",
      "Setting meta, flux_unit, uJy\n",
      "Setting meta, wave_unit, Angstrom\n",
      "Setting meta, templates_file, /nvme/scratch/work/tharvey/EAZY/inputs/scripts/templates/LarsonTemplates/tweak_fsps_QSF_12_v3_newtemplates.param\n",
      "Setting meta, z_min, 0.01\n",
      "Setting meta, z_max, 20.0\n",
      "Setting meta, z_step, 0.01\n",
      "Setting meta, region, MAG_APER_0.32 arcsec_fsps_larson_0.05__Asada24_cgm\n",
      " added to <HDF5 file \"JOF_psfmatched_478.h5\" (mode r+)>, interactive_outputs/MAG_APER_0_32 arcsec_fsps_larson_0_05__Asada24_cgm/, eazy_fit\n",
      " added to <HDF5 file \"JOF_psfmatched_478.h5\" (mode r+)>, interactive_outputs/MAG_APER_0_32 arcsec_fsps_larson_0_05__Asada24_cgm/, p_z\n",
      " added to <HDF5 file \"JOF_psfmatched_478.h5\" (mode r+)>, interactive_outputs/MAG_APER_0_32 arcsec_fsps_larson_0_05__Asada24_cgm/, input_flux\n",
      " added to <HDF5 file \"JOF_psfmatched_478.h5\" (mode r+)>, interactive_outputs/MAG_APER_0_32 arcsec_fsps_larson_0_05__Asada24_cgm/, input_flux_err\n",
      "Zeropoint: 23.9\n",
      "{'TEMPLATES_FILE': '/nvme/scratch/work/tharvey/EAZY/inputs/scripts/templates/LarsonTemplates/tweak_fsps_QSF_12_v3_newtemplates.param', 'FILTERS_RES': '/nvme/scratch/work/tharvey/EXPANSE/src/EXPANSE/eazy/jwst_nircam_FILTER.RES', 'MW_EBV': 0, 'CAT_HAS_EXTCORR': False, 'ADD_CGM': True, 'Z_STEP': 0.01, 'Z_MIN': 0.01, 'Z_MAX': 20.0, 'TEMP_ERR_FILE': '/nvme/scratch/work/tharvey/EXPANSE/src/EXPANSE/eazy/TEMPLATE_ERROR.eazy_v1.0', 'TEMP_ERR_A2': 0, 'SYS_ERR': 0, 'APPLY_PRIOR': 'n', 'PRIOR_ABZP': 23.9, 'PRIOR_FILTER': 28, 'PRIOR_FILE': '', 'FIX_ZSPEC': False, 'IGM_SCALE_TAU': 1.0, 'N_MIN_COLORS': 2, 'CATALOG_FILE': '/tmp/tmpvhpb90oj/eazy_input.fits'}\n",
      "Read default param file: /nvme/scratch/software/anaconda3/envs/tharvey_galfind/lib/python3.10/site-packages/eazy/data/zphot.param.default\n",
      "Read CATALOG_FILE: /tmp/tmpvhpb90oj/eazy_input.fits\n",
      "   >>> NOBJ = 1\n",
      "F22 E22 ( 22): hst/ACS_update_sep07/wfc_f435w_t81.dat\n",
      "F23 E23 ( 23): hst/ACS_update_sep07/wfc_f606w_t81.dat\n",
      "F49 E49 ( 49): hst/ACS_update_sep07/wfc_f775w_t81.dat\n",
      "F24 E24 ( 24): hst/ACS_update_sep07/wfc_f814w_t81.dat\n",
      "F50 E50 ( 50): hst/ACS_update_sep07/wfc_f850lp_t81.dat\n",
      "F1 E1 (  1): jwst_nircam_f090w\n",
      "F2 E2 (  2): jwst_nircam_f115w\n",
      "F3 E3 (  3): jwst_nircam_f150w\n",
      "F38 E38 ( 38): jwst_nircam_f162m\n",
      "F39 E39 ( 39): jwst_nircam_f182m\n",
      "F4 E4 (  4): jwst_nircam_f200w\n",
      "F40 E40 ( 40): jwst_nircam_f210m\n",
      "F41 E41 ( 41): jwst_nircam_f250m\n",
      "F5 E5 (  5): jwst_nircam_f277w\n",
      "F42 E42 ( 42): jwst_nircam_f300m\n",
      "F43 E43 ( 43): jwst_nircam_f335m\n",
      "F6 E6 (  6): jwst_nircam_f356w\n",
      "F7 E7 (  7): jwst_nircam_f410m\n",
      "F8 E8 (  8): jwst_nircam_f444w\n",
      "Set sys_err = 0.00 (positive=True)\n",
      "Template grid: /nvme/scratch/work/tharvey/EAZY/inputs/scripts/templates/LarsonTemplates/tweak_fsps_QSF_12_v3_newtemplates.param (this may take some time)\n"
     ]
    },
    {
     "name": "stderr",
     "output_type": "stream",
     "text": [
      "100%|██████████| 18/18 [00:12<00:00,  1.45it/s]\n"
     ]
    },
    {
     "name": "stdout",
     "output_type": "stream",
     "text": [
      "Template   0: fsps_QSF_12_v3_001.dat (NZ=1).\n",
      "Template   1: fsps_QSF_12_v3_002.dat (NZ=1).\n",
      "Template   2: fsps_QSF_12_v3_003.dat (NZ=1).\n",
      "Template   3: fsps_QSF_12_v3_004.dat (NZ=1).\n",
      "Template   4: fsps_QSF_12_v3_005.dat (NZ=1).\n",
      "Template   5: fsps_QSF_12_v3_006.dat (NZ=1).\n",
      "Template   6: fsps_QSF_12_v3_007.dat (NZ=1).\n",
      "Template   7: fsps_QSF_12_v3_008.dat (NZ=1).\n",
      "Template   8: fsps_QSF_12_v3_009.dat (NZ=1).\n",
      "Template   9: fsps_QSF_12_v3_010.dat (NZ=1).\n",
      "Template  10: fsps_QSF_12_v3_011.dat (NZ=1).\n",
      "Template  11: fsps_QSF_12_v3_012.dat (NZ=1).\n",
      "Template  12: binc100z001age6_cloudy.dat (NZ=1).\n",
      "Template  13: binc100z001age65_cloudy.dat (NZ=1).\n",
      "Template  14: binc100z001age7_cloudy.dat (NZ=1).\n",
      "Template  15: binc100z001age6.dat (NZ=1).\n",
      "Template  16: binc100z001age65.dat (NZ=1).\n",
      "Template  17: binc100z001age7.dat (NZ=1).\n",
      "Process templates: 12.815 s\n"
     ]
    },
    {
     "name": "stderr",
     "output_type": "stream",
     "text": [
      "304it [00:00, 25714.28it/s]"
     ]
    },
    {
     "name": "stdout",
     "output_type": "stream",
     "text": [
      "Saving tempfilt to /nvme/scratch/work/tharvey/EXPANSE/src/EXPANSE/eazy/tempfilt/\n"
     ]
    },
    {
     "name": "stderr",
     "output_type": "stream",
     "text": [
      "\n",
      "100%|██████████| 304/304 [00:00<00:00, 4307.69it/s]\n"
     ]
    },
    {
     "name": "stdout",
     "output_type": "stream",
     "text": [
      "Compute best fits\n",
      "fit_best: 0.0 s (n_proc=1,  NOBJ=1)\n",
      "Fit 0.5 s (n_proc=4, NOBJ=1)\n",
      "Setting meta, id_phot, 0\n",
      "Setting meta, z_best, 6.3836565\n",
      "Setting meta, chi2, 15.96436261394746\n",
      "Setting meta, z16, 6.2763104\n",
      "Setting meta, z50, 6.3793764\n",
      "Setting meta, z84, 6.47576\n",
      "Setting meta, flux_unit, uJy\n",
      "Setting meta, wave_unit, Angstrom\n",
      "Setting meta, templates_file, /nvme/scratch/work/tharvey/EAZY/inputs/scripts/templates/LarsonTemplates/tweak_fsps_QSF_12_v3_newtemplates.param\n",
      "Setting meta, z_min, 0.01\n",
      "Setting meta, z_max, 20.0\n",
      "Setting meta, z_step, 0.01\n",
      "Setting meta, region, MAG_APER_0.32 arcsec_fsps_larson_0.05__Asada24_cgm\n",
      " added to <HDF5 file \"JOF_psfmatched_4823.h5\" (mode r+)>, interactive_outputs/MAG_APER_0_32 arcsec_fsps_larson_0_05__Asada24_cgm/, eazy_fit\n",
      " added to <HDF5 file \"JOF_psfmatched_4823.h5\" (mode r+)>, interactive_outputs/MAG_APER_0_32 arcsec_fsps_larson_0_05__Asada24_cgm/, p_z\n",
      " added to <HDF5 file \"JOF_psfmatched_4823.h5\" (mode r+)>, interactive_outputs/MAG_APER_0_32 arcsec_fsps_larson_0_05__Asada24_cgm/, input_flux\n",
      " added to <HDF5 file \"JOF_psfmatched_4823.h5\" (mode r+)>, interactive_outputs/MAG_APER_0_32 arcsec_fsps_larson_0_05__Asada24_cgm/, input_flux_err\n",
      "Zeropoint: 23.9\n",
      "{'TEMPLATES_FILE': '/nvme/scratch/work/tharvey/EAZY/inputs/scripts/templates/LarsonTemplates/tweak_fsps_QSF_12_v3_newtemplates.param', 'FILTERS_RES': '/nvme/scratch/work/tharvey/EXPANSE/src/EXPANSE/eazy/jwst_nircam_FILTER.RES', 'MW_EBV': 0, 'CAT_HAS_EXTCORR': False, 'ADD_CGM': True, 'Z_STEP': 0.01, 'Z_MIN': 0.01, 'Z_MAX': 20.0, 'TEMP_ERR_FILE': '/nvme/scratch/work/tharvey/EXPANSE/src/EXPANSE/eazy/TEMPLATE_ERROR.eazy_v1.0', 'TEMP_ERR_A2': 0, 'SYS_ERR': 0, 'APPLY_PRIOR': 'n', 'PRIOR_ABZP': 23.9, 'PRIOR_FILTER': 28, 'PRIOR_FILE': '', 'FIX_ZSPEC': False, 'IGM_SCALE_TAU': 1.0, 'N_MIN_COLORS': 2, 'CATALOG_FILE': '/tmp/tmpkrbjwqzc/eazy_input.fits'}\n",
      "Read default param file: /nvme/scratch/software/anaconda3/envs/tharvey_galfind/lib/python3.10/site-packages/eazy/data/zphot.param.default\n",
      "Read CATALOG_FILE: /tmp/tmpkrbjwqzc/eazy_input.fits\n",
      "   >>> NOBJ = 1\n",
      "F22 E22 ( 22): hst/ACS_update_sep07/wfc_f435w_t81.dat\n",
      "F23 E23 ( 23): hst/ACS_update_sep07/wfc_f606w_t81.dat\n",
      "F49 E49 ( 49): hst/ACS_update_sep07/wfc_f775w_t81.dat\n",
      "F24 E24 ( 24): hst/ACS_update_sep07/wfc_f814w_t81.dat\n",
      "F50 E50 ( 50): hst/ACS_update_sep07/wfc_f850lp_t81.dat\n",
      "F1 E1 (  1): jwst_nircam_f090w\n",
      "F2 E2 (  2): jwst_nircam_f115w\n",
      "F3 E3 (  3): jwst_nircam_f150w\n",
      "F38 E38 ( 38): jwst_nircam_f162m\n",
      "F39 E39 ( 39): jwst_nircam_f182m\n",
      "F4 E4 (  4): jwst_nircam_f200w\n",
      "F40 E40 ( 40): jwst_nircam_f210m\n",
      "F41 E41 ( 41): jwst_nircam_f250m\n",
      "F5 E5 (  5): jwst_nircam_f277w\n",
      "F42 E42 ( 42): jwst_nircam_f300m\n",
      "F43 E43 ( 43): jwst_nircam_f335m\n",
      "F6 E6 (  6): jwst_nircam_f356w\n",
      "F7 E7 (  7): jwst_nircam_f410m\n",
      "F8 E8 (  8): jwst_nircam_f444w\n",
      "Set sys_err = 0.00 (positive=True)\n",
      "Template grid: /nvme/scratch/work/tharvey/EAZY/inputs/scripts/templates/LarsonTemplates/tweak_fsps_QSF_12_v3_newtemplates.param (this may take some time)\n"
     ]
    },
    {
     "name": "stderr",
     "output_type": "stream",
     "text": [
      "100%|██████████| 18/18 [00:12<00:00,  1.44it/s]\n"
     ]
    },
    {
     "name": "stdout",
     "output_type": "stream",
     "text": [
      "Template   0: fsps_QSF_12_v3_001.dat (NZ=1).\n",
      "Template   1: fsps_QSF_12_v3_002.dat (NZ=1).\n",
      "Template   2: fsps_QSF_12_v3_003.dat (NZ=1).\n",
      "Template   3: fsps_QSF_12_v3_004.dat (NZ=1).\n",
      "Template   4: fsps_QSF_12_v3_005.dat (NZ=1).\n",
      "Template   5: fsps_QSF_12_v3_006.dat (NZ=1).\n",
      "Template   6: fsps_QSF_12_v3_007.dat (NZ=1).\n",
      "Template   7: fsps_QSF_12_v3_008.dat (NZ=1).\n",
      "Template   8: fsps_QSF_12_v3_009.dat (NZ=1).\n",
      "Template   9: fsps_QSF_12_v3_010.dat (NZ=1).\n",
      "Template  10: fsps_QSF_12_v3_011.dat (NZ=1).\n",
      "Template  11: fsps_QSF_12_v3_012.dat (NZ=1).\n",
      "Template  12: binc100z001age6_cloudy.dat (NZ=1).\n",
      "Template  13: binc100z001age65_cloudy.dat (NZ=1).\n",
      "Template  14: binc100z001age7_cloudy.dat (NZ=1).\n",
      "Template  15: binc100z001age6.dat (NZ=1).\n",
      "Template  16: binc100z001age65.dat (NZ=1).\n",
      "Template  17: binc100z001age7.dat (NZ=1).\n",
      "Process templates: 13.014 s\n"
     ]
    },
    {
     "name": "stderr",
     "output_type": "stream",
     "text": [
      "304it [00:00, 27385.49it/s]"
     ]
    },
    {
     "name": "stdout",
     "output_type": "stream",
     "text": [
      "Saving tempfilt to /nvme/scratch/work/tharvey/EXPANSE/src/EXPANSE/eazy/tempfilt/\n"
     ]
    },
    {
     "name": "stderr",
     "output_type": "stream",
     "text": [
      "\n",
      "100%|██████████| 304/304 [00:00<00:00, 5789.98it/s]\n"
     ]
    },
    {
     "name": "stdout",
     "output_type": "stream",
     "text": [
      "Compute best fits\n",
      "fit_best: 0.0 s (n_proc=1,  NOBJ=1)\n",
      "Fit 0.4 s (n_proc=4, NOBJ=1)\n",
      "Setting meta, id_phot, 0\n",
      "Setting meta, z_best, 6.6041903\n",
      "Setting meta, chi2, 5.906796621543119\n",
      "Setting meta, z16, 6.571615\n",
      "Setting meta, z50, 6.6052155\n",
      "Setting meta, z84, 6.6357274\n",
      "Setting meta, flux_unit, uJy\n",
      "Setting meta, wave_unit, Angstrom\n",
      "Setting meta, templates_file, /nvme/scratch/work/tharvey/EAZY/inputs/scripts/templates/LarsonTemplates/tweak_fsps_QSF_12_v3_newtemplates.param\n",
      "Setting meta, z_min, 0.01\n",
      "Setting meta, z_max, 20.0\n",
      "Setting meta, z_step, 0.01\n",
      "Setting meta, region, MAG_APER_0.32 arcsec_fsps_larson_0.05__Asada24_cgm\n",
      " added to <HDF5 file \"JOF_psfmatched_4834.h5\" (mode r+)>, interactive_outputs/MAG_APER_0_32 arcsec_fsps_larson_0_05__Asada24_cgm/, eazy_fit\n",
      " added to <HDF5 file \"JOF_psfmatched_4834.h5\" (mode r+)>, interactive_outputs/MAG_APER_0_32 arcsec_fsps_larson_0_05__Asada24_cgm/, p_z\n",
      " added to <HDF5 file \"JOF_psfmatched_4834.h5\" (mode r+)>, interactive_outputs/MAG_APER_0_32 arcsec_fsps_larson_0_05__Asada24_cgm/, input_flux\n",
      " added to <HDF5 file \"JOF_psfmatched_4834.h5\" (mode r+)>, interactive_outputs/MAG_APER_0_32 arcsec_fsps_larson_0_05__Asada24_cgm/, input_flux_err\n",
      "Zeropoint: 23.9\n",
      "{'TEMPLATES_FILE': '/nvme/scratch/work/tharvey/EAZY/inputs/scripts/templates/LarsonTemplates/tweak_fsps_QSF_12_v3_newtemplates.param', 'FILTERS_RES': '/nvme/scratch/work/tharvey/EXPANSE/src/EXPANSE/eazy/jwst_nircam_FILTER.RES', 'MW_EBV': 0, 'CAT_HAS_EXTCORR': False, 'ADD_CGM': True, 'Z_STEP': 0.01, 'Z_MIN': 0.01, 'Z_MAX': 20.0, 'TEMP_ERR_FILE': '/nvme/scratch/work/tharvey/EXPANSE/src/EXPANSE/eazy/TEMPLATE_ERROR.eazy_v1.0', 'TEMP_ERR_A2': 0, 'SYS_ERR': 0, 'APPLY_PRIOR': 'n', 'PRIOR_ABZP': 23.9, 'PRIOR_FILTER': 28, 'PRIOR_FILE': '', 'FIX_ZSPEC': False, 'IGM_SCALE_TAU': 1.0, 'N_MIN_COLORS': 2, 'CATALOG_FILE': '/tmp/tmpbojoqys2/eazy_input.fits'}\n",
      "Read default param file: /nvme/scratch/software/anaconda3/envs/tharvey_galfind/lib/python3.10/site-packages/eazy/data/zphot.param.default\n",
      "Read CATALOG_FILE: /tmp/tmpbojoqys2/eazy_input.fits\n",
      "   >>> NOBJ = 1\n",
      "F22 E22 ( 22): hst/ACS_update_sep07/wfc_f435w_t81.dat\n",
      "F23 E23 ( 23): hst/ACS_update_sep07/wfc_f606w_t81.dat\n",
      "F49 E49 ( 49): hst/ACS_update_sep07/wfc_f775w_t81.dat\n",
      "F24 E24 ( 24): hst/ACS_update_sep07/wfc_f814w_t81.dat\n",
      "F50 E50 ( 50): hst/ACS_update_sep07/wfc_f850lp_t81.dat\n",
      "F1 E1 (  1): jwst_nircam_f090w\n",
      "F2 E2 (  2): jwst_nircam_f115w\n",
      "F3 E3 (  3): jwst_nircam_f150w\n",
      "F38 E38 ( 38): jwst_nircam_f162m\n",
      "F39 E39 ( 39): jwst_nircam_f182m\n",
      "F4 E4 (  4): jwst_nircam_f200w\n",
      "F40 E40 ( 40): jwst_nircam_f210m\n",
      "F41 E41 ( 41): jwst_nircam_f250m\n",
      "F5 E5 (  5): jwst_nircam_f277w\n",
      "F42 E42 ( 42): jwst_nircam_f300m\n",
      "F43 E43 ( 43): jwst_nircam_f335m\n",
      "F6 E6 (  6): jwst_nircam_f356w\n",
      "F7 E7 (  7): jwst_nircam_f410m\n",
      "F8 E8 (  8): jwst_nircam_f444w\n",
      "Set sys_err = 0.00 (positive=True)\n",
      "Template grid: /nvme/scratch/work/tharvey/EAZY/inputs/scripts/templates/LarsonTemplates/tweak_fsps_QSF_12_v3_newtemplates.param (this may take some time)\n"
     ]
    },
    {
     "name": "stderr",
     "output_type": "stream",
     "text": [
      "100%|██████████| 18/18 [00:11<00:00,  1.53it/s]\n"
     ]
    },
    {
     "name": "stdout",
     "output_type": "stream",
     "text": [
      "Template   0: fsps_QSF_12_v3_001.dat (NZ=1).\n",
      "Template   1: fsps_QSF_12_v3_002.dat (NZ=1).\n",
      "Template   2: fsps_QSF_12_v3_003.dat (NZ=1).\n",
      "Template   3: fsps_QSF_12_v3_004.dat (NZ=1).\n",
      "Template   4: fsps_QSF_12_v3_005.dat (NZ=1).\n",
      "Template   5: fsps_QSF_12_v3_006.dat (NZ=1).\n",
      "Template   6: fsps_QSF_12_v3_007.dat (NZ=1).\n",
      "Template   7: fsps_QSF_12_v3_008.dat (NZ=1).\n",
      "Template   8: fsps_QSF_12_v3_009.dat (NZ=1).\n",
      "Template   9: fsps_QSF_12_v3_010.dat (NZ=1).\n",
      "Template  10: fsps_QSF_12_v3_011.dat (NZ=1).\n",
      "Template  11: fsps_QSF_12_v3_012.dat (NZ=1).\n",
      "Template  12: binc100z001age6_cloudy.dat (NZ=1).\n",
      "Template  13: binc100z001age65_cloudy.dat (NZ=1).\n",
      "Template  14: binc100z001age7_cloudy.dat (NZ=1).\n",
      "Template  15: binc100z001age6.dat (NZ=1).\n",
      "Template  16: binc100z001age65.dat (NZ=1).\n",
      "Template  17: binc100z001age7.dat (NZ=1).\n",
      "Process templates: 12.252 s\n"
     ]
    },
    {
     "name": "stderr",
     "output_type": "stream",
     "text": [
      "304it [00:00, 11681.37it/s]\n"
     ]
    },
    {
     "name": "stdout",
     "output_type": "stream",
     "text": [
      "Saving tempfilt to /nvme/scratch/work/tharvey/EXPANSE/src/EXPANSE/eazy/tempfilt/\n"
     ]
    },
    {
     "name": "stderr",
     "output_type": "stream",
     "text": [
      "100%|██████████| 304/304 [00:00<00:00, 5809.95it/s]\n"
     ]
    },
    {
     "name": "stdout",
     "output_type": "stream",
     "text": [
      "Compute best fits\n",
      "fit_best: 0.0 s (n_proc=1,  NOBJ=1)\n",
      "Fit 0.4 s (n_proc=4, NOBJ=1)\n",
      "Setting meta, id_phot, 0\n",
      "Setting meta, z_best, 5.994305\n",
      "Setting meta, chi2, 41.22103053828142\n",
      "Setting meta, z16, 5.841847\n",
      "Setting meta, z50, 5.99558\n",
      "Setting meta, z84, 6.148807\n",
      "Setting meta, flux_unit, uJy\n",
      "Setting meta, wave_unit, Angstrom\n",
      "Setting meta, templates_file, /nvme/scratch/work/tharvey/EAZY/inputs/scripts/templates/LarsonTemplates/tweak_fsps_QSF_12_v3_newtemplates.param\n",
      "Setting meta, z_min, 0.01\n",
      "Setting meta, z_max, 20.0\n",
      "Setting meta, z_step, 0.01\n",
      "Setting meta, region, MAG_APER_0.32 arcsec_fsps_larson_0.05__Asada24_cgm\n",
      " added to <HDF5 file \"JOF_psfmatched_4990.h5\" (mode r+)>, interactive_outputs/MAG_APER_0_32 arcsec_fsps_larson_0_05__Asada24_cgm/, eazy_fit\n",
      " added to <HDF5 file \"JOF_psfmatched_4990.h5\" (mode r+)>, interactive_outputs/MAG_APER_0_32 arcsec_fsps_larson_0_05__Asada24_cgm/, p_z\n",
      " added to <HDF5 file \"JOF_psfmatched_4990.h5\" (mode r+)>, interactive_outputs/MAG_APER_0_32 arcsec_fsps_larson_0_05__Asada24_cgm/, input_flux\n",
      " added to <HDF5 file \"JOF_psfmatched_4990.h5\" (mode r+)>, interactive_outputs/MAG_APER_0_32 arcsec_fsps_larson_0_05__Asada24_cgm/, input_flux_err\n",
      "Zeropoint: 23.9\n",
      "{'TEMPLATES_FILE': '/nvme/scratch/work/tharvey/EAZY/inputs/scripts/templates/LarsonTemplates/tweak_fsps_QSF_12_v3_newtemplates.param', 'FILTERS_RES': '/nvme/scratch/work/tharvey/EXPANSE/src/EXPANSE/eazy/jwst_nircam_FILTER.RES', 'MW_EBV': 0, 'CAT_HAS_EXTCORR': False, 'ADD_CGM': True, 'Z_STEP': 0.01, 'Z_MIN': 0.01, 'Z_MAX': 20.0, 'TEMP_ERR_FILE': '/nvme/scratch/work/tharvey/EXPANSE/src/EXPANSE/eazy/TEMPLATE_ERROR.eazy_v1.0', 'TEMP_ERR_A2': 0, 'SYS_ERR': 0, 'APPLY_PRIOR': 'n', 'PRIOR_ABZP': 23.9, 'PRIOR_FILTER': 28, 'PRIOR_FILE': '', 'FIX_ZSPEC': False, 'IGM_SCALE_TAU': 1.0, 'N_MIN_COLORS': 2, 'CATALOG_FILE': '/tmp/tmpwkhhrafq/eazy_input.fits'}\n",
      "Read default param file: /nvme/scratch/software/anaconda3/envs/tharvey_galfind/lib/python3.10/site-packages/eazy/data/zphot.param.default\n",
      "Read CATALOG_FILE: /tmp/tmpwkhhrafq/eazy_input.fits\n",
      "   >>> NOBJ = 1\n",
      "F22 E22 ( 22): hst/ACS_update_sep07/wfc_f435w_t81.dat\n",
      "F23 E23 ( 23): hst/ACS_update_sep07/wfc_f606w_t81.dat\n",
      "F49 E49 ( 49): hst/ACS_update_sep07/wfc_f775w_t81.dat\n",
      "F24 E24 ( 24): hst/ACS_update_sep07/wfc_f814w_t81.dat\n",
      "F50 E50 ( 50): hst/ACS_update_sep07/wfc_f850lp_t81.dat\n",
      "F1 E1 (  1): jwst_nircam_f090w\n",
      "F2 E2 (  2): jwst_nircam_f115w\n",
      "F3 E3 (  3): jwst_nircam_f150w\n",
      "F38 E38 ( 38): jwst_nircam_f162m\n",
      "F39 E39 ( 39): jwst_nircam_f182m\n",
      "F4 E4 (  4): jwst_nircam_f200w\n",
      "F40 E40 ( 40): jwst_nircam_f210m\n",
      "F41 E41 ( 41): jwst_nircam_f250m\n",
      "F5 E5 (  5): jwst_nircam_f277w\n",
      "F42 E42 ( 42): jwst_nircam_f300m\n",
      "F43 E43 ( 43): jwst_nircam_f335m\n",
      "F6 E6 (  6): jwst_nircam_f356w\n",
      "F7 E7 (  7): jwst_nircam_f410m\n",
      "F8 E8 (  8): jwst_nircam_f444w\n",
      "Set sys_err = 0.00 (positive=True)\n",
      "Template grid: /nvme/scratch/work/tharvey/EAZY/inputs/scripts/templates/LarsonTemplates/tweak_fsps_QSF_12_v3_newtemplates.param (this may take some time)\n"
     ]
    },
    {
     "name": "stderr",
     "output_type": "stream",
     "text": [
      "100%|██████████| 18/18 [00:11<00:00,  1.53it/s]\n"
     ]
    },
    {
     "name": "stdout",
     "output_type": "stream",
     "text": [
      "Template   0: fsps_QSF_12_v3_001.dat (NZ=1).\n",
      "Template   1: fsps_QSF_12_v3_002.dat (NZ=1).\n",
      "Template   2: fsps_QSF_12_v3_003.dat (NZ=1).\n",
      "Template   3: fsps_QSF_12_v3_004.dat (NZ=1).\n",
      "Template   4: fsps_QSF_12_v3_005.dat (NZ=1).\n",
      "Template   5: fsps_QSF_12_v3_006.dat (NZ=1).\n",
      "Template   6: fsps_QSF_12_v3_007.dat (NZ=1).\n",
      "Template   7: fsps_QSF_12_v3_008.dat (NZ=1).\n",
      "Template   8: fsps_QSF_12_v3_009.dat (NZ=1).\n",
      "Template   9: fsps_QSF_12_v3_010.dat (NZ=1).\n",
      "Template  10: fsps_QSF_12_v3_011.dat (NZ=1).\n",
      "Template  11: fsps_QSF_12_v3_012.dat (NZ=1).\n",
      "Template  12: binc100z001age6_cloudy.dat (NZ=1).\n",
      "Template  13: binc100z001age65_cloudy.dat (NZ=1).\n",
      "Template  14: binc100z001age7_cloudy.dat (NZ=1).\n",
      "Template  15: binc100z001age6.dat (NZ=1).\n",
      "Template  16: binc100z001age65.dat (NZ=1).\n",
      "Template  17: binc100z001age7.dat (NZ=1).\n",
      "Process templates: 12.201 s\n"
     ]
    },
    {
     "name": "stderr",
     "output_type": "stream",
     "text": [
      "304it [00:00, 19033.14it/s]"
     ]
    },
    {
     "name": "stdout",
     "output_type": "stream",
     "text": [
      "Saving tempfilt to /nvme/scratch/work/tharvey/EXPANSE/src/EXPANSE/eazy/tempfilt/\n"
     ]
    },
    {
     "name": "stderr",
     "output_type": "stream",
     "text": [
      "\n",
      "100%|██████████| 304/304 [00:00<00:00, 6844.09it/s]\n"
     ]
    },
    {
     "name": "stdout",
     "output_type": "stream",
     "text": [
      "Compute best fits\n",
      "fit_best: 0.0 s (n_proc=1,  NOBJ=1)\n",
      "Fit 0.4 s (n_proc=4, NOBJ=1)\n",
      "Setting meta, id_phot, 0\n",
      "Setting meta, z_best, 5.8926053\n",
      "Setting meta, chi2, 26.011364066300807\n",
      "Setting meta, z16, 5.770984\n",
      "Setting meta, z50, 5.886127\n",
      "Setting meta, z84, 5.992579\n",
      "Setting meta, flux_unit, uJy\n",
      "Setting meta, wave_unit, Angstrom\n",
      "Setting meta, templates_file, /nvme/scratch/work/tharvey/EAZY/inputs/scripts/templates/LarsonTemplates/tweak_fsps_QSF_12_v3_newtemplates.param\n",
      "Setting meta, z_min, 0.01\n",
      "Setting meta, z_max, 20.0\n",
      "Setting meta, z_step, 0.01\n",
      "Setting meta, region, MAG_APER_0.32 arcsec_fsps_larson_0.05__Asada24_cgm\n",
      " added to <HDF5 file \"JOF_psfmatched_5001.h5\" (mode r+)>, interactive_outputs/MAG_APER_0_32 arcsec_fsps_larson_0_05__Asada24_cgm/, eazy_fit\n",
      " added to <HDF5 file \"JOF_psfmatched_5001.h5\" (mode r+)>, interactive_outputs/MAG_APER_0_32 arcsec_fsps_larson_0_05__Asada24_cgm/, p_z\n",
      " added to <HDF5 file \"JOF_psfmatched_5001.h5\" (mode r+)>, interactive_outputs/MAG_APER_0_32 arcsec_fsps_larson_0_05__Asada24_cgm/, input_flux\n",
      " added to <HDF5 file \"JOF_psfmatched_5001.h5\" (mode r+)>, interactive_outputs/MAG_APER_0_32 arcsec_fsps_larson_0_05__Asada24_cgm/, input_flux_err\n",
      "Zeropoint: 23.9\n",
      "{'TEMPLATES_FILE': '/nvme/scratch/work/tharvey/EAZY/inputs/scripts/templates/LarsonTemplates/tweak_fsps_QSF_12_v3_newtemplates.param', 'FILTERS_RES': '/nvme/scratch/work/tharvey/EXPANSE/src/EXPANSE/eazy/jwst_nircam_FILTER.RES', 'MW_EBV': 0, 'CAT_HAS_EXTCORR': False, 'ADD_CGM': True, 'Z_STEP': 0.01, 'Z_MIN': 0.01, 'Z_MAX': 20.0, 'TEMP_ERR_FILE': '/nvme/scratch/work/tharvey/EXPANSE/src/EXPANSE/eazy/TEMPLATE_ERROR.eazy_v1.0', 'TEMP_ERR_A2': 0, 'SYS_ERR': 0, 'APPLY_PRIOR': 'n', 'PRIOR_ABZP': 23.9, 'PRIOR_FILTER': 28, 'PRIOR_FILE': '', 'FIX_ZSPEC': False, 'IGM_SCALE_TAU': 1.0, 'N_MIN_COLORS': 2, 'CATALOG_FILE': '/tmp/tmpo2goyoe7/eazy_input.fits'}\n",
      "Read default param file: /nvme/scratch/software/anaconda3/envs/tharvey_galfind/lib/python3.10/site-packages/eazy/data/zphot.param.default\n",
      "Read CATALOG_FILE: /tmp/tmpo2goyoe7/eazy_input.fits\n",
      "   >>> NOBJ = 1\n",
      "F22 E22 ( 22): hst/ACS_update_sep07/wfc_f435w_t81.dat\n",
      "F23 E23 ( 23): hst/ACS_update_sep07/wfc_f606w_t81.dat\n",
      "F49 E49 ( 49): hst/ACS_update_sep07/wfc_f775w_t81.dat\n",
      "F24 E24 ( 24): hst/ACS_update_sep07/wfc_f814w_t81.dat\n",
      "F50 E50 ( 50): hst/ACS_update_sep07/wfc_f850lp_t81.dat\n",
      "F1 E1 (  1): jwst_nircam_f090w\n",
      "F2 E2 (  2): jwst_nircam_f115w\n",
      "F3 E3 (  3): jwst_nircam_f150w\n",
      "F38 E38 ( 38): jwst_nircam_f162m\n",
      "F39 E39 ( 39): jwst_nircam_f182m\n",
      "F4 E4 (  4): jwst_nircam_f200w\n",
      "F40 E40 ( 40): jwst_nircam_f210m\n",
      "F41 E41 ( 41): jwst_nircam_f250m\n",
      "F5 E5 (  5): jwst_nircam_f277w\n",
      "F42 E42 ( 42): jwst_nircam_f300m\n",
      "F43 E43 ( 43): jwst_nircam_f335m\n",
      "F6 E6 (  6): jwst_nircam_f356w\n",
      "F7 E7 (  7): jwst_nircam_f410m\n",
      "F8 E8 (  8): jwst_nircam_f444w\n",
      "Set sys_err = 0.00 (positive=True)\n",
      "Template grid: /nvme/scratch/work/tharvey/EAZY/inputs/scripts/templates/LarsonTemplates/tweak_fsps_QSF_12_v3_newtemplates.param (this may take some time)\n"
     ]
    },
    {
     "name": "stderr",
     "output_type": "stream",
     "text": [
      "100%|██████████| 18/18 [00:12<00:00,  1.48it/s]\n"
     ]
    },
    {
     "name": "stdout",
     "output_type": "stream",
     "text": [
      "Template   0: fsps_QSF_12_v3_001.dat (NZ=1).\n",
      "Template   1: fsps_QSF_12_v3_002.dat (NZ=1).\n",
      "Template   2: fsps_QSF_12_v3_003.dat (NZ=1).\n",
      "Template   3: fsps_QSF_12_v3_004.dat (NZ=1).\n",
      "Template   4: fsps_QSF_12_v3_005.dat (NZ=1).\n",
      "Template   5: fsps_QSF_12_v3_006.dat (NZ=1).\n",
      "Template   6: fsps_QSF_12_v3_007.dat (NZ=1).\n",
      "Template   7: fsps_QSF_12_v3_008.dat (NZ=1).\n",
      "Template   8: fsps_QSF_12_v3_009.dat (NZ=1).\n",
      "Template   9: fsps_QSF_12_v3_010.dat (NZ=1).\n",
      "Template  10: fsps_QSF_12_v3_011.dat (NZ=1).\n",
      "Template  11: fsps_QSF_12_v3_012.dat (NZ=1).\n",
      "Template  12: binc100z001age6_cloudy.dat (NZ=1).\n",
      "Template  13: binc100z001age65_cloudy.dat (NZ=1).\n",
      "Template  14: binc100z001age7_cloudy.dat (NZ=1).\n",
      "Template  15: binc100z001age6.dat (NZ=1).\n",
      "Template  16: binc100z001age65.dat (NZ=1).\n",
      "Template  17: binc100z001age7.dat (NZ=1).\n",
      "Process templates: 12.611 s\n"
     ]
    },
    {
     "name": "stderr",
     "output_type": "stream",
     "text": [
      "304it [00:00, 17381.92it/s]"
     ]
    },
    {
     "name": "stdout",
     "output_type": "stream",
     "text": [
      "Saving tempfilt to /nvme/scratch/work/tharvey/EXPANSE/src/EXPANSE/eazy/tempfilt/\n"
     ]
    },
    {
     "name": "stderr",
     "output_type": "stream",
     "text": [
      "\n",
      "100%|██████████| 304/304 [00:00<00:00, 5646.89it/s]\n"
     ]
    },
    {
     "name": "stdout",
     "output_type": "stream",
     "text": [
      "Compute best fits\n",
      "fit_best: 0.0 s (n_proc=1,  NOBJ=1)\n",
      "Fit 0.4 s (n_proc=4, NOBJ=1)\n",
      "Setting meta, id_phot, 0\n",
      "Setting meta, z_best, 6.4842067\n",
      "Setting meta, chi2, 22.813086052961182\n",
      "Setting meta, z16, 6.321833\n",
      "Setting meta, z50, 6.4870033\n",
      "Setting meta, z84, 6.6554966\n",
      "Setting meta, flux_unit, uJy\n",
      "Setting meta, wave_unit, Angstrom\n",
      "Setting meta, templates_file, /nvme/scratch/work/tharvey/EAZY/inputs/scripts/templates/LarsonTemplates/tweak_fsps_QSF_12_v3_newtemplates.param\n",
      "Setting meta, z_min, 0.01\n",
      "Setting meta, z_max, 20.0\n",
      "Setting meta, z_step, 0.01\n",
      "Setting meta, region, MAG_APER_0.32 arcsec_fsps_larson_0.05__Asada24_cgm\n",
      " added to <HDF5 file \"JOF_psfmatched_5114.h5\" (mode r+)>, interactive_outputs/MAG_APER_0_32 arcsec_fsps_larson_0_05__Asada24_cgm/, eazy_fit\n",
      " added to <HDF5 file \"JOF_psfmatched_5114.h5\" (mode r+)>, interactive_outputs/MAG_APER_0_32 arcsec_fsps_larson_0_05__Asada24_cgm/, p_z\n",
      " added to <HDF5 file \"JOF_psfmatched_5114.h5\" (mode r+)>, interactive_outputs/MAG_APER_0_32 arcsec_fsps_larson_0_05__Asada24_cgm/, input_flux\n",
      " added to <HDF5 file \"JOF_psfmatched_5114.h5\" (mode r+)>, interactive_outputs/MAG_APER_0_32 arcsec_fsps_larson_0_05__Asada24_cgm/, input_flux_err\n",
      "Zeropoint: 23.9\n",
      "{'TEMPLATES_FILE': '/nvme/scratch/work/tharvey/EAZY/inputs/scripts/templates/LarsonTemplates/tweak_fsps_QSF_12_v3_newtemplates.param', 'FILTERS_RES': '/nvme/scratch/work/tharvey/EXPANSE/src/EXPANSE/eazy/jwst_nircam_FILTER.RES', 'MW_EBV': 0, 'CAT_HAS_EXTCORR': False, 'ADD_CGM': True, 'Z_STEP': 0.01, 'Z_MIN': 0.01, 'Z_MAX': 20.0, 'TEMP_ERR_FILE': '/nvme/scratch/work/tharvey/EXPANSE/src/EXPANSE/eazy/TEMPLATE_ERROR.eazy_v1.0', 'TEMP_ERR_A2': 0, 'SYS_ERR': 0, 'APPLY_PRIOR': 'n', 'PRIOR_ABZP': 23.9, 'PRIOR_FILTER': 28, 'PRIOR_FILE': '', 'FIX_ZSPEC': False, 'IGM_SCALE_TAU': 1.0, 'N_MIN_COLORS': 2, 'CATALOG_FILE': '/tmp/tmpbgwpiwmd/eazy_input.fits'}\n",
      "Read default param file: /nvme/scratch/software/anaconda3/envs/tharvey_galfind/lib/python3.10/site-packages/eazy/data/zphot.param.default\n",
      "Read CATALOG_FILE: /tmp/tmpbgwpiwmd/eazy_input.fits\n",
      "   >>> NOBJ = 1\n",
      "F22 E22 ( 22): hst/ACS_update_sep07/wfc_f435w_t81.dat\n",
      "F23 E23 ( 23): hst/ACS_update_sep07/wfc_f606w_t81.dat\n",
      "F49 E49 ( 49): hst/ACS_update_sep07/wfc_f775w_t81.dat\n",
      "F24 E24 ( 24): hst/ACS_update_sep07/wfc_f814w_t81.dat\n",
      "F50 E50 ( 50): hst/ACS_update_sep07/wfc_f850lp_t81.dat\n",
      "F1 E1 (  1): jwst_nircam_f090w\n",
      "F2 E2 (  2): jwst_nircam_f115w\n",
      "F3 E3 (  3): jwst_nircam_f150w\n",
      "F38 E38 ( 38): jwst_nircam_f162m\n",
      "F39 E39 ( 39): jwst_nircam_f182m\n",
      "F4 E4 (  4): jwst_nircam_f200w\n",
      "F40 E40 ( 40): jwst_nircam_f210m\n",
      "F41 E41 ( 41): jwst_nircam_f250m\n",
      "F5 E5 (  5): jwst_nircam_f277w\n",
      "F42 E42 ( 42): jwst_nircam_f300m\n",
      "F43 E43 ( 43): jwst_nircam_f335m\n",
      "F6 E6 (  6): jwst_nircam_f356w\n",
      "F7 E7 (  7): jwst_nircam_f410m\n",
      "F8 E8 (  8): jwst_nircam_f444w\n",
      "Set sys_err = 0.00 (positive=True)\n",
      "Template grid: /nvme/scratch/work/tharvey/EAZY/inputs/scripts/templates/LarsonTemplates/tweak_fsps_QSF_12_v3_newtemplates.param (this may take some time)\n"
     ]
    },
    {
     "name": "stderr",
     "output_type": "stream",
     "text": [
      "100%|██████████| 18/18 [00:11<00:00,  1.52it/s]\n"
     ]
    },
    {
     "name": "stdout",
     "output_type": "stream",
     "text": [
      "Template   0: fsps_QSF_12_v3_001.dat (NZ=1).\n",
      "Template   1: fsps_QSF_12_v3_002.dat (NZ=1).\n",
      "Template   2: fsps_QSF_12_v3_003.dat (NZ=1).\n",
      "Template   3: fsps_QSF_12_v3_004.dat (NZ=1).\n",
      "Template   4: fsps_QSF_12_v3_005.dat (NZ=1).\n",
      "Template   5: fsps_QSF_12_v3_006.dat (NZ=1).\n",
      "Template   6: fsps_QSF_12_v3_007.dat (NZ=1).\n",
      "Template   7: fsps_QSF_12_v3_008.dat (NZ=1).\n",
      "Template   8: fsps_QSF_12_v3_009.dat (NZ=1).\n",
      "Template   9: fsps_QSF_12_v3_010.dat (NZ=1).\n",
      "Template  10: fsps_QSF_12_v3_011.dat (NZ=1).\n",
      "Template  11: fsps_QSF_12_v3_012.dat (NZ=1).\n",
      "Template  12: binc100z001age6_cloudy.dat (NZ=1).\n",
      "Template  13: binc100z001age65_cloudy.dat (NZ=1).\n",
      "Template  14: binc100z001age7_cloudy.dat (NZ=1).\n",
      "Template  15: binc100z001age6.dat (NZ=1).\n",
      "Template  16: binc100z001age65.dat (NZ=1).\n",
      "Template  17: binc100z001age7.dat (NZ=1).\n",
      "Process templates: 12.282 s\n"
     ]
    },
    {
     "name": "stderr",
     "output_type": "stream",
     "text": [
      "304it [00:00, 14172.62it/s]"
     ]
    },
    {
     "name": "stdout",
     "output_type": "stream",
     "text": [
      "Saving tempfilt to /nvme/scratch/work/tharvey/EXPANSE/src/EXPANSE/eazy/tempfilt/\n"
     ]
    },
    {
     "name": "stderr",
     "output_type": "stream",
     "text": [
      "\n",
      "100%|██████████| 304/304 [00:00<00:00, 5330.22it/s]\n"
     ]
    },
    {
     "name": "stdout",
     "output_type": "stream",
     "text": [
      "Compute best fits\n",
      "fit_best: 0.0 s (n_proc=1,  NOBJ=1)\n",
      "Fit 0.5 s (n_proc=4, NOBJ=1)\n",
      "Setting meta, id_phot, 0\n",
      "Setting meta, z_best, 6.5814123\n",
      "Setting meta, chi2, 37.664234118604575\n",
      "Setting meta, z16, 6.378895\n",
      "Setting meta, z50, 6.496172\n",
      "Setting meta, z84, 6.5981603\n",
      "Setting meta, flux_unit, uJy\n",
      "Setting meta, wave_unit, Angstrom\n",
      "Setting meta, templates_file, /nvme/scratch/work/tharvey/EAZY/inputs/scripts/templates/LarsonTemplates/tweak_fsps_QSF_12_v3_newtemplates.param\n",
      "Setting meta, z_min, 0.01\n",
      "Setting meta, z_max, 20.0\n",
      "Setting meta, z_step, 0.01\n",
      "Setting meta, region, MAG_APER_0.32 arcsec_fsps_larson_0.05__Asada24_cgm\n",
      " added to <HDF5 file \"JOF_psfmatched_5127.h5\" (mode r+)>, interactive_outputs/MAG_APER_0_32 arcsec_fsps_larson_0_05__Asada24_cgm/, eazy_fit\n",
      " added to <HDF5 file \"JOF_psfmatched_5127.h5\" (mode r+)>, interactive_outputs/MAG_APER_0_32 arcsec_fsps_larson_0_05__Asada24_cgm/, p_z\n",
      " added to <HDF5 file \"JOF_psfmatched_5127.h5\" (mode r+)>, interactive_outputs/MAG_APER_0_32 arcsec_fsps_larson_0_05__Asada24_cgm/, input_flux\n",
      " added to <HDF5 file \"JOF_psfmatched_5127.h5\" (mode r+)>, interactive_outputs/MAG_APER_0_32 arcsec_fsps_larson_0_05__Asada24_cgm/, input_flux_err\n",
      "Zeropoint: 23.9\n",
      "{'TEMPLATES_FILE': '/nvme/scratch/work/tharvey/EAZY/inputs/scripts/templates/LarsonTemplates/tweak_fsps_QSF_12_v3_newtemplates.param', 'FILTERS_RES': '/nvme/scratch/work/tharvey/EXPANSE/src/EXPANSE/eazy/jwst_nircam_FILTER.RES', 'MW_EBV': 0, 'CAT_HAS_EXTCORR': False, 'ADD_CGM': True, 'Z_STEP': 0.01, 'Z_MIN': 0.01, 'Z_MAX': 20.0, 'TEMP_ERR_FILE': '/nvme/scratch/work/tharvey/EXPANSE/src/EXPANSE/eazy/TEMPLATE_ERROR.eazy_v1.0', 'TEMP_ERR_A2': 0, 'SYS_ERR': 0, 'APPLY_PRIOR': 'n', 'PRIOR_ABZP': 23.9, 'PRIOR_FILTER': 28, 'PRIOR_FILE': '', 'FIX_ZSPEC': False, 'IGM_SCALE_TAU': 1.0, 'N_MIN_COLORS': 2, 'CATALOG_FILE': '/tmp/tmpmgifblox/eazy_input.fits'}\n",
      "Read default param file: /nvme/scratch/software/anaconda3/envs/tharvey_galfind/lib/python3.10/site-packages/eazy/data/zphot.param.default\n",
      "Read CATALOG_FILE: /tmp/tmpmgifblox/eazy_input.fits\n",
      "   >>> NOBJ = 1\n",
      "F22 E22 ( 22): hst/ACS_update_sep07/wfc_f435w_t81.dat\n",
      "F23 E23 ( 23): hst/ACS_update_sep07/wfc_f606w_t81.dat\n",
      "F49 E49 ( 49): hst/ACS_update_sep07/wfc_f775w_t81.dat\n",
      "F24 E24 ( 24): hst/ACS_update_sep07/wfc_f814w_t81.dat\n",
      "F50 E50 ( 50): hst/ACS_update_sep07/wfc_f850lp_t81.dat\n",
      "F1 E1 (  1): jwst_nircam_f090w\n",
      "F2 E2 (  2): jwst_nircam_f115w\n",
      "F3 E3 (  3): jwst_nircam_f150w\n",
      "F38 E38 ( 38): jwst_nircam_f162m\n",
      "F39 E39 ( 39): jwst_nircam_f182m\n",
      "F4 E4 (  4): jwst_nircam_f200w\n",
      "F40 E40 ( 40): jwst_nircam_f210m\n",
      "F41 E41 ( 41): jwst_nircam_f250m\n",
      "F5 E5 (  5): jwst_nircam_f277w\n",
      "F42 E42 ( 42): jwst_nircam_f300m\n",
      "F43 E43 ( 43): jwst_nircam_f335m\n",
      "F6 E6 (  6): jwst_nircam_f356w\n",
      "F7 E7 (  7): jwst_nircam_f410m\n",
      "F8 E8 (  8): jwst_nircam_f444w\n",
      "Set sys_err = 0.00 (positive=True)\n",
      "Template grid: /nvme/scratch/work/tharvey/EAZY/inputs/scripts/templates/LarsonTemplates/tweak_fsps_QSF_12_v3_newtemplates.param (this may take some time)\n"
     ]
    },
    {
     "name": "stderr",
     "output_type": "stream",
     "text": [
      "100%|██████████| 18/18 [00:11<00:00,  1.50it/s]\n"
     ]
    },
    {
     "name": "stdout",
     "output_type": "stream",
     "text": [
      "Template   0: fsps_QSF_12_v3_001.dat (NZ=1).\n",
      "Template   1: fsps_QSF_12_v3_002.dat (NZ=1).\n",
      "Template   2: fsps_QSF_12_v3_003.dat (NZ=1).\n",
      "Template   3: fsps_QSF_12_v3_004.dat (NZ=1).\n",
      "Template   4: fsps_QSF_12_v3_005.dat (NZ=1).\n",
      "Template   5: fsps_QSF_12_v3_006.dat (NZ=1).\n",
      "Template   6: fsps_QSF_12_v3_007.dat (NZ=1).\n",
      "Template   7: fsps_QSF_12_v3_008.dat (NZ=1).\n",
      "Template   8: fsps_QSF_12_v3_009.dat (NZ=1).\n",
      "Template   9: fsps_QSF_12_v3_010.dat (NZ=1).\n",
      "Template  10: fsps_QSF_12_v3_011.dat (NZ=1).\n",
      "Template  11: fsps_QSF_12_v3_012.dat (NZ=1).\n",
      "Template  12: binc100z001age6_cloudy.dat (NZ=1).\n",
      "Template  13: binc100z001age65_cloudy.dat (NZ=1).\n",
      "Template  14: binc100z001age7_cloudy.dat (NZ=1).\n",
      "Template  15: binc100z001age6.dat (NZ=1).\n",
      "Template  16: binc100z001age65.dat (NZ=1).\n",
      "Template  17: binc100z001age7.dat (NZ=1).\n",
      "Process templates: 12.427 s\n"
     ]
    },
    {
     "name": "stderr",
     "output_type": "stream",
     "text": [
      "304it [00:00, 15248.55it/s]"
     ]
    },
    {
     "name": "stdout",
     "output_type": "stream",
     "text": [
      "Saving tempfilt to /nvme/scratch/work/tharvey/EXPANSE/src/EXPANSE/eazy/tempfilt/\n"
     ]
    },
    {
     "name": "stderr",
     "output_type": "stream",
     "text": [
      "\n",
      "100%|██████████| 304/304 [00:00<00:00, 4890.17it/s]\n"
     ]
    },
    {
     "name": "stdout",
     "output_type": "stream",
     "text": [
      "Compute best fits\n",
      "fit_best: 0.0 s (n_proc=1,  NOBJ=1)\n",
      "Fit 0.4 s (n_proc=4, NOBJ=1)\n",
      "Setting meta, id_phot, 0\n",
      "Setting meta, z_best, 6.7644687\n",
      "Setting meta, chi2, 31.729250218005365\n",
      "Setting meta, z16, 6.7135396\n",
      "Setting meta, z50, 6.7647567\n",
      "Setting meta, z84, 6.838392\n",
      "Setting meta, flux_unit, uJy\n",
      "Setting meta, wave_unit, Angstrom\n",
      "Setting meta, templates_file, /nvme/scratch/work/tharvey/EAZY/inputs/scripts/templates/LarsonTemplates/tweak_fsps_QSF_12_v3_newtemplates.param\n",
      "Setting meta, z_min, 0.01\n",
      "Setting meta, z_max, 20.0\n",
      "Setting meta, z_step, 0.01\n",
      "Setting meta, region, MAG_APER_0.32 arcsec_fsps_larson_0.05__Asada24_cgm\n",
      " added to <HDF5 file \"JOF_psfmatched_5274.h5\" (mode r+)>, interactive_outputs/MAG_APER_0_32 arcsec_fsps_larson_0_05__Asada24_cgm/, eazy_fit\n",
      " added to <HDF5 file \"JOF_psfmatched_5274.h5\" (mode r+)>, interactive_outputs/MAG_APER_0_32 arcsec_fsps_larson_0_05__Asada24_cgm/, p_z\n",
      " added to <HDF5 file \"JOF_psfmatched_5274.h5\" (mode r+)>, interactive_outputs/MAG_APER_0_32 arcsec_fsps_larson_0_05__Asada24_cgm/, input_flux\n",
      " added to <HDF5 file \"JOF_psfmatched_5274.h5\" (mode r+)>, interactive_outputs/MAG_APER_0_32 arcsec_fsps_larson_0_05__Asada24_cgm/, input_flux_err\n",
      "Zeropoint: 23.9\n",
      "{'TEMPLATES_FILE': '/nvme/scratch/work/tharvey/EAZY/inputs/scripts/templates/LarsonTemplates/tweak_fsps_QSF_12_v3_newtemplates.param', 'FILTERS_RES': '/nvme/scratch/work/tharvey/EXPANSE/src/EXPANSE/eazy/jwst_nircam_FILTER.RES', 'MW_EBV': 0, 'CAT_HAS_EXTCORR': False, 'ADD_CGM': True, 'Z_STEP': 0.01, 'Z_MIN': 0.01, 'Z_MAX': 20.0, 'TEMP_ERR_FILE': '/nvme/scratch/work/tharvey/EXPANSE/src/EXPANSE/eazy/TEMPLATE_ERROR.eazy_v1.0', 'TEMP_ERR_A2': 0, 'SYS_ERR': 0, 'APPLY_PRIOR': 'n', 'PRIOR_ABZP': 23.9, 'PRIOR_FILTER': 28, 'PRIOR_FILE': '', 'FIX_ZSPEC': False, 'IGM_SCALE_TAU': 1.0, 'N_MIN_COLORS': 2, 'CATALOG_FILE': '/tmp/tmp8jz2tyeq/eazy_input.fits'}\n",
      "Read default param file: /nvme/scratch/software/anaconda3/envs/tharvey_galfind/lib/python3.10/site-packages/eazy/data/zphot.param.default\n",
      "Read CATALOG_FILE: /tmp/tmp8jz2tyeq/eazy_input.fits\n",
      "   >>> NOBJ = 1\n",
      "F22 E22 ( 22): hst/ACS_update_sep07/wfc_f435w_t81.dat\n",
      "F23 E23 ( 23): hst/ACS_update_sep07/wfc_f606w_t81.dat\n",
      "F49 E49 ( 49): hst/ACS_update_sep07/wfc_f775w_t81.dat\n",
      "F24 E24 ( 24): hst/ACS_update_sep07/wfc_f814w_t81.dat\n",
      "F50 E50 ( 50): hst/ACS_update_sep07/wfc_f850lp_t81.dat\n",
      "F1 E1 (  1): jwst_nircam_f090w\n",
      "F2 E2 (  2): jwst_nircam_f115w\n",
      "F3 E3 (  3): jwst_nircam_f150w\n",
      "F38 E38 ( 38): jwst_nircam_f162m\n",
      "F39 E39 ( 39): jwst_nircam_f182m\n",
      "F4 E4 (  4): jwst_nircam_f200w\n",
      "F40 E40 ( 40): jwst_nircam_f210m\n",
      "F41 E41 ( 41): jwst_nircam_f250m\n",
      "F5 E5 (  5): jwst_nircam_f277w\n",
      "F42 E42 ( 42): jwst_nircam_f300m\n",
      "F43 E43 ( 43): jwst_nircam_f335m\n",
      "F6 E6 (  6): jwst_nircam_f356w\n",
      "F7 E7 (  7): jwst_nircam_f410m\n",
      "F8 E8 (  8): jwst_nircam_f444w\n",
      "Set sys_err = 0.00 (positive=True)\n",
      "Template grid: /nvme/scratch/work/tharvey/EAZY/inputs/scripts/templates/LarsonTemplates/tweak_fsps_QSF_12_v3_newtemplates.param (this may take some time)\n"
     ]
    },
    {
     "name": "stderr",
     "output_type": "stream",
     "text": [
      "100%|██████████| 18/18 [00:11<00:00,  1.50it/s]\n"
     ]
    },
    {
     "name": "stdout",
     "output_type": "stream",
     "text": [
      "Template   0: fsps_QSF_12_v3_001.dat (NZ=1).\n",
      "Template   1: fsps_QSF_12_v3_002.dat (NZ=1).\n",
      "Template   2: fsps_QSF_12_v3_003.dat (NZ=1).\n",
      "Template   3: fsps_QSF_12_v3_004.dat (NZ=1).\n",
      "Template   4: fsps_QSF_12_v3_005.dat (NZ=1).\n",
      "Template   5: fsps_QSF_12_v3_006.dat (NZ=1).\n",
      "Template   6: fsps_QSF_12_v3_007.dat (NZ=1).\n",
      "Template   7: fsps_QSF_12_v3_008.dat (NZ=1).\n",
      "Template   8: fsps_QSF_12_v3_009.dat (NZ=1).\n",
      "Template   9: fsps_QSF_12_v3_010.dat (NZ=1).\n",
      "Template  10: fsps_QSF_12_v3_011.dat (NZ=1).\n",
      "Template  11: fsps_QSF_12_v3_012.dat (NZ=1).\n",
      "Template  12: binc100z001age6_cloudy.dat (NZ=1).\n",
      "Template  13: binc100z001age65_cloudy.dat (NZ=1).\n",
      "Template  14: binc100z001age7_cloudy.dat (NZ=1).\n",
      "Template  15: binc100z001age6.dat (NZ=1).\n",
      "Template  16: binc100z001age65.dat (NZ=1).\n",
      "Template  17: binc100z001age7.dat (NZ=1).\n",
      "Process templates: 12.493 s\n"
     ]
    },
    {
     "name": "stderr",
     "output_type": "stream",
     "text": [
      "304it [00:00, 23866.07it/s]"
     ]
    },
    {
     "name": "stdout",
     "output_type": "stream",
     "text": [
      "Saving tempfilt to /nvme/scratch/work/tharvey/EXPANSE/src/EXPANSE/eazy/tempfilt/\n"
     ]
    },
    {
     "name": "stderr",
     "output_type": "stream",
     "text": [
      "\n",
      "100%|██████████| 304/304 [00:00<00:00, 5737.19it/s]\n"
     ]
    },
    {
     "name": "stdout",
     "output_type": "stream",
     "text": [
      "Compute best fits\n",
      "fit_best: 0.0 s (n_proc=1,  NOBJ=1)\n",
      "Fit 0.4 s (n_proc=4, NOBJ=1)\n",
      "Setting meta, id_phot, 0\n",
      "Setting meta, z_best, 5.236547\n",
      "Setting meta, chi2, 15.396974481853402\n",
      "Setting meta, z16, 4.826102\n",
      "Setting meta, z50, 5.1717\n",
      "Setting meta, z84, 5.276087\n",
      "Setting meta, flux_unit, uJy\n",
      "Setting meta, wave_unit, Angstrom\n",
      "Setting meta, templates_file, /nvme/scratch/work/tharvey/EAZY/inputs/scripts/templates/LarsonTemplates/tweak_fsps_QSF_12_v3_newtemplates.param\n",
      "Setting meta, z_min, 0.01\n",
      "Setting meta, z_max, 20.0\n",
      "Setting meta, z_step, 0.01\n",
      "Setting meta, region, MAG_APER_0.32 arcsec_fsps_larson_0.05__Asada24_cgm\n",
      " added to <HDF5 file \"JOF_psfmatched_531.h5\" (mode r+)>, interactive_outputs/MAG_APER_0_32 arcsec_fsps_larson_0_05__Asada24_cgm/, eazy_fit\n",
      " added to <HDF5 file \"JOF_psfmatched_531.h5\" (mode r+)>, interactive_outputs/MAG_APER_0_32 arcsec_fsps_larson_0_05__Asada24_cgm/, p_z\n",
      " added to <HDF5 file \"JOF_psfmatched_531.h5\" (mode r+)>, interactive_outputs/MAG_APER_0_32 arcsec_fsps_larson_0_05__Asada24_cgm/, input_flux\n",
      " added to <HDF5 file \"JOF_psfmatched_531.h5\" (mode r+)>, interactive_outputs/MAG_APER_0_32 arcsec_fsps_larson_0_05__Asada24_cgm/, input_flux_err\n",
      "Zeropoint: 23.9\n",
      "{'TEMPLATES_FILE': '/nvme/scratch/work/tharvey/EAZY/inputs/scripts/templates/LarsonTemplates/tweak_fsps_QSF_12_v3_newtemplates.param', 'FILTERS_RES': '/nvme/scratch/work/tharvey/EXPANSE/src/EXPANSE/eazy/jwst_nircam_FILTER.RES', 'MW_EBV': 0, 'CAT_HAS_EXTCORR': False, 'ADD_CGM': True, 'Z_STEP': 0.01, 'Z_MIN': 0.01, 'Z_MAX': 20.0, 'TEMP_ERR_FILE': '/nvme/scratch/work/tharvey/EXPANSE/src/EXPANSE/eazy/TEMPLATE_ERROR.eazy_v1.0', 'TEMP_ERR_A2': 0, 'SYS_ERR': 0, 'APPLY_PRIOR': 'n', 'PRIOR_ABZP': 23.9, 'PRIOR_FILTER': 28, 'PRIOR_FILE': '', 'FIX_ZSPEC': False, 'IGM_SCALE_TAU': 1.0, 'N_MIN_COLORS': 2, 'CATALOG_FILE': '/tmp/tmpmn7rjdq1/eazy_input.fits'}\n",
      "Read default param file: /nvme/scratch/software/anaconda3/envs/tharvey_galfind/lib/python3.10/site-packages/eazy/data/zphot.param.default\n",
      "Read CATALOG_FILE: /tmp/tmpmn7rjdq1/eazy_input.fits\n",
      "   >>> NOBJ = 1\n",
      "F22 E22 ( 22): hst/ACS_update_sep07/wfc_f435w_t81.dat\n",
      "F23 E23 ( 23): hst/ACS_update_sep07/wfc_f606w_t81.dat\n",
      "F49 E49 ( 49): hst/ACS_update_sep07/wfc_f775w_t81.dat\n",
      "F24 E24 ( 24): hst/ACS_update_sep07/wfc_f814w_t81.dat\n",
      "F50 E50 ( 50): hst/ACS_update_sep07/wfc_f850lp_t81.dat\n",
      "F1 E1 (  1): jwst_nircam_f090w\n",
      "F2 E2 (  2): jwst_nircam_f115w\n",
      "F3 E3 (  3): jwst_nircam_f150w\n",
      "F38 E38 ( 38): jwst_nircam_f162m\n",
      "F39 E39 ( 39): jwst_nircam_f182m\n",
      "F4 E4 (  4): jwst_nircam_f200w\n",
      "F40 E40 ( 40): jwst_nircam_f210m\n",
      "F41 E41 ( 41): jwst_nircam_f250m\n",
      "F5 E5 (  5): jwst_nircam_f277w\n",
      "F42 E42 ( 42): jwst_nircam_f300m\n",
      "F43 E43 ( 43): jwst_nircam_f335m\n",
      "F6 E6 (  6): jwst_nircam_f356w\n",
      "F7 E7 (  7): jwst_nircam_f410m\n",
      "F8 E8 (  8): jwst_nircam_f444w\n",
      "Set sys_err = 0.00 (positive=True)\n",
      "Template grid: /nvme/scratch/work/tharvey/EAZY/inputs/scripts/templates/LarsonTemplates/tweak_fsps_QSF_12_v3_newtemplates.param (this may take some time)\n"
     ]
    },
    {
     "name": "stderr",
     "output_type": "stream",
     "text": [
      "100%|██████████| 18/18 [00:12<00:00,  1.45it/s]\n"
     ]
    },
    {
     "name": "stdout",
     "output_type": "stream",
     "text": [
      "Template   0: fsps_QSF_12_v3_001.dat (NZ=1).\n",
      "Template   1: fsps_QSF_12_v3_002.dat (NZ=1).\n",
      "Template   2: fsps_QSF_12_v3_003.dat (NZ=1).\n",
      "Template   3: fsps_QSF_12_v3_004.dat (NZ=1).\n",
      "Template   4: fsps_QSF_12_v3_005.dat (NZ=1).\n",
      "Template   5: fsps_QSF_12_v3_006.dat (NZ=1).\n",
      "Template   6: fsps_QSF_12_v3_007.dat (NZ=1).\n",
      "Template   7: fsps_QSF_12_v3_008.dat (NZ=1).\n",
      "Template   8: fsps_QSF_12_v3_009.dat (NZ=1).\n",
      "Template   9: fsps_QSF_12_v3_010.dat (NZ=1).\n",
      "Template  10: fsps_QSF_12_v3_011.dat (NZ=1).\n",
      "Template  11: fsps_QSF_12_v3_012.dat (NZ=1).\n",
      "Template  12: binc100z001age6_cloudy.dat (NZ=1).\n",
      "Template  13: binc100z001age65_cloudy.dat (NZ=1).\n",
      "Template  14: binc100z001age7_cloudy.dat (NZ=1).\n",
      "Template  15: binc100z001age6.dat (NZ=1).\n",
      "Template  16: binc100z001age65.dat (NZ=1).\n",
      "Template  17: binc100z001age7.dat (NZ=1).\n",
      "Process templates: 12.876 s\n"
     ]
    },
    {
     "name": "stderr",
     "output_type": "stream",
     "text": [
      "304it [00:00, 25183.05it/s]"
     ]
    },
    {
     "name": "stdout",
     "output_type": "stream",
     "text": [
      "Saving tempfilt to /nvme/scratch/work/tharvey/EXPANSE/src/EXPANSE/eazy/tempfilt/\n"
     ]
    },
    {
     "name": "stderr",
     "output_type": "stream",
     "text": [
      "\n",
      "100%|██████████| 304/304 [00:00<00:00, 5085.14it/s]\n"
     ]
    },
    {
     "name": "stdout",
     "output_type": "stream",
     "text": [
      "Compute best fits\n",
      "fit_best: 0.0 s (n_proc=1,  NOBJ=1)\n",
      "Fit 0.4 s (n_proc=4, NOBJ=1)\n",
      "Setting meta, id_phot, 0\n",
      "Setting meta, z_best, 8.178633\n",
      "Setting meta, chi2, 8.31194510430026\n",
      "Setting meta, z16, 8.064972\n",
      "Setting meta, z50, 8.17798\n",
      "Setting meta, z84, 8.291302\n",
      "Setting meta, flux_unit, uJy\n",
      "Setting meta, wave_unit, Angstrom\n",
      "Setting meta, templates_file, /nvme/scratch/work/tharvey/EAZY/inputs/scripts/templates/LarsonTemplates/tweak_fsps_QSF_12_v3_newtemplates.param\n",
      "Setting meta, z_min, 0.01\n",
      "Setting meta, z_max, 20.0\n",
      "Setting meta, z_step, 0.01\n",
      "Setting meta, region, MAG_APER_0.32 arcsec_fsps_larson_0.05__Asada24_cgm\n",
      " added to <HDF5 file \"JOF_psfmatched_5371.h5\" (mode r+)>, interactive_outputs/MAG_APER_0_32 arcsec_fsps_larson_0_05__Asada24_cgm/, eazy_fit\n",
      " added to <HDF5 file \"JOF_psfmatched_5371.h5\" (mode r+)>, interactive_outputs/MAG_APER_0_32 arcsec_fsps_larson_0_05__Asada24_cgm/, p_z\n",
      " added to <HDF5 file \"JOF_psfmatched_5371.h5\" (mode r+)>, interactive_outputs/MAG_APER_0_32 arcsec_fsps_larson_0_05__Asada24_cgm/, input_flux\n",
      " added to <HDF5 file \"JOF_psfmatched_5371.h5\" (mode r+)>, interactive_outputs/MAG_APER_0_32 arcsec_fsps_larson_0_05__Asada24_cgm/, input_flux_err\n",
      "Zeropoint: 23.9\n",
      "{'TEMPLATES_FILE': '/nvme/scratch/work/tharvey/EAZY/inputs/scripts/templates/LarsonTemplates/tweak_fsps_QSF_12_v3_newtemplates.param', 'FILTERS_RES': '/nvme/scratch/work/tharvey/EXPANSE/src/EXPANSE/eazy/jwst_nircam_FILTER.RES', 'MW_EBV': 0, 'CAT_HAS_EXTCORR': False, 'ADD_CGM': True, 'Z_STEP': 0.01, 'Z_MIN': 0.01, 'Z_MAX': 20.0, 'TEMP_ERR_FILE': '/nvme/scratch/work/tharvey/EXPANSE/src/EXPANSE/eazy/TEMPLATE_ERROR.eazy_v1.0', 'TEMP_ERR_A2': 0, 'SYS_ERR': 0, 'APPLY_PRIOR': 'n', 'PRIOR_ABZP': 23.9, 'PRIOR_FILTER': 28, 'PRIOR_FILE': '', 'FIX_ZSPEC': False, 'IGM_SCALE_TAU': 1.0, 'N_MIN_COLORS': 2, 'CATALOG_FILE': '/tmp/tmpu1l9xp1e/eazy_input.fits'}\n",
      "Read default param file: /nvme/scratch/software/anaconda3/envs/tharvey_galfind/lib/python3.10/site-packages/eazy/data/zphot.param.default\n",
      "Read CATALOG_FILE: /tmp/tmpu1l9xp1e/eazy_input.fits\n",
      "   >>> NOBJ = 1\n",
      "F22 E22 ( 22): hst/ACS_update_sep07/wfc_f435w_t81.dat\n",
      "F23 E23 ( 23): hst/ACS_update_sep07/wfc_f606w_t81.dat\n",
      "F49 E49 ( 49): hst/ACS_update_sep07/wfc_f775w_t81.dat\n",
      "F24 E24 ( 24): hst/ACS_update_sep07/wfc_f814w_t81.dat\n",
      "F50 E50 ( 50): hst/ACS_update_sep07/wfc_f850lp_t81.dat\n",
      "F1 E1 (  1): jwst_nircam_f090w\n",
      "F2 E2 (  2): jwst_nircam_f115w\n",
      "F3 E3 (  3): jwst_nircam_f150w\n",
      "F38 E38 ( 38): jwst_nircam_f162m\n",
      "F39 E39 ( 39): jwst_nircam_f182m\n",
      "F4 E4 (  4): jwst_nircam_f200w\n",
      "F40 E40 ( 40): jwst_nircam_f210m\n",
      "F41 E41 ( 41): jwst_nircam_f250m\n",
      "F5 E5 (  5): jwst_nircam_f277w\n",
      "F42 E42 ( 42): jwst_nircam_f300m\n",
      "F43 E43 ( 43): jwst_nircam_f335m\n",
      "F6 E6 (  6): jwst_nircam_f356w\n",
      "F7 E7 (  7): jwst_nircam_f410m\n",
      "F8 E8 (  8): jwst_nircam_f444w\n",
      "Set sys_err = 0.00 (positive=True)\n",
      "Template grid: /nvme/scratch/work/tharvey/EAZY/inputs/scripts/templates/LarsonTemplates/tweak_fsps_QSF_12_v3_newtemplates.param (this may take some time)\n"
     ]
    },
    {
     "name": "stderr",
     "output_type": "stream",
     "text": [
      "100%|██████████| 18/18 [00:12<00:00,  1.50it/s]\n"
     ]
    },
    {
     "name": "stdout",
     "output_type": "stream",
     "text": [
      "Template   0: fsps_QSF_12_v3_001.dat (NZ=1).\n",
      "Template   1: fsps_QSF_12_v3_002.dat (NZ=1).\n",
      "Template   2: fsps_QSF_12_v3_003.dat (NZ=1).\n",
      "Template   3: fsps_QSF_12_v3_004.dat (NZ=1).\n",
      "Template   4: fsps_QSF_12_v3_005.dat (NZ=1).\n",
      "Template   5: fsps_QSF_12_v3_006.dat (NZ=1).\n",
      "Template   6: fsps_QSF_12_v3_007.dat (NZ=1).\n",
      "Template   7: fsps_QSF_12_v3_008.dat (NZ=1).\n",
      "Template   8: fsps_QSF_12_v3_009.dat (NZ=1).\n",
      "Template   9: fsps_QSF_12_v3_010.dat (NZ=1).\n",
      "Template  10: fsps_QSF_12_v3_011.dat (NZ=1).\n",
      "Template  11: fsps_QSF_12_v3_012.dat (NZ=1).\n",
      "Template  12: binc100z001age6_cloudy.dat (NZ=1).\n",
      "Template  13: binc100z001age65_cloudy.dat (NZ=1).\n",
      "Template  14: binc100z001age7_cloudy.dat (NZ=1).\n",
      "Template  15: binc100z001age6.dat (NZ=1).\n",
      "Template  16: binc100z001age65.dat (NZ=1).\n",
      "Template  17: binc100z001age7.dat (NZ=1).\n",
      "Process templates: 12.432 s\n"
     ]
    },
    {
     "name": "stderr",
     "output_type": "stream",
     "text": [
      "304it [00:00, 27342.62it/s]"
     ]
    },
    {
     "name": "stdout",
     "output_type": "stream",
     "text": [
      "Saving tempfilt to /nvme/scratch/work/tharvey/EXPANSE/src/EXPANSE/eazy/tempfilt/\n"
     ]
    },
    {
     "name": "stderr",
     "output_type": "stream",
     "text": [
      "\n",
      "100%|██████████| 304/304 [00:00<00:00, 5388.84it/s]\n"
     ]
    },
    {
     "name": "stdout",
     "output_type": "stream",
     "text": [
      "Compute best fits\n",
      "fit_best: 0.0 s (n_proc=1,  NOBJ=1)\n",
      "Fit 0.4 s (n_proc=4, NOBJ=1)\n",
      "Setting meta, id_phot, 0\n",
      "Setting meta, z_best, 6.5204635\n",
      "Setting meta, chi2, 21.33507524259459\n",
      "Setting meta, z16, 6.4677\n",
      "Setting meta, z50, 6.5241923\n",
      "Setting meta, z84, 6.570573\n",
      "Setting meta, flux_unit, uJy\n",
      "Setting meta, wave_unit, Angstrom\n",
      "Setting meta, templates_file, /nvme/scratch/work/tharvey/EAZY/inputs/scripts/templates/LarsonTemplates/tweak_fsps_QSF_12_v3_newtemplates.param\n",
      "Setting meta, z_min, 0.01\n",
      "Setting meta, z_max, 20.0\n",
      "Setting meta, z_step, 0.01\n",
      "Setting meta, region, MAG_APER_0.32 arcsec_fsps_larson_0.05__Asada24_cgm\n",
      " added to <HDF5 file \"JOF_psfmatched_5529.h5\" (mode r+)>, interactive_outputs/MAG_APER_0_32 arcsec_fsps_larson_0_05__Asada24_cgm/, eazy_fit\n",
      " added to <HDF5 file \"JOF_psfmatched_5529.h5\" (mode r+)>, interactive_outputs/MAG_APER_0_32 arcsec_fsps_larson_0_05__Asada24_cgm/, p_z\n",
      " added to <HDF5 file \"JOF_psfmatched_5529.h5\" (mode r+)>, interactive_outputs/MAG_APER_0_32 arcsec_fsps_larson_0_05__Asada24_cgm/, input_flux\n",
      " added to <HDF5 file \"JOF_psfmatched_5529.h5\" (mode r+)>, interactive_outputs/MAG_APER_0_32 arcsec_fsps_larson_0_05__Asada24_cgm/, input_flux_err\n",
      "Zeropoint: 23.9\n",
      "{'TEMPLATES_FILE': '/nvme/scratch/work/tharvey/EAZY/inputs/scripts/templates/LarsonTemplates/tweak_fsps_QSF_12_v3_newtemplates.param', 'FILTERS_RES': '/nvme/scratch/work/tharvey/EXPANSE/src/EXPANSE/eazy/jwst_nircam_FILTER.RES', 'MW_EBV': 0, 'CAT_HAS_EXTCORR': False, 'ADD_CGM': True, 'Z_STEP': 0.01, 'Z_MIN': 0.01, 'Z_MAX': 20.0, 'TEMP_ERR_FILE': '/nvme/scratch/work/tharvey/EXPANSE/src/EXPANSE/eazy/TEMPLATE_ERROR.eazy_v1.0', 'TEMP_ERR_A2': 0, 'SYS_ERR': 0, 'APPLY_PRIOR': 'n', 'PRIOR_ABZP': 23.9, 'PRIOR_FILTER': 28, 'PRIOR_FILE': '', 'FIX_ZSPEC': False, 'IGM_SCALE_TAU': 1.0, 'N_MIN_COLORS': 2, 'CATALOG_FILE': '/tmp/tmpcec_0n6a/eazy_input.fits'}\n",
      "Read default param file: /nvme/scratch/software/anaconda3/envs/tharvey_galfind/lib/python3.10/site-packages/eazy/data/zphot.param.default\n",
      "Read CATALOG_FILE: /tmp/tmpcec_0n6a/eazy_input.fits\n",
      "   >>> NOBJ = 1\n",
      "F22 E22 ( 22): hst/ACS_update_sep07/wfc_f435w_t81.dat\n",
      "F23 E23 ( 23): hst/ACS_update_sep07/wfc_f606w_t81.dat\n",
      "F49 E49 ( 49): hst/ACS_update_sep07/wfc_f775w_t81.dat\n",
      "F24 E24 ( 24): hst/ACS_update_sep07/wfc_f814w_t81.dat\n",
      "F50 E50 ( 50): hst/ACS_update_sep07/wfc_f850lp_t81.dat\n",
      "F1 E1 (  1): jwst_nircam_f090w\n",
      "F2 E2 (  2): jwst_nircam_f115w\n",
      "F3 E3 (  3): jwst_nircam_f150w\n",
      "F38 E38 ( 38): jwst_nircam_f162m\n",
      "F39 E39 ( 39): jwst_nircam_f182m\n",
      "F4 E4 (  4): jwst_nircam_f200w\n",
      "F40 E40 ( 40): jwst_nircam_f210m\n",
      "F41 E41 ( 41): jwst_nircam_f250m\n",
      "F5 E5 (  5): jwst_nircam_f277w\n",
      "F42 E42 ( 42): jwst_nircam_f300m\n",
      "F43 E43 ( 43): jwst_nircam_f335m\n",
      "F6 E6 (  6): jwst_nircam_f356w\n",
      "F7 E7 (  7): jwst_nircam_f410m\n",
      "F8 E8 (  8): jwst_nircam_f444w\n",
      "Set sys_err = 0.00 (positive=True)\n",
      "Template grid: /nvme/scratch/work/tharvey/EAZY/inputs/scripts/templates/LarsonTemplates/tweak_fsps_QSF_12_v3_newtemplates.param (this may take some time)\n"
     ]
    },
    {
     "name": "stderr",
     "output_type": "stream",
     "text": [
      "100%|██████████| 18/18 [00:12<00:00,  1.46it/s]\n"
     ]
    },
    {
     "name": "stdout",
     "output_type": "stream",
     "text": [
      "Template   0: fsps_QSF_12_v3_001.dat (NZ=1).\n",
      "Template   1: fsps_QSF_12_v3_002.dat (NZ=1).\n",
      "Template   2: fsps_QSF_12_v3_003.dat (NZ=1).\n",
      "Template   3: fsps_QSF_12_v3_004.dat (NZ=1).\n",
      "Template   4: fsps_QSF_12_v3_005.dat (NZ=1).\n",
      "Template   5: fsps_QSF_12_v3_006.dat (NZ=1).\n",
      "Template   6: fsps_QSF_12_v3_007.dat (NZ=1).\n",
      "Template   7: fsps_QSF_12_v3_008.dat (NZ=1).\n",
      "Template   8: fsps_QSF_12_v3_009.dat (NZ=1).\n",
      "Template   9: fsps_QSF_12_v3_010.dat (NZ=1).\n",
      "Template  10: fsps_QSF_12_v3_011.dat (NZ=1).\n",
      "Template  11: fsps_QSF_12_v3_012.dat (NZ=1).\n",
      "Template  12: binc100z001age6_cloudy.dat (NZ=1).\n",
      "Template  13: binc100z001age65_cloudy.dat (NZ=1).\n",
      "Template  14: binc100z001age7_cloudy.dat (NZ=1).\n",
      "Template  15: binc100z001age6.dat (NZ=1).\n",
      "Template  16: binc100z001age65.dat (NZ=1).\n",
      "Template  17: binc100z001age7.dat (NZ=1).\n",
      "Process templates: 12.786 s\n"
     ]
    },
    {
     "name": "stderr",
     "output_type": "stream",
     "text": [
      "304it [00:00, 21405.98it/s]"
     ]
    },
    {
     "name": "stdout",
     "output_type": "stream",
     "text": [
      "Saving tempfilt to /nvme/scratch/work/tharvey/EXPANSE/src/EXPANSE/eazy/tempfilt/\n"
     ]
    },
    {
     "name": "stderr",
     "output_type": "stream",
     "text": [
      "\n",
      "100%|██████████| 304/304 [00:00<00:00, 4263.76it/s]\n"
     ]
    },
    {
     "name": "stdout",
     "output_type": "stream",
     "text": [
      "Compute best fits\n",
      "fit_best: 0.0 s (n_proc=1,  NOBJ=1)\n",
      "Fit 0.4 s (n_proc=4, NOBJ=1)\n",
      "Setting meta, id_phot, 0\n",
      "Setting meta, z_best, 8.009332\n",
      "Setting meta, chi2, 16.483649172249375\n",
      "Setting meta, z16, 7.87437\n",
      "Setting meta, z50, 7.9935913\n",
      "Setting meta, z84, 8.078321\n",
      "Setting meta, flux_unit, uJy\n",
      "Setting meta, wave_unit, Angstrom\n",
      "Setting meta, templates_file, /nvme/scratch/work/tharvey/EAZY/inputs/scripts/templates/LarsonTemplates/tweak_fsps_QSF_12_v3_newtemplates.param\n",
      "Setting meta, z_min, 0.01\n",
      "Setting meta, z_max, 20.0\n",
      "Setting meta, z_step, 0.01\n",
      "Setting meta, region, MAG_APER_0.32 arcsec_fsps_larson_0.05__Asada24_cgm\n",
      " added to <HDF5 file \"JOF_psfmatched_5532.h5\" (mode r+)>, interactive_outputs/MAG_APER_0_32 arcsec_fsps_larson_0_05__Asada24_cgm/, eazy_fit\n",
      " added to <HDF5 file \"JOF_psfmatched_5532.h5\" (mode r+)>, interactive_outputs/MAG_APER_0_32 arcsec_fsps_larson_0_05__Asada24_cgm/, p_z\n",
      " added to <HDF5 file \"JOF_psfmatched_5532.h5\" (mode r+)>, interactive_outputs/MAG_APER_0_32 arcsec_fsps_larson_0_05__Asada24_cgm/, input_flux\n",
      " added to <HDF5 file \"JOF_psfmatched_5532.h5\" (mode r+)>, interactive_outputs/MAG_APER_0_32 arcsec_fsps_larson_0_05__Asada24_cgm/, input_flux_err\n",
      "Zeropoint: 23.9\n",
      "{'TEMPLATES_FILE': '/nvme/scratch/work/tharvey/EAZY/inputs/scripts/templates/LarsonTemplates/tweak_fsps_QSF_12_v3_newtemplates.param', 'FILTERS_RES': '/nvme/scratch/work/tharvey/EXPANSE/src/EXPANSE/eazy/jwst_nircam_FILTER.RES', 'MW_EBV': 0, 'CAT_HAS_EXTCORR': False, 'ADD_CGM': True, 'Z_STEP': 0.01, 'Z_MIN': 0.01, 'Z_MAX': 20.0, 'TEMP_ERR_FILE': '/nvme/scratch/work/tharvey/EXPANSE/src/EXPANSE/eazy/TEMPLATE_ERROR.eazy_v1.0', 'TEMP_ERR_A2': 0, 'SYS_ERR': 0, 'APPLY_PRIOR': 'n', 'PRIOR_ABZP': 23.9, 'PRIOR_FILTER': 28, 'PRIOR_FILE': '', 'FIX_ZSPEC': False, 'IGM_SCALE_TAU': 1.0, 'N_MIN_COLORS': 2, 'CATALOG_FILE': '/tmp/tmpp0l6ne7k/eazy_input.fits'}\n",
      "Read default param file: /nvme/scratch/software/anaconda3/envs/tharvey_galfind/lib/python3.10/site-packages/eazy/data/zphot.param.default\n",
      "Read CATALOG_FILE: /tmp/tmpp0l6ne7k/eazy_input.fits\n",
      "   >>> NOBJ = 1\n",
      "F22 E22 ( 22): hst/ACS_update_sep07/wfc_f435w_t81.dat\n",
      "F23 E23 ( 23): hst/ACS_update_sep07/wfc_f606w_t81.dat\n",
      "F49 E49 ( 49): hst/ACS_update_sep07/wfc_f775w_t81.dat\n",
      "F24 E24 ( 24): hst/ACS_update_sep07/wfc_f814w_t81.dat\n",
      "F50 E50 ( 50): hst/ACS_update_sep07/wfc_f850lp_t81.dat\n",
      "F1 E1 (  1): jwst_nircam_f090w\n",
      "F2 E2 (  2): jwst_nircam_f115w\n",
      "F3 E3 (  3): jwst_nircam_f150w\n",
      "F38 E38 ( 38): jwst_nircam_f162m\n",
      "F39 E39 ( 39): jwst_nircam_f182m\n",
      "F4 E4 (  4): jwst_nircam_f200w\n",
      "F40 E40 ( 40): jwst_nircam_f210m\n",
      "F41 E41 ( 41): jwst_nircam_f250m\n",
      "F5 E5 (  5): jwst_nircam_f277w\n",
      "F42 E42 ( 42): jwst_nircam_f300m\n",
      "F43 E43 ( 43): jwst_nircam_f335m\n",
      "F6 E6 (  6): jwst_nircam_f356w\n",
      "F7 E7 (  7): jwst_nircam_f410m\n",
      "F8 E8 (  8): jwst_nircam_f444w\n",
      "Set sys_err = 0.00 (positive=True)\n",
      "Template grid: /nvme/scratch/work/tharvey/EAZY/inputs/scripts/templates/LarsonTemplates/tweak_fsps_QSF_12_v3_newtemplates.param (this may take some time)\n"
     ]
    },
    {
     "name": "stderr",
     "output_type": "stream",
     "text": [
      "100%|██████████| 18/18 [00:12<00:00,  1.42it/s]\n"
     ]
    },
    {
     "name": "stdout",
     "output_type": "stream",
     "text": [
      "Template   0: fsps_QSF_12_v3_001.dat (NZ=1).\n",
      "Template   1: fsps_QSF_12_v3_002.dat (NZ=1).\n",
      "Template   2: fsps_QSF_12_v3_003.dat (NZ=1).\n",
      "Template   3: fsps_QSF_12_v3_004.dat (NZ=1).\n",
      "Template   4: fsps_QSF_12_v3_005.dat (NZ=1).\n",
      "Template   5: fsps_QSF_12_v3_006.dat (NZ=1).\n",
      "Template   6: fsps_QSF_12_v3_007.dat (NZ=1).\n",
      "Template   7: fsps_QSF_12_v3_008.dat (NZ=1).\n",
      "Template   8: fsps_QSF_12_v3_009.dat (NZ=1).\n",
      "Template   9: fsps_QSF_12_v3_010.dat (NZ=1).\n",
      "Template  10: fsps_QSF_12_v3_011.dat (NZ=1).\n",
      "Template  11: fsps_QSF_12_v3_012.dat (NZ=1).\n",
      "Template  12: binc100z001age6_cloudy.dat (NZ=1).\n",
      "Template  13: binc100z001age65_cloudy.dat (NZ=1).\n",
      "Template  14: binc100z001age7_cloudy.dat (NZ=1).\n",
      "Template  15: binc100z001age6.dat (NZ=1).\n",
      "Template  16: binc100z001age65.dat (NZ=1).\n",
      "Template  17: binc100z001age7.dat (NZ=1).\n",
      "Process templates: 13.224 s\n"
     ]
    },
    {
     "name": "stderr",
     "output_type": "stream",
     "text": [
      "304it [00:00, 9997.95it/s]"
     ]
    },
    {
     "name": "stdout",
     "output_type": "stream",
     "text": [
      "Saving tempfilt to /nvme/scratch/work/tharvey/EXPANSE/src/EXPANSE/eazy/tempfilt/\n"
     ]
    },
    {
     "name": "stderr",
     "output_type": "stream",
     "text": [
      "\n",
      "100%|██████████| 304/304 [00:00<00:00, 6126.13it/s]\n"
     ]
    },
    {
     "name": "stdout",
     "output_type": "stream",
     "text": [
      "Compute best fits\n",
      "fit_best: 0.0 s (n_proc=1,  NOBJ=1)\n",
      "Fit 0.4 s (n_proc=4, NOBJ=1)\n",
      "Setting meta, id_phot, 0\n",
      "Setting meta, z_best, 6.547458\n",
      "Setting meta, chi2, 33.78778266376734\n",
      "Setting meta, z16, 6.4783792\n",
      "Setting meta, z50, 6.5731025\n",
      "Setting meta, z84, 6.706933\n",
      "Setting meta, flux_unit, uJy\n",
      "Setting meta, wave_unit, Angstrom\n",
      "Setting meta, templates_file, /nvme/scratch/work/tharvey/EAZY/inputs/scripts/templates/LarsonTemplates/tweak_fsps_QSF_12_v3_newtemplates.param\n",
      "Setting meta, z_min, 0.01\n",
      "Setting meta, z_max, 20.0\n",
      "Setting meta, z_step, 0.01\n",
      "Setting meta, region, MAG_APER_0.32 arcsec_fsps_larson_0.05__Asada24_cgm\n",
      " added to <HDF5 file \"JOF_psfmatched_5591.h5\" (mode r+)>, interactive_outputs/MAG_APER_0_32 arcsec_fsps_larson_0_05__Asada24_cgm/, eazy_fit\n",
      " added to <HDF5 file \"JOF_psfmatched_5591.h5\" (mode r+)>, interactive_outputs/MAG_APER_0_32 arcsec_fsps_larson_0_05__Asada24_cgm/, p_z\n",
      " added to <HDF5 file \"JOF_psfmatched_5591.h5\" (mode r+)>, interactive_outputs/MAG_APER_0_32 arcsec_fsps_larson_0_05__Asada24_cgm/, input_flux\n",
      " added to <HDF5 file \"JOF_psfmatched_5591.h5\" (mode r+)>, interactive_outputs/MAG_APER_0_32 arcsec_fsps_larson_0_05__Asada24_cgm/, input_flux_err\n",
      "Zeropoint: 23.9\n",
      "{'TEMPLATES_FILE': '/nvme/scratch/work/tharvey/EAZY/inputs/scripts/templates/LarsonTemplates/tweak_fsps_QSF_12_v3_newtemplates.param', 'FILTERS_RES': '/nvme/scratch/work/tharvey/EXPANSE/src/EXPANSE/eazy/jwst_nircam_FILTER.RES', 'MW_EBV': 0, 'CAT_HAS_EXTCORR': False, 'ADD_CGM': True, 'Z_STEP': 0.01, 'Z_MIN': 0.01, 'Z_MAX': 20.0, 'TEMP_ERR_FILE': '/nvme/scratch/work/tharvey/EXPANSE/src/EXPANSE/eazy/TEMPLATE_ERROR.eazy_v1.0', 'TEMP_ERR_A2': 0, 'SYS_ERR': 0, 'APPLY_PRIOR': 'n', 'PRIOR_ABZP': 23.9, 'PRIOR_FILTER': 28, 'PRIOR_FILE': '', 'FIX_ZSPEC': False, 'IGM_SCALE_TAU': 1.0, 'N_MIN_COLORS': 2, 'CATALOG_FILE': '/tmp/tmpmwd6e6ki/eazy_input.fits'}\n",
      "Read default param file: /nvme/scratch/software/anaconda3/envs/tharvey_galfind/lib/python3.10/site-packages/eazy/data/zphot.param.default\n",
      "Read CATALOG_FILE: /tmp/tmpmwd6e6ki/eazy_input.fits\n",
      "   >>> NOBJ = 1\n",
      "F22 E22 ( 22): hst/ACS_update_sep07/wfc_f435w_t81.dat\n",
      "F23 E23 ( 23): hst/ACS_update_sep07/wfc_f606w_t81.dat\n",
      "F49 E49 ( 49): hst/ACS_update_sep07/wfc_f775w_t81.dat\n",
      "F24 E24 ( 24): hst/ACS_update_sep07/wfc_f814w_t81.dat\n",
      "F50 E50 ( 50): hst/ACS_update_sep07/wfc_f850lp_t81.dat\n",
      "F1 E1 (  1): jwst_nircam_f090w\n",
      "F2 E2 (  2): jwst_nircam_f115w\n",
      "F3 E3 (  3): jwst_nircam_f150w\n",
      "F38 E38 ( 38): jwst_nircam_f162m\n",
      "F39 E39 ( 39): jwst_nircam_f182m\n",
      "F4 E4 (  4): jwst_nircam_f200w\n",
      "F40 E40 ( 40): jwst_nircam_f210m\n",
      "F41 E41 ( 41): jwst_nircam_f250m\n",
      "F5 E5 (  5): jwst_nircam_f277w\n",
      "F42 E42 ( 42): jwst_nircam_f300m\n",
      "F43 E43 ( 43): jwst_nircam_f335m\n",
      "F6 E6 (  6): jwst_nircam_f356w\n",
      "F7 E7 (  7): jwst_nircam_f410m\n",
      "F8 E8 (  8): jwst_nircam_f444w\n",
      "Set sys_err = 0.00 (positive=True)\n",
      "Template grid: /nvme/scratch/work/tharvey/EAZY/inputs/scripts/templates/LarsonTemplates/tweak_fsps_QSF_12_v3_newtemplates.param (this may take some time)\n"
     ]
    },
    {
     "name": "stderr",
     "output_type": "stream",
     "text": [
      "100%|██████████| 18/18 [00:12<00:00,  1.39it/s]\n"
     ]
    },
    {
     "name": "stdout",
     "output_type": "stream",
     "text": [
      "Template   0: fsps_QSF_12_v3_001.dat (NZ=1).\n",
      "Template   1: fsps_QSF_12_v3_002.dat (NZ=1).\n",
      "Template   2: fsps_QSF_12_v3_003.dat (NZ=1).\n",
      "Template   3: fsps_QSF_12_v3_004.dat (NZ=1).\n",
      "Template   4: fsps_QSF_12_v3_005.dat (NZ=1).\n",
      "Template   5: fsps_QSF_12_v3_006.dat (NZ=1).\n",
      "Template   6: fsps_QSF_12_v3_007.dat (NZ=1).\n",
      "Template   7: fsps_QSF_12_v3_008.dat (NZ=1).\n",
      "Template   8: fsps_QSF_12_v3_009.dat (NZ=1).\n",
      "Template   9: fsps_QSF_12_v3_010.dat (NZ=1).\n",
      "Template  10: fsps_QSF_12_v3_011.dat (NZ=1).\n",
      "Template  11: fsps_QSF_12_v3_012.dat (NZ=1).\n",
      "Template  12: binc100z001age6_cloudy.dat (NZ=1).\n",
      "Template  13: binc100z001age65_cloudy.dat (NZ=1).\n",
      "Template  14: binc100z001age7_cloudy.dat (NZ=1).\n",
      "Template  15: binc100z001age6.dat (NZ=1).\n",
      "Template  16: binc100z001age65.dat (NZ=1).\n",
      "Template  17: binc100z001age7.dat (NZ=1).\n",
      "Process templates: 13.379 s\n"
     ]
    },
    {
     "name": "stderr",
     "output_type": "stream",
     "text": [
      "304it [00:00, 22193.24it/s]"
     ]
    },
    {
     "name": "stdout",
     "output_type": "stream",
     "text": [
      "Saving tempfilt to /nvme/scratch/work/tharvey/EXPANSE/src/EXPANSE/eazy/tempfilt/\n"
     ]
    },
    {
     "name": "stderr",
     "output_type": "stream",
     "text": [
      "\n",
      "100%|██████████| 304/304 [00:00<00:00, 5797.69it/s]\n"
     ]
    },
    {
     "name": "stdout",
     "output_type": "stream",
     "text": [
      "Compute best fits\n",
      "fit_best: 0.0 s (n_proc=1,  NOBJ=1)\n",
      "Fit 0.6 s (n_proc=4, NOBJ=1)\n",
      "Setting meta, id_phot, 0\n",
      "Setting meta, z_best, 7.0085373\n",
      "Setting meta, chi2, 24.41997425849124\n",
      "Setting meta, z16, 6.945535\n",
      "Setting meta, z50, 7.008463\n",
      "Setting meta, z84, 7.070875\n",
      "Setting meta, flux_unit, uJy\n",
      "Setting meta, wave_unit, Angstrom\n",
      "Setting meta, templates_file, /nvme/scratch/work/tharvey/EAZY/inputs/scripts/templates/LarsonTemplates/tweak_fsps_QSF_12_v3_newtemplates.param\n",
      "Setting meta, z_min, 0.01\n",
      "Setting meta, z_max, 20.0\n",
      "Setting meta, z_step, 0.01\n",
      "Setting meta, region, MAG_APER_0.32 arcsec_fsps_larson_0.05__Asada24_cgm\n",
      " added to <HDF5 file \"JOF_psfmatched_5611.h5\" (mode r+)>, interactive_outputs/MAG_APER_0_32 arcsec_fsps_larson_0_05__Asada24_cgm/, eazy_fit\n",
      " added to <HDF5 file \"JOF_psfmatched_5611.h5\" (mode r+)>, interactive_outputs/MAG_APER_0_32 arcsec_fsps_larson_0_05__Asada24_cgm/, p_z\n",
      " added to <HDF5 file \"JOF_psfmatched_5611.h5\" (mode r+)>, interactive_outputs/MAG_APER_0_32 arcsec_fsps_larson_0_05__Asada24_cgm/, input_flux\n",
      " added to <HDF5 file \"JOF_psfmatched_5611.h5\" (mode r+)>, interactive_outputs/MAG_APER_0_32 arcsec_fsps_larson_0_05__Asada24_cgm/, input_flux_err\n",
      "Zeropoint: 23.9\n",
      "{'TEMPLATES_FILE': '/nvme/scratch/work/tharvey/EAZY/inputs/scripts/templates/LarsonTemplates/tweak_fsps_QSF_12_v3_newtemplates.param', 'FILTERS_RES': '/nvme/scratch/work/tharvey/EXPANSE/src/EXPANSE/eazy/jwst_nircam_FILTER.RES', 'MW_EBV': 0, 'CAT_HAS_EXTCORR': False, 'ADD_CGM': True, 'Z_STEP': 0.01, 'Z_MIN': 0.01, 'Z_MAX': 20.0, 'TEMP_ERR_FILE': '/nvme/scratch/work/tharvey/EXPANSE/src/EXPANSE/eazy/TEMPLATE_ERROR.eazy_v1.0', 'TEMP_ERR_A2': 0, 'SYS_ERR': 0, 'APPLY_PRIOR': 'n', 'PRIOR_ABZP': 23.9, 'PRIOR_FILTER': 28, 'PRIOR_FILE': '', 'FIX_ZSPEC': False, 'IGM_SCALE_TAU': 1.0, 'N_MIN_COLORS': 2, 'CATALOG_FILE': '/tmp/tmpuwwtc0do/eazy_input.fits'}\n",
      "Read default param file: /nvme/scratch/software/anaconda3/envs/tharvey_galfind/lib/python3.10/site-packages/eazy/data/zphot.param.default\n",
      "Read CATALOG_FILE: /tmp/tmpuwwtc0do/eazy_input.fits\n",
      "   >>> NOBJ = 1\n",
      "F22 E22 ( 22): hst/ACS_update_sep07/wfc_f435w_t81.dat\n",
      "F23 E23 ( 23): hst/ACS_update_sep07/wfc_f606w_t81.dat\n",
      "F49 E49 ( 49): hst/ACS_update_sep07/wfc_f775w_t81.dat\n",
      "F24 E24 ( 24): hst/ACS_update_sep07/wfc_f814w_t81.dat\n",
      "F50 E50 ( 50): hst/ACS_update_sep07/wfc_f850lp_t81.dat\n",
      "F1 E1 (  1): jwst_nircam_f090w\n",
      "F2 E2 (  2): jwst_nircam_f115w\n",
      "F3 E3 (  3): jwst_nircam_f150w\n",
      "F38 E38 ( 38): jwst_nircam_f162m\n",
      "F39 E39 ( 39): jwst_nircam_f182m\n",
      "F4 E4 (  4): jwst_nircam_f200w\n",
      "F40 E40 ( 40): jwst_nircam_f210m\n",
      "F41 E41 ( 41): jwst_nircam_f250m\n",
      "F5 E5 (  5): jwst_nircam_f277w\n",
      "F42 E42 ( 42): jwst_nircam_f300m\n",
      "F43 E43 ( 43): jwst_nircam_f335m\n",
      "F6 E6 (  6): jwst_nircam_f356w\n",
      "F7 E7 (  7): jwst_nircam_f410m\n",
      "F8 E8 (  8): jwst_nircam_f444w\n",
      "Set sys_err = 0.00 (positive=True)\n",
      "Template grid: /nvme/scratch/work/tharvey/EAZY/inputs/scripts/templates/LarsonTemplates/tweak_fsps_QSF_12_v3_newtemplates.param (this may take some time)\n"
     ]
    },
    {
     "name": "stderr",
     "output_type": "stream",
     "text": [
      "100%|██████████| 18/18 [00:13<00:00,  1.34it/s]\n"
     ]
    },
    {
     "name": "stdout",
     "output_type": "stream",
     "text": [
      "Template   0: fsps_QSF_12_v3_001.dat (NZ=1).\n",
      "Template   1: fsps_QSF_12_v3_002.dat (NZ=1).\n",
      "Template   2: fsps_QSF_12_v3_003.dat (NZ=1).\n",
      "Template   3: fsps_QSF_12_v3_004.dat (NZ=1).\n",
      "Template   4: fsps_QSF_12_v3_005.dat (NZ=1).\n",
      "Template   5: fsps_QSF_12_v3_006.dat (NZ=1).\n",
      "Template   6: fsps_QSF_12_v3_007.dat (NZ=1).\n",
      "Template   7: fsps_QSF_12_v3_008.dat (NZ=1).\n",
      "Template   8: fsps_QSF_12_v3_009.dat (NZ=1).\n",
      "Template   9: fsps_QSF_12_v3_010.dat (NZ=1).\n",
      "Template  10: fsps_QSF_12_v3_011.dat (NZ=1).\n",
      "Template  11: fsps_QSF_12_v3_012.dat (NZ=1).\n",
      "Template  12: binc100z001age6_cloudy.dat (NZ=1).\n",
      "Template  13: binc100z001age65_cloudy.dat (NZ=1).\n",
      "Template  14: binc100z001age7_cloudy.dat (NZ=1).\n",
      "Template  15: binc100z001age6.dat (NZ=1).\n",
      "Template  16: binc100z001age65.dat (NZ=1).\n",
      "Template  17: binc100z001age7.dat (NZ=1).\n",
      "Process templates: 13.987 s\n"
     ]
    },
    {
     "name": "stderr",
     "output_type": "stream",
     "text": [
      "304it [00:00, 16849.71it/s]"
     ]
    },
    {
     "name": "stdout",
     "output_type": "stream",
     "text": [
      "Saving tempfilt to /nvme/scratch/work/tharvey/EXPANSE/src/EXPANSE/eazy/tempfilt/\n"
     ]
    },
    {
     "name": "stderr",
     "output_type": "stream",
     "text": [
      "\n",
      "100%|██████████| 304/304 [00:00<00:00, 4920.86it/s]\n"
     ]
    },
    {
     "name": "stdout",
     "output_type": "stream",
     "text": [
      "Compute best fits\n",
      "fit_best: 0.0 s (n_proc=1,  NOBJ=1)\n",
      "Fit 0.4 s (n_proc=4, NOBJ=1)\n",
      "Setting meta, id_phot, 0\n",
      "Setting meta, z_best, 8.135288\n",
      "Setting meta, chi2, 25.60303569325147\n",
      "Setting meta, z16, 8.051838\n",
      "Setting meta, z50, 8.141943\n",
      "Setting meta, z84, 8.244088\n",
      "Setting meta, flux_unit, uJy\n",
      "Setting meta, wave_unit, Angstrom\n",
      "Setting meta, templates_file, /nvme/scratch/work/tharvey/EAZY/inputs/scripts/templates/LarsonTemplates/tweak_fsps_QSF_12_v3_newtemplates.param\n",
      "Setting meta, z_min, 0.01\n",
      "Setting meta, z_max, 20.0\n",
      "Setting meta, z_step, 0.01\n",
      "Setting meta, region, MAG_APER_0.32 arcsec_fsps_larson_0.05__Asada24_cgm\n",
      " added to <HDF5 file \"JOF_psfmatched_5671.h5\" (mode r+)>, interactive_outputs/MAG_APER_0_32 arcsec_fsps_larson_0_05__Asada24_cgm/, eazy_fit\n",
      " added to <HDF5 file \"JOF_psfmatched_5671.h5\" (mode r+)>, interactive_outputs/MAG_APER_0_32 arcsec_fsps_larson_0_05__Asada24_cgm/, p_z\n",
      " added to <HDF5 file \"JOF_psfmatched_5671.h5\" (mode r+)>, interactive_outputs/MAG_APER_0_32 arcsec_fsps_larson_0_05__Asada24_cgm/, input_flux\n",
      " added to <HDF5 file \"JOF_psfmatched_5671.h5\" (mode r+)>, interactive_outputs/MAG_APER_0_32 arcsec_fsps_larson_0_05__Asada24_cgm/, input_flux_err\n",
      "Zeropoint: 23.9\n",
      "{'TEMPLATES_FILE': '/nvme/scratch/work/tharvey/EAZY/inputs/scripts/templates/LarsonTemplates/tweak_fsps_QSF_12_v3_newtemplates.param', 'FILTERS_RES': '/nvme/scratch/work/tharvey/EXPANSE/src/EXPANSE/eazy/jwst_nircam_FILTER.RES', 'MW_EBV': 0, 'CAT_HAS_EXTCORR': False, 'ADD_CGM': True, 'Z_STEP': 0.01, 'Z_MIN': 0.01, 'Z_MAX': 20.0, 'TEMP_ERR_FILE': '/nvme/scratch/work/tharvey/EXPANSE/src/EXPANSE/eazy/TEMPLATE_ERROR.eazy_v1.0', 'TEMP_ERR_A2': 0, 'SYS_ERR': 0, 'APPLY_PRIOR': 'n', 'PRIOR_ABZP': 23.9, 'PRIOR_FILTER': 28, 'PRIOR_FILE': '', 'FIX_ZSPEC': False, 'IGM_SCALE_TAU': 1.0, 'N_MIN_COLORS': 2, 'CATALOG_FILE': '/tmp/tmp4sm8bfwh/eazy_input.fits'}\n",
      "Read default param file: /nvme/scratch/software/anaconda3/envs/tharvey_galfind/lib/python3.10/site-packages/eazy/data/zphot.param.default\n",
      "Read CATALOG_FILE: /tmp/tmp4sm8bfwh/eazy_input.fits\n",
      "   >>> NOBJ = 1\n",
      "F22 E22 ( 22): hst/ACS_update_sep07/wfc_f435w_t81.dat\n",
      "F23 E23 ( 23): hst/ACS_update_sep07/wfc_f606w_t81.dat\n",
      "F49 E49 ( 49): hst/ACS_update_sep07/wfc_f775w_t81.dat\n",
      "F24 E24 ( 24): hst/ACS_update_sep07/wfc_f814w_t81.dat\n",
      "F50 E50 ( 50): hst/ACS_update_sep07/wfc_f850lp_t81.dat\n",
      "F1 E1 (  1): jwst_nircam_f090w\n",
      "F2 E2 (  2): jwst_nircam_f115w\n",
      "F3 E3 (  3): jwst_nircam_f150w\n",
      "F38 E38 ( 38): jwst_nircam_f162m\n",
      "F39 E39 ( 39): jwst_nircam_f182m\n",
      "F4 E4 (  4): jwst_nircam_f200w\n",
      "F40 E40 ( 40): jwst_nircam_f210m\n",
      "F41 E41 ( 41): jwst_nircam_f250m\n",
      "F5 E5 (  5): jwst_nircam_f277w\n",
      "F42 E42 ( 42): jwst_nircam_f300m\n",
      "F43 E43 ( 43): jwst_nircam_f335m\n",
      "F6 E6 (  6): jwst_nircam_f356w\n",
      "F7 E7 (  7): jwst_nircam_f410m\n",
      "F8 E8 (  8): jwst_nircam_f444w\n",
      "Set sys_err = 0.00 (positive=True)\n",
      "Template grid: /nvme/scratch/work/tharvey/EAZY/inputs/scripts/templates/LarsonTemplates/tweak_fsps_QSF_12_v3_newtemplates.param (this may take some time)\n"
     ]
    },
    {
     "name": "stderr",
     "output_type": "stream",
     "text": [
      "100%|██████████| 18/18 [00:12<00:00,  1.45it/s]\n"
     ]
    },
    {
     "name": "stdout",
     "output_type": "stream",
     "text": [
      "Template   0: fsps_QSF_12_v3_001.dat (NZ=1).\n",
      "Template   1: fsps_QSF_12_v3_002.dat (NZ=1).\n",
      "Template   2: fsps_QSF_12_v3_003.dat (NZ=1).\n",
      "Template   3: fsps_QSF_12_v3_004.dat (NZ=1).\n",
      "Template   4: fsps_QSF_12_v3_005.dat (NZ=1).\n",
      "Template   5: fsps_QSF_12_v3_006.dat (NZ=1).\n",
      "Template   6: fsps_QSF_12_v3_007.dat (NZ=1).\n",
      "Template   7: fsps_QSF_12_v3_008.dat (NZ=1).\n",
      "Template   8: fsps_QSF_12_v3_009.dat (NZ=1).\n",
      "Template   9: fsps_QSF_12_v3_010.dat (NZ=1).\n",
      "Template  10: fsps_QSF_12_v3_011.dat (NZ=1).\n",
      "Template  11: fsps_QSF_12_v3_012.dat (NZ=1).\n",
      "Template  12: binc100z001age6_cloudy.dat (NZ=1).\n",
      "Template  13: binc100z001age65_cloudy.dat (NZ=1).\n",
      "Template  14: binc100z001age7_cloudy.dat (NZ=1).\n",
      "Template  15: binc100z001age6.dat (NZ=1).\n",
      "Template  16: binc100z001age65.dat (NZ=1).\n",
      "Template  17: binc100z001age7.dat (NZ=1).\n",
      "Process templates: 12.954 s\n"
     ]
    },
    {
     "name": "stderr",
     "output_type": "stream",
     "text": [
      "304it [00:00, 26262.45it/s]"
     ]
    },
    {
     "name": "stdout",
     "output_type": "stream",
     "text": [
      "Saving tempfilt to /nvme/scratch/work/tharvey/EXPANSE/src/EXPANSE/eazy/tempfilt/\n"
     ]
    },
    {
     "name": "stderr",
     "output_type": "stream",
     "text": [
      "\n",
      "100%|██████████| 304/304 [00:00<00:00, 4863.65it/s]\n"
     ]
    },
    {
     "name": "stdout",
     "output_type": "stream",
     "text": [
      "Compute best fits\n",
      "fit_best: 0.0 s (n_proc=1,  NOBJ=1)\n",
      "Fit 0.4 s (n_proc=4, NOBJ=1)\n",
      "Setting meta, id_phot, 0\n",
      "Setting meta, z_best, 7.238846\n",
      "Setting meta, chi2, 14.521999288589905\n",
      "Setting meta, z16, 7.0928383\n",
      "Setting meta, z50, 7.267313\n",
      "Setting meta, z84, 7.4576063\n",
      "Setting meta, flux_unit, uJy\n",
      "Setting meta, wave_unit, Angstrom\n",
      "Setting meta, templates_file, /nvme/scratch/work/tharvey/EAZY/inputs/scripts/templates/LarsonTemplates/tweak_fsps_QSF_12_v3_newtemplates.param\n",
      "Setting meta, z_min, 0.01\n",
      "Setting meta, z_max, 20.0\n",
      "Setting meta, z_step, 0.01\n",
      "Setting meta, region, MAG_APER_0.32 arcsec_fsps_larson_0.05__Asada24_cgm\n",
      " added to <HDF5 file \"JOF_psfmatched_5676.h5\" (mode r+)>, interactive_outputs/MAG_APER_0_32 arcsec_fsps_larson_0_05__Asada24_cgm/, eazy_fit\n",
      " added to <HDF5 file \"JOF_psfmatched_5676.h5\" (mode r+)>, interactive_outputs/MAG_APER_0_32 arcsec_fsps_larson_0_05__Asada24_cgm/, p_z\n",
      " added to <HDF5 file \"JOF_psfmatched_5676.h5\" (mode r+)>, interactive_outputs/MAG_APER_0_32 arcsec_fsps_larson_0_05__Asada24_cgm/, input_flux\n",
      " added to <HDF5 file \"JOF_psfmatched_5676.h5\" (mode r+)>, interactive_outputs/MAG_APER_0_32 arcsec_fsps_larson_0_05__Asada24_cgm/, input_flux_err\n",
      "Zeropoint: 23.9\n",
      "{'TEMPLATES_FILE': '/nvme/scratch/work/tharvey/EAZY/inputs/scripts/templates/LarsonTemplates/tweak_fsps_QSF_12_v3_newtemplates.param', 'FILTERS_RES': '/nvme/scratch/work/tharvey/EXPANSE/src/EXPANSE/eazy/jwst_nircam_FILTER.RES', 'MW_EBV': 0, 'CAT_HAS_EXTCORR': False, 'ADD_CGM': True, 'Z_STEP': 0.01, 'Z_MIN': 0.01, 'Z_MAX': 20.0, 'TEMP_ERR_FILE': '/nvme/scratch/work/tharvey/EXPANSE/src/EXPANSE/eazy/TEMPLATE_ERROR.eazy_v1.0', 'TEMP_ERR_A2': 0, 'SYS_ERR': 0, 'APPLY_PRIOR': 'n', 'PRIOR_ABZP': 23.9, 'PRIOR_FILTER': 28, 'PRIOR_FILE': '', 'FIX_ZSPEC': False, 'IGM_SCALE_TAU': 1.0, 'N_MIN_COLORS': 2, 'CATALOG_FILE': '/tmp/tmp7ybmwrk3/eazy_input.fits'}\n",
      "Read default param file: /nvme/scratch/software/anaconda3/envs/tharvey_galfind/lib/python3.10/site-packages/eazy/data/zphot.param.default\n",
      "Read CATALOG_FILE: /tmp/tmp7ybmwrk3/eazy_input.fits\n",
      "   >>> NOBJ = 1\n",
      "F22 E22 ( 22): hst/ACS_update_sep07/wfc_f435w_t81.dat\n",
      "F23 E23 ( 23): hst/ACS_update_sep07/wfc_f606w_t81.dat\n",
      "F49 E49 ( 49): hst/ACS_update_sep07/wfc_f775w_t81.dat\n",
      "F24 E24 ( 24): hst/ACS_update_sep07/wfc_f814w_t81.dat\n",
      "F50 E50 ( 50): hst/ACS_update_sep07/wfc_f850lp_t81.dat\n",
      "F1 E1 (  1): jwst_nircam_f090w\n",
      "F2 E2 (  2): jwst_nircam_f115w\n",
      "F3 E3 (  3): jwst_nircam_f150w\n",
      "F38 E38 ( 38): jwst_nircam_f162m\n",
      "F39 E39 ( 39): jwst_nircam_f182m\n",
      "F4 E4 (  4): jwst_nircam_f200w\n",
      "F40 E40 ( 40): jwst_nircam_f210m\n",
      "F41 E41 ( 41): jwst_nircam_f250m\n",
      "F5 E5 (  5): jwst_nircam_f277w\n",
      "F42 E42 ( 42): jwst_nircam_f300m\n",
      "F43 E43 ( 43): jwst_nircam_f335m\n",
      "F6 E6 (  6): jwst_nircam_f356w\n",
      "F7 E7 (  7): jwst_nircam_f410m\n",
      "F8 E8 (  8): jwst_nircam_f444w\n",
      "Set sys_err = 0.00 (positive=True)\n",
      "Template grid: /nvme/scratch/work/tharvey/EAZY/inputs/scripts/templates/LarsonTemplates/tweak_fsps_QSF_12_v3_newtemplates.param (this may take some time)\n"
     ]
    },
    {
     "name": "stderr",
     "output_type": "stream",
     "text": [
      "100%|██████████| 18/18 [00:13<00:00,  1.31it/s]\n"
     ]
    },
    {
     "name": "stdout",
     "output_type": "stream",
     "text": [
      "Template   0: fsps_QSF_12_v3_001.dat (NZ=1).\n",
      "Template   1: fsps_QSF_12_v3_002.dat (NZ=1).\n",
      "Template   2: fsps_QSF_12_v3_003.dat (NZ=1).\n",
      "Template   3: fsps_QSF_12_v3_004.dat (NZ=1).\n",
      "Template   4: fsps_QSF_12_v3_005.dat (NZ=1).\n",
      "Template   5: fsps_QSF_12_v3_006.dat (NZ=1).\n",
      "Template   6: fsps_QSF_12_v3_007.dat (NZ=1).\n",
      "Template   7: fsps_QSF_12_v3_008.dat (NZ=1).\n",
      "Template   8: fsps_QSF_12_v3_009.dat (NZ=1).\n",
      "Template   9: fsps_QSF_12_v3_010.dat (NZ=1).\n",
      "Template  10: fsps_QSF_12_v3_011.dat (NZ=1).\n",
      "Template  11: fsps_QSF_12_v3_012.dat (NZ=1).\n",
      "Template  12: binc100z001age6_cloudy.dat (NZ=1).\n",
      "Template  13: binc100z001age65_cloudy.dat (NZ=1).\n",
      "Template  14: binc100z001age7_cloudy.dat (NZ=1).\n",
      "Template  15: binc100z001age6.dat (NZ=1).\n",
      "Template  16: binc100z001age65.dat (NZ=1).\n",
      "Template  17: binc100z001age7.dat (NZ=1).\n",
      "Process templates: 14.277 s\n"
     ]
    },
    {
     "name": "stderr",
     "output_type": "stream",
     "text": [
      "304it [00:00, 27060.60it/s]"
     ]
    },
    {
     "name": "stdout",
     "output_type": "stream",
     "text": [
      "Saving tempfilt to /nvme/scratch/work/tharvey/EXPANSE/src/EXPANSE/eazy/tempfilt/\n"
     ]
    },
    {
     "name": "stderr",
     "output_type": "stream",
     "text": [
      "\n",
      "100%|██████████| 304/304 [00:00<00:00, 4604.07it/s]\n"
     ]
    },
    {
     "name": "stdout",
     "output_type": "stream",
     "text": [
      "Compute best fits\n",
      "fit_best: 0.0 s (n_proc=1,  NOBJ=1)\n",
      "Fit 0.5 s (n_proc=4, NOBJ=1)\n",
      "Setting meta, id_phot, 0\n",
      "Setting meta, z_best, 6.534016\n",
      "Setting meta, chi2, 19.804079154936314\n",
      "Setting meta, z16, 6.469295\n",
      "Setting meta, z50, 6.53881\n",
      "Setting meta, z84, 6.582969\n",
      "Setting meta, flux_unit, uJy\n",
      "Setting meta, wave_unit, Angstrom\n",
      "Setting meta, templates_file, /nvme/scratch/work/tharvey/EAZY/inputs/scripts/templates/LarsonTemplates/tweak_fsps_QSF_12_v3_newtemplates.param\n",
      "Setting meta, z_min, 0.01\n",
      "Setting meta, z_max, 20.0\n",
      "Setting meta, z_step, 0.01\n",
      "Setting meta, region, MAG_APER_0.32 arcsec_fsps_larson_0.05__Asada24_cgm\n",
      " added to <HDF5 file \"JOF_psfmatched_5806.h5\" (mode r+)>, interactive_outputs/MAG_APER_0_32 arcsec_fsps_larson_0_05__Asada24_cgm/, eazy_fit\n",
      " added to <HDF5 file \"JOF_psfmatched_5806.h5\" (mode r+)>, interactive_outputs/MAG_APER_0_32 arcsec_fsps_larson_0_05__Asada24_cgm/, p_z\n",
      " added to <HDF5 file \"JOF_psfmatched_5806.h5\" (mode r+)>, interactive_outputs/MAG_APER_0_32 arcsec_fsps_larson_0_05__Asada24_cgm/, input_flux\n",
      " added to <HDF5 file \"JOF_psfmatched_5806.h5\" (mode r+)>, interactive_outputs/MAG_APER_0_32 arcsec_fsps_larson_0_05__Asada24_cgm/, input_flux_err\n",
      "Zeropoint: 23.9\n",
      "{'TEMPLATES_FILE': '/nvme/scratch/work/tharvey/EAZY/inputs/scripts/templates/LarsonTemplates/tweak_fsps_QSF_12_v3_newtemplates.param', 'FILTERS_RES': '/nvme/scratch/work/tharvey/EXPANSE/src/EXPANSE/eazy/jwst_nircam_FILTER.RES', 'MW_EBV': 0, 'CAT_HAS_EXTCORR': False, 'ADD_CGM': True, 'Z_STEP': 0.01, 'Z_MIN': 0.01, 'Z_MAX': 20.0, 'TEMP_ERR_FILE': '/nvme/scratch/work/tharvey/EXPANSE/src/EXPANSE/eazy/TEMPLATE_ERROR.eazy_v1.0', 'TEMP_ERR_A2': 0, 'SYS_ERR': 0, 'APPLY_PRIOR': 'n', 'PRIOR_ABZP': 23.9, 'PRIOR_FILTER': 28, 'PRIOR_FILE': '', 'FIX_ZSPEC': False, 'IGM_SCALE_TAU': 1.0, 'N_MIN_COLORS': 2, 'CATALOG_FILE': '/tmp/tmpxcsq2fgv/eazy_input.fits'}\n",
      "Read default param file: /nvme/scratch/software/anaconda3/envs/tharvey_galfind/lib/python3.10/site-packages/eazy/data/zphot.param.default\n",
      "Read CATALOG_FILE: /tmp/tmpxcsq2fgv/eazy_input.fits\n",
      "   >>> NOBJ = 1\n",
      "F22 E22 ( 22): hst/ACS_update_sep07/wfc_f435w_t81.dat\n",
      "F23 E23 ( 23): hst/ACS_update_sep07/wfc_f606w_t81.dat\n",
      "F49 E49 ( 49): hst/ACS_update_sep07/wfc_f775w_t81.dat\n",
      "F24 E24 ( 24): hst/ACS_update_sep07/wfc_f814w_t81.dat\n",
      "F50 E50 ( 50): hst/ACS_update_sep07/wfc_f850lp_t81.dat\n",
      "F1 E1 (  1): jwst_nircam_f090w\n",
      "F2 E2 (  2): jwst_nircam_f115w\n",
      "F3 E3 (  3): jwst_nircam_f150w\n",
      "F38 E38 ( 38): jwst_nircam_f162m\n",
      "F39 E39 ( 39): jwst_nircam_f182m\n",
      "F4 E4 (  4): jwst_nircam_f200w\n",
      "F40 E40 ( 40): jwst_nircam_f210m\n",
      "F41 E41 ( 41): jwst_nircam_f250m\n",
      "F5 E5 (  5): jwst_nircam_f277w\n",
      "F42 E42 ( 42): jwst_nircam_f300m\n",
      "F43 E43 ( 43): jwst_nircam_f335m\n",
      "F6 E6 (  6): jwst_nircam_f356w\n",
      "F7 E7 (  7): jwst_nircam_f410m\n",
      "F8 E8 (  8): jwst_nircam_f444w\n",
      "Set sys_err = 0.00 (positive=True)\n",
      "Template grid: /nvme/scratch/work/tharvey/EAZY/inputs/scripts/templates/LarsonTemplates/tweak_fsps_QSF_12_v3_newtemplates.param (this may take some time)\n"
     ]
    },
    {
     "name": "stderr",
     "output_type": "stream",
     "text": [
      "100%|██████████| 18/18 [00:12<00:00,  1.49it/s]\n"
     ]
    },
    {
     "name": "stdout",
     "output_type": "stream",
     "text": [
      "Template   0: fsps_QSF_12_v3_001.dat (NZ=1).\n",
      "Template   1: fsps_QSF_12_v3_002.dat (NZ=1).\n",
      "Template   2: fsps_QSF_12_v3_003.dat (NZ=1).\n",
      "Template   3: fsps_QSF_12_v3_004.dat (NZ=1).\n",
      "Template   4: fsps_QSF_12_v3_005.dat (NZ=1).\n",
      "Template   5: fsps_QSF_12_v3_006.dat (NZ=1).\n",
      "Template   6: fsps_QSF_12_v3_007.dat (NZ=1).\n",
      "Template   7: fsps_QSF_12_v3_008.dat (NZ=1).\n",
      "Template   8: fsps_QSF_12_v3_009.dat (NZ=1).\n",
      "Template   9: fsps_QSF_12_v3_010.dat (NZ=1).\n",
      "Template  10: fsps_QSF_12_v3_011.dat (NZ=1).\n",
      "Template  11: fsps_QSF_12_v3_012.dat (NZ=1).\n",
      "Template  12: binc100z001age6_cloudy.dat (NZ=1).\n",
      "Template  13: binc100z001age65_cloudy.dat (NZ=1).\n",
      "Template  14: binc100z001age7_cloudy.dat (NZ=1).\n",
      "Template  15: binc100z001age6.dat (NZ=1).\n",
      "Template  16: binc100z001age65.dat (NZ=1).\n",
      "Template  17: binc100z001age7.dat (NZ=1).\n",
      "Process templates: 12.551 s\n"
     ]
    },
    {
     "name": "stderr",
     "output_type": "stream",
     "text": [
      "304it [00:00, 21894.47it/s]"
     ]
    },
    {
     "name": "stdout",
     "output_type": "stream",
     "text": [
      "Saving tempfilt to /nvme/scratch/work/tharvey/EXPANSE/src/EXPANSE/eazy/tempfilt/\n"
     ]
    },
    {
     "name": "stderr",
     "output_type": "stream",
     "text": [
      "\n",
      "100%|██████████| 304/304 [00:00<00:00, 5999.73it/s]\n"
     ]
    },
    {
     "name": "stdout",
     "output_type": "stream",
     "text": [
      "Compute best fits\n",
      "fit_best: 0.0 s (n_proc=1,  NOBJ=1)\n",
      "Fit 0.4 s (n_proc=4, NOBJ=1)\n",
      "Setting meta, id_phot, 0\n",
      "Setting meta, z_best, 6.15176\n",
      "Setting meta, chi2, 48.27011275369677\n",
      "Setting meta, z16, 5.8894877\n",
      "Setting meta, z50, 6.109081\n",
      "Setting meta, z84, 6.2469554\n",
      "Setting meta, flux_unit, uJy\n",
      "Setting meta, wave_unit, Angstrom\n",
      "Setting meta, templates_file, /nvme/scratch/work/tharvey/EAZY/inputs/scripts/templates/LarsonTemplates/tweak_fsps_QSF_12_v3_newtemplates.param\n",
      "Setting meta, z_min, 0.01\n",
      "Setting meta, z_max, 20.0\n",
      "Setting meta, z_step, 0.01\n",
      "Setting meta, region, MAG_APER_0.32 arcsec_fsps_larson_0.05__Asada24_cgm\n",
      " added to <HDF5 file \"JOF_psfmatched_5832.h5\" (mode r+)>, interactive_outputs/MAG_APER_0_32 arcsec_fsps_larson_0_05__Asada24_cgm/, eazy_fit\n",
      " added to <HDF5 file \"JOF_psfmatched_5832.h5\" (mode r+)>, interactive_outputs/MAG_APER_0_32 arcsec_fsps_larson_0_05__Asada24_cgm/, p_z\n",
      " added to <HDF5 file \"JOF_psfmatched_5832.h5\" (mode r+)>, interactive_outputs/MAG_APER_0_32 arcsec_fsps_larson_0_05__Asada24_cgm/, input_flux\n",
      " added to <HDF5 file \"JOF_psfmatched_5832.h5\" (mode r+)>, interactive_outputs/MAG_APER_0_32 arcsec_fsps_larson_0_05__Asada24_cgm/, input_flux_err\n",
      "Zeropoint: 23.9\n",
      "{'TEMPLATES_FILE': '/nvme/scratch/work/tharvey/EAZY/inputs/scripts/templates/LarsonTemplates/tweak_fsps_QSF_12_v3_newtemplates.param', 'FILTERS_RES': '/nvme/scratch/work/tharvey/EXPANSE/src/EXPANSE/eazy/jwst_nircam_FILTER.RES', 'MW_EBV': 0, 'CAT_HAS_EXTCORR': False, 'ADD_CGM': True, 'Z_STEP': 0.01, 'Z_MIN': 0.01, 'Z_MAX': 20.0, 'TEMP_ERR_FILE': '/nvme/scratch/work/tharvey/EXPANSE/src/EXPANSE/eazy/TEMPLATE_ERROR.eazy_v1.0', 'TEMP_ERR_A2': 0, 'SYS_ERR': 0, 'APPLY_PRIOR': 'n', 'PRIOR_ABZP': 23.9, 'PRIOR_FILTER': 28, 'PRIOR_FILE': '', 'FIX_ZSPEC': False, 'IGM_SCALE_TAU': 1.0, 'N_MIN_COLORS': 2, 'CATALOG_FILE': '/tmp/tmp4x54lylr/eazy_input.fits'}\n",
      "Read default param file: /nvme/scratch/software/anaconda3/envs/tharvey_galfind/lib/python3.10/site-packages/eazy/data/zphot.param.default\n",
      "Read CATALOG_FILE: /tmp/tmp4x54lylr/eazy_input.fits\n",
      "   >>> NOBJ = 1\n",
      "F22 E22 ( 22): hst/ACS_update_sep07/wfc_f435w_t81.dat\n",
      "F23 E23 ( 23): hst/ACS_update_sep07/wfc_f606w_t81.dat\n",
      "F49 E49 ( 49): hst/ACS_update_sep07/wfc_f775w_t81.dat\n",
      "F24 E24 ( 24): hst/ACS_update_sep07/wfc_f814w_t81.dat\n",
      "F50 E50 ( 50): hst/ACS_update_sep07/wfc_f850lp_t81.dat\n",
      "F1 E1 (  1): jwst_nircam_f090w\n",
      "F2 E2 (  2): jwst_nircam_f115w\n",
      "F3 E3 (  3): jwst_nircam_f150w\n",
      "F38 E38 ( 38): jwst_nircam_f162m\n",
      "F39 E39 ( 39): jwst_nircam_f182m\n",
      "F4 E4 (  4): jwst_nircam_f200w\n",
      "F40 E40 ( 40): jwst_nircam_f210m\n",
      "F41 E41 ( 41): jwst_nircam_f250m\n",
      "F5 E5 (  5): jwst_nircam_f277w\n",
      "F42 E42 ( 42): jwst_nircam_f300m\n",
      "F43 E43 ( 43): jwst_nircam_f335m\n",
      "F6 E6 (  6): jwst_nircam_f356w\n",
      "F7 E7 (  7): jwst_nircam_f410m\n",
      "F8 E8 (  8): jwst_nircam_f444w\n",
      "Set sys_err = 0.00 (positive=True)\n",
      "Template grid: /nvme/scratch/work/tharvey/EAZY/inputs/scripts/templates/LarsonTemplates/tweak_fsps_QSF_12_v3_newtemplates.param (this may take some time)\n"
     ]
    },
    {
     "name": "stderr",
     "output_type": "stream",
     "text": [
      "100%|██████████| 18/18 [00:12<00:00,  1.49it/s]\n"
     ]
    },
    {
     "name": "stdout",
     "output_type": "stream",
     "text": [
      "Template   0: fsps_QSF_12_v3_001.dat (NZ=1).\n",
      "Template   1: fsps_QSF_12_v3_002.dat (NZ=1).\n",
      "Template   2: fsps_QSF_12_v3_003.dat (NZ=1).\n",
      "Template   3: fsps_QSF_12_v3_004.dat (NZ=1).\n",
      "Template   4: fsps_QSF_12_v3_005.dat (NZ=1).\n",
      "Template   5: fsps_QSF_12_v3_006.dat (NZ=1).\n",
      "Template   6: fsps_QSF_12_v3_007.dat (NZ=1).\n",
      "Template   7: fsps_QSF_12_v3_008.dat (NZ=1).\n",
      "Template   8: fsps_QSF_12_v3_009.dat (NZ=1).\n",
      "Template   9: fsps_QSF_12_v3_010.dat (NZ=1).\n",
      "Template  10: fsps_QSF_12_v3_011.dat (NZ=1).\n",
      "Template  11: fsps_QSF_12_v3_012.dat (NZ=1).\n",
      "Template  12: binc100z001age6_cloudy.dat (NZ=1).\n",
      "Template  13: binc100z001age65_cloudy.dat (NZ=1).\n",
      "Template  14: binc100z001age7_cloudy.dat (NZ=1).\n",
      "Template  15: binc100z001age6.dat (NZ=1).\n",
      "Template  16: binc100z001age65.dat (NZ=1).\n",
      "Template  17: binc100z001age7.dat (NZ=1).\n",
      "Process templates: 12.599 s\n"
     ]
    },
    {
     "name": "stderr",
     "output_type": "stream",
     "text": [
      "304it [00:00, 13033.78it/s]\n"
     ]
    },
    {
     "name": "stdout",
     "output_type": "stream",
     "text": [
      "Saving tempfilt to /nvme/scratch/work/tharvey/EXPANSE/src/EXPANSE/eazy/tempfilt/\n"
     ]
    },
    {
     "name": "stderr",
     "output_type": "stream",
     "text": [
      "100%|██████████| 304/304 [00:00<00:00, 4220.32it/s]\n"
     ]
    },
    {
     "name": "stdout",
     "output_type": "stream",
     "text": [
      "Compute best fits\n",
      "fit_best: 0.0 s (n_proc=1,  NOBJ=1)\n",
      "Fit 0.5 s (n_proc=4, NOBJ=1)\n",
      "Setting meta, id_phot, 0\n",
      "Setting meta, z_best, 6.5799956\n",
      "Setting meta, chi2, 20.972889479017446\n",
      "Setting meta, z16, 6.4554186\n",
      "Setting meta, z50, 6.5581584\n",
      "Setting meta, z84, 6.6068068\n",
      "Setting meta, flux_unit, uJy\n",
      "Setting meta, wave_unit, Angstrom\n",
      "Setting meta, templates_file, /nvme/scratch/work/tharvey/EAZY/inputs/scripts/templates/LarsonTemplates/tweak_fsps_QSF_12_v3_newtemplates.param\n",
      "Setting meta, z_min, 0.01\n",
      "Setting meta, z_max, 20.0\n",
      "Setting meta, z_step, 0.01\n",
      "Setting meta, region, MAG_APER_0.32 arcsec_fsps_larson_0.05__Asada24_cgm\n",
      " added to <HDF5 file \"JOF_psfmatched_592.h5\" (mode r+)>, interactive_outputs/MAG_APER_0_32 arcsec_fsps_larson_0_05__Asada24_cgm/, eazy_fit\n",
      " added to <HDF5 file \"JOF_psfmatched_592.h5\" (mode r+)>, interactive_outputs/MAG_APER_0_32 arcsec_fsps_larson_0_05__Asada24_cgm/, p_z\n",
      " added to <HDF5 file \"JOF_psfmatched_592.h5\" (mode r+)>, interactive_outputs/MAG_APER_0_32 arcsec_fsps_larson_0_05__Asada24_cgm/, input_flux\n",
      " added to <HDF5 file \"JOF_psfmatched_592.h5\" (mode r+)>, interactive_outputs/MAG_APER_0_32 arcsec_fsps_larson_0_05__Asada24_cgm/, input_flux_err\n",
      "Zeropoint: 23.9\n",
      "{'TEMPLATES_FILE': '/nvme/scratch/work/tharvey/EAZY/inputs/scripts/templates/LarsonTemplates/tweak_fsps_QSF_12_v3_newtemplates.param', 'FILTERS_RES': '/nvme/scratch/work/tharvey/EXPANSE/src/EXPANSE/eazy/jwst_nircam_FILTER.RES', 'MW_EBV': 0, 'CAT_HAS_EXTCORR': False, 'ADD_CGM': True, 'Z_STEP': 0.01, 'Z_MIN': 0.01, 'Z_MAX': 20.0, 'TEMP_ERR_FILE': '/nvme/scratch/work/tharvey/EXPANSE/src/EXPANSE/eazy/TEMPLATE_ERROR.eazy_v1.0', 'TEMP_ERR_A2': 0, 'SYS_ERR': 0, 'APPLY_PRIOR': 'n', 'PRIOR_ABZP': 23.9, 'PRIOR_FILTER': 28, 'PRIOR_FILE': '', 'FIX_ZSPEC': False, 'IGM_SCALE_TAU': 1.0, 'N_MIN_COLORS': 2, 'CATALOG_FILE': '/tmp/tmp_fo0px0d/eazy_input.fits'}\n",
      "Read default param file: /nvme/scratch/software/anaconda3/envs/tharvey_galfind/lib/python3.10/site-packages/eazy/data/zphot.param.default\n",
      "Read CATALOG_FILE: /tmp/tmp_fo0px0d/eazy_input.fits\n",
      "   >>> NOBJ = 1\n",
      "F22 E22 ( 22): hst/ACS_update_sep07/wfc_f435w_t81.dat\n",
      "F23 E23 ( 23): hst/ACS_update_sep07/wfc_f606w_t81.dat\n",
      "F49 E49 ( 49): hst/ACS_update_sep07/wfc_f775w_t81.dat\n",
      "F24 E24 ( 24): hst/ACS_update_sep07/wfc_f814w_t81.dat\n",
      "F50 E50 ( 50): hst/ACS_update_sep07/wfc_f850lp_t81.dat\n",
      "F1 E1 (  1): jwst_nircam_f090w\n",
      "F2 E2 (  2): jwst_nircam_f115w\n",
      "F3 E3 (  3): jwst_nircam_f150w\n",
      "F38 E38 ( 38): jwst_nircam_f162m\n",
      "F39 E39 ( 39): jwst_nircam_f182m\n",
      "F4 E4 (  4): jwst_nircam_f200w\n",
      "F40 E40 ( 40): jwst_nircam_f210m\n",
      "F41 E41 ( 41): jwst_nircam_f250m\n",
      "F5 E5 (  5): jwst_nircam_f277w\n",
      "F42 E42 ( 42): jwst_nircam_f300m\n",
      "F43 E43 ( 43): jwst_nircam_f335m\n",
      "F6 E6 (  6): jwst_nircam_f356w\n",
      "F7 E7 (  7): jwst_nircam_f410m\n",
      "F8 E8 (  8): jwst_nircam_f444w\n",
      "Set sys_err = 0.00 (positive=True)\n",
      "Template grid: /nvme/scratch/work/tharvey/EAZY/inputs/scripts/templates/LarsonTemplates/tweak_fsps_QSF_12_v3_newtemplates.param (this may take some time)\n"
     ]
    },
    {
     "name": "stderr",
     "output_type": "stream",
     "text": [
      "100%|██████████| 18/18 [00:12<00:00,  1.44it/s]\n"
     ]
    },
    {
     "name": "stdout",
     "output_type": "stream",
     "text": [
      "Template   0: fsps_QSF_12_v3_001.dat (NZ=1).\n",
      "Template   1: fsps_QSF_12_v3_002.dat (NZ=1).\n",
      "Template   2: fsps_QSF_12_v3_003.dat (NZ=1).\n",
      "Template   3: fsps_QSF_12_v3_004.dat (NZ=1).\n",
      "Template   4: fsps_QSF_12_v3_005.dat (NZ=1).\n",
      "Template   5: fsps_QSF_12_v3_006.dat (NZ=1).\n",
      "Template   6: fsps_QSF_12_v3_007.dat (NZ=1).\n",
      "Template   7: fsps_QSF_12_v3_008.dat (NZ=1).\n",
      "Template   8: fsps_QSF_12_v3_009.dat (NZ=1).\n",
      "Template   9: fsps_QSF_12_v3_010.dat (NZ=1).\n",
      "Template  10: fsps_QSF_12_v3_011.dat (NZ=1).\n",
      "Template  11: fsps_QSF_12_v3_012.dat (NZ=1).\n",
      "Template  12: binc100z001age6_cloudy.dat (NZ=1).\n",
      "Template  13: binc100z001age65_cloudy.dat (NZ=1).\n",
      "Template  14: binc100z001age7_cloudy.dat (NZ=1).\n",
      "Template  15: binc100z001age6.dat (NZ=1).\n",
      "Template  16: binc100z001age65.dat (NZ=1).\n",
      "Template  17: binc100z001age7.dat (NZ=1).\n",
      "Process templates: 13.066 s\n"
     ]
    },
    {
     "name": "stderr",
     "output_type": "stream",
     "text": [
      "304it [00:00, 15385.81it/s]\n"
     ]
    },
    {
     "name": "stdout",
     "output_type": "stream",
     "text": [
      "Saving tempfilt to /nvme/scratch/work/tharvey/EXPANSE/src/EXPANSE/eazy/tempfilt/\n"
     ]
    },
    {
     "name": "stderr",
     "output_type": "stream",
     "text": [
      "100%|██████████| 304/304 [00:00<00:00, 5348.26it/s]\n"
     ]
    },
    {
     "name": "stdout",
     "output_type": "stream",
     "text": [
      "Compute best fits\n",
      "fit_best: 0.0 s (n_proc=1,  NOBJ=1)\n",
      "Fit 0.5 s (n_proc=4, NOBJ=1)\n",
      "Setting meta, id_phot, 0\n",
      "Setting meta, z_best, 6.9255075\n",
      "Setting meta, chi2, 19.782713354287274\n",
      "Setting meta, z16, 6.8814\n",
      "Setting meta, z50, 6.9241495\n",
      "Setting meta, z84, 6.9690356\n",
      "Setting meta, flux_unit, uJy\n",
      "Setting meta, wave_unit, Angstrom\n",
      "Setting meta, templates_file, /nvme/scratch/work/tharvey/EAZY/inputs/scripts/templates/LarsonTemplates/tweak_fsps_QSF_12_v3_newtemplates.param\n",
      "Setting meta, z_min, 0.01\n",
      "Setting meta, z_max, 20.0\n",
      "Setting meta, z_step, 0.01\n",
      "Setting meta, region, MAG_APER_0.32 arcsec_fsps_larson_0.05__Asada24_cgm\n",
      " added to <HDF5 file \"JOF_psfmatched_5983.h5\" (mode r+)>, interactive_outputs/MAG_APER_0_32 arcsec_fsps_larson_0_05__Asada24_cgm/, eazy_fit\n",
      " added to <HDF5 file \"JOF_psfmatched_5983.h5\" (mode r+)>, interactive_outputs/MAG_APER_0_32 arcsec_fsps_larson_0_05__Asada24_cgm/, p_z\n",
      " added to <HDF5 file \"JOF_psfmatched_5983.h5\" (mode r+)>, interactive_outputs/MAG_APER_0_32 arcsec_fsps_larson_0_05__Asada24_cgm/, input_flux\n",
      " added to <HDF5 file \"JOF_psfmatched_5983.h5\" (mode r+)>, interactive_outputs/MAG_APER_0_32 arcsec_fsps_larson_0_05__Asada24_cgm/, input_flux_err\n",
      "Zeropoint: 23.9\n",
      "{'TEMPLATES_FILE': '/nvme/scratch/work/tharvey/EAZY/inputs/scripts/templates/LarsonTemplates/tweak_fsps_QSF_12_v3_newtemplates.param', 'FILTERS_RES': '/nvme/scratch/work/tharvey/EXPANSE/src/EXPANSE/eazy/jwst_nircam_FILTER.RES', 'MW_EBV': 0, 'CAT_HAS_EXTCORR': False, 'ADD_CGM': True, 'Z_STEP': 0.01, 'Z_MIN': 0.01, 'Z_MAX': 20.0, 'TEMP_ERR_FILE': '/nvme/scratch/work/tharvey/EXPANSE/src/EXPANSE/eazy/TEMPLATE_ERROR.eazy_v1.0', 'TEMP_ERR_A2': 0, 'SYS_ERR': 0, 'APPLY_PRIOR': 'n', 'PRIOR_ABZP': 23.9, 'PRIOR_FILTER': 28, 'PRIOR_FILE': '', 'FIX_ZSPEC': False, 'IGM_SCALE_TAU': 1.0, 'N_MIN_COLORS': 2, 'CATALOG_FILE': '/tmp/tmpy09kmoct/eazy_input.fits'}\n",
      "Read default param file: /nvme/scratch/software/anaconda3/envs/tharvey_galfind/lib/python3.10/site-packages/eazy/data/zphot.param.default\n",
      "Read CATALOG_FILE: /tmp/tmpy09kmoct/eazy_input.fits\n",
      "   >>> NOBJ = 1\n",
      "F22 E22 ( 22): hst/ACS_update_sep07/wfc_f435w_t81.dat\n",
      "F23 E23 ( 23): hst/ACS_update_sep07/wfc_f606w_t81.dat\n",
      "F49 E49 ( 49): hst/ACS_update_sep07/wfc_f775w_t81.dat\n",
      "F24 E24 ( 24): hst/ACS_update_sep07/wfc_f814w_t81.dat\n",
      "F50 E50 ( 50): hst/ACS_update_sep07/wfc_f850lp_t81.dat\n",
      "F1 E1 (  1): jwst_nircam_f090w\n",
      "F2 E2 (  2): jwst_nircam_f115w\n",
      "F3 E3 (  3): jwst_nircam_f150w\n",
      "F38 E38 ( 38): jwst_nircam_f162m\n",
      "F39 E39 ( 39): jwst_nircam_f182m\n",
      "F4 E4 (  4): jwst_nircam_f200w\n",
      "F40 E40 ( 40): jwst_nircam_f210m\n",
      "F41 E41 ( 41): jwst_nircam_f250m\n",
      "F5 E5 (  5): jwst_nircam_f277w\n",
      "F42 E42 ( 42): jwst_nircam_f300m\n",
      "F43 E43 ( 43): jwst_nircam_f335m\n",
      "F6 E6 (  6): jwst_nircam_f356w\n",
      "F7 E7 (  7): jwst_nircam_f410m\n",
      "F8 E8 (  8): jwst_nircam_f444w\n",
      "Set sys_err = 0.00 (positive=True)\n",
      "Template grid: /nvme/scratch/work/tharvey/EAZY/inputs/scripts/templates/LarsonTemplates/tweak_fsps_QSF_12_v3_newtemplates.param (this may take some time)\n"
     ]
    },
    {
     "name": "stderr",
     "output_type": "stream",
     "text": [
      "100%|██████████| 18/18 [00:12<00:00,  1.48it/s]\n"
     ]
    },
    {
     "name": "stdout",
     "output_type": "stream",
     "text": [
      "Template   0: fsps_QSF_12_v3_001.dat (NZ=1).\n",
      "Template   1: fsps_QSF_12_v3_002.dat (NZ=1).\n",
      "Template   2: fsps_QSF_12_v3_003.dat (NZ=1).\n",
      "Template   3: fsps_QSF_12_v3_004.dat (NZ=1).\n",
      "Template   4: fsps_QSF_12_v3_005.dat (NZ=1).\n",
      "Template   5: fsps_QSF_12_v3_006.dat (NZ=1).\n",
      "Template   6: fsps_QSF_12_v3_007.dat (NZ=1).\n",
      "Template   7: fsps_QSF_12_v3_008.dat (NZ=1).\n",
      "Template   8: fsps_QSF_12_v3_009.dat (NZ=1).\n",
      "Template   9: fsps_QSF_12_v3_010.dat (NZ=1).\n",
      "Template  10: fsps_QSF_12_v3_011.dat (NZ=1).\n",
      "Template  11: fsps_QSF_12_v3_012.dat (NZ=1).\n",
      "Template  12: binc100z001age6_cloudy.dat (NZ=1).\n",
      "Template  13: binc100z001age65_cloudy.dat (NZ=1).\n",
      "Template  14: binc100z001age7_cloudy.dat (NZ=1).\n",
      "Template  15: binc100z001age6.dat (NZ=1).\n",
      "Template  16: binc100z001age65.dat (NZ=1).\n",
      "Template  17: binc100z001age7.dat (NZ=1).\n",
      "Process templates: 12.631 s\n"
     ]
    },
    {
     "name": "stderr",
     "output_type": "stream",
     "text": [
      "304it [00:00, 23415.51it/s]"
     ]
    },
    {
     "name": "stdout",
     "output_type": "stream",
     "text": [
      "Saving tempfilt to /nvme/scratch/work/tharvey/EXPANSE/src/EXPANSE/eazy/tempfilt/\n"
     ]
    },
    {
     "name": "stderr",
     "output_type": "stream",
     "text": [
      "\n",
      "100%|██████████| 304/304 [00:00<00:00, 5205.19it/s]\n"
     ]
    },
    {
     "name": "stdout",
     "output_type": "stream",
     "text": [
      "Compute best fits\n",
      "fit_best: 0.0 s (n_proc=1,  NOBJ=1)\n",
      "Fit 0.5 s (n_proc=4, NOBJ=1)\n",
      "Setting meta, id_phot, 0\n",
      "Setting meta, z_best, 6.067433\n",
      "Setting meta, chi2, 30.626493455129616\n",
      "Setting meta, z16, 6.0045824\n",
      "Setting meta, z50, 6.0608582\n",
      "Setting meta, z84, 6.098741\n",
      "Setting meta, flux_unit, uJy\n",
      "Setting meta, wave_unit, Angstrom\n",
      "Setting meta, templates_file, /nvme/scratch/work/tharvey/EAZY/inputs/scripts/templates/LarsonTemplates/tweak_fsps_QSF_12_v3_newtemplates.param\n",
      "Setting meta, z_min, 0.01\n",
      "Setting meta, z_max, 20.0\n",
      "Setting meta, z_step, 0.01\n",
      "Setting meta, region, MAG_APER_0.32 arcsec_fsps_larson_0.05__Asada24_cgm\n",
      " added to <HDF5 file \"JOF_psfmatched_5990.h5\" (mode r+)>, interactive_outputs/MAG_APER_0_32 arcsec_fsps_larson_0_05__Asada24_cgm/, eazy_fit\n",
      " added to <HDF5 file \"JOF_psfmatched_5990.h5\" (mode r+)>, interactive_outputs/MAG_APER_0_32 arcsec_fsps_larson_0_05__Asada24_cgm/, p_z\n",
      " added to <HDF5 file \"JOF_psfmatched_5990.h5\" (mode r+)>, interactive_outputs/MAG_APER_0_32 arcsec_fsps_larson_0_05__Asada24_cgm/, input_flux\n",
      " added to <HDF5 file \"JOF_psfmatched_5990.h5\" (mode r+)>, interactive_outputs/MAG_APER_0_32 arcsec_fsps_larson_0_05__Asada24_cgm/, input_flux_err\n",
      "Zeropoint: 23.9\n",
      "{'TEMPLATES_FILE': '/nvme/scratch/work/tharvey/EAZY/inputs/scripts/templates/LarsonTemplates/tweak_fsps_QSF_12_v3_newtemplates.param', 'FILTERS_RES': '/nvme/scratch/work/tharvey/EXPANSE/src/EXPANSE/eazy/jwst_nircam_FILTER.RES', 'MW_EBV': 0, 'CAT_HAS_EXTCORR': False, 'ADD_CGM': True, 'Z_STEP': 0.01, 'Z_MIN': 0.01, 'Z_MAX': 20.0, 'TEMP_ERR_FILE': '/nvme/scratch/work/tharvey/EXPANSE/src/EXPANSE/eazy/TEMPLATE_ERROR.eazy_v1.0', 'TEMP_ERR_A2': 0, 'SYS_ERR': 0, 'APPLY_PRIOR': 'n', 'PRIOR_ABZP': 23.9, 'PRIOR_FILTER': 28, 'PRIOR_FILE': '', 'FIX_ZSPEC': False, 'IGM_SCALE_TAU': 1.0, 'N_MIN_COLORS': 2, 'CATALOG_FILE': '/tmp/tmpx6bccan8/eazy_input.fits'}\n",
      "Read default param file: /nvme/scratch/software/anaconda3/envs/tharvey_galfind/lib/python3.10/site-packages/eazy/data/zphot.param.default\n",
      "Read CATALOG_FILE: /tmp/tmpx6bccan8/eazy_input.fits\n",
      "   >>> NOBJ = 1\n",
      "F22 E22 ( 22): hst/ACS_update_sep07/wfc_f435w_t81.dat\n",
      "F23 E23 ( 23): hst/ACS_update_sep07/wfc_f606w_t81.dat\n",
      "F49 E49 ( 49): hst/ACS_update_sep07/wfc_f775w_t81.dat\n",
      "F24 E24 ( 24): hst/ACS_update_sep07/wfc_f814w_t81.dat\n",
      "F50 E50 ( 50): hst/ACS_update_sep07/wfc_f850lp_t81.dat\n",
      "F1 E1 (  1): jwst_nircam_f090w\n",
      "F2 E2 (  2): jwst_nircam_f115w\n",
      "F3 E3 (  3): jwst_nircam_f150w\n",
      "F38 E38 ( 38): jwst_nircam_f162m\n",
      "F39 E39 ( 39): jwst_nircam_f182m\n",
      "F4 E4 (  4): jwst_nircam_f200w\n",
      "F40 E40 ( 40): jwst_nircam_f210m\n",
      "F41 E41 ( 41): jwst_nircam_f250m\n",
      "F5 E5 (  5): jwst_nircam_f277w\n",
      "F42 E42 ( 42): jwst_nircam_f300m\n",
      "F43 E43 ( 43): jwst_nircam_f335m\n",
      "F6 E6 (  6): jwst_nircam_f356w\n",
      "F7 E7 (  7): jwst_nircam_f410m\n",
      "F8 E8 (  8): jwst_nircam_f444w\n",
      "Set sys_err = 0.00 (positive=True)\n",
      "Template grid: /nvme/scratch/work/tharvey/EAZY/inputs/scripts/templates/LarsonTemplates/tweak_fsps_QSF_12_v3_newtemplates.param (this may take some time)\n"
     ]
    },
    {
     "name": "stderr",
     "output_type": "stream",
     "text": [
      "100%|██████████| 18/18 [00:12<00:00,  1.41it/s]\n"
     ]
    },
    {
     "name": "stdout",
     "output_type": "stream",
     "text": [
      "Template   0: fsps_QSF_12_v3_001.dat (NZ=1).\n",
      "Template   1: fsps_QSF_12_v3_002.dat (NZ=1).\n",
      "Template   2: fsps_QSF_12_v3_003.dat (NZ=1).\n",
      "Template   3: fsps_QSF_12_v3_004.dat (NZ=1).\n",
      "Template   4: fsps_QSF_12_v3_005.dat (NZ=1).\n",
      "Template   5: fsps_QSF_12_v3_006.dat (NZ=1).\n",
      "Template   6: fsps_QSF_12_v3_007.dat (NZ=1).\n",
      "Template   7: fsps_QSF_12_v3_008.dat (NZ=1).\n",
      "Template   8: fsps_QSF_12_v3_009.dat (NZ=1).\n",
      "Template   9: fsps_QSF_12_v3_010.dat (NZ=1).\n",
      "Template  10: fsps_QSF_12_v3_011.dat (NZ=1).\n",
      "Template  11: fsps_QSF_12_v3_012.dat (NZ=1).\n",
      "Template  12: binc100z001age6_cloudy.dat (NZ=1).\n",
      "Template  13: binc100z001age65_cloudy.dat (NZ=1).\n",
      "Template  14: binc100z001age7_cloudy.dat (NZ=1).\n",
      "Template  15: binc100z001age6.dat (NZ=1).\n",
      "Template  16: binc100z001age65.dat (NZ=1).\n",
      "Template  17: binc100z001age7.dat (NZ=1).\n",
      "Process templates: 13.372 s\n"
     ]
    },
    {
     "name": "stderr",
     "output_type": "stream",
     "text": [
      "304it [00:00, 25231.89it/s]"
     ]
    },
    {
     "name": "stdout",
     "output_type": "stream",
     "text": [
      "Saving tempfilt to /nvme/scratch/work/tharvey/EXPANSE/src/EXPANSE/eazy/tempfilt/\n"
     ]
    },
    {
     "name": "stderr",
     "output_type": "stream",
     "text": [
      "\n",
      "100%|██████████| 304/304 [00:00<00:00, 4958.40it/s]\n"
     ]
    },
    {
     "name": "stdout",
     "output_type": "stream",
     "text": [
      "Compute best fits\n",
      "fit_best: 0.0 s (n_proc=1,  NOBJ=1)\n",
      "Fit 0.5 s (n_proc=4, NOBJ=1)\n",
      "Setting meta, id_phot, 0\n",
      "Setting meta, z_best, 6.0175056\n",
      "Setting meta, chi2, 11.634610088046198\n",
      "Setting meta, z16, 5.9212413\n",
      "Setting meta, z50, 6.010239\n",
      "Setting meta, z84, 6.065702\n",
      "Setting meta, flux_unit, uJy\n",
      "Setting meta, wave_unit, Angstrom\n",
      "Setting meta, templates_file, /nvme/scratch/work/tharvey/EAZY/inputs/scripts/templates/LarsonTemplates/tweak_fsps_QSF_12_v3_newtemplates.param\n",
      "Setting meta, z_min, 0.01\n",
      "Setting meta, z_max, 20.0\n",
      "Setting meta, z_step, 0.01\n",
      "Setting meta, region, MAG_APER_0.32 arcsec_fsps_larson_0.05__Asada24_cgm\n",
      " added to <HDF5 file \"JOF_psfmatched_6065.h5\" (mode r+)>, interactive_outputs/MAG_APER_0_32 arcsec_fsps_larson_0_05__Asada24_cgm/, eazy_fit\n",
      " added to <HDF5 file \"JOF_psfmatched_6065.h5\" (mode r+)>, interactive_outputs/MAG_APER_0_32 arcsec_fsps_larson_0_05__Asada24_cgm/, p_z\n",
      " added to <HDF5 file \"JOF_psfmatched_6065.h5\" (mode r+)>, interactive_outputs/MAG_APER_0_32 arcsec_fsps_larson_0_05__Asada24_cgm/, input_flux\n",
      " added to <HDF5 file \"JOF_psfmatched_6065.h5\" (mode r+)>, interactive_outputs/MAG_APER_0_32 arcsec_fsps_larson_0_05__Asada24_cgm/, input_flux_err\n",
      "Zeropoint: 23.9\n",
      "{'TEMPLATES_FILE': '/nvme/scratch/work/tharvey/EAZY/inputs/scripts/templates/LarsonTemplates/tweak_fsps_QSF_12_v3_newtemplates.param', 'FILTERS_RES': '/nvme/scratch/work/tharvey/EXPANSE/src/EXPANSE/eazy/jwst_nircam_FILTER.RES', 'MW_EBV': 0, 'CAT_HAS_EXTCORR': False, 'ADD_CGM': True, 'Z_STEP': 0.01, 'Z_MIN': 0.01, 'Z_MAX': 20.0, 'TEMP_ERR_FILE': '/nvme/scratch/work/tharvey/EXPANSE/src/EXPANSE/eazy/TEMPLATE_ERROR.eazy_v1.0', 'TEMP_ERR_A2': 0, 'SYS_ERR': 0, 'APPLY_PRIOR': 'n', 'PRIOR_ABZP': 23.9, 'PRIOR_FILTER': 28, 'PRIOR_FILE': '', 'FIX_ZSPEC': False, 'IGM_SCALE_TAU': 1.0, 'N_MIN_COLORS': 2, 'CATALOG_FILE': '/tmp/tmp087nxxj4/eazy_input.fits'}\n",
      "Read default param file: /nvme/scratch/software/anaconda3/envs/tharvey_galfind/lib/python3.10/site-packages/eazy/data/zphot.param.default\n",
      "Read CATALOG_FILE: /tmp/tmp087nxxj4/eazy_input.fits\n",
      "   >>> NOBJ = 1\n",
      "F22 E22 ( 22): hst/ACS_update_sep07/wfc_f435w_t81.dat\n",
      "F23 E23 ( 23): hst/ACS_update_sep07/wfc_f606w_t81.dat\n",
      "F49 E49 ( 49): hst/ACS_update_sep07/wfc_f775w_t81.dat\n",
      "F24 E24 ( 24): hst/ACS_update_sep07/wfc_f814w_t81.dat\n",
      "F50 E50 ( 50): hst/ACS_update_sep07/wfc_f850lp_t81.dat\n",
      "F1 E1 (  1): jwst_nircam_f090w\n",
      "F2 E2 (  2): jwst_nircam_f115w\n",
      "F3 E3 (  3): jwst_nircam_f150w\n",
      "F38 E38 ( 38): jwst_nircam_f162m\n",
      "F39 E39 ( 39): jwst_nircam_f182m\n",
      "F4 E4 (  4): jwst_nircam_f200w\n",
      "F40 E40 ( 40): jwst_nircam_f210m\n",
      "F41 E41 ( 41): jwst_nircam_f250m\n",
      "F5 E5 (  5): jwst_nircam_f277w\n",
      "F42 E42 ( 42): jwst_nircam_f300m\n",
      "F43 E43 ( 43): jwst_nircam_f335m\n",
      "F6 E6 (  6): jwst_nircam_f356w\n",
      "F7 E7 (  7): jwst_nircam_f410m\n",
      "F8 E8 (  8): jwst_nircam_f444w\n",
      "Set sys_err = 0.00 (positive=True)\n",
      "Template grid: /nvme/scratch/work/tharvey/EAZY/inputs/scripts/templates/LarsonTemplates/tweak_fsps_QSF_12_v3_newtemplates.param (this may take some time)\n"
     ]
    },
    {
     "name": "stderr",
     "output_type": "stream",
     "text": [
      "100%|██████████| 18/18 [00:12<00:00,  1.43it/s]\n"
     ]
    },
    {
     "name": "stdout",
     "output_type": "stream",
     "text": [
      "Template   0: fsps_QSF_12_v3_001.dat (NZ=1).\n",
      "Template   1: fsps_QSF_12_v3_002.dat (NZ=1).\n",
      "Template   2: fsps_QSF_12_v3_003.dat (NZ=1).\n",
      "Template   3: fsps_QSF_12_v3_004.dat (NZ=1).\n",
      "Template   4: fsps_QSF_12_v3_005.dat (NZ=1).\n",
      "Template   5: fsps_QSF_12_v3_006.dat (NZ=1).\n",
      "Template   6: fsps_QSF_12_v3_007.dat (NZ=1).\n",
      "Template   7: fsps_QSF_12_v3_008.dat (NZ=1).\n",
      "Template   8: fsps_QSF_12_v3_009.dat (NZ=1).\n",
      "Template   9: fsps_QSF_12_v3_010.dat (NZ=1).\n",
      "Template  10: fsps_QSF_12_v3_011.dat (NZ=1).\n",
      "Template  11: fsps_QSF_12_v3_012.dat (NZ=1).\n",
      "Template  12: binc100z001age6_cloudy.dat (NZ=1).\n",
      "Template  13: binc100z001age65_cloudy.dat (NZ=1).\n",
      "Template  14: binc100z001age7_cloudy.dat (NZ=1).\n",
      "Template  15: binc100z001age6.dat (NZ=1).\n",
      "Template  16: binc100z001age65.dat (NZ=1).\n",
      "Template  17: binc100z001age7.dat (NZ=1).\n",
      "Process templates: 13.167 s\n"
     ]
    },
    {
     "name": "stderr",
     "output_type": "stream",
     "text": [
      "304it [00:00, 25951.89it/s]"
     ]
    },
    {
     "name": "stdout",
     "output_type": "stream",
     "text": [
      "Saving tempfilt to /nvme/scratch/work/tharvey/EXPANSE/src/EXPANSE/eazy/tempfilt/\n"
     ]
    },
    {
     "name": "stderr",
     "output_type": "stream",
     "text": [
      "\n",
      "100%|██████████| 304/304 [00:00<00:00, 4708.61it/s]\n"
     ]
    },
    {
     "name": "stdout",
     "output_type": "stream",
     "text": [
      "Compute best fits\n",
      "fit_best: 0.0 s (n_proc=1,  NOBJ=1)\n",
      "Fit 0.4 s (n_proc=4, NOBJ=1)\n",
      "Setting meta, id_phot, 0\n",
      "Setting meta, z_best, 4.5192533\n",
      "Setting meta, chi2, 8.047700154863563\n",
      "Setting meta, z16, 4.454782\n",
      "Setting meta, z50, 4.516508\n",
      "Setting meta, z84, 4.576175\n",
      "Setting meta, flux_unit, uJy\n",
      "Setting meta, wave_unit, Angstrom\n",
      "Setting meta, templates_file, /nvme/scratch/work/tharvey/EAZY/inputs/scripts/templates/LarsonTemplates/tweak_fsps_QSF_12_v3_newtemplates.param\n",
      "Setting meta, z_min, 0.01\n",
      "Setting meta, z_max, 20.0\n",
      "Setting meta, z_step, 0.01\n",
      "Setting meta, region, MAG_APER_0.32 arcsec_fsps_larson_0.05__Asada24_cgm\n",
      " added to <HDF5 file \"JOF_psfmatched_6074.h5\" (mode r+)>, interactive_outputs/MAG_APER_0_32 arcsec_fsps_larson_0_05__Asada24_cgm/, eazy_fit\n",
      " added to <HDF5 file \"JOF_psfmatched_6074.h5\" (mode r+)>, interactive_outputs/MAG_APER_0_32 arcsec_fsps_larson_0_05__Asada24_cgm/, p_z\n",
      " added to <HDF5 file \"JOF_psfmatched_6074.h5\" (mode r+)>, interactive_outputs/MAG_APER_0_32 arcsec_fsps_larson_0_05__Asada24_cgm/, input_flux\n",
      " added to <HDF5 file \"JOF_psfmatched_6074.h5\" (mode r+)>, interactive_outputs/MAG_APER_0_32 arcsec_fsps_larson_0_05__Asada24_cgm/, input_flux_err\n",
      "Zeropoint: 23.9\n",
      "{'TEMPLATES_FILE': '/nvme/scratch/work/tharvey/EAZY/inputs/scripts/templates/LarsonTemplates/tweak_fsps_QSF_12_v3_newtemplates.param', 'FILTERS_RES': '/nvme/scratch/work/tharvey/EXPANSE/src/EXPANSE/eazy/jwst_nircam_FILTER.RES', 'MW_EBV': 0, 'CAT_HAS_EXTCORR': False, 'ADD_CGM': True, 'Z_STEP': 0.01, 'Z_MIN': 0.01, 'Z_MAX': 20.0, 'TEMP_ERR_FILE': '/nvme/scratch/work/tharvey/EXPANSE/src/EXPANSE/eazy/TEMPLATE_ERROR.eazy_v1.0', 'TEMP_ERR_A2': 0, 'SYS_ERR': 0, 'APPLY_PRIOR': 'n', 'PRIOR_ABZP': 23.9, 'PRIOR_FILTER': 28, 'PRIOR_FILE': '', 'FIX_ZSPEC': False, 'IGM_SCALE_TAU': 1.0, 'N_MIN_COLORS': 2, 'CATALOG_FILE': '/tmp/tmp4_5vbsn_/eazy_input.fits'}\n",
      "Read default param file: /nvme/scratch/software/anaconda3/envs/tharvey_galfind/lib/python3.10/site-packages/eazy/data/zphot.param.default\n",
      "Read CATALOG_FILE: /tmp/tmp4_5vbsn_/eazy_input.fits\n",
      "   >>> NOBJ = 1\n",
      "F22 E22 ( 22): hst/ACS_update_sep07/wfc_f435w_t81.dat\n",
      "F23 E23 ( 23): hst/ACS_update_sep07/wfc_f606w_t81.dat\n",
      "F49 E49 ( 49): hst/ACS_update_sep07/wfc_f775w_t81.dat\n",
      "F24 E24 ( 24): hst/ACS_update_sep07/wfc_f814w_t81.dat\n",
      "F50 E50 ( 50): hst/ACS_update_sep07/wfc_f850lp_t81.dat\n",
      "F1 E1 (  1): jwst_nircam_f090w\n",
      "F2 E2 (  2): jwst_nircam_f115w\n",
      "F3 E3 (  3): jwst_nircam_f150w\n",
      "F38 E38 ( 38): jwst_nircam_f162m\n",
      "F39 E39 ( 39): jwst_nircam_f182m\n",
      "F4 E4 (  4): jwst_nircam_f200w\n",
      "F40 E40 ( 40): jwst_nircam_f210m\n",
      "F41 E41 ( 41): jwst_nircam_f250m\n",
      "F5 E5 (  5): jwst_nircam_f277w\n",
      "F42 E42 ( 42): jwst_nircam_f300m\n",
      "F43 E43 ( 43): jwst_nircam_f335m\n",
      "F6 E6 (  6): jwst_nircam_f356w\n",
      "F7 E7 (  7): jwst_nircam_f410m\n",
      "F8 E8 (  8): jwst_nircam_f444w\n",
      "Set sys_err = 0.00 (positive=True)\n",
      "Template grid: /nvme/scratch/work/tharvey/EAZY/inputs/scripts/templates/LarsonTemplates/tweak_fsps_QSF_12_v3_newtemplates.param (this may take some time)\n"
     ]
    },
    {
     "name": "stderr",
     "output_type": "stream",
     "text": [
      "100%|██████████| 18/18 [00:12<00:00,  1.45it/s]\n"
     ]
    },
    {
     "name": "stdout",
     "output_type": "stream",
     "text": [
      "Template   0: fsps_QSF_12_v3_001.dat (NZ=1).\n",
      "Template   1: fsps_QSF_12_v3_002.dat (NZ=1).\n",
      "Template   2: fsps_QSF_12_v3_003.dat (NZ=1).\n",
      "Template   3: fsps_QSF_12_v3_004.dat (NZ=1).\n",
      "Template   4: fsps_QSF_12_v3_005.dat (NZ=1).\n",
      "Template   5: fsps_QSF_12_v3_006.dat (NZ=1).\n",
      "Template   6: fsps_QSF_12_v3_007.dat (NZ=1).\n",
      "Template   7: fsps_QSF_12_v3_008.dat (NZ=1).\n",
      "Template   8: fsps_QSF_12_v3_009.dat (NZ=1).\n",
      "Template   9: fsps_QSF_12_v3_010.dat (NZ=1).\n",
      "Template  10: fsps_QSF_12_v3_011.dat (NZ=1).\n",
      "Template  11: fsps_QSF_12_v3_012.dat (NZ=1).\n",
      "Template  12: binc100z001age6_cloudy.dat (NZ=1).\n",
      "Template  13: binc100z001age65_cloudy.dat (NZ=1).\n",
      "Template  14: binc100z001age7_cloudy.dat (NZ=1).\n",
      "Template  15: binc100z001age6.dat (NZ=1).\n",
      "Template  16: binc100z001age65.dat (NZ=1).\n",
      "Template  17: binc100z001age7.dat (NZ=1).\n",
      "Process templates: 12.908 s\n"
     ]
    },
    {
     "name": "stderr",
     "output_type": "stream",
     "text": [
      "304it [00:00, 27206.10it/s]"
     ]
    },
    {
     "name": "stdout",
     "output_type": "stream",
     "text": [
      "Saving tempfilt to /nvme/scratch/work/tharvey/EXPANSE/src/EXPANSE/eazy/tempfilt/\n"
     ]
    },
    {
     "name": "stderr",
     "output_type": "stream",
     "text": [
      "\n",
      "100%|██████████| 304/304 [00:00<00:00, 3747.70it/s]\n"
     ]
    },
    {
     "name": "stdout",
     "output_type": "stream",
     "text": [
      "Compute best fits\n",
      "fit_best: 0.0 s (n_proc=1,  NOBJ=1)\n",
      "Fit 0.4 s (n_proc=4, NOBJ=1)\n",
      "Setting meta, id_phot, 0\n",
      "Setting meta, z_best, 8.230123\n",
      "Setting meta, chi2, 22.808197235543904\n",
      "Setting meta, z16, 8.129119\n",
      "Setting meta, z50, 8.228667\n",
      "Setting meta, z84, 8.320349\n",
      "Setting meta, flux_unit, uJy\n",
      "Setting meta, wave_unit, Angstrom\n",
      "Setting meta, templates_file, /nvme/scratch/work/tharvey/EAZY/inputs/scripts/templates/LarsonTemplates/tweak_fsps_QSF_12_v3_newtemplates.param\n",
      "Setting meta, z_min, 0.01\n",
      "Setting meta, z_max, 20.0\n",
      "Setting meta, z_step, 0.01\n",
      "Setting meta, region, MAG_APER_0.32 arcsec_fsps_larson_0.05__Asada24_cgm\n",
      " added to <HDF5 file \"JOF_psfmatched_6108.h5\" (mode r+)>, interactive_outputs/MAG_APER_0_32 arcsec_fsps_larson_0_05__Asada24_cgm/, eazy_fit\n",
      " added to <HDF5 file \"JOF_psfmatched_6108.h5\" (mode r+)>, interactive_outputs/MAG_APER_0_32 arcsec_fsps_larson_0_05__Asada24_cgm/, p_z\n",
      " added to <HDF5 file \"JOF_psfmatched_6108.h5\" (mode r+)>, interactive_outputs/MAG_APER_0_32 arcsec_fsps_larson_0_05__Asada24_cgm/, input_flux\n",
      " added to <HDF5 file \"JOF_psfmatched_6108.h5\" (mode r+)>, interactive_outputs/MAG_APER_0_32 arcsec_fsps_larson_0_05__Asada24_cgm/, input_flux_err\n",
      "Zeropoint: 23.9\n",
      "{'TEMPLATES_FILE': '/nvme/scratch/work/tharvey/EAZY/inputs/scripts/templates/LarsonTemplates/tweak_fsps_QSF_12_v3_newtemplates.param', 'FILTERS_RES': '/nvme/scratch/work/tharvey/EXPANSE/src/EXPANSE/eazy/jwst_nircam_FILTER.RES', 'MW_EBV': 0, 'CAT_HAS_EXTCORR': False, 'ADD_CGM': True, 'Z_STEP': 0.01, 'Z_MIN': 0.01, 'Z_MAX': 20.0, 'TEMP_ERR_FILE': '/nvme/scratch/work/tharvey/EXPANSE/src/EXPANSE/eazy/TEMPLATE_ERROR.eazy_v1.0', 'TEMP_ERR_A2': 0, 'SYS_ERR': 0, 'APPLY_PRIOR': 'n', 'PRIOR_ABZP': 23.9, 'PRIOR_FILTER': 28, 'PRIOR_FILE': '', 'FIX_ZSPEC': False, 'IGM_SCALE_TAU': 1.0, 'N_MIN_COLORS': 2, 'CATALOG_FILE': '/tmp/tmpnbm9n47c/eazy_input.fits'}\n",
      "Read default param file: /nvme/scratch/software/anaconda3/envs/tharvey_galfind/lib/python3.10/site-packages/eazy/data/zphot.param.default\n",
      "Read CATALOG_FILE: /tmp/tmpnbm9n47c/eazy_input.fits\n",
      "   >>> NOBJ = 1\n",
      "F22 E22 ( 22): hst/ACS_update_sep07/wfc_f435w_t81.dat\n",
      "F23 E23 ( 23): hst/ACS_update_sep07/wfc_f606w_t81.dat\n",
      "F49 E49 ( 49): hst/ACS_update_sep07/wfc_f775w_t81.dat\n",
      "F24 E24 ( 24): hst/ACS_update_sep07/wfc_f814w_t81.dat\n",
      "F50 E50 ( 50): hst/ACS_update_sep07/wfc_f850lp_t81.dat\n",
      "F1 E1 (  1): jwst_nircam_f090w\n",
      "F2 E2 (  2): jwst_nircam_f115w\n",
      "F3 E3 (  3): jwst_nircam_f150w\n",
      "F38 E38 ( 38): jwst_nircam_f162m\n",
      "F39 E39 ( 39): jwst_nircam_f182m\n",
      "F4 E4 (  4): jwst_nircam_f200w\n",
      "F40 E40 ( 40): jwst_nircam_f210m\n",
      "F41 E41 ( 41): jwst_nircam_f250m\n",
      "F5 E5 (  5): jwst_nircam_f277w\n",
      "F42 E42 ( 42): jwst_nircam_f300m\n",
      "F43 E43 ( 43): jwst_nircam_f335m\n",
      "F6 E6 (  6): jwst_nircam_f356w\n",
      "F7 E7 (  7): jwst_nircam_f410m\n",
      "F8 E8 (  8): jwst_nircam_f444w\n",
      "Set sys_err = 0.00 (positive=True)\n",
      "Template grid: /nvme/scratch/work/tharvey/EAZY/inputs/scripts/templates/LarsonTemplates/tweak_fsps_QSF_12_v3_newtemplates.param (this may take some time)\n"
     ]
    },
    {
     "name": "stderr",
     "output_type": "stream",
     "text": [
      "100%|██████████| 18/18 [00:12<00:00,  1.44it/s]\n"
     ]
    },
    {
     "name": "stdout",
     "output_type": "stream",
     "text": [
      "Template   0: fsps_QSF_12_v3_001.dat (NZ=1).\n",
      "Template   1: fsps_QSF_12_v3_002.dat (NZ=1).\n",
      "Template   2: fsps_QSF_12_v3_003.dat (NZ=1).\n",
      "Template   3: fsps_QSF_12_v3_004.dat (NZ=1).\n",
      "Template   4: fsps_QSF_12_v3_005.dat (NZ=1).\n",
      "Template   5: fsps_QSF_12_v3_006.dat (NZ=1).\n",
      "Template   6: fsps_QSF_12_v3_007.dat (NZ=1).\n",
      "Template   7: fsps_QSF_12_v3_008.dat (NZ=1).\n",
      "Template   8: fsps_QSF_12_v3_009.dat (NZ=1).\n",
      "Template   9: fsps_QSF_12_v3_010.dat (NZ=1).\n",
      "Template  10: fsps_QSF_12_v3_011.dat (NZ=1).\n",
      "Template  11: fsps_QSF_12_v3_012.dat (NZ=1).\n",
      "Template  12: binc100z001age6_cloudy.dat (NZ=1).\n",
      "Template  13: binc100z001age65_cloudy.dat (NZ=1).\n",
      "Template  14: binc100z001age7_cloudy.dat (NZ=1).\n",
      "Template  15: binc100z001age6.dat (NZ=1).\n",
      "Template  16: binc100z001age65.dat (NZ=1).\n",
      "Template  17: binc100z001age7.dat (NZ=1).\n",
      "Process templates: 13.059 s\n"
     ]
    },
    {
     "name": "stderr",
     "output_type": "stream",
     "text": [
      "304it [00:00, 26600.50it/s]"
     ]
    },
    {
     "name": "stdout",
     "output_type": "stream",
     "text": [
      "Saving tempfilt to /nvme/scratch/work/tharvey/EXPANSE/src/EXPANSE/eazy/tempfilt/\n"
     ]
    },
    {
     "name": "stderr",
     "output_type": "stream",
     "text": [
      "\n",
      "100%|██████████| 304/304 [00:00<00:00, 4577.50it/s]\n"
     ]
    },
    {
     "name": "stdout",
     "output_type": "stream",
     "text": [
      "Compute best fits\n",
      "fit_best: 0.0 s (n_proc=1,  NOBJ=1)\n",
      "Fit 0.4 s (n_proc=4, NOBJ=1)\n",
      "Setting meta, id_phot, 0\n",
      "Setting meta, z_best, 6.6835113\n",
      "Setting meta, chi2, 16.745907529347942\n",
      "Setting meta, z16, 6.553141\n",
      "Setting meta, z50, 6.6788464\n",
      "Setting meta, z84, 6.7989516\n",
      "Setting meta, flux_unit, uJy\n",
      "Setting meta, wave_unit, Angstrom\n",
      "Setting meta, templates_file, /nvme/scratch/work/tharvey/EAZY/inputs/scripts/templates/LarsonTemplates/tweak_fsps_QSF_12_v3_newtemplates.param\n",
      "Setting meta, z_min, 0.01\n",
      "Setting meta, z_max, 20.0\n",
      "Setting meta, z_step, 0.01\n",
      "Setting meta, region, MAG_APER_0.32 arcsec_fsps_larson_0.05__Asada24_cgm\n",
      " added to <HDF5 file \"JOF_psfmatched_615.h5\" (mode r+)>, interactive_outputs/MAG_APER_0_32 arcsec_fsps_larson_0_05__Asada24_cgm/, eazy_fit\n",
      " added to <HDF5 file \"JOF_psfmatched_615.h5\" (mode r+)>, interactive_outputs/MAG_APER_0_32 arcsec_fsps_larson_0_05__Asada24_cgm/, p_z\n",
      " added to <HDF5 file \"JOF_psfmatched_615.h5\" (mode r+)>, interactive_outputs/MAG_APER_0_32 arcsec_fsps_larson_0_05__Asada24_cgm/, input_flux\n",
      " added to <HDF5 file \"JOF_psfmatched_615.h5\" (mode r+)>, interactive_outputs/MAG_APER_0_32 arcsec_fsps_larson_0_05__Asada24_cgm/, input_flux_err\n",
      "Zeropoint: 23.9\n",
      "{'TEMPLATES_FILE': '/nvme/scratch/work/tharvey/EAZY/inputs/scripts/templates/LarsonTemplates/tweak_fsps_QSF_12_v3_newtemplates.param', 'FILTERS_RES': '/nvme/scratch/work/tharvey/EXPANSE/src/EXPANSE/eazy/jwst_nircam_FILTER.RES', 'MW_EBV': 0, 'CAT_HAS_EXTCORR': False, 'ADD_CGM': True, 'Z_STEP': 0.01, 'Z_MIN': 0.01, 'Z_MAX': 20.0, 'TEMP_ERR_FILE': '/nvme/scratch/work/tharvey/EXPANSE/src/EXPANSE/eazy/TEMPLATE_ERROR.eazy_v1.0', 'TEMP_ERR_A2': 0, 'SYS_ERR': 0, 'APPLY_PRIOR': 'n', 'PRIOR_ABZP': 23.9, 'PRIOR_FILTER': 28, 'PRIOR_FILE': '', 'FIX_ZSPEC': False, 'IGM_SCALE_TAU': 1.0, 'N_MIN_COLORS': 2, 'CATALOG_FILE': '/tmp/tmppwachebn/eazy_input.fits'}\n",
      "Read default param file: /nvme/scratch/software/anaconda3/envs/tharvey_galfind/lib/python3.10/site-packages/eazy/data/zphot.param.default\n",
      "Read CATALOG_FILE: /tmp/tmppwachebn/eazy_input.fits\n",
      "   >>> NOBJ = 1\n",
      "F22 E22 ( 22): hst/ACS_update_sep07/wfc_f435w_t81.dat\n",
      "F23 E23 ( 23): hst/ACS_update_sep07/wfc_f606w_t81.dat\n",
      "F49 E49 ( 49): hst/ACS_update_sep07/wfc_f775w_t81.dat\n",
      "F24 E24 ( 24): hst/ACS_update_sep07/wfc_f814w_t81.dat\n",
      "F50 E50 ( 50): hst/ACS_update_sep07/wfc_f850lp_t81.dat\n",
      "F1 E1 (  1): jwst_nircam_f090w\n",
      "F2 E2 (  2): jwst_nircam_f115w\n",
      "F3 E3 (  3): jwst_nircam_f150w\n",
      "F38 E38 ( 38): jwst_nircam_f162m\n",
      "F39 E39 ( 39): jwst_nircam_f182m\n",
      "F4 E4 (  4): jwst_nircam_f200w\n",
      "F40 E40 ( 40): jwst_nircam_f210m\n",
      "F41 E41 ( 41): jwst_nircam_f250m\n",
      "F5 E5 (  5): jwst_nircam_f277w\n",
      "F42 E42 ( 42): jwst_nircam_f300m\n",
      "F43 E43 ( 43): jwst_nircam_f335m\n",
      "F6 E6 (  6): jwst_nircam_f356w\n",
      "F7 E7 (  7): jwst_nircam_f410m\n",
      "F8 E8 (  8): jwst_nircam_f444w\n",
      "Set sys_err = 0.00 (positive=True)\n",
      "Template grid: /nvme/scratch/work/tharvey/EAZY/inputs/scripts/templates/LarsonTemplates/tweak_fsps_QSF_12_v3_newtemplates.param (this may take some time)\n"
     ]
    },
    {
     "name": "stderr",
     "output_type": "stream",
     "text": [
      "100%|██████████| 18/18 [00:11<00:00,  1.52it/s]\n"
     ]
    },
    {
     "name": "stdout",
     "output_type": "stream",
     "text": [
      "Template   0: fsps_QSF_12_v3_001.dat (NZ=1).\n",
      "Template   1: fsps_QSF_12_v3_002.dat (NZ=1).\n",
      "Template   2: fsps_QSF_12_v3_003.dat (NZ=1).\n",
      "Template   3: fsps_QSF_12_v3_004.dat (NZ=1).\n",
      "Template   4: fsps_QSF_12_v3_005.dat (NZ=1).\n",
      "Template   5: fsps_QSF_12_v3_006.dat (NZ=1).\n",
      "Template   6: fsps_QSF_12_v3_007.dat (NZ=1).\n",
      "Template   7: fsps_QSF_12_v3_008.dat (NZ=1).\n",
      "Template   8: fsps_QSF_12_v3_009.dat (NZ=1).\n",
      "Template   9: fsps_QSF_12_v3_010.dat (NZ=1).\n",
      "Template  10: fsps_QSF_12_v3_011.dat (NZ=1).\n",
      "Template  11: fsps_QSF_12_v3_012.dat (NZ=1).\n",
      "Template  12: binc100z001age6_cloudy.dat (NZ=1).\n",
      "Template  13: binc100z001age65_cloudy.dat (NZ=1).\n",
      "Template  14: binc100z001age7_cloudy.dat (NZ=1).\n",
      "Template  15: binc100z001age6.dat (NZ=1).\n",
      "Template  16: binc100z001age65.dat (NZ=1).\n",
      "Template  17: binc100z001age7.dat (NZ=1).\n",
      "Process templates: 12.313 s\n"
     ]
    },
    {
     "name": "stderr",
     "output_type": "stream",
     "text": [
      "304it [00:00, 25497.80it/s]"
     ]
    },
    {
     "name": "stdout",
     "output_type": "stream",
     "text": [
      "Saving tempfilt to /nvme/scratch/work/tharvey/EXPANSE/src/EXPANSE/eazy/tempfilt/\n"
     ]
    },
    {
     "name": "stderr",
     "output_type": "stream",
     "text": [
      "\n",
      "100%|██████████| 304/304 [00:00<00:00, 5061.36it/s]\n"
     ]
    },
    {
     "name": "stdout",
     "output_type": "stream",
     "text": [
      "Compute best fits\n",
      "fit_best: 0.0 s (n_proc=1,  NOBJ=1)\n",
      "Fit 0.5 s (n_proc=4, NOBJ=1)\n",
      "Setting meta, id_phot, 0\n",
      "Setting meta, z_best, 7.9954515\n",
      "Setting meta, chi2, 26.50303163200643\n",
      "Setting meta, z16, 7.897574\n",
      "Setting meta, z50, 8.011927\n",
      "Setting meta, z84, 8.16277\n",
      "Setting meta, flux_unit, uJy\n",
      "Setting meta, wave_unit, Angstrom\n",
      "Setting meta, templates_file, /nvme/scratch/work/tharvey/EAZY/inputs/scripts/templates/LarsonTemplates/tweak_fsps_QSF_12_v3_newtemplates.param\n",
      "Setting meta, z_min, 0.01\n",
      "Setting meta, z_max, 20.0\n",
      "Setting meta, z_step, 0.01\n",
      "Setting meta, region, MAG_APER_0.32 arcsec_fsps_larson_0.05__Asada24_cgm\n",
      " added to <HDF5 file \"JOF_psfmatched_6157.h5\" (mode r+)>, interactive_outputs/MAG_APER_0_32 arcsec_fsps_larson_0_05__Asada24_cgm/, eazy_fit\n",
      " added to <HDF5 file \"JOF_psfmatched_6157.h5\" (mode r+)>, interactive_outputs/MAG_APER_0_32 arcsec_fsps_larson_0_05__Asada24_cgm/, p_z\n",
      " added to <HDF5 file \"JOF_psfmatched_6157.h5\" (mode r+)>, interactive_outputs/MAG_APER_0_32 arcsec_fsps_larson_0_05__Asada24_cgm/, input_flux\n",
      " added to <HDF5 file \"JOF_psfmatched_6157.h5\" (mode r+)>, interactive_outputs/MAG_APER_0_32 arcsec_fsps_larson_0_05__Asada24_cgm/, input_flux_err\n",
      "Zeropoint: 23.9\n",
      "{'TEMPLATES_FILE': '/nvme/scratch/work/tharvey/EAZY/inputs/scripts/templates/LarsonTemplates/tweak_fsps_QSF_12_v3_newtemplates.param', 'FILTERS_RES': '/nvme/scratch/work/tharvey/EXPANSE/src/EXPANSE/eazy/jwst_nircam_FILTER.RES', 'MW_EBV': 0, 'CAT_HAS_EXTCORR': False, 'ADD_CGM': True, 'Z_STEP': 0.01, 'Z_MIN': 0.01, 'Z_MAX': 20.0, 'TEMP_ERR_FILE': '/nvme/scratch/work/tharvey/EXPANSE/src/EXPANSE/eazy/TEMPLATE_ERROR.eazy_v1.0', 'TEMP_ERR_A2': 0, 'SYS_ERR': 0, 'APPLY_PRIOR': 'n', 'PRIOR_ABZP': 23.9, 'PRIOR_FILTER': 28, 'PRIOR_FILE': '', 'FIX_ZSPEC': False, 'IGM_SCALE_TAU': 1.0, 'N_MIN_COLORS': 2, 'CATALOG_FILE': '/tmp/tmpln9jfscd/eazy_input.fits'}\n",
      "Read default param file: /nvme/scratch/software/anaconda3/envs/tharvey_galfind/lib/python3.10/site-packages/eazy/data/zphot.param.default\n",
      "Read CATALOG_FILE: /tmp/tmpln9jfscd/eazy_input.fits\n",
      "   >>> NOBJ = 1\n",
      "F22 E22 ( 22): hst/ACS_update_sep07/wfc_f435w_t81.dat\n",
      "F23 E23 ( 23): hst/ACS_update_sep07/wfc_f606w_t81.dat\n",
      "F49 E49 ( 49): hst/ACS_update_sep07/wfc_f775w_t81.dat\n",
      "F24 E24 ( 24): hst/ACS_update_sep07/wfc_f814w_t81.dat\n",
      "F50 E50 ( 50): hst/ACS_update_sep07/wfc_f850lp_t81.dat\n",
      "F1 E1 (  1): jwst_nircam_f090w\n",
      "F2 E2 (  2): jwst_nircam_f115w\n",
      "F3 E3 (  3): jwst_nircam_f150w\n",
      "F38 E38 ( 38): jwst_nircam_f162m\n",
      "F39 E39 ( 39): jwst_nircam_f182m\n",
      "F4 E4 (  4): jwst_nircam_f200w\n",
      "F40 E40 ( 40): jwst_nircam_f210m\n",
      "F41 E41 ( 41): jwst_nircam_f250m\n",
      "F5 E5 (  5): jwst_nircam_f277w\n",
      "F42 E42 ( 42): jwst_nircam_f300m\n",
      "F43 E43 ( 43): jwst_nircam_f335m\n",
      "F6 E6 (  6): jwst_nircam_f356w\n",
      "F7 E7 (  7): jwst_nircam_f410m\n",
      "F8 E8 (  8): jwst_nircam_f444w\n",
      "Set sys_err = 0.00 (positive=True)\n",
      "Template grid: /nvme/scratch/work/tharvey/EAZY/inputs/scripts/templates/LarsonTemplates/tweak_fsps_QSF_12_v3_newtemplates.param (this may take some time)\n"
     ]
    },
    {
     "name": "stderr",
     "output_type": "stream",
     "text": [
      "100%|██████████| 18/18 [00:11<00:00,  1.51it/s]\n"
     ]
    },
    {
     "name": "stdout",
     "output_type": "stream",
     "text": [
      "Template   0: fsps_QSF_12_v3_001.dat (NZ=1).\n",
      "Template   1: fsps_QSF_12_v3_002.dat (NZ=1).\n",
      "Template   2: fsps_QSF_12_v3_003.dat (NZ=1).\n",
      "Template   3: fsps_QSF_12_v3_004.dat (NZ=1).\n",
      "Template   4: fsps_QSF_12_v3_005.dat (NZ=1).\n",
      "Template   5: fsps_QSF_12_v3_006.dat (NZ=1).\n",
      "Template   6: fsps_QSF_12_v3_007.dat (NZ=1).\n",
      "Template   7: fsps_QSF_12_v3_008.dat (NZ=1).\n",
      "Template   8: fsps_QSF_12_v3_009.dat (NZ=1).\n",
      "Template   9: fsps_QSF_12_v3_010.dat (NZ=1).\n",
      "Template  10: fsps_QSF_12_v3_011.dat (NZ=1).\n",
      "Template  11: fsps_QSF_12_v3_012.dat (NZ=1).\n",
      "Template  12: binc100z001age6_cloudy.dat (NZ=1).\n",
      "Template  13: binc100z001age65_cloudy.dat (NZ=1).\n",
      "Template  14: binc100z001age7_cloudy.dat (NZ=1).\n",
      "Template  15: binc100z001age6.dat (NZ=1).\n",
      "Template  16: binc100z001age65.dat (NZ=1).\n",
      "Template  17: binc100z001age7.dat (NZ=1).\n",
      "Process templates: 12.457 s\n"
     ]
    },
    {
     "name": "stderr",
     "output_type": "stream",
     "text": [
      "304it [00:00, 20077.92it/s]"
     ]
    },
    {
     "name": "stdout",
     "output_type": "stream",
     "text": [
      "Saving tempfilt to /nvme/scratch/work/tharvey/EXPANSE/src/EXPANSE/eazy/tempfilt/\n"
     ]
    },
    {
     "name": "stderr",
     "output_type": "stream",
     "text": [
      "\n",
      "100%|██████████| 304/304 [00:00<00:00, 6112.89it/s]\n"
     ]
    },
    {
     "name": "stdout",
     "output_type": "stream",
     "text": [
      "Compute best fits\n",
      "fit_best: 0.0 s (n_proc=1,  NOBJ=1)\n",
      "Fit 0.4 s (n_proc=4, NOBJ=1)\n",
      "Setting meta, id_phot, 0\n",
      "Setting meta, z_best, 6.001734\n",
      "Setting meta, chi2, 10.86653382217105\n",
      "Setting meta, z16, 5.882586\n",
      "Setting meta, z50, 5.980021\n",
      "Setting meta, z84, 6.0380487\n",
      "Setting meta, flux_unit, uJy\n",
      "Setting meta, wave_unit, Angstrom\n",
      "Setting meta, templates_file, /nvme/scratch/work/tharvey/EAZY/inputs/scripts/templates/LarsonTemplates/tweak_fsps_QSF_12_v3_newtemplates.param\n",
      "Setting meta, z_min, 0.01\n",
      "Setting meta, z_max, 20.0\n",
      "Setting meta, z_step, 0.01\n",
      "Setting meta, region, MAG_APER_0.32 arcsec_fsps_larson_0.05__Asada24_cgm\n",
      " added to <HDF5 file \"JOF_psfmatched_618.h5\" (mode r+)>, interactive_outputs/MAG_APER_0_32 arcsec_fsps_larson_0_05__Asada24_cgm/, eazy_fit\n",
      " added to <HDF5 file \"JOF_psfmatched_618.h5\" (mode r+)>, interactive_outputs/MAG_APER_0_32 arcsec_fsps_larson_0_05__Asada24_cgm/, p_z\n",
      " added to <HDF5 file \"JOF_psfmatched_618.h5\" (mode r+)>, interactive_outputs/MAG_APER_0_32 arcsec_fsps_larson_0_05__Asada24_cgm/, input_flux\n",
      " added to <HDF5 file \"JOF_psfmatched_618.h5\" (mode r+)>, interactive_outputs/MAG_APER_0_32 arcsec_fsps_larson_0_05__Asada24_cgm/, input_flux_err\n",
      "Zeropoint: 23.9\n",
      "{'TEMPLATES_FILE': '/nvme/scratch/work/tharvey/EAZY/inputs/scripts/templates/LarsonTemplates/tweak_fsps_QSF_12_v3_newtemplates.param', 'FILTERS_RES': '/nvme/scratch/work/tharvey/EXPANSE/src/EXPANSE/eazy/jwst_nircam_FILTER.RES', 'MW_EBV': 0, 'CAT_HAS_EXTCORR': False, 'ADD_CGM': True, 'Z_STEP': 0.01, 'Z_MIN': 0.01, 'Z_MAX': 20.0, 'TEMP_ERR_FILE': '/nvme/scratch/work/tharvey/EXPANSE/src/EXPANSE/eazy/TEMPLATE_ERROR.eazy_v1.0', 'TEMP_ERR_A2': 0, 'SYS_ERR': 0, 'APPLY_PRIOR': 'n', 'PRIOR_ABZP': 23.9, 'PRIOR_FILTER': 28, 'PRIOR_FILE': '', 'FIX_ZSPEC': False, 'IGM_SCALE_TAU': 1.0, 'N_MIN_COLORS': 2, 'CATALOG_FILE': '/tmp/tmpfddljx1g/eazy_input.fits'}\n",
      "Read default param file: /nvme/scratch/software/anaconda3/envs/tharvey_galfind/lib/python3.10/site-packages/eazy/data/zphot.param.default\n",
      "Read CATALOG_FILE: /tmp/tmpfddljx1g/eazy_input.fits\n",
      "   >>> NOBJ = 1\n",
      "F22 E22 ( 22): hst/ACS_update_sep07/wfc_f435w_t81.dat\n",
      "F23 E23 ( 23): hst/ACS_update_sep07/wfc_f606w_t81.dat\n",
      "F49 E49 ( 49): hst/ACS_update_sep07/wfc_f775w_t81.dat\n",
      "F24 E24 ( 24): hst/ACS_update_sep07/wfc_f814w_t81.dat\n",
      "F50 E50 ( 50): hst/ACS_update_sep07/wfc_f850lp_t81.dat\n",
      "F1 E1 (  1): jwst_nircam_f090w\n",
      "F2 E2 (  2): jwst_nircam_f115w\n",
      "F3 E3 (  3): jwst_nircam_f150w\n",
      "F38 E38 ( 38): jwst_nircam_f162m\n",
      "F39 E39 ( 39): jwst_nircam_f182m\n",
      "F4 E4 (  4): jwst_nircam_f200w\n",
      "F40 E40 ( 40): jwst_nircam_f210m\n",
      "F41 E41 ( 41): jwst_nircam_f250m\n",
      "F5 E5 (  5): jwst_nircam_f277w\n",
      "F42 E42 ( 42): jwst_nircam_f300m\n",
      "F43 E43 ( 43): jwst_nircam_f335m\n",
      "F6 E6 (  6): jwst_nircam_f356w\n",
      "F7 E7 (  7): jwst_nircam_f410m\n",
      "F8 E8 (  8): jwst_nircam_f444w\n",
      "Set sys_err = 0.00 (positive=True)\n",
      "Template grid: /nvme/scratch/work/tharvey/EAZY/inputs/scripts/templates/LarsonTemplates/tweak_fsps_QSF_12_v3_newtemplates.param (this may take some time)\n"
     ]
    },
    {
     "name": "stderr",
     "output_type": "stream",
     "text": [
      "100%|██████████| 18/18 [00:12<00:00,  1.49it/s]\n"
     ]
    },
    {
     "name": "stdout",
     "output_type": "stream",
     "text": [
      "Template   0: fsps_QSF_12_v3_001.dat (NZ=1).\n",
      "Template   1: fsps_QSF_12_v3_002.dat (NZ=1).\n",
      "Template   2: fsps_QSF_12_v3_003.dat (NZ=1).\n",
      "Template   3: fsps_QSF_12_v3_004.dat (NZ=1).\n",
      "Template   4: fsps_QSF_12_v3_005.dat (NZ=1).\n",
      "Template   5: fsps_QSF_12_v3_006.dat (NZ=1).\n",
      "Template   6: fsps_QSF_12_v3_007.dat (NZ=1).\n",
      "Template   7: fsps_QSF_12_v3_008.dat (NZ=1).\n",
      "Template   8: fsps_QSF_12_v3_009.dat (NZ=1).\n",
      "Template   9: fsps_QSF_12_v3_010.dat (NZ=1).\n",
      "Template  10: fsps_QSF_12_v3_011.dat (NZ=1).\n",
      "Template  11: fsps_QSF_12_v3_012.dat (NZ=1).\n",
      "Template  12: binc100z001age6_cloudy.dat (NZ=1).\n",
      "Template  13: binc100z001age65_cloudy.dat (NZ=1).\n",
      "Template  14: binc100z001age7_cloudy.dat (NZ=1).\n",
      "Template  15: binc100z001age6.dat (NZ=1).\n",
      "Template  16: binc100z001age65.dat (NZ=1).\n",
      "Template  17: binc100z001age7.dat (NZ=1).\n",
      "Process templates: 12.576 s\n"
     ]
    },
    {
     "name": "stderr",
     "output_type": "stream",
     "text": [
      "304it [00:00, 23486.68it/s]"
     ]
    },
    {
     "name": "stdout",
     "output_type": "stream",
     "text": [
      "Saving tempfilt to /nvme/scratch/work/tharvey/EXPANSE/src/EXPANSE/eazy/tempfilt/\n"
     ]
    },
    {
     "name": "stderr",
     "output_type": "stream",
     "text": [
      "\n",
      "100%|██████████| 304/304 [00:00<00:00, 5456.92it/s]\n"
     ]
    },
    {
     "name": "stdout",
     "output_type": "stream",
     "text": [
      "Compute best fits\n",
      "fit_best: 0.0 s (n_proc=1,  NOBJ=1)\n",
      "Fit 0.4 s (n_proc=4, NOBJ=1)\n",
      "Setting meta, id_phot, 0\n",
      "Setting meta, z_best, 7.654069\n",
      "Setting meta, chi2, 15.04139291458492\n",
      "Setting meta, z16, 7.3264036\n",
      "Setting meta, z50, 7.646582\n",
      "Setting meta, z84, 7.882971\n",
      "Setting meta, flux_unit, uJy\n",
      "Setting meta, wave_unit, Angstrom\n",
      "Setting meta, templates_file, /nvme/scratch/work/tharvey/EAZY/inputs/scripts/templates/LarsonTemplates/tweak_fsps_QSF_12_v3_newtemplates.param\n",
      "Setting meta, z_min, 0.01\n",
      "Setting meta, z_max, 20.0\n",
      "Setting meta, z_step, 0.01\n",
      "Setting meta, region, MAG_APER_0.32 arcsec_fsps_larson_0.05__Asada24_cgm\n",
      " added to <HDF5 file \"JOF_psfmatched_6475.h5\" (mode r+)>, interactive_outputs/MAG_APER_0_32 arcsec_fsps_larson_0_05__Asada24_cgm/, eazy_fit\n",
      " added to <HDF5 file \"JOF_psfmatched_6475.h5\" (mode r+)>, interactive_outputs/MAG_APER_0_32 arcsec_fsps_larson_0_05__Asada24_cgm/, p_z\n",
      " added to <HDF5 file \"JOF_psfmatched_6475.h5\" (mode r+)>, interactive_outputs/MAG_APER_0_32 arcsec_fsps_larson_0_05__Asada24_cgm/, input_flux\n",
      " added to <HDF5 file \"JOF_psfmatched_6475.h5\" (mode r+)>, interactive_outputs/MAG_APER_0_32 arcsec_fsps_larson_0_05__Asada24_cgm/, input_flux_err\n",
      "Zeropoint: 23.9\n",
      "{'TEMPLATES_FILE': '/nvme/scratch/work/tharvey/EAZY/inputs/scripts/templates/LarsonTemplates/tweak_fsps_QSF_12_v3_newtemplates.param', 'FILTERS_RES': '/nvme/scratch/work/tharvey/EXPANSE/src/EXPANSE/eazy/jwst_nircam_FILTER.RES', 'MW_EBV': 0, 'CAT_HAS_EXTCORR': False, 'ADD_CGM': True, 'Z_STEP': 0.01, 'Z_MIN': 0.01, 'Z_MAX': 20.0, 'TEMP_ERR_FILE': '/nvme/scratch/work/tharvey/EXPANSE/src/EXPANSE/eazy/TEMPLATE_ERROR.eazy_v1.0', 'TEMP_ERR_A2': 0, 'SYS_ERR': 0, 'APPLY_PRIOR': 'n', 'PRIOR_ABZP': 23.9, 'PRIOR_FILTER': 28, 'PRIOR_FILE': '', 'FIX_ZSPEC': False, 'IGM_SCALE_TAU': 1.0, 'N_MIN_COLORS': 2, 'CATALOG_FILE': '/tmp/tmp6s0b9q8a/eazy_input.fits'}\n",
      "Read default param file: /nvme/scratch/software/anaconda3/envs/tharvey_galfind/lib/python3.10/site-packages/eazy/data/zphot.param.default\n",
      "Read CATALOG_FILE: /tmp/tmp6s0b9q8a/eazy_input.fits\n",
      "   >>> NOBJ = 1\n",
      "F22 E22 ( 22): hst/ACS_update_sep07/wfc_f435w_t81.dat\n",
      "F23 E23 ( 23): hst/ACS_update_sep07/wfc_f606w_t81.dat\n",
      "F49 E49 ( 49): hst/ACS_update_sep07/wfc_f775w_t81.dat\n",
      "F24 E24 ( 24): hst/ACS_update_sep07/wfc_f814w_t81.dat\n",
      "F50 E50 ( 50): hst/ACS_update_sep07/wfc_f850lp_t81.dat\n",
      "F1 E1 (  1): jwst_nircam_f090w\n",
      "F2 E2 (  2): jwst_nircam_f115w\n",
      "F3 E3 (  3): jwst_nircam_f150w\n",
      "F38 E38 ( 38): jwst_nircam_f162m\n",
      "F39 E39 ( 39): jwst_nircam_f182m\n",
      "F4 E4 (  4): jwst_nircam_f200w\n",
      "F40 E40 ( 40): jwst_nircam_f210m\n",
      "F41 E41 ( 41): jwst_nircam_f250m\n",
      "F5 E5 (  5): jwst_nircam_f277w\n",
      "F42 E42 ( 42): jwst_nircam_f300m\n",
      "F43 E43 ( 43): jwst_nircam_f335m\n",
      "F6 E6 (  6): jwst_nircam_f356w\n",
      "F7 E7 (  7): jwst_nircam_f410m\n",
      "F8 E8 (  8): jwst_nircam_f444w\n",
      "Set sys_err = 0.00 (positive=True)\n",
      "Template grid: /nvme/scratch/work/tharvey/EAZY/inputs/scripts/templates/LarsonTemplates/tweak_fsps_QSF_12_v3_newtemplates.param (this may take some time)\n"
     ]
    },
    {
     "name": "stderr",
     "output_type": "stream",
     "text": [
      "100%|██████████| 18/18 [00:12<00:00,  1.46it/s]\n"
     ]
    },
    {
     "name": "stdout",
     "output_type": "stream",
     "text": [
      "Template   0: fsps_QSF_12_v3_001.dat (NZ=1).\n",
      "Template   1: fsps_QSF_12_v3_002.dat (NZ=1).\n",
      "Template   2: fsps_QSF_12_v3_003.dat (NZ=1).\n",
      "Template   3: fsps_QSF_12_v3_004.dat (NZ=1).\n",
      "Template   4: fsps_QSF_12_v3_005.dat (NZ=1).\n",
      "Template   5: fsps_QSF_12_v3_006.dat (NZ=1).\n",
      "Template   6: fsps_QSF_12_v3_007.dat (NZ=1).\n",
      "Template   7: fsps_QSF_12_v3_008.dat (NZ=1).\n",
      "Template   8: fsps_QSF_12_v3_009.dat (NZ=1).\n",
      "Template   9: fsps_QSF_12_v3_010.dat (NZ=1).\n",
      "Template  10: fsps_QSF_12_v3_011.dat (NZ=1).\n",
      "Template  11: fsps_QSF_12_v3_012.dat (NZ=1).\n",
      "Template  12: binc100z001age6_cloudy.dat (NZ=1).\n",
      "Template  13: binc100z001age65_cloudy.dat (NZ=1).\n",
      "Template  14: binc100z001age7_cloudy.dat (NZ=1).\n",
      "Template  15: binc100z001age6.dat (NZ=1).\n",
      "Template  16: binc100z001age65.dat (NZ=1).\n",
      "Template  17: binc100z001age7.dat (NZ=1).\n",
      "Process templates: 12.792 s\n"
     ]
    },
    {
     "name": "stderr",
     "output_type": "stream",
     "text": [
      "304it [00:00, 22564.79it/s]"
     ]
    },
    {
     "name": "stdout",
     "output_type": "stream",
     "text": [
      "Saving tempfilt to /nvme/scratch/work/tharvey/EXPANSE/src/EXPANSE/eazy/tempfilt/\n"
     ]
    },
    {
     "name": "stderr",
     "output_type": "stream",
     "text": [
      "\n",
      "100%|██████████| 304/304 [00:00<00:00, 6729.09it/s]\n"
     ]
    },
    {
     "name": "stdout",
     "output_type": "stream",
     "text": [
      "Compute best fits\n",
      "fit_best: 0.0 s (n_proc=1,  NOBJ=1)\n",
      "Fit 0.4 s (n_proc=4, NOBJ=1)\n",
      "Setting meta, id_phot, 0\n",
      "Setting meta, z_best, 8.074158\n",
      "Setting meta, chi2, 16.136407108844708\n",
      "Setting meta, z16, 7.96706\n",
      "Setting meta, z50, 8.066739\n",
      "Setting meta, z84, 8.152277\n",
      "Setting meta, flux_unit, uJy\n",
      "Setting meta, wave_unit, Angstrom\n",
      "Setting meta, templates_file, /nvme/scratch/work/tharvey/EAZY/inputs/scripts/templates/LarsonTemplates/tweak_fsps_QSF_12_v3_newtemplates.param\n",
      "Setting meta, z_min, 0.01\n",
      "Setting meta, z_max, 20.0\n",
      "Setting meta, z_step, 0.01\n",
      "Setting meta, region, MAG_APER_0.32 arcsec_fsps_larson_0.05__Asada24_cgm\n",
      " added to <HDF5 file \"JOF_psfmatched_6492.h5\" (mode r+)>, interactive_outputs/MAG_APER_0_32 arcsec_fsps_larson_0_05__Asada24_cgm/, eazy_fit\n",
      " added to <HDF5 file \"JOF_psfmatched_6492.h5\" (mode r+)>, interactive_outputs/MAG_APER_0_32 arcsec_fsps_larson_0_05__Asada24_cgm/, p_z\n",
      " added to <HDF5 file \"JOF_psfmatched_6492.h5\" (mode r+)>, interactive_outputs/MAG_APER_0_32 arcsec_fsps_larson_0_05__Asada24_cgm/, input_flux\n",
      " added to <HDF5 file \"JOF_psfmatched_6492.h5\" (mode r+)>, interactive_outputs/MAG_APER_0_32 arcsec_fsps_larson_0_05__Asada24_cgm/, input_flux_err\n",
      "Zeropoint: 23.9\n",
      "{'TEMPLATES_FILE': '/nvme/scratch/work/tharvey/EAZY/inputs/scripts/templates/LarsonTemplates/tweak_fsps_QSF_12_v3_newtemplates.param', 'FILTERS_RES': '/nvme/scratch/work/tharvey/EXPANSE/src/EXPANSE/eazy/jwst_nircam_FILTER.RES', 'MW_EBV': 0, 'CAT_HAS_EXTCORR': False, 'ADD_CGM': True, 'Z_STEP': 0.01, 'Z_MIN': 0.01, 'Z_MAX': 20.0, 'TEMP_ERR_FILE': '/nvme/scratch/work/tharvey/EXPANSE/src/EXPANSE/eazy/TEMPLATE_ERROR.eazy_v1.0', 'TEMP_ERR_A2': 0, 'SYS_ERR': 0, 'APPLY_PRIOR': 'n', 'PRIOR_ABZP': 23.9, 'PRIOR_FILTER': 28, 'PRIOR_FILE': '', 'FIX_ZSPEC': False, 'IGM_SCALE_TAU': 1.0, 'N_MIN_COLORS': 2, 'CATALOG_FILE': '/tmp/tmp3tv1tqs9/eazy_input.fits'}\n",
      "Read default param file: /nvme/scratch/software/anaconda3/envs/tharvey_galfind/lib/python3.10/site-packages/eazy/data/zphot.param.default\n",
      "Read CATALOG_FILE: /tmp/tmp3tv1tqs9/eazy_input.fits\n",
      "   >>> NOBJ = 1\n",
      "F22 E22 ( 22): hst/ACS_update_sep07/wfc_f435w_t81.dat\n",
      "F23 E23 ( 23): hst/ACS_update_sep07/wfc_f606w_t81.dat\n",
      "F49 E49 ( 49): hst/ACS_update_sep07/wfc_f775w_t81.dat\n",
      "F24 E24 ( 24): hst/ACS_update_sep07/wfc_f814w_t81.dat\n",
      "F50 E50 ( 50): hst/ACS_update_sep07/wfc_f850lp_t81.dat\n",
      "F1 E1 (  1): jwst_nircam_f090w\n",
      "F2 E2 (  2): jwst_nircam_f115w\n",
      "F3 E3 (  3): jwst_nircam_f150w\n",
      "F38 E38 ( 38): jwst_nircam_f162m\n",
      "F39 E39 ( 39): jwst_nircam_f182m\n",
      "F4 E4 (  4): jwst_nircam_f200w\n",
      "F40 E40 ( 40): jwst_nircam_f210m\n",
      "F41 E41 ( 41): jwst_nircam_f250m\n",
      "F5 E5 (  5): jwst_nircam_f277w\n",
      "F42 E42 ( 42): jwst_nircam_f300m\n",
      "F43 E43 ( 43): jwst_nircam_f335m\n",
      "F6 E6 (  6): jwst_nircam_f356w\n",
      "F7 E7 (  7): jwst_nircam_f410m\n",
      "F8 E8 (  8): jwst_nircam_f444w\n",
      "Set sys_err = 0.00 (positive=True)\n",
      "Template grid: /nvme/scratch/work/tharvey/EAZY/inputs/scripts/templates/LarsonTemplates/tweak_fsps_QSF_12_v3_newtemplates.param (this may take some time)\n"
     ]
    },
    {
     "name": "stderr",
     "output_type": "stream",
     "text": [
      "100%|██████████| 18/18 [00:12<00:00,  1.46it/s]\n"
     ]
    },
    {
     "name": "stdout",
     "output_type": "stream",
     "text": [
      "Template   0: fsps_QSF_12_v3_001.dat (NZ=1).\n",
      "Template   1: fsps_QSF_12_v3_002.dat (NZ=1).\n",
      "Template   2: fsps_QSF_12_v3_003.dat (NZ=1).\n",
      "Template   3: fsps_QSF_12_v3_004.dat (NZ=1).\n",
      "Template   4: fsps_QSF_12_v3_005.dat (NZ=1).\n",
      "Template   5: fsps_QSF_12_v3_006.dat (NZ=1).\n",
      "Template   6: fsps_QSF_12_v3_007.dat (NZ=1).\n",
      "Template   7: fsps_QSF_12_v3_008.dat (NZ=1).\n",
      "Template   8: fsps_QSF_12_v3_009.dat (NZ=1).\n",
      "Template   9: fsps_QSF_12_v3_010.dat (NZ=1).\n",
      "Template  10: fsps_QSF_12_v3_011.dat (NZ=1).\n",
      "Template  11: fsps_QSF_12_v3_012.dat (NZ=1).\n",
      "Template  12: binc100z001age6_cloudy.dat (NZ=1).\n",
      "Template  13: binc100z001age65_cloudy.dat (NZ=1).\n",
      "Template  14: binc100z001age7_cloudy.dat (NZ=1).\n",
      "Template  15: binc100z001age6.dat (NZ=1).\n",
      "Template  16: binc100z001age65.dat (NZ=1).\n",
      "Template  17: binc100z001age7.dat (NZ=1).\n",
      "Process templates: 12.784 s\n"
     ]
    },
    {
     "name": "stderr",
     "output_type": "stream",
     "text": [
      "304it [00:00, 27630.58it/s]"
     ]
    },
    {
     "name": "stdout",
     "output_type": "stream",
     "text": [
      "Saving tempfilt to /nvme/scratch/work/tharvey/EXPANSE/src/EXPANSE/eazy/tempfilt/\n"
     ]
    },
    {
     "name": "stderr",
     "output_type": "stream",
     "text": [
      "\n",
      "100%|██████████| 304/304 [00:00<00:00, 4520.72it/s]\n"
     ]
    },
    {
     "name": "stdout",
     "output_type": "stream",
     "text": [
      "Compute best fits\n",
      "fit_best: 0.0 s (n_proc=1,  NOBJ=1)\n",
      "Fit 0.5 s (n_proc=4, NOBJ=1)\n",
      "Setting meta, id_phot, 0\n",
      "Setting meta, z_best, 7.02543\n",
      "Setting meta, chi2, 24.92161070702609\n",
      "Setting meta, z16, 6.9814777\n",
      "Setting meta, z50, 7.0670705\n",
      "Setting meta, z84, 7.252267\n",
      "Setting meta, flux_unit, uJy\n",
      "Setting meta, wave_unit, Angstrom\n",
      "Setting meta, templates_file, /nvme/scratch/work/tharvey/EAZY/inputs/scripts/templates/LarsonTemplates/tweak_fsps_QSF_12_v3_newtemplates.param\n",
      "Setting meta, z_min, 0.01\n",
      "Setting meta, z_max, 20.0\n",
      "Setting meta, z_step, 0.01\n",
      "Setting meta, region, MAG_APER_0.32 arcsec_fsps_larson_0.05__Asada24_cgm\n",
      " added to <HDF5 file \"JOF_psfmatched_6656.h5\" (mode r+)>, interactive_outputs/MAG_APER_0_32 arcsec_fsps_larson_0_05__Asada24_cgm/, eazy_fit\n",
      " added to <HDF5 file \"JOF_psfmatched_6656.h5\" (mode r+)>, interactive_outputs/MAG_APER_0_32 arcsec_fsps_larson_0_05__Asada24_cgm/, p_z\n",
      " added to <HDF5 file \"JOF_psfmatched_6656.h5\" (mode r+)>, interactive_outputs/MAG_APER_0_32 arcsec_fsps_larson_0_05__Asada24_cgm/, input_flux\n",
      " added to <HDF5 file \"JOF_psfmatched_6656.h5\" (mode r+)>, interactive_outputs/MAG_APER_0_32 arcsec_fsps_larson_0_05__Asada24_cgm/, input_flux_err\n",
      "Zeropoint: 23.9\n",
      "{'TEMPLATES_FILE': '/nvme/scratch/work/tharvey/EAZY/inputs/scripts/templates/LarsonTemplates/tweak_fsps_QSF_12_v3_newtemplates.param', 'FILTERS_RES': '/nvme/scratch/work/tharvey/EXPANSE/src/EXPANSE/eazy/jwst_nircam_FILTER.RES', 'MW_EBV': 0, 'CAT_HAS_EXTCORR': False, 'ADD_CGM': True, 'Z_STEP': 0.01, 'Z_MIN': 0.01, 'Z_MAX': 20.0, 'TEMP_ERR_FILE': '/nvme/scratch/work/tharvey/EXPANSE/src/EXPANSE/eazy/TEMPLATE_ERROR.eazy_v1.0', 'TEMP_ERR_A2': 0, 'SYS_ERR': 0, 'APPLY_PRIOR': 'n', 'PRIOR_ABZP': 23.9, 'PRIOR_FILTER': 28, 'PRIOR_FILE': '', 'FIX_ZSPEC': False, 'IGM_SCALE_TAU': 1.0, 'N_MIN_COLORS': 2, 'CATALOG_FILE': '/tmp/tmpvvuhbhij/eazy_input.fits'}\n",
      "Read default param file: /nvme/scratch/software/anaconda3/envs/tharvey_galfind/lib/python3.10/site-packages/eazy/data/zphot.param.default\n",
      "Read CATALOG_FILE: /tmp/tmpvvuhbhij/eazy_input.fits\n",
      "   >>> NOBJ = 1\n",
      "F22 E22 ( 22): hst/ACS_update_sep07/wfc_f435w_t81.dat\n",
      "F23 E23 ( 23): hst/ACS_update_sep07/wfc_f606w_t81.dat\n",
      "F49 E49 ( 49): hst/ACS_update_sep07/wfc_f775w_t81.dat\n",
      "F24 E24 ( 24): hst/ACS_update_sep07/wfc_f814w_t81.dat\n",
      "F50 E50 ( 50): hst/ACS_update_sep07/wfc_f850lp_t81.dat\n",
      "F1 E1 (  1): jwst_nircam_f090w\n",
      "F2 E2 (  2): jwst_nircam_f115w\n",
      "F3 E3 (  3): jwst_nircam_f150w\n",
      "F38 E38 ( 38): jwst_nircam_f162m\n",
      "F39 E39 ( 39): jwst_nircam_f182m\n",
      "F4 E4 (  4): jwst_nircam_f200w\n",
      "F40 E40 ( 40): jwst_nircam_f210m\n",
      "F41 E41 ( 41): jwst_nircam_f250m\n",
      "F5 E5 (  5): jwst_nircam_f277w\n",
      "F42 E42 ( 42): jwst_nircam_f300m\n",
      "F43 E43 ( 43): jwst_nircam_f335m\n",
      "F6 E6 (  6): jwst_nircam_f356w\n",
      "F7 E7 (  7): jwst_nircam_f410m\n",
      "F8 E8 (  8): jwst_nircam_f444w\n",
      "Set sys_err = 0.00 (positive=True)\n",
      "Template grid: /nvme/scratch/work/tharvey/EAZY/inputs/scripts/templates/LarsonTemplates/tweak_fsps_QSF_12_v3_newtemplates.param (this may take some time)\n"
     ]
    },
    {
     "name": "stderr",
     "output_type": "stream",
     "text": [
      "100%|██████████| 18/18 [00:11<00:00,  1.57it/s]\n"
     ]
    },
    {
     "name": "stdout",
     "output_type": "stream",
     "text": [
      "Template   0: fsps_QSF_12_v3_001.dat (NZ=1).\n",
      "Template   1: fsps_QSF_12_v3_002.dat (NZ=1).\n",
      "Template   2: fsps_QSF_12_v3_003.dat (NZ=1).\n",
      "Template   3: fsps_QSF_12_v3_004.dat (NZ=1).\n",
      "Template   4: fsps_QSF_12_v3_005.dat (NZ=1).\n",
      "Template   5: fsps_QSF_12_v3_006.dat (NZ=1).\n",
      "Template   6: fsps_QSF_12_v3_007.dat (NZ=1).\n",
      "Template   7: fsps_QSF_12_v3_008.dat (NZ=1).\n",
      "Template   8: fsps_QSF_12_v3_009.dat (NZ=1).\n",
      "Template   9: fsps_QSF_12_v3_010.dat (NZ=1).\n",
      "Template  10: fsps_QSF_12_v3_011.dat (NZ=1).\n",
      "Template  11: fsps_QSF_12_v3_012.dat (NZ=1).\n",
      "Template  12: binc100z001age6_cloudy.dat (NZ=1).\n",
      "Template  13: binc100z001age65_cloudy.dat (NZ=1).\n",
      "Template  14: binc100z001age7_cloudy.dat (NZ=1).\n",
      "Template  15: binc100z001age6.dat (NZ=1).\n",
      "Template  16: binc100z001age65.dat (NZ=1).\n",
      "Template  17: binc100z001age7.dat (NZ=1).\n",
      "Process templates: 11.952 s\n"
     ]
    },
    {
     "name": "stderr",
     "output_type": "stream",
     "text": [
      "304it [00:00, 10295.76it/s]"
     ]
    },
    {
     "name": "stdout",
     "output_type": "stream",
     "text": [
      "Saving tempfilt to /nvme/scratch/work/tharvey/EXPANSE/src/EXPANSE/eazy/tempfilt/\n"
     ]
    },
    {
     "name": "stderr",
     "output_type": "stream",
     "text": [
      "\n",
      "100%|██████████| 304/304 [00:00<00:00, 5082.69it/s]\n"
     ]
    },
    {
     "name": "stdout",
     "output_type": "stream",
     "text": [
      "Compute best fits\n",
      "fit_best: 0.0 s (n_proc=1,  NOBJ=1)\n",
      "Fit 0.5 s (n_proc=4, NOBJ=1)\n",
      "Setting meta, id_phot, 0\n",
      "Setting meta, z_best, 6.0170465\n",
      "Setting meta, chi2, 21.372322373722028\n",
      "Setting meta, z16, 5.901113\n",
      "Setting meta, z50, 6.0122395\n",
      "Setting meta, z84, 6.054361\n",
      "Setting meta, flux_unit, uJy\n",
      "Setting meta, wave_unit, Angstrom\n",
      "Setting meta, templates_file, /nvme/scratch/work/tharvey/EAZY/inputs/scripts/templates/LarsonTemplates/tweak_fsps_QSF_12_v3_newtemplates.param\n",
      "Setting meta, z_min, 0.01\n",
      "Setting meta, z_max, 20.0\n",
      "Setting meta, z_step, 0.01\n",
      "Setting meta, region, MAG_APER_0.32 arcsec_fsps_larson_0.05__Asada24_cgm\n",
      " added to <HDF5 file \"JOF_psfmatched_6678.h5\" (mode r+)>, interactive_outputs/MAG_APER_0_32 arcsec_fsps_larson_0_05__Asada24_cgm/, eazy_fit\n",
      " added to <HDF5 file \"JOF_psfmatched_6678.h5\" (mode r+)>, interactive_outputs/MAG_APER_0_32 arcsec_fsps_larson_0_05__Asada24_cgm/, p_z\n",
      " added to <HDF5 file \"JOF_psfmatched_6678.h5\" (mode r+)>, interactive_outputs/MAG_APER_0_32 arcsec_fsps_larson_0_05__Asada24_cgm/, input_flux\n",
      " added to <HDF5 file \"JOF_psfmatched_6678.h5\" (mode r+)>, interactive_outputs/MAG_APER_0_32 arcsec_fsps_larson_0_05__Asada24_cgm/, input_flux_err\n",
      "Zeropoint: 23.9\n",
      "{'TEMPLATES_FILE': '/nvme/scratch/work/tharvey/EAZY/inputs/scripts/templates/LarsonTemplates/tweak_fsps_QSF_12_v3_newtemplates.param', 'FILTERS_RES': '/nvme/scratch/work/tharvey/EXPANSE/src/EXPANSE/eazy/jwst_nircam_FILTER.RES', 'MW_EBV': 0, 'CAT_HAS_EXTCORR': False, 'ADD_CGM': True, 'Z_STEP': 0.01, 'Z_MIN': 0.01, 'Z_MAX': 20.0, 'TEMP_ERR_FILE': '/nvme/scratch/work/tharvey/EXPANSE/src/EXPANSE/eazy/TEMPLATE_ERROR.eazy_v1.0', 'TEMP_ERR_A2': 0, 'SYS_ERR': 0, 'APPLY_PRIOR': 'n', 'PRIOR_ABZP': 23.9, 'PRIOR_FILTER': 28, 'PRIOR_FILE': '', 'FIX_ZSPEC': False, 'IGM_SCALE_TAU': 1.0, 'N_MIN_COLORS': 2, 'CATALOG_FILE': '/tmp/tmpo58xmofh/eazy_input.fits'}\n",
      "Read default param file: /nvme/scratch/software/anaconda3/envs/tharvey_galfind/lib/python3.10/site-packages/eazy/data/zphot.param.default\n",
      "Read CATALOG_FILE: /tmp/tmpo58xmofh/eazy_input.fits\n",
      "   >>> NOBJ = 1\n",
      "F22 E22 ( 22): hst/ACS_update_sep07/wfc_f435w_t81.dat\n",
      "F23 E23 ( 23): hst/ACS_update_sep07/wfc_f606w_t81.dat\n",
      "F49 E49 ( 49): hst/ACS_update_sep07/wfc_f775w_t81.dat\n",
      "F24 E24 ( 24): hst/ACS_update_sep07/wfc_f814w_t81.dat\n",
      "F50 E50 ( 50): hst/ACS_update_sep07/wfc_f850lp_t81.dat\n",
      "F1 E1 (  1): jwst_nircam_f090w\n",
      "F2 E2 (  2): jwst_nircam_f115w\n",
      "F3 E3 (  3): jwst_nircam_f150w\n",
      "F38 E38 ( 38): jwst_nircam_f162m\n",
      "F39 E39 ( 39): jwst_nircam_f182m\n",
      "F4 E4 (  4): jwst_nircam_f200w\n",
      "F40 E40 ( 40): jwst_nircam_f210m\n",
      "F41 E41 ( 41): jwst_nircam_f250m\n",
      "F5 E5 (  5): jwst_nircam_f277w\n",
      "F42 E42 ( 42): jwst_nircam_f300m\n",
      "F43 E43 ( 43): jwst_nircam_f335m\n",
      "F6 E6 (  6): jwst_nircam_f356w\n",
      "F7 E7 (  7): jwst_nircam_f410m\n",
      "F8 E8 (  8): jwst_nircam_f444w\n",
      "Set sys_err = 0.00 (positive=True)\n",
      "Template grid: /nvme/scratch/work/tharvey/EAZY/inputs/scripts/templates/LarsonTemplates/tweak_fsps_QSF_12_v3_newtemplates.param (this may take some time)\n"
     ]
    },
    {
     "name": "stderr",
     "output_type": "stream",
     "text": [
      "100%|██████████| 18/18 [00:12<00:00,  1.49it/s]\n"
     ]
    },
    {
     "name": "stdout",
     "output_type": "stream",
     "text": [
      "Template   0: fsps_QSF_12_v3_001.dat (NZ=1).\n",
      "Template   1: fsps_QSF_12_v3_002.dat (NZ=1).\n",
      "Template   2: fsps_QSF_12_v3_003.dat (NZ=1).\n",
      "Template   3: fsps_QSF_12_v3_004.dat (NZ=1).\n",
      "Template   4: fsps_QSF_12_v3_005.dat (NZ=1).\n",
      "Template   5: fsps_QSF_12_v3_006.dat (NZ=1).\n",
      "Template   6: fsps_QSF_12_v3_007.dat (NZ=1).\n",
      "Template   7: fsps_QSF_12_v3_008.dat (NZ=1).\n",
      "Template   8: fsps_QSF_12_v3_009.dat (NZ=1).\n",
      "Template   9: fsps_QSF_12_v3_010.dat (NZ=1).\n",
      "Template  10: fsps_QSF_12_v3_011.dat (NZ=1).\n",
      "Template  11: fsps_QSF_12_v3_012.dat (NZ=1).\n",
      "Template  12: binc100z001age6_cloudy.dat (NZ=1).\n",
      "Template  13: binc100z001age65_cloudy.dat (NZ=1).\n",
      "Template  14: binc100z001age7_cloudy.dat (NZ=1).\n",
      "Template  15: binc100z001age6.dat (NZ=1).\n",
      "Template  16: binc100z001age65.dat (NZ=1).\n",
      "Template  17: binc100z001age7.dat (NZ=1).\n",
      "Process templates: 12.593 s\n"
     ]
    },
    {
     "name": "stderr",
     "output_type": "stream",
     "text": [
      "304it [00:00, 27846.61it/s]"
     ]
    },
    {
     "name": "stdout",
     "output_type": "stream",
     "text": [
      "Saving tempfilt to /nvme/scratch/work/tharvey/EXPANSE/src/EXPANSE/eazy/tempfilt/\n"
     ]
    },
    {
     "name": "stderr",
     "output_type": "stream",
     "text": [
      "\n",
      "100%|██████████| 304/304 [00:00<00:00, 5821.96it/s]\n"
     ]
    },
    {
     "name": "stdout",
     "output_type": "stream",
     "text": [
      "Compute best fits\n",
      "fit_best: 0.0 s (n_proc=1,  NOBJ=1)\n",
      "Fit 0.4 s (n_proc=4, NOBJ=1)\n",
      "Setting meta, id_phot, 0\n",
      "Setting meta, z_best, 6.034121\n",
      "Setting meta, chi2, 16.22297040772538\n",
      "Setting meta, z16, 5.738934\n",
      "Setting meta, z50, 5.921804\n",
      "Setting meta, z84, 6.0797925\n",
      "Setting meta, flux_unit, uJy\n",
      "Setting meta, wave_unit, Angstrom\n",
      "Setting meta, templates_file, /nvme/scratch/work/tharvey/EAZY/inputs/scripts/templates/LarsonTemplates/tweak_fsps_QSF_12_v3_newtemplates.param\n",
      "Setting meta, z_min, 0.01\n",
      "Setting meta, z_max, 20.0\n",
      "Setting meta, z_step, 0.01\n",
      "Setting meta, region, MAG_APER_0.32 arcsec_fsps_larson_0.05__Asada24_cgm\n",
      " added to <HDF5 file \"JOF_psfmatched_6744.h5\" (mode r+)>, interactive_outputs/MAG_APER_0_32 arcsec_fsps_larson_0_05__Asada24_cgm/, eazy_fit\n",
      " added to <HDF5 file \"JOF_psfmatched_6744.h5\" (mode r+)>, interactive_outputs/MAG_APER_0_32 arcsec_fsps_larson_0_05__Asada24_cgm/, p_z\n",
      " added to <HDF5 file \"JOF_psfmatched_6744.h5\" (mode r+)>, interactive_outputs/MAG_APER_0_32 arcsec_fsps_larson_0_05__Asada24_cgm/, input_flux\n",
      " added to <HDF5 file \"JOF_psfmatched_6744.h5\" (mode r+)>, interactive_outputs/MAG_APER_0_32 arcsec_fsps_larson_0_05__Asada24_cgm/, input_flux_err\n",
      "Zeropoint: 23.9\n",
      "{'TEMPLATES_FILE': '/nvme/scratch/work/tharvey/EAZY/inputs/scripts/templates/LarsonTemplates/tweak_fsps_QSF_12_v3_newtemplates.param', 'FILTERS_RES': '/nvme/scratch/work/tharvey/EXPANSE/src/EXPANSE/eazy/jwst_nircam_FILTER.RES', 'MW_EBV': 0, 'CAT_HAS_EXTCORR': False, 'ADD_CGM': True, 'Z_STEP': 0.01, 'Z_MIN': 0.01, 'Z_MAX': 20.0, 'TEMP_ERR_FILE': '/nvme/scratch/work/tharvey/EXPANSE/src/EXPANSE/eazy/TEMPLATE_ERROR.eazy_v1.0', 'TEMP_ERR_A2': 0, 'SYS_ERR': 0, 'APPLY_PRIOR': 'n', 'PRIOR_ABZP': 23.9, 'PRIOR_FILTER': 28, 'PRIOR_FILE': '', 'FIX_ZSPEC': False, 'IGM_SCALE_TAU': 1.0, 'N_MIN_COLORS': 2, 'CATALOG_FILE': '/tmp/tmpnifrenc3/eazy_input.fits'}\n",
      "Read default param file: /nvme/scratch/software/anaconda3/envs/tharvey_galfind/lib/python3.10/site-packages/eazy/data/zphot.param.default\n",
      "Read CATALOG_FILE: /tmp/tmpnifrenc3/eazy_input.fits\n",
      "   >>> NOBJ = 1\n",
      "F22 E22 ( 22): hst/ACS_update_sep07/wfc_f435w_t81.dat\n",
      "F23 E23 ( 23): hst/ACS_update_sep07/wfc_f606w_t81.dat\n",
      "F49 E49 ( 49): hst/ACS_update_sep07/wfc_f775w_t81.dat\n",
      "F24 E24 ( 24): hst/ACS_update_sep07/wfc_f814w_t81.dat\n",
      "F50 E50 ( 50): hst/ACS_update_sep07/wfc_f850lp_t81.dat\n",
      "F1 E1 (  1): jwst_nircam_f090w\n",
      "F2 E2 (  2): jwst_nircam_f115w\n",
      "F3 E3 (  3): jwst_nircam_f150w\n",
      "F38 E38 ( 38): jwst_nircam_f162m\n",
      "F39 E39 ( 39): jwst_nircam_f182m\n",
      "F4 E4 (  4): jwst_nircam_f200w\n",
      "F40 E40 ( 40): jwst_nircam_f210m\n",
      "F41 E41 ( 41): jwst_nircam_f250m\n",
      "F5 E5 (  5): jwst_nircam_f277w\n",
      "F42 E42 ( 42): jwst_nircam_f300m\n",
      "F43 E43 ( 43): jwst_nircam_f335m\n",
      "F6 E6 (  6): jwst_nircam_f356w\n",
      "F7 E7 (  7): jwst_nircam_f410m\n",
      "F8 E8 (  8): jwst_nircam_f444w\n",
      "Set sys_err = 0.00 (positive=True)\n",
      "Template grid: /nvme/scratch/work/tharvey/EAZY/inputs/scripts/templates/LarsonTemplates/tweak_fsps_QSF_12_v3_newtemplates.param (this may take some time)\n"
     ]
    },
    {
     "name": "stderr",
     "output_type": "stream",
     "text": [
      "100%|██████████| 18/18 [00:11<00:00,  1.58it/s]\n"
     ]
    },
    {
     "name": "stdout",
     "output_type": "stream",
     "text": [
      "Template   0: fsps_QSF_12_v3_001.dat (NZ=1).\n",
      "Template   1: fsps_QSF_12_v3_002.dat (NZ=1).\n",
      "Template   2: fsps_QSF_12_v3_003.dat (NZ=1).\n",
      "Template   3: fsps_QSF_12_v3_004.dat (NZ=1).\n",
      "Template   4: fsps_QSF_12_v3_005.dat (NZ=1).\n",
      "Template   5: fsps_QSF_12_v3_006.dat (NZ=1).\n",
      "Template   6: fsps_QSF_12_v3_007.dat (NZ=1).\n",
      "Template   7: fsps_QSF_12_v3_008.dat (NZ=1).\n",
      "Template   8: fsps_QSF_12_v3_009.dat (NZ=1).\n",
      "Template   9: fsps_QSF_12_v3_010.dat (NZ=1).\n",
      "Template  10: fsps_QSF_12_v3_011.dat (NZ=1).\n",
      "Template  11: fsps_QSF_12_v3_012.dat (NZ=1).\n",
      "Template  12: binc100z001age6_cloudy.dat (NZ=1).\n",
      "Template  13: binc100z001age65_cloudy.dat (NZ=1).\n",
      "Template  14: binc100z001age7_cloudy.dat (NZ=1).\n",
      "Template  15: binc100z001age6.dat (NZ=1).\n",
      "Template  16: binc100z001age65.dat (NZ=1).\n",
      "Template  17: binc100z001age7.dat (NZ=1).\n",
      "Process templates: 11.886 s\n"
     ]
    },
    {
     "name": "stderr",
     "output_type": "stream",
     "text": [
      "304it [00:00, 27414.34it/s]"
     ]
    },
    {
     "name": "stdout",
     "output_type": "stream",
     "text": [
      "Saving tempfilt to /nvme/scratch/work/tharvey/EXPANSE/src/EXPANSE/eazy/tempfilt/\n"
     ]
    },
    {
     "name": "stderr",
     "output_type": "stream",
     "text": [
      "\n",
      "100%|██████████| 304/304 [00:00<00:00, 4548.73it/s]\n"
     ]
    },
    {
     "name": "stdout",
     "output_type": "stream",
     "text": [
      "Compute best fits\n",
      "fit_best: 0.0 s (n_proc=1,  NOBJ=1)\n",
      "Fit 0.4 s (n_proc=4, NOBJ=1)\n",
      "Setting meta, id_phot, 0\n",
      "Setting meta, z_best, 7.260481\n",
      "Setting meta, chi2, 13.576016395172367\n",
      "Setting meta, z16, 7.139219\n",
      "Setting meta, z50, 7.268894\n",
      "Setting meta, z84, 7.409355\n",
      "Setting meta, flux_unit, uJy\n",
      "Setting meta, wave_unit, Angstrom\n",
      "Setting meta, templates_file, /nvme/scratch/work/tharvey/EAZY/inputs/scripts/templates/LarsonTemplates/tweak_fsps_QSF_12_v3_newtemplates.param\n",
      "Setting meta, z_min, 0.01\n",
      "Setting meta, z_max, 20.0\n",
      "Setting meta, z_step, 0.01\n",
      "Setting meta, region, MAG_APER_0.32 arcsec_fsps_larson_0.05__Asada24_cgm\n",
      " added to <HDF5 file \"JOF_psfmatched_6764.h5\" (mode r+)>, interactive_outputs/MAG_APER_0_32 arcsec_fsps_larson_0_05__Asada24_cgm/, eazy_fit\n",
      " added to <HDF5 file \"JOF_psfmatched_6764.h5\" (mode r+)>, interactive_outputs/MAG_APER_0_32 arcsec_fsps_larson_0_05__Asada24_cgm/, p_z\n",
      " added to <HDF5 file \"JOF_psfmatched_6764.h5\" (mode r+)>, interactive_outputs/MAG_APER_0_32 arcsec_fsps_larson_0_05__Asada24_cgm/, input_flux\n",
      " added to <HDF5 file \"JOF_psfmatched_6764.h5\" (mode r+)>, interactive_outputs/MAG_APER_0_32 arcsec_fsps_larson_0_05__Asada24_cgm/, input_flux_err\n",
      "Zeropoint: 23.9\n",
      "{'TEMPLATES_FILE': '/nvme/scratch/work/tharvey/EAZY/inputs/scripts/templates/LarsonTemplates/tweak_fsps_QSF_12_v3_newtemplates.param', 'FILTERS_RES': '/nvme/scratch/work/tharvey/EXPANSE/src/EXPANSE/eazy/jwst_nircam_FILTER.RES', 'MW_EBV': 0, 'CAT_HAS_EXTCORR': False, 'ADD_CGM': True, 'Z_STEP': 0.01, 'Z_MIN': 0.01, 'Z_MAX': 20.0, 'TEMP_ERR_FILE': '/nvme/scratch/work/tharvey/EXPANSE/src/EXPANSE/eazy/TEMPLATE_ERROR.eazy_v1.0', 'TEMP_ERR_A2': 0, 'SYS_ERR': 0, 'APPLY_PRIOR': 'n', 'PRIOR_ABZP': 23.9, 'PRIOR_FILTER': 28, 'PRIOR_FILE': '', 'FIX_ZSPEC': False, 'IGM_SCALE_TAU': 1.0, 'N_MIN_COLORS': 2, 'CATALOG_FILE': '/tmp/tmpx6cqdd53/eazy_input.fits'}\n",
      "Read default param file: /nvme/scratch/software/anaconda3/envs/tharvey_galfind/lib/python3.10/site-packages/eazy/data/zphot.param.default\n",
      "Read CATALOG_FILE: /tmp/tmpx6cqdd53/eazy_input.fits\n",
      "   >>> NOBJ = 1\n",
      "F22 E22 ( 22): hst/ACS_update_sep07/wfc_f435w_t81.dat\n",
      "F23 E23 ( 23): hst/ACS_update_sep07/wfc_f606w_t81.dat\n",
      "F49 E49 ( 49): hst/ACS_update_sep07/wfc_f775w_t81.dat\n",
      "F24 E24 ( 24): hst/ACS_update_sep07/wfc_f814w_t81.dat\n",
      "F50 E50 ( 50): hst/ACS_update_sep07/wfc_f850lp_t81.dat\n",
      "F1 E1 (  1): jwst_nircam_f090w\n",
      "F2 E2 (  2): jwst_nircam_f115w\n",
      "F3 E3 (  3): jwst_nircam_f150w\n",
      "F38 E38 ( 38): jwst_nircam_f162m\n",
      "F39 E39 ( 39): jwst_nircam_f182m\n",
      "F4 E4 (  4): jwst_nircam_f200w\n",
      "F40 E40 ( 40): jwst_nircam_f210m\n",
      "F41 E41 ( 41): jwst_nircam_f250m\n",
      "F5 E5 (  5): jwst_nircam_f277w\n",
      "F42 E42 ( 42): jwst_nircam_f300m\n",
      "F43 E43 ( 43): jwst_nircam_f335m\n",
      "F6 E6 (  6): jwst_nircam_f356w\n",
      "F7 E7 (  7): jwst_nircam_f410m\n",
      "F8 E8 (  8): jwst_nircam_f444w\n",
      "Set sys_err = 0.00 (positive=True)\n",
      "Template grid: /nvme/scratch/work/tharvey/EAZY/inputs/scripts/templates/LarsonTemplates/tweak_fsps_QSF_12_v3_newtemplates.param (this may take some time)\n"
     ]
    },
    {
     "name": "stderr",
     "output_type": "stream",
     "text": [
      "100%|██████████| 18/18 [00:11<00:00,  1.57it/s]\n"
     ]
    },
    {
     "name": "stdout",
     "output_type": "stream",
     "text": [
      "Template   0: fsps_QSF_12_v3_001.dat (NZ=1).\n",
      "Template   1: fsps_QSF_12_v3_002.dat (NZ=1).\n",
      "Template   2: fsps_QSF_12_v3_003.dat (NZ=1).\n",
      "Template   3: fsps_QSF_12_v3_004.dat (NZ=1).\n",
      "Template   4: fsps_QSF_12_v3_005.dat (NZ=1).\n",
      "Template   5: fsps_QSF_12_v3_006.dat (NZ=1).\n",
      "Template   6: fsps_QSF_12_v3_007.dat (NZ=1).\n",
      "Template   7: fsps_QSF_12_v3_008.dat (NZ=1).\n",
      "Template   8: fsps_QSF_12_v3_009.dat (NZ=1).\n",
      "Template   9: fsps_QSF_12_v3_010.dat (NZ=1).\n",
      "Template  10: fsps_QSF_12_v3_011.dat (NZ=1).\n",
      "Template  11: fsps_QSF_12_v3_012.dat (NZ=1).\n",
      "Template  12: binc100z001age6_cloudy.dat (NZ=1).\n",
      "Template  13: binc100z001age65_cloudy.dat (NZ=1).\n",
      "Template  14: binc100z001age7_cloudy.dat (NZ=1).\n",
      "Template  15: binc100z001age6.dat (NZ=1).\n",
      "Template  16: binc100z001age65.dat (NZ=1).\n",
      "Template  17: binc100z001age7.dat (NZ=1).\n",
      "Process templates: 11.955 s\n"
     ]
    },
    {
     "name": "stderr",
     "output_type": "stream",
     "text": [
      "304it [00:00, 25815.28it/s]"
     ]
    },
    {
     "name": "stdout",
     "output_type": "stream",
     "text": [
      "Saving tempfilt to /nvme/scratch/work/tharvey/EXPANSE/src/EXPANSE/eazy/tempfilt/\n"
     ]
    },
    {
     "name": "stderr",
     "output_type": "stream",
     "text": [
      "\n",
      "100%|██████████| 304/304 [00:00<00:00, 6109.14it/s]\n"
     ]
    },
    {
     "name": "stdout",
     "output_type": "stream",
     "text": [
      "Compute best fits\n",
      "fit_best: 0.0 s (n_proc=1,  NOBJ=1)\n",
      "Fit 0.4 s (n_proc=4, NOBJ=1)\n",
      "Setting meta, id_phot, 0\n",
      "Setting meta, z_best, 7.140275\n",
      "Setting meta, chi2, 13.584685183474644\n",
      "Setting meta, z16, 7.042483\n",
      "Setting meta, z50, 7.168765\n",
      "Setting meta, z84, 7.323988\n",
      "Setting meta, flux_unit, uJy\n",
      "Setting meta, wave_unit, Angstrom\n",
      "Setting meta, templates_file, /nvme/scratch/work/tharvey/EAZY/inputs/scripts/templates/LarsonTemplates/tweak_fsps_QSF_12_v3_newtemplates.param\n",
      "Setting meta, z_min, 0.01\n",
      "Setting meta, z_max, 20.0\n",
      "Setting meta, z_step, 0.01\n",
      "Setting meta, region, MAG_APER_0.32 arcsec_fsps_larson_0.05__Asada24_cgm\n",
      " added to <HDF5 file \"JOF_psfmatched_6788.h5\" (mode r+)>, interactive_outputs/MAG_APER_0_32 arcsec_fsps_larson_0_05__Asada24_cgm/, eazy_fit\n",
      " added to <HDF5 file \"JOF_psfmatched_6788.h5\" (mode r+)>, interactive_outputs/MAG_APER_0_32 arcsec_fsps_larson_0_05__Asada24_cgm/, p_z\n",
      " added to <HDF5 file \"JOF_psfmatched_6788.h5\" (mode r+)>, interactive_outputs/MAG_APER_0_32 arcsec_fsps_larson_0_05__Asada24_cgm/, input_flux\n",
      " added to <HDF5 file \"JOF_psfmatched_6788.h5\" (mode r+)>, interactive_outputs/MAG_APER_0_32 arcsec_fsps_larson_0_05__Asada24_cgm/, input_flux_err\n",
      "Zeropoint: 23.9\n",
      "{'TEMPLATES_FILE': '/nvme/scratch/work/tharvey/EAZY/inputs/scripts/templates/LarsonTemplates/tweak_fsps_QSF_12_v3_newtemplates.param', 'FILTERS_RES': '/nvme/scratch/work/tharvey/EXPANSE/src/EXPANSE/eazy/jwst_nircam_FILTER.RES', 'MW_EBV': 0, 'CAT_HAS_EXTCORR': False, 'ADD_CGM': True, 'Z_STEP': 0.01, 'Z_MIN': 0.01, 'Z_MAX': 20.0, 'TEMP_ERR_FILE': '/nvme/scratch/work/tharvey/EXPANSE/src/EXPANSE/eazy/TEMPLATE_ERROR.eazy_v1.0', 'TEMP_ERR_A2': 0, 'SYS_ERR': 0, 'APPLY_PRIOR': 'n', 'PRIOR_ABZP': 23.9, 'PRIOR_FILTER': 28, 'PRIOR_FILE': '', 'FIX_ZSPEC': False, 'IGM_SCALE_TAU': 1.0, 'N_MIN_COLORS': 2, 'CATALOG_FILE': '/tmp/tmpk20g9grg/eazy_input.fits'}\n",
      "Read default param file: /nvme/scratch/software/anaconda3/envs/tharvey_galfind/lib/python3.10/site-packages/eazy/data/zphot.param.default\n",
      "Read CATALOG_FILE: /tmp/tmpk20g9grg/eazy_input.fits\n",
      "   >>> NOBJ = 1\n",
      "F22 E22 ( 22): hst/ACS_update_sep07/wfc_f435w_t81.dat\n",
      "F23 E23 ( 23): hst/ACS_update_sep07/wfc_f606w_t81.dat\n",
      "F49 E49 ( 49): hst/ACS_update_sep07/wfc_f775w_t81.dat\n",
      "F24 E24 ( 24): hst/ACS_update_sep07/wfc_f814w_t81.dat\n",
      "F50 E50 ( 50): hst/ACS_update_sep07/wfc_f850lp_t81.dat\n",
      "F1 E1 (  1): jwst_nircam_f090w\n",
      "F2 E2 (  2): jwst_nircam_f115w\n",
      "F3 E3 (  3): jwst_nircam_f150w\n",
      "F38 E38 ( 38): jwst_nircam_f162m\n",
      "F39 E39 ( 39): jwst_nircam_f182m\n",
      "F4 E4 (  4): jwst_nircam_f200w\n",
      "F40 E40 ( 40): jwst_nircam_f210m\n",
      "F41 E41 ( 41): jwst_nircam_f250m\n",
      "F5 E5 (  5): jwst_nircam_f277w\n",
      "F42 E42 ( 42): jwst_nircam_f300m\n",
      "F43 E43 ( 43): jwst_nircam_f335m\n",
      "F6 E6 (  6): jwst_nircam_f356w\n",
      "F7 E7 (  7): jwst_nircam_f410m\n",
      "F8 E8 (  8): jwst_nircam_f444w\n",
      "Set sys_err = 0.00 (positive=True)\n",
      "Template grid: /nvme/scratch/work/tharvey/EAZY/inputs/scripts/templates/LarsonTemplates/tweak_fsps_QSF_12_v3_newtemplates.param (this may take some time)\n"
     ]
    },
    {
     "name": "stderr",
     "output_type": "stream",
     "text": [
      "100%|██████████| 18/18 [00:11<00:00,  1.62it/s]\n"
     ]
    },
    {
     "name": "stdout",
     "output_type": "stream",
     "text": [
      "Template   0: fsps_QSF_12_v3_001.dat (NZ=1).\n",
      "Template   1: fsps_QSF_12_v3_002.dat (NZ=1).\n",
      "Template   2: fsps_QSF_12_v3_003.dat (NZ=1).\n",
      "Template   3: fsps_QSF_12_v3_004.dat (NZ=1).\n",
      "Template   4: fsps_QSF_12_v3_005.dat (NZ=1).\n",
      "Template   5: fsps_QSF_12_v3_006.dat (NZ=1).\n",
      "Template   6: fsps_QSF_12_v3_007.dat (NZ=1).\n",
      "Template   7: fsps_QSF_12_v3_008.dat (NZ=1).\n",
      "Template   8: fsps_QSF_12_v3_009.dat (NZ=1).\n",
      "Template   9: fsps_QSF_12_v3_010.dat (NZ=1).\n",
      "Template  10: fsps_QSF_12_v3_011.dat (NZ=1).\n",
      "Template  11: fsps_QSF_12_v3_012.dat (NZ=1).\n",
      "Template  12: binc100z001age6_cloudy.dat (NZ=1).\n",
      "Template  13: binc100z001age65_cloudy.dat (NZ=1).\n",
      "Template  14: binc100z001age7_cloudy.dat (NZ=1).\n",
      "Template  15: binc100z001age6.dat (NZ=1).\n",
      "Template  16: binc100z001age65.dat (NZ=1).\n",
      "Template  17: binc100z001age7.dat (NZ=1).\n",
      "Process templates: 11.606 s\n"
     ]
    },
    {
     "name": "stderr",
     "output_type": "stream",
     "text": [
      "304it [00:00, 27535.11it/s]"
     ]
    },
    {
     "name": "stdout",
     "output_type": "stream",
     "text": [
      "Saving tempfilt to /nvme/scratch/work/tharvey/EXPANSE/src/EXPANSE/eazy/tempfilt/\n"
     ]
    },
    {
     "name": "stderr",
     "output_type": "stream",
     "text": [
      "\n",
      "100%|██████████| 304/304 [00:00<00:00, 5200.22it/s]\n"
     ]
    },
    {
     "name": "stdout",
     "output_type": "stream",
     "text": [
      "Compute best fits\n",
      "fit_best: 0.0 s (n_proc=1,  NOBJ=1)\n",
      "Fit 0.4 s (n_proc=4, NOBJ=1)\n",
      "Setting meta, id_phot, 0\n",
      "Setting meta, z_best, 9.048567\n",
      "Setting meta, chi2, 8.460650431596083\n",
      "Setting meta, z16, 8.82441\n",
      "Setting meta, z50, 9.0334635\n",
      "Setting meta, z84, 9.215388\n",
      "Setting meta, flux_unit, uJy\n",
      "Setting meta, wave_unit, Angstrom\n",
      "Setting meta, templates_file, /nvme/scratch/work/tharvey/EAZY/inputs/scripts/templates/LarsonTemplates/tweak_fsps_QSF_12_v3_newtemplates.param\n",
      "Setting meta, z_min, 0.01\n",
      "Setting meta, z_max, 20.0\n",
      "Setting meta, z_step, 0.01\n",
      "Setting meta, region, MAG_APER_0.32 arcsec_fsps_larson_0.05__Asada24_cgm\n",
      " added to <HDF5 file \"JOF_psfmatched_6802.h5\" (mode r+)>, interactive_outputs/MAG_APER_0_32 arcsec_fsps_larson_0_05__Asada24_cgm/, eazy_fit\n",
      " added to <HDF5 file \"JOF_psfmatched_6802.h5\" (mode r+)>, interactive_outputs/MAG_APER_0_32 arcsec_fsps_larson_0_05__Asada24_cgm/, p_z\n",
      " added to <HDF5 file \"JOF_psfmatched_6802.h5\" (mode r+)>, interactive_outputs/MAG_APER_0_32 arcsec_fsps_larson_0_05__Asada24_cgm/, input_flux\n",
      " added to <HDF5 file \"JOF_psfmatched_6802.h5\" (mode r+)>, interactive_outputs/MAG_APER_0_32 arcsec_fsps_larson_0_05__Asada24_cgm/, input_flux_err\n",
      "Zeropoint: 23.9\n",
      "{'TEMPLATES_FILE': '/nvme/scratch/work/tharvey/EAZY/inputs/scripts/templates/LarsonTemplates/tweak_fsps_QSF_12_v3_newtemplates.param', 'FILTERS_RES': '/nvme/scratch/work/tharvey/EXPANSE/src/EXPANSE/eazy/jwst_nircam_FILTER.RES', 'MW_EBV': 0, 'CAT_HAS_EXTCORR': False, 'ADD_CGM': True, 'Z_STEP': 0.01, 'Z_MIN': 0.01, 'Z_MAX': 20.0, 'TEMP_ERR_FILE': '/nvme/scratch/work/tharvey/EXPANSE/src/EXPANSE/eazy/TEMPLATE_ERROR.eazy_v1.0', 'TEMP_ERR_A2': 0, 'SYS_ERR': 0, 'APPLY_PRIOR': 'n', 'PRIOR_ABZP': 23.9, 'PRIOR_FILTER': 28, 'PRIOR_FILE': '', 'FIX_ZSPEC': False, 'IGM_SCALE_TAU': 1.0, 'N_MIN_COLORS': 2, 'CATALOG_FILE': '/tmp/tmp9vq64mex/eazy_input.fits'}\n",
      "Read default param file: /nvme/scratch/software/anaconda3/envs/tharvey_galfind/lib/python3.10/site-packages/eazy/data/zphot.param.default\n",
      "Read CATALOG_FILE: /tmp/tmp9vq64mex/eazy_input.fits\n",
      "   >>> NOBJ = 1\n",
      "F22 E22 ( 22): hst/ACS_update_sep07/wfc_f435w_t81.dat\n",
      "F23 E23 ( 23): hst/ACS_update_sep07/wfc_f606w_t81.dat\n",
      "F49 E49 ( 49): hst/ACS_update_sep07/wfc_f775w_t81.dat\n",
      "F24 E24 ( 24): hst/ACS_update_sep07/wfc_f814w_t81.dat\n",
      "F50 E50 ( 50): hst/ACS_update_sep07/wfc_f850lp_t81.dat\n",
      "F1 E1 (  1): jwst_nircam_f090w\n",
      "F2 E2 (  2): jwst_nircam_f115w\n",
      "F3 E3 (  3): jwst_nircam_f150w\n",
      "F38 E38 ( 38): jwst_nircam_f162m\n",
      "F39 E39 ( 39): jwst_nircam_f182m\n",
      "F4 E4 (  4): jwst_nircam_f200w\n",
      "F40 E40 ( 40): jwst_nircam_f210m\n",
      "F41 E41 ( 41): jwst_nircam_f250m\n",
      "F5 E5 (  5): jwst_nircam_f277w\n",
      "F42 E42 ( 42): jwst_nircam_f300m\n",
      "F43 E43 ( 43): jwst_nircam_f335m\n",
      "F6 E6 (  6): jwst_nircam_f356w\n",
      "F7 E7 (  7): jwst_nircam_f410m\n",
      "F8 E8 (  8): jwst_nircam_f444w\n",
      "Set sys_err = 0.00 (positive=True)\n",
      "Template grid: /nvme/scratch/work/tharvey/EAZY/inputs/scripts/templates/LarsonTemplates/tweak_fsps_QSF_12_v3_newtemplates.param (this may take some time)\n"
     ]
    },
    {
     "name": "stderr",
     "output_type": "stream",
     "text": [
      "100%|██████████| 18/18 [00:11<00:00,  1.58it/s]\n"
     ]
    },
    {
     "name": "stdout",
     "output_type": "stream",
     "text": [
      "Template   0: fsps_QSF_12_v3_001.dat (NZ=1).\n",
      "Template   1: fsps_QSF_12_v3_002.dat (NZ=1).\n",
      "Template   2: fsps_QSF_12_v3_003.dat (NZ=1).\n",
      "Template   3: fsps_QSF_12_v3_004.dat (NZ=1).\n",
      "Template   4: fsps_QSF_12_v3_005.dat (NZ=1).\n",
      "Template   5: fsps_QSF_12_v3_006.dat (NZ=1).\n",
      "Template   6: fsps_QSF_12_v3_007.dat (NZ=1).\n",
      "Template   7: fsps_QSF_12_v3_008.dat (NZ=1).\n",
      "Template   8: fsps_QSF_12_v3_009.dat (NZ=1).\n",
      "Template   9: fsps_QSF_12_v3_010.dat (NZ=1).\n",
      "Template  10: fsps_QSF_12_v3_011.dat (NZ=1).\n",
      "Template  11: fsps_QSF_12_v3_012.dat (NZ=1).\n",
      "Template  12: binc100z001age6_cloudy.dat (NZ=1).\n",
      "Template  13: binc100z001age65_cloudy.dat (NZ=1).\n",
      "Template  14: binc100z001age7_cloudy.dat (NZ=1).\n",
      "Template  15: binc100z001age6.dat (NZ=1).\n",
      "Template  16: binc100z001age65.dat (NZ=1).\n",
      "Template  17: binc100z001age7.dat (NZ=1).\n",
      "Process templates: 11.911 s\n"
     ]
    },
    {
     "name": "stderr",
     "output_type": "stream",
     "text": [
      "304it [00:00, 27336.17it/s]"
     ]
    },
    {
     "name": "stdout",
     "output_type": "stream",
     "text": [
      "Saving tempfilt to /nvme/scratch/work/tharvey/EXPANSE/src/EXPANSE/eazy/tempfilt/\n"
     ]
    },
    {
     "name": "stderr",
     "output_type": "stream",
     "text": [
      "\n",
      "100%|██████████| 304/304 [00:00<00:00, 4483.17it/s]\n"
     ]
    },
    {
     "name": "stdout",
     "output_type": "stream",
     "text": [
      "Compute best fits\n",
      "fit_best: 0.0 s (n_proc=1,  NOBJ=1)\n",
      "Fit 0.5 s (n_proc=4, NOBJ=1)\n",
      "Setting meta, id_phot, 0\n",
      "Setting meta, z_best, 6.9856205\n",
      "Setting meta, chi2, 22.20151390961289\n",
      "Setting meta, z16, 6.924513\n",
      "Setting meta, z50, 7.101688\n",
      "Setting meta, z84, 7.519903\n",
      "Setting meta, flux_unit, uJy\n",
      "Setting meta, wave_unit, Angstrom\n",
      "Setting meta, templates_file, /nvme/scratch/work/tharvey/EAZY/inputs/scripts/templates/LarsonTemplates/tweak_fsps_QSF_12_v3_newtemplates.param\n",
      "Setting meta, z_min, 0.01\n",
      "Setting meta, z_max, 20.0\n",
      "Setting meta, z_step, 0.01\n",
      "Setting meta, region, MAG_APER_0.32 arcsec_fsps_larson_0.05__Asada24_cgm\n",
      " added to <HDF5 file \"JOF_psfmatched_6870.h5\" (mode r+)>, interactive_outputs/MAG_APER_0_32 arcsec_fsps_larson_0_05__Asada24_cgm/, eazy_fit\n",
      " added to <HDF5 file \"JOF_psfmatched_6870.h5\" (mode r+)>, interactive_outputs/MAG_APER_0_32 arcsec_fsps_larson_0_05__Asada24_cgm/, p_z\n",
      " added to <HDF5 file \"JOF_psfmatched_6870.h5\" (mode r+)>, interactive_outputs/MAG_APER_0_32 arcsec_fsps_larson_0_05__Asada24_cgm/, input_flux\n",
      " added to <HDF5 file \"JOF_psfmatched_6870.h5\" (mode r+)>, interactive_outputs/MAG_APER_0_32 arcsec_fsps_larson_0_05__Asada24_cgm/, input_flux_err\n",
      "Zeropoint: 23.9\n",
      "{'TEMPLATES_FILE': '/nvme/scratch/work/tharvey/EAZY/inputs/scripts/templates/LarsonTemplates/tweak_fsps_QSF_12_v3_newtemplates.param', 'FILTERS_RES': '/nvme/scratch/work/tharvey/EXPANSE/src/EXPANSE/eazy/jwst_nircam_FILTER.RES', 'MW_EBV': 0, 'CAT_HAS_EXTCORR': False, 'ADD_CGM': True, 'Z_STEP': 0.01, 'Z_MIN': 0.01, 'Z_MAX': 20.0, 'TEMP_ERR_FILE': '/nvme/scratch/work/tharvey/EXPANSE/src/EXPANSE/eazy/TEMPLATE_ERROR.eazy_v1.0', 'TEMP_ERR_A2': 0, 'SYS_ERR': 0, 'APPLY_PRIOR': 'n', 'PRIOR_ABZP': 23.9, 'PRIOR_FILTER': 28, 'PRIOR_FILE': '', 'FIX_ZSPEC': False, 'IGM_SCALE_TAU': 1.0, 'N_MIN_COLORS': 2, 'CATALOG_FILE': '/tmp/tmpth8pzkxx/eazy_input.fits'}\n",
      "Read default param file: /nvme/scratch/software/anaconda3/envs/tharvey_galfind/lib/python3.10/site-packages/eazy/data/zphot.param.default\n",
      "Read CATALOG_FILE: /tmp/tmpth8pzkxx/eazy_input.fits\n",
      "   >>> NOBJ = 1\n",
      "F22 E22 ( 22): hst/ACS_update_sep07/wfc_f435w_t81.dat\n",
      "F23 E23 ( 23): hst/ACS_update_sep07/wfc_f606w_t81.dat\n",
      "F49 E49 ( 49): hst/ACS_update_sep07/wfc_f775w_t81.dat\n",
      "F24 E24 ( 24): hst/ACS_update_sep07/wfc_f814w_t81.dat\n",
      "F50 E50 ( 50): hst/ACS_update_sep07/wfc_f850lp_t81.dat\n",
      "F1 E1 (  1): jwst_nircam_f090w\n",
      "F2 E2 (  2): jwst_nircam_f115w\n",
      "F3 E3 (  3): jwst_nircam_f150w\n",
      "F38 E38 ( 38): jwst_nircam_f162m\n",
      "F39 E39 ( 39): jwst_nircam_f182m\n",
      "F4 E4 (  4): jwst_nircam_f200w\n",
      "F40 E40 ( 40): jwst_nircam_f210m\n",
      "F41 E41 ( 41): jwst_nircam_f250m\n",
      "F5 E5 (  5): jwst_nircam_f277w\n",
      "F42 E42 ( 42): jwst_nircam_f300m\n",
      "F43 E43 ( 43): jwst_nircam_f335m\n",
      "F6 E6 (  6): jwst_nircam_f356w\n",
      "F7 E7 (  7): jwst_nircam_f410m\n",
      "F8 E8 (  8): jwst_nircam_f444w\n",
      "Set sys_err = 0.00 (positive=True)\n",
      "Template grid: /nvme/scratch/work/tharvey/EAZY/inputs/scripts/templates/LarsonTemplates/tweak_fsps_QSF_12_v3_newtemplates.param (this may take some time)\n"
     ]
    },
    {
     "name": "stderr",
     "output_type": "stream",
     "text": [
      "100%|██████████| 18/18 [00:11<00:00,  1.57it/s]\n"
     ]
    },
    {
     "name": "stdout",
     "output_type": "stream",
     "text": [
      "Template   0: fsps_QSF_12_v3_001.dat (NZ=1).\n",
      "Template   1: fsps_QSF_12_v3_002.dat (NZ=1).\n",
      "Template   2: fsps_QSF_12_v3_003.dat (NZ=1).\n",
      "Template   3: fsps_QSF_12_v3_004.dat (NZ=1).\n",
      "Template   4: fsps_QSF_12_v3_005.dat (NZ=1).\n",
      "Template   5: fsps_QSF_12_v3_006.dat (NZ=1).\n",
      "Template   6: fsps_QSF_12_v3_007.dat (NZ=1).\n",
      "Template   7: fsps_QSF_12_v3_008.dat (NZ=1).\n",
      "Template   8: fsps_QSF_12_v3_009.dat (NZ=1).\n",
      "Template   9: fsps_QSF_12_v3_010.dat (NZ=1).\n",
      "Template  10: fsps_QSF_12_v3_011.dat (NZ=1).\n",
      "Template  11: fsps_QSF_12_v3_012.dat (NZ=1).\n",
      "Template  12: binc100z001age6_cloudy.dat (NZ=1).\n",
      "Template  13: binc100z001age65_cloudy.dat (NZ=1).\n",
      "Template  14: binc100z001age7_cloudy.dat (NZ=1).\n",
      "Template  15: binc100z001age6.dat (NZ=1).\n",
      "Template  16: binc100z001age65.dat (NZ=1).\n",
      "Template  17: binc100z001age7.dat (NZ=1).\n",
      "Process templates: 11.890 s\n"
     ]
    },
    {
     "name": "stderr",
     "output_type": "stream",
     "text": [
      "304it [00:00, 29582.58it/s]"
     ]
    },
    {
     "name": "stdout",
     "output_type": "stream",
     "text": [
      "Saving tempfilt to /nvme/scratch/work/tharvey/EXPANSE/src/EXPANSE/eazy/tempfilt/\n"
     ]
    },
    {
     "name": "stderr",
     "output_type": "stream",
     "text": [
      "\n",
      "100%|██████████| 304/304 [00:00<00:00, 5692.52it/s]\n"
     ]
    },
    {
     "name": "stdout",
     "output_type": "stream",
     "text": [
      "Compute best fits\n",
      "fit_best: 0.0 s (n_proc=1,  NOBJ=1)\n",
      "Fit 0.4 s (n_proc=4, NOBJ=1)\n",
      "Setting meta, id_phot, 0\n",
      "Setting meta, z_best, 6.1771564\n",
      "Setting meta, chi2, 37.806421405177666\n",
      "Setting meta, z16, 6.079518\n",
      "Setting meta, z50, 6.181421\n",
      "Setting meta, z84, 6.2895694\n",
      "Setting meta, flux_unit, uJy\n",
      "Setting meta, wave_unit, Angstrom\n",
      "Setting meta, templates_file, /nvme/scratch/work/tharvey/EAZY/inputs/scripts/templates/LarsonTemplates/tweak_fsps_QSF_12_v3_newtemplates.param\n",
      "Setting meta, z_min, 0.01\n",
      "Setting meta, z_max, 20.0\n",
      "Setting meta, z_step, 0.01\n",
      "Setting meta, region, MAG_APER_0.32 arcsec_fsps_larson_0.05__Asada24_cgm\n",
      " added to <HDF5 file \"JOF_psfmatched_6882.h5\" (mode r+)>, interactive_outputs/MAG_APER_0_32 arcsec_fsps_larson_0_05__Asada24_cgm/, eazy_fit\n",
      " added to <HDF5 file \"JOF_psfmatched_6882.h5\" (mode r+)>, interactive_outputs/MAG_APER_0_32 arcsec_fsps_larson_0_05__Asada24_cgm/, p_z\n",
      " added to <HDF5 file \"JOF_psfmatched_6882.h5\" (mode r+)>, interactive_outputs/MAG_APER_0_32 arcsec_fsps_larson_0_05__Asada24_cgm/, input_flux\n",
      " added to <HDF5 file \"JOF_psfmatched_6882.h5\" (mode r+)>, interactive_outputs/MAG_APER_0_32 arcsec_fsps_larson_0_05__Asada24_cgm/, input_flux_err\n",
      "Zeropoint: 23.9\n",
      "{'TEMPLATES_FILE': '/nvme/scratch/work/tharvey/EAZY/inputs/scripts/templates/LarsonTemplates/tweak_fsps_QSF_12_v3_newtemplates.param', 'FILTERS_RES': '/nvme/scratch/work/tharvey/EXPANSE/src/EXPANSE/eazy/jwst_nircam_FILTER.RES', 'MW_EBV': 0, 'CAT_HAS_EXTCORR': False, 'ADD_CGM': True, 'Z_STEP': 0.01, 'Z_MIN': 0.01, 'Z_MAX': 20.0, 'TEMP_ERR_FILE': '/nvme/scratch/work/tharvey/EXPANSE/src/EXPANSE/eazy/TEMPLATE_ERROR.eazy_v1.0', 'TEMP_ERR_A2': 0, 'SYS_ERR': 0, 'APPLY_PRIOR': 'n', 'PRIOR_ABZP': 23.9, 'PRIOR_FILTER': 28, 'PRIOR_FILE': '', 'FIX_ZSPEC': False, 'IGM_SCALE_TAU': 1.0, 'N_MIN_COLORS': 2, 'CATALOG_FILE': '/tmp/tmpia6p3qwj/eazy_input.fits'}\n",
      "Read default param file: /nvme/scratch/software/anaconda3/envs/tharvey_galfind/lib/python3.10/site-packages/eazy/data/zphot.param.default\n",
      "Read CATALOG_FILE: /tmp/tmpia6p3qwj/eazy_input.fits\n",
      "   >>> NOBJ = 1\n",
      "F22 E22 ( 22): hst/ACS_update_sep07/wfc_f435w_t81.dat\n",
      "F23 E23 ( 23): hst/ACS_update_sep07/wfc_f606w_t81.dat\n",
      "F49 E49 ( 49): hst/ACS_update_sep07/wfc_f775w_t81.dat\n",
      "F24 E24 ( 24): hst/ACS_update_sep07/wfc_f814w_t81.dat\n",
      "F50 E50 ( 50): hst/ACS_update_sep07/wfc_f850lp_t81.dat\n",
      "F1 E1 (  1): jwst_nircam_f090w\n",
      "F2 E2 (  2): jwst_nircam_f115w\n",
      "F3 E3 (  3): jwst_nircam_f150w\n",
      "F38 E38 ( 38): jwst_nircam_f162m\n",
      "F39 E39 ( 39): jwst_nircam_f182m\n",
      "F4 E4 (  4): jwst_nircam_f200w\n",
      "F40 E40 ( 40): jwst_nircam_f210m\n",
      "F41 E41 ( 41): jwst_nircam_f250m\n",
      "F5 E5 (  5): jwst_nircam_f277w\n",
      "F42 E42 ( 42): jwst_nircam_f300m\n",
      "F43 E43 ( 43): jwst_nircam_f335m\n",
      "F6 E6 (  6): jwst_nircam_f356w\n",
      "F7 E7 (  7): jwst_nircam_f410m\n",
      "F8 E8 (  8): jwst_nircam_f444w\n",
      "Set sys_err = 0.00 (positive=True)\n",
      "Template grid: /nvme/scratch/work/tharvey/EAZY/inputs/scripts/templates/LarsonTemplates/tweak_fsps_QSF_12_v3_newtemplates.param (this may take some time)\n"
     ]
    },
    {
     "name": "stderr",
     "output_type": "stream",
     "text": [
      "100%|██████████| 18/18 [00:11<00:00,  1.58it/s]\n"
     ]
    },
    {
     "name": "stdout",
     "output_type": "stream",
     "text": [
      "Template   0: fsps_QSF_12_v3_001.dat (NZ=1).\n",
      "Template   1: fsps_QSF_12_v3_002.dat (NZ=1).\n",
      "Template   2: fsps_QSF_12_v3_003.dat (NZ=1).\n",
      "Template   3: fsps_QSF_12_v3_004.dat (NZ=1).\n",
      "Template   4: fsps_QSF_12_v3_005.dat (NZ=1).\n",
      "Template   5: fsps_QSF_12_v3_006.dat (NZ=1).\n",
      "Template   6: fsps_QSF_12_v3_007.dat (NZ=1).\n",
      "Template   7: fsps_QSF_12_v3_008.dat (NZ=1).\n",
      "Template   8: fsps_QSF_12_v3_009.dat (NZ=1).\n",
      "Template   9: fsps_QSF_12_v3_010.dat (NZ=1).\n",
      "Template  10: fsps_QSF_12_v3_011.dat (NZ=1).\n",
      "Template  11: fsps_QSF_12_v3_012.dat (NZ=1).\n",
      "Template  12: binc100z001age6_cloudy.dat (NZ=1).\n",
      "Template  13: binc100z001age65_cloudy.dat (NZ=1).\n",
      "Template  14: binc100z001age7_cloudy.dat (NZ=1).\n",
      "Template  15: binc100z001age6.dat (NZ=1).\n",
      "Template  16: binc100z001age65.dat (NZ=1).\n",
      "Template  17: binc100z001age7.dat (NZ=1).\n",
      "Process templates: 11.845 s\n"
     ]
    },
    {
     "name": "stderr",
     "output_type": "stream",
     "text": [
      "304it [00:00, 17809.46it/s]"
     ]
    },
    {
     "name": "stdout",
     "output_type": "stream",
     "text": [
      "Saving tempfilt to /nvme/scratch/work/tharvey/EXPANSE/src/EXPANSE/eazy/tempfilt/\n"
     ]
    },
    {
     "name": "stderr",
     "output_type": "stream",
     "text": [
      "\n",
      "100%|██████████| 304/304 [00:00<00:00, 4999.97it/s]\n"
     ]
    },
    {
     "name": "stdout",
     "output_type": "stream",
     "text": [
      "Compute best fits\n",
      "fit_best: 0.0 s (n_proc=1,  NOBJ=1)\n",
      "Fit 0.5 s (n_proc=4, NOBJ=1)\n",
      "Setting meta, id_phot, 0\n",
      "Setting meta, z_best, 6.2758055\n",
      "Setting meta, chi2, 26.686131696355385\n",
      "Setting meta, z16, 6.184077\n",
      "Setting meta, z50, 6.275905\n",
      "Setting meta, z84, 6.3697677\n",
      "Setting meta, flux_unit, uJy\n",
      "Setting meta, wave_unit, Angstrom\n",
      "Setting meta, templates_file, /nvme/scratch/work/tharvey/EAZY/inputs/scripts/templates/LarsonTemplates/tweak_fsps_QSF_12_v3_newtemplates.param\n",
      "Setting meta, z_min, 0.01\n",
      "Setting meta, z_max, 20.0\n",
      "Setting meta, z_step, 0.01\n",
      "Setting meta, region, MAG_APER_0.32 arcsec_fsps_larson_0.05__Asada24_cgm\n",
      " added to <HDF5 file \"JOF_psfmatched_6941.h5\" (mode r+)>, interactive_outputs/MAG_APER_0_32 arcsec_fsps_larson_0_05__Asada24_cgm/, eazy_fit\n",
      " added to <HDF5 file \"JOF_psfmatched_6941.h5\" (mode r+)>, interactive_outputs/MAG_APER_0_32 arcsec_fsps_larson_0_05__Asada24_cgm/, p_z\n",
      " added to <HDF5 file \"JOF_psfmatched_6941.h5\" (mode r+)>, interactive_outputs/MAG_APER_0_32 arcsec_fsps_larson_0_05__Asada24_cgm/, input_flux\n",
      " added to <HDF5 file \"JOF_psfmatched_6941.h5\" (mode r+)>, interactive_outputs/MAG_APER_0_32 arcsec_fsps_larson_0_05__Asada24_cgm/, input_flux_err\n",
      "Zeropoint: 23.9\n",
      "{'TEMPLATES_FILE': '/nvme/scratch/work/tharvey/EAZY/inputs/scripts/templates/LarsonTemplates/tweak_fsps_QSF_12_v3_newtemplates.param', 'FILTERS_RES': '/nvme/scratch/work/tharvey/EXPANSE/src/EXPANSE/eazy/jwst_nircam_FILTER.RES', 'MW_EBV': 0, 'CAT_HAS_EXTCORR': False, 'ADD_CGM': True, 'Z_STEP': 0.01, 'Z_MIN': 0.01, 'Z_MAX': 20.0, 'TEMP_ERR_FILE': '/nvme/scratch/work/tharvey/EXPANSE/src/EXPANSE/eazy/TEMPLATE_ERROR.eazy_v1.0', 'TEMP_ERR_A2': 0, 'SYS_ERR': 0, 'APPLY_PRIOR': 'n', 'PRIOR_ABZP': 23.9, 'PRIOR_FILTER': 28, 'PRIOR_FILE': '', 'FIX_ZSPEC': False, 'IGM_SCALE_TAU': 1.0, 'N_MIN_COLORS': 2, 'CATALOG_FILE': '/tmp/tmpit67e53w/eazy_input.fits'}\n",
      "Read default param file: /nvme/scratch/software/anaconda3/envs/tharvey_galfind/lib/python3.10/site-packages/eazy/data/zphot.param.default\n",
      "Read CATALOG_FILE: /tmp/tmpit67e53w/eazy_input.fits\n",
      "   >>> NOBJ = 1\n",
      "F22 E22 ( 22): hst/ACS_update_sep07/wfc_f435w_t81.dat\n",
      "F23 E23 ( 23): hst/ACS_update_sep07/wfc_f606w_t81.dat\n",
      "F49 E49 ( 49): hst/ACS_update_sep07/wfc_f775w_t81.dat\n",
      "F24 E24 ( 24): hst/ACS_update_sep07/wfc_f814w_t81.dat\n",
      "F50 E50 ( 50): hst/ACS_update_sep07/wfc_f850lp_t81.dat\n",
      "F1 E1 (  1): jwst_nircam_f090w\n",
      "F2 E2 (  2): jwst_nircam_f115w\n",
      "F3 E3 (  3): jwst_nircam_f150w\n",
      "F38 E38 ( 38): jwst_nircam_f162m\n",
      "F39 E39 ( 39): jwst_nircam_f182m\n",
      "F4 E4 (  4): jwst_nircam_f200w\n",
      "F40 E40 ( 40): jwst_nircam_f210m\n",
      "F41 E41 ( 41): jwst_nircam_f250m\n",
      "F5 E5 (  5): jwst_nircam_f277w\n",
      "F42 E42 ( 42): jwst_nircam_f300m\n",
      "F43 E43 ( 43): jwst_nircam_f335m\n",
      "F6 E6 (  6): jwst_nircam_f356w\n",
      "F7 E7 (  7): jwst_nircam_f410m\n",
      "F8 E8 (  8): jwst_nircam_f444w\n",
      "Set sys_err = 0.00 (positive=True)\n",
      "Template grid: /nvme/scratch/work/tharvey/EAZY/inputs/scripts/templates/LarsonTemplates/tweak_fsps_QSF_12_v3_newtemplates.param (this may take some time)\n"
     ]
    },
    {
     "name": "stderr",
     "output_type": "stream",
     "text": [
      "100%|██████████| 18/18 [00:11<00:00,  1.58it/s]\n"
     ]
    },
    {
     "name": "stdout",
     "output_type": "stream",
     "text": [
      "Template   0: fsps_QSF_12_v3_001.dat (NZ=1).\n",
      "Template   1: fsps_QSF_12_v3_002.dat (NZ=1).\n",
      "Template   2: fsps_QSF_12_v3_003.dat (NZ=1).\n",
      "Template   3: fsps_QSF_12_v3_004.dat (NZ=1).\n",
      "Template   4: fsps_QSF_12_v3_005.dat (NZ=1).\n",
      "Template   5: fsps_QSF_12_v3_006.dat (NZ=1).\n",
      "Template   6: fsps_QSF_12_v3_007.dat (NZ=1).\n",
      "Template   7: fsps_QSF_12_v3_008.dat (NZ=1).\n",
      "Template   8: fsps_QSF_12_v3_009.dat (NZ=1).\n",
      "Template   9: fsps_QSF_12_v3_010.dat (NZ=1).\n",
      "Template  10: fsps_QSF_12_v3_011.dat (NZ=1).\n",
      "Template  11: fsps_QSF_12_v3_012.dat (NZ=1).\n",
      "Template  12: binc100z001age6_cloudy.dat (NZ=1).\n",
      "Template  13: binc100z001age65_cloudy.dat (NZ=1).\n",
      "Template  14: binc100z001age7_cloudy.dat (NZ=1).\n",
      "Template  15: binc100z001age6.dat (NZ=1).\n",
      "Template  16: binc100z001age65.dat (NZ=1).\n",
      "Template  17: binc100z001age7.dat (NZ=1).\n",
      "Process templates: 11.860 s\n"
     ]
    },
    {
     "name": "stderr",
     "output_type": "stream",
     "text": [
      "304it [00:00, 18766.18it/s]"
     ]
    },
    {
     "name": "stdout",
     "output_type": "stream",
     "text": [
      "Saving tempfilt to /nvme/scratch/work/tharvey/EXPANSE/src/EXPANSE/eazy/tempfilt/\n"
     ]
    },
    {
     "name": "stderr",
     "output_type": "stream",
     "text": [
      "\n",
      "100%|██████████| 304/304 [00:00<00:00, 4496.96it/s]\n"
     ]
    },
    {
     "name": "stdout",
     "output_type": "stream",
     "text": [
      "Compute best fits\n",
      "fit_best: 0.0 s (n_proc=1,  NOBJ=1)\n",
      "Fit 0.5 s (n_proc=4, NOBJ=1)\n",
      "Setting meta, id_phot, 0\n",
      "Setting meta, z_best, 7.2167706\n",
      "Setting meta, chi2, 22.358464678949996\n",
      "Setting meta, z16, 7.1278014\n",
      "Setting meta, z50, 7.231522\n",
      "Setting meta, z84, 7.3475227\n",
      "Setting meta, flux_unit, uJy\n",
      "Setting meta, wave_unit, Angstrom\n",
      "Setting meta, templates_file, /nvme/scratch/work/tharvey/EAZY/inputs/scripts/templates/LarsonTemplates/tweak_fsps_QSF_12_v3_newtemplates.param\n",
      "Setting meta, z_min, 0.01\n",
      "Setting meta, z_max, 20.0\n",
      "Setting meta, z_step, 0.01\n",
      "Setting meta, region, MAG_APER_0.32 arcsec_fsps_larson_0.05__Asada24_cgm\n",
      " added to <HDF5 file \"JOF_psfmatched_6962.h5\" (mode r+)>, interactive_outputs/MAG_APER_0_32 arcsec_fsps_larson_0_05__Asada24_cgm/, eazy_fit\n",
      " added to <HDF5 file \"JOF_psfmatched_6962.h5\" (mode r+)>, interactive_outputs/MAG_APER_0_32 arcsec_fsps_larson_0_05__Asada24_cgm/, p_z\n",
      " added to <HDF5 file \"JOF_psfmatched_6962.h5\" (mode r+)>, interactive_outputs/MAG_APER_0_32 arcsec_fsps_larson_0_05__Asada24_cgm/, input_flux\n",
      " added to <HDF5 file \"JOF_psfmatched_6962.h5\" (mode r+)>, interactive_outputs/MAG_APER_0_32 arcsec_fsps_larson_0_05__Asada24_cgm/, input_flux_err\n",
      "Zeropoint: 23.9\n",
      "{'TEMPLATES_FILE': '/nvme/scratch/work/tharvey/EAZY/inputs/scripts/templates/LarsonTemplates/tweak_fsps_QSF_12_v3_newtemplates.param', 'FILTERS_RES': '/nvme/scratch/work/tharvey/EXPANSE/src/EXPANSE/eazy/jwst_nircam_FILTER.RES', 'MW_EBV': 0, 'CAT_HAS_EXTCORR': False, 'ADD_CGM': True, 'Z_STEP': 0.01, 'Z_MIN': 0.01, 'Z_MAX': 20.0, 'TEMP_ERR_FILE': '/nvme/scratch/work/tharvey/EXPANSE/src/EXPANSE/eazy/TEMPLATE_ERROR.eazy_v1.0', 'TEMP_ERR_A2': 0, 'SYS_ERR': 0, 'APPLY_PRIOR': 'n', 'PRIOR_ABZP': 23.9, 'PRIOR_FILTER': 28, 'PRIOR_FILE': '', 'FIX_ZSPEC': False, 'IGM_SCALE_TAU': 1.0, 'N_MIN_COLORS': 2, 'CATALOG_FILE': '/tmp/tmphv70_wzk/eazy_input.fits'}\n",
      "Read default param file: /nvme/scratch/software/anaconda3/envs/tharvey_galfind/lib/python3.10/site-packages/eazy/data/zphot.param.default\n",
      "Read CATALOG_FILE: /tmp/tmphv70_wzk/eazy_input.fits\n",
      "   >>> NOBJ = 1\n",
      "F22 E22 ( 22): hst/ACS_update_sep07/wfc_f435w_t81.dat\n",
      "F23 E23 ( 23): hst/ACS_update_sep07/wfc_f606w_t81.dat\n",
      "F49 E49 ( 49): hst/ACS_update_sep07/wfc_f775w_t81.dat\n",
      "F24 E24 ( 24): hst/ACS_update_sep07/wfc_f814w_t81.dat\n",
      "F50 E50 ( 50): hst/ACS_update_sep07/wfc_f850lp_t81.dat\n",
      "F1 E1 (  1): jwst_nircam_f090w\n",
      "F2 E2 (  2): jwst_nircam_f115w\n",
      "F3 E3 (  3): jwst_nircam_f150w\n",
      "F38 E38 ( 38): jwst_nircam_f162m\n",
      "F39 E39 ( 39): jwst_nircam_f182m\n",
      "F4 E4 (  4): jwst_nircam_f200w\n",
      "F40 E40 ( 40): jwst_nircam_f210m\n",
      "F41 E41 ( 41): jwst_nircam_f250m\n",
      "F5 E5 (  5): jwst_nircam_f277w\n",
      "F42 E42 ( 42): jwst_nircam_f300m\n",
      "F43 E43 ( 43): jwst_nircam_f335m\n",
      "F6 E6 (  6): jwst_nircam_f356w\n",
      "F7 E7 (  7): jwst_nircam_f410m\n",
      "F8 E8 (  8): jwst_nircam_f444w\n",
      "Set sys_err = 0.00 (positive=True)\n",
      "Template grid: /nvme/scratch/work/tharvey/EAZY/inputs/scripts/templates/LarsonTemplates/tweak_fsps_QSF_12_v3_newtemplates.param (this may take some time)\n"
     ]
    },
    {
     "name": "stderr",
     "output_type": "stream",
     "text": [
      "100%|██████████| 18/18 [00:11<00:00,  1.59it/s]\n"
     ]
    },
    {
     "name": "stdout",
     "output_type": "stream",
     "text": [
      "Template   0: fsps_QSF_12_v3_001.dat (NZ=1).\n",
      "Template   1: fsps_QSF_12_v3_002.dat (NZ=1).\n",
      "Template   2: fsps_QSF_12_v3_003.dat (NZ=1).\n",
      "Template   3: fsps_QSF_12_v3_004.dat (NZ=1).\n",
      "Template   4: fsps_QSF_12_v3_005.dat (NZ=1).\n",
      "Template   5: fsps_QSF_12_v3_006.dat (NZ=1).\n",
      "Template   6: fsps_QSF_12_v3_007.dat (NZ=1).\n",
      "Template   7: fsps_QSF_12_v3_008.dat (NZ=1).\n",
      "Template   8: fsps_QSF_12_v3_009.dat (NZ=1).\n",
      "Template   9: fsps_QSF_12_v3_010.dat (NZ=1).\n",
      "Template  10: fsps_QSF_12_v3_011.dat (NZ=1).\n",
      "Template  11: fsps_QSF_12_v3_012.dat (NZ=1).\n",
      "Template  12: binc100z001age6_cloudy.dat (NZ=1).\n",
      "Template  13: binc100z001age65_cloudy.dat (NZ=1).\n",
      "Template  14: binc100z001age7_cloudy.dat (NZ=1).\n",
      "Template  15: binc100z001age6.dat (NZ=1).\n",
      "Template  16: binc100z001age65.dat (NZ=1).\n",
      "Template  17: binc100z001age7.dat (NZ=1).\n",
      "Process templates: 11.858 s\n"
     ]
    },
    {
     "name": "stderr",
     "output_type": "stream",
     "text": [
      "304it [00:00, 28372.68it/s]"
     ]
    },
    {
     "name": "stdout",
     "output_type": "stream",
     "text": [
      "Saving tempfilt to /nvme/scratch/work/tharvey/EXPANSE/src/EXPANSE/eazy/tempfilt/\n"
     ]
    },
    {
     "name": "stderr",
     "output_type": "stream",
     "text": [
      "\n",
      "100%|██████████| 304/304 [00:00<00:00, 4434.59it/s]\n"
     ]
    },
    {
     "name": "stdout",
     "output_type": "stream",
     "text": [
      "Compute best fits\n",
      "fit_best: 0.0 s (n_proc=1,  NOBJ=1)\n",
      "Fit 0.4 s (n_proc=4, NOBJ=1)\n",
      "Setting meta, id_phot, 0\n",
      "Setting meta, z_best, 7.784689\n",
      "Setting meta, chi2, 12.103953971495347\n",
      "Setting meta, z16, 7.420125\n",
      "Setting meta, z50, 7.765777\n",
      "Setting meta, z84, 7.8885136\n",
      "Setting meta, flux_unit, uJy\n",
      "Setting meta, wave_unit, Angstrom\n",
      "Setting meta, templates_file, /nvme/scratch/work/tharvey/EAZY/inputs/scripts/templates/LarsonTemplates/tweak_fsps_QSF_12_v3_newtemplates.param\n",
      "Setting meta, z_min, 0.01\n",
      "Setting meta, z_max, 20.0\n",
      "Setting meta, z_step, 0.01\n",
      "Setting meta, region, MAG_APER_0.32 arcsec_fsps_larson_0.05__Asada24_cgm\n",
      " added to <HDF5 file \"JOF_psfmatched_711.h5\" (mode r+)>, interactive_outputs/MAG_APER_0_32 arcsec_fsps_larson_0_05__Asada24_cgm/, eazy_fit\n",
      " added to <HDF5 file \"JOF_psfmatched_711.h5\" (mode r+)>, interactive_outputs/MAG_APER_0_32 arcsec_fsps_larson_0_05__Asada24_cgm/, p_z\n",
      " added to <HDF5 file \"JOF_psfmatched_711.h5\" (mode r+)>, interactive_outputs/MAG_APER_0_32 arcsec_fsps_larson_0_05__Asada24_cgm/, input_flux\n",
      " added to <HDF5 file \"JOF_psfmatched_711.h5\" (mode r+)>, interactive_outputs/MAG_APER_0_32 arcsec_fsps_larson_0_05__Asada24_cgm/, input_flux_err\n",
      "Zeropoint: 23.9\n",
      "{'TEMPLATES_FILE': '/nvme/scratch/work/tharvey/EAZY/inputs/scripts/templates/LarsonTemplates/tweak_fsps_QSF_12_v3_newtemplates.param', 'FILTERS_RES': '/nvme/scratch/work/tharvey/EXPANSE/src/EXPANSE/eazy/jwst_nircam_FILTER.RES', 'MW_EBV': 0, 'CAT_HAS_EXTCORR': False, 'ADD_CGM': True, 'Z_STEP': 0.01, 'Z_MIN': 0.01, 'Z_MAX': 20.0, 'TEMP_ERR_FILE': '/nvme/scratch/work/tharvey/EXPANSE/src/EXPANSE/eazy/TEMPLATE_ERROR.eazy_v1.0', 'TEMP_ERR_A2': 0, 'SYS_ERR': 0, 'APPLY_PRIOR': 'n', 'PRIOR_ABZP': 23.9, 'PRIOR_FILTER': 28, 'PRIOR_FILE': '', 'FIX_ZSPEC': False, 'IGM_SCALE_TAU': 1.0, 'N_MIN_COLORS': 2, 'CATALOG_FILE': '/tmp/tmp6bd6a_d2/eazy_input.fits'}\n",
      "Read default param file: /nvme/scratch/software/anaconda3/envs/tharvey_galfind/lib/python3.10/site-packages/eazy/data/zphot.param.default\n",
      "Read CATALOG_FILE: /tmp/tmp6bd6a_d2/eazy_input.fits\n",
      "   >>> NOBJ = 1\n",
      "F22 E22 ( 22): hst/ACS_update_sep07/wfc_f435w_t81.dat\n",
      "F23 E23 ( 23): hst/ACS_update_sep07/wfc_f606w_t81.dat\n",
      "F49 E49 ( 49): hst/ACS_update_sep07/wfc_f775w_t81.dat\n",
      "F24 E24 ( 24): hst/ACS_update_sep07/wfc_f814w_t81.dat\n",
      "F50 E50 ( 50): hst/ACS_update_sep07/wfc_f850lp_t81.dat\n",
      "F1 E1 (  1): jwst_nircam_f090w\n",
      "F2 E2 (  2): jwst_nircam_f115w\n",
      "F3 E3 (  3): jwst_nircam_f150w\n",
      "F38 E38 ( 38): jwst_nircam_f162m\n",
      "F39 E39 ( 39): jwst_nircam_f182m\n",
      "F4 E4 (  4): jwst_nircam_f200w\n",
      "F40 E40 ( 40): jwst_nircam_f210m\n",
      "F41 E41 ( 41): jwst_nircam_f250m\n",
      "F5 E5 (  5): jwst_nircam_f277w\n",
      "F42 E42 ( 42): jwst_nircam_f300m\n",
      "F43 E43 ( 43): jwst_nircam_f335m\n",
      "F6 E6 (  6): jwst_nircam_f356w\n",
      "F7 E7 (  7): jwst_nircam_f410m\n",
      "F8 E8 (  8): jwst_nircam_f444w\n",
      "Set sys_err = 0.00 (positive=True)\n",
      "Template grid: /nvme/scratch/work/tharvey/EAZY/inputs/scripts/templates/LarsonTemplates/tweak_fsps_QSF_12_v3_newtemplates.param (this may take some time)\n"
     ]
    },
    {
     "name": "stderr",
     "output_type": "stream",
     "text": [
      "100%|██████████| 18/18 [00:11<00:00,  1.55it/s]\n"
     ]
    },
    {
     "name": "stdout",
     "output_type": "stream",
     "text": [
      "Template   0: fsps_QSF_12_v3_001.dat (NZ=1).\n",
      "Template   1: fsps_QSF_12_v3_002.dat (NZ=1).\n",
      "Template   2: fsps_QSF_12_v3_003.dat (NZ=1).\n",
      "Template   3: fsps_QSF_12_v3_004.dat (NZ=1).\n",
      "Template   4: fsps_QSF_12_v3_005.dat (NZ=1).\n",
      "Template   5: fsps_QSF_12_v3_006.dat (NZ=1).\n",
      "Template   6: fsps_QSF_12_v3_007.dat (NZ=1).\n",
      "Template   7: fsps_QSF_12_v3_008.dat (NZ=1).\n",
      "Template   8: fsps_QSF_12_v3_009.dat (NZ=1).\n",
      "Template   9: fsps_QSF_12_v3_010.dat (NZ=1).\n",
      "Template  10: fsps_QSF_12_v3_011.dat (NZ=1).\n",
      "Template  11: fsps_QSF_12_v3_012.dat (NZ=1).\n",
      "Template  12: binc100z001age6_cloudy.dat (NZ=1).\n",
      "Template  13: binc100z001age65_cloudy.dat (NZ=1).\n",
      "Template  14: binc100z001age7_cloudy.dat (NZ=1).\n",
      "Template  15: binc100z001age6.dat (NZ=1).\n",
      "Template  16: binc100z001age65.dat (NZ=1).\n",
      "Template  17: binc100z001age7.dat (NZ=1).\n",
      "Process templates: 12.156 s\n"
     ]
    },
    {
     "name": "stderr",
     "output_type": "stream",
     "text": [
      "304it [00:00, 20353.22it/s]"
     ]
    },
    {
     "name": "stdout",
     "output_type": "stream",
     "text": [
      "Saving tempfilt to /nvme/scratch/work/tharvey/EXPANSE/src/EXPANSE/eazy/tempfilt/\n"
     ]
    },
    {
     "name": "stderr",
     "output_type": "stream",
     "text": [
      "\n",
      "100%|██████████| 304/304 [00:00<00:00, 5006.20it/s]\n"
     ]
    },
    {
     "name": "stdout",
     "output_type": "stream",
     "text": [
      "Compute best fits\n",
      "fit_best: 0.0 s (n_proc=1,  NOBJ=1)\n",
      "Fit 0.5 s (n_proc=4, NOBJ=1)\n",
      "Setting meta, id_phot, 0\n",
      "Setting meta, z_best, 4.532154\n",
      "Setting meta, chi2, 17.04574239327043\n",
      "Setting meta, z16, 4.3907127\n",
      "Setting meta, z50, 4.501368\n",
      "Setting meta, z84, 4.584738\n",
      "Setting meta, flux_unit, uJy\n",
      "Setting meta, wave_unit, Angstrom\n",
      "Setting meta, templates_file, /nvme/scratch/work/tharvey/EAZY/inputs/scripts/templates/LarsonTemplates/tweak_fsps_QSF_12_v3_newtemplates.param\n",
      "Setting meta, z_min, 0.01\n",
      "Setting meta, z_max, 20.0\n",
      "Setting meta, z_step, 0.01\n",
      "Setting meta, region, MAG_APER_0.32 arcsec_fsps_larson_0.05__Asada24_cgm\n",
      " added to <HDF5 file \"JOF_psfmatched_7136.h5\" (mode r+)>, interactive_outputs/MAG_APER_0_32 arcsec_fsps_larson_0_05__Asada24_cgm/, eazy_fit\n",
      " added to <HDF5 file \"JOF_psfmatched_7136.h5\" (mode r+)>, interactive_outputs/MAG_APER_0_32 arcsec_fsps_larson_0_05__Asada24_cgm/, p_z\n",
      " added to <HDF5 file \"JOF_psfmatched_7136.h5\" (mode r+)>, interactive_outputs/MAG_APER_0_32 arcsec_fsps_larson_0_05__Asada24_cgm/, input_flux\n",
      " added to <HDF5 file \"JOF_psfmatched_7136.h5\" (mode r+)>, interactive_outputs/MAG_APER_0_32 arcsec_fsps_larson_0_05__Asada24_cgm/, input_flux_err\n",
      "Zeropoint: 23.9\n",
      "{'TEMPLATES_FILE': '/nvme/scratch/work/tharvey/EAZY/inputs/scripts/templates/LarsonTemplates/tweak_fsps_QSF_12_v3_newtemplates.param', 'FILTERS_RES': '/nvme/scratch/work/tharvey/EXPANSE/src/EXPANSE/eazy/jwst_nircam_FILTER.RES', 'MW_EBV': 0, 'CAT_HAS_EXTCORR': False, 'ADD_CGM': True, 'Z_STEP': 0.01, 'Z_MIN': 0.01, 'Z_MAX': 20.0, 'TEMP_ERR_FILE': '/nvme/scratch/work/tharvey/EXPANSE/src/EXPANSE/eazy/TEMPLATE_ERROR.eazy_v1.0', 'TEMP_ERR_A2': 0, 'SYS_ERR': 0, 'APPLY_PRIOR': 'n', 'PRIOR_ABZP': 23.9, 'PRIOR_FILTER': 28, 'PRIOR_FILE': '', 'FIX_ZSPEC': False, 'IGM_SCALE_TAU': 1.0, 'N_MIN_COLORS': 2, 'CATALOG_FILE': '/tmp/tmp1jt0uz36/eazy_input.fits'}\n",
      "Read default param file: /nvme/scratch/software/anaconda3/envs/tharvey_galfind/lib/python3.10/site-packages/eazy/data/zphot.param.default\n",
      "Read CATALOG_FILE: /tmp/tmp1jt0uz36/eazy_input.fits\n",
      "   >>> NOBJ = 1\n",
      "F22 E22 ( 22): hst/ACS_update_sep07/wfc_f435w_t81.dat\n",
      "F23 E23 ( 23): hst/ACS_update_sep07/wfc_f606w_t81.dat\n",
      "F49 E49 ( 49): hst/ACS_update_sep07/wfc_f775w_t81.dat\n",
      "F24 E24 ( 24): hst/ACS_update_sep07/wfc_f814w_t81.dat\n",
      "F50 E50 ( 50): hst/ACS_update_sep07/wfc_f850lp_t81.dat\n",
      "F1 E1 (  1): jwst_nircam_f090w\n",
      "F2 E2 (  2): jwst_nircam_f115w\n",
      "F3 E3 (  3): jwst_nircam_f150w\n",
      "F38 E38 ( 38): jwst_nircam_f162m\n",
      "F39 E39 ( 39): jwst_nircam_f182m\n",
      "F4 E4 (  4): jwst_nircam_f200w\n",
      "F40 E40 ( 40): jwst_nircam_f210m\n",
      "F41 E41 ( 41): jwst_nircam_f250m\n",
      "F5 E5 (  5): jwst_nircam_f277w\n",
      "F42 E42 ( 42): jwst_nircam_f300m\n",
      "F43 E43 ( 43): jwst_nircam_f335m\n",
      "F6 E6 (  6): jwst_nircam_f356w\n",
      "F7 E7 (  7): jwst_nircam_f410m\n",
      "F8 E8 (  8): jwst_nircam_f444w\n",
      "Set sys_err = 0.00 (positive=True)\n",
      "Template grid: /nvme/scratch/work/tharvey/EAZY/inputs/scripts/templates/LarsonTemplates/tweak_fsps_QSF_12_v3_newtemplates.param (this may take some time)\n"
     ]
    },
    {
     "name": "stderr",
     "output_type": "stream",
     "text": [
      "100%|██████████| 18/18 [00:11<00:00,  1.55it/s]\n"
     ]
    },
    {
     "name": "stdout",
     "output_type": "stream",
     "text": [
      "Template   0: fsps_QSF_12_v3_001.dat (NZ=1).\n",
      "Template   1: fsps_QSF_12_v3_002.dat (NZ=1).\n",
      "Template   2: fsps_QSF_12_v3_003.dat (NZ=1).\n",
      "Template   3: fsps_QSF_12_v3_004.dat (NZ=1).\n",
      "Template   4: fsps_QSF_12_v3_005.dat (NZ=1).\n",
      "Template   5: fsps_QSF_12_v3_006.dat (NZ=1).\n",
      "Template   6: fsps_QSF_12_v3_007.dat (NZ=1).\n",
      "Template   7: fsps_QSF_12_v3_008.dat (NZ=1).\n",
      "Template   8: fsps_QSF_12_v3_009.dat (NZ=1).\n",
      "Template   9: fsps_QSF_12_v3_010.dat (NZ=1).\n",
      "Template  10: fsps_QSF_12_v3_011.dat (NZ=1).\n",
      "Template  11: fsps_QSF_12_v3_012.dat (NZ=1).\n",
      "Template  12: binc100z001age6_cloudy.dat (NZ=1).\n",
      "Template  13: binc100z001age65_cloudy.dat (NZ=1).\n",
      "Template  14: binc100z001age7_cloudy.dat (NZ=1).\n",
      "Template  15: binc100z001age6.dat (NZ=1).\n",
      "Template  16: binc100z001age65.dat (NZ=1).\n",
      "Template  17: binc100z001age7.dat (NZ=1).\n",
      "Process templates: 12.103 s\n"
     ]
    },
    {
     "name": "stderr",
     "output_type": "stream",
     "text": [
      "304it [00:00, 25000.36it/s]"
     ]
    },
    {
     "name": "stdout",
     "output_type": "stream",
     "text": [
      "Saving tempfilt to /nvme/scratch/work/tharvey/EXPANSE/src/EXPANSE/eazy/tempfilt/\n"
     ]
    },
    {
     "name": "stderr",
     "output_type": "stream",
     "text": [
      "\n",
      "100%|██████████| 304/304 [00:00<00:00, 4208.31it/s]\n"
     ]
    },
    {
     "name": "stdout",
     "output_type": "stream",
     "text": [
      "Compute best fits\n",
      "fit_best: 0.0 s (n_proc=1,  NOBJ=1)\n",
      "Fit 0.5 s (n_proc=4, NOBJ=1)\n",
      "Setting meta, id_phot, 0\n",
      "Setting meta, z_best, 6.530255\n",
      "Setting meta, chi2, 42.42875046610202\n",
      "Setting meta, z16, 6.3874197\n",
      "Setting meta, z50, 6.534227\n",
      "Setting meta, z84, 6.7046103\n",
      "Setting meta, flux_unit, uJy\n",
      "Setting meta, wave_unit, Angstrom\n",
      "Setting meta, templates_file, /nvme/scratch/work/tharvey/EAZY/inputs/scripts/templates/LarsonTemplates/tweak_fsps_QSF_12_v3_newtemplates.param\n",
      "Setting meta, z_min, 0.01\n",
      "Setting meta, z_max, 20.0\n",
      "Setting meta, z_step, 0.01\n",
      "Setting meta, region, MAG_APER_0.32 arcsec_fsps_larson_0.05__Asada24_cgm\n",
      " added to <HDF5 file \"JOF_psfmatched_7155.h5\" (mode r+)>, interactive_outputs/MAG_APER_0_32 arcsec_fsps_larson_0_05__Asada24_cgm/, eazy_fit\n",
      " added to <HDF5 file \"JOF_psfmatched_7155.h5\" (mode r+)>, interactive_outputs/MAG_APER_0_32 arcsec_fsps_larson_0_05__Asada24_cgm/, p_z\n",
      " added to <HDF5 file \"JOF_psfmatched_7155.h5\" (mode r+)>, interactive_outputs/MAG_APER_0_32 arcsec_fsps_larson_0_05__Asada24_cgm/, input_flux\n",
      " added to <HDF5 file \"JOF_psfmatched_7155.h5\" (mode r+)>, interactive_outputs/MAG_APER_0_32 arcsec_fsps_larson_0_05__Asada24_cgm/, input_flux_err\n",
      "Zeropoint: 23.9\n",
      "{'TEMPLATES_FILE': '/nvme/scratch/work/tharvey/EAZY/inputs/scripts/templates/LarsonTemplates/tweak_fsps_QSF_12_v3_newtemplates.param', 'FILTERS_RES': '/nvme/scratch/work/tharvey/EXPANSE/src/EXPANSE/eazy/jwst_nircam_FILTER.RES', 'MW_EBV': 0, 'CAT_HAS_EXTCORR': False, 'ADD_CGM': True, 'Z_STEP': 0.01, 'Z_MIN': 0.01, 'Z_MAX': 20.0, 'TEMP_ERR_FILE': '/nvme/scratch/work/tharvey/EXPANSE/src/EXPANSE/eazy/TEMPLATE_ERROR.eazy_v1.0', 'TEMP_ERR_A2': 0, 'SYS_ERR': 0, 'APPLY_PRIOR': 'n', 'PRIOR_ABZP': 23.9, 'PRIOR_FILTER': 28, 'PRIOR_FILE': '', 'FIX_ZSPEC': False, 'IGM_SCALE_TAU': 1.0, 'N_MIN_COLORS': 2, 'CATALOG_FILE': '/tmp/tmp8afh8o2b/eazy_input.fits'}\n",
      "Read default param file: /nvme/scratch/software/anaconda3/envs/tharvey_galfind/lib/python3.10/site-packages/eazy/data/zphot.param.default\n",
      "Read CATALOG_FILE: /tmp/tmp8afh8o2b/eazy_input.fits\n",
      "   >>> NOBJ = 1\n",
      "F22 E22 ( 22): hst/ACS_update_sep07/wfc_f435w_t81.dat\n",
      "F23 E23 ( 23): hst/ACS_update_sep07/wfc_f606w_t81.dat\n",
      "F49 E49 ( 49): hst/ACS_update_sep07/wfc_f775w_t81.dat\n",
      "F24 E24 ( 24): hst/ACS_update_sep07/wfc_f814w_t81.dat\n",
      "F50 E50 ( 50): hst/ACS_update_sep07/wfc_f850lp_t81.dat\n",
      "F1 E1 (  1): jwst_nircam_f090w\n",
      "F2 E2 (  2): jwst_nircam_f115w\n",
      "F3 E3 (  3): jwst_nircam_f150w\n",
      "F38 E38 ( 38): jwst_nircam_f162m\n",
      "F39 E39 ( 39): jwst_nircam_f182m\n",
      "F4 E4 (  4): jwst_nircam_f200w\n",
      "F40 E40 ( 40): jwst_nircam_f210m\n",
      "F41 E41 ( 41): jwst_nircam_f250m\n",
      "F5 E5 (  5): jwst_nircam_f277w\n",
      "F42 E42 ( 42): jwst_nircam_f300m\n",
      "F43 E43 ( 43): jwst_nircam_f335m\n",
      "F6 E6 (  6): jwst_nircam_f356w\n",
      "F7 E7 (  7): jwst_nircam_f410m\n",
      "F8 E8 (  8): jwst_nircam_f444w\n",
      "Set sys_err = 0.00 (positive=True)\n",
      "Template grid: /nvme/scratch/work/tharvey/EAZY/inputs/scripts/templates/LarsonTemplates/tweak_fsps_QSF_12_v3_newtemplates.param (this may take some time)\n"
     ]
    },
    {
     "name": "stderr",
     "output_type": "stream",
     "text": [
      "100%|██████████| 18/18 [00:11<00:00,  1.61it/s]\n"
     ]
    },
    {
     "name": "stdout",
     "output_type": "stream",
     "text": [
      "Template   0: fsps_QSF_12_v3_001.dat (NZ=1).\n",
      "Template   1: fsps_QSF_12_v3_002.dat (NZ=1).\n",
      "Template   2: fsps_QSF_12_v3_003.dat (NZ=1).\n",
      "Template   3: fsps_QSF_12_v3_004.dat (NZ=1).\n",
      "Template   4: fsps_QSF_12_v3_005.dat (NZ=1).\n",
      "Template   5: fsps_QSF_12_v3_006.dat (NZ=1).\n",
      "Template   6: fsps_QSF_12_v3_007.dat (NZ=1).\n",
      "Template   7: fsps_QSF_12_v3_008.dat (NZ=1).\n",
      "Template   8: fsps_QSF_12_v3_009.dat (NZ=1).\n",
      "Template   9: fsps_QSF_12_v3_010.dat (NZ=1).\n",
      "Template  10: fsps_QSF_12_v3_011.dat (NZ=1).\n",
      "Template  11: fsps_QSF_12_v3_012.dat (NZ=1).\n",
      "Template  12: binc100z001age6_cloudy.dat (NZ=1).\n",
      "Template  13: binc100z001age65_cloudy.dat (NZ=1).\n",
      "Template  14: binc100z001age7_cloudy.dat (NZ=1).\n",
      "Template  15: binc100z001age6.dat (NZ=1).\n",
      "Template  16: binc100z001age65.dat (NZ=1).\n",
      "Template  17: binc100z001age7.dat (NZ=1).\n",
      "Process templates: 11.720 s\n"
     ]
    },
    {
     "name": "stderr",
     "output_type": "stream",
     "text": [
      "304it [00:00, 25582.72it/s]"
     ]
    },
    {
     "name": "stdout",
     "output_type": "stream",
     "text": [
      "Saving tempfilt to /nvme/scratch/work/tharvey/EXPANSE/src/EXPANSE/eazy/tempfilt/\n"
     ]
    },
    {
     "name": "stderr",
     "output_type": "stream",
     "text": [
      "\n",
      "100%|██████████| 304/304 [00:00<00:00, 4908.75it/s]\n"
     ]
    },
    {
     "name": "stdout",
     "output_type": "stream",
     "text": [
      "Compute best fits\n",
      "fit_best: 0.0 s (n_proc=1,  NOBJ=1)\n",
      "Fit 0.4 s (n_proc=4, NOBJ=1)\n",
      "Setting meta, id_phot, 0\n",
      "Setting meta, z_best, 4.7344794\n",
      "Setting meta, chi2, 20.173176034659356\n",
      "Setting meta, z16, 4.708771\n",
      "Setting meta, z50, 4.737513\n",
      "Setting meta, z84, 4.7790775\n",
      "Setting meta, flux_unit, uJy\n",
      "Setting meta, wave_unit, Angstrom\n",
      "Setting meta, templates_file, /nvme/scratch/work/tharvey/EAZY/inputs/scripts/templates/LarsonTemplates/tweak_fsps_QSF_12_v3_newtemplates.param\n",
      "Setting meta, z_min, 0.01\n",
      "Setting meta, z_max, 20.0\n",
      "Setting meta, z_step, 0.01\n",
      "Setting meta, region, MAG_APER_0.32 arcsec_fsps_larson_0.05__Asada24_cgm\n",
      " added to <HDF5 file \"JOF_psfmatched_7246.h5\" (mode r+)>, interactive_outputs/MAG_APER_0_32 arcsec_fsps_larson_0_05__Asada24_cgm/, eazy_fit\n",
      " added to <HDF5 file \"JOF_psfmatched_7246.h5\" (mode r+)>, interactive_outputs/MAG_APER_0_32 arcsec_fsps_larson_0_05__Asada24_cgm/, p_z\n",
      " added to <HDF5 file \"JOF_psfmatched_7246.h5\" (mode r+)>, interactive_outputs/MAG_APER_0_32 arcsec_fsps_larson_0_05__Asada24_cgm/, input_flux\n",
      " added to <HDF5 file \"JOF_psfmatched_7246.h5\" (mode r+)>, interactive_outputs/MAG_APER_0_32 arcsec_fsps_larson_0_05__Asada24_cgm/, input_flux_err\n",
      "Zeropoint: 23.9\n",
      "{'TEMPLATES_FILE': '/nvme/scratch/work/tharvey/EAZY/inputs/scripts/templates/LarsonTemplates/tweak_fsps_QSF_12_v3_newtemplates.param', 'FILTERS_RES': '/nvme/scratch/work/tharvey/EXPANSE/src/EXPANSE/eazy/jwst_nircam_FILTER.RES', 'MW_EBV': 0, 'CAT_HAS_EXTCORR': False, 'ADD_CGM': True, 'Z_STEP': 0.01, 'Z_MIN': 0.01, 'Z_MAX': 20.0, 'TEMP_ERR_FILE': '/nvme/scratch/work/tharvey/EXPANSE/src/EXPANSE/eazy/TEMPLATE_ERROR.eazy_v1.0', 'TEMP_ERR_A2': 0, 'SYS_ERR': 0, 'APPLY_PRIOR': 'n', 'PRIOR_ABZP': 23.9, 'PRIOR_FILTER': 28, 'PRIOR_FILE': '', 'FIX_ZSPEC': False, 'IGM_SCALE_TAU': 1.0, 'N_MIN_COLORS': 2, 'CATALOG_FILE': '/tmp/tmpviqvbmmv/eazy_input.fits'}\n",
      "Read default param file: /nvme/scratch/software/anaconda3/envs/tharvey_galfind/lib/python3.10/site-packages/eazy/data/zphot.param.default\n",
      "Read CATALOG_FILE: /tmp/tmpviqvbmmv/eazy_input.fits\n",
      "   >>> NOBJ = 1\n",
      "F22 E22 ( 22): hst/ACS_update_sep07/wfc_f435w_t81.dat\n",
      "F23 E23 ( 23): hst/ACS_update_sep07/wfc_f606w_t81.dat\n",
      "F49 E49 ( 49): hst/ACS_update_sep07/wfc_f775w_t81.dat\n",
      "F24 E24 ( 24): hst/ACS_update_sep07/wfc_f814w_t81.dat\n",
      "F50 E50 ( 50): hst/ACS_update_sep07/wfc_f850lp_t81.dat\n",
      "F1 E1 (  1): jwst_nircam_f090w\n",
      "F2 E2 (  2): jwst_nircam_f115w\n",
      "F3 E3 (  3): jwst_nircam_f150w\n",
      "F38 E38 ( 38): jwst_nircam_f162m\n",
      "F39 E39 ( 39): jwst_nircam_f182m\n",
      "F4 E4 (  4): jwst_nircam_f200w\n",
      "F40 E40 ( 40): jwst_nircam_f210m\n",
      "F41 E41 ( 41): jwst_nircam_f250m\n",
      "F5 E5 (  5): jwst_nircam_f277w\n",
      "F42 E42 ( 42): jwst_nircam_f300m\n",
      "F43 E43 ( 43): jwst_nircam_f335m\n",
      "F6 E6 (  6): jwst_nircam_f356w\n",
      "F7 E7 (  7): jwst_nircam_f410m\n",
      "F8 E8 (  8): jwst_nircam_f444w\n",
      "Set sys_err = 0.00 (positive=True)\n",
      "Template grid: /nvme/scratch/work/tharvey/EAZY/inputs/scripts/templates/LarsonTemplates/tweak_fsps_QSF_12_v3_newtemplates.param (this may take some time)\n"
     ]
    },
    {
     "name": "stderr",
     "output_type": "stream",
     "text": [
      "100%|██████████| 18/18 [00:11<00:00,  1.53it/s]\n"
     ]
    },
    {
     "name": "stdout",
     "output_type": "stream",
     "text": [
      "Template   0: fsps_QSF_12_v3_001.dat (NZ=1).\n",
      "Template   1: fsps_QSF_12_v3_002.dat (NZ=1).\n",
      "Template   2: fsps_QSF_12_v3_003.dat (NZ=1).\n",
      "Template   3: fsps_QSF_12_v3_004.dat (NZ=1).\n",
      "Template   4: fsps_QSF_12_v3_005.dat (NZ=1).\n",
      "Template   5: fsps_QSF_12_v3_006.dat (NZ=1).\n",
      "Template   6: fsps_QSF_12_v3_007.dat (NZ=1).\n",
      "Template   7: fsps_QSF_12_v3_008.dat (NZ=1).\n",
      "Template   8: fsps_QSF_12_v3_009.dat (NZ=1).\n",
      "Template   9: fsps_QSF_12_v3_010.dat (NZ=1).\n",
      "Template  10: fsps_QSF_12_v3_011.dat (NZ=1).\n",
      "Template  11: fsps_QSF_12_v3_012.dat (NZ=1).\n",
      "Template  12: binc100z001age6_cloudy.dat (NZ=1).\n",
      "Template  13: binc100z001age65_cloudy.dat (NZ=1).\n",
      "Template  14: binc100z001age7_cloudy.dat (NZ=1).\n",
      "Template  15: binc100z001age6.dat (NZ=1).\n",
      "Template  16: binc100z001age65.dat (NZ=1).\n",
      "Template  17: binc100z001age7.dat (NZ=1).\n",
      "Process templates: 12.218 s\n"
     ]
    },
    {
     "name": "stderr",
     "output_type": "stream",
     "text": [
      "304it [00:00, 21333.63it/s]"
     ]
    },
    {
     "name": "stdout",
     "output_type": "stream",
     "text": [
      "Saving tempfilt to /nvme/scratch/work/tharvey/EXPANSE/src/EXPANSE/eazy/tempfilt/\n"
     ]
    },
    {
     "name": "stderr",
     "output_type": "stream",
     "text": [
      "\n",
      "100%|██████████| 304/304 [00:00<00:00, 5747.75it/s]\n"
     ]
    },
    {
     "name": "stdout",
     "output_type": "stream",
     "text": [
      "Compute best fits\n",
      "fit_best: 0.0 s (n_proc=1,  NOBJ=1)\n",
      "Fit 0.4 s (n_proc=4, NOBJ=1)\n",
      "Setting meta, id_phot, 0\n",
      "Setting meta, z_best, 5.9238167\n",
      "Setting meta, chi2, 9.267929825678799\n",
      "Setting meta, z16, 5.8167033\n",
      "Setting meta, z50, 5.906798\n",
      "Setting meta, z84, 5.980007\n",
      "Setting meta, flux_unit, uJy\n",
      "Setting meta, wave_unit, Angstrom\n",
      "Setting meta, templates_file, /nvme/scratch/work/tharvey/EAZY/inputs/scripts/templates/LarsonTemplates/tweak_fsps_QSF_12_v3_newtemplates.param\n",
      "Setting meta, z_min, 0.01\n",
      "Setting meta, z_max, 20.0\n",
      "Setting meta, z_step, 0.01\n",
      "Setting meta, region, MAG_APER_0.32 arcsec_fsps_larson_0.05__Asada24_cgm\n",
      " added to <HDF5 file \"JOF_psfmatched_7339.h5\" (mode r+)>, interactive_outputs/MAG_APER_0_32 arcsec_fsps_larson_0_05__Asada24_cgm/, eazy_fit\n",
      " added to <HDF5 file \"JOF_psfmatched_7339.h5\" (mode r+)>, interactive_outputs/MAG_APER_0_32 arcsec_fsps_larson_0_05__Asada24_cgm/, p_z\n",
      " added to <HDF5 file \"JOF_psfmatched_7339.h5\" (mode r+)>, interactive_outputs/MAG_APER_0_32 arcsec_fsps_larson_0_05__Asada24_cgm/, input_flux\n",
      " added to <HDF5 file \"JOF_psfmatched_7339.h5\" (mode r+)>, interactive_outputs/MAG_APER_0_32 arcsec_fsps_larson_0_05__Asada24_cgm/, input_flux_err\n",
      "Zeropoint: 23.9\n",
      "{'TEMPLATES_FILE': '/nvme/scratch/work/tharvey/EAZY/inputs/scripts/templates/LarsonTemplates/tweak_fsps_QSF_12_v3_newtemplates.param', 'FILTERS_RES': '/nvme/scratch/work/tharvey/EXPANSE/src/EXPANSE/eazy/jwst_nircam_FILTER.RES', 'MW_EBV': 0, 'CAT_HAS_EXTCORR': False, 'ADD_CGM': True, 'Z_STEP': 0.01, 'Z_MIN': 0.01, 'Z_MAX': 20.0, 'TEMP_ERR_FILE': '/nvme/scratch/work/tharvey/EXPANSE/src/EXPANSE/eazy/TEMPLATE_ERROR.eazy_v1.0', 'TEMP_ERR_A2': 0, 'SYS_ERR': 0, 'APPLY_PRIOR': 'n', 'PRIOR_ABZP': 23.9, 'PRIOR_FILTER': 28, 'PRIOR_FILE': '', 'FIX_ZSPEC': False, 'IGM_SCALE_TAU': 1.0, 'N_MIN_COLORS': 2, 'CATALOG_FILE': '/tmp/tmpr34_p903/eazy_input.fits'}\n",
      "Read default param file: /nvme/scratch/software/anaconda3/envs/tharvey_galfind/lib/python3.10/site-packages/eazy/data/zphot.param.default\n",
      "Read CATALOG_FILE: /tmp/tmpr34_p903/eazy_input.fits\n",
      "   >>> NOBJ = 1\n",
      "F22 E22 ( 22): hst/ACS_update_sep07/wfc_f435w_t81.dat\n",
      "F23 E23 ( 23): hst/ACS_update_sep07/wfc_f606w_t81.dat\n",
      "F49 E49 ( 49): hst/ACS_update_sep07/wfc_f775w_t81.dat\n",
      "F24 E24 ( 24): hst/ACS_update_sep07/wfc_f814w_t81.dat\n",
      "F50 E50 ( 50): hst/ACS_update_sep07/wfc_f850lp_t81.dat\n",
      "F1 E1 (  1): jwst_nircam_f090w\n",
      "F2 E2 (  2): jwst_nircam_f115w\n",
      "F3 E3 (  3): jwst_nircam_f150w\n",
      "F38 E38 ( 38): jwst_nircam_f162m\n",
      "F39 E39 ( 39): jwst_nircam_f182m\n",
      "F4 E4 (  4): jwst_nircam_f200w\n",
      "F40 E40 ( 40): jwst_nircam_f210m\n",
      "F41 E41 ( 41): jwst_nircam_f250m\n",
      "F5 E5 (  5): jwst_nircam_f277w\n",
      "F42 E42 ( 42): jwst_nircam_f300m\n",
      "F43 E43 ( 43): jwst_nircam_f335m\n",
      "F6 E6 (  6): jwst_nircam_f356w\n",
      "F7 E7 (  7): jwst_nircam_f410m\n",
      "F8 E8 (  8): jwst_nircam_f444w\n",
      "Set sys_err = 0.00 (positive=True)\n",
      "Template grid: /nvme/scratch/work/tharvey/EAZY/inputs/scripts/templates/LarsonTemplates/tweak_fsps_QSF_12_v3_newtemplates.param (this may take some time)\n"
     ]
    },
    {
     "name": "stderr",
     "output_type": "stream",
     "text": [
      "100%|██████████| 18/18 [00:11<00:00,  1.55it/s]\n"
     ]
    },
    {
     "name": "stdout",
     "output_type": "stream",
     "text": [
      "Template   0: fsps_QSF_12_v3_001.dat (NZ=1).\n",
      "Template   1: fsps_QSF_12_v3_002.dat (NZ=1).\n",
      "Template   2: fsps_QSF_12_v3_003.dat (NZ=1).\n",
      "Template   3: fsps_QSF_12_v3_004.dat (NZ=1).\n",
      "Template   4: fsps_QSF_12_v3_005.dat (NZ=1).\n",
      "Template   5: fsps_QSF_12_v3_006.dat (NZ=1).\n",
      "Template   6: fsps_QSF_12_v3_007.dat (NZ=1).\n",
      "Template   7: fsps_QSF_12_v3_008.dat (NZ=1).\n",
      "Template   8: fsps_QSF_12_v3_009.dat (NZ=1).\n",
      "Template   9: fsps_QSF_12_v3_010.dat (NZ=1).\n",
      "Template  10: fsps_QSF_12_v3_011.dat (NZ=1).\n",
      "Template  11: fsps_QSF_12_v3_012.dat (NZ=1).\n",
      "Template  12: binc100z001age6_cloudy.dat (NZ=1).\n",
      "Template  13: binc100z001age65_cloudy.dat (NZ=1).\n",
      "Template  14: binc100z001age7_cloudy.dat (NZ=1).\n",
      "Template  15: binc100z001age6.dat (NZ=1).\n",
      "Template  16: binc100z001age65.dat (NZ=1).\n",
      "Template  17: binc100z001age7.dat (NZ=1).\n",
      "Process templates: 12.092 s\n"
     ]
    },
    {
     "name": "stderr",
     "output_type": "stream",
     "text": [
      "304it [00:00, 28338.00it/s]"
     ]
    },
    {
     "name": "stdout",
     "output_type": "stream",
     "text": [
      "Saving tempfilt to /nvme/scratch/work/tharvey/EXPANSE/src/EXPANSE/eazy/tempfilt/\n"
     ]
    },
    {
     "name": "stderr",
     "output_type": "stream",
     "text": [
      "\n",
      "100%|██████████| 304/304 [00:00<00:00, 5754.70it/s]\n"
     ]
    },
    {
     "name": "stdout",
     "output_type": "stream",
     "text": [
      "Compute best fits\n",
      "fit_best: 0.0 s (n_proc=1,  NOBJ=1)\n",
      "Fit 0.4 s (n_proc=4, NOBJ=1)\n",
      "Setting meta, id_phot, 0\n",
      "Setting meta, z_best, 8.027758\n",
      "Setting meta, chi2, 9.4748010813691\n",
      "Setting meta, z16, 7.8895125\n",
      "Setting meta, z50, 8.031264\n",
      "Setting meta, z84, 8.175667\n",
      "Setting meta, flux_unit, uJy\n",
      "Setting meta, wave_unit, Angstrom\n",
      "Setting meta, templates_file, /nvme/scratch/work/tharvey/EAZY/inputs/scripts/templates/LarsonTemplates/tweak_fsps_QSF_12_v3_newtemplates.param\n",
      "Setting meta, z_min, 0.01\n",
      "Setting meta, z_max, 20.0\n",
      "Setting meta, z_step, 0.01\n",
      "Setting meta, region, MAG_APER_0.32 arcsec_fsps_larson_0.05__Asada24_cgm\n",
      " added to <HDF5 file \"JOF_psfmatched_7389.h5\" (mode r+)>, interactive_outputs/MAG_APER_0_32 arcsec_fsps_larson_0_05__Asada24_cgm/, eazy_fit\n",
      " added to <HDF5 file \"JOF_psfmatched_7389.h5\" (mode r+)>, interactive_outputs/MAG_APER_0_32 arcsec_fsps_larson_0_05__Asada24_cgm/, p_z\n",
      " added to <HDF5 file \"JOF_psfmatched_7389.h5\" (mode r+)>, interactive_outputs/MAG_APER_0_32 arcsec_fsps_larson_0_05__Asada24_cgm/, input_flux\n",
      " added to <HDF5 file \"JOF_psfmatched_7389.h5\" (mode r+)>, interactive_outputs/MAG_APER_0_32 arcsec_fsps_larson_0_05__Asada24_cgm/, input_flux_err\n",
      "Zeropoint: 23.9\n",
      "{'TEMPLATES_FILE': '/nvme/scratch/work/tharvey/EAZY/inputs/scripts/templates/LarsonTemplates/tweak_fsps_QSF_12_v3_newtemplates.param', 'FILTERS_RES': '/nvme/scratch/work/tharvey/EXPANSE/src/EXPANSE/eazy/jwst_nircam_FILTER.RES', 'MW_EBV': 0, 'CAT_HAS_EXTCORR': False, 'ADD_CGM': True, 'Z_STEP': 0.01, 'Z_MIN': 0.01, 'Z_MAX': 20.0, 'TEMP_ERR_FILE': '/nvme/scratch/work/tharvey/EXPANSE/src/EXPANSE/eazy/TEMPLATE_ERROR.eazy_v1.0', 'TEMP_ERR_A2': 0, 'SYS_ERR': 0, 'APPLY_PRIOR': 'n', 'PRIOR_ABZP': 23.9, 'PRIOR_FILTER': 28, 'PRIOR_FILE': '', 'FIX_ZSPEC': False, 'IGM_SCALE_TAU': 1.0, 'N_MIN_COLORS': 2, 'CATALOG_FILE': '/tmp/tmpzcjp2mqg/eazy_input.fits'}\n",
      "Read default param file: /nvme/scratch/software/anaconda3/envs/tharvey_galfind/lib/python3.10/site-packages/eazy/data/zphot.param.default\n",
      "Read CATALOG_FILE: /tmp/tmpzcjp2mqg/eazy_input.fits\n",
      "   >>> NOBJ = 1\n",
      "F22 E22 ( 22): hst/ACS_update_sep07/wfc_f435w_t81.dat\n",
      "F23 E23 ( 23): hst/ACS_update_sep07/wfc_f606w_t81.dat\n",
      "F49 E49 ( 49): hst/ACS_update_sep07/wfc_f775w_t81.dat\n",
      "F24 E24 ( 24): hst/ACS_update_sep07/wfc_f814w_t81.dat\n",
      "F50 E50 ( 50): hst/ACS_update_sep07/wfc_f850lp_t81.dat\n",
      "F1 E1 (  1): jwst_nircam_f090w\n",
      "F2 E2 (  2): jwst_nircam_f115w\n",
      "F3 E3 (  3): jwst_nircam_f150w\n",
      "F38 E38 ( 38): jwst_nircam_f162m\n",
      "F39 E39 ( 39): jwst_nircam_f182m\n",
      "F4 E4 (  4): jwst_nircam_f200w\n",
      "F40 E40 ( 40): jwst_nircam_f210m\n",
      "F41 E41 ( 41): jwst_nircam_f250m\n",
      "F5 E5 (  5): jwst_nircam_f277w\n",
      "F42 E42 ( 42): jwst_nircam_f300m\n",
      "F43 E43 ( 43): jwst_nircam_f335m\n",
      "F6 E6 (  6): jwst_nircam_f356w\n",
      "F7 E7 (  7): jwst_nircam_f410m\n",
      "F8 E8 (  8): jwst_nircam_f444w\n",
      "Set sys_err = 0.00 (positive=True)\n",
      "Template grid: /nvme/scratch/work/tharvey/EAZY/inputs/scripts/templates/LarsonTemplates/tweak_fsps_QSF_12_v3_newtemplates.param (this may take some time)\n"
     ]
    },
    {
     "name": "stderr",
     "output_type": "stream",
     "text": [
      "100%|██████████| 18/18 [00:11<00:00,  1.55it/s]\n"
     ]
    },
    {
     "name": "stdout",
     "output_type": "stream",
     "text": [
      "Template   0: fsps_QSF_12_v3_001.dat (NZ=1).\n",
      "Template   1: fsps_QSF_12_v3_002.dat (NZ=1).\n",
      "Template   2: fsps_QSF_12_v3_003.dat (NZ=1).\n",
      "Template   3: fsps_QSF_12_v3_004.dat (NZ=1).\n",
      "Template   4: fsps_QSF_12_v3_005.dat (NZ=1).\n",
      "Template   5: fsps_QSF_12_v3_006.dat (NZ=1).\n",
      "Template   6: fsps_QSF_12_v3_007.dat (NZ=1).\n",
      "Template   7: fsps_QSF_12_v3_008.dat (NZ=1).\n",
      "Template   8: fsps_QSF_12_v3_009.dat (NZ=1).\n",
      "Template   9: fsps_QSF_12_v3_010.dat (NZ=1).\n",
      "Template  10: fsps_QSF_12_v3_011.dat (NZ=1).\n",
      "Template  11: fsps_QSF_12_v3_012.dat (NZ=1).\n",
      "Template  12: binc100z001age6_cloudy.dat (NZ=1).\n",
      "Template  13: binc100z001age65_cloudy.dat (NZ=1).\n",
      "Template  14: binc100z001age7_cloudy.dat (NZ=1).\n",
      "Template  15: binc100z001age6.dat (NZ=1).\n",
      "Template  16: binc100z001age65.dat (NZ=1).\n",
      "Template  17: binc100z001age7.dat (NZ=1).\n",
      "Process templates: 12.105 s\n"
     ]
    },
    {
     "name": "stderr",
     "output_type": "stream",
     "text": [
      "304it [00:00, 22488.38it/s]"
     ]
    },
    {
     "name": "stdout",
     "output_type": "stream",
     "text": [
      "Saving tempfilt to /nvme/scratch/work/tharvey/EXPANSE/src/EXPANSE/eazy/tempfilt/\n"
     ]
    },
    {
     "name": "stderr",
     "output_type": "stream",
     "text": [
      "\n",
      "100%|██████████| 304/304 [00:00<00:00, 5334.26it/s]\n"
     ]
    },
    {
     "name": "stdout",
     "output_type": "stream",
     "text": [
      "Compute best fits\n",
      "fit_best: 0.0 s (n_proc=1,  NOBJ=1)\n",
      "Fit 0.4 s (n_proc=4, NOBJ=1)\n",
      "Setting meta, id_phot, 0\n",
      "Setting meta, z_best, 6.1457624\n",
      "Setting meta, chi2, 29.029718803256344\n",
      "Setting meta, z16, 6.090882\n",
      "Setting meta, z50, 6.1405444\n",
      "Setting meta, z84, 6.1791153\n",
      "Setting meta, flux_unit, uJy\n",
      "Setting meta, wave_unit, Angstrom\n",
      "Setting meta, templates_file, /nvme/scratch/work/tharvey/EAZY/inputs/scripts/templates/LarsonTemplates/tweak_fsps_QSF_12_v3_newtemplates.param\n",
      "Setting meta, z_min, 0.01\n",
      "Setting meta, z_max, 20.0\n",
      "Setting meta, z_step, 0.01\n",
      "Setting meta, region, MAG_APER_0.32 arcsec_fsps_larson_0.05__Asada24_cgm\n",
      " added to <HDF5 file \"JOF_psfmatched_7392.h5\" (mode r+)>, interactive_outputs/MAG_APER_0_32 arcsec_fsps_larson_0_05__Asada24_cgm/, eazy_fit\n",
      " added to <HDF5 file \"JOF_psfmatched_7392.h5\" (mode r+)>, interactive_outputs/MAG_APER_0_32 arcsec_fsps_larson_0_05__Asada24_cgm/, p_z\n",
      " added to <HDF5 file \"JOF_psfmatched_7392.h5\" (mode r+)>, interactive_outputs/MAG_APER_0_32 arcsec_fsps_larson_0_05__Asada24_cgm/, input_flux\n",
      " added to <HDF5 file \"JOF_psfmatched_7392.h5\" (mode r+)>, interactive_outputs/MAG_APER_0_32 arcsec_fsps_larson_0_05__Asada24_cgm/, input_flux_err\n",
      "Zeropoint: 23.9\n",
      "{'TEMPLATES_FILE': '/nvme/scratch/work/tharvey/EAZY/inputs/scripts/templates/LarsonTemplates/tweak_fsps_QSF_12_v3_newtemplates.param', 'FILTERS_RES': '/nvme/scratch/work/tharvey/EXPANSE/src/EXPANSE/eazy/jwst_nircam_FILTER.RES', 'MW_EBV': 0, 'CAT_HAS_EXTCORR': False, 'ADD_CGM': True, 'Z_STEP': 0.01, 'Z_MIN': 0.01, 'Z_MAX': 20.0, 'TEMP_ERR_FILE': '/nvme/scratch/work/tharvey/EXPANSE/src/EXPANSE/eazy/TEMPLATE_ERROR.eazy_v1.0', 'TEMP_ERR_A2': 0, 'SYS_ERR': 0, 'APPLY_PRIOR': 'n', 'PRIOR_ABZP': 23.9, 'PRIOR_FILTER': 28, 'PRIOR_FILE': '', 'FIX_ZSPEC': False, 'IGM_SCALE_TAU': 1.0, 'N_MIN_COLORS': 2, 'CATALOG_FILE': '/tmp/tmpd3hhk6z1/eazy_input.fits'}\n",
      "Read default param file: /nvme/scratch/software/anaconda3/envs/tharvey_galfind/lib/python3.10/site-packages/eazy/data/zphot.param.default\n",
      "Read CATALOG_FILE: /tmp/tmpd3hhk6z1/eazy_input.fits\n",
      "   >>> NOBJ = 1\n",
      "F22 E22 ( 22): hst/ACS_update_sep07/wfc_f435w_t81.dat\n",
      "F23 E23 ( 23): hst/ACS_update_sep07/wfc_f606w_t81.dat\n",
      "F49 E49 ( 49): hst/ACS_update_sep07/wfc_f775w_t81.dat\n",
      "F24 E24 ( 24): hst/ACS_update_sep07/wfc_f814w_t81.dat\n",
      "F50 E50 ( 50): hst/ACS_update_sep07/wfc_f850lp_t81.dat\n",
      "F1 E1 (  1): jwst_nircam_f090w\n",
      "F2 E2 (  2): jwst_nircam_f115w\n",
      "F3 E3 (  3): jwst_nircam_f150w\n",
      "F38 E38 ( 38): jwst_nircam_f162m\n",
      "F39 E39 ( 39): jwst_nircam_f182m\n",
      "F4 E4 (  4): jwst_nircam_f200w\n",
      "F40 E40 ( 40): jwst_nircam_f210m\n",
      "F41 E41 ( 41): jwst_nircam_f250m\n",
      "F5 E5 (  5): jwst_nircam_f277w\n",
      "F42 E42 ( 42): jwst_nircam_f300m\n",
      "F43 E43 ( 43): jwst_nircam_f335m\n",
      "F6 E6 (  6): jwst_nircam_f356w\n",
      "F7 E7 (  7): jwst_nircam_f410m\n",
      "F8 E8 (  8): jwst_nircam_f444w\n",
      "Set sys_err = 0.00 (positive=True)\n",
      "Template grid: /nvme/scratch/work/tharvey/EAZY/inputs/scripts/templates/LarsonTemplates/tweak_fsps_QSF_12_v3_newtemplates.param (this may take some time)\n"
     ]
    },
    {
     "name": "stderr",
     "output_type": "stream",
     "text": [
      "100%|██████████| 18/18 [00:11<00:00,  1.57it/s]\n"
     ]
    },
    {
     "name": "stdout",
     "output_type": "stream",
     "text": [
      "Template   0: fsps_QSF_12_v3_001.dat (NZ=1).\n",
      "Template   1: fsps_QSF_12_v3_002.dat (NZ=1).\n",
      "Template   2: fsps_QSF_12_v3_003.dat (NZ=1).\n",
      "Template   3: fsps_QSF_12_v3_004.dat (NZ=1).\n",
      "Template   4: fsps_QSF_12_v3_005.dat (NZ=1).\n",
      "Template   5: fsps_QSF_12_v3_006.dat (NZ=1).\n",
      "Template   6: fsps_QSF_12_v3_007.dat (NZ=1).\n",
      "Template   7: fsps_QSF_12_v3_008.dat (NZ=1).\n",
      "Template   8: fsps_QSF_12_v3_009.dat (NZ=1).\n",
      "Template   9: fsps_QSF_12_v3_010.dat (NZ=1).\n",
      "Template  10: fsps_QSF_12_v3_011.dat (NZ=1).\n",
      "Template  11: fsps_QSF_12_v3_012.dat (NZ=1).\n",
      "Template  12: binc100z001age6_cloudy.dat (NZ=1).\n",
      "Template  13: binc100z001age65_cloudy.dat (NZ=1).\n",
      "Template  14: binc100z001age7_cloudy.dat (NZ=1).\n",
      "Template  15: binc100z001age6.dat (NZ=1).\n",
      "Template  16: binc100z001age65.dat (NZ=1).\n",
      "Template  17: binc100z001age7.dat (NZ=1).\n",
      "Process templates: 11.888 s\n"
     ]
    },
    {
     "name": "stderr",
     "output_type": "stream",
     "text": [
      "304it [00:00, 27305.73it/s]"
     ]
    },
    {
     "name": "stdout",
     "output_type": "stream",
     "text": [
      "Saving tempfilt to /nvme/scratch/work/tharvey/EXPANSE/src/EXPANSE/eazy/tempfilt/\n"
     ]
    },
    {
     "name": "stderr",
     "output_type": "stream",
     "text": [
      "\n",
      "100%|██████████| 304/304 [00:00<00:00, 5971.32it/s]\n"
     ]
    },
    {
     "name": "stdout",
     "output_type": "stream",
     "text": [
      "Compute best fits\n",
      "fit_best: 0.0 s (n_proc=1,  NOBJ=1)\n",
      "Fit 0.4 s (n_proc=4, NOBJ=1)\n",
      "Setting meta, id_phot, 0\n",
      "Setting meta, z_best, 6.267661\n",
      "Setting meta, chi2, 36.68832220385935\n",
      "Setting meta, z16, 6.2227793\n",
      "Setting meta, z50, 6.27292\n",
      "Setting meta, z84, 6.335519\n",
      "Setting meta, flux_unit, uJy\n",
      "Setting meta, wave_unit, Angstrom\n",
      "Setting meta, templates_file, /nvme/scratch/work/tharvey/EAZY/inputs/scripts/templates/LarsonTemplates/tweak_fsps_QSF_12_v3_newtemplates.param\n",
      "Setting meta, z_min, 0.01\n",
      "Setting meta, z_max, 20.0\n",
      "Setting meta, z_step, 0.01\n",
      "Setting meta, region, MAG_APER_0.32 arcsec_fsps_larson_0.05__Asada24_cgm\n",
      " added to <HDF5 file \"JOF_psfmatched_7526.h5\" (mode r+)>, interactive_outputs/MAG_APER_0_32 arcsec_fsps_larson_0_05__Asada24_cgm/, eazy_fit\n",
      " added to <HDF5 file \"JOF_psfmatched_7526.h5\" (mode r+)>, interactive_outputs/MAG_APER_0_32 arcsec_fsps_larson_0_05__Asada24_cgm/, p_z\n",
      " added to <HDF5 file \"JOF_psfmatched_7526.h5\" (mode r+)>, interactive_outputs/MAG_APER_0_32 arcsec_fsps_larson_0_05__Asada24_cgm/, input_flux\n",
      " added to <HDF5 file \"JOF_psfmatched_7526.h5\" (mode r+)>, interactive_outputs/MAG_APER_0_32 arcsec_fsps_larson_0_05__Asada24_cgm/, input_flux_err\n",
      "Zeropoint: 23.9\n",
      "{'TEMPLATES_FILE': '/nvme/scratch/work/tharvey/EAZY/inputs/scripts/templates/LarsonTemplates/tweak_fsps_QSF_12_v3_newtemplates.param', 'FILTERS_RES': '/nvme/scratch/work/tharvey/EXPANSE/src/EXPANSE/eazy/jwst_nircam_FILTER.RES', 'MW_EBV': 0, 'CAT_HAS_EXTCORR': False, 'ADD_CGM': True, 'Z_STEP': 0.01, 'Z_MIN': 0.01, 'Z_MAX': 20.0, 'TEMP_ERR_FILE': '/nvme/scratch/work/tharvey/EXPANSE/src/EXPANSE/eazy/TEMPLATE_ERROR.eazy_v1.0', 'TEMP_ERR_A2': 0, 'SYS_ERR': 0, 'APPLY_PRIOR': 'n', 'PRIOR_ABZP': 23.9, 'PRIOR_FILTER': 28, 'PRIOR_FILE': '', 'FIX_ZSPEC': False, 'IGM_SCALE_TAU': 1.0, 'N_MIN_COLORS': 2, 'CATALOG_FILE': '/tmp/tmp8cb15y58/eazy_input.fits'}\n",
      "Read default param file: /nvme/scratch/software/anaconda3/envs/tharvey_galfind/lib/python3.10/site-packages/eazy/data/zphot.param.default\n",
      "Read CATALOG_FILE: /tmp/tmp8cb15y58/eazy_input.fits\n",
      "   >>> NOBJ = 1\n",
      "F22 E22 ( 22): hst/ACS_update_sep07/wfc_f435w_t81.dat\n",
      "F23 E23 ( 23): hst/ACS_update_sep07/wfc_f606w_t81.dat\n",
      "F49 E49 ( 49): hst/ACS_update_sep07/wfc_f775w_t81.dat\n",
      "F24 E24 ( 24): hst/ACS_update_sep07/wfc_f814w_t81.dat\n",
      "F50 E50 ( 50): hst/ACS_update_sep07/wfc_f850lp_t81.dat\n",
      "F1 E1 (  1): jwst_nircam_f090w\n",
      "F2 E2 (  2): jwst_nircam_f115w\n",
      "F3 E3 (  3): jwst_nircam_f150w\n",
      "F38 E38 ( 38): jwst_nircam_f162m\n",
      "F39 E39 ( 39): jwst_nircam_f182m\n",
      "F4 E4 (  4): jwst_nircam_f200w\n",
      "F40 E40 ( 40): jwst_nircam_f210m\n",
      "F41 E41 ( 41): jwst_nircam_f250m\n",
      "F5 E5 (  5): jwst_nircam_f277w\n",
      "F42 E42 ( 42): jwst_nircam_f300m\n",
      "F43 E43 ( 43): jwst_nircam_f335m\n",
      "F6 E6 (  6): jwst_nircam_f356w\n",
      "F7 E7 (  7): jwst_nircam_f410m\n",
      "F8 E8 (  8): jwst_nircam_f444w\n",
      "Set sys_err = 0.00 (positive=True)\n",
      "Template grid: /nvme/scratch/work/tharvey/EAZY/inputs/scripts/templates/LarsonTemplates/tweak_fsps_QSF_12_v3_newtemplates.param (this may take some time)\n"
     ]
    },
    {
     "name": "stderr",
     "output_type": "stream",
     "text": [
      "100%|██████████| 18/18 [00:11<00:00,  1.55it/s]\n"
     ]
    },
    {
     "name": "stdout",
     "output_type": "stream",
     "text": [
      "Template   0: fsps_QSF_12_v3_001.dat (NZ=1).\n",
      "Template   1: fsps_QSF_12_v3_002.dat (NZ=1).\n",
      "Template   2: fsps_QSF_12_v3_003.dat (NZ=1).\n",
      "Template   3: fsps_QSF_12_v3_004.dat (NZ=1).\n",
      "Template   4: fsps_QSF_12_v3_005.dat (NZ=1).\n",
      "Template   5: fsps_QSF_12_v3_006.dat (NZ=1).\n",
      "Template   6: fsps_QSF_12_v3_007.dat (NZ=1).\n",
      "Template   7: fsps_QSF_12_v3_008.dat (NZ=1).\n",
      "Template   8: fsps_QSF_12_v3_009.dat (NZ=1).\n",
      "Template   9: fsps_QSF_12_v3_010.dat (NZ=1).\n",
      "Template  10: fsps_QSF_12_v3_011.dat (NZ=1).\n",
      "Template  11: fsps_QSF_12_v3_012.dat (NZ=1).\n",
      "Template  12: binc100z001age6_cloudy.dat (NZ=1).\n",
      "Template  13: binc100z001age65_cloudy.dat (NZ=1).\n",
      "Template  14: binc100z001age7_cloudy.dat (NZ=1).\n",
      "Template  15: binc100z001age6.dat (NZ=1).\n",
      "Template  16: binc100z001age65.dat (NZ=1).\n",
      "Template  17: binc100z001age7.dat (NZ=1).\n",
      "Process templates: 12.134 s\n"
     ]
    },
    {
     "name": "stderr",
     "output_type": "stream",
     "text": [
      "304it [00:00, 26745.57it/s]"
     ]
    },
    {
     "name": "stdout",
     "output_type": "stream",
     "text": [
      "Saving tempfilt to /nvme/scratch/work/tharvey/EXPANSE/src/EXPANSE/eazy/tempfilt/\n"
     ]
    },
    {
     "name": "stderr",
     "output_type": "stream",
     "text": [
      "\n",
      "100%|██████████| 304/304 [00:00<00:00, 6803.74it/s]\n"
     ]
    },
    {
     "name": "stdout",
     "output_type": "stream",
     "text": [
      "Compute best fits\n",
      "fit_best: 0.0 s (n_proc=1,  NOBJ=1)\n",
      "Fit 0.4 s (n_proc=4, NOBJ=1)\n",
      "Setting meta, id_phot, 0\n",
      "Setting meta, z_best, 7.890202\n",
      "Setting meta, chi2, 17.500520433432577\n",
      "Setting meta, z16, 7.789836\n",
      "Setting meta, z50, 7.9193525\n",
      "Setting meta, z84, 8.070771\n",
      "Setting meta, flux_unit, uJy\n",
      "Setting meta, wave_unit, Angstrom\n",
      "Setting meta, templates_file, /nvme/scratch/work/tharvey/EAZY/inputs/scripts/templates/LarsonTemplates/tweak_fsps_QSF_12_v3_newtemplates.param\n",
      "Setting meta, z_min, 0.01\n",
      "Setting meta, z_max, 20.0\n",
      "Setting meta, z_step, 0.01\n",
      "Setting meta, region, MAG_APER_0.32 arcsec_fsps_larson_0.05__Asada24_cgm\n",
      " added to <HDF5 file \"JOF_psfmatched_7540.h5\" (mode r+)>, interactive_outputs/MAG_APER_0_32 arcsec_fsps_larson_0_05__Asada24_cgm/, eazy_fit\n",
      " added to <HDF5 file \"JOF_psfmatched_7540.h5\" (mode r+)>, interactive_outputs/MAG_APER_0_32 arcsec_fsps_larson_0_05__Asada24_cgm/, p_z\n",
      " added to <HDF5 file \"JOF_psfmatched_7540.h5\" (mode r+)>, interactive_outputs/MAG_APER_0_32 arcsec_fsps_larson_0_05__Asada24_cgm/, input_flux\n",
      " added to <HDF5 file \"JOF_psfmatched_7540.h5\" (mode r+)>, interactive_outputs/MAG_APER_0_32 arcsec_fsps_larson_0_05__Asada24_cgm/, input_flux_err\n",
      "Zeropoint: 23.9\n",
      "{'TEMPLATES_FILE': '/nvme/scratch/work/tharvey/EAZY/inputs/scripts/templates/LarsonTemplates/tweak_fsps_QSF_12_v3_newtemplates.param', 'FILTERS_RES': '/nvme/scratch/work/tharvey/EXPANSE/src/EXPANSE/eazy/jwst_nircam_FILTER.RES', 'MW_EBV': 0, 'CAT_HAS_EXTCORR': False, 'ADD_CGM': True, 'Z_STEP': 0.01, 'Z_MIN': 0.01, 'Z_MAX': 20.0, 'TEMP_ERR_FILE': '/nvme/scratch/work/tharvey/EXPANSE/src/EXPANSE/eazy/TEMPLATE_ERROR.eazy_v1.0', 'TEMP_ERR_A2': 0, 'SYS_ERR': 0, 'APPLY_PRIOR': 'n', 'PRIOR_ABZP': 23.9, 'PRIOR_FILTER': 28, 'PRIOR_FILE': '', 'FIX_ZSPEC': False, 'IGM_SCALE_TAU': 1.0, 'N_MIN_COLORS': 2, 'CATALOG_FILE': '/tmp/tmpv6e91ch4/eazy_input.fits'}\n",
      "Read default param file: /nvme/scratch/software/anaconda3/envs/tharvey_galfind/lib/python3.10/site-packages/eazy/data/zphot.param.default\n",
      "Read CATALOG_FILE: /tmp/tmpv6e91ch4/eazy_input.fits\n",
      "   >>> NOBJ = 1\n",
      "F22 E22 ( 22): hst/ACS_update_sep07/wfc_f435w_t81.dat\n",
      "F23 E23 ( 23): hst/ACS_update_sep07/wfc_f606w_t81.dat\n",
      "F49 E49 ( 49): hst/ACS_update_sep07/wfc_f775w_t81.dat\n",
      "F24 E24 ( 24): hst/ACS_update_sep07/wfc_f814w_t81.dat\n",
      "F50 E50 ( 50): hst/ACS_update_sep07/wfc_f850lp_t81.dat\n",
      "F1 E1 (  1): jwst_nircam_f090w\n",
      "F2 E2 (  2): jwst_nircam_f115w\n",
      "F3 E3 (  3): jwst_nircam_f150w\n",
      "F38 E38 ( 38): jwst_nircam_f162m\n",
      "F39 E39 ( 39): jwst_nircam_f182m\n",
      "F4 E4 (  4): jwst_nircam_f200w\n",
      "F40 E40 ( 40): jwst_nircam_f210m\n",
      "F41 E41 ( 41): jwst_nircam_f250m\n",
      "F5 E5 (  5): jwst_nircam_f277w\n",
      "F42 E42 ( 42): jwst_nircam_f300m\n",
      "F43 E43 ( 43): jwst_nircam_f335m\n",
      "F6 E6 (  6): jwst_nircam_f356w\n",
      "F7 E7 (  7): jwst_nircam_f410m\n",
      "F8 E8 (  8): jwst_nircam_f444w\n",
      "Set sys_err = 0.00 (positive=True)\n",
      "Template grid: /nvme/scratch/work/tharvey/EAZY/inputs/scripts/templates/LarsonTemplates/tweak_fsps_QSF_12_v3_newtemplates.param (this may take some time)\n"
     ]
    },
    {
     "name": "stderr",
     "output_type": "stream",
     "text": [
      "100%|██████████| 18/18 [00:11<00:00,  1.57it/s]\n"
     ]
    },
    {
     "name": "stdout",
     "output_type": "stream",
     "text": [
      "Template   0: fsps_QSF_12_v3_001.dat (NZ=1).\n",
      "Template   1: fsps_QSF_12_v3_002.dat (NZ=1).\n",
      "Template   2: fsps_QSF_12_v3_003.dat (NZ=1).\n",
      "Template   3: fsps_QSF_12_v3_004.dat (NZ=1).\n",
      "Template   4: fsps_QSF_12_v3_005.dat (NZ=1).\n",
      "Template   5: fsps_QSF_12_v3_006.dat (NZ=1).\n",
      "Template   6: fsps_QSF_12_v3_007.dat (NZ=1).\n",
      "Template   7: fsps_QSF_12_v3_008.dat (NZ=1).\n",
      "Template   8: fsps_QSF_12_v3_009.dat (NZ=1).\n",
      "Template   9: fsps_QSF_12_v3_010.dat (NZ=1).\n",
      "Template  10: fsps_QSF_12_v3_011.dat (NZ=1).\n",
      "Template  11: fsps_QSF_12_v3_012.dat (NZ=1).\n",
      "Template  12: binc100z001age6_cloudy.dat (NZ=1).\n",
      "Template  13: binc100z001age65_cloudy.dat (NZ=1).\n",
      "Template  14: binc100z001age7_cloudy.dat (NZ=1).\n",
      "Template  15: binc100z001age6.dat (NZ=1).\n",
      "Template  16: binc100z001age65.dat (NZ=1).\n",
      "Template  17: binc100z001age7.dat (NZ=1).\n",
      "Process templates: 11.985 s\n"
     ]
    },
    {
     "name": "stderr",
     "output_type": "stream",
     "text": [
      "304it [00:00, 28262.63it/s]"
     ]
    },
    {
     "name": "stdout",
     "output_type": "stream",
     "text": [
      "Saving tempfilt to /nvme/scratch/work/tharvey/EXPANSE/src/EXPANSE/eazy/tempfilt/\n"
     ]
    },
    {
     "name": "stderr",
     "output_type": "stream",
     "text": [
      "\n",
      "100%|██████████| 304/304 [00:00<00:00, 5096.79it/s]\n"
     ]
    },
    {
     "name": "stdout",
     "output_type": "stream",
     "text": [
      "Compute best fits\n",
      "fit_best: 0.0 s (n_proc=1,  NOBJ=1)\n",
      "Fit 0.4 s (n_proc=4, NOBJ=1)\n",
      "Setting meta, id_phot, 0\n",
      "Setting meta, z_best, 6.640108\n",
      "Setting meta, chi2, 15.896696699151358\n",
      "Setting meta, z16, 6.5450473\n",
      "Setting meta, z50, 6.6338005\n",
      "Setting meta, z84, 6.707107\n",
      "Setting meta, flux_unit, uJy\n",
      "Setting meta, wave_unit, Angstrom\n",
      "Setting meta, templates_file, /nvme/scratch/work/tharvey/EAZY/inputs/scripts/templates/LarsonTemplates/tweak_fsps_QSF_12_v3_newtemplates.param\n",
      "Setting meta, z_min, 0.01\n",
      "Setting meta, z_max, 20.0\n",
      "Setting meta, z_step, 0.01\n",
      "Setting meta, region, MAG_APER_0.32 arcsec_fsps_larson_0.05__Asada24_cgm\n",
      " added to <HDF5 file \"JOF_psfmatched_7687.h5\" (mode r+)>, interactive_outputs/MAG_APER_0_32 arcsec_fsps_larson_0_05__Asada24_cgm/, eazy_fit\n",
      " added to <HDF5 file \"JOF_psfmatched_7687.h5\" (mode r+)>, interactive_outputs/MAG_APER_0_32 arcsec_fsps_larson_0_05__Asada24_cgm/, p_z\n",
      " added to <HDF5 file \"JOF_psfmatched_7687.h5\" (mode r+)>, interactive_outputs/MAG_APER_0_32 arcsec_fsps_larson_0_05__Asada24_cgm/, input_flux\n",
      " added to <HDF5 file \"JOF_psfmatched_7687.h5\" (mode r+)>, interactive_outputs/MAG_APER_0_32 arcsec_fsps_larson_0_05__Asada24_cgm/, input_flux_err\n",
      "Zeropoint: 23.9\n",
      "{'TEMPLATES_FILE': '/nvme/scratch/work/tharvey/EAZY/inputs/scripts/templates/LarsonTemplates/tweak_fsps_QSF_12_v3_newtemplates.param', 'FILTERS_RES': '/nvme/scratch/work/tharvey/EXPANSE/src/EXPANSE/eazy/jwst_nircam_FILTER.RES', 'MW_EBV': 0, 'CAT_HAS_EXTCORR': False, 'ADD_CGM': True, 'Z_STEP': 0.01, 'Z_MIN': 0.01, 'Z_MAX': 20.0, 'TEMP_ERR_FILE': '/nvme/scratch/work/tharvey/EXPANSE/src/EXPANSE/eazy/TEMPLATE_ERROR.eazy_v1.0', 'TEMP_ERR_A2': 0, 'SYS_ERR': 0, 'APPLY_PRIOR': 'n', 'PRIOR_ABZP': 23.9, 'PRIOR_FILTER': 28, 'PRIOR_FILE': '', 'FIX_ZSPEC': False, 'IGM_SCALE_TAU': 1.0, 'N_MIN_COLORS': 2, 'CATALOG_FILE': '/tmp/tmpms138a1x/eazy_input.fits'}\n",
      "Read default param file: /nvme/scratch/software/anaconda3/envs/tharvey_galfind/lib/python3.10/site-packages/eazy/data/zphot.param.default\n",
      "Read CATALOG_FILE: /tmp/tmpms138a1x/eazy_input.fits\n",
      "   >>> NOBJ = 1\n",
      "F22 E22 ( 22): hst/ACS_update_sep07/wfc_f435w_t81.dat\n",
      "F23 E23 ( 23): hst/ACS_update_sep07/wfc_f606w_t81.dat\n",
      "F49 E49 ( 49): hst/ACS_update_sep07/wfc_f775w_t81.dat\n",
      "F24 E24 ( 24): hst/ACS_update_sep07/wfc_f814w_t81.dat\n",
      "F50 E50 ( 50): hst/ACS_update_sep07/wfc_f850lp_t81.dat\n",
      "F1 E1 (  1): jwst_nircam_f090w\n",
      "F2 E2 (  2): jwst_nircam_f115w\n",
      "F3 E3 (  3): jwst_nircam_f150w\n",
      "F38 E38 ( 38): jwst_nircam_f162m\n",
      "F39 E39 ( 39): jwst_nircam_f182m\n",
      "F4 E4 (  4): jwst_nircam_f200w\n",
      "F40 E40 ( 40): jwst_nircam_f210m\n",
      "F41 E41 ( 41): jwst_nircam_f250m\n",
      "F5 E5 (  5): jwst_nircam_f277w\n",
      "F42 E42 ( 42): jwst_nircam_f300m\n",
      "F43 E43 ( 43): jwst_nircam_f335m\n",
      "F6 E6 (  6): jwst_nircam_f356w\n",
      "F7 E7 (  7): jwst_nircam_f410m\n",
      "F8 E8 (  8): jwst_nircam_f444w\n",
      "Set sys_err = 0.00 (positive=True)\n",
      "Template grid: /nvme/scratch/work/tharvey/EAZY/inputs/scripts/templates/LarsonTemplates/tweak_fsps_QSF_12_v3_newtemplates.param (this may take some time)\n"
     ]
    },
    {
     "name": "stderr",
     "output_type": "stream",
     "text": [
      "100%|██████████| 18/18 [00:11<00:00,  1.56it/s]\n"
     ]
    },
    {
     "name": "stdout",
     "output_type": "stream",
     "text": [
      "Template   0: fsps_QSF_12_v3_001.dat (NZ=1).\n",
      "Template   1: fsps_QSF_12_v3_002.dat (NZ=1).\n",
      "Template   2: fsps_QSF_12_v3_003.dat (NZ=1).\n",
      "Template   3: fsps_QSF_12_v3_004.dat (NZ=1).\n",
      "Template   4: fsps_QSF_12_v3_005.dat (NZ=1).\n",
      "Template   5: fsps_QSF_12_v3_006.dat (NZ=1).\n",
      "Template   6: fsps_QSF_12_v3_007.dat (NZ=1).\n",
      "Template   7: fsps_QSF_12_v3_008.dat (NZ=1).\n",
      "Template   8: fsps_QSF_12_v3_009.dat (NZ=1).\n",
      "Template   9: fsps_QSF_12_v3_010.dat (NZ=1).\n",
      "Template  10: fsps_QSF_12_v3_011.dat (NZ=1).\n",
      "Template  11: fsps_QSF_12_v3_012.dat (NZ=1).\n",
      "Template  12: binc100z001age6_cloudy.dat (NZ=1).\n",
      "Template  13: binc100z001age65_cloudy.dat (NZ=1).\n",
      "Template  14: binc100z001age7_cloudy.dat (NZ=1).\n",
      "Template  15: binc100z001age6.dat (NZ=1).\n",
      "Template  16: binc100z001age65.dat (NZ=1).\n",
      "Template  17: binc100z001age7.dat (NZ=1).\n",
      "Process templates: 12.056 s\n"
     ]
    },
    {
     "name": "stderr",
     "output_type": "stream",
     "text": [
      "304it [00:00, 19576.08it/s]"
     ]
    },
    {
     "name": "stdout",
     "output_type": "stream",
     "text": [
      "Saving tempfilt to /nvme/scratch/work/tharvey/EXPANSE/src/EXPANSE/eazy/tempfilt/\n"
     ]
    },
    {
     "name": "stderr",
     "output_type": "stream",
     "text": [
      "\n",
      "100%|██████████| 304/304 [00:00<00:00, 4191.95it/s]\n"
     ]
    },
    {
     "name": "stdout",
     "output_type": "stream",
     "text": [
      "Compute best fits\n",
      "fit_best: 0.0 s (n_proc=1,  NOBJ=1)\n",
      "Fit 0.5 s (n_proc=4, NOBJ=1)\n",
      "Setting meta, id_phot, 0\n",
      "Setting meta, z_best, 8.042205\n",
      "Setting meta, chi2, 14.251560382928835\n",
      "Setting meta, z16, 7.971894\n",
      "Setting meta, z50, 8.045801\n",
      "Setting meta, z84, 8.126437\n",
      "Setting meta, flux_unit, uJy\n",
      "Setting meta, wave_unit, Angstrom\n",
      "Setting meta, templates_file, /nvme/scratch/work/tharvey/EAZY/inputs/scripts/templates/LarsonTemplates/tweak_fsps_QSF_12_v3_newtemplates.param\n",
      "Setting meta, z_min, 0.01\n",
      "Setting meta, z_max, 20.0\n",
      "Setting meta, z_step, 0.01\n",
      "Setting meta, region, MAG_APER_0.32 arcsec_fsps_larson_0.05__Asada24_cgm\n",
      " added to <HDF5 file \"JOF_psfmatched_7893.h5\" (mode r+)>, interactive_outputs/MAG_APER_0_32 arcsec_fsps_larson_0_05__Asada24_cgm/, eazy_fit\n",
      " added to <HDF5 file \"JOF_psfmatched_7893.h5\" (mode r+)>, interactive_outputs/MAG_APER_0_32 arcsec_fsps_larson_0_05__Asada24_cgm/, p_z\n",
      " added to <HDF5 file \"JOF_psfmatched_7893.h5\" (mode r+)>, interactive_outputs/MAG_APER_0_32 arcsec_fsps_larson_0_05__Asada24_cgm/, input_flux\n",
      " added to <HDF5 file \"JOF_psfmatched_7893.h5\" (mode r+)>, interactive_outputs/MAG_APER_0_32 arcsec_fsps_larson_0_05__Asada24_cgm/, input_flux_err\n",
      "Zeropoint: 23.9\n",
      "{'TEMPLATES_FILE': '/nvme/scratch/work/tharvey/EAZY/inputs/scripts/templates/LarsonTemplates/tweak_fsps_QSF_12_v3_newtemplates.param', 'FILTERS_RES': '/nvme/scratch/work/tharvey/EXPANSE/src/EXPANSE/eazy/jwst_nircam_FILTER.RES', 'MW_EBV': 0, 'CAT_HAS_EXTCORR': False, 'ADD_CGM': True, 'Z_STEP': 0.01, 'Z_MIN': 0.01, 'Z_MAX': 20.0, 'TEMP_ERR_FILE': '/nvme/scratch/work/tharvey/EXPANSE/src/EXPANSE/eazy/TEMPLATE_ERROR.eazy_v1.0', 'TEMP_ERR_A2': 0, 'SYS_ERR': 0, 'APPLY_PRIOR': 'n', 'PRIOR_ABZP': 23.9, 'PRIOR_FILTER': 28, 'PRIOR_FILE': '', 'FIX_ZSPEC': False, 'IGM_SCALE_TAU': 1.0, 'N_MIN_COLORS': 2, 'CATALOG_FILE': '/tmp/tmp12rlj3ll/eazy_input.fits'}\n",
      "Read default param file: /nvme/scratch/software/anaconda3/envs/tharvey_galfind/lib/python3.10/site-packages/eazy/data/zphot.param.default\n",
      "Read CATALOG_FILE: /tmp/tmp12rlj3ll/eazy_input.fits\n",
      "   >>> NOBJ = 1\n",
      "F22 E22 ( 22): hst/ACS_update_sep07/wfc_f435w_t81.dat\n",
      "F23 E23 ( 23): hst/ACS_update_sep07/wfc_f606w_t81.dat\n",
      "F49 E49 ( 49): hst/ACS_update_sep07/wfc_f775w_t81.dat\n",
      "F24 E24 ( 24): hst/ACS_update_sep07/wfc_f814w_t81.dat\n",
      "F50 E50 ( 50): hst/ACS_update_sep07/wfc_f850lp_t81.dat\n",
      "F1 E1 (  1): jwst_nircam_f090w\n",
      "F2 E2 (  2): jwst_nircam_f115w\n",
      "F3 E3 (  3): jwst_nircam_f150w\n",
      "F38 E38 ( 38): jwst_nircam_f162m\n",
      "F39 E39 ( 39): jwst_nircam_f182m\n",
      "F4 E4 (  4): jwst_nircam_f200w\n",
      "F40 E40 ( 40): jwst_nircam_f210m\n",
      "F41 E41 ( 41): jwst_nircam_f250m\n",
      "F5 E5 (  5): jwst_nircam_f277w\n",
      "F42 E42 ( 42): jwst_nircam_f300m\n",
      "F43 E43 ( 43): jwst_nircam_f335m\n",
      "F6 E6 (  6): jwst_nircam_f356w\n",
      "F7 E7 (  7): jwst_nircam_f410m\n",
      "F8 E8 (  8): jwst_nircam_f444w\n",
      "Set sys_err = 0.00 (positive=True)\n",
      "Template grid: /nvme/scratch/work/tharvey/EAZY/inputs/scripts/templates/LarsonTemplates/tweak_fsps_QSF_12_v3_newtemplates.param (this may take some time)\n"
     ]
    },
    {
     "name": "stderr",
     "output_type": "stream",
     "text": [
      "100%|██████████| 18/18 [00:11<00:00,  1.54it/s]\n"
     ]
    },
    {
     "name": "stdout",
     "output_type": "stream",
     "text": [
      "Template   0: fsps_QSF_12_v3_001.dat (NZ=1).\n",
      "Template   1: fsps_QSF_12_v3_002.dat (NZ=1).\n",
      "Template   2: fsps_QSF_12_v3_003.dat (NZ=1).\n",
      "Template   3: fsps_QSF_12_v3_004.dat (NZ=1).\n",
      "Template   4: fsps_QSF_12_v3_005.dat (NZ=1).\n",
      "Template   5: fsps_QSF_12_v3_006.dat (NZ=1).\n",
      "Template   6: fsps_QSF_12_v3_007.dat (NZ=1).\n",
      "Template   7: fsps_QSF_12_v3_008.dat (NZ=1).\n",
      "Template   8: fsps_QSF_12_v3_009.dat (NZ=1).\n",
      "Template   9: fsps_QSF_12_v3_010.dat (NZ=1).\n",
      "Template  10: fsps_QSF_12_v3_011.dat (NZ=1).\n",
      "Template  11: fsps_QSF_12_v3_012.dat (NZ=1).\n",
      "Template  12: binc100z001age6_cloudy.dat (NZ=1).\n",
      "Template  13: binc100z001age65_cloudy.dat (NZ=1).\n",
      "Template  14: binc100z001age7_cloudy.dat (NZ=1).\n",
      "Template  15: binc100z001age6.dat (NZ=1).\n",
      "Template  16: binc100z001age65.dat (NZ=1).\n",
      "Template  17: binc100z001age7.dat (NZ=1).\n",
      "Process templates: 12.202 s\n"
     ]
    },
    {
     "name": "stderr",
     "output_type": "stream",
     "text": [
      "304it [00:00, 20395.55it/s]"
     ]
    },
    {
     "name": "stdout",
     "output_type": "stream",
     "text": [
      "Saving tempfilt to /nvme/scratch/work/tharvey/EXPANSE/src/EXPANSE/eazy/tempfilt/\n"
     ]
    },
    {
     "name": "stderr",
     "output_type": "stream",
     "text": [
      "\n",
      "100%|██████████| 304/304 [00:00<00:00, 5424.83it/s]\n"
     ]
    },
    {
     "name": "stdout",
     "output_type": "stream",
     "text": [
      "Compute best fits\n",
      "fit_best: 0.0 s (n_proc=1,  NOBJ=1)\n",
      "Fit 0.4 s (n_proc=4, NOBJ=1)\n",
      "Setting meta, id_phot, 0\n",
      "Setting meta, z_best, 4.7842717\n",
      "Setting meta, chi2, 36.66795947229437\n",
      "Setting meta, z16, 4.7344747\n",
      "Setting meta, z50, 4.776485\n",
      "Setting meta, z84, 4.8077173\n",
      "Setting meta, flux_unit, uJy\n",
      "Setting meta, wave_unit, Angstrom\n",
      "Setting meta, templates_file, /nvme/scratch/work/tharvey/EAZY/inputs/scripts/templates/LarsonTemplates/tweak_fsps_QSF_12_v3_newtemplates.param\n",
      "Setting meta, z_min, 0.01\n",
      "Setting meta, z_max, 20.0\n",
      "Setting meta, z_step, 0.01\n",
      "Setting meta, region, MAG_APER_0.32 arcsec_fsps_larson_0.05__Asada24_cgm\n",
      " added to <HDF5 file \"JOF_psfmatched_8277.h5\" (mode r+)>, interactive_outputs/MAG_APER_0_32 arcsec_fsps_larson_0_05__Asada24_cgm/, eazy_fit\n",
      " added to <HDF5 file \"JOF_psfmatched_8277.h5\" (mode r+)>, interactive_outputs/MAG_APER_0_32 arcsec_fsps_larson_0_05__Asada24_cgm/, p_z\n",
      " added to <HDF5 file \"JOF_psfmatched_8277.h5\" (mode r+)>, interactive_outputs/MAG_APER_0_32 arcsec_fsps_larson_0_05__Asada24_cgm/, input_flux\n",
      " added to <HDF5 file \"JOF_psfmatched_8277.h5\" (mode r+)>, interactive_outputs/MAG_APER_0_32 arcsec_fsps_larson_0_05__Asada24_cgm/, input_flux_err\n",
      "Zeropoint: 23.9\n",
      "{'TEMPLATES_FILE': '/nvme/scratch/work/tharvey/EAZY/inputs/scripts/templates/LarsonTemplates/tweak_fsps_QSF_12_v3_newtemplates.param', 'FILTERS_RES': '/nvme/scratch/work/tharvey/EXPANSE/src/EXPANSE/eazy/jwst_nircam_FILTER.RES', 'MW_EBV': 0, 'CAT_HAS_EXTCORR': False, 'ADD_CGM': True, 'Z_STEP': 0.01, 'Z_MIN': 0.01, 'Z_MAX': 20.0, 'TEMP_ERR_FILE': '/nvme/scratch/work/tharvey/EXPANSE/src/EXPANSE/eazy/TEMPLATE_ERROR.eazy_v1.0', 'TEMP_ERR_A2': 0, 'SYS_ERR': 0, 'APPLY_PRIOR': 'n', 'PRIOR_ABZP': 23.9, 'PRIOR_FILTER': 28, 'PRIOR_FILE': '', 'FIX_ZSPEC': False, 'IGM_SCALE_TAU': 1.0, 'N_MIN_COLORS': 2, 'CATALOG_FILE': '/tmp/tmpb3en3erg/eazy_input.fits'}\n",
      "Read default param file: /nvme/scratch/software/anaconda3/envs/tharvey_galfind/lib/python3.10/site-packages/eazy/data/zphot.param.default\n",
      "Read CATALOG_FILE: /tmp/tmpb3en3erg/eazy_input.fits\n",
      "   >>> NOBJ = 1\n",
      "F22 E22 ( 22): hst/ACS_update_sep07/wfc_f435w_t81.dat\n",
      "F23 E23 ( 23): hst/ACS_update_sep07/wfc_f606w_t81.dat\n",
      "F49 E49 ( 49): hst/ACS_update_sep07/wfc_f775w_t81.dat\n",
      "F24 E24 ( 24): hst/ACS_update_sep07/wfc_f814w_t81.dat\n",
      "F50 E50 ( 50): hst/ACS_update_sep07/wfc_f850lp_t81.dat\n",
      "F1 E1 (  1): jwst_nircam_f090w\n",
      "F2 E2 (  2): jwst_nircam_f115w\n",
      "F3 E3 (  3): jwst_nircam_f150w\n",
      "F38 E38 ( 38): jwst_nircam_f162m\n",
      "F39 E39 ( 39): jwst_nircam_f182m\n",
      "F4 E4 (  4): jwst_nircam_f200w\n",
      "F40 E40 ( 40): jwst_nircam_f210m\n",
      "F41 E41 ( 41): jwst_nircam_f250m\n",
      "F5 E5 (  5): jwst_nircam_f277w\n",
      "F42 E42 ( 42): jwst_nircam_f300m\n",
      "F43 E43 ( 43): jwst_nircam_f335m\n",
      "F6 E6 (  6): jwst_nircam_f356w\n",
      "F7 E7 (  7): jwst_nircam_f410m\n",
      "F8 E8 (  8): jwst_nircam_f444w\n",
      "Set sys_err = 0.00 (positive=True)\n",
      "Template grid: /nvme/scratch/work/tharvey/EAZY/inputs/scripts/templates/LarsonTemplates/tweak_fsps_QSF_12_v3_newtemplates.param (this may take some time)\n"
     ]
    },
    {
     "name": "stderr",
     "output_type": "stream",
     "text": [
      "100%|██████████| 18/18 [00:11<00:00,  1.54it/s]\n"
     ]
    },
    {
     "name": "stdout",
     "output_type": "stream",
     "text": [
      "Template   0: fsps_QSF_12_v3_001.dat (NZ=1).\n",
      "Template   1: fsps_QSF_12_v3_002.dat (NZ=1).\n",
      "Template   2: fsps_QSF_12_v3_003.dat (NZ=1).\n",
      "Template   3: fsps_QSF_12_v3_004.dat (NZ=1).\n",
      "Template   4: fsps_QSF_12_v3_005.dat (NZ=1).\n",
      "Template   5: fsps_QSF_12_v3_006.dat (NZ=1).\n",
      "Template   6: fsps_QSF_12_v3_007.dat (NZ=1).\n",
      "Template   7: fsps_QSF_12_v3_008.dat (NZ=1).\n",
      "Template   8: fsps_QSF_12_v3_009.dat (NZ=1).\n",
      "Template   9: fsps_QSF_12_v3_010.dat (NZ=1).\n",
      "Template  10: fsps_QSF_12_v3_011.dat (NZ=1).\n",
      "Template  11: fsps_QSF_12_v3_012.dat (NZ=1).\n",
      "Template  12: binc100z001age6_cloudy.dat (NZ=1).\n",
      "Template  13: binc100z001age65_cloudy.dat (NZ=1).\n",
      "Template  14: binc100z001age7_cloudy.dat (NZ=1).\n",
      "Template  15: binc100z001age6.dat (NZ=1).\n",
      "Template  16: binc100z001age65.dat (NZ=1).\n",
      "Template  17: binc100z001age7.dat (NZ=1).\n",
      "Process templates: 12.194 s\n"
     ]
    },
    {
     "name": "stderr",
     "output_type": "stream",
     "text": [
      "304it [00:00, 27538.68it/s]"
     ]
    },
    {
     "name": "stdout",
     "output_type": "stream",
     "text": [
      "Saving tempfilt to /nvme/scratch/work/tharvey/EXPANSE/src/EXPANSE/eazy/tempfilt/\n"
     ]
    },
    {
     "name": "stderr",
     "output_type": "stream",
     "text": [
      "\n",
      "100%|██████████| 304/304 [00:00<00:00, 4977.24it/s]\n"
     ]
    },
    {
     "name": "stdout",
     "output_type": "stream",
     "text": [
      "Compute best fits\n",
      "fit_best: 0.0 s (n_proc=1,  NOBJ=1)\n",
      "Fit 0.5 s (n_proc=4, NOBJ=1)\n",
      "Setting meta, id_phot, 0\n",
      "Setting meta, z_best, 6.4803023\n",
      "Setting meta, chi2, 34.32438813624917\n",
      "Setting meta, z16, 6.415345\n",
      "Setting meta, z50, 6.480359\n",
      "Setting meta, z84, 6.5439453\n",
      "Setting meta, flux_unit, uJy\n",
      "Setting meta, wave_unit, Angstrom\n",
      "Setting meta, templates_file, /nvme/scratch/work/tharvey/EAZY/inputs/scripts/templates/LarsonTemplates/tweak_fsps_QSF_12_v3_newtemplates.param\n",
      "Setting meta, z_min, 0.01\n",
      "Setting meta, z_max, 20.0\n",
      "Setting meta, z_step, 0.01\n",
      "Setting meta, region, MAG_APER_0.32 arcsec_fsps_larson_0.05__Asada24_cgm\n",
      " added to <HDF5 file \"JOF_psfmatched_845.h5\" (mode r+)>, interactive_outputs/MAG_APER_0_32 arcsec_fsps_larson_0_05__Asada24_cgm/, eazy_fit\n",
      " added to <HDF5 file \"JOF_psfmatched_845.h5\" (mode r+)>, interactive_outputs/MAG_APER_0_32 arcsec_fsps_larson_0_05__Asada24_cgm/, p_z\n",
      " added to <HDF5 file \"JOF_psfmatched_845.h5\" (mode r+)>, interactive_outputs/MAG_APER_0_32 arcsec_fsps_larson_0_05__Asada24_cgm/, input_flux\n",
      " added to <HDF5 file \"JOF_psfmatched_845.h5\" (mode r+)>, interactive_outputs/MAG_APER_0_32 arcsec_fsps_larson_0_05__Asada24_cgm/, input_flux_err\n",
      "Zeropoint: 23.9\n",
      "{'TEMPLATES_FILE': '/nvme/scratch/work/tharvey/EAZY/inputs/scripts/templates/LarsonTemplates/tweak_fsps_QSF_12_v3_newtemplates.param', 'FILTERS_RES': '/nvme/scratch/work/tharvey/EXPANSE/src/EXPANSE/eazy/jwst_nircam_FILTER.RES', 'MW_EBV': 0, 'CAT_HAS_EXTCORR': False, 'ADD_CGM': True, 'Z_STEP': 0.01, 'Z_MIN': 0.01, 'Z_MAX': 20.0, 'TEMP_ERR_FILE': '/nvme/scratch/work/tharvey/EXPANSE/src/EXPANSE/eazy/TEMPLATE_ERROR.eazy_v1.0', 'TEMP_ERR_A2': 0, 'SYS_ERR': 0, 'APPLY_PRIOR': 'n', 'PRIOR_ABZP': 23.9, 'PRIOR_FILTER': 28, 'PRIOR_FILE': '', 'FIX_ZSPEC': False, 'IGM_SCALE_TAU': 1.0, 'N_MIN_COLORS': 2, 'CATALOG_FILE': '/tmp/tmpfgixvl0q/eazy_input.fits'}\n",
      "Read default param file: /nvme/scratch/software/anaconda3/envs/tharvey_galfind/lib/python3.10/site-packages/eazy/data/zphot.param.default\n",
      "Read CATALOG_FILE: /tmp/tmpfgixvl0q/eazy_input.fits\n",
      "   >>> NOBJ = 1\n",
      "F22 E22 ( 22): hst/ACS_update_sep07/wfc_f435w_t81.dat\n",
      "F23 E23 ( 23): hst/ACS_update_sep07/wfc_f606w_t81.dat\n",
      "F49 E49 ( 49): hst/ACS_update_sep07/wfc_f775w_t81.dat\n",
      "F24 E24 ( 24): hst/ACS_update_sep07/wfc_f814w_t81.dat\n",
      "F50 E50 ( 50): hst/ACS_update_sep07/wfc_f850lp_t81.dat\n",
      "F1 E1 (  1): jwst_nircam_f090w\n",
      "F2 E2 (  2): jwst_nircam_f115w\n",
      "F3 E3 (  3): jwst_nircam_f150w\n",
      "F38 E38 ( 38): jwst_nircam_f162m\n",
      "F39 E39 ( 39): jwst_nircam_f182m\n",
      "F4 E4 (  4): jwst_nircam_f200w\n",
      "F40 E40 ( 40): jwst_nircam_f210m\n",
      "F41 E41 ( 41): jwst_nircam_f250m\n",
      "F5 E5 (  5): jwst_nircam_f277w\n",
      "F42 E42 ( 42): jwst_nircam_f300m\n",
      "F43 E43 ( 43): jwst_nircam_f335m\n",
      "F6 E6 (  6): jwst_nircam_f356w\n",
      "F7 E7 (  7): jwst_nircam_f410m\n",
      "F8 E8 (  8): jwst_nircam_f444w\n",
      "Set sys_err = 0.00 (positive=True)\n",
      "Template grid: /nvme/scratch/work/tharvey/EAZY/inputs/scripts/templates/LarsonTemplates/tweak_fsps_QSF_12_v3_newtemplates.param (this may take some time)\n"
     ]
    },
    {
     "name": "stderr",
     "output_type": "stream",
     "text": [
      "100%|██████████| 18/18 [00:11<00:00,  1.58it/s]\n"
     ]
    },
    {
     "name": "stdout",
     "output_type": "stream",
     "text": [
      "Template   0: fsps_QSF_12_v3_001.dat (NZ=1).\n",
      "Template   1: fsps_QSF_12_v3_002.dat (NZ=1).\n",
      "Template   2: fsps_QSF_12_v3_003.dat (NZ=1).\n",
      "Template   3: fsps_QSF_12_v3_004.dat (NZ=1).\n",
      "Template   4: fsps_QSF_12_v3_005.dat (NZ=1).\n",
      "Template   5: fsps_QSF_12_v3_006.dat (NZ=1).\n",
      "Template   6: fsps_QSF_12_v3_007.dat (NZ=1).\n",
      "Template   7: fsps_QSF_12_v3_008.dat (NZ=1).\n",
      "Template   8: fsps_QSF_12_v3_009.dat (NZ=1).\n",
      "Template   9: fsps_QSF_12_v3_010.dat (NZ=1).\n",
      "Template  10: fsps_QSF_12_v3_011.dat (NZ=1).\n",
      "Template  11: fsps_QSF_12_v3_012.dat (NZ=1).\n",
      "Template  12: binc100z001age6_cloudy.dat (NZ=1).\n",
      "Template  13: binc100z001age65_cloudy.dat (NZ=1).\n",
      "Template  14: binc100z001age7_cloudy.dat (NZ=1).\n",
      "Template  15: binc100z001age6.dat (NZ=1).\n",
      "Template  16: binc100z001age65.dat (NZ=1).\n",
      "Template  17: binc100z001age7.dat (NZ=1).\n",
      "Process templates: 11.903 s\n"
     ]
    },
    {
     "name": "stderr",
     "output_type": "stream",
     "text": [
      "304it [00:00, 26178.88it/s]"
     ]
    },
    {
     "name": "stdout",
     "output_type": "stream",
     "text": [
      "Saving tempfilt to /nvme/scratch/work/tharvey/EXPANSE/src/EXPANSE/eazy/tempfilt/\n"
     ]
    },
    {
     "name": "stderr",
     "output_type": "stream",
     "text": [
      "\n",
      "100%|██████████| 304/304 [00:00<00:00, 4181.22it/s]\n"
     ]
    },
    {
     "name": "stdout",
     "output_type": "stream",
     "text": [
      "Compute best fits\n",
      "fit_best: 0.0 s (n_proc=1,  NOBJ=1)\n",
      "Fit 0.4 s (n_proc=4, NOBJ=1)\n",
      "Setting meta, id_phot, 0\n",
      "Setting meta, z_best, 6.6968985\n",
      "Setting meta, chi2, 15.35716126902791\n",
      "Setting meta, z16, 6.6655416\n",
      "Setting meta, z50, 6.6868024\n",
      "Setting meta, z84, 6.7129784\n",
      "Setting meta, flux_unit, uJy\n",
      "Setting meta, wave_unit, Angstrom\n",
      "Setting meta, templates_file, /nvme/scratch/work/tharvey/EAZY/inputs/scripts/templates/LarsonTemplates/tweak_fsps_QSF_12_v3_newtemplates.param\n",
      "Setting meta, z_min, 0.01\n",
      "Setting meta, z_max, 20.0\n",
      "Setting meta, z_step, 0.01\n",
      "Setting meta, region, MAG_APER_0.32 arcsec_fsps_larson_0.05__Asada24_cgm\n",
      " added to <HDF5 file \"JOF_psfmatched_8514.h5\" (mode r+)>, interactive_outputs/MAG_APER_0_32 arcsec_fsps_larson_0_05__Asada24_cgm/, eazy_fit\n",
      " added to <HDF5 file \"JOF_psfmatched_8514.h5\" (mode r+)>, interactive_outputs/MAG_APER_0_32 arcsec_fsps_larson_0_05__Asada24_cgm/, p_z\n",
      " added to <HDF5 file \"JOF_psfmatched_8514.h5\" (mode r+)>, interactive_outputs/MAG_APER_0_32 arcsec_fsps_larson_0_05__Asada24_cgm/, input_flux\n",
      " added to <HDF5 file \"JOF_psfmatched_8514.h5\" (mode r+)>, interactive_outputs/MAG_APER_0_32 arcsec_fsps_larson_0_05__Asada24_cgm/, input_flux_err\n",
      "Zeropoint: 23.9\n",
      "{'TEMPLATES_FILE': '/nvme/scratch/work/tharvey/EAZY/inputs/scripts/templates/LarsonTemplates/tweak_fsps_QSF_12_v3_newtemplates.param', 'FILTERS_RES': '/nvme/scratch/work/tharvey/EXPANSE/src/EXPANSE/eazy/jwst_nircam_FILTER.RES', 'MW_EBV': 0, 'CAT_HAS_EXTCORR': False, 'ADD_CGM': True, 'Z_STEP': 0.01, 'Z_MIN': 0.01, 'Z_MAX': 20.0, 'TEMP_ERR_FILE': '/nvme/scratch/work/tharvey/EXPANSE/src/EXPANSE/eazy/TEMPLATE_ERROR.eazy_v1.0', 'TEMP_ERR_A2': 0, 'SYS_ERR': 0, 'APPLY_PRIOR': 'n', 'PRIOR_ABZP': 23.9, 'PRIOR_FILTER': 28, 'PRIOR_FILE': '', 'FIX_ZSPEC': False, 'IGM_SCALE_TAU': 1.0, 'N_MIN_COLORS': 2, 'CATALOG_FILE': '/tmp/tmpl8pjnfp8/eazy_input.fits'}\n",
      "Read default param file: /nvme/scratch/software/anaconda3/envs/tharvey_galfind/lib/python3.10/site-packages/eazy/data/zphot.param.default\n",
      "Read CATALOG_FILE: /tmp/tmpl8pjnfp8/eazy_input.fits\n",
      "   >>> NOBJ = 1\n",
      "F22 E22 ( 22): hst/ACS_update_sep07/wfc_f435w_t81.dat\n",
      "F23 E23 ( 23): hst/ACS_update_sep07/wfc_f606w_t81.dat\n",
      "F49 E49 ( 49): hst/ACS_update_sep07/wfc_f775w_t81.dat\n",
      "F24 E24 ( 24): hst/ACS_update_sep07/wfc_f814w_t81.dat\n",
      "F50 E50 ( 50): hst/ACS_update_sep07/wfc_f850lp_t81.dat\n",
      "F1 E1 (  1): jwst_nircam_f090w\n",
      "F2 E2 (  2): jwst_nircam_f115w\n",
      "F3 E3 (  3): jwst_nircam_f150w\n",
      "F38 E38 ( 38): jwst_nircam_f162m\n",
      "F39 E39 ( 39): jwst_nircam_f182m\n",
      "F4 E4 (  4): jwst_nircam_f200w\n",
      "F40 E40 ( 40): jwst_nircam_f210m\n",
      "F41 E41 ( 41): jwst_nircam_f250m\n",
      "F5 E5 (  5): jwst_nircam_f277w\n",
      "F42 E42 ( 42): jwst_nircam_f300m\n",
      "F43 E43 ( 43): jwst_nircam_f335m\n",
      "F6 E6 (  6): jwst_nircam_f356w\n",
      "F7 E7 (  7): jwst_nircam_f410m\n",
      "F8 E8 (  8): jwst_nircam_f444w\n",
      "Set sys_err = 0.00 (positive=True)\n",
      "Template grid: /nvme/scratch/work/tharvey/EAZY/inputs/scripts/templates/LarsonTemplates/tweak_fsps_QSF_12_v3_newtemplates.param (this may take some time)\n"
     ]
    },
    {
     "name": "stderr",
     "output_type": "stream",
     "text": [
      "100%|██████████| 18/18 [00:11<00:00,  1.60it/s]\n"
     ]
    },
    {
     "name": "stdout",
     "output_type": "stream",
     "text": [
      "Template   0: fsps_QSF_12_v3_001.dat (NZ=1).\n",
      "Template   1: fsps_QSF_12_v3_002.dat (NZ=1).\n",
      "Template   2: fsps_QSF_12_v3_003.dat (NZ=1).\n",
      "Template   3: fsps_QSF_12_v3_004.dat (NZ=1).\n",
      "Template   4: fsps_QSF_12_v3_005.dat (NZ=1).\n",
      "Template   5: fsps_QSF_12_v3_006.dat (NZ=1).\n",
      "Template   6: fsps_QSF_12_v3_007.dat (NZ=1).\n",
      "Template   7: fsps_QSF_12_v3_008.dat (NZ=1).\n",
      "Template   8: fsps_QSF_12_v3_009.dat (NZ=1).\n",
      "Template   9: fsps_QSF_12_v3_010.dat (NZ=1).\n",
      "Template  10: fsps_QSF_12_v3_011.dat (NZ=1).\n",
      "Template  11: fsps_QSF_12_v3_012.dat (NZ=1).\n",
      "Template  12: binc100z001age6_cloudy.dat (NZ=1).\n",
      "Template  13: binc100z001age65_cloudy.dat (NZ=1).\n",
      "Template  14: binc100z001age7_cloudy.dat (NZ=1).\n",
      "Template  15: binc100z001age6.dat (NZ=1).\n",
      "Template  16: binc100z001age65.dat (NZ=1).\n",
      "Template  17: binc100z001age7.dat (NZ=1).\n",
      "Process templates: 11.796 s\n"
     ]
    },
    {
     "name": "stderr",
     "output_type": "stream",
     "text": [
      "304it [00:00, 25928.15it/s]"
     ]
    },
    {
     "name": "stdout",
     "output_type": "stream",
     "text": [
      "Saving tempfilt to /nvme/scratch/work/tharvey/EXPANSE/src/EXPANSE/eazy/tempfilt/\n"
     ]
    },
    {
     "name": "stderr",
     "output_type": "stream",
     "text": [
      "\n",
      "100%|██████████| 304/304 [00:00<00:00, 5347.86it/s]\n"
     ]
    },
    {
     "name": "stdout",
     "output_type": "stream",
     "text": [
      "Compute best fits\n",
      "fit_best: 0.0 s (n_proc=1,  NOBJ=1)\n",
      "Fit 0.5 s (n_proc=4, NOBJ=1)\n",
      "Setting meta, id_phot, 0\n",
      "Setting meta, z_best, 4.537424\n",
      "Setting meta, chi2, 19.461320296809273\n",
      "Setting meta, z16, 4.5063667\n",
      "Setting meta, z50, 4.5389156\n",
      "Setting meta, z84, 4.568936\n",
      "Setting meta, flux_unit, uJy\n",
      "Setting meta, wave_unit, Angstrom\n",
      "Setting meta, templates_file, /nvme/scratch/work/tharvey/EAZY/inputs/scripts/templates/LarsonTemplates/tweak_fsps_QSF_12_v3_newtemplates.param\n",
      "Setting meta, z_min, 0.01\n",
      "Setting meta, z_max, 20.0\n",
      "Setting meta, z_step, 0.01\n",
      "Setting meta, region, MAG_APER_0.32 arcsec_fsps_larson_0.05__Asada24_cgm\n",
      " added to <HDF5 file \"JOF_psfmatched_8628.h5\" (mode r+)>, interactive_outputs/MAG_APER_0_32 arcsec_fsps_larson_0_05__Asada24_cgm/, eazy_fit\n",
      " added to <HDF5 file \"JOF_psfmatched_8628.h5\" (mode r+)>, interactive_outputs/MAG_APER_0_32 arcsec_fsps_larson_0_05__Asada24_cgm/, p_z\n",
      " added to <HDF5 file \"JOF_psfmatched_8628.h5\" (mode r+)>, interactive_outputs/MAG_APER_0_32 arcsec_fsps_larson_0_05__Asada24_cgm/, input_flux\n",
      " added to <HDF5 file \"JOF_psfmatched_8628.h5\" (mode r+)>, interactive_outputs/MAG_APER_0_32 arcsec_fsps_larson_0_05__Asada24_cgm/, input_flux_err\n",
      "Zeropoint: 23.9\n",
      "{'TEMPLATES_FILE': '/nvme/scratch/work/tharvey/EAZY/inputs/scripts/templates/LarsonTemplates/tweak_fsps_QSF_12_v3_newtemplates.param', 'FILTERS_RES': '/nvme/scratch/work/tharvey/EXPANSE/src/EXPANSE/eazy/jwst_nircam_FILTER.RES', 'MW_EBV': 0, 'CAT_HAS_EXTCORR': False, 'ADD_CGM': True, 'Z_STEP': 0.01, 'Z_MIN': 0.01, 'Z_MAX': 20.0, 'TEMP_ERR_FILE': '/nvme/scratch/work/tharvey/EXPANSE/src/EXPANSE/eazy/TEMPLATE_ERROR.eazy_v1.0', 'TEMP_ERR_A2': 0, 'SYS_ERR': 0, 'APPLY_PRIOR': 'n', 'PRIOR_ABZP': 23.9, 'PRIOR_FILTER': 28, 'PRIOR_FILE': '', 'FIX_ZSPEC': False, 'IGM_SCALE_TAU': 1.0, 'N_MIN_COLORS': 2, 'CATALOG_FILE': '/tmp/tmphzmnpxv5/eazy_input.fits'}\n",
      "Read default param file: /nvme/scratch/software/anaconda3/envs/tharvey_galfind/lib/python3.10/site-packages/eazy/data/zphot.param.default\n",
      "Read CATALOG_FILE: /tmp/tmphzmnpxv5/eazy_input.fits\n",
      "   >>> NOBJ = 1\n",
      "F22 E22 ( 22): hst/ACS_update_sep07/wfc_f435w_t81.dat\n",
      "F23 E23 ( 23): hst/ACS_update_sep07/wfc_f606w_t81.dat\n",
      "F49 E49 ( 49): hst/ACS_update_sep07/wfc_f775w_t81.dat\n",
      "F24 E24 ( 24): hst/ACS_update_sep07/wfc_f814w_t81.dat\n",
      "F50 E50 ( 50): hst/ACS_update_sep07/wfc_f850lp_t81.dat\n",
      "F1 E1 (  1): jwst_nircam_f090w\n",
      "F2 E2 (  2): jwst_nircam_f115w\n",
      "F3 E3 (  3): jwst_nircam_f150w\n",
      "F38 E38 ( 38): jwst_nircam_f162m\n",
      "F39 E39 ( 39): jwst_nircam_f182m\n",
      "F4 E4 (  4): jwst_nircam_f200w\n",
      "F40 E40 ( 40): jwst_nircam_f210m\n",
      "F41 E41 ( 41): jwst_nircam_f250m\n",
      "F5 E5 (  5): jwst_nircam_f277w\n",
      "F42 E42 ( 42): jwst_nircam_f300m\n",
      "F43 E43 ( 43): jwst_nircam_f335m\n",
      "F6 E6 (  6): jwst_nircam_f356w\n",
      "F7 E7 (  7): jwst_nircam_f410m\n",
      "F8 E8 (  8): jwst_nircam_f444w\n",
      "Set sys_err = 0.00 (positive=True)\n",
      "Template grid: /nvme/scratch/work/tharvey/EAZY/inputs/scripts/templates/LarsonTemplates/tweak_fsps_QSF_12_v3_newtemplates.param (this may take some time)\n"
     ]
    },
    {
     "name": "stderr",
     "output_type": "stream",
     "text": [
      "100%|██████████| 18/18 [00:11<00:00,  1.55it/s]\n"
     ]
    },
    {
     "name": "stdout",
     "output_type": "stream",
     "text": [
      "Template   0: fsps_QSF_12_v3_001.dat (NZ=1).\n",
      "Template   1: fsps_QSF_12_v3_002.dat (NZ=1).\n",
      "Template   2: fsps_QSF_12_v3_003.dat (NZ=1).\n",
      "Template   3: fsps_QSF_12_v3_004.dat (NZ=1).\n",
      "Template   4: fsps_QSF_12_v3_005.dat (NZ=1).\n",
      "Template   5: fsps_QSF_12_v3_006.dat (NZ=1).\n",
      "Template   6: fsps_QSF_12_v3_007.dat (NZ=1).\n",
      "Template   7: fsps_QSF_12_v3_008.dat (NZ=1).\n",
      "Template   8: fsps_QSF_12_v3_009.dat (NZ=1).\n",
      "Template   9: fsps_QSF_12_v3_010.dat (NZ=1).\n",
      "Template  10: fsps_QSF_12_v3_011.dat (NZ=1).\n",
      "Template  11: fsps_QSF_12_v3_012.dat (NZ=1).\n",
      "Template  12: binc100z001age6_cloudy.dat (NZ=1).\n",
      "Template  13: binc100z001age65_cloudy.dat (NZ=1).\n",
      "Template  14: binc100z001age7_cloudy.dat (NZ=1).\n",
      "Template  15: binc100z001age6.dat (NZ=1).\n",
      "Template  16: binc100z001age65.dat (NZ=1).\n",
      "Template  17: binc100z001age7.dat (NZ=1).\n",
      "Process templates: 12.149 s\n"
     ]
    },
    {
     "name": "stderr",
     "output_type": "stream",
     "text": [
      "304it [00:00, 26297.66it/s]"
     ]
    },
    {
     "name": "stdout",
     "output_type": "stream",
     "text": [
      "Saving tempfilt to /nvme/scratch/work/tharvey/EXPANSE/src/EXPANSE/eazy/tempfilt/\n"
     ]
    },
    {
     "name": "stderr",
     "output_type": "stream",
     "text": [
      "\n",
      "100%|██████████| 304/304 [00:00<00:00, 3896.28it/s]\n"
     ]
    },
    {
     "name": "stdout",
     "output_type": "stream",
     "text": [
      "Compute best fits\n",
      "fit_best: 0.0 s (n_proc=1,  NOBJ=1)\n",
      "Fit 0.5 s (n_proc=4, NOBJ=1)\n",
      "Setting meta, id_phot, 0\n",
      "Setting meta, z_best, 4.615689\n",
      "Setting meta, chi2, 12.659900563544891\n",
      "Setting meta, z16, 4.5683846\n",
      "Setting meta, z50, 4.610746\n",
      "Setting meta, z84, 4.641449\n",
      "Setting meta, flux_unit, uJy\n",
      "Setting meta, wave_unit, Angstrom\n",
      "Setting meta, templates_file, /nvme/scratch/work/tharvey/EAZY/inputs/scripts/templates/LarsonTemplates/tweak_fsps_QSF_12_v3_newtemplates.param\n",
      "Setting meta, z_min, 0.01\n",
      "Setting meta, z_max, 20.0\n",
      "Setting meta, z_step, 0.01\n",
      "Setting meta, region, MAG_APER_0.32 arcsec_fsps_larson_0.05__Asada24_cgm\n",
      " added to <HDF5 file \"JOF_psfmatched_877.h5\" (mode r+)>, interactive_outputs/MAG_APER_0_32 arcsec_fsps_larson_0_05__Asada24_cgm/, eazy_fit\n",
      " added to <HDF5 file \"JOF_psfmatched_877.h5\" (mode r+)>, interactive_outputs/MAG_APER_0_32 arcsec_fsps_larson_0_05__Asada24_cgm/, p_z\n",
      " added to <HDF5 file \"JOF_psfmatched_877.h5\" (mode r+)>, interactive_outputs/MAG_APER_0_32 arcsec_fsps_larson_0_05__Asada24_cgm/, input_flux\n",
      " added to <HDF5 file \"JOF_psfmatched_877.h5\" (mode r+)>, interactive_outputs/MAG_APER_0_32 arcsec_fsps_larson_0_05__Asada24_cgm/, input_flux_err\n",
      "Zeropoint: 23.9\n",
      "{'TEMPLATES_FILE': '/nvme/scratch/work/tharvey/EAZY/inputs/scripts/templates/LarsonTemplates/tweak_fsps_QSF_12_v3_newtemplates.param', 'FILTERS_RES': '/nvme/scratch/work/tharvey/EXPANSE/src/EXPANSE/eazy/jwst_nircam_FILTER.RES', 'MW_EBV': 0, 'CAT_HAS_EXTCORR': False, 'ADD_CGM': True, 'Z_STEP': 0.01, 'Z_MIN': 0.01, 'Z_MAX': 20.0, 'TEMP_ERR_FILE': '/nvme/scratch/work/tharvey/EXPANSE/src/EXPANSE/eazy/TEMPLATE_ERROR.eazy_v1.0', 'TEMP_ERR_A2': 0, 'SYS_ERR': 0, 'APPLY_PRIOR': 'n', 'PRIOR_ABZP': 23.9, 'PRIOR_FILTER': 28, 'PRIOR_FILE': '', 'FIX_ZSPEC': False, 'IGM_SCALE_TAU': 1.0, 'N_MIN_COLORS': 2, 'CATALOG_FILE': '/tmp/tmpmntkwv3u/eazy_input.fits'}\n",
      "Read default param file: /nvme/scratch/software/anaconda3/envs/tharvey_galfind/lib/python3.10/site-packages/eazy/data/zphot.param.default\n",
      "Read CATALOG_FILE: /tmp/tmpmntkwv3u/eazy_input.fits\n",
      "   >>> NOBJ = 1\n",
      "F22 E22 ( 22): hst/ACS_update_sep07/wfc_f435w_t81.dat\n",
      "F23 E23 ( 23): hst/ACS_update_sep07/wfc_f606w_t81.dat\n",
      "F49 E49 ( 49): hst/ACS_update_sep07/wfc_f775w_t81.dat\n",
      "F24 E24 ( 24): hst/ACS_update_sep07/wfc_f814w_t81.dat\n",
      "F50 E50 ( 50): hst/ACS_update_sep07/wfc_f850lp_t81.dat\n",
      "F1 E1 (  1): jwst_nircam_f090w\n",
      "F2 E2 (  2): jwst_nircam_f115w\n",
      "F3 E3 (  3): jwst_nircam_f150w\n",
      "F38 E38 ( 38): jwst_nircam_f162m\n",
      "F39 E39 ( 39): jwst_nircam_f182m\n",
      "F4 E4 (  4): jwst_nircam_f200w\n",
      "F40 E40 ( 40): jwst_nircam_f210m\n",
      "F41 E41 ( 41): jwst_nircam_f250m\n",
      "F5 E5 (  5): jwst_nircam_f277w\n",
      "F42 E42 ( 42): jwst_nircam_f300m\n",
      "F43 E43 ( 43): jwst_nircam_f335m\n",
      "F6 E6 (  6): jwst_nircam_f356w\n",
      "F7 E7 (  7): jwst_nircam_f410m\n",
      "F8 E8 (  8): jwst_nircam_f444w\n",
      "Set sys_err = 0.00 (positive=True)\n",
      "Template grid: /nvme/scratch/work/tharvey/EAZY/inputs/scripts/templates/LarsonTemplates/tweak_fsps_QSF_12_v3_newtemplates.param (this may take some time)\n"
     ]
    },
    {
     "name": "stderr",
     "output_type": "stream",
     "text": [
      "100%|██████████| 18/18 [00:11<00:00,  1.62it/s]\n"
     ]
    },
    {
     "name": "stdout",
     "output_type": "stream",
     "text": [
      "Template   0: fsps_QSF_12_v3_001.dat (NZ=1).\n",
      "Template   1: fsps_QSF_12_v3_002.dat (NZ=1).\n",
      "Template   2: fsps_QSF_12_v3_003.dat (NZ=1).\n",
      "Template   3: fsps_QSF_12_v3_004.dat (NZ=1).\n",
      "Template   4: fsps_QSF_12_v3_005.dat (NZ=1).\n",
      "Template   5: fsps_QSF_12_v3_006.dat (NZ=1).\n",
      "Template   6: fsps_QSF_12_v3_007.dat (NZ=1).\n",
      "Template   7: fsps_QSF_12_v3_008.dat (NZ=1).\n",
      "Template   8: fsps_QSF_12_v3_009.dat (NZ=1).\n",
      "Template   9: fsps_QSF_12_v3_010.dat (NZ=1).\n",
      "Template  10: fsps_QSF_12_v3_011.dat (NZ=1).\n",
      "Template  11: fsps_QSF_12_v3_012.dat (NZ=1).\n",
      "Template  12: binc100z001age6_cloudy.dat (NZ=1).\n",
      "Template  13: binc100z001age65_cloudy.dat (NZ=1).\n",
      "Template  14: binc100z001age7_cloudy.dat (NZ=1).\n",
      "Template  15: binc100z001age6.dat (NZ=1).\n",
      "Template  16: binc100z001age65.dat (NZ=1).\n",
      "Template  17: binc100z001age7.dat (NZ=1).\n",
      "Process templates: 11.627 s\n"
     ]
    },
    {
     "name": "stderr",
     "output_type": "stream",
     "text": [
      "304it [00:00, 14031.63it/s]"
     ]
    },
    {
     "name": "stdout",
     "output_type": "stream",
     "text": [
      "Saving tempfilt to /nvme/scratch/work/tharvey/EXPANSE/src/EXPANSE/eazy/tempfilt/\n"
     ]
    },
    {
     "name": "stderr",
     "output_type": "stream",
     "text": [
      "\n",
      "100%|██████████| 304/304 [00:00<00:00, 5531.37it/s]\n"
     ]
    },
    {
     "name": "stdout",
     "output_type": "stream",
     "text": [
      "Compute best fits\n",
      "fit_best: 0.0 s (n_proc=1,  NOBJ=1)\n",
      "Fit 0.4 s (n_proc=4, NOBJ=1)\n",
      "Setting meta, id_phot, 0\n",
      "Setting meta, z_best, 6.0326505\n",
      "Setting meta, chi2, 37.77417409364204\n",
      "Setting meta, z16, 5.971984\n",
      "Setting meta, z50, 6.043676\n",
      "Setting meta, z84, 6.161205\n",
      "Setting meta, flux_unit, uJy\n",
      "Setting meta, wave_unit, Angstrom\n",
      "Setting meta, templates_file, /nvme/scratch/work/tharvey/EAZY/inputs/scripts/templates/LarsonTemplates/tweak_fsps_QSF_12_v3_newtemplates.param\n",
      "Setting meta, z_min, 0.01\n",
      "Setting meta, z_max, 20.0\n",
      "Setting meta, z_step, 0.01\n",
      "Setting meta, region, MAG_APER_0.32 arcsec_fsps_larson_0.05__Asada24_cgm\n",
      " added to <HDF5 file \"JOF_psfmatched_8781.h5\" (mode r+)>, interactive_outputs/MAG_APER_0_32 arcsec_fsps_larson_0_05__Asada24_cgm/, eazy_fit\n",
      " added to <HDF5 file \"JOF_psfmatched_8781.h5\" (mode r+)>, interactive_outputs/MAG_APER_0_32 arcsec_fsps_larson_0_05__Asada24_cgm/, p_z\n",
      " added to <HDF5 file \"JOF_psfmatched_8781.h5\" (mode r+)>, interactive_outputs/MAG_APER_0_32 arcsec_fsps_larson_0_05__Asada24_cgm/, input_flux\n",
      " added to <HDF5 file \"JOF_psfmatched_8781.h5\" (mode r+)>, interactive_outputs/MAG_APER_0_32 arcsec_fsps_larson_0_05__Asada24_cgm/, input_flux_err\n",
      "Zeropoint: 23.9\n",
      "{'TEMPLATES_FILE': '/nvme/scratch/work/tharvey/EAZY/inputs/scripts/templates/LarsonTemplates/tweak_fsps_QSF_12_v3_newtemplates.param', 'FILTERS_RES': '/nvme/scratch/work/tharvey/EXPANSE/src/EXPANSE/eazy/jwst_nircam_FILTER.RES', 'MW_EBV': 0, 'CAT_HAS_EXTCORR': False, 'ADD_CGM': True, 'Z_STEP': 0.01, 'Z_MIN': 0.01, 'Z_MAX': 20.0, 'TEMP_ERR_FILE': '/nvme/scratch/work/tharvey/EXPANSE/src/EXPANSE/eazy/TEMPLATE_ERROR.eazy_v1.0', 'TEMP_ERR_A2': 0, 'SYS_ERR': 0, 'APPLY_PRIOR': 'n', 'PRIOR_ABZP': 23.9, 'PRIOR_FILTER': 28, 'PRIOR_FILE': '', 'FIX_ZSPEC': False, 'IGM_SCALE_TAU': 1.0, 'N_MIN_COLORS': 2, 'CATALOG_FILE': '/tmp/tmpv7lpttu_/eazy_input.fits'}\n",
      "Read default param file: /nvme/scratch/software/anaconda3/envs/tharvey_galfind/lib/python3.10/site-packages/eazy/data/zphot.param.default\n",
      "Read CATALOG_FILE: /tmp/tmpv7lpttu_/eazy_input.fits\n",
      "   >>> NOBJ = 1\n",
      "F22 E22 ( 22): hst/ACS_update_sep07/wfc_f435w_t81.dat\n",
      "F23 E23 ( 23): hst/ACS_update_sep07/wfc_f606w_t81.dat\n",
      "F49 E49 ( 49): hst/ACS_update_sep07/wfc_f775w_t81.dat\n",
      "F24 E24 ( 24): hst/ACS_update_sep07/wfc_f814w_t81.dat\n",
      "F50 E50 ( 50): hst/ACS_update_sep07/wfc_f850lp_t81.dat\n",
      "F1 E1 (  1): jwst_nircam_f090w\n",
      "F2 E2 (  2): jwst_nircam_f115w\n",
      "F3 E3 (  3): jwst_nircam_f150w\n",
      "F38 E38 ( 38): jwst_nircam_f162m\n",
      "F39 E39 ( 39): jwst_nircam_f182m\n",
      "F4 E4 (  4): jwst_nircam_f200w\n",
      "F40 E40 ( 40): jwst_nircam_f210m\n",
      "F41 E41 ( 41): jwst_nircam_f250m\n",
      "F5 E5 (  5): jwst_nircam_f277w\n",
      "F42 E42 ( 42): jwst_nircam_f300m\n",
      "F43 E43 ( 43): jwst_nircam_f335m\n",
      "F6 E6 (  6): jwst_nircam_f356w\n",
      "F7 E7 (  7): jwst_nircam_f410m\n",
      "F8 E8 (  8): jwst_nircam_f444w\n",
      "Set sys_err = 0.00 (positive=True)\n",
      "Template grid: /nvme/scratch/work/tharvey/EAZY/inputs/scripts/templates/LarsonTemplates/tweak_fsps_QSF_12_v3_newtemplates.param (this may take some time)\n"
     ]
    },
    {
     "name": "stderr",
     "output_type": "stream",
     "text": [
      "100%|██████████| 18/18 [00:11<00:00,  1.64it/s]\n"
     ]
    },
    {
     "name": "stdout",
     "output_type": "stream",
     "text": [
      "Template   0: fsps_QSF_12_v3_001.dat (NZ=1).\n",
      "Template   1: fsps_QSF_12_v3_002.dat (NZ=1).\n",
      "Template   2: fsps_QSF_12_v3_003.dat (NZ=1).\n",
      "Template   3: fsps_QSF_12_v3_004.dat (NZ=1).\n",
      "Template   4: fsps_QSF_12_v3_005.dat (NZ=1).\n",
      "Template   5: fsps_QSF_12_v3_006.dat (NZ=1).\n",
      "Template   6: fsps_QSF_12_v3_007.dat (NZ=1).\n",
      "Template   7: fsps_QSF_12_v3_008.dat (NZ=1).\n",
      "Template   8: fsps_QSF_12_v3_009.dat (NZ=1).\n",
      "Template   9: fsps_QSF_12_v3_010.dat (NZ=1).\n",
      "Template  10: fsps_QSF_12_v3_011.dat (NZ=1).\n",
      "Template  11: fsps_QSF_12_v3_012.dat (NZ=1).\n",
      "Template  12: binc100z001age6_cloudy.dat (NZ=1).\n",
      "Template  13: binc100z001age65_cloudy.dat (NZ=1).\n",
      "Template  14: binc100z001age7_cloudy.dat (NZ=1).\n",
      "Template  15: binc100z001age6.dat (NZ=1).\n",
      "Template  16: binc100z001age65.dat (NZ=1).\n",
      "Template  17: binc100z001age7.dat (NZ=1).\n",
      "Process templates: 11.512 s\n"
     ]
    },
    {
     "name": "stderr",
     "output_type": "stream",
     "text": [
      "304it [00:00, 26175.12it/s]"
     ]
    },
    {
     "name": "stdout",
     "output_type": "stream",
     "text": [
      "Saving tempfilt to /nvme/scratch/work/tharvey/EXPANSE/src/EXPANSE/eazy/tempfilt/\n"
     ]
    },
    {
     "name": "stderr",
     "output_type": "stream",
     "text": [
      "\n",
      "100%|██████████| 304/304 [00:00<00:00, 4561.88it/s]\n"
     ]
    },
    {
     "name": "stdout",
     "output_type": "stream",
     "text": [
      "Compute best fits\n",
      "fit_best: 0.0 s (n_proc=1,  NOBJ=1)\n",
      "Fit 0.5 s (n_proc=4, NOBJ=1)\n",
      "Setting meta, id_phot, 0\n",
      "Setting meta, z_best, 6.9808254\n",
      "Setting meta, chi2, 10.45201805081286\n",
      "Setting meta, z16, 6.8934712\n",
      "Setting meta, z50, 6.978097\n",
      "Setting meta, z84, 7.0593166\n",
      "Setting meta, flux_unit, uJy\n",
      "Setting meta, wave_unit, Angstrom\n",
      "Setting meta, templates_file, /nvme/scratch/work/tharvey/EAZY/inputs/scripts/templates/LarsonTemplates/tweak_fsps_QSF_12_v3_newtemplates.param\n",
      "Setting meta, z_min, 0.01\n",
      "Setting meta, z_max, 20.0\n",
      "Setting meta, z_step, 0.01\n",
      "Setting meta, region, MAG_APER_0.32 arcsec_fsps_larson_0.05__Asada24_cgm\n",
      " added to <HDF5 file \"JOF_psfmatched_8789.h5\" (mode r+)>, interactive_outputs/MAG_APER_0_32 arcsec_fsps_larson_0_05__Asada24_cgm/, eazy_fit\n",
      " added to <HDF5 file \"JOF_psfmatched_8789.h5\" (mode r+)>, interactive_outputs/MAG_APER_0_32 arcsec_fsps_larson_0_05__Asada24_cgm/, p_z\n",
      " added to <HDF5 file \"JOF_psfmatched_8789.h5\" (mode r+)>, interactive_outputs/MAG_APER_0_32 arcsec_fsps_larson_0_05__Asada24_cgm/, input_flux\n",
      " added to <HDF5 file \"JOF_psfmatched_8789.h5\" (mode r+)>, interactive_outputs/MAG_APER_0_32 arcsec_fsps_larson_0_05__Asada24_cgm/, input_flux_err\n",
      "Zeropoint: 23.9\n",
      "{'TEMPLATES_FILE': '/nvme/scratch/work/tharvey/EAZY/inputs/scripts/templates/LarsonTemplates/tweak_fsps_QSF_12_v3_newtemplates.param', 'FILTERS_RES': '/nvme/scratch/work/tharvey/EXPANSE/src/EXPANSE/eazy/jwst_nircam_FILTER.RES', 'MW_EBV': 0, 'CAT_HAS_EXTCORR': False, 'ADD_CGM': True, 'Z_STEP': 0.01, 'Z_MIN': 0.01, 'Z_MAX': 20.0, 'TEMP_ERR_FILE': '/nvme/scratch/work/tharvey/EXPANSE/src/EXPANSE/eazy/TEMPLATE_ERROR.eazy_v1.0', 'TEMP_ERR_A2': 0, 'SYS_ERR': 0, 'APPLY_PRIOR': 'n', 'PRIOR_ABZP': 23.9, 'PRIOR_FILTER': 28, 'PRIOR_FILE': '', 'FIX_ZSPEC': False, 'IGM_SCALE_TAU': 1.0, 'N_MIN_COLORS': 2, 'CATALOG_FILE': '/tmp/tmpyvueaxp_/eazy_input.fits'}\n",
      "Read default param file: /nvme/scratch/software/anaconda3/envs/tharvey_galfind/lib/python3.10/site-packages/eazy/data/zphot.param.default\n",
      "Read CATALOG_FILE: /tmp/tmpyvueaxp_/eazy_input.fits\n",
      "   >>> NOBJ = 1\n",
      "F22 E22 ( 22): hst/ACS_update_sep07/wfc_f435w_t81.dat\n",
      "F23 E23 ( 23): hst/ACS_update_sep07/wfc_f606w_t81.dat\n",
      "F49 E49 ( 49): hst/ACS_update_sep07/wfc_f775w_t81.dat\n",
      "F24 E24 ( 24): hst/ACS_update_sep07/wfc_f814w_t81.dat\n",
      "F50 E50 ( 50): hst/ACS_update_sep07/wfc_f850lp_t81.dat\n",
      "F1 E1 (  1): jwst_nircam_f090w\n",
      "F2 E2 (  2): jwst_nircam_f115w\n",
      "F3 E3 (  3): jwst_nircam_f150w\n",
      "F38 E38 ( 38): jwst_nircam_f162m\n",
      "F39 E39 ( 39): jwst_nircam_f182m\n",
      "F4 E4 (  4): jwst_nircam_f200w\n",
      "F40 E40 ( 40): jwst_nircam_f210m\n",
      "F41 E41 ( 41): jwst_nircam_f250m\n",
      "F5 E5 (  5): jwst_nircam_f277w\n",
      "F42 E42 ( 42): jwst_nircam_f300m\n",
      "F43 E43 ( 43): jwst_nircam_f335m\n",
      "F6 E6 (  6): jwst_nircam_f356w\n",
      "F7 E7 (  7): jwst_nircam_f410m\n",
      "F8 E8 (  8): jwst_nircam_f444w\n",
      "Set sys_err = 0.00 (positive=True)\n",
      "Template grid: /nvme/scratch/work/tharvey/EAZY/inputs/scripts/templates/LarsonTemplates/tweak_fsps_QSF_12_v3_newtemplates.param (this may take some time)\n"
     ]
    },
    {
     "name": "stderr",
     "output_type": "stream",
     "text": [
      "100%|██████████| 18/18 [00:11<00:00,  1.63it/s]\n"
     ]
    },
    {
     "name": "stdout",
     "output_type": "stream",
     "text": [
      "Template   0: fsps_QSF_12_v3_001.dat (NZ=1).\n",
      "Template   1: fsps_QSF_12_v3_002.dat (NZ=1).\n",
      "Template   2: fsps_QSF_12_v3_003.dat (NZ=1).\n",
      "Template   3: fsps_QSF_12_v3_004.dat (NZ=1).\n",
      "Template   4: fsps_QSF_12_v3_005.dat (NZ=1).\n",
      "Template   5: fsps_QSF_12_v3_006.dat (NZ=1).\n",
      "Template   6: fsps_QSF_12_v3_007.dat (NZ=1).\n",
      "Template   7: fsps_QSF_12_v3_008.dat (NZ=1).\n",
      "Template   8: fsps_QSF_12_v3_009.dat (NZ=1).\n",
      "Template   9: fsps_QSF_12_v3_010.dat (NZ=1).\n",
      "Template  10: fsps_QSF_12_v3_011.dat (NZ=1).\n",
      "Template  11: fsps_QSF_12_v3_012.dat (NZ=1).\n",
      "Template  12: binc100z001age6_cloudy.dat (NZ=1).\n",
      "Template  13: binc100z001age65_cloudy.dat (NZ=1).\n",
      "Template  14: binc100z001age7_cloudy.dat (NZ=1).\n",
      "Template  15: binc100z001age6.dat (NZ=1).\n",
      "Template  16: binc100z001age65.dat (NZ=1).\n",
      "Template  17: binc100z001age7.dat (NZ=1).\n",
      "Process templates: 11.502 s\n"
     ]
    },
    {
     "name": "stderr",
     "output_type": "stream",
     "text": [
      "304it [00:00, 27881.93it/s]"
     ]
    },
    {
     "name": "stdout",
     "output_type": "stream",
     "text": [
      "Saving tempfilt to /nvme/scratch/work/tharvey/EXPANSE/src/EXPANSE/eazy/tempfilt/\n"
     ]
    },
    {
     "name": "stderr",
     "output_type": "stream",
     "text": [
      "\n",
      "100%|██████████| 304/304 [00:00<00:00, 4376.41it/s]\n"
     ]
    },
    {
     "name": "stdout",
     "output_type": "stream",
     "text": [
      "Compute best fits\n",
      "fit_best: 0.0 s (n_proc=1,  NOBJ=1)\n",
      "Fit 0.4 s (n_proc=4, NOBJ=1)\n",
      "Setting meta, id_phot, 0\n",
      "Setting meta, z_best, 7.0404677\n",
      "Setting meta, chi2, 29.561098958863237\n",
      "Setting meta, z16, 7.013346\n",
      "Setting meta, z50, 7.040435\n",
      "Setting meta, z84, 7.0737724\n",
      "Setting meta, flux_unit, uJy\n",
      "Setting meta, wave_unit, Angstrom\n",
      "Setting meta, templates_file, /nvme/scratch/work/tharvey/EAZY/inputs/scripts/templates/LarsonTemplates/tweak_fsps_QSF_12_v3_newtemplates.param\n",
      "Setting meta, z_min, 0.01\n",
      "Setting meta, z_max, 20.0\n",
      "Setting meta, z_step, 0.01\n",
      "Setting meta, region, MAG_APER_0.32 arcsec_fsps_larson_0.05__Asada24_cgm\n",
      " added to <HDF5 file \"JOF_psfmatched_8798.h5\" (mode r+)>, interactive_outputs/MAG_APER_0_32 arcsec_fsps_larson_0_05__Asada24_cgm/, eazy_fit\n",
      " added to <HDF5 file \"JOF_psfmatched_8798.h5\" (mode r+)>, interactive_outputs/MAG_APER_0_32 arcsec_fsps_larson_0_05__Asada24_cgm/, p_z\n",
      " added to <HDF5 file \"JOF_psfmatched_8798.h5\" (mode r+)>, interactive_outputs/MAG_APER_0_32 arcsec_fsps_larson_0_05__Asada24_cgm/, input_flux\n",
      " added to <HDF5 file \"JOF_psfmatched_8798.h5\" (mode r+)>, interactive_outputs/MAG_APER_0_32 arcsec_fsps_larson_0_05__Asada24_cgm/, input_flux_err\n",
      "Zeropoint: 23.9\n",
      "{'TEMPLATES_FILE': '/nvme/scratch/work/tharvey/EAZY/inputs/scripts/templates/LarsonTemplates/tweak_fsps_QSF_12_v3_newtemplates.param', 'FILTERS_RES': '/nvme/scratch/work/tharvey/EXPANSE/src/EXPANSE/eazy/jwst_nircam_FILTER.RES', 'MW_EBV': 0, 'CAT_HAS_EXTCORR': False, 'ADD_CGM': True, 'Z_STEP': 0.01, 'Z_MIN': 0.01, 'Z_MAX': 20.0, 'TEMP_ERR_FILE': '/nvme/scratch/work/tharvey/EXPANSE/src/EXPANSE/eazy/TEMPLATE_ERROR.eazy_v1.0', 'TEMP_ERR_A2': 0, 'SYS_ERR': 0, 'APPLY_PRIOR': 'n', 'PRIOR_ABZP': 23.9, 'PRIOR_FILTER': 28, 'PRIOR_FILE': '', 'FIX_ZSPEC': False, 'IGM_SCALE_TAU': 1.0, 'N_MIN_COLORS': 2, 'CATALOG_FILE': '/tmp/tmpbbju0s2b/eazy_input.fits'}\n",
      "Read default param file: /nvme/scratch/software/anaconda3/envs/tharvey_galfind/lib/python3.10/site-packages/eazy/data/zphot.param.default\n",
      "Read CATALOG_FILE: /tmp/tmpbbju0s2b/eazy_input.fits\n",
      "   >>> NOBJ = 1\n",
      "F22 E22 ( 22): hst/ACS_update_sep07/wfc_f435w_t81.dat\n",
      "F23 E23 ( 23): hst/ACS_update_sep07/wfc_f606w_t81.dat\n",
      "F49 E49 ( 49): hst/ACS_update_sep07/wfc_f775w_t81.dat\n",
      "F24 E24 ( 24): hst/ACS_update_sep07/wfc_f814w_t81.dat\n",
      "F50 E50 ( 50): hst/ACS_update_sep07/wfc_f850lp_t81.dat\n",
      "F1 E1 (  1): jwst_nircam_f090w\n",
      "F2 E2 (  2): jwst_nircam_f115w\n",
      "F3 E3 (  3): jwst_nircam_f150w\n",
      "F38 E38 ( 38): jwst_nircam_f162m\n",
      "F39 E39 ( 39): jwst_nircam_f182m\n",
      "F4 E4 (  4): jwst_nircam_f200w\n",
      "F40 E40 ( 40): jwst_nircam_f210m\n",
      "F41 E41 ( 41): jwst_nircam_f250m\n",
      "F5 E5 (  5): jwst_nircam_f277w\n",
      "F42 E42 ( 42): jwst_nircam_f300m\n",
      "F43 E43 ( 43): jwst_nircam_f335m\n",
      "F6 E6 (  6): jwst_nircam_f356w\n",
      "F7 E7 (  7): jwst_nircam_f410m\n",
      "F8 E8 (  8): jwst_nircam_f444w\n",
      "Set sys_err = 0.00 (positive=True)\n",
      "Template grid: /nvme/scratch/work/tharvey/EAZY/inputs/scripts/templates/LarsonTemplates/tweak_fsps_QSF_12_v3_newtemplates.param (this may take some time)\n"
     ]
    },
    {
     "name": "stderr",
     "output_type": "stream",
     "text": [
      "100%|██████████| 18/18 [00:11<00:00,  1.57it/s]\n"
     ]
    },
    {
     "name": "stdout",
     "output_type": "stream",
     "text": [
      "Template   0: fsps_QSF_12_v3_001.dat (NZ=1).\n",
      "Template   1: fsps_QSF_12_v3_002.dat (NZ=1).\n",
      "Template   2: fsps_QSF_12_v3_003.dat (NZ=1).\n",
      "Template   3: fsps_QSF_12_v3_004.dat (NZ=1).\n",
      "Template   4: fsps_QSF_12_v3_005.dat (NZ=1).\n",
      "Template   5: fsps_QSF_12_v3_006.dat (NZ=1).\n",
      "Template   6: fsps_QSF_12_v3_007.dat (NZ=1).\n",
      "Template   7: fsps_QSF_12_v3_008.dat (NZ=1).\n",
      "Template   8: fsps_QSF_12_v3_009.dat (NZ=1).\n",
      "Template   9: fsps_QSF_12_v3_010.dat (NZ=1).\n",
      "Template  10: fsps_QSF_12_v3_011.dat (NZ=1).\n",
      "Template  11: fsps_QSF_12_v3_012.dat (NZ=1).\n",
      "Template  12: binc100z001age6_cloudy.dat (NZ=1).\n",
      "Template  13: binc100z001age65_cloudy.dat (NZ=1).\n",
      "Template  14: binc100z001age7_cloudy.dat (NZ=1).\n",
      "Template  15: binc100z001age6.dat (NZ=1).\n",
      "Template  16: binc100z001age65.dat (NZ=1).\n",
      "Template  17: binc100z001age7.dat (NZ=1).\n",
      "Process templates: 11.978 s\n"
     ]
    },
    {
     "name": "stderr",
     "output_type": "stream",
     "text": [
      "304it [00:00, 13927.11it/s]"
     ]
    },
    {
     "name": "stdout",
     "output_type": "stream",
     "text": [
      "Saving tempfilt to /nvme/scratch/work/tharvey/EXPANSE/src/EXPANSE/eazy/tempfilt/\n"
     ]
    },
    {
     "name": "stderr",
     "output_type": "stream",
     "text": [
      "\n",
      "100%|██████████| 304/304 [00:00<00:00, 4927.84it/s]\n"
     ]
    },
    {
     "name": "stdout",
     "output_type": "stream",
     "text": [
      "Compute best fits\n",
      "fit_best: 0.0 s (n_proc=1,  NOBJ=1)\n",
      "Fit 0.4 s (n_proc=4, NOBJ=1)\n",
      "Setting meta, id_phot, 0\n",
      "Setting meta, z_best, 4.530195\n",
      "Setting meta, chi2, 14.383250247622971\n",
      "Setting meta, z16, 4.475832\n",
      "Setting meta, z50, 4.529473\n",
      "Setting meta, z84, 4.582057\n",
      "Setting meta, flux_unit, uJy\n",
      "Setting meta, wave_unit, Angstrom\n",
      "Setting meta, templates_file, /nvme/scratch/work/tharvey/EAZY/inputs/scripts/templates/LarsonTemplates/tweak_fsps_QSF_12_v3_newtemplates.param\n",
      "Setting meta, z_min, 0.01\n",
      "Setting meta, z_max, 20.0\n",
      "Setting meta, z_step, 0.01\n",
      "Setting meta, region, MAG_APER_0.32 arcsec_fsps_larson_0.05__Asada24_cgm\n",
      " added to <HDF5 file \"JOF_psfmatched_8854.h5\" (mode r+)>, interactive_outputs/MAG_APER_0_32 arcsec_fsps_larson_0_05__Asada24_cgm/, eazy_fit\n",
      " added to <HDF5 file \"JOF_psfmatched_8854.h5\" (mode r+)>, interactive_outputs/MAG_APER_0_32 arcsec_fsps_larson_0_05__Asada24_cgm/, p_z\n",
      " added to <HDF5 file \"JOF_psfmatched_8854.h5\" (mode r+)>, interactive_outputs/MAG_APER_0_32 arcsec_fsps_larson_0_05__Asada24_cgm/, input_flux\n",
      " added to <HDF5 file \"JOF_psfmatched_8854.h5\" (mode r+)>, interactive_outputs/MAG_APER_0_32 arcsec_fsps_larson_0_05__Asada24_cgm/, input_flux_err\n",
      "Zeropoint: 23.9\n",
      "{'TEMPLATES_FILE': '/nvme/scratch/work/tharvey/EAZY/inputs/scripts/templates/LarsonTemplates/tweak_fsps_QSF_12_v3_newtemplates.param', 'FILTERS_RES': '/nvme/scratch/work/tharvey/EXPANSE/src/EXPANSE/eazy/jwst_nircam_FILTER.RES', 'MW_EBV': 0, 'CAT_HAS_EXTCORR': False, 'ADD_CGM': True, 'Z_STEP': 0.01, 'Z_MIN': 0.01, 'Z_MAX': 20.0, 'TEMP_ERR_FILE': '/nvme/scratch/work/tharvey/EXPANSE/src/EXPANSE/eazy/TEMPLATE_ERROR.eazy_v1.0', 'TEMP_ERR_A2': 0, 'SYS_ERR': 0, 'APPLY_PRIOR': 'n', 'PRIOR_ABZP': 23.9, 'PRIOR_FILTER': 28, 'PRIOR_FILE': '', 'FIX_ZSPEC': False, 'IGM_SCALE_TAU': 1.0, 'N_MIN_COLORS': 2, 'CATALOG_FILE': '/tmp/tmp1vmlqaee/eazy_input.fits'}\n",
      "Read default param file: /nvme/scratch/software/anaconda3/envs/tharvey_galfind/lib/python3.10/site-packages/eazy/data/zphot.param.default\n",
      "Read CATALOG_FILE: /tmp/tmp1vmlqaee/eazy_input.fits\n",
      "   >>> NOBJ = 1\n",
      "F22 E22 ( 22): hst/ACS_update_sep07/wfc_f435w_t81.dat\n",
      "F23 E23 ( 23): hst/ACS_update_sep07/wfc_f606w_t81.dat\n",
      "F49 E49 ( 49): hst/ACS_update_sep07/wfc_f775w_t81.dat\n",
      "F24 E24 ( 24): hst/ACS_update_sep07/wfc_f814w_t81.dat\n",
      "F50 E50 ( 50): hst/ACS_update_sep07/wfc_f850lp_t81.dat\n",
      "F1 E1 (  1): jwst_nircam_f090w\n",
      "F2 E2 (  2): jwst_nircam_f115w\n",
      "F3 E3 (  3): jwst_nircam_f150w\n",
      "F38 E38 ( 38): jwst_nircam_f162m\n",
      "F39 E39 ( 39): jwst_nircam_f182m\n",
      "F4 E4 (  4): jwst_nircam_f200w\n",
      "F40 E40 ( 40): jwst_nircam_f210m\n",
      "F41 E41 ( 41): jwst_nircam_f250m\n",
      "F5 E5 (  5): jwst_nircam_f277w\n",
      "F42 E42 ( 42): jwst_nircam_f300m\n",
      "F43 E43 ( 43): jwst_nircam_f335m\n",
      "F6 E6 (  6): jwst_nircam_f356w\n",
      "F7 E7 (  7): jwst_nircam_f410m\n",
      "F8 E8 (  8): jwst_nircam_f444w\n",
      "Set sys_err = 0.00 (positive=True)\n",
      "Template grid: /nvme/scratch/work/tharvey/EAZY/inputs/scripts/templates/LarsonTemplates/tweak_fsps_QSF_12_v3_newtemplates.param (this may take some time)\n"
     ]
    },
    {
     "name": "stderr",
     "output_type": "stream",
     "text": [
      "100%|██████████| 18/18 [00:11<00:00,  1.59it/s]\n"
     ]
    },
    {
     "name": "stdout",
     "output_type": "stream",
     "text": [
      "Template   0: fsps_QSF_12_v3_001.dat (NZ=1).\n",
      "Template   1: fsps_QSF_12_v3_002.dat (NZ=1).\n",
      "Template   2: fsps_QSF_12_v3_003.dat (NZ=1).\n",
      "Template   3: fsps_QSF_12_v3_004.dat (NZ=1).\n",
      "Template   4: fsps_QSF_12_v3_005.dat (NZ=1).\n",
      "Template   5: fsps_QSF_12_v3_006.dat (NZ=1).\n",
      "Template   6: fsps_QSF_12_v3_007.dat (NZ=1).\n",
      "Template   7: fsps_QSF_12_v3_008.dat (NZ=1).\n",
      "Template   8: fsps_QSF_12_v3_009.dat (NZ=1).\n",
      "Template   9: fsps_QSF_12_v3_010.dat (NZ=1).\n",
      "Template  10: fsps_QSF_12_v3_011.dat (NZ=1).\n",
      "Template  11: fsps_QSF_12_v3_012.dat (NZ=1).\n",
      "Template  12: binc100z001age6_cloudy.dat (NZ=1).\n",
      "Template  13: binc100z001age65_cloudy.dat (NZ=1).\n",
      "Template  14: binc100z001age7_cloudy.dat (NZ=1).\n",
      "Template  15: binc100z001age6.dat (NZ=1).\n",
      "Template  16: binc100z001age65.dat (NZ=1).\n",
      "Template  17: binc100z001age7.dat (NZ=1).\n",
      "Process templates: 11.790 s\n"
     ]
    },
    {
     "name": "stderr",
     "output_type": "stream",
     "text": [
      "304it [00:00, 18127.73it/s]"
     ]
    },
    {
     "name": "stdout",
     "output_type": "stream",
     "text": [
      "Saving tempfilt to /nvme/scratch/work/tharvey/EXPANSE/src/EXPANSE/eazy/tempfilt/\n"
     ]
    },
    {
     "name": "stderr",
     "output_type": "stream",
     "text": [
      "\n",
      "100%|██████████| 304/304 [00:00<00:00, 5759.22it/s]\n"
     ]
    },
    {
     "name": "stdout",
     "output_type": "stream",
     "text": [
      "Compute best fits\n",
      "fit_best: 0.0 s (n_proc=1,  NOBJ=1)\n",
      "Fit 0.4 s (n_proc=4, NOBJ=1)\n",
      "Setting meta, id_phot, 0\n",
      "Setting meta, z_best, 12.120146\n",
      "Setting meta, chi2, 27.870810673707226\n",
      "Setting meta, z16, 11.9934025\n",
      "Setting meta, z50, 12.120713\n",
      "Setting meta, z84, 12.24925\n",
      "Setting meta, flux_unit, uJy\n",
      "Setting meta, wave_unit, Angstrom\n",
      "Setting meta, templates_file, /nvme/scratch/work/tharvey/EAZY/inputs/scripts/templates/LarsonTemplates/tweak_fsps_QSF_12_v3_newtemplates.param\n",
      "Setting meta, z_min, 0.01\n",
      "Setting meta, z_max, 20.0\n",
      "Setting meta, z_step, 0.01\n",
      "Setting meta, region, MAG_APER_0.32 arcsec_fsps_larson_0.05__Asada24_cgm\n",
      " added to <HDF5 file \"JOF_psfmatched_8885.h5\" (mode r+)>, interactive_outputs/MAG_APER_0_32 arcsec_fsps_larson_0_05__Asada24_cgm/, eazy_fit\n",
      " added to <HDF5 file \"JOF_psfmatched_8885.h5\" (mode r+)>, interactive_outputs/MAG_APER_0_32 arcsec_fsps_larson_0_05__Asada24_cgm/, p_z\n",
      " added to <HDF5 file \"JOF_psfmatched_8885.h5\" (mode r+)>, interactive_outputs/MAG_APER_0_32 arcsec_fsps_larson_0_05__Asada24_cgm/, input_flux\n",
      " added to <HDF5 file \"JOF_psfmatched_8885.h5\" (mode r+)>, interactive_outputs/MAG_APER_0_32 arcsec_fsps_larson_0_05__Asada24_cgm/, input_flux_err\n",
      "Zeropoint: 23.9\n",
      "{'TEMPLATES_FILE': '/nvme/scratch/work/tharvey/EAZY/inputs/scripts/templates/LarsonTemplates/tweak_fsps_QSF_12_v3_newtemplates.param', 'FILTERS_RES': '/nvme/scratch/work/tharvey/EXPANSE/src/EXPANSE/eazy/jwst_nircam_FILTER.RES', 'MW_EBV': 0, 'CAT_HAS_EXTCORR': False, 'ADD_CGM': True, 'Z_STEP': 0.01, 'Z_MIN': 0.01, 'Z_MAX': 20.0, 'TEMP_ERR_FILE': '/nvme/scratch/work/tharvey/EXPANSE/src/EXPANSE/eazy/TEMPLATE_ERROR.eazy_v1.0', 'TEMP_ERR_A2': 0, 'SYS_ERR': 0, 'APPLY_PRIOR': 'n', 'PRIOR_ABZP': 23.9, 'PRIOR_FILTER': 28, 'PRIOR_FILE': '', 'FIX_ZSPEC': False, 'IGM_SCALE_TAU': 1.0, 'N_MIN_COLORS': 2, 'CATALOG_FILE': '/tmp/tmpm5lkplvf/eazy_input.fits'}\n",
      "Read default param file: /nvme/scratch/software/anaconda3/envs/tharvey_galfind/lib/python3.10/site-packages/eazy/data/zphot.param.default\n",
      "Read CATALOG_FILE: /tmp/tmpm5lkplvf/eazy_input.fits\n",
      "   >>> NOBJ = 1\n",
      "F22 E22 ( 22): hst/ACS_update_sep07/wfc_f435w_t81.dat\n",
      "F23 E23 ( 23): hst/ACS_update_sep07/wfc_f606w_t81.dat\n",
      "F49 E49 ( 49): hst/ACS_update_sep07/wfc_f775w_t81.dat\n",
      "F24 E24 ( 24): hst/ACS_update_sep07/wfc_f814w_t81.dat\n",
      "F50 E50 ( 50): hst/ACS_update_sep07/wfc_f850lp_t81.dat\n",
      "F1 E1 (  1): jwst_nircam_f090w\n",
      "F2 E2 (  2): jwst_nircam_f115w\n",
      "F3 E3 (  3): jwst_nircam_f150w\n",
      "F38 E38 ( 38): jwst_nircam_f162m\n",
      "F39 E39 ( 39): jwst_nircam_f182m\n",
      "F4 E4 (  4): jwst_nircam_f200w\n",
      "F40 E40 ( 40): jwst_nircam_f210m\n",
      "F41 E41 ( 41): jwst_nircam_f250m\n",
      "F5 E5 (  5): jwst_nircam_f277w\n",
      "F42 E42 ( 42): jwst_nircam_f300m\n",
      "F43 E43 ( 43): jwst_nircam_f335m\n",
      "F6 E6 (  6): jwst_nircam_f356w\n",
      "F7 E7 (  7): jwst_nircam_f410m\n",
      "F8 E8 (  8): jwst_nircam_f444w\n",
      "Set sys_err = 0.00 (positive=True)\n",
      "Template grid: /nvme/scratch/work/tharvey/EAZY/inputs/scripts/templates/LarsonTemplates/tweak_fsps_QSF_12_v3_newtemplates.param (this may take some time)\n"
     ]
    },
    {
     "name": "stderr",
     "output_type": "stream",
     "text": [
      "100%|██████████| 18/18 [00:11<00:00,  1.59it/s]\n"
     ]
    },
    {
     "name": "stdout",
     "output_type": "stream",
     "text": [
      "Template   0: fsps_QSF_12_v3_001.dat (NZ=1).\n",
      "Template   1: fsps_QSF_12_v3_002.dat (NZ=1).\n",
      "Template   2: fsps_QSF_12_v3_003.dat (NZ=1).\n",
      "Template   3: fsps_QSF_12_v3_004.dat (NZ=1).\n",
      "Template   4: fsps_QSF_12_v3_005.dat (NZ=1).\n",
      "Template   5: fsps_QSF_12_v3_006.dat (NZ=1).\n",
      "Template   6: fsps_QSF_12_v3_007.dat (NZ=1).\n",
      "Template   7: fsps_QSF_12_v3_008.dat (NZ=1).\n",
      "Template   8: fsps_QSF_12_v3_009.dat (NZ=1).\n",
      "Template   9: fsps_QSF_12_v3_010.dat (NZ=1).\n",
      "Template  10: fsps_QSF_12_v3_011.dat (NZ=1).\n",
      "Template  11: fsps_QSF_12_v3_012.dat (NZ=1).\n",
      "Template  12: binc100z001age6_cloudy.dat (NZ=1).\n",
      "Template  13: binc100z001age65_cloudy.dat (NZ=1).\n",
      "Template  14: binc100z001age7_cloudy.dat (NZ=1).\n",
      "Template  15: binc100z001age6.dat (NZ=1).\n",
      "Template  16: binc100z001age65.dat (NZ=1).\n",
      "Template  17: binc100z001age7.dat (NZ=1).\n",
      "Process templates: 11.751 s\n"
     ]
    },
    {
     "name": "stderr",
     "output_type": "stream",
     "text": [
      "304it [00:00, 25956.12it/s]"
     ]
    },
    {
     "name": "stdout",
     "output_type": "stream",
     "text": [
      "Saving tempfilt to /nvme/scratch/work/tharvey/EXPANSE/src/EXPANSE/eazy/tempfilt/\n"
     ]
    },
    {
     "name": "stderr",
     "output_type": "stream",
     "text": [
      "\n",
      "100%|██████████| 304/304 [00:00<00:00, 5925.09it/s]\n"
     ]
    },
    {
     "name": "stdout",
     "output_type": "stream",
     "text": [
      "Compute best fits\n",
      "fit_best: 0.0 s (n_proc=1,  NOBJ=1)\n",
      "Fit 0.4 s (n_proc=4, NOBJ=1)\n",
      "Setting meta, id_phot, 0\n",
      "Setting meta, z_best, 8.211647\n",
      "Setting meta, chi2, 13.98873322829232\n",
      "Setting meta, z16, 8.097477\n",
      "Setting meta, z50, 8.208798\n",
      "Setting meta, z84, 8.289919\n",
      "Setting meta, flux_unit, uJy\n",
      "Setting meta, wave_unit, Angstrom\n",
      "Setting meta, templates_file, /nvme/scratch/work/tharvey/EAZY/inputs/scripts/templates/LarsonTemplates/tweak_fsps_QSF_12_v3_newtemplates.param\n",
      "Setting meta, z_min, 0.01\n",
      "Setting meta, z_max, 20.0\n",
      "Setting meta, z_step, 0.01\n",
      "Setting meta, region, MAG_APER_0.32 arcsec_fsps_larson_0.05__Asada24_cgm\n",
      " added to <HDF5 file \"JOF_psfmatched_893.h5\" (mode r+)>, interactive_outputs/MAG_APER_0_32 arcsec_fsps_larson_0_05__Asada24_cgm/, eazy_fit\n",
      " added to <HDF5 file \"JOF_psfmatched_893.h5\" (mode r+)>, interactive_outputs/MAG_APER_0_32 arcsec_fsps_larson_0_05__Asada24_cgm/, p_z\n",
      " added to <HDF5 file \"JOF_psfmatched_893.h5\" (mode r+)>, interactive_outputs/MAG_APER_0_32 arcsec_fsps_larson_0_05__Asada24_cgm/, input_flux\n",
      " added to <HDF5 file \"JOF_psfmatched_893.h5\" (mode r+)>, interactive_outputs/MAG_APER_0_32 arcsec_fsps_larson_0_05__Asada24_cgm/, input_flux_err\n",
      "Zeropoint: 23.9\n",
      "{'TEMPLATES_FILE': '/nvme/scratch/work/tharvey/EAZY/inputs/scripts/templates/LarsonTemplates/tweak_fsps_QSF_12_v3_newtemplates.param', 'FILTERS_RES': '/nvme/scratch/work/tharvey/EXPANSE/src/EXPANSE/eazy/jwst_nircam_FILTER.RES', 'MW_EBV': 0, 'CAT_HAS_EXTCORR': False, 'ADD_CGM': True, 'Z_STEP': 0.01, 'Z_MIN': 0.01, 'Z_MAX': 20.0, 'TEMP_ERR_FILE': '/nvme/scratch/work/tharvey/EXPANSE/src/EXPANSE/eazy/TEMPLATE_ERROR.eazy_v1.0', 'TEMP_ERR_A2': 0, 'SYS_ERR': 0, 'APPLY_PRIOR': 'n', 'PRIOR_ABZP': 23.9, 'PRIOR_FILTER': 28, 'PRIOR_FILE': '', 'FIX_ZSPEC': False, 'IGM_SCALE_TAU': 1.0, 'N_MIN_COLORS': 2, 'CATALOG_FILE': '/tmp/tmp5wf1e_n7/eazy_input.fits'}\n",
      "Read default param file: /nvme/scratch/software/anaconda3/envs/tharvey_galfind/lib/python3.10/site-packages/eazy/data/zphot.param.default\n",
      "Read CATALOG_FILE: /tmp/tmp5wf1e_n7/eazy_input.fits\n",
      "   >>> NOBJ = 1\n",
      "F22 E22 ( 22): hst/ACS_update_sep07/wfc_f435w_t81.dat\n",
      "F23 E23 ( 23): hst/ACS_update_sep07/wfc_f606w_t81.dat\n",
      "F49 E49 ( 49): hst/ACS_update_sep07/wfc_f775w_t81.dat\n",
      "F24 E24 ( 24): hst/ACS_update_sep07/wfc_f814w_t81.dat\n",
      "F50 E50 ( 50): hst/ACS_update_sep07/wfc_f850lp_t81.dat\n",
      "F1 E1 (  1): jwst_nircam_f090w\n",
      "F2 E2 (  2): jwst_nircam_f115w\n",
      "F3 E3 (  3): jwst_nircam_f150w\n",
      "F38 E38 ( 38): jwst_nircam_f162m\n",
      "F39 E39 ( 39): jwst_nircam_f182m\n",
      "F4 E4 (  4): jwst_nircam_f200w\n",
      "F40 E40 ( 40): jwst_nircam_f210m\n",
      "F41 E41 ( 41): jwst_nircam_f250m\n",
      "F5 E5 (  5): jwst_nircam_f277w\n",
      "F42 E42 ( 42): jwst_nircam_f300m\n",
      "F43 E43 ( 43): jwst_nircam_f335m\n",
      "F6 E6 (  6): jwst_nircam_f356w\n",
      "F7 E7 (  7): jwst_nircam_f410m\n",
      "F8 E8 (  8): jwst_nircam_f444w\n",
      "Set sys_err = 0.00 (positive=True)\n",
      "Template grid: /nvme/scratch/work/tharvey/EAZY/inputs/scripts/templates/LarsonTemplates/tweak_fsps_QSF_12_v3_newtemplates.param (this may take some time)\n"
     ]
    },
    {
     "name": "stderr",
     "output_type": "stream",
     "text": [
      "100%|██████████| 18/18 [00:11<00:00,  1.59it/s]\n"
     ]
    },
    {
     "name": "stdout",
     "output_type": "stream",
     "text": [
      "Template   0: fsps_QSF_12_v3_001.dat (NZ=1).\n",
      "Template   1: fsps_QSF_12_v3_002.dat (NZ=1).\n",
      "Template   2: fsps_QSF_12_v3_003.dat (NZ=1).\n",
      "Template   3: fsps_QSF_12_v3_004.dat (NZ=1).\n",
      "Template   4: fsps_QSF_12_v3_005.dat (NZ=1).\n",
      "Template   5: fsps_QSF_12_v3_006.dat (NZ=1).\n",
      "Template   6: fsps_QSF_12_v3_007.dat (NZ=1).\n",
      "Template   7: fsps_QSF_12_v3_008.dat (NZ=1).\n",
      "Template   8: fsps_QSF_12_v3_009.dat (NZ=1).\n",
      "Template   9: fsps_QSF_12_v3_010.dat (NZ=1).\n",
      "Template  10: fsps_QSF_12_v3_011.dat (NZ=1).\n",
      "Template  11: fsps_QSF_12_v3_012.dat (NZ=1).\n",
      "Template  12: binc100z001age6_cloudy.dat (NZ=1).\n",
      "Template  13: binc100z001age65_cloudy.dat (NZ=1).\n",
      "Template  14: binc100z001age7_cloudy.dat (NZ=1).\n",
      "Template  15: binc100z001age6.dat (NZ=1).\n",
      "Template  16: binc100z001age65.dat (NZ=1).\n",
      "Template  17: binc100z001age7.dat (NZ=1).\n",
      "Process templates: 11.798 s\n"
     ]
    },
    {
     "name": "stderr",
     "output_type": "stream",
     "text": [
      "304it [00:00, 21575.49it/s]"
     ]
    },
    {
     "name": "stdout",
     "output_type": "stream",
     "text": [
      "Saving tempfilt to /nvme/scratch/work/tharvey/EXPANSE/src/EXPANSE/eazy/tempfilt/\n"
     ]
    },
    {
     "name": "stderr",
     "output_type": "stream",
     "text": [
      "\n",
      "100%|██████████| 304/304 [00:00<00:00, 5643.54it/s]\n"
     ]
    },
    {
     "name": "stdout",
     "output_type": "stream",
     "text": [
      "Compute best fits\n",
      "fit_best: 0.0 s (n_proc=1,  NOBJ=1)\n",
      "Fit 0.4 s (n_proc=4, NOBJ=1)\n",
      "Setting meta, id_phot, 0\n",
      "Setting meta, z_best, 8.507282\n",
      "Setting meta, chi2, 22.665931605050307\n",
      "Setting meta, z16, 8.290354\n",
      "Setting meta, z50, 8.470931\n",
      "Setting meta, z84, 8.613802\n",
      "Setting meta, flux_unit, uJy\n",
      "Setting meta, wave_unit, Angstrom\n",
      "Setting meta, templates_file, /nvme/scratch/work/tharvey/EAZY/inputs/scripts/templates/LarsonTemplates/tweak_fsps_QSF_12_v3_newtemplates.param\n",
      "Setting meta, z_min, 0.01\n",
      "Setting meta, z_max, 20.0\n",
      "Setting meta, z_step, 0.01\n",
      "Setting meta, region, MAG_APER_0.32 arcsec_fsps_larson_0.05__Asada24_cgm\n",
      " added to <HDF5 file \"JOF_psfmatched_8958.h5\" (mode r+)>, interactive_outputs/MAG_APER_0_32 arcsec_fsps_larson_0_05__Asada24_cgm/, eazy_fit\n",
      " added to <HDF5 file \"JOF_psfmatched_8958.h5\" (mode r+)>, interactive_outputs/MAG_APER_0_32 arcsec_fsps_larson_0_05__Asada24_cgm/, p_z\n",
      " added to <HDF5 file \"JOF_psfmatched_8958.h5\" (mode r+)>, interactive_outputs/MAG_APER_0_32 arcsec_fsps_larson_0_05__Asada24_cgm/, input_flux\n",
      " added to <HDF5 file \"JOF_psfmatched_8958.h5\" (mode r+)>, interactive_outputs/MAG_APER_0_32 arcsec_fsps_larson_0_05__Asada24_cgm/, input_flux_err\n",
      "Zeropoint: 23.9\n",
      "{'TEMPLATES_FILE': '/nvme/scratch/work/tharvey/EAZY/inputs/scripts/templates/LarsonTemplates/tweak_fsps_QSF_12_v3_newtemplates.param', 'FILTERS_RES': '/nvme/scratch/work/tharvey/EXPANSE/src/EXPANSE/eazy/jwst_nircam_FILTER.RES', 'MW_EBV': 0, 'CAT_HAS_EXTCORR': False, 'ADD_CGM': True, 'Z_STEP': 0.01, 'Z_MIN': 0.01, 'Z_MAX': 20.0, 'TEMP_ERR_FILE': '/nvme/scratch/work/tharvey/EXPANSE/src/EXPANSE/eazy/TEMPLATE_ERROR.eazy_v1.0', 'TEMP_ERR_A2': 0, 'SYS_ERR': 0, 'APPLY_PRIOR': 'n', 'PRIOR_ABZP': 23.9, 'PRIOR_FILTER': 28, 'PRIOR_FILE': '', 'FIX_ZSPEC': False, 'IGM_SCALE_TAU': 1.0, 'N_MIN_COLORS': 2, 'CATALOG_FILE': '/tmp/tmpb7w7e_0e/eazy_input.fits'}\n",
      "Read default param file: /nvme/scratch/software/anaconda3/envs/tharvey_galfind/lib/python3.10/site-packages/eazy/data/zphot.param.default\n",
      "Read CATALOG_FILE: /tmp/tmpb7w7e_0e/eazy_input.fits\n",
      "   >>> NOBJ = 1\n",
      "F22 E22 ( 22): hst/ACS_update_sep07/wfc_f435w_t81.dat\n",
      "F23 E23 ( 23): hst/ACS_update_sep07/wfc_f606w_t81.dat\n",
      "F49 E49 ( 49): hst/ACS_update_sep07/wfc_f775w_t81.dat\n",
      "F24 E24 ( 24): hst/ACS_update_sep07/wfc_f814w_t81.dat\n",
      "F50 E50 ( 50): hst/ACS_update_sep07/wfc_f850lp_t81.dat\n",
      "F1 E1 (  1): jwst_nircam_f090w\n",
      "F2 E2 (  2): jwst_nircam_f115w\n",
      "F3 E3 (  3): jwst_nircam_f150w\n",
      "F38 E38 ( 38): jwst_nircam_f162m\n",
      "F39 E39 ( 39): jwst_nircam_f182m\n",
      "F4 E4 (  4): jwst_nircam_f200w\n",
      "F40 E40 ( 40): jwst_nircam_f210m\n",
      "F41 E41 ( 41): jwst_nircam_f250m\n",
      "F5 E5 (  5): jwst_nircam_f277w\n",
      "F42 E42 ( 42): jwst_nircam_f300m\n",
      "F43 E43 ( 43): jwst_nircam_f335m\n",
      "F6 E6 (  6): jwst_nircam_f356w\n",
      "F7 E7 (  7): jwst_nircam_f410m\n",
      "F8 E8 (  8): jwst_nircam_f444w\n",
      "Set sys_err = 0.00 (positive=True)\n",
      "Template grid: /nvme/scratch/work/tharvey/EAZY/inputs/scripts/templates/LarsonTemplates/tweak_fsps_QSF_12_v3_newtemplates.param (this may take some time)\n"
     ]
    },
    {
     "name": "stderr",
     "output_type": "stream",
     "text": [
      "100%|██████████| 18/18 [00:11<00:00,  1.58it/s]\n"
     ]
    },
    {
     "name": "stdout",
     "output_type": "stream",
     "text": [
      "Template   0: fsps_QSF_12_v3_001.dat (NZ=1).\n",
      "Template   1: fsps_QSF_12_v3_002.dat (NZ=1).\n",
      "Template   2: fsps_QSF_12_v3_003.dat (NZ=1).\n",
      "Template   3: fsps_QSF_12_v3_004.dat (NZ=1).\n",
      "Template   4: fsps_QSF_12_v3_005.dat (NZ=1).\n",
      "Template   5: fsps_QSF_12_v3_006.dat (NZ=1).\n",
      "Template   6: fsps_QSF_12_v3_007.dat (NZ=1).\n",
      "Template   7: fsps_QSF_12_v3_008.dat (NZ=1).\n",
      "Template   8: fsps_QSF_12_v3_009.dat (NZ=1).\n",
      "Template   9: fsps_QSF_12_v3_010.dat (NZ=1).\n",
      "Template  10: fsps_QSF_12_v3_011.dat (NZ=1).\n",
      "Template  11: fsps_QSF_12_v3_012.dat (NZ=1).\n",
      "Template  12: binc100z001age6_cloudy.dat (NZ=1).\n",
      "Template  13: binc100z001age65_cloudy.dat (NZ=1).\n",
      "Template  14: binc100z001age7_cloudy.dat (NZ=1).\n",
      "Template  15: binc100z001age6.dat (NZ=1).\n",
      "Template  16: binc100z001age65.dat (NZ=1).\n",
      "Template  17: binc100z001age7.dat (NZ=1).\n",
      "Process templates: 11.895 s\n"
     ]
    },
    {
     "name": "stderr",
     "output_type": "stream",
     "text": [
      "304it [00:00, 20923.00it/s]"
     ]
    },
    {
     "name": "stdout",
     "output_type": "stream",
     "text": [
      "Saving tempfilt to /nvme/scratch/work/tharvey/EXPANSE/src/EXPANSE/eazy/tempfilt/\n"
     ]
    },
    {
     "name": "stderr",
     "output_type": "stream",
     "text": [
      "\n",
      "100%|██████████| 304/304 [00:00<00:00, 4350.15it/s]\n"
     ]
    },
    {
     "name": "stdout",
     "output_type": "stream",
     "text": [
      "Compute best fits\n",
      "fit_best: 0.0 s (n_proc=1,  NOBJ=1)\n",
      "Fit 0.4 s (n_proc=4, NOBJ=1)\n",
      "Setting meta, id_phot, 0\n",
      "Setting meta, z_best, 7.8867855\n",
      "Setting meta, chi2, 14.584150753454303\n",
      "Setting meta, z16, 7.836702\n",
      "Setting meta, z50, 7.912979\n",
      "Setting meta, z84, 8.01173\n",
      "Setting meta, flux_unit, uJy\n",
      "Setting meta, wave_unit, Angstrom\n",
      "Setting meta, templates_file, /nvme/scratch/work/tharvey/EAZY/inputs/scripts/templates/LarsonTemplates/tweak_fsps_QSF_12_v3_newtemplates.param\n",
      "Setting meta, z_min, 0.01\n",
      "Setting meta, z_max, 20.0\n",
      "Setting meta, z_step, 0.01\n",
      "Setting meta, region, MAG_APER_0.32 arcsec_fsps_larson_0.05__Asada24_cgm\n",
      " added to <HDF5 file \"JOF_psfmatched_9036.h5\" (mode r+)>, interactive_outputs/MAG_APER_0_32 arcsec_fsps_larson_0_05__Asada24_cgm/, eazy_fit\n",
      " added to <HDF5 file \"JOF_psfmatched_9036.h5\" (mode r+)>, interactive_outputs/MAG_APER_0_32 arcsec_fsps_larson_0_05__Asada24_cgm/, p_z\n",
      " added to <HDF5 file \"JOF_psfmatched_9036.h5\" (mode r+)>, interactive_outputs/MAG_APER_0_32 arcsec_fsps_larson_0_05__Asada24_cgm/, input_flux\n",
      " added to <HDF5 file \"JOF_psfmatched_9036.h5\" (mode r+)>, interactive_outputs/MAG_APER_0_32 arcsec_fsps_larson_0_05__Asada24_cgm/, input_flux_err\n",
      "Zeropoint: 23.9\n",
      "{'TEMPLATES_FILE': '/nvme/scratch/work/tharvey/EAZY/inputs/scripts/templates/LarsonTemplates/tweak_fsps_QSF_12_v3_newtemplates.param', 'FILTERS_RES': '/nvme/scratch/work/tharvey/EXPANSE/src/EXPANSE/eazy/jwst_nircam_FILTER.RES', 'MW_EBV': 0, 'CAT_HAS_EXTCORR': False, 'ADD_CGM': True, 'Z_STEP': 0.01, 'Z_MIN': 0.01, 'Z_MAX': 20.0, 'TEMP_ERR_FILE': '/nvme/scratch/work/tharvey/EXPANSE/src/EXPANSE/eazy/TEMPLATE_ERROR.eazy_v1.0', 'TEMP_ERR_A2': 0, 'SYS_ERR': 0, 'APPLY_PRIOR': 'n', 'PRIOR_ABZP': 23.9, 'PRIOR_FILTER': 28, 'PRIOR_FILE': '', 'FIX_ZSPEC': False, 'IGM_SCALE_TAU': 1.0, 'N_MIN_COLORS': 2, 'CATALOG_FILE': '/tmp/tmp04t8r8sw/eazy_input.fits'}\n",
      "Read default param file: /nvme/scratch/software/anaconda3/envs/tharvey_galfind/lib/python3.10/site-packages/eazy/data/zphot.param.default\n",
      "Read CATALOG_FILE: /tmp/tmp04t8r8sw/eazy_input.fits\n",
      "   >>> NOBJ = 1\n",
      "F22 E22 ( 22): hst/ACS_update_sep07/wfc_f435w_t81.dat\n",
      "F23 E23 ( 23): hst/ACS_update_sep07/wfc_f606w_t81.dat\n",
      "F49 E49 ( 49): hst/ACS_update_sep07/wfc_f775w_t81.dat\n",
      "F24 E24 ( 24): hst/ACS_update_sep07/wfc_f814w_t81.dat\n",
      "F50 E50 ( 50): hst/ACS_update_sep07/wfc_f850lp_t81.dat\n",
      "F1 E1 (  1): jwst_nircam_f090w\n",
      "F2 E2 (  2): jwst_nircam_f115w\n",
      "F3 E3 (  3): jwst_nircam_f150w\n",
      "F38 E38 ( 38): jwst_nircam_f162m\n",
      "F39 E39 ( 39): jwst_nircam_f182m\n",
      "F4 E4 (  4): jwst_nircam_f200w\n",
      "F40 E40 ( 40): jwst_nircam_f210m\n",
      "F41 E41 ( 41): jwst_nircam_f250m\n",
      "F5 E5 (  5): jwst_nircam_f277w\n",
      "F42 E42 ( 42): jwst_nircam_f300m\n",
      "F43 E43 ( 43): jwst_nircam_f335m\n",
      "F6 E6 (  6): jwst_nircam_f356w\n",
      "F7 E7 (  7): jwst_nircam_f410m\n",
      "F8 E8 (  8): jwst_nircam_f444w\n",
      "Set sys_err = 0.00 (positive=True)\n",
      "Template grid: /nvme/scratch/work/tharvey/EAZY/inputs/scripts/templates/LarsonTemplates/tweak_fsps_QSF_12_v3_newtemplates.param (this may take some time)\n"
     ]
    },
    {
     "name": "stderr",
     "output_type": "stream",
     "text": [
      "100%|██████████| 18/18 [00:11<00:00,  1.53it/s]\n"
     ]
    },
    {
     "name": "stdout",
     "output_type": "stream",
     "text": [
      "Template   0: fsps_QSF_12_v3_001.dat (NZ=1).\n",
      "Template   1: fsps_QSF_12_v3_002.dat (NZ=1).\n",
      "Template   2: fsps_QSF_12_v3_003.dat (NZ=1).\n",
      "Template   3: fsps_QSF_12_v3_004.dat (NZ=1).\n",
      "Template   4: fsps_QSF_12_v3_005.dat (NZ=1).\n",
      "Template   5: fsps_QSF_12_v3_006.dat (NZ=1).\n",
      "Template   6: fsps_QSF_12_v3_007.dat (NZ=1).\n",
      "Template   7: fsps_QSF_12_v3_008.dat (NZ=1).\n",
      "Template   8: fsps_QSF_12_v3_009.dat (NZ=1).\n",
      "Template   9: fsps_QSF_12_v3_010.dat (NZ=1).\n",
      "Template  10: fsps_QSF_12_v3_011.dat (NZ=1).\n",
      "Template  11: fsps_QSF_12_v3_012.dat (NZ=1).\n",
      "Template  12: binc100z001age6_cloudy.dat (NZ=1).\n",
      "Template  13: binc100z001age65_cloudy.dat (NZ=1).\n",
      "Template  14: binc100z001age7_cloudy.dat (NZ=1).\n",
      "Template  15: binc100z001age6.dat (NZ=1).\n",
      "Template  16: binc100z001age65.dat (NZ=1).\n",
      "Template  17: binc100z001age7.dat (NZ=1).\n",
      "Process templates: 12.242 s\n"
     ]
    },
    {
     "name": "stderr",
     "output_type": "stream",
     "text": [
      "304it [00:00, 17446.62it/s]"
     ]
    },
    {
     "name": "stdout",
     "output_type": "stream",
     "text": [
      "Saving tempfilt to /nvme/scratch/work/tharvey/EXPANSE/src/EXPANSE/eazy/tempfilt/\n"
     ]
    },
    {
     "name": "stderr",
     "output_type": "stream",
     "text": [
      "\n",
      "100%|██████████| 304/304 [00:00<00:00, 4656.49it/s]\n"
     ]
    },
    {
     "name": "stdout",
     "output_type": "stream",
     "text": [
      "Compute best fits\n",
      "fit_best: 0.0 s (n_proc=1,  NOBJ=1)\n",
      "Fit 0.5 s (n_proc=4, NOBJ=1)\n",
      "Setting meta, id_phot, 0\n",
      "Setting meta, z_best, 5.948171\n",
      "Setting meta, chi2, 40.224463171830685\n",
      "Setting meta, z16, 5.8606153\n",
      "Setting meta, z50, 5.9451656\n",
      "Setting meta, z84, 5.992955\n",
      "Setting meta, flux_unit, uJy\n",
      "Setting meta, wave_unit, Angstrom\n",
      "Setting meta, templates_file, /nvme/scratch/work/tharvey/EAZY/inputs/scripts/templates/LarsonTemplates/tweak_fsps_QSF_12_v3_newtemplates.param\n",
      "Setting meta, z_min, 0.01\n",
      "Setting meta, z_max, 20.0\n",
      "Setting meta, z_step, 0.01\n",
      "Setting meta, region, MAG_APER_0.32 arcsec_fsps_larson_0.05__Asada24_cgm\n",
      " added to <HDF5 file \"JOF_psfmatched_906.h5\" (mode r+)>, interactive_outputs/MAG_APER_0_32 arcsec_fsps_larson_0_05__Asada24_cgm/, eazy_fit\n",
      " added to <HDF5 file \"JOF_psfmatched_906.h5\" (mode r+)>, interactive_outputs/MAG_APER_0_32 arcsec_fsps_larson_0_05__Asada24_cgm/, p_z\n",
      " added to <HDF5 file \"JOF_psfmatched_906.h5\" (mode r+)>, interactive_outputs/MAG_APER_0_32 arcsec_fsps_larson_0_05__Asada24_cgm/, input_flux\n",
      " added to <HDF5 file \"JOF_psfmatched_906.h5\" (mode r+)>, interactive_outputs/MAG_APER_0_32 arcsec_fsps_larson_0_05__Asada24_cgm/, input_flux_err\n",
      "Zeropoint: 23.9\n",
      "{'TEMPLATES_FILE': '/nvme/scratch/work/tharvey/EAZY/inputs/scripts/templates/LarsonTemplates/tweak_fsps_QSF_12_v3_newtemplates.param', 'FILTERS_RES': '/nvme/scratch/work/tharvey/EXPANSE/src/EXPANSE/eazy/jwst_nircam_FILTER.RES', 'MW_EBV': 0, 'CAT_HAS_EXTCORR': False, 'ADD_CGM': True, 'Z_STEP': 0.01, 'Z_MIN': 0.01, 'Z_MAX': 20.0, 'TEMP_ERR_FILE': '/nvme/scratch/work/tharvey/EXPANSE/src/EXPANSE/eazy/TEMPLATE_ERROR.eazy_v1.0', 'TEMP_ERR_A2': 0, 'SYS_ERR': 0, 'APPLY_PRIOR': 'n', 'PRIOR_ABZP': 23.9, 'PRIOR_FILTER': 28, 'PRIOR_FILE': '', 'FIX_ZSPEC': False, 'IGM_SCALE_TAU': 1.0, 'N_MIN_COLORS': 2, 'CATALOG_FILE': '/tmp/tmpq1q3kfew/eazy_input.fits'}\n",
      "Read default param file: /nvme/scratch/software/anaconda3/envs/tharvey_galfind/lib/python3.10/site-packages/eazy/data/zphot.param.default\n",
      "Read CATALOG_FILE: /tmp/tmpq1q3kfew/eazy_input.fits\n",
      "   >>> NOBJ = 1\n",
      "F22 E22 ( 22): hst/ACS_update_sep07/wfc_f435w_t81.dat\n",
      "F23 E23 ( 23): hst/ACS_update_sep07/wfc_f606w_t81.dat\n",
      "F49 E49 ( 49): hst/ACS_update_sep07/wfc_f775w_t81.dat\n",
      "F24 E24 ( 24): hst/ACS_update_sep07/wfc_f814w_t81.dat\n",
      "F50 E50 ( 50): hst/ACS_update_sep07/wfc_f850lp_t81.dat\n",
      "F1 E1 (  1): jwst_nircam_f090w\n",
      "F2 E2 (  2): jwst_nircam_f115w\n",
      "F3 E3 (  3): jwst_nircam_f150w\n",
      "F38 E38 ( 38): jwst_nircam_f162m\n",
      "F39 E39 ( 39): jwst_nircam_f182m\n",
      "F4 E4 (  4): jwst_nircam_f200w\n",
      "F40 E40 ( 40): jwst_nircam_f210m\n",
      "F41 E41 ( 41): jwst_nircam_f250m\n",
      "F5 E5 (  5): jwst_nircam_f277w\n",
      "F42 E42 ( 42): jwst_nircam_f300m\n",
      "F43 E43 ( 43): jwst_nircam_f335m\n",
      "F6 E6 (  6): jwst_nircam_f356w\n",
      "F7 E7 (  7): jwst_nircam_f410m\n",
      "F8 E8 (  8): jwst_nircam_f444w\n",
      "Set sys_err = 0.00 (positive=True)\n",
      "Template grid: /nvme/scratch/work/tharvey/EAZY/inputs/scripts/templates/LarsonTemplates/tweak_fsps_QSF_12_v3_newtemplates.param (this may take some time)\n"
     ]
    },
    {
     "name": "stderr",
     "output_type": "stream",
     "text": [
      "100%|██████████| 18/18 [00:11<00:00,  1.58it/s]\n"
     ]
    },
    {
     "name": "stdout",
     "output_type": "stream",
     "text": [
      "Template   0: fsps_QSF_12_v3_001.dat (NZ=1).\n",
      "Template   1: fsps_QSF_12_v3_002.dat (NZ=1).\n",
      "Template   2: fsps_QSF_12_v3_003.dat (NZ=1).\n",
      "Template   3: fsps_QSF_12_v3_004.dat (NZ=1).\n",
      "Template   4: fsps_QSF_12_v3_005.dat (NZ=1).\n",
      "Template   5: fsps_QSF_12_v3_006.dat (NZ=1).\n",
      "Template   6: fsps_QSF_12_v3_007.dat (NZ=1).\n",
      "Template   7: fsps_QSF_12_v3_008.dat (NZ=1).\n",
      "Template   8: fsps_QSF_12_v3_009.dat (NZ=1).\n",
      "Template   9: fsps_QSF_12_v3_010.dat (NZ=1).\n",
      "Template  10: fsps_QSF_12_v3_011.dat (NZ=1).\n",
      "Template  11: fsps_QSF_12_v3_012.dat (NZ=1).\n",
      "Template  12: binc100z001age6_cloudy.dat (NZ=1).\n",
      "Template  13: binc100z001age65_cloudy.dat (NZ=1).\n",
      "Template  14: binc100z001age7_cloudy.dat (NZ=1).\n",
      "Template  15: binc100z001age6.dat (NZ=1).\n",
      "Template  16: binc100z001age65.dat (NZ=1).\n",
      "Template  17: binc100z001age7.dat (NZ=1).\n",
      "Process templates: 11.996 s\n"
     ]
    },
    {
     "name": "stderr",
     "output_type": "stream",
     "text": [
      "304it [00:00, 18964.07it/s]"
     ]
    },
    {
     "name": "stdout",
     "output_type": "stream",
     "text": [
      "Saving tempfilt to /nvme/scratch/work/tharvey/EXPANSE/src/EXPANSE/eazy/tempfilt/\n"
     ]
    },
    {
     "name": "stderr",
     "output_type": "stream",
     "text": [
      "\n",
      "100%|██████████| 304/304 [00:00<00:00, 7443.74it/s]\n"
     ]
    },
    {
     "name": "stdout",
     "output_type": "stream",
     "text": [
      "Compute best fits\n",
      "fit_best: 0.0 s (n_proc=1,  NOBJ=1)\n",
      "Fit 0.4 s (n_proc=4, NOBJ=1)\n",
      "Setting meta, id_phot, 0\n",
      "Setting meta, z_best, 5.9700637\n",
      "Setting meta, chi2, 16.77411947792184\n",
      "Setting meta, z16, 5.930023\n",
      "Setting meta, z50, 5.9711785\n",
      "Setting meta, z84, 6.050183\n",
      "Setting meta, flux_unit, uJy\n",
      "Setting meta, wave_unit, Angstrom\n",
      "Setting meta, templates_file, /nvme/scratch/work/tharvey/EAZY/inputs/scripts/templates/LarsonTemplates/tweak_fsps_QSF_12_v3_newtemplates.param\n",
      "Setting meta, z_min, 0.01\n",
      "Setting meta, z_max, 20.0\n",
      "Setting meta, z_step, 0.01\n",
      "Setting meta, region, MAG_APER_0.32 arcsec_fsps_larson_0.05__Asada24_cgm\n",
      " added to <HDF5 file \"JOF_psfmatched_9071.h5\" (mode r+)>, interactive_outputs/MAG_APER_0_32 arcsec_fsps_larson_0_05__Asada24_cgm/, eazy_fit\n",
      " added to <HDF5 file \"JOF_psfmatched_9071.h5\" (mode r+)>, interactive_outputs/MAG_APER_0_32 arcsec_fsps_larson_0_05__Asada24_cgm/, p_z\n",
      " added to <HDF5 file \"JOF_psfmatched_9071.h5\" (mode r+)>, interactive_outputs/MAG_APER_0_32 arcsec_fsps_larson_0_05__Asada24_cgm/, input_flux\n",
      " added to <HDF5 file \"JOF_psfmatched_9071.h5\" (mode r+)>, interactive_outputs/MAG_APER_0_32 arcsec_fsps_larson_0_05__Asada24_cgm/, input_flux_err\n",
      "Zeropoint: 23.9\n",
      "{'TEMPLATES_FILE': '/nvme/scratch/work/tharvey/EAZY/inputs/scripts/templates/LarsonTemplates/tweak_fsps_QSF_12_v3_newtemplates.param', 'FILTERS_RES': '/nvme/scratch/work/tharvey/EXPANSE/src/EXPANSE/eazy/jwst_nircam_FILTER.RES', 'MW_EBV': 0, 'CAT_HAS_EXTCORR': False, 'ADD_CGM': True, 'Z_STEP': 0.01, 'Z_MIN': 0.01, 'Z_MAX': 20.0, 'TEMP_ERR_FILE': '/nvme/scratch/work/tharvey/EXPANSE/src/EXPANSE/eazy/TEMPLATE_ERROR.eazy_v1.0', 'TEMP_ERR_A2': 0, 'SYS_ERR': 0, 'APPLY_PRIOR': 'n', 'PRIOR_ABZP': 23.9, 'PRIOR_FILTER': 28, 'PRIOR_FILE': '', 'FIX_ZSPEC': False, 'IGM_SCALE_TAU': 1.0, 'N_MIN_COLORS': 2, 'CATALOG_FILE': '/tmp/tmp7ifcf7ll/eazy_input.fits'}\n",
      "Read default param file: /nvme/scratch/software/anaconda3/envs/tharvey_galfind/lib/python3.10/site-packages/eazy/data/zphot.param.default\n",
      "Read CATALOG_FILE: /tmp/tmp7ifcf7ll/eazy_input.fits\n",
      "   >>> NOBJ = 1\n",
      "F22 E22 ( 22): hst/ACS_update_sep07/wfc_f435w_t81.dat\n",
      "F23 E23 ( 23): hst/ACS_update_sep07/wfc_f606w_t81.dat\n",
      "F49 E49 ( 49): hst/ACS_update_sep07/wfc_f775w_t81.dat\n",
      "F24 E24 ( 24): hst/ACS_update_sep07/wfc_f814w_t81.dat\n",
      "F50 E50 ( 50): hst/ACS_update_sep07/wfc_f850lp_t81.dat\n",
      "F1 E1 (  1): jwst_nircam_f090w\n",
      "F2 E2 (  2): jwst_nircam_f115w\n",
      "F3 E3 (  3): jwst_nircam_f150w\n",
      "F38 E38 ( 38): jwst_nircam_f162m\n",
      "F39 E39 ( 39): jwst_nircam_f182m\n",
      "F4 E4 (  4): jwst_nircam_f200w\n",
      "F40 E40 ( 40): jwst_nircam_f210m\n",
      "F41 E41 ( 41): jwst_nircam_f250m\n",
      "F5 E5 (  5): jwst_nircam_f277w\n",
      "F42 E42 ( 42): jwst_nircam_f300m\n",
      "F43 E43 ( 43): jwst_nircam_f335m\n",
      "F6 E6 (  6): jwst_nircam_f356w\n",
      "F7 E7 (  7): jwst_nircam_f410m\n",
      "F8 E8 (  8): jwst_nircam_f444w\n",
      "Set sys_err = 0.00 (positive=True)\n",
      "Template grid: /nvme/scratch/work/tharvey/EAZY/inputs/scripts/templates/LarsonTemplates/tweak_fsps_QSF_12_v3_newtemplates.param (this may take some time)\n"
     ]
    },
    {
     "name": "stderr",
     "output_type": "stream",
     "text": [
      "100%|██████████| 18/18 [00:11<00:00,  1.60it/s]\n"
     ]
    },
    {
     "name": "stdout",
     "output_type": "stream",
     "text": [
      "Template   0: fsps_QSF_12_v3_001.dat (NZ=1).\n",
      "Template   1: fsps_QSF_12_v3_002.dat (NZ=1).\n",
      "Template   2: fsps_QSF_12_v3_003.dat (NZ=1).\n",
      "Template   3: fsps_QSF_12_v3_004.dat (NZ=1).\n",
      "Template   4: fsps_QSF_12_v3_005.dat (NZ=1).\n",
      "Template   5: fsps_QSF_12_v3_006.dat (NZ=1).\n",
      "Template   6: fsps_QSF_12_v3_007.dat (NZ=1).\n",
      "Template   7: fsps_QSF_12_v3_008.dat (NZ=1).\n",
      "Template   8: fsps_QSF_12_v3_009.dat (NZ=1).\n",
      "Template   9: fsps_QSF_12_v3_010.dat (NZ=1).\n",
      "Template  10: fsps_QSF_12_v3_011.dat (NZ=1).\n",
      "Template  11: fsps_QSF_12_v3_012.dat (NZ=1).\n",
      "Template  12: binc100z001age6_cloudy.dat (NZ=1).\n",
      "Template  13: binc100z001age65_cloudy.dat (NZ=1).\n",
      "Template  14: binc100z001age7_cloudy.dat (NZ=1).\n",
      "Template  15: binc100z001age6.dat (NZ=1).\n",
      "Template  16: binc100z001age65.dat (NZ=1).\n",
      "Template  17: binc100z001age7.dat (NZ=1).\n",
      "Process templates: 11.739 s\n"
     ]
    },
    {
     "name": "stderr",
     "output_type": "stream",
     "text": [
      "304it [00:00, 29048.15it/s]"
     ]
    },
    {
     "name": "stdout",
     "output_type": "stream",
     "text": [
      "Saving tempfilt to /nvme/scratch/work/tharvey/EXPANSE/src/EXPANSE/eazy/tempfilt/\n"
     ]
    },
    {
     "name": "stderr",
     "output_type": "stream",
     "text": [
      "\n",
      "100%|██████████| 304/304 [00:00<00:00, 5068.73it/s]\n"
     ]
    },
    {
     "name": "stdout",
     "output_type": "stream",
     "text": [
      "Compute best fits\n",
      "fit_best: 0.0 s (n_proc=1,  NOBJ=1)\n",
      "Fit 0.5 s (n_proc=4, NOBJ=1)\n",
      "Setting meta, id_phot, 0\n",
      "Setting meta, z_best, 6.09775\n",
      "Setting meta, chi2, 18.51669363500127\n",
      "Setting meta, z16, 5.971903\n",
      "Setting meta, z50, 6.1040235\n",
      "Setting meta, z84, 6.247976\n",
      "Setting meta, flux_unit, uJy\n",
      "Setting meta, wave_unit, Angstrom\n",
      "Setting meta, templates_file, /nvme/scratch/work/tharvey/EAZY/inputs/scripts/templates/LarsonTemplates/tweak_fsps_QSF_12_v3_newtemplates.param\n",
      "Setting meta, z_min, 0.01\n",
      "Setting meta, z_max, 20.0\n",
      "Setting meta, z_step, 0.01\n",
      "Setting meta, region, MAG_APER_0.32 arcsec_fsps_larson_0.05__Asada24_cgm\n",
      " added to <HDF5 file \"JOF_psfmatched_9078.h5\" (mode r+)>, interactive_outputs/MAG_APER_0_32 arcsec_fsps_larson_0_05__Asada24_cgm/, eazy_fit\n",
      " added to <HDF5 file \"JOF_psfmatched_9078.h5\" (mode r+)>, interactive_outputs/MAG_APER_0_32 arcsec_fsps_larson_0_05__Asada24_cgm/, p_z\n",
      " added to <HDF5 file \"JOF_psfmatched_9078.h5\" (mode r+)>, interactive_outputs/MAG_APER_0_32 arcsec_fsps_larson_0_05__Asada24_cgm/, input_flux\n",
      " added to <HDF5 file \"JOF_psfmatched_9078.h5\" (mode r+)>, interactive_outputs/MAG_APER_0_32 arcsec_fsps_larson_0_05__Asada24_cgm/, input_flux_err\n",
      "Zeropoint: 23.9\n",
      "{'TEMPLATES_FILE': '/nvme/scratch/work/tharvey/EAZY/inputs/scripts/templates/LarsonTemplates/tweak_fsps_QSF_12_v3_newtemplates.param', 'FILTERS_RES': '/nvme/scratch/work/tharvey/EXPANSE/src/EXPANSE/eazy/jwst_nircam_FILTER.RES', 'MW_EBV': 0, 'CAT_HAS_EXTCORR': False, 'ADD_CGM': True, 'Z_STEP': 0.01, 'Z_MIN': 0.01, 'Z_MAX': 20.0, 'TEMP_ERR_FILE': '/nvme/scratch/work/tharvey/EXPANSE/src/EXPANSE/eazy/TEMPLATE_ERROR.eazy_v1.0', 'TEMP_ERR_A2': 0, 'SYS_ERR': 0, 'APPLY_PRIOR': 'n', 'PRIOR_ABZP': 23.9, 'PRIOR_FILTER': 28, 'PRIOR_FILE': '', 'FIX_ZSPEC': False, 'IGM_SCALE_TAU': 1.0, 'N_MIN_COLORS': 2, 'CATALOG_FILE': '/tmp/tmpapuh0sxi/eazy_input.fits'}\n",
      "Read default param file: /nvme/scratch/software/anaconda3/envs/tharvey_galfind/lib/python3.10/site-packages/eazy/data/zphot.param.default\n",
      "Read CATALOG_FILE: /tmp/tmpapuh0sxi/eazy_input.fits\n",
      "   >>> NOBJ = 1\n",
      "F22 E22 ( 22): hst/ACS_update_sep07/wfc_f435w_t81.dat\n",
      "F23 E23 ( 23): hst/ACS_update_sep07/wfc_f606w_t81.dat\n",
      "F49 E49 ( 49): hst/ACS_update_sep07/wfc_f775w_t81.dat\n",
      "F24 E24 ( 24): hst/ACS_update_sep07/wfc_f814w_t81.dat\n",
      "F50 E50 ( 50): hst/ACS_update_sep07/wfc_f850lp_t81.dat\n",
      "F1 E1 (  1): jwst_nircam_f090w\n",
      "F2 E2 (  2): jwst_nircam_f115w\n",
      "F3 E3 (  3): jwst_nircam_f150w\n",
      "F38 E38 ( 38): jwst_nircam_f162m\n",
      "F39 E39 ( 39): jwst_nircam_f182m\n",
      "F4 E4 (  4): jwst_nircam_f200w\n",
      "F40 E40 ( 40): jwst_nircam_f210m\n",
      "F41 E41 ( 41): jwst_nircam_f250m\n",
      "F5 E5 (  5): jwst_nircam_f277w\n",
      "F42 E42 ( 42): jwst_nircam_f300m\n",
      "F43 E43 ( 43): jwst_nircam_f335m\n",
      "F6 E6 (  6): jwst_nircam_f356w\n",
      "F7 E7 (  7): jwst_nircam_f410m\n",
      "F8 E8 (  8): jwst_nircam_f444w\n",
      "Set sys_err = 0.00 (positive=True)\n",
      "Template grid: /nvme/scratch/work/tharvey/EAZY/inputs/scripts/templates/LarsonTemplates/tweak_fsps_QSF_12_v3_newtemplates.param (this may take some time)\n"
     ]
    },
    {
     "name": "stderr",
     "output_type": "stream",
     "text": [
      "100%|██████████| 18/18 [00:11<00:00,  1.54it/s]\n"
     ]
    },
    {
     "name": "stdout",
     "output_type": "stream",
     "text": [
      "Template   0: fsps_QSF_12_v3_001.dat (NZ=1).\n",
      "Template   1: fsps_QSF_12_v3_002.dat (NZ=1).\n",
      "Template   2: fsps_QSF_12_v3_003.dat (NZ=1).\n",
      "Template   3: fsps_QSF_12_v3_004.dat (NZ=1).\n",
      "Template   4: fsps_QSF_12_v3_005.dat (NZ=1).\n",
      "Template   5: fsps_QSF_12_v3_006.dat (NZ=1).\n",
      "Template   6: fsps_QSF_12_v3_007.dat (NZ=1).\n",
      "Template   7: fsps_QSF_12_v3_008.dat (NZ=1).\n",
      "Template   8: fsps_QSF_12_v3_009.dat (NZ=1).\n",
      "Template   9: fsps_QSF_12_v3_010.dat (NZ=1).\n",
      "Template  10: fsps_QSF_12_v3_011.dat (NZ=1).\n",
      "Template  11: fsps_QSF_12_v3_012.dat (NZ=1).\n",
      "Template  12: binc100z001age6_cloudy.dat (NZ=1).\n",
      "Template  13: binc100z001age65_cloudy.dat (NZ=1).\n",
      "Template  14: binc100z001age7_cloudy.dat (NZ=1).\n",
      "Template  15: binc100z001age6.dat (NZ=1).\n",
      "Template  16: binc100z001age65.dat (NZ=1).\n",
      "Template  17: binc100z001age7.dat (NZ=1).\n",
      "Process templates: 12.100 s\n"
     ]
    },
    {
     "name": "stderr",
     "output_type": "stream",
     "text": [
      "304it [00:00, 27988.42it/s]"
     ]
    },
    {
     "name": "stdout",
     "output_type": "stream",
     "text": [
      "Saving tempfilt to /nvme/scratch/work/tharvey/EXPANSE/src/EXPANSE/eazy/tempfilt/\n"
     ]
    },
    {
     "name": "stderr",
     "output_type": "stream",
     "text": [
      "\n",
      "100%|██████████| 304/304 [00:00<00:00, 5427.67it/s]\n"
     ]
    },
    {
     "name": "stdout",
     "output_type": "stream",
     "text": [
      "Compute best fits\n",
      "fit_best: 0.0 s (n_proc=1,  NOBJ=1)\n",
      "Fit 0.5 s (n_proc=4, NOBJ=1)\n",
      "Setting meta, id_phot, 0\n",
      "Setting meta, z_best, 7.8986654\n",
      "Setting meta, chi2, 35.034723154491964\n",
      "Setting meta, z16, 7.8024583\n",
      "Setting meta, z50, 7.900406\n",
      "Setting meta, z84, 8.018194\n",
      "Setting meta, flux_unit, uJy\n",
      "Setting meta, wave_unit, Angstrom\n",
      "Setting meta, templates_file, /nvme/scratch/work/tharvey/EAZY/inputs/scripts/templates/LarsonTemplates/tweak_fsps_QSF_12_v3_newtemplates.param\n",
      "Setting meta, z_min, 0.01\n",
      "Setting meta, z_max, 20.0\n",
      "Setting meta, z_step, 0.01\n",
      "Setting meta, region, MAG_APER_0.32 arcsec_fsps_larson_0.05__Asada24_cgm\n",
      " added to <HDF5 file \"JOF_psfmatched_9091.h5\" (mode r+)>, interactive_outputs/MAG_APER_0_32 arcsec_fsps_larson_0_05__Asada24_cgm/, eazy_fit\n",
      " added to <HDF5 file \"JOF_psfmatched_9091.h5\" (mode r+)>, interactive_outputs/MAG_APER_0_32 arcsec_fsps_larson_0_05__Asada24_cgm/, p_z\n",
      " added to <HDF5 file \"JOF_psfmatched_9091.h5\" (mode r+)>, interactive_outputs/MAG_APER_0_32 arcsec_fsps_larson_0_05__Asada24_cgm/, input_flux\n",
      " added to <HDF5 file \"JOF_psfmatched_9091.h5\" (mode r+)>, interactive_outputs/MAG_APER_0_32 arcsec_fsps_larson_0_05__Asada24_cgm/, input_flux_err\n",
      "Zeropoint: 23.9\n",
      "{'TEMPLATES_FILE': '/nvme/scratch/work/tharvey/EAZY/inputs/scripts/templates/LarsonTemplates/tweak_fsps_QSF_12_v3_newtemplates.param', 'FILTERS_RES': '/nvme/scratch/work/tharvey/EXPANSE/src/EXPANSE/eazy/jwst_nircam_FILTER.RES', 'MW_EBV': 0, 'CAT_HAS_EXTCORR': False, 'ADD_CGM': True, 'Z_STEP': 0.01, 'Z_MIN': 0.01, 'Z_MAX': 20.0, 'TEMP_ERR_FILE': '/nvme/scratch/work/tharvey/EXPANSE/src/EXPANSE/eazy/TEMPLATE_ERROR.eazy_v1.0', 'TEMP_ERR_A2': 0, 'SYS_ERR': 0, 'APPLY_PRIOR': 'n', 'PRIOR_ABZP': 23.9, 'PRIOR_FILTER': 28, 'PRIOR_FILE': '', 'FIX_ZSPEC': False, 'IGM_SCALE_TAU': 1.0, 'N_MIN_COLORS': 2, 'CATALOG_FILE': '/tmp/tmpyyu634p7/eazy_input.fits'}\n",
      "Read default param file: /nvme/scratch/software/anaconda3/envs/tharvey_galfind/lib/python3.10/site-packages/eazy/data/zphot.param.default\n",
      "Read CATALOG_FILE: /tmp/tmpyyu634p7/eazy_input.fits\n",
      "   >>> NOBJ = 1\n",
      "F22 E22 ( 22): hst/ACS_update_sep07/wfc_f435w_t81.dat\n",
      "F23 E23 ( 23): hst/ACS_update_sep07/wfc_f606w_t81.dat\n",
      "F49 E49 ( 49): hst/ACS_update_sep07/wfc_f775w_t81.dat\n",
      "F24 E24 ( 24): hst/ACS_update_sep07/wfc_f814w_t81.dat\n",
      "F50 E50 ( 50): hst/ACS_update_sep07/wfc_f850lp_t81.dat\n",
      "F1 E1 (  1): jwst_nircam_f090w\n",
      "F2 E2 (  2): jwst_nircam_f115w\n",
      "F3 E3 (  3): jwst_nircam_f150w\n",
      "F38 E38 ( 38): jwst_nircam_f162m\n",
      "F39 E39 ( 39): jwst_nircam_f182m\n",
      "F4 E4 (  4): jwst_nircam_f200w\n",
      "F40 E40 ( 40): jwst_nircam_f210m\n",
      "F41 E41 ( 41): jwst_nircam_f250m\n",
      "F5 E5 (  5): jwst_nircam_f277w\n",
      "F42 E42 ( 42): jwst_nircam_f300m\n",
      "F43 E43 ( 43): jwst_nircam_f335m\n",
      "F6 E6 (  6): jwst_nircam_f356w\n",
      "F7 E7 (  7): jwst_nircam_f410m\n",
      "F8 E8 (  8): jwst_nircam_f444w\n",
      "Set sys_err = 0.00 (positive=True)\n",
      "Template grid: /nvme/scratch/work/tharvey/EAZY/inputs/scripts/templates/LarsonTemplates/tweak_fsps_QSF_12_v3_newtemplates.param (this may take some time)\n"
     ]
    },
    {
     "name": "stderr",
     "output_type": "stream",
     "text": [
      "100%|██████████| 18/18 [00:11<00:00,  1.59it/s]\n"
     ]
    },
    {
     "name": "stdout",
     "output_type": "stream",
     "text": [
      "Template   0: fsps_QSF_12_v3_001.dat (NZ=1).\n",
      "Template   1: fsps_QSF_12_v3_002.dat (NZ=1).\n",
      "Template   2: fsps_QSF_12_v3_003.dat (NZ=1).\n",
      "Template   3: fsps_QSF_12_v3_004.dat (NZ=1).\n",
      "Template   4: fsps_QSF_12_v3_005.dat (NZ=1).\n",
      "Template   5: fsps_QSF_12_v3_006.dat (NZ=1).\n",
      "Template   6: fsps_QSF_12_v3_007.dat (NZ=1).\n",
      "Template   7: fsps_QSF_12_v3_008.dat (NZ=1).\n",
      "Template   8: fsps_QSF_12_v3_009.dat (NZ=1).\n",
      "Template   9: fsps_QSF_12_v3_010.dat (NZ=1).\n",
      "Template  10: fsps_QSF_12_v3_011.dat (NZ=1).\n",
      "Template  11: fsps_QSF_12_v3_012.dat (NZ=1).\n",
      "Template  12: binc100z001age6_cloudy.dat (NZ=1).\n",
      "Template  13: binc100z001age65_cloudy.dat (NZ=1).\n",
      "Template  14: binc100z001age7_cloudy.dat (NZ=1).\n",
      "Template  15: binc100z001age6.dat (NZ=1).\n",
      "Template  16: binc100z001age65.dat (NZ=1).\n",
      "Template  17: binc100z001age7.dat (NZ=1).\n",
      "Process templates: 11.721 s\n"
     ]
    },
    {
     "name": "stderr",
     "output_type": "stream",
     "text": [
      "304it [00:00, 21223.90it/s]"
     ]
    },
    {
     "name": "stdout",
     "output_type": "stream",
     "text": [
      "Saving tempfilt to /nvme/scratch/work/tharvey/EXPANSE/src/EXPANSE/eazy/tempfilt/\n"
     ]
    },
    {
     "name": "stderr",
     "output_type": "stream",
     "text": [
      "\n",
      "100%|██████████| 304/304 [00:00<00:00, 3411.80it/s]\n"
     ]
    },
    {
     "name": "stdout",
     "output_type": "stream",
     "text": [
      "Compute best fits\n",
      "fit_best: 0.0 s (n_proc=1,  NOBJ=1)\n",
      "Fit 0.4 s (n_proc=4, NOBJ=1)\n",
      "Setting meta, id_phot, 0\n",
      "Setting meta, z_best, 9.061892\n",
      "Setting meta, chi2, 31.432858444633325\n",
      "Setting meta, z16, 8.934438\n",
      "Setting meta, z50, 9.0582285\n",
      "Setting meta, z84, 9.171659\n",
      "Setting meta, flux_unit, uJy\n",
      "Setting meta, wave_unit, Angstrom\n",
      "Setting meta, templates_file, /nvme/scratch/work/tharvey/EAZY/inputs/scripts/templates/LarsonTemplates/tweak_fsps_QSF_12_v3_newtemplates.param\n",
      "Setting meta, z_min, 0.01\n",
      "Setting meta, z_max, 20.0\n",
      "Setting meta, z_step, 0.01\n",
      "Setting meta, region, MAG_APER_0.32 arcsec_fsps_larson_0.05__Asada24_cgm\n",
      " added to <HDF5 file \"JOF_psfmatched_9101.h5\" (mode r+)>, interactive_outputs/MAG_APER_0_32 arcsec_fsps_larson_0_05__Asada24_cgm/, eazy_fit\n",
      " added to <HDF5 file \"JOF_psfmatched_9101.h5\" (mode r+)>, interactive_outputs/MAG_APER_0_32 arcsec_fsps_larson_0_05__Asada24_cgm/, p_z\n",
      " added to <HDF5 file \"JOF_psfmatched_9101.h5\" (mode r+)>, interactive_outputs/MAG_APER_0_32 arcsec_fsps_larson_0_05__Asada24_cgm/, input_flux\n",
      " added to <HDF5 file \"JOF_psfmatched_9101.h5\" (mode r+)>, interactive_outputs/MAG_APER_0_32 arcsec_fsps_larson_0_05__Asada24_cgm/, input_flux_err\n",
      "Zeropoint: 23.9\n",
      "{'TEMPLATES_FILE': '/nvme/scratch/work/tharvey/EAZY/inputs/scripts/templates/LarsonTemplates/tweak_fsps_QSF_12_v3_newtemplates.param', 'FILTERS_RES': '/nvme/scratch/work/tharvey/EXPANSE/src/EXPANSE/eazy/jwst_nircam_FILTER.RES', 'MW_EBV': 0, 'CAT_HAS_EXTCORR': False, 'ADD_CGM': True, 'Z_STEP': 0.01, 'Z_MIN': 0.01, 'Z_MAX': 20.0, 'TEMP_ERR_FILE': '/nvme/scratch/work/tharvey/EXPANSE/src/EXPANSE/eazy/TEMPLATE_ERROR.eazy_v1.0', 'TEMP_ERR_A2': 0, 'SYS_ERR': 0, 'APPLY_PRIOR': 'n', 'PRIOR_ABZP': 23.9, 'PRIOR_FILTER': 28, 'PRIOR_FILE': '', 'FIX_ZSPEC': False, 'IGM_SCALE_TAU': 1.0, 'N_MIN_COLORS': 2, 'CATALOG_FILE': '/tmp/tmpj2n7vlch/eazy_input.fits'}\n",
      "Read default param file: /nvme/scratch/software/anaconda3/envs/tharvey_galfind/lib/python3.10/site-packages/eazy/data/zphot.param.default\n",
      "Read CATALOG_FILE: /tmp/tmpj2n7vlch/eazy_input.fits\n",
      "   >>> NOBJ = 1\n",
      "F22 E22 ( 22): hst/ACS_update_sep07/wfc_f435w_t81.dat\n",
      "F23 E23 ( 23): hst/ACS_update_sep07/wfc_f606w_t81.dat\n",
      "F49 E49 ( 49): hst/ACS_update_sep07/wfc_f775w_t81.dat\n",
      "F24 E24 ( 24): hst/ACS_update_sep07/wfc_f814w_t81.dat\n",
      "F50 E50 ( 50): hst/ACS_update_sep07/wfc_f850lp_t81.dat\n",
      "F1 E1 (  1): jwst_nircam_f090w\n",
      "F2 E2 (  2): jwst_nircam_f115w\n",
      "F3 E3 (  3): jwst_nircam_f150w\n",
      "F38 E38 ( 38): jwst_nircam_f162m\n",
      "F39 E39 ( 39): jwst_nircam_f182m\n",
      "F4 E4 (  4): jwst_nircam_f200w\n",
      "F40 E40 ( 40): jwst_nircam_f210m\n",
      "F41 E41 ( 41): jwst_nircam_f250m\n",
      "F5 E5 (  5): jwst_nircam_f277w\n",
      "F42 E42 ( 42): jwst_nircam_f300m\n",
      "F43 E43 ( 43): jwst_nircam_f335m\n",
      "F6 E6 (  6): jwst_nircam_f356w\n",
      "F7 E7 (  7): jwst_nircam_f410m\n",
      "F8 E8 (  8): jwst_nircam_f444w\n",
      "Set sys_err = 0.00 (positive=True)\n",
      "Template grid: /nvme/scratch/work/tharvey/EAZY/inputs/scripts/templates/LarsonTemplates/tweak_fsps_QSF_12_v3_newtemplates.param (this may take some time)\n"
     ]
    },
    {
     "name": "stderr",
     "output_type": "stream",
     "text": [
      "100%|██████████| 18/18 [00:11<00:00,  1.51it/s]\n"
     ]
    },
    {
     "name": "stdout",
     "output_type": "stream",
     "text": [
      "Template   0: fsps_QSF_12_v3_001.dat (NZ=1).\n",
      "Template   1: fsps_QSF_12_v3_002.dat (NZ=1).\n",
      "Template   2: fsps_QSF_12_v3_003.dat (NZ=1).\n",
      "Template   3: fsps_QSF_12_v3_004.dat (NZ=1).\n",
      "Template   4: fsps_QSF_12_v3_005.dat (NZ=1).\n",
      "Template   5: fsps_QSF_12_v3_006.dat (NZ=1).\n",
      "Template   6: fsps_QSF_12_v3_007.dat (NZ=1).\n",
      "Template   7: fsps_QSF_12_v3_008.dat (NZ=1).\n",
      "Template   8: fsps_QSF_12_v3_009.dat (NZ=1).\n",
      "Template   9: fsps_QSF_12_v3_010.dat (NZ=1).\n",
      "Template  10: fsps_QSF_12_v3_011.dat (NZ=1).\n",
      "Template  11: fsps_QSF_12_v3_012.dat (NZ=1).\n",
      "Template  12: binc100z001age6_cloudy.dat (NZ=1).\n",
      "Template  13: binc100z001age65_cloudy.dat (NZ=1).\n",
      "Template  14: binc100z001age7_cloudy.dat (NZ=1).\n",
      "Template  15: binc100z001age6.dat (NZ=1).\n",
      "Template  16: binc100z001age65.dat (NZ=1).\n",
      "Template  17: binc100z001age7.dat (NZ=1).\n",
      "Process templates: 12.407 s\n"
     ]
    },
    {
     "name": "stderr",
     "output_type": "stream",
     "text": [
      "304it [00:00, 26427.93it/s]"
     ]
    },
    {
     "name": "stdout",
     "output_type": "stream",
     "text": [
      "Saving tempfilt to /nvme/scratch/work/tharvey/EXPANSE/src/EXPANSE/eazy/tempfilt/\n"
     ]
    },
    {
     "name": "stderr",
     "output_type": "stream",
     "text": [
      "\n",
      "100%|██████████| 304/304 [00:00<00:00, 4561.82it/s]\n"
     ]
    },
    {
     "name": "stdout",
     "output_type": "stream",
     "text": [
      "Compute best fits\n",
      "fit_best: 0.0 s (n_proc=1,  NOBJ=1)\n",
      "Fit 0.4 s (n_proc=4, NOBJ=1)\n",
      "Setting meta, id_phot, 0\n",
      "Setting meta, z_best, 6.0159016\n",
      "Setting meta, chi2, 44.150556520851936\n",
      "Setting meta, z16, 5.9794006\n",
      "Setting meta, z50, 6.0108814\n",
      "Setting meta, z84, 6.0421557\n",
      "Setting meta, flux_unit, uJy\n",
      "Setting meta, wave_unit, Angstrom\n",
      "Setting meta, templates_file, /nvme/scratch/work/tharvey/EAZY/inputs/scripts/templates/LarsonTemplates/tweak_fsps_QSF_12_v3_newtemplates.param\n",
      "Setting meta, z_min, 0.01\n",
      "Setting meta, z_max, 20.0\n",
      "Setting meta, z_step, 0.01\n",
      "Setting meta, region, MAG_APER_0.32 arcsec_fsps_larson_0.05__Asada24_cgm\n",
      " added to <HDF5 file \"JOF_psfmatched_9196.h5\" (mode r+)>, interactive_outputs/MAG_APER_0_32 arcsec_fsps_larson_0_05__Asada24_cgm/, eazy_fit\n",
      " added to <HDF5 file \"JOF_psfmatched_9196.h5\" (mode r+)>, interactive_outputs/MAG_APER_0_32 arcsec_fsps_larson_0_05__Asada24_cgm/, p_z\n",
      " added to <HDF5 file \"JOF_psfmatched_9196.h5\" (mode r+)>, interactive_outputs/MAG_APER_0_32 arcsec_fsps_larson_0_05__Asada24_cgm/, input_flux\n",
      " added to <HDF5 file \"JOF_psfmatched_9196.h5\" (mode r+)>, interactive_outputs/MAG_APER_0_32 arcsec_fsps_larson_0_05__Asada24_cgm/, input_flux_err\n",
      "Zeropoint: 23.9\n",
      "{'TEMPLATES_FILE': '/nvme/scratch/work/tharvey/EAZY/inputs/scripts/templates/LarsonTemplates/tweak_fsps_QSF_12_v3_newtemplates.param', 'FILTERS_RES': '/nvme/scratch/work/tharvey/EXPANSE/src/EXPANSE/eazy/jwst_nircam_FILTER.RES', 'MW_EBV': 0, 'CAT_HAS_EXTCORR': False, 'ADD_CGM': True, 'Z_STEP': 0.01, 'Z_MIN': 0.01, 'Z_MAX': 20.0, 'TEMP_ERR_FILE': '/nvme/scratch/work/tharvey/EXPANSE/src/EXPANSE/eazy/TEMPLATE_ERROR.eazy_v1.0', 'TEMP_ERR_A2': 0, 'SYS_ERR': 0, 'APPLY_PRIOR': 'n', 'PRIOR_ABZP': 23.9, 'PRIOR_FILTER': 28, 'PRIOR_FILE': '', 'FIX_ZSPEC': False, 'IGM_SCALE_TAU': 1.0, 'N_MIN_COLORS': 2, 'CATALOG_FILE': '/tmp/tmppw5i_a5k/eazy_input.fits'}\n",
      "Read default param file: /nvme/scratch/software/anaconda3/envs/tharvey_galfind/lib/python3.10/site-packages/eazy/data/zphot.param.default\n",
      "Read CATALOG_FILE: /tmp/tmppw5i_a5k/eazy_input.fits\n",
      "   >>> NOBJ = 1\n",
      "F22 E22 ( 22): hst/ACS_update_sep07/wfc_f435w_t81.dat\n",
      "F23 E23 ( 23): hst/ACS_update_sep07/wfc_f606w_t81.dat\n",
      "F49 E49 ( 49): hst/ACS_update_sep07/wfc_f775w_t81.dat\n",
      "F24 E24 ( 24): hst/ACS_update_sep07/wfc_f814w_t81.dat\n",
      "F50 E50 ( 50): hst/ACS_update_sep07/wfc_f850lp_t81.dat\n",
      "F1 E1 (  1): jwst_nircam_f090w\n",
      "F2 E2 (  2): jwst_nircam_f115w\n",
      "F3 E3 (  3): jwst_nircam_f150w\n",
      "F38 E38 ( 38): jwst_nircam_f162m\n",
      "F39 E39 ( 39): jwst_nircam_f182m\n",
      "F4 E4 (  4): jwst_nircam_f200w\n",
      "F40 E40 ( 40): jwst_nircam_f210m\n",
      "F41 E41 ( 41): jwst_nircam_f250m\n",
      "F5 E5 (  5): jwst_nircam_f277w\n",
      "F42 E42 ( 42): jwst_nircam_f300m\n",
      "F43 E43 ( 43): jwst_nircam_f335m\n",
      "F6 E6 (  6): jwst_nircam_f356w\n",
      "F7 E7 (  7): jwst_nircam_f410m\n",
      "F8 E8 (  8): jwst_nircam_f444w\n",
      "Set sys_err = 0.00 (positive=True)\n",
      "Template grid: /nvme/scratch/work/tharvey/EAZY/inputs/scripts/templates/LarsonTemplates/tweak_fsps_QSF_12_v3_newtemplates.param (this may take some time)\n"
     ]
    },
    {
     "name": "stderr",
     "output_type": "stream",
     "text": [
      "100%|██████████| 18/18 [00:11<00:00,  1.56it/s]\n"
     ]
    },
    {
     "name": "stdout",
     "output_type": "stream",
     "text": [
      "Template   0: fsps_QSF_12_v3_001.dat (NZ=1).\n",
      "Template   1: fsps_QSF_12_v3_002.dat (NZ=1).\n",
      "Template   2: fsps_QSF_12_v3_003.dat (NZ=1).\n",
      "Template   3: fsps_QSF_12_v3_004.dat (NZ=1).\n",
      "Template   4: fsps_QSF_12_v3_005.dat (NZ=1).\n",
      "Template   5: fsps_QSF_12_v3_006.dat (NZ=1).\n",
      "Template   6: fsps_QSF_12_v3_007.dat (NZ=1).\n",
      "Template   7: fsps_QSF_12_v3_008.dat (NZ=1).\n",
      "Template   8: fsps_QSF_12_v3_009.dat (NZ=1).\n",
      "Template   9: fsps_QSF_12_v3_010.dat (NZ=1).\n",
      "Template  10: fsps_QSF_12_v3_011.dat (NZ=1).\n",
      "Template  11: fsps_QSF_12_v3_012.dat (NZ=1).\n",
      "Template  12: binc100z001age6_cloudy.dat (NZ=1).\n",
      "Template  13: binc100z001age65_cloudy.dat (NZ=1).\n",
      "Template  14: binc100z001age7_cloudy.dat (NZ=1).\n",
      "Template  15: binc100z001age6.dat (NZ=1).\n",
      "Template  16: binc100z001age65.dat (NZ=1).\n",
      "Template  17: binc100z001age7.dat (NZ=1).\n",
      "Process templates: 11.985 s\n"
     ]
    },
    {
     "name": "stderr",
     "output_type": "stream",
     "text": [
      "304it [00:00, 20352.90it/s]"
     ]
    },
    {
     "name": "stdout",
     "output_type": "stream",
     "text": [
      "Saving tempfilt to /nvme/scratch/work/tharvey/EXPANSE/src/EXPANSE/eazy/tempfilt/\n"
     ]
    },
    {
     "name": "stderr",
     "output_type": "stream",
     "text": [
      "\n",
      "100%|██████████| 304/304 [00:00<00:00, 5974.04it/s]\n"
     ]
    },
    {
     "name": "stdout",
     "output_type": "stream",
     "text": [
      "Compute best fits\n",
      "fit_best: 0.0 s (n_proc=1,  NOBJ=1)\n",
      "Fit 0.4 s (n_proc=4, NOBJ=1)\n",
      "Setting meta, id_phot, 0\n",
      "Setting meta, z_best, 12.700347\n",
      "Setting meta, chi2, 37.48682425560133\n",
      "Setting meta, z16, 12.577433\n",
      "Setting meta, z50, 12.719721\n",
      "Setting meta, z84, 12.906525\n",
      "Setting meta, flux_unit, uJy\n",
      "Setting meta, wave_unit, Angstrom\n",
      "Setting meta, templates_file, /nvme/scratch/work/tharvey/EAZY/inputs/scripts/templates/LarsonTemplates/tweak_fsps_QSF_12_v3_newtemplates.param\n",
      "Setting meta, z_min, 0.01\n",
      "Setting meta, z_max, 20.0\n",
      "Setting meta, z_step, 0.01\n",
      "Setting meta, region, MAG_APER_0.32 arcsec_fsps_larson_0.05__Asada24_cgm\n",
      " added to <HDF5 file \"JOF_psfmatched_922.h5\" (mode r+)>, interactive_outputs/MAG_APER_0_32 arcsec_fsps_larson_0_05__Asada24_cgm/, eazy_fit\n",
      " added to <HDF5 file \"JOF_psfmatched_922.h5\" (mode r+)>, interactive_outputs/MAG_APER_0_32 arcsec_fsps_larson_0_05__Asada24_cgm/, p_z\n",
      " added to <HDF5 file \"JOF_psfmatched_922.h5\" (mode r+)>, interactive_outputs/MAG_APER_0_32 arcsec_fsps_larson_0_05__Asada24_cgm/, input_flux\n",
      " added to <HDF5 file \"JOF_psfmatched_922.h5\" (mode r+)>, interactive_outputs/MAG_APER_0_32 arcsec_fsps_larson_0_05__Asada24_cgm/, input_flux_err\n",
      "Zeropoint: 23.9\n",
      "{'TEMPLATES_FILE': '/nvme/scratch/work/tharvey/EAZY/inputs/scripts/templates/LarsonTemplates/tweak_fsps_QSF_12_v3_newtemplates.param', 'FILTERS_RES': '/nvme/scratch/work/tharvey/EXPANSE/src/EXPANSE/eazy/jwst_nircam_FILTER.RES', 'MW_EBV': 0, 'CAT_HAS_EXTCORR': False, 'ADD_CGM': True, 'Z_STEP': 0.01, 'Z_MIN': 0.01, 'Z_MAX': 20.0, 'TEMP_ERR_FILE': '/nvme/scratch/work/tharvey/EXPANSE/src/EXPANSE/eazy/TEMPLATE_ERROR.eazy_v1.0', 'TEMP_ERR_A2': 0, 'SYS_ERR': 0, 'APPLY_PRIOR': 'n', 'PRIOR_ABZP': 23.9, 'PRIOR_FILTER': 28, 'PRIOR_FILE': '', 'FIX_ZSPEC': False, 'IGM_SCALE_TAU': 1.0, 'N_MIN_COLORS': 2, 'CATALOG_FILE': '/tmp/tmph7lkyzh8/eazy_input.fits'}\n",
      "Read default param file: /nvme/scratch/software/anaconda3/envs/tharvey_galfind/lib/python3.10/site-packages/eazy/data/zphot.param.default\n",
      "Read CATALOG_FILE: /tmp/tmph7lkyzh8/eazy_input.fits\n",
      "   >>> NOBJ = 1\n",
      "F22 E22 ( 22): hst/ACS_update_sep07/wfc_f435w_t81.dat\n",
      "F23 E23 ( 23): hst/ACS_update_sep07/wfc_f606w_t81.dat\n",
      "F49 E49 ( 49): hst/ACS_update_sep07/wfc_f775w_t81.dat\n",
      "F24 E24 ( 24): hst/ACS_update_sep07/wfc_f814w_t81.dat\n",
      "F50 E50 ( 50): hst/ACS_update_sep07/wfc_f850lp_t81.dat\n",
      "F1 E1 (  1): jwst_nircam_f090w\n",
      "F2 E2 (  2): jwst_nircam_f115w\n",
      "F3 E3 (  3): jwst_nircam_f150w\n",
      "F38 E38 ( 38): jwst_nircam_f162m\n",
      "F39 E39 ( 39): jwst_nircam_f182m\n",
      "F4 E4 (  4): jwst_nircam_f200w\n",
      "F40 E40 ( 40): jwst_nircam_f210m\n",
      "F41 E41 ( 41): jwst_nircam_f250m\n",
      "F5 E5 (  5): jwst_nircam_f277w\n",
      "F42 E42 ( 42): jwst_nircam_f300m\n",
      "F43 E43 ( 43): jwst_nircam_f335m\n",
      "F6 E6 (  6): jwst_nircam_f356w\n",
      "F7 E7 (  7): jwst_nircam_f410m\n",
      "F8 E8 (  8): jwst_nircam_f444w\n",
      "Set sys_err = 0.00 (positive=True)\n",
      "Template grid: /nvme/scratch/work/tharvey/EAZY/inputs/scripts/templates/LarsonTemplates/tweak_fsps_QSF_12_v3_newtemplates.param (this may take some time)\n"
     ]
    },
    {
     "name": "stderr",
     "output_type": "stream",
     "text": [
      "100%|██████████| 18/18 [00:11<00:00,  1.59it/s]\n"
     ]
    },
    {
     "name": "stdout",
     "output_type": "stream",
     "text": [
      "Template   0: fsps_QSF_12_v3_001.dat (NZ=1).\n",
      "Template   1: fsps_QSF_12_v3_002.dat (NZ=1).\n",
      "Template   2: fsps_QSF_12_v3_003.dat (NZ=1).\n",
      "Template   3: fsps_QSF_12_v3_004.dat (NZ=1).\n",
      "Template   4: fsps_QSF_12_v3_005.dat (NZ=1).\n",
      "Template   5: fsps_QSF_12_v3_006.dat (NZ=1).\n",
      "Template   6: fsps_QSF_12_v3_007.dat (NZ=1).\n",
      "Template   7: fsps_QSF_12_v3_008.dat (NZ=1).\n",
      "Template   8: fsps_QSF_12_v3_009.dat (NZ=1).\n",
      "Template   9: fsps_QSF_12_v3_010.dat (NZ=1).\n",
      "Template  10: fsps_QSF_12_v3_011.dat (NZ=1).\n",
      "Template  11: fsps_QSF_12_v3_012.dat (NZ=1).\n",
      "Template  12: binc100z001age6_cloudy.dat (NZ=1).\n",
      "Template  13: binc100z001age65_cloudy.dat (NZ=1).\n",
      "Template  14: binc100z001age7_cloudy.dat (NZ=1).\n",
      "Template  15: binc100z001age6.dat (NZ=1).\n",
      "Template  16: binc100z001age65.dat (NZ=1).\n",
      "Template  17: binc100z001age7.dat (NZ=1).\n",
      "Process templates: 11.795 s\n"
     ]
    },
    {
     "name": "stderr",
     "output_type": "stream",
     "text": [
      "304it [00:00, 28488.69it/s]"
     ]
    },
    {
     "name": "stdout",
     "output_type": "stream",
     "text": [
      "Saving tempfilt to /nvme/scratch/work/tharvey/EXPANSE/src/EXPANSE/eazy/tempfilt/\n"
     ]
    },
    {
     "name": "stderr",
     "output_type": "stream",
     "text": [
      "\n",
      "100%|██████████| 304/304 [00:00<00:00, 5913.14it/s]\n"
     ]
    },
    {
     "name": "stdout",
     "output_type": "stream",
     "text": [
      "Compute best fits\n",
      "fit_best: 0.0 s (n_proc=1,  NOBJ=1)\n",
      "Fit 0.4 s (n_proc=4, NOBJ=1)\n",
      "Setting meta, id_phot, 0\n",
      "Setting meta, z_best, 6.182531\n",
      "Setting meta, chi2, 25.755360342078838\n",
      "Setting meta, z16, 6.1333647\n",
      "Setting meta, z50, 6.1932297\n",
      "Setting meta, z84, 6.3076177\n",
      "Setting meta, flux_unit, uJy\n",
      "Setting meta, wave_unit, Angstrom\n",
      "Setting meta, templates_file, /nvme/scratch/work/tharvey/EAZY/inputs/scripts/templates/LarsonTemplates/tweak_fsps_QSF_12_v3_newtemplates.param\n",
      "Setting meta, z_min, 0.01\n",
      "Setting meta, z_max, 20.0\n",
      "Setting meta, z_step, 0.01\n",
      "Setting meta, region, MAG_APER_0.32 arcsec_fsps_larson_0.05__Asada24_cgm\n",
      " added to <HDF5 file \"JOF_psfmatched_9243.h5\" (mode r+)>, interactive_outputs/MAG_APER_0_32 arcsec_fsps_larson_0_05__Asada24_cgm/, eazy_fit\n",
      " added to <HDF5 file \"JOF_psfmatched_9243.h5\" (mode r+)>, interactive_outputs/MAG_APER_0_32 arcsec_fsps_larson_0_05__Asada24_cgm/, p_z\n",
      " added to <HDF5 file \"JOF_psfmatched_9243.h5\" (mode r+)>, interactive_outputs/MAG_APER_0_32 arcsec_fsps_larson_0_05__Asada24_cgm/, input_flux\n",
      " added to <HDF5 file \"JOF_psfmatched_9243.h5\" (mode r+)>, interactive_outputs/MAG_APER_0_32 arcsec_fsps_larson_0_05__Asada24_cgm/, input_flux_err\n",
      "Zeropoint: 23.9\n",
      "{'TEMPLATES_FILE': '/nvme/scratch/work/tharvey/EAZY/inputs/scripts/templates/LarsonTemplates/tweak_fsps_QSF_12_v3_newtemplates.param', 'FILTERS_RES': '/nvme/scratch/work/tharvey/EXPANSE/src/EXPANSE/eazy/jwst_nircam_FILTER.RES', 'MW_EBV': 0, 'CAT_HAS_EXTCORR': False, 'ADD_CGM': True, 'Z_STEP': 0.01, 'Z_MIN': 0.01, 'Z_MAX': 20.0, 'TEMP_ERR_FILE': '/nvme/scratch/work/tharvey/EXPANSE/src/EXPANSE/eazy/TEMPLATE_ERROR.eazy_v1.0', 'TEMP_ERR_A2': 0, 'SYS_ERR': 0, 'APPLY_PRIOR': 'n', 'PRIOR_ABZP': 23.9, 'PRIOR_FILTER': 28, 'PRIOR_FILE': '', 'FIX_ZSPEC': False, 'IGM_SCALE_TAU': 1.0, 'N_MIN_COLORS': 2, 'CATALOG_FILE': '/tmp/tmpwsgk1_ni/eazy_input.fits'}\n",
      "Read default param file: /nvme/scratch/software/anaconda3/envs/tharvey_galfind/lib/python3.10/site-packages/eazy/data/zphot.param.default\n",
      "Read CATALOG_FILE: /tmp/tmpwsgk1_ni/eazy_input.fits\n",
      "   >>> NOBJ = 1\n",
      "F22 E22 ( 22): hst/ACS_update_sep07/wfc_f435w_t81.dat\n",
      "F23 E23 ( 23): hst/ACS_update_sep07/wfc_f606w_t81.dat\n",
      "F49 E49 ( 49): hst/ACS_update_sep07/wfc_f775w_t81.dat\n",
      "F24 E24 ( 24): hst/ACS_update_sep07/wfc_f814w_t81.dat\n",
      "F50 E50 ( 50): hst/ACS_update_sep07/wfc_f850lp_t81.dat\n",
      "F1 E1 (  1): jwst_nircam_f090w\n",
      "F2 E2 (  2): jwst_nircam_f115w\n",
      "F3 E3 (  3): jwst_nircam_f150w\n",
      "F38 E38 ( 38): jwst_nircam_f162m\n",
      "F39 E39 ( 39): jwst_nircam_f182m\n",
      "F4 E4 (  4): jwst_nircam_f200w\n",
      "F40 E40 ( 40): jwst_nircam_f210m\n",
      "F41 E41 ( 41): jwst_nircam_f250m\n",
      "F5 E5 (  5): jwst_nircam_f277w\n",
      "F42 E42 ( 42): jwst_nircam_f300m\n",
      "F43 E43 ( 43): jwst_nircam_f335m\n",
      "F6 E6 (  6): jwst_nircam_f356w\n",
      "F7 E7 (  7): jwst_nircam_f410m\n",
      "F8 E8 (  8): jwst_nircam_f444w\n",
      "Set sys_err = 0.00 (positive=True)\n",
      "Template grid: /nvme/scratch/work/tharvey/EAZY/inputs/scripts/templates/LarsonTemplates/tweak_fsps_QSF_12_v3_newtemplates.param (this may take some time)\n"
     ]
    },
    {
     "name": "stderr",
     "output_type": "stream",
     "text": [
      "100%|██████████| 18/18 [00:11<00:00,  1.60it/s]\n"
     ]
    },
    {
     "name": "stdout",
     "output_type": "stream",
     "text": [
      "Template   0: fsps_QSF_12_v3_001.dat (NZ=1).\n",
      "Template   1: fsps_QSF_12_v3_002.dat (NZ=1).\n",
      "Template   2: fsps_QSF_12_v3_003.dat (NZ=1).\n",
      "Template   3: fsps_QSF_12_v3_004.dat (NZ=1).\n",
      "Template   4: fsps_QSF_12_v3_005.dat (NZ=1).\n",
      "Template   5: fsps_QSF_12_v3_006.dat (NZ=1).\n",
      "Template   6: fsps_QSF_12_v3_007.dat (NZ=1).\n",
      "Template   7: fsps_QSF_12_v3_008.dat (NZ=1).\n",
      "Template   8: fsps_QSF_12_v3_009.dat (NZ=1).\n",
      "Template   9: fsps_QSF_12_v3_010.dat (NZ=1).\n",
      "Template  10: fsps_QSF_12_v3_011.dat (NZ=1).\n",
      "Template  11: fsps_QSF_12_v3_012.dat (NZ=1).\n",
      "Template  12: binc100z001age6_cloudy.dat (NZ=1).\n",
      "Template  13: binc100z001age65_cloudy.dat (NZ=1).\n",
      "Template  14: binc100z001age7_cloudy.dat (NZ=1).\n",
      "Template  15: binc100z001age6.dat (NZ=1).\n",
      "Template  16: binc100z001age65.dat (NZ=1).\n",
      "Template  17: binc100z001age7.dat (NZ=1).\n",
      "Process templates: 11.777 s\n"
     ]
    },
    {
     "name": "stderr",
     "output_type": "stream",
     "text": [
      "304it [00:00, 13262.90it/s]"
     ]
    },
    {
     "name": "stdout",
     "output_type": "stream",
     "text": [
      "Saving tempfilt to /nvme/scratch/work/tharvey/EXPANSE/src/EXPANSE/eazy/tempfilt/\n"
     ]
    },
    {
     "name": "stderr",
     "output_type": "stream",
     "text": [
      "\n",
      "100%|██████████| 304/304 [00:00<00:00, 4893.27it/s]\n"
     ]
    },
    {
     "name": "stdout",
     "output_type": "stream",
     "text": [
      "Compute best fits\n",
      "fit_best: 0.0 s (n_proc=1,  NOBJ=1)\n",
      "Fit 0.4 s (n_proc=4, NOBJ=1)\n",
      "Setting meta, id_phot, 0\n",
      "Setting meta, z_best, 4.620858\n",
      "Setting meta, chi2, 10.285082823153969\n",
      "Setting meta, z16, 4.5218587\n",
      "Setting meta, z50, 4.603586\n",
      "Setting meta, z84, 4.6654015\n",
      "Setting meta, flux_unit, uJy\n",
      "Setting meta, wave_unit, Angstrom\n",
      "Setting meta, templates_file, /nvme/scratch/work/tharvey/EAZY/inputs/scripts/templates/LarsonTemplates/tweak_fsps_QSF_12_v3_newtemplates.param\n",
      "Setting meta, z_min, 0.01\n",
      "Setting meta, z_max, 20.0\n",
      "Setting meta, z_step, 0.01\n",
      "Setting meta, region, MAG_APER_0.32 arcsec_fsps_larson_0.05__Asada24_cgm\n",
      " added to <HDF5 file \"JOF_psfmatched_9280.h5\" (mode r+)>, interactive_outputs/MAG_APER_0_32 arcsec_fsps_larson_0_05__Asada24_cgm/, eazy_fit\n",
      " added to <HDF5 file \"JOF_psfmatched_9280.h5\" (mode r+)>, interactive_outputs/MAG_APER_0_32 arcsec_fsps_larson_0_05__Asada24_cgm/, p_z\n",
      " added to <HDF5 file \"JOF_psfmatched_9280.h5\" (mode r+)>, interactive_outputs/MAG_APER_0_32 arcsec_fsps_larson_0_05__Asada24_cgm/, input_flux\n",
      " added to <HDF5 file \"JOF_psfmatched_9280.h5\" (mode r+)>, interactive_outputs/MAG_APER_0_32 arcsec_fsps_larson_0_05__Asada24_cgm/, input_flux_err\n",
      "Zeropoint: 23.9\n",
      "{'TEMPLATES_FILE': '/nvme/scratch/work/tharvey/EAZY/inputs/scripts/templates/LarsonTemplates/tweak_fsps_QSF_12_v3_newtemplates.param', 'FILTERS_RES': '/nvme/scratch/work/tharvey/EXPANSE/src/EXPANSE/eazy/jwst_nircam_FILTER.RES', 'MW_EBV': 0, 'CAT_HAS_EXTCORR': False, 'ADD_CGM': True, 'Z_STEP': 0.01, 'Z_MIN': 0.01, 'Z_MAX': 20.0, 'TEMP_ERR_FILE': '/nvme/scratch/work/tharvey/EXPANSE/src/EXPANSE/eazy/TEMPLATE_ERROR.eazy_v1.0', 'TEMP_ERR_A2': 0, 'SYS_ERR': 0, 'APPLY_PRIOR': 'n', 'PRIOR_ABZP': 23.9, 'PRIOR_FILTER': 28, 'PRIOR_FILE': '', 'FIX_ZSPEC': False, 'IGM_SCALE_TAU': 1.0, 'N_MIN_COLORS': 2, 'CATALOG_FILE': '/tmp/tmpchqbxgru/eazy_input.fits'}\n",
      "Read default param file: /nvme/scratch/software/anaconda3/envs/tharvey_galfind/lib/python3.10/site-packages/eazy/data/zphot.param.default\n",
      "Read CATALOG_FILE: /tmp/tmpchqbxgru/eazy_input.fits\n",
      "   >>> NOBJ = 1\n",
      "F22 E22 ( 22): hst/ACS_update_sep07/wfc_f435w_t81.dat\n",
      "F23 E23 ( 23): hst/ACS_update_sep07/wfc_f606w_t81.dat\n",
      "F49 E49 ( 49): hst/ACS_update_sep07/wfc_f775w_t81.dat\n",
      "F24 E24 ( 24): hst/ACS_update_sep07/wfc_f814w_t81.dat\n",
      "F50 E50 ( 50): hst/ACS_update_sep07/wfc_f850lp_t81.dat\n",
      "F1 E1 (  1): jwst_nircam_f090w\n",
      "F2 E2 (  2): jwst_nircam_f115w\n",
      "F3 E3 (  3): jwst_nircam_f150w\n",
      "F38 E38 ( 38): jwst_nircam_f162m\n",
      "F39 E39 ( 39): jwst_nircam_f182m\n",
      "F4 E4 (  4): jwst_nircam_f200w\n",
      "F40 E40 ( 40): jwst_nircam_f210m\n",
      "F41 E41 ( 41): jwst_nircam_f250m\n",
      "F5 E5 (  5): jwst_nircam_f277w\n",
      "F42 E42 ( 42): jwst_nircam_f300m\n",
      "F43 E43 ( 43): jwst_nircam_f335m\n",
      "F6 E6 (  6): jwst_nircam_f356w\n",
      "F7 E7 (  7): jwst_nircam_f410m\n",
      "F8 E8 (  8): jwst_nircam_f444w\n",
      "Set sys_err = 0.00 (positive=True)\n",
      "Template grid: /nvme/scratch/work/tharvey/EAZY/inputs/scripts/templates/LarsonTemplates/tweak_fsps_QSF_12_v3_newtemplates.param (this may take some time)\n"
     ]
    },
    {
     "name": "stderr",
     "output_type": "stream",
     "text": [
      "100%|██████████| 18/18 [00:11<00:00,  1.54it/s]\n"
     ]
    },
    {
     "name": "stdout",
     "output_type": "stream",
     "text": [
      "Template   0: fsps_QSF_12_v3_001.dat (NZ=1).\n",
      "Template   1: fsps_QSF_12_v3_002.dat (NZ=1).\n",
      "Template   2: fsps_QSF_12_v3_003.dat (NZ=1).\n",
      "Template   3: fsps_QSF_12_v3_004.dat (NZ=1).\n",
      "Template   4: fsps_QSF_12_v3_005.dat (NZ=1).\n",
      "Template   5: fsps_QSF_12_v3_006.dat (NZ=1).\n",
      "Template   6: fsps_QSF_12_v3_007.dat (NZ=1).\n",
      "Template   7: fsps_QSF_12_v3_008.dat (NZ=1).\n",
      "Template   8: fsps_QSF_12_v3_009.dat (NZ=1).\n",
      "Template   9: fsps_QSF_12_v3_010.dat (NZ=1).\n",
      "Template  10: fsps_QSF_12_v3_011.dat (NZ=1).\n",
      "Template  11: fsps_QSF_12_v3_012.dat (NZ=1).\n",
      "Template  12: binc100z001age6_cloudy.dat (NZ=1).\n",
      "Template  13: binc100z001age65_cloudy.dat (NZ=1).\n",
      "Template  14: binc100z001age7_cloudy.dat (NZ=1).\n",
      "Template  15: binc100z001age6.dat (NZ=1).\n",
      "Template  16: binc100z001age65.dat (NZ=1).\n",
      "Template  17: binc100z001age7.dat (NZ=1).\n",
      "Process templates: 12.134 s\n"
     ]
    },
    {
     "name": "stderr",
     "output_type": "stream",
     "text": [
      "304it [00:00, 24693.88it/s]"
     ]
    },
    {
     "name": "stdout",
     "output_type": "stream",
     "text": [
      "Saving tempfilt to /nvme/scratch/work/tharvey/EXPANSE/src/EXPANSE/eazy/tempfilt/\n"
     ]
    },
    {
     "name": "stderr",
     "output_type": "stream",
     "text": [
      "\n",
      "100%|██████████| 304/304 [00:00<00:00, 4525.43it/s]\n"
     ]
    },
    {
     "name": "stdout",
     "output_type": "stream",
     "text": [
      "Compute best fits\n",
      "fit_best: 0.0 s (n_proc=1,  NOBJ=1)\n",
      "Fit 0.5 s (n_proc=4, NOBJ=1)\n",
      "Setting meta, id_phot, 0\n",
      "Setting meta, z_best, 5.901392\n",
      "Setting meta, chi2, 7.89204377125377\n",
      "Setting meta, z16, 5.785891\n",
      "Setting meta, z50, 5.885548\n",
      "Setting meta, z84, 5.965033\n",
      "Setting meta, flux_unit, uJy\n",
      "Setting meta, wave_unit, Angstrom\n",
      "Setting meta, templates_file, /nvme/scratch/work/tharvey/EAZY/inputs/scripts/templates/LarsonTemplates/tweak_fsps_QSF_12_v3_newtemplates.param\n",
      "Setting meta, z_min, 0.01\n",
      "Setting meta, z_max, 20.0\n",
      "Setting meta, z_step, 0.01\n",
      "Setting meta, region, MAG_APER_0.32 arcsec_fsps_larson_0.05__Asada24_cgm\n",
      " added to <HDF5 file \"JOF_psfmatched_9281.h5\" (mode r+)>, interactive_outputs/MAG_APER_0_32 arcsec_fsps_larson_0_05__Asada24_cgm/, eazy_fit\n",
      " added to <HDF5 file \"JOF_psfmatched_9281.h5\" (mode r+)>, interactive_outputs/MAG_APER_0_32 arcsec_fsps_larson_0_05__Asada24_cgm/, p_z\n",
      " added to <HDF5 file \"JOF_psfmatched_9281.h5\" (mode r+)>, interactive_outputs/MAG_APER_0_32 arcsec_fsps_larson_0_05__Asada24_cgm/, input_flux\n",
      " added to <HDF5 file \"JOF_psfmatched_9281.h5\" (mode r+)>, interactive_outputs/MAG_APER_0_32 arcsec_fsps_larson_0_05__Asada24_cgm/, input_flux_err\n",
      "Zeropoint: 23.9\n",
      "{'TEMPLATES_FILE': '/nvme/scratch/work/tharvey/EAZY/inputs/scripts/templates/LarsonTemplates/tweak_fsps_QSF_12_v3_newtemplates.param', 'FILTERS_RES': '/nvme/scratch/work/tharvey/EXPANSE/src/EXPANSE/eazy/jwst_nircam_FILTER.RES', 'MW_EBV': 0, 'CAT_HAS_EXTCORR': False, 'ADD_CGM': True, 'Z_STEP': 0.01, 'Z_MIN': 0.01, 'Z_MAX': 20.0, 'TEMP_ERR_FILE': '/nvme/scratch/work/tharvey/EXPANSE/src/EXPANSE/eazy/TEMPLATE_ERROR.eazy_v1.0', 'TEMP_ERR_A2': 0, 'SYS_ERR': 0, 'APPLY_PRIOR': 'n', 'PRIOR_ABZP': 23.9, 'PRIOR_FILTER': 28, 'PRIOR_FILE': '', 'FIX_ZSPEC': False, 'IGM_SCALE_TAU': 1.0, 'N_MIN_COLORS': 2, 'CATALOG_FILE': '/tmp/tmp8wn62moz/eazy_input.fits'}\n",
      "Read default param file: /nvme/scratch/software/anaconda3/envs/tharvey_galfind/lib/python3.10/site-packages/eazy/data/zphot.param.default\n",
      "Read CATALOG_FILE: /tmp/tmp8wn62moz/eazy_input.fits\n",
      "   >>> NOBJ = 1\n",
      "F22 E22 ( 22): hst/ACS_update_sep07/wfc_f435w_t81.dat\n",
      "F23 E23 ( 23): hst/ACS_update_sep07/wfc_f606w_t81.dat\n",
      "F49 E49 ( 49): hst/ACS_update_sep07/wfc_f775w_t81.dat\n",
      "F24 E24 ( 24): hst/ACS_update_sep07/wfc_f814w_t81.dat\n",
      "F50 E50 ( 50): hst/ACS_update_sep07/wfc_f850lp_t81.dat\n",
      "F1 E1 (  1): jwst_nircam_f090w\n",
      "F2 E2 (  2): jwst_nircam_f115w\n",
      "F3 E3 (  3): jwst_nircam_f150w\n",
      "F38 E38 ( 38): jwst_nircam_f162m\n",
      "F39 E39 ( 39): jwst_nircam_f182m\n",
      "F4 E4 (  4): jwst_nircam_f200w\n",
      "F40 E40 ( 40): jwst_nircam_f210m\n",
      "F41 E41 ( 41): jwst_nircam_f250m\n",
      "F5 E5 (  5): jwst_nircam_f277w\n",
      "F42 E42 ( 42): jwst_nircam_f300m\n",
      "F43 E43 ( 43): jwst_nircam_f335m\n",
      "F6 E6 (  6): jwst_nircam_f356w\n",
      "F7 E7 (  7): jwst_nircam_f410m\n",
      "F8 E8 (  8): jwst_nircam_f444w\n",
      "Set sys_err = 0.00 (positive=True)\n",
      "Template grid: /nvme/scratch/work/tharvey/EAZY/inputs/scripts/templates/LarsonTemplates/tweak_fsps_QSF_12_v3_newtemplates.param (this may take some time)\n"
     ]
    },
    {
     "name": "stderr",
     "output_type": "stream",
     "text": [
      "100%|██████████| 18/18 [00:11<00:00,  1.59it/s]\n"
     ]
    },
    {
     "name": "stdout",
     "output_type": "stream",
     "text": [
      "Template   0: fsps_QSF_12_v3_001.dat (NZ=1).\n",
      "Template   1: fsps_QSF_12_v3_002.dat (NZ=1).\n",
      "Template   2: fsps_QSF_12_v3_003.dat (NZ=1).\n",
      "Template   3: fsps_QSF_12_v3_004.dat (NZ=1).\n",
      "Template   4: fsps_QSF_12_v3_005.dat (NZ=1).\n",
      "Template   5: fsps_QSF_12_v3_006.dat (NZ=1).\n",
      "Template   6: fsps_QSF_12_v3_007.dat (NZ=1).\n",
      "Template   7: fsps_QSF_12_v3_008.dat (NZ=1).\n",
      "Template   8: fsps_QSF_12_v3_009.dat (NZ=1).\n",
      "Template   9: fsps_QSF_12_v3_010.dat (NZ=1).\n",
      "Template  10: fsps_QSF_12_v3_011.dat (NZ=1).\n",
      "Template  11: fsps_QSF_12_v3_012.dat (NZ=1).\n",
      "Template  12: binc100z001age6_cloudy.dat (NZ=1).\n",
      "Template  13: binc100z001age65_cloudy.dat (NZ=1).\n",
      "Template  14: binc100z001age7_cloudy.dat (NZ=1).\n",
      "Template  15: binc100z001age6.dat (NZ=1).\n",
      "Template  16: binc100z001age65.dat (NZ=1).\n",
      "Template  17: binc100z001age7.dat (NZ=1).\n",
      "Process templates: 11.826 s\n"
     ]
    },
    {
     "name": "stderr",
     "output_type": "stream",
     "text": [
      "304it [00:00, 26202.01it/s]"
     ]
    },
    {
     "name": "stdout",
     "output_type": "stream",
     "text": [
      "Saving tempfilt to /nvme/scratch/work/tharvey/EXPANSE/src/EXPANSE/eazy/tempfilt/\n"
     ]
    },
    {
     "name": "stderr",
     "output_type": "stream",
     "text": [
      "\n",
      "100%|██████████| 304/304 [00:00<00:00, 6388.12it/s]\n"
     ]
    },
    {
     "name": "stdout",
     "output_type": "stream",
     "text": [
      "Compute best fits\n",
      "fit_best: 0.0 s (n_proc=1,  NOBJ=1)\n",
      "Fit 0.4 s (n_proc=4, NOBJ=1)\n",
      "Setting meta, id_phot, 0\n",
      "Setting meta, z_best, 6.1911254\n",
      "Setting meta, chi2, 34.39120154136209\n",
      "Setting meta, z16, 6.156737\n",
      "Setting meta, z50, 6.194003\n",
      "Setting meta, z84, 6.236519\n",
      "Setting meta, flux_unit, uJy\n",
      "Setting meta, wave_unit, Angstrom\n",
      "Setting meta, templates_file, /nvme/scratch/work/tharvey/EAZY/inputs/scripts/templates/LarsonTemplates/tweak_fsps_QSF_12_v3_newtemplates.param\n",
      "Setting meta, z_min, 0.01\n",
      "Setting meta, z_max, 20.0\n",
      "Setting meta, z_step, 0.01\n",
      "Setting meta, region, MAG_APER_0.32 arcsec_fsps_larson_0.05__Asada24_cgm\n",
      " added to <HDF5 file \"JOF_psfmatched_9350.h5\" (mode r+)>, interactive_outputs/MAG_APER_0_32 arcsec_fsps_larson_0_05__Asada24_cgm/, eazy_fit\n",
      " added to <HDF5 file \"JOF_psfmatched_9350.h5\" (mode r+)>, interactive_outputs/MAG_APER_0_32 arcsec_fsps_larson_0_05__Asada24_cgm/, p_z\n",
      " added to <HDF5 file \"JOF_psfmatched_9350.h5\" (mode r+)>, interactive_outputs/MAG_APER_0_32 arcsec_fsps_larson_0_05__Asada24_cgm/, input_flux\n",
      " added to <HDF5 file \"JOF_psfmatched_9350.h5\" (mode r+)>, interactive_outputs/MAG_APER_0_32 arcsec_fsps_larson_0_05__Asada24_cgm/, input_flux_err\n",
      "Zeropoint: 23.9\n",
      "{'TEMPLATES_FILE': '/nvme/scratch/work/tharvey/EAZY/inputs/scripts/templates/LarsonTemplates/tweak_fsps_QSF_12_v3_newtemplates.param', 'FILTERS_RES': '/nvme/scratch/work/tharvey/EXPANSE/src/EXPANSE/eazy/jwst_nircam_FILTER.RES', 'MW_EBV': 0, 'CAT_HAS_EXTCORR': False, 'ADD_CGM': True, 'Z_STEP': 0.01, 'Z_MIN': 0.01, 'Z_MAX': 20.0, 'TEMP_ERR_FILE': '/nvme/scratch/work/tharvey/EXPANSE/src/EXPANSE/eazy/TEMPLATE_ERROR.eazy_v1.0', 'TEMP_ERR_A2': 0, 'SYS_ERR': 0, 'APPLY_PRIOR': 'n', 'PRIOR_ABZP': 23.9, 'PRIOR_FILTER': 28, 'PRIOR_FILE': '', 'FIX_ZSPEC': False, 'IGM_SCALE_TAU': 1.0, 'N_MIN_COLORS': 2, 'CATALOG_FILE': '/tmp/tmp97f4bt1n/eazy_input.fits'}\n",
      "Read default param file: /nvme/scratch/software/anaconda3/envs/tharvey_galfind/lib/python3.10/site-packages/eazy/data/zphot.param.default\n",
      "Read CATALOG_FILE: /tmp/tmp97f4bt1n/eazy_input.fits\n",
      "   >>> NOBJ = 1\n",
      "F22 E22 ( 22): hst/ACS_update_sep07/wfc_f435w_t81.dat\n",
      "F23 E23 ( 23): hst/ACS_update_sep07/wfc_f606w_t81.dat\n",
      "F49 E49 ( 49): hst/ACS_update_sep07/wfc_f775w_t81.dat\n",
      "F24 E24 ( 24): hst/ACS_update_sep07/wfc_f814w_t81.dat\n",
      "F50 E50 ( 50): hst/ACS_update_sep07/wfc_f850lp_t81.dat\n",
      "F1 E1 (  1): jwst_nircam_f090w\n",
      "F2 E2 (  2): jwst_nircam_f115w\n",
      "F3 E3 (  3): jwst_nircam_f150w\n",
      "F38 E38 ( 38): jwst_nircam_f162m\n",
      "F39 E39 ( 39): jwst_nircam_f182m\n",
      "F4 E4 (  4): jwst_nircam_f200w\n",
      "F40 E40 ( 40): jwst_nircam_f210m\n",
      "F41 E41 ( 41): jwst_nircam_f250m\n",
      "F5 E5 (  5): jwst_nircam_f277w\n",
      "F42 E42 ( 42): jwst_nircam_f300m\n",
      "F43 E43 ( 43): jwst_nircam_f335m\n",
      "F6 E6 (  6): jwst_nircam_f356w\n",
      "F7 E7 (  7): jwst_nircam_f410m\n",
      "F8 E8 (  8): jwst_nircam_f444w\n",
      "Set sys_err = 0.00 (positive=True)\n",
      "Template grid: /nvme/scratch/work/tharvey/EAZY/inputs/scripts/templates/LarsonTemplates/tweak_fsps_QSF_12_v3_newtemplates.param (this may take some time)\n"
     ]
    },
    {
     "name": "stderr",
     "output_type": "stream",
     "text": [
      "100%|██████████| 18/18 [00:11<00:00,  1.56it/s]\n"
     ]
    },
    {
     "name": "stdout",
     "output_type": "stream",
     "text": [
      "Template   0: fsps_QSF_12_v3_001.dat (NZ=1).\n",
      "Template   1: fsps_QSF_12_v3_002.dat (NZ=1).\n",
      "Template   2: fsps_QSF_12_v3_003.dat (NZ=1).\n",
      "Template   3: fsps_QSF_12_v3_004.dat (NZ=1).\n",
      "Template   4: fsps_QSF_12_v3_005.dat (NZ=1).\n",
      "Template   5: fsps_QSF_12_v3_006.dat (NZ=1).\n",
      "Template   6: fsps_QSF_12_v3_007.dat (NZ=1).\n",
      "Template   7: fsps_QSF_12_v3_008.dat (NZ=1).\n",
      "Template   8: fsps_QSF_12_v3_009.dat (NZ=1).\n",
      "Template   9: fsps_QSF_12_v3_010.dat (NZ=1).\n",
      "Template  10: fsps_QSF_12_v3_011.dat (NZ=1).\n",
      "Template  11: fsps_QSF_12_v3_012.dat (NZ=1).\n",
      "Template  12: binc100z001age6_cloudy.dat (NZ=1).\n",
      "Template  13: binc100z001age65_cloudy.dat (NZ=1).\n",
      "Template  14: binc100z001age7_cloudy.dat (NZ=1).\n",
      "Template  15: binc100z001age6.dat (NZ=1).\n",
      "Template  16: binc100z001age65.dat (NZ=1).\n",
      "Template  17: binc100z001age7.dat (NZ=1).\n",
      "Process templates: 11.983 s\n"
     ]
    },
    {
     "name": "stderr",
     "output_type": "stream",
     "text": [
      "304it [00:00, 26879.20it/s]"
     ]
    },
    {
     "name": "stdout",
     "output_type": "stream",
     "text": [
      "Saving tempfilt to /nvme/scratch/work/tharvey/EXPANSE/src/EXPANSE/eazy/tempfilt/\n"
     ]
    },
    {
     "name": "stderr",
     "output_type": "stream",
     "text": [
      "\n",
      "100%|██████████| 304/304 [00:00<00:00, 4314.59it/s]\n"
     ]
    },
    {
     "name": "stdout",
     "output_type": "stream",
     "text": [
      "Compute best fits\n",
      "fit_best: 0.0 s (n_proc=1,  NOBJ=1)\n",
      "Fit 0.4 s (n_proc=4, NOBJ=1)\n",
      "Setting meta, id_phot, 0\n",
      "Setting meta, z_best, 9.689289\n",
      "Setting meta, chi2, 13.218162768789535\n",
      "Setting meta, z16, 9.481614\n",
      "Setting meta, z50, 9.710495\n",
      "Setting meta, z84, 9.974357\n",
      "Setting meta, flux_unit, uJy\n",
      "Setting meta, wave_unit, Angstrom\n",
      "Setting meta, templates_file, /nvme/scratch/work/tharvey/EAZY/inputs/scripts/templates/LarsonTemplates/tweak_fsps_QSF_12_v3_newtemplates.param\n",
      "Setting meta, z_min, 0.01\n",
      "Setting meta, z_max, 20.0\n",
      "Setting meta, z_step, 0.01\n",
      "Setting meta, region, MAG_APER_0.32 arcsec_fsps_larson_0.05__Asada24_cgm\n",
      " added to <HDF5 file \"JOF_psfmatched_9634.h5\" (mode r+)>, interactive_outputs/MAG_APER_0_32 arcsec_fsps_larson_0_05__Asada24_cgm/, eazy_fit\n",
      " added to <HDF5 file \"JOF_psfmatched_9634.h5\" (mode r+)>, interactive_outputs/MAG_APER_0_32 arcsec_fsps_larson_0_05__Asada24_cgm/, p_z\n",
      " added to <HDF5 file \"JOF_psfmatched_9634.h5\" (mode r+)>, interactive_outputs/MAG_APER_0_32 arcsec_fsps_larson_0_05__Asada24_cgm/, input_flux\n",
      " added to <HDF5 file \"JOF_psfmatched_9634.h5\" (mode r+)>, interactive_outputs/MAG_APER_0_32 arcsec_fsps_larson_0_05__Asada24_cgm/, input_flux_err\n",
      "Zeropoint: 23.9\n",
      "{'TEMPLATES_FILE': '/nvme/scratch/work/tharvey/EAZY/inputs/scripts/templates/LarsonTemplates/tweak_fsps_QSF_12_v3_newtemplates.param', 'FILTERS_RES': '/nvme/scratch/work/tharvey/EXPANSE/src/EXPANSE/eazy/jwst_nircam_FILTER.RES', 'MW_EBV': 0, 'CAT_HAS_EXTCORR': False, 'ADD_CGM': True, 'Z_STEP': 0.01, 'Z_MIN': 0.01, 'Z_MAX': 20.0, 'TEMP_ERR_FILE': '/nvme/scratch/work/tharvey/EXPANSE/src/EXPANSE/eazy/TEMPLATE_ERROR.eazy_v1.0', 'TEMP_ERR_A2': 0, 'SYS_ERR': 0, 'APPLY_PRIOR': 'n', 'PRIOR_ABZP': 23.9, 'PRIOR_FILTER': 28, 'PRIOR_FILE': '', 'FIX_ZSPEC': False, 'IGM_SCALE_TAU': 1.0, 'N_MIN_COLORS': 2, 'CATALOG_FILE': '/tmp/tmpolzi9ddk/eazy_input.fits'}\n",
      "Read default param file: /nvme/scratch/software/anaconda3/envs/tharvey_galfind/lib/python3.10/site-packages/eazy/data/zphot.param.default\n",
      "Read CATALOG_FILE: /tmp/tmpolzi9ddk/eazy_input.fits\n",
      "   >>> NOBJ = 1\n",
      "F22 E22 ( 22): hst/ACS_update_sep07/wfc_f435w_t81.dat\n",
      "F23 E23 ( 23): hst/ACS_update_sep07/wfc_f606w_t81.dat\n",
      "F49 E49 ( 49): hst/ACS_update_sep07/wfc_f775w_t81.dat\n",
      "F24 E24 ( 24): hst/ACS_update_sep07/wfc_f814w_t81.dat\n",
      "F50 E50 ( 50): hst/ACS_update_sep07/wfc_f850lp_t81.dat\n",
      "F1 E1 (  1): jwst_nircam_f090w\n",
      "F2 E2 (  2): jwst_nircam_f115w\n",
      "F3 E3 (  3): jwst_nircam_f150w\n",
      "F38 E38 ( 38): jwst_nircam_f162m\n",
      "F39 E39 ( 39): jwst_nircam_f182m\n",
      "F4 E4 (  4): jwst_nircam_f200w\n",
      "F40 E40 ( 40): jwst_nircam_f210m\n",
      "F41 E41 ( 41): jwst_nircam_f250m\n",
      "F5 E5 (  5): jwst_nircam_f277w\n",
      "F42 E42 ( 42): jwst_nircam_f300m\n",
      "F43 E43 ( 43): jwst_nircam_f335m\n",
      "F6 E6 (  6): jwst_nircam_f356w\n",
      "F7 E7 (  7): jwst_nircam_f410m\n",
      "F8 E8 (  8): jwst_nircam_f444w\n",
      "Set sys_err = 0.00 (positive=True)\n",
      "Template grid: /nvme/scratch/work/tharvey/EAZY/inputs/scripts/templates/LarsonTemplates/tweak_fsps_QSF_12_v3_newtemplates.param (this may take some time)\n"
     ]
    },
    {
     "name": "stderr",
     "output_type": "stream",
     "text": [
      "100%|██████████| 18/18 [00:11<00:00,  1.57it/s]\n"
     ]
    },
    {
     "name": "stdout",
     "output_type": "stream",
     "text": [
      "Template   0: fsps_QSF_12_v3_001.dat (NZ=1).\n",
      "Template   1: fsps_QSF_12_v3_002.dat (NZ=1).\n",
      "Template   2: fsps_QSF_12_v3_003.dat (NZ=1).\n",
      "Template   3: fsps_QSF_12_v3_004.dat (NZ=1).\n",
      "Template   4: fsps_QSF_12_v3_005.dat (NZ=1).\n",
      "Template   5: fsps_QSF_12_v3_006.dat (NZ=1).\n",
      "Template   6: fsps_QSF_12_v3_007.dat (NZ=1).\n",
      "Template   7: fsps_QSF_12_v3_008.dat (NZ=1).\n",
      "Template   8: fsps_QSF_12_v3_009.dat (NZ=1).\n",
      "Template   9: fsps_QSF_12_v3_010.dat (NZ=1).\n",
      "Template  10: fsps_QSF_12_v3_011.dat (NZ=1).\n",
      "Template  11: fsps_QSF_12_v3_012.dat (NZ=1).\n",
      "Template  12: binc100z001age6_cloudy.dat (NZ=1).\n",
      "Template  13: binc100z001age65_cloudy.dat (NZ=1).\n",
      "Template  14: binc100z001age7_cloudy.dat (NZ=1).\n",
      "Template  15: binc100z001age6.dat (NZ=1).\n",
      "Template  16: binc100z001age65.dat (NZ=1).\n",
      "Template  17: binc100z001age7.dat (NZ=1).\n",
      "Process templates: 11.992 s\n"
     ]
    },
    {
     "name": "stderr",
     "output_type": "stream",
     "text": [
      "304it [00:00, 27056.58it/s]"
     ]
    },
    {
     "name": "stdout",
     "output_type": "stream",
     "text": [
      "Saving tempfilt to /nvme/scratch/work/tharvey/EXPANSE/src/EXPANSE/eazy/tempfilt/\n"
     ]
    },
    {
     "name": "stderr",
     "output_type": "stream",
     "text": [
      "\n",
      "100%|██████████| 304/304 [00:00<00:00, 4689.37it/s]\n"
     ]
    },
    {
     "name": "stdout",
     "output_type": "stream",
     "text": [
      "Compute best fits\n",
      "fit_best: 0.0 s (n_proc=1,  NOBJ=1)\n",
      "Fit 0.4 s (n_proc=4, NOBJ=1)\n",
      "Setting meta, id_phot, 0\n",
      "Setting meta, z_best, 8.232325\n",
      "Setting meta, chi2, 16.621046066298355\n",
      "Setting meta, z16, 7.9184065\n",
      "Setting meta, z50, 8.1711645\n",
      "Setting meta, z84, 8.377695\n",
      "Setting meta, flux_unit, uJy\n",
      "Setting meta, wave_unit, Angstrom\n",
      "Setting meta, templates_file, /nvme/scratch/work/tharvey/EAZY/inputs/scripts/templates/LarsonTemplates/tweak_fsps_QSF_12_v3_newtemplates.param\n",
      "Setting meta, z_min, 0.01\n",
      "Setting meta, z_max, 20.0\n",
      "Setting meta, z_step, 0.01\n",
      "Setting meta, region, MAG_APER_0.32 arcsec_fsps_larson_0.05__Asada24_cgm\n",
      " added to <HDF5 file \"JOF_psfmatched_966.h5\" (mode r+)>, interactive_outputs/MAG_APER_0_32 arcsec_fsps_larson_0_05__Asada24_cgm/, eazy_fit\n",
      " added to <HDF5 file \"JOF_psfmatched_966.h5\" (mode r+)>, interactive_outputs/MAG_APER_0_32 arcsec_fsps_larson_0_05__Asada24_cgm/, p_z\n",
      " added to <HDF5 file \"JOF_psfmatched_966.h5\" (mode r+)>, interactive_outputs/MAG_APER_0_32 arcsec_fsps_larson_0_05__Asada24_cgm/, input_flux\n",
      " added to <HDF5 file \"JOF_psfmatched_966.h5\" (mode r+)>, interactive_outputs/MAG_APER_0_32 arcsec_fsps_larson_0_05__Asada24_cgm/, input_flux_err\n",
      "Zeropoint: 23.9\n",
      "{'TEMPLATES_FILE': '/nvme/scratch/work/tharvey/EAZY/inputs/scripts/templates/LarsonTemplates/tweak_fsps_QSF_12_v3_newtemplates.param', 'FILTERS_RES': '/nvme/scratch/work/tharvey/EXPANSE/src/EXPANSE/eazy/jwst_nircam_FILTER.RES', 'MW_EBV': 0, 'CAT_HAS_EXTCORR': False, 'ADD_CGM': True, 'Z_STEP': 0.01, 'Z_MIN': 0.01, 'Z_MAX': 20.0, 'TEMP_ERR_FILE': '/nvme/scratch/work/tharvey/EXPANSE/src/EXPANSE/eazy/TEMPLATE_ERROR.eazy_v1.0', 'TEMP_ERR_A2': 0, 'SYS_ERR': 0, 'APPLY_PRIOR': 'n', 'PRIOR_ABZP': 23.9, 'PRIOR_FILTER': 28, 'PRIOR_FILE': '', 'FIX_ZSPEC': False, 'IGM_SCALE_TAU': 1.0, 'N_MIN_COLORS': 2, 'CATALOG_FILE': '/tmp/tmpyx00w6pz/eazy_input.fits'}\n",
      "Read default param file: /nvme/scratch/software/anaconda3/envs/tharvey_galfind/lib/python3.10/site-packages/eazy/data/zphot.param.default\n",
      "Read CATALOG_FILE: /tmp/tmpyx00w6pz/eazy_input.fits\n",
      "   >>> NOBJ = 1\n",
      "F22 E22 ( 22): hst/ACS_update_sep07/wfc_f435w_t81.dat\n",
      "F23 E23 ( 23): hst/ACS_update_sep07/wfc_f606w_t81.dat\n",
      "F49 E49 ( 49): hst/ACS_update_sep07/wfc_f775w_t81.dat\n",
      "F24 E24 ( 24): hst/ACS_update_sep07/wfc_f814w_t81.dat\n",
      "F50 E50 ( 50): hst/ACS_update_sep07/wfc_f850lp_t81.dat\n",
      "F1 E1 (  1): jwst_nircam_f090w\n",
      "F2 E2 (  2): jwst_nircam_f115w\n",
      "F3 E3 (  3): jwst_nircam_f150w\n",
      "F38 E38 ( 38): jwst_nircam_f162m\n",
      "F39 E39 ( 39): jwst_nircam_f182m\n",
      "F4 E4 (  4): jwst_nircam_f200w\n",
      "F40 E40 ( 40): jwst_nircam_f210m\n",
      "F41 E41 ( 41): jwst_nircam_f250m\n",
      "F5 E5 (  5): jwst_nircam_f277w\n",
      "F42 E42 ( 42): jwst_nircam_f300m\n",
      "F43 E43 ( 43): jwst_nircam_f335m\n",
      "F6 E6 (  6): jwst_nircam_f356w\n",
      "F7 E7 (  7): jwst_nircam_f410m\n",
      "F8 E8 (  8): jwst_nircam_f444w\n",
      "Set sys_err = 0.00 (positive=True)\n",
      "Template grid: /nvme/scratch/work/tharvey/EAZY/inputs/scripts/templates/LarsonTemplates/tweak_fsps_QSF_12_v3_newtemplates.param (this may take some time)\n"
     ]
    },
    {
     "name": "stderr",
     "output_type": "stream",
     "text": [
      "100%|██████████| 18/18 [00:11<00:00,  1.55it/s]\n"
     ]
    },
    {
     "name": "stdout",
     "output_type": "stream",
     "text": [
      "Template   0: fsps_QSF_12_v3_001.dat (NZ=1).\n",
      "Template   1: fsps_QSF_12_v3_002.dat (NZ=1).\n",
      "Template   2: fsps_QSF_12_v3_003.dat (NZ=1).\n",
      "Template   3: fsps_QSF_12_v3_004.dat (NZ=1).\n",
      "Template   4: fsps_QSF_12_v3_005.dat (NZ=1).\n",
      "Template   5: fsps_QSF_12_v3_006.dat (NZ=1).\n",
      "Template   6: fsps_QSF_12_v3_007.dat (NZ=1).\n",
      "Template   7: fsps_QSF_12_v3_008.dat (NZ=1).\n",
      "Template   8: fsps_QSF_12_v3_009.dat (NZ=1).\n",
      "Template   9: fsps_QSF_12_v3_010.dat (NZ=1).\n",
      "Template  10: fsps_QSF_12_v3_011.dat (NZ=1).\n",
      "Template  11: fsps_QSF_12_v3_012.dat (NZ=1).\n",
      "Template  12: binc100z001age6_cloudy.dat (NZ=1).\n",
      "Template  13: binc100z001age65_cloudy.dat (NZ=1).\n",
      "Template  14: binc100z001age7_cloudy.dat (NZ=1).\n",
      "Template  15: binc100z001age6.dat (NZ=1).\n",
      "Template  16: binc100z001age65.dat (NZ=1).\n",
      "Template  17: binc100z001age7.dat (NZ=1).\n",
      "Process templates: 12.130 s\n"
     ]
    },
    {
     "name": "stderr",
     "output_type": "stream",
     "text": [
      "304it [00:00, 26703.56it/s]"
     ]
    },
    {
     "name": "stdout",
     "output_type": "stream",
     "text": [
      "Saving tempfilt to /nvme/scratch/work/tharvey/EXPANSE/src/EXPANSE/eazy/tempfilt/\n"
     ]
    },
    {
     "name": "stderr",
     "output_type": "stream",
     "text": [
      "\n",
      "100%|██████████| 304/304 [00:00<00:00, 6423.74it/s]\n"
     ]
    },
    {
     "name": "stdout",
     "output_type": "stream",
     "text": [
      "Compute best fits\n",
      "fit_best: 0.0 s (n_proc=1,  NOBJ=1)\n",
      "Fit 0.5 s (n_proc=4, NOBJ=1)\n",
      "Setting meta, id_phot, 0\n",
      "Setting meta, z_best, 6.1437697\n",
      "Setting meta, chi2, 19.327373114496307\n",
      "Setting meta, z16, 6.0210924\n",
      "Setting meta, z50, 6.1363153\n",
      "Setting meta, z84, 6.2308636\n",
      "Setting meta, flux_unit, uJy\n",
      "Setting meta, wave_unit, Angstrom\n",
      "Setting meta, templates_file, /nvme/scratch/work/tharvey/EAZY/inputs/scripts/templates/LarsonTemplates/tweak_fsps_QSF_12_v3_newtemplates.param\n",
      "Setting meta, z_min, 0.01\n",
      "Setting meta, z_max, 20.0\n",
      "Setting meta, z_step, 0.01\n",
      "Setting meta, region, MAG_APER_0.32 arcsec_fsps_larson_0.05__Asada24_cgm\n",
      " added to <HDF5 file \"JOF_psfmatched_9693.h5\" (mode r+)>, interactive_outputs/MAG_APER_0_32 arcsec_fsps_larson_0_05__Asada24_cgm/, eazy_fit\n",
      " added to <HDF5 file \"JOF_psfmatched_9693.h5\" (mode r+)>, interactive_outputs/MAG_APER_0_32 arcsec_fsps_larson_0_05__Asada24_cgm/, p_z\n",
      " added to <HDF5 file \"JOF_psfmatched_9693.h5\" (mode r+)>, interactive_outputs/MAG_APER_0_32 arcsec_fsps_larson_0_05__Asada24_cgm/, input_flux\n",
      " added to <HDF5 file \"JOF_psfmatched_9693.h5\" (mode r+)>, interactive_outputs/MAG_APER_0_32 arcsec_fsps_larson_0_05__Asada24_cgm/, input_flux_err\n",
      "Zeropoint: 23.9\n",
      "{'TEMPLATES_FILE': '/nvme/scratch/work/tharvey/EAZY/inputs/scripts/templates/LarsonTemplates/tweak_fsps_QSF_12_v3_newtemplates.param', 'FILTERS_RES': '/nvme/scratch/work/tharvey/EXPANSE/src/EXPANSE/eazy/jwst_nircam_FILTER.RES', 'MW_EBV': 0, 'CAT_HAS_EXTCORR': False, 'ADD_CGM': True, 'Z_STEP': 0.01, 'Z_MIN': 0.01, 'Z_MAX': 20.0, 'TEMP_ERR_FILE': '/nvme/scratch/work/tharvey/EXPANSE/src/EXPANSE/eazy/TEMPLATE_ERROR.eazy_v1.0', 'TEMP_ERR_A2': 0, 'SYS_ERR': 0, 'APPLY_PRIOR': 'n', 'PRIOR_ABZP': 23.9, 'PRIOR_FILTER': 28, 'PRIOR_FILE': '', 'FIX_ZSPEC': False, 'IGM_SCALE_TAU': 1.0, 'N_MIN_COLORS': 2, 'CATALOG_FILE': '/tmp/tmpba2dfje_/eazy_input.fits'}\n",
      "Read default param file: /nvme/scratch/software/anaconda3/envs/tharvey_galfind/lib/python3.10/site-packages/eazy/data/zphot.param.default\n",
      "Read CATALOG_FILE: /tmp/tmpba2dfje_/eazy_input.fits\n",
      "   >>> NOBJ = 1\n",
      "F22 E22 ( 22): hst/ACS_update_sep07/wfc_f435w_t81.dat\n",
      "F23 E23 ( 23): hst/ACS_update_sep07/wfc_f606w_t81.dat\n",
      "F49 E49 ( 49): hst/ACS_update_sep07/wfc_f775w_t81.dat\n",
      "F24 E24 ( 24): hst/ACS_update_sep07/wfc_f814w_t81.dat\n",
      "F50 E50 ( 50): hst/ACS_update_sep07/wfc_f850lp_t81.dat\n",
      "F1 E1 (  1): jwst_nircam_f090w\n",
      "F2 E2 (  2): jwst_nircam_f115w\n",
      "F3 E3 (  3): jwst_nircam_f150w\n",
      "F38 E38 ( 38): jwst_nircam_f162m\n",
      "F39 E39 ( 39): jwst_nircam_f182m\n",
      "F4 E4 (  4): jwst_nircam_f200w\n",
      "F40 E40 ( 40): jwst_nircam_f210m\n",
      "F41 E41 ( 41): jwst_nircam_f250m\n",
      "F5 E5 (  5): jwst_nircam_f277w\n",
      "F42 E42 ( 42): jwst_nircam_f300m\n",
      "F43 E43 ( 43): jwst_nircam_f335m\n",
      "F6 E6 (  6): jwst_nircam_f356w\n",
      "F7 E7 (  7): jwst_nircam_f410m\n",
      "F8 E8 (  8): jwst_nircam_f444w\n",
      "Set sys_err = 0.00 (positive=True)\n",
      "Template grid: /nvme/scratch/work/tharvey/EAZY/inputs/scripts/templates/LarsonTemplates/tweak_fsps_QSF_12_v3_newtemplates.param (this may take some time)\n"
     ]
    },
    {
     "name": "stderr",
     "output_type": "stream",
     "text": [
      "100%|██████████| 18/18 [00:12<00:00,  1.49it/s]\n"
     ]
    },
    {
     "name": "stdout",
     "output_type": "stream",
     "text": [
      "Template   0: fsps_QSF_12_v3_001.dat (NZ=1).\n",
      "Template   1: fsps_QSF_12_v3_002.dat (NZ=1).\n",
      "Template   2: fsps_QSF_12_v3_003.dat (NZ=1).\n",
      "Template   3: fsps_QSF_12_v3_004.dat (NZ=1).\n",
      "Template   4: fsps_QSF_12_v3_005.dat (NZ=1).\n",
      "Template   5: fsps_QSF_12_v3_006.dat (NZ=1).\n",
      "Template   6: fsps_QSF_12_v3_007.dat (NZ=1).\n",
      "Template   7: fsps_QSF_12_v3_008.dat (NZ=1).\n",
      "Template   8: fsps_QSF_12_v3_009.dat (NZ=1).\n",
      "Template   9: fsps_QSF_12_v3_010.dat (NZ=1).\n",
      "Template  10: fsps_QSF_12_v3_011.dat (NZ=1).\n",
      "Template  11: fsps_QSF_12_v3_012.dat (NZ=1).\n",
      "Template  12: binc100z001age6_cloudy.dat (NZ=1).\n",
      "Template  13: binc100z001age65_cloudy.dat (NZ=1).\n",
      "Template  14: binc100z001age7_cloudy.dat (NZ=1).\n",
      "Template  15: binc100z001age6.dat (NZ=1).\n",
      "Template  16: binc100z001age65.dat (NZ=1).\n",
      "Template  17: binc100z001age7.dat (NZ=1).\n",
      "Process templates: 12.575 s\n"
     ]
    },
    {
     "name": "stderr",
     "output_type": "stream",
     "text": [
      "304it [00:00, 19687.62it/s]"
     ]
    },
    {
     "name": "stdout",
     "output_type": "stream",
     "text": [
      "Saving tempfilt to /nvme/scratch/work/tharvey/EXPANSE/src/EXPANSE/eazy/tempfilt/\n"
     ]
    },
    {
     "name": "stderr",
     "output_type": "stream",
     "text": [
      "\n",
      "100%|██████████| 304/304 [00:00<00:00, 5596.92it/s]\n"
     ]
    },
    {
     "name": "stdout",
     "output_type": "stream",
     "text": [
      "Compute best fits\n",
      "fit_best: 0.0 s (n_proc=1,  NOBJ=1)\n",
      "Fit 0.4 s (n_proc=4, NOBJ=1)\n",
      "Setting meta, id_phot, 0\n",
      "Setting meta, z_best, 6.953539\n",
      "Setting meta, chi2, 23.912626359498187\n",
      "Setting meta, z16, 6.8039885\n",
      "Setting meta, z50, 6.954182\n",
      "Setting meta, z84, 7.1120477\n",
      "Setting meta, flux_unit, uJy\n",
      "Setting meta, wave_unit, Angstrom\n",
      "Setting meta, templates_file, /nvme/scratch/work/tharvey/EAZY/inputs/scripts/templates/LarsonTemplates/tweak_fsps_QSF_12_v3_newtemplates.param\n",
      "Setting meta, z_min, 0.01\n",
      "Setting meta, z_max, 20.0\n",
      "Setting meta, z_step, 0.01\n",
      "Setting meta, region, MAG_APER_0.32 arcsec_fsps_larson_0.05__Asada24_cgm\n",
      " added to <HDF5 file \"JOF_psfmatched_9720.h5\" (mode r+)>, interactive_outputs/MAG_APER_0_32 arcsec_fsps_larson_0_05__Asada24_cgm/, eazy_fit\n",
      " added to <HDF5 file \"JOF_psfmatched_9720.h5\" (mode r+)>, interactive_outputs/MAG_APER_0_32 arcsec_fsps_larson_0_05__Asada24_cgm/, p_z\n",
      " added to <HDF5 file \"JOF_psfmatched_9720.h5\" (mode r+)>, interactive_outputs/MAG_APER_0_32 arcsec_fsps_larson_0_05__Asada24_cgm/, input_flux\n",
      " added to <HDF5 file \"JOF_psfmatched_9720.h5\" (mode r+)>, interactive_outputs/MAG_APER_0_32 arcsec_fsps_larson_0_05__Asada24_cgm/, input_flux_err\n",
      "Zeropoint: 23.9\n",
      "{'TEMPLATES_FILE': '/nvme/scratch/work/tharvey/EAZY/inputs/scripts/templates/LarsonTemplates/tweak_fsps_QSF_12_v3_newtemplates.param', 'FILTERS_RES': '/nvme/scratch/work/tharvey/EXPANSE/src/EXPANSE/eazy/jwst_nircam_FILTER.RES', 'MW_EBV': 0, 'CAT_HAS_EXTCORR': False, 'ADD_CGM': True, 'Z_STEP': 0.01, 'Z_MIN': 0.01, 'Z_MAX': 20.0, 'TEMP_ERR_FILE': '/nvme/scratch/work/tharvey/EXPANSE/src/EXPANSE/eazy/TEMPLATE_ERROR.eazy_v1.0', 'TEMP_ERR_A2': 0, 'SYS_ERR': 0, 'APPLY_PRIOR': 'n', 'PRIOR_ABZP': 23.9, 'PRIOR_FILTER': 28, 'PRIOR_FILE': '', 'FIX_ZSPEC': False, 'IGM_SCALE_TAU': 1.0, 'N_MIN_COLORS': 2, 'CATALOG_FILE': '/tmp/tmphf7yrjtl/eazy_input.fits'}\n",
      "Read default param file: /nvme/scratch/software/anaconda3/envs/tharvey_galfind/lib/python3.10/site-packages/eazy/data/zphot.param.default\n",
      "Read CATALOG_FILE: /tmp/tmphf7yrjtl/eazy_input.fits\n",
      "   >>> NOBJ = 1\n",
      "F22 E22 ( 22): hst/ACS_update_sep07/wfc_f435w_t81.dat\n",
      "F23 E23 ( 23): hst/ACS_update_sep07/wfc_f606w_t81.dat\n",
      "F49 E49 ( 49): hst/ACS_update_sep07/wfc_f775w_t81.dat\n",
      "F24 E24 ( 24): hst/ACS_update_sep07/wfc_f814w_t81.dat\n",
      "F50 E50 ( 50): hst/ACS_update_sep07/wfc_f850lp_t81.dat\n",
      "F1 E1 (  1): jwst_nircam_f090w\n",
      "F2 E2 (  2): jwst_nircam_f115w\n",
      "F3 E3 (  3): jwst_nircam_f150w\n",
      "F38 E38 ( 38): jwst_nircam_f162m\n",
      "F39 E39 ( 39): jwst_nircam_f182m\n",
      "F4 E4 (  4): jwst_nircam_f200w\n",
      "F40 E40 ( 40): jwst_nircam_f210m\n",
      "F41 E41 ( 41): jwst_nircam_f250m\n",
      "F5 E5 (  5): jwst_nircam_f277w\n",
      "F42 E42 ( 42): jwst_nircam_f300m\n",
      "F43 E43 ( 43): jwst_nircam_f335m\n",
      "F6 E6 (  6): jwst_nircam_f356w\n",
      "F7 E7 (  7): jwst_nircam_f410m\n",
      "F8 E8 (  8): jwst_nircam_f444w\n",
      "Set sys_err = 0.00 (positive=True)\n",
      "Template grid: /nvme/scratch/work/tharvey/EAZY/inputs/scripts/templates/LarsonTemplates/tweak_fsps_QSF_12_v3_newtemplates.param (this may take some time)\n"
     ]
    },
    {
     "name": "stderr",
     "output_type": "stream",
     "text": [
      "100%|██████████| 18/18 [00:12<00:00,  1.44it/s]\n"
     ]
    },
    {
     "name": "stdout",
     "output_type": "stream",
     "text": [
      "Template   0: fsps_QSF_12_v3_001.dat (NZ=1).\n",
      "Template   1: fsps_QSF_12_v3_002.dat (NZ=1).\n",
      "Template   2: fsps_QSF_12_v3_003.dat (NZ=1).\n",
      "Template   3: fsps_QSF_12_v3_004.dat (NZ=1).\n",
      "Template   4: fsps_QSF_12_v3_005.dat (NZ=1).\n",
      "Template   5: fsps_QSF_12_v3_006.dat (NZ=1).\n",
      "Template   6: fsps_QSF_12_v3_007.dat (NZ=1).\n",
      "Template   7: fsps_QSF_12_v3_008.dat (NZ=1).\n",
      "Template   8: fsps_QSF_12_v3_009.dat (NZ=1).\n",
      "Template   9: fsps_QSF_12_v3_010.dat (NZ=1).\n",
      "Template  10: fsps_QSF_12_v3_011.dat (NZ=1).\n",
      "Template  11: fsps_QSF_12_v3_012.dat (NZ=1).\n",
      "Template  12: binc100z001age6_cloudy.dat (NZ=1).\n",
      "Template  13: binc100z001age65_cloudy.dat (NZ=1).\n",
      "Template  14: binc100z001age7_cloudy.dat (NZ=1).\n",
      "Template  15: binc100z001age6.dat (NZ=1).\n",
      "Template  16: binc100z001age65.dat (NZ=1).\n",
      "Template  17: binc100z001age7.dat (NZ=1).\n",
      "Process templates: 13.003 s\n"
     ]
    },
    {
     "name": "stderr",
     "output_type": "stream",
     "text": [
      "304it [00:00, 23374.73it/s]"
     ]
    },
    {
     "name": "stdout",
     "output_type": "stream",
     "text": [
      "Saving tempfilt to /nvme/scratch/work/tharvey/EXPANSE/src/EXPANSE/eazy/tempfilt/\n"
     ]
    },
    {
     "name": "stderr",
     "output_type": "stream",
     "text": [
      "\n",
      "100%|██████████| 304/304 [00:00<00:00, 5157.63it/s]\n"
     ]
    },
    {
     "name": "stdout",
     "output_type": "stream",
     "text": [
      "Compute best fits\n",
      "fit_best: 0.0 s (n_proc=1,  NOBJ=1)\n",
      "Fit 0.4 s (n_proc=4, NOBJ=1)\n",
      "Setting meta, id_phot, 0\n",
      "Setting meta, z_best, 5.9997196\n",
      "Setting meta, chi2, 30.10359019377691\n",
      "Setting meta, z16, 5.9643497\n",
      "Setting meta, z50, 5.998757\n",
      "Setting meta, z84, 6.0287356\n",
      "Setting meta, flux_unit, uJy\n",
      "Setting meta, wave_unit, Angstrom\n",
      "Setting meta, templates_file, /nvme/scratch/work/tharvey/EAZY/inputs/scripts/templates/LarsonTemplates/tweak_fsps_QSF_12_v3_newtemplates.param\n",
      "Setting meta, z_min, 0.01\n",
      "Setting meta, z_max, 20.0\n",
      "Setting meta, z_step, 0.01\n",
      "Setting meta, region, MAG_APER_0.32 arcsec_fsps_larson_0.05__Asada24_cgm\n",
      " added to <HDF5 file \"JOF_psfmatched_9809.h5\" (mode r+)>, interactive_outputs/MAG_APER_0_32 arcsec_fsps_larson_0_05__Asada24_cgm/, eazy_fit\n",
      " added to <HDF5 file \"JOF_psfmatched_9809.h5\" (mode r+)>, interactive_outputs/MAG_APER_0_32 arcsec_fsps_larson_0_05__Asada24_cgm/, p_z\n",
      " added to <HDF5 file \"JOF_psfmatched_9809.h5\" (mode r+)>, interactive_outputs/MAG_APER_0_32 arcsec_fsps_larson_0_05__Asada24_cgm/, input_flux\n",
      " added to <HDF5 file \"JOF_psfmatched_9809.h5\" (mode r+)>, interactive_outputs/MAG_APER_0_32 arcsec_fsps_larson_0_05__Asada24_cgm/, input_flux_err\n",
      "Zeropoint: 23.9\n",
      "{'TEMPLATES_FILE': '/nvme/scratch/work/tharvey/EAZY/inputs/scripts/templates/LarsonTemplates/tweak_fsps_QSF_12_v3_newtemplates.param', 'FILTERS_RES': '/nvme/scratch/work/tharvey/EXPANSE/src/EXPANSE/eazy/jwst_nircam_FILTER.RES', 'MW_EBV': 0, 'CAT_HAS_EXTCORR': False, 'ADD_CGM': True, 'Z_STEP': 0.01, 'Z_MIN': 0.01, 'Z_MAX': 20.0, 'TEMP_ERR_FILE': '/nvme/scratch/work/tharvey/EXPANSE/src/EXPANSE/eazy/TEMPLATE_ERROR.eazy_v1.0', 'TEMP_ERR_A2': 0, 'SYS_ERR': 0, 'APPLY_PRIOR': 'n', 'PRIOR_ABZP': 23.9, 'PRIOR_FILTER': 28, 'PRIOR_FILE': '', 'FIX_ZSPEC': False, 'IGM_SCALE_TAU': 1.0, 'N_MIN_COLORS': 2, 'CATALOG_FILE': '/tmp/tmp5awauz3d/eazy_input.fits'}\n",
      "Read default param file: /nvme/scratch/software/anaconda3/envs/tharvey_galfind/lib/python3.10/site-packages/eazy/data/zphot.param.default\n",
      "Read CATALOG_FILE: /tmp/tmp5awauz3d/eazy_input.fits\n",
      "   >>> NOBJ = 1\n",
      "F22 E22 ( 22): hst/ACS_update_sep07/wfc_f435w_t81.dat\n",
      "F23 E23 ( 23): hst/ACS_update_sep07/wfc_f606w_t81.dat\n",
      "F49 E49 ( 49): hst/ACS_update_sep07/wfc_f775w_t81.dat\n",
      "F24 E24 ( 24): hst/ACS_update_sep07/wfc_f814w_t81.dat\n",
      "F50 E50 ( 50): hst/ACS_update_sep07/wfc_f850lp_t81.dat\n",
      "F1 E1 (  1): jwst_nircam_f090w\n",
      "F2 E2 (  2): jwst_nircam_f115w\n",
      "F3 E3 (  3): jwst_nircam_f150w\n",
      "F38 E38 ( 38): jwst_nircam_f162m\n",
      "F39 E39 ( 39): jwst_nircam_f182m\n",
      "F4 E4 (  4): jwst_nircam_f200w\n",
      "F40 E40 ( 40): jwst_nircam_f210m\n",
      "F41 E41 ( 41): jwst_nircam_f250m\n",
      "F5 E5 (  5): jwst_nircam_f277w\n",
      "F42 E42 ( 42): jwst_nircam_f300m\n",
      "F43 E43 ( 43): jwst_nircam_f335m\n",
      "F6 E6 (  6): jwst_nircam_f356w\n",
      "F7 E7 (  7): jwst_nircam_f410m\n",
      "F8 E8 (  8): jwst_nircam_f444w\n",
      "Set sys_err = 0.00 (positive=True)\n",
      "Template grid: /nvme/scratch/work/tharvey/EAZY/inputs/scripts/templates/LarsonTemplates/tweak_fsps_QSF_12_v3_newtemplates.param (this may take some time)\n"
     ]
    },
    {
     "name": "stderr",
     "output_type": "stream",
     "text": [
      "100%|██████████| 18/18 [00:12<00:00,  1.41it/s]\n"
     ]
    },
    {
     "name": "stdout",
     "output_type": "stream",
     "text": [
      "Template   0: fsps_QSF_12_v3_001.dat (NZ=1).\n",
      "Template   1: fsps_QSF_12_v3_002.dat (NZ=1).\n",
      "Template   2: fsps_QSF_12_v3_003.dat (NZ=1).\n",
      "Template   3: fsps_QSF_12_v3_004.dat (NZ=1).\n",
      "Template   4: fsps_QSF_12_v3_005.dat (NZ=1).\n",
      "Template   5: fsps_QSF_12_v3_006.dat (NZ=1).\n",
      "Template   6: fsps_QSF_12_v3_007.dat (NZ=1).\n",
      "Template   7: fsps_QSF_12_v3_008.dat (NZ=1).\n",
      "Template   8: fsps_QSF_12_v3_009.dat (NZ=1).\n",
      "Template   9: fsps_QSF_12_v3_010.dat (NZ=1).\n",
      "Template  10: fsps_QSF_12_v3_011.dat (NZ=1).\n",
      "Template  11: fsps_QSF_12_v3_012.dat (NZ=1).\n",
      "Template  12: binc100z001age6_cloudy.dat (NZ=1).\n",
      "Template  13: binc100z001age65_cloudy.dat (NZ=1).\n",
      "Template  14: binc100z001age7_cloudy.dat (NZ=1).\n",
      "Template  15: binc100z001age6.dat (NZ=1).\n",
      "Template  16: binc100z001age65.dat (NZ=1).\n",
      "Template  17: binc100z001age7.dat (NZ=1).\n",
      "Process templates: 13.304 s\n"
     ]
    },
    {
     "name": "stderr",
     "output_type": "stream",
     "text": [
      "304it [00:00, 26203.63it/s]"
     ]
    },
    {
     "name": "stdout",
     "output_type": "stream",
     "text": [
      "Saving tempfilt to /nvme/scratch/work/tharvey/EXPANSE/src/EXPANSE/eazy/tempfilt/\n"
     ]
    },
    {
     "name": "stderr",
     "output_type": "stream",
     "text": [
      "\n",
      "100%|██████████| 304/304 [00:00<00:00, 5496.43it/s]\n"
     ]
    },
    {
     "name": "stdout",
     "output_type": "stream",
     "text": [
      "Compute best fits\n",
      "fit_best: 0.0 s (n_proc=1,  NOBJ=1)\n",
      "Fit 0.4 s (n_proc=4, NOBJ=1)\n",
      "Setting meta, id_phot, 0\n",
      "Setting meta, z_best, 6.7638783\n",
      "Setting meta, chi2, 16.983333100524018\n",
      "Setting meta, z16, 6.7114396\n",
      "Setting meta, z50, 6.763917\n",
      "Setting meta, z84, 6.8152847\n",
      "Setting meta, flux_unit, uJy\n",
      "Setting meta, wave_unit, Angstrom\n",
      "Setting meta, templates_file, /nvme/scratch/work/tharvey/EAZY/inputs/scripts/templates/LarsonTemplates/tweak_fsps_QSF_12_v3_newtemplates.param\n",
      "Setting meta, z_min, 0.01\n",
      "Setting meta, z_max, 20.0\n",
      "Setting meta, z_step, 0.01\n",
      "Setting meta, region, MAG_APER_0.32 arcsec_fsps_larson_0.05__Asada24_cgm\n",
      " added to <HDF5 file \"JOF_psfmatched_9911.h5\" (mode r+)>, interactive_outputs/MAG_APER_0_32 arcsec_fsps_larson_0_05__Asada24_cgm/, eazy_fit\n",
      " added to <HDF5 file \"JOF_psfmatched_9911.h5\" (mode r+)>, interactive_outputs/MAG_APER_0_32 arcsec_fsps_larson_0_05__Asada24_cgm/, p_z\n",
      " added to <HDF5 file \"JOF_psfmatched_9911.h5\" (mode r+)>, interactive_outputs/MAG_APER_0_32 arcsec_fsps_larson_0_05__Asada24_cgm/, input_flux\n",
      " added to <HDF5 file \"JOF_psfmatched_9911.h5\" (mode r+)>, interactive_outputs/MAG_APER_0_32 arcsec_fsps_larson_0_05__Asada24_cgm/, input_flux_err\n",
      "Zeropoint: 23.9\n",
      "{'TEMPLATES_FILE': '/nvme/scratch/work/tharvey/EAZY/inputs/scripts/templates/LarsonTemplates/tweak_fsps_QSF_12_v3_newtemplates.param', 'FILTERS_RES': '/nvme/scratch/work/tharvey/EXPANSE/src/EXPANSE/eazy/jwst_nircam_FILTER.RES', 'MW_EBV': 0, 'CAT_HAS_EXTCORR': False, 'ADD_CGM': True, 'Z_STEP': 0.01, 'Z_MIN': 0.01, 'Z_MAX': 20.0, 'TEMP_ERR_FILE': '/nvme/scratch/work/tharvey/EXPANSE/src/EXPANSE/eazy/TEMPLATE_ERROR.eazy_v1.0', 'TEMP_ERR_A2': 0, 'SYS_ERR': 0, 'APPLY_PRIOR': 'n', 'PRIOR_ABZP': 23.9, 'PRIOR_FILTER': 28, 'PRIOR_FILE': '', 'FIX_ZSPEC': False, 'IGM_SCALE_TAU': 1.0, 'N_MIN_COLORS': 2, 'CATALOG_FILE': '/tmp/tmp230lu9v_/eazy_input.fits'}\n",
      "Read default param file: /nvme/scratch/software/anaconda3/envs/tharvey_galfind/lib/python3.10/site-packages/eazy/data/zphot.param.default\n",
      "Read CATALOG_FILE: /tmp/tmp230lu9v_/eazy_input.fits\n",
      "   >>> NOBJ = 1\n",
      "F22 E22 ( 22): hst/ACS_update_sep07/wfc_f435w_t81.dat\n",
      "F23 E23 ( 23): hst/ACS_update_sep07/wfc_f606w_t81.dat\n",
      "F49 E49 ( 49): hst/ACS_update_sep07/wfc_f775w_t81.dat\n",
      "F24 E24 ( 24): hst/ACS_update_sep07/wfc_f814w_t81.dat\n",
      "F50 E50 ( 50): hst/ACS_update_sep07/wfc_f850lp_t81.dat\n",
      "F1 E1 (  1): jwst_nircam_f090w\n",
      "F2 E2 (  2): jwst_nircam_f115w\n",
      "F3 E3 (  3): jwst_nircam_f150w\n",
      "F38 E38 ( 38): jwst_nircam_f162m\n",
      "F39 E39 ( 39): jwst_nircam_f182m\n",
      "F4 E4 (  4): jwst_nircam_f200w\n",
      "F40 E40 ( 40): jwst_nircam_f210m\n",
      "F41 E41 ( 41): jwst_nircam_f250m\n",
      "F5 E5 (  5): jwst_nircam_f277w\n",
      "F42 E42 ( 42): jwst_nircam_f300m\n",
      "F43 E43 ( 43): jwst_nircam_f335m\n",
      "F6 E6 (  6): jwst_nircam_f356w\n",
      "F7 E7 (  7): jwst_nircam_f410m\n",
      "F8 E8 (  8): jwst_nircam_f444w\n",
      "Set sys_err = 0.00 (positive=True)\n",
      "Template grid: /nvme/scratch/work/tharvey/EAZY/inputs/scripts/templates/LarsonTemplates/tweak_fsps_QSF_12_v3_newtemplates.param (this may take some time)\n"
     ]
    },
    {
     "name": "stderr",
     "output_type": "stream",
     "text": [
      "100%|██████████| 18/18 [00:11<00:00,  1.58it/s]\n"
     ]
    },
    {
     "name": "stdout",
     "output_type": "stream",
     "text": [
      "Template   0: fsps_QSF_12_v3_001.dat (NZ=1).\n",
      "Template   1: fsps_QSF_12_v3_002.dat (NZ=1).\n",
      "Template   2: fsps_QSF_12_v3_003.dat (NZ=1).\n",
      "Template   3: fsps_QSF_12_v3_004.dat (NZ=1).\n",
      "Template   4: fsps_QSF_12_v3_005.dat (NZ=1).\n",
      "Template   5: fsps_QSF_12_v3_006.dat (NZ=1).\n",
      "Template   6: fsps_QSF_12_v3_007.dat (NZ=1).\n",
      "Template   7: fsps_QSF_12_v3_008.dat (NZ=1).\n",
      "Template   8: fsps_QSF_12_v3_009.dat (NZ=1).\n",
      "Template   9: fsps_QSF_12_v3_010.dat (NZ=1).\n",
      "Template  10: fsps_QSF_12_v3_011.dat (NZ=1).\n",
      "Template  11: fsps_QSF_12_v3_012.dat (NZ=1).\n",
      "Template  12: binc100z001age6_cloudy.dat (NZ=1).\n",
      "Template  13: binc100z001age65_cloudy.dat (NZ=1).\n",
      "Template  14: binc100z001age7_cloudy.dat (NZ=1).\n",
      "Template  15: binc100z001age6.dat (NZ=1).\n",
      "Template  16: binc100z001age65.dat (NZ=1).\n",
      "Template  17: binc100z001age7.dat (NZ=1).\n",
      "Process templates: 11.911 s\n"
     ]
    },
    {
     "name": "stderr",
     "output_type": "stream",
     "text": [
      "304it [00:00, 27916.72it/s]"
     ]
    },
    {
     "name": "stdout",
     "output_type": "stream",
     "text": [
      "Saving tempfilt to /nvme/scratch/work/tharvey/EXPANSE/src/EXPANSE/eazy/tempfilt/\n"
     ]
    },
    {
     "name": "stderr",
     "output_type": "stream",
     "text": [
      "\n",
      "100%|██████████| 304/304 [00:00<00:00, 6300.80it/s]"
     ]
    },
    {
     "name": "stdout",
     "output_type": "stream",
     "text": [
      "Compute best fits\n",
      "fit_best: 0.0 s (n_proc=1,  NOBJ=1)\n",
      "Fit 0.4 s (n_proc=4, NOBJ=1)\n",
      "Setting meta, id_phot, 0\n",
      "Setting meta, z_best, 7.5584373\n",
      "Setting meta, chi2, 12.775106608934315\n",
      "Setting meta, z16, 7.2267294\n",
      "Setting meta, z50, 7.3748555\n",
      "Setting meta, z84, 7.5637207\n",
      "Setting meta, flux_unit, uJy\n",
      "Setting meta, wave_unit, Angstrom\n",
      "Setting meta, templates_file, /nvme/scratch/work/tharvey/EAZY/inputs/scripts/templates/LarsonTemplates/tweak_fsps_QSF_12_v3_newtemplates.param\n",
      "Setting meta, z_min, 0.01\n",
      "Setting meta, z_max, 20.0\n",
      "Setting meta, z_step, 0.01\n",
      "Setting meta, region, MAG_APER_0.32 arcsec_fsps_larson_0.05__Asada24_cgm\n",
      " added to <HDF5 file \"JOF_psfmatched_9995.h5\" (mode r+)>, interactive_outputs/MAG_APER_0_32 arcsec_fsps_larson_0_05__Asada24_cgm/, eazy_fit\n",
      " added to <HDF5 file \"JOF_psfmatched_9995.h5\" (mode r+)>, interactive_outputs/MAG_APER_0_32 arcsec_fsps_larson_0_05__Asada24_cgm/, p_z\n",
      " added to <HDF5 file \"JOF_psfmatched_9995.h5\" (mode r+)>, interactive_outputs/MAG_APER_0_32 arcsec_fsps_larson_0_05__Asada24_cgm/, input_flux\n",
      " added to <HDF5 file \"JOF_psfmatched_9995.h5\" (mode r+)>, interactive_outputs/MAG_APER_0_32 arcsec_fsps_larson_0_05__Asada24_cgm/, input_flux_err\n"
     ]
    },
    {
     "name": "stderr",
     "output_type": "stream",
     "text": [
      "\n"
     ]
    }
   ],
   "source": [
    "for galaxy in galaxies:\n",
    "    try:\n",
    "        galaxy.eazy_fit_measured_photometry(phot_name='MAG_APER_0.32 arcsec',\n",
    "                                            override_binmap_type='pixedfit',\n",
    "                                            plot=False,\n",
    "                                            overwrite=False,\n",
    "                                            add_cgm=True,\n",
    "                                            load_tempfilt=False,\n",
    "                                            custom_append='_Asada24_cgm')\n",
    "    except Exception as e:\n",
    "        print(f\"Error processing galaxy {galaxy.name}: {e}\")\n",
    "        continue\n",
    "\n"
   ]
  },
  {
   "cell_type": "code",
   "execution_count": 9,
   "metadata": {},
   "outputs": [
    {
     "name": "stdout",
     "output_type": "stream",
     "text": [
      "9.882136\n",
      "6.1855383\n",
      "8.339481\n",
      "5.2146487\n",
      "6.314883\n",
      "6.2000046\n",
      "5.9432545\n",
      "6.529951\n",
      "6.078269\n",
      "4.7419696\n",
      "7.0820847\n",
      "6.0019794\n",
      "7.42716\n",
      "6.762549\n",
      "6.020051\n",
      "8.416957\n",
      "6.7437124\n",
      "5.8649244\n",
      "6.360433\n",
      "7.401247\n",
      "7.8450503\n",
      "7.030238\n",
      "7.381259\n",
      "6.7168627\n",
      "7.9444513\n",
      "11.2899475\n",
      "7.0564847\n",
      "4.8613415\n",
      "5.9346185\n",
      "6.0132856\n",
      "6.43022\n",
      "5.924335\n",
      "7.088379\n",
      "4.8080654\n",
      "6.1528335\n",
      "4.7934475\n",
      "11.251092\n",
      "7.2648234\n",
      "4.64604\n",
      "6.256375\n",
      "6.78867\n",
      "6.402355\n",
      "4.720844\n",
      "5.947561\n",
      "8.108026\n",
      "6.2977595\n",
      "6.0804696\n",
      "4.60868\n",
      "5.8372498\n",
      "6.198535\n",
      "6.7777753\n",
      "6.0127387\n",
      "6.315532\n",
      "6.1653776\n",
      "6.1706924\n",
      "5.840781\n",
      "9.223761\n",
      "9.404525\n",
      "7.114011\n",
      "6.1808057\n",
      "6.3288865\n",
      "5.9653625\n",
      "6.5066323\n",
      "6.127081\n",
      "7.024899\n",
      "1.0630876\n",
      "6.3160915\n",
      "5.2129745\n",
      "6.0030484\n",
      "6.7163873\n",
      "6.175025\n",
      "6.7363253\n",
      "6.3285384\n",
      "6.039291\n",
      "4.537729\n",
      "4.6275005\n",
      "4.578727\n",
      "7.4878025\n",
      "6.8008914\n",
      "6.008887\n",
      "6.7332273\n",
      "9.388197\n",
      "6.668941\n",
      "11.295368\n",
      "0.040276773\n",
      "7.3702807\n",
      "5.8896885\n",
      "8.492884\n",
      "8.006568\n",
      "4.5479074\n",
      "8.32063\n",
      "4.5870624\n",
      "8.403584\n",
      "7.830814\n",
      "5.979604\n",
      "6.186365\n",
      "6.047386\n",
      "5.96353\n",
      "6.234944\n",
      "6.03422\n",
      "8.199822\n",
      "8.683268\n",
      "6.183129\n",
      "7.967767\n",
      "6.43609\n",
      "6.276196\n",
      "6.1119933\n",
      "6.343503\n",
      "4.604181\n",
      "5.9096518\n",
      "6.131784\n",
      "7.0346947\n",
      "9.35806\n",
      "7.6547956\n",
      "6.6061487\n",
      "6.264556\n",
      "12.179701\n",
      "6.201048\n",
      "6.8552637\n",
      "5.9955974\n",
      "8.277986\n",
      "5.937262\n",
      "5.974819\n",
      "8.316404\n",
      "5.9403734\n",
      "8.508112\n",
      "5.4554987\n",
      "8.243388\n",
      "9.210059\n",
      "7.111815\n",
      "6.2050056\n",
      "8.884467\n",
      "7.2680664\n",
      "7.008862\n",
      "7.966331\n",
      "5.862922\n",
      "8.242231\n",
      "9.3189125\n",
      "6.413977\n",
      "6.0627375\n",
      "9.947004\n",
      "5.8364406\n",
      "6.3836565\n",
      "6.6041903\n",
      "5.994305\n",
      "5.8926053\n",
      "6.4842067\n",
      "6.5814123\n",
      "6.7644687\n",
      "5.236547\n",
      "8.178633\n",
      "6.5204635\n",
      "8.009332\n",
      "6.547458\n",
      "7.0085373\n",
      "8.135288\n",
      "7.238846\n",
      "6.534016\n",
      "6.15176\n",
      "6.5799956\n",
      "6.9255075\n",
      "6.067433\n",
      "6.0175056\n",
      "4.5192533\n",
      "8.230123\n",
      "6.6835113\n",
      "7.9954515\n",
      "6.001734\n",
      "7.654069\n",
      "8.074158\n",
      "7.02543\n",
      "6.0170465\n",
      "6.034121\n",
      "7.260481\n",
      "7.140275\n",
      "9.048567\n",
      "6.9856205\n",
      "6.1771564\n",
      "6.2758055\n",
      "7.2167706\n",
      "7.784689\n",
      "4.532154\n",
      "6.530255\n",
      "4.7344794\n",
      "5.9238167\n",
      "8.027758\n",
      "6.1457624\n",
      "6.267661\n",
      "7.890202\n",
      "6.640108\n",
      "8.042205\n",
      "4.7842717\n",
      "6.4803023\n",
      "6.6968985\n",
      "4.537424\n",
      "4.615689\n",
      "6.0326505\n",
      "6.9808254\n",
      "7.0404677\n",
      "4.530195\n",
      "12.120146\n",
      "8.211647\n",
      "8.507282\n",
      "7.8867855\n",
      "5.948171\n",
      "5.9700637\n",
      "6.09775\n",
      "7.8986654\n",
      "9.061892\n",
      "6.0159016\n",
      "12.700347\n",
      "6.182531\n",
      "4.620858\n",
      "5.901392\n",
      "6.1911254\n",
      "9.689289\n",
      "8.232325\n",
      "6.1437697\n",
      "6.953539\n",
      "5.9997196\n",
      "6.7638783\n",
      "7.5584373\n"
     ]
    }
   ],
   "source": [
    "for gal in galaxies:\n",
    "    print(gal.interactive_outputs['MAG_APER_0_32 arcsec_fsps_larson_0_05__Asada24_cgm']['meta']['eazy_fit']['z_best'])"
   ]
  },
  {
   "cell_type": "code",
   "execution_count": 70,
   "metadata": {},
   "outputs": [
    {
     "name": "stdout",
     "output_type": "stream",
     "text": [
      "Mean difference: 0.063, Std: 0.590\n",
      "Number with dz>0.5 8\n"
     ]
    },
    {
     "data": {
      "text/plain": [
       "Text(0.05, 0.7, 'Mean $\\\\Delta z$: 0.063\\nMedian $\\\\Delta z$: 0.007\\nIQR $\\\\Delta z$: 0.043\\nOutlier Fraction: 2.3%\\n        ')"
      ]
     },
     "execution_count": 70,
     "metadata": {},
     "output_type": "execute_result"
    },
    {
     "data": {
      "image/png": "[encoded data removed]",
      "text/plain": [
       "<Figure size 1200x800 with 1 Axes>"
      ]
     },
     "metadata": {
      "needs_background": "light"
     },
     "output_type": "display_data"
    }
   ],
   "source": [
    "xs = []\n",
    "ys = []\n",
    "\n",
    "plt.figure(dpi=200)\n",
    "\n",
    "for gal in galaxies:\n",
    "    x = gal.meta_properties['zbest_fsps_larson_zfree']\n",
    "    y = gal.interactive_outputs['MAG_APER_0_32 arcsec_fsps_larson_0_05__Asada24_cgm']['meta']['z_best']\n",
    "    xs.append(x)\n",
    "    ys.append(y)\n",
    "\n",
    "x = np.array(xs)\n",
    "y = np.array(ys)\n",
    "\n",
    "plt.hist(x-y, bins=25, range=(-0.5, 0.5), density=True)\n",
    "\n",
    "print(f\"Mean difference: {np.mean(x-y):.3f}, Std: {np.std(x-y):.3f}\")\n",
    "\n",
    "print(f'Number with dz>0.5', np.sum(np.abs(x-y) > 0.5))\n",
    "\n",
    "stats = f'''Mean $\\Delta z$: {np.mean(x-y):.3f}\n",
    "Median $\\Delta z$: {np.median(x-y):.3f}\n",
    "IQR $\\Delta z$: {np.percentile(x-y, 75) - np.percentile(x-y, 25):.3f}\n",
    "Outlier Fraction: {np.sum(np.abs(x-y)/y > 0.15)/len(x)*100:.1f}%\n",
    "        '''\n",
    "\n",
    "plt.xlabel(r'$\\Delta z = z_{\\rm EAZY, default} - z_{\\rm EAZY, Asada+25}$')\n",
    "plt.text(0.05, 0.7, stats, transform=plt.gca().transAxes, fontsize=10)"
   ]
  },
  {
   "cell_type": "markdown",
   "metadata": {},
   "source": [
    "Select 5 galaxies with 0.2 dex mass offsets (more than normal) and rerun them through Bagpipes.\n",
    "See how much masses change."
   ]
  },
  {
   "cell_type": "code",
   "execution_count": 72,
   "metadata": {},
   "outputs": [
    {
     "name": "stdout",
     "output_type": "stream",
     "text": [
      "Overriding fit_photometry: all to \"TOTAL_BIN\"\n",
      "Fitting photometry: TOTAL_BIN with run_name photoz_continuity_zfix_eazy_cgm\n",
      "Using redshift from interactive outputs: MAG_APER_0_32 arcsec_fsps_larson_0_05__Asada24_cgm\n",
      "Fitting fixed redshift = 8.339481353759766.\n",
      "Fitting only TOTAL_BIN fluxes, which is 1 sources\n",
      "Setup to use BPASS\n",
      "Setup to use BPASS\n",
      "Setup to use BPASS\n",
      "Setup to use BPASS\n",
      "Setup to use BPASS\n",
      "Setup to use BPASS\n",
      "Setup to use BPASS\n",
      "Setup to use BPASS\n",
      "Setup to use BPASS\n",
      "Setup to use BPASS\n",
      "Setup to use BPASS\n",
      "Setup to use BPASS\n",
      "Files already exist for 0.0 sources\n",
      "Updating continuity bins\n",
      "Overriding fit_photometry: all to \"TOTAL_BIN\"\n",
      "Fitting photometry: TOTAL_BIN with run_name photoz_continuity_zfix_eazy_cgm\n",
      "Using redshift from interactive outputs: MAG_APER_0_32 arcsec_fsps_larson_0_05__Asada24_cgm\n",
      "Fitting fixed redshift = 8.683267593383789.\n",
      "Fitting only TOTAL_BIN fluxes, which is 1 sources\n",
      "Files already exist for 0.0 sources\n",
      "Updating continuity bins\n",
      "Overriding fit_photometry: all to \"TOTAL_BIN\"\n",
      "Fitting photometry: TOTAL_BIN with run_name photoz_continuity_zfix_eazy_cgm\n",
      "Using redshift from interactive outputs: MAG_APER_0_32 arcsec_fsps_larson_0_05__Asada24_cgm\n",
      "Fitting fixed redshift = 8.242231369018555.\n",
      "Fitting only TOTAL_BIN fluxes, which is 1 sources\n",
      "Files already exist for 0.0 sources\n",
      "Updating continuity bins\n",
      "Overriding fit_photometry: all to \"TOTAL_BIN\"\n",
      "Fitting photometry: TOTAL_BIN with run_name photoz_continuity_zfix_eazy_cgm\n",
      "Using redshift from interactive outputs: MAG_APER_0_32 arcsec_fsps_larson_0_05__Asada24_cgm\n",
      "Fitting fixed redshift = 7.9954514503479.\n",
      "Fitting only TOTAL_BIN fluxes, which is 1 sources\n",
      "Files already exist for 0.0 sources\n",
      "Updating continuity bins\n",
      "Overriding fit_photometry: all to \"TOTAL_BIN\"\n",
      "Fitting photometry: TOTAL_BIN with run_name photoz_continuity_zfix_eazy_cgm\n",
      "Using redshift from interactive outputs: MAG_APER_0_32 arcsec_fsps_larson_0_05__Asada24_cgm\n",
      "Fitting fixed redshift = 12.120145797729492.\n",
      "Fitting only TOTAL_BIN fluxes, which is 1 sources\n",
      "Files already exist for 0.0 sources\n",
      "Updating continuity bins\n",
      "Overriding fit_photometry: all to \"TOTAL_BIN\"\n",
      "Fitting photometry: TOTAL_BIN with run_name photoz_continuity_zfix_eazy_cgm\n",
      "Using redshift from interactive outputs: MAG_APER_0_32 arcsec_fsps_larson_0_05__Asada24_cgm\n",
      "Fitting fixed redshift = 12.700346946716309.\n",
      "Fitting only TOTAL_BIN fluxes, which is 1 sources\n",
      "Files already exist for 0.0 sources\n",
      "Updating continuity bins\n",
      "Missing .h5 file for 10090_TOTAL_BIN\n",
      "/nvme/scratch/work/tharvey/EXPANSE/scripts/pipes/pipes//posterior/photoz_continuity_zfix_eazy_cgm/JOF_psfmatched/10090/TOTAL_BIN.h5\n",
      "/nvme/scratch/work/tharvey/EXPANSE/scripts/pipes/posterior/parallel_temp/10090_TOTAL_BIN.h5\n",
      "Missing .h5 file for 2267_TOTAL_BIN\n",
      "/nvme/scratch/work/tharvey/EXPANSE/scripts/pipes/pipes//posterior/photoz_continuity_zfix_eazy_cgm/JOF_psfmatched/2267/TOTAL_BIN.h5\n",
      "/nvme/scratch/work/tharvey/EXPANSE/scripts/pipes/posterior/parallel_temp/2267_TOTAL_BIN.h5\n",
      "Missing .h5 file for 4266_TOTAL_BIN\n",
      "/nvme/scratch/work/tharvey/EXPANSE/scripts/pipes/pipes//posterior/photoz_continuity_zfix_eazy_cgm/JOF_psfmatched/4266/TOTAL_BIN.h5\n",
      "/nvme/scratch/work/tharvey/EXPANSE/scripts/pipes/posterior/parallel_temp/4266_TOTAL_BIN.h5\n",
      "Missing .h5 file for 6157_TOTAL_BIN\n",
      "/nvme/scratch/work/tharvey/EXPANSE/scripts/pipes/pipes//posterior/photoz_continuity_zfix_eazy_cgm/JOF_psfmatched/6157/TOTAL_BIN.h5\n",
      "/nvme/scratch/work/tharvey/EXPANSE/scripts/pipes/posterior/parallel_temp/6157_TOTAL_BIN.h5\n",
      "Missing .h5 file for 8885_TOTAL_BIN\n",
      "/nvme/scratch/work/tharvey/EXPANSE/scripts/pipes/pipes//posterior/photoz_continuity_zfix_eazy_cgm/JOF_psfmatched/8885/TOTAL_BIN.h5\n",
      "/nvme/scratch/work/tharvey/EXPANSE/scripts/pipes/posterior/parallel_temp/8885_TOTAL_BIN.h5\n",
      "Missing .h5 file for 922_TOTAL_BIN\n",
      "/nvme/scratch/work/tharvey/EXPANSE/scripts/pipes/pipes//posterior/photoz_continuity_zfix_eazy_cgm/JOF_psfmatched/922/TOTAL_BIN.h5\n",
      "/nvme/scratch/work/tharvey/EXPANSE/scripts/pipes/posterior/parallel_temp/922_TOTAL_BIN.h5\n",
      "Total number of fits: 6\n",
      "Starting mpi process with 8 cores.\n",
      "Run directory: /nvme/scratch/work/tharvey/EXPANSE/scripts/pipes\n",
      "mpirun -n 8 python /nvme/scratch/work/tharvey/EXPANSE/src/EXPANSE/bagpipes/run_bagpipes_parallel.py /tmp/tmpip46u5sf parallel_temp\n",
      "Running with mpirun/mpiexec detected.\n",
      "Running with mpirun/mpiexec detected.\n",
      "Running with mpirun/mpiexec detected.\n",
      "Running with mpirun/mpiexec detected.\n",
      "Running with mpirun/mpiexec detected.\n",
      "Running with mpirun/mpiexec detected.\n",
      "Running with mpirun/mpiexec detected.\n",
      "Message from process 1\n",
      "Message from process 3\n",
      "Running with mpirun/mpiexec detected.\n",
      "Message from process 2\n",
      "Message from process 6\n",
      "Message from process 0\n",
      "Message from process 4\n",
      "Message from process 5\n",
      "Message from process 7\n",
      "Running from /nvme/scratch/work/tharvey/EXPANSE/scripts\n",
      "Setup to use BPASS\n",
      "Setup to use BPASS\n",
      "Setup to use BPASS\n",
      "Setup to use BPASS\n",
      "Setup to use BPASS\n",
      "Setup to use BPASS\n",
      "Setup to use BPASS\n",
      "Setup to use BPASS\n",
      "Setup to use BPASS\n",
      "Setup to use BPASS\n",
      "Setup to use BPASS\n",
      "Setup to use BPASS\n",
      "Setup to use BPASS\n",
      "Setup to use BPASS\n",
      "Setup to use BPASS\n",
      "Setup to use BPASS\n",
      "Setup to use BPASS\n",
      "Setup to use BPASS\n",
      "Setup to use BPASS\n",
      "Setup to use BPASS\n",
      "Setup to use BPASS\n",
      "Setup to use BPASS\n",
      "Setup to use BPASS\n",
      "Setup to use BPASS\n",
      "Setup to use BPASS\n",
      "Setup to use BPASS\n",
      "Setup to use BPASS\n",
      "Setup to use BPASS\n",
      "Setup to use BPASS\n",
      "Setup to use BPASSSetup to use BPASS\n",
      "Setup to use BPASS\n",
      "Setup to use BPASS\n",
      "Setup to use BPASS\n",
      "Setup to use BPASS\n",
      "Setup to use BPASS\n",
      "Setup to use BPASS\n",
      "Setup to use BPASS\n",
      "Setup to use BPASS\n",
      "\n",
      "Setup to use BPASS\n",
      "Setup to use BPASS\n",
      "Setup to use BPASS\n",
      "Setup to use BPASS\n",
      "Setup to use BPASS\n",
      "Setup to use BPASS\n",
      "Setup to use BPASS\n",
      "Setup to use BPASS\n",
      "Setup to use BPASS\n",
      "Setup to use BPASS\n",
      "Setup to use BPASS\n",
      "Setup to use BPASS\n",
      "Setup to use BPASS\n",
      "Setup to use BPASS\n",
      "Setup to use BPASS\n",
      "Setup to use BPASS\n",
      "Setup to use BPASS\n",
      "Setup to use BPASS\n",
      "Setup to use BPASS\n",
      "Setup to use BPASS\n",
      "Setup to use BPASS\n",
      "Setup to use BPASS\n",
      "Setup to use BPASS\n",
      "Setup to use BPASS\n",
      "Setup to use BPASS\n",
      "Setup to use BPASS\n",
      "Setup to use BPASS\n",
      "Setup to use BPASS\n",
      "Setup to use BPASS\n",
      "Setup to use BPASS\n",
      "Setup to use BPASS\n",
      "Setup to use BPASS\n",
      "Setup to use BPASS\n",
      "Setup to use BPASS\n",
      "Setup to use BPASS\n",
      "Setup to use BPASS\n",
      "Setup to use BPASS\n",
      "Setup to use BPASS\n",
      "Setup to use BPASS\n",
      "Setup to use BPASS\n",
      "Setup to use BPASS\n",
      "Setup to use BPASS\n",
      "Setup to use BPASS\n",
      "Setup to use BPASS\n",
      "Setup to use BPASS\n",
      "Setup to use BPASS\n",
      "Setup to use BPASS\n",
      "Setup to use BPASS\n",
      "Setup to use BPASS\n",
      "Setup to use BPASS\n",
      "Bagpipes: PyMultiNest import failed, fitting will use the Nautilus sampler instead.\n",
      "Setup to use BPASS\n",
      "Bagpipes: PyMultiNest import failed, fitting will use the Nautilus sampler instead.\n",
      "Setup to use BPASS\n",
      "Bagpipes: PyMultiNest import failed, fitting will use the Nautilus sampler instead.\n",
      "Setup to use BPASS\n",
      "Bagpipes: PyMultiNest import failed, fitting will use the Nautilus sampler instead.\n",
      "Fit instructions is a list. Setting individual. \n",
      "Fitting with MPI_serial: 1 galaxy per core.\n",
      "Running with 8 processes.\n",
      "6 galaxies to fit.\n",
      "Output directory: parallel_temp.\n",
      "6 6 6 6\n",
      "{'t_bc': 0.01, 'continuity': {'massformed': [5.0, 12.0], 'metallicity': [0.001, 2.5], 'bin_edges': [0.0, 10.0, 21.097147108368894, 44.5089616112158, 93.90121107525643, 198.10476637086822, 417.9445398995261], 'dsfr1': [-10.0, 10.0], 'dsfr1_prior': 'student_t', 'dsfr1_prior_scale': 0.3, 'dsfr1_prior_df': 2, 'dsfr2': [-10.0, 10.0], 'dsfr2_prior': 'student_t', 'dsfr2_prior_scale': 0.3, 'dsfr2_prior_df': 2, 'dsfr3': [-10.0, 10.0], 'dsfr3_prior': 'student_t', 'dsfr3_prior_scale': 0.3, 'dsfr3_prior_df': 2, 'dsfr4': [-10.0, 10.0], 'dsfr4_prior': 'student_t', 'dsfr4_prior_scale': 0.3, 'dsfr4_prior_df': 2, 'dsfr5': [-10.0, 10.0], 'dsfr5_prior': 'student_t', 'dsfr5_prior_scale': 0.3, 'dsfr5_prior_df': 2}, 'nebular': {'logU': [-3.0, -1.0]}, 'dust': {'type': 'Calzetti', 'Av': [0, 5.0]}}\n",
      "Fit instructions is a list. Setting individual. \n",
      "Fitting with MPI_serial: 1 galaxy per core.\n",
      "Fitting multiple objects using MPI\n",
      "Setting fit_instructions from list.\n",
      "Fit instructions is a list. Setting individual. \n",
      "Fitting with MPI_serial: 1 galaxy per core.\n",
      "Setting fit_instructions from list.\n",
      "MultiNest not available. Switching to nautilus.\n",
      "\n",
      "Bagpipes: fitting object 2267_TOTAL_BIN\n",
      "\n",
      "Fit instructions is a list. Setting individual. \n",
      "Fitting with MPI_serial: 1 galaxy per core.\n",
      "Setting fit_instructions from list.\n",
      "MultiNest not available. Switching to nautilus.\n",
      "\n",
      "Bagpipes: fitting object 6157_TOTAL_BIN\n",
      "\n",
      "Setup to use BPASS\n",
      "Bagpipes: PyMultiNest import failed, fitting will use the Nautilus sampler instead.\n",
      "MultiNest not available. Switching to nautilus.\n",
      "\n",
      "Bagpipes: fitting object 922_TOTAL_BIN\n",
      "\n",
      "Setup to use BPASS\n",
      "Bagpipes: PyMultiNest import failed, fitting will use the Nautilus sampler instead.\n",
      "Setup to use BPASS\n",
      "Fit instructions is a list. Setting individual. \n",
      "Fitting with MPI_serial: 1 galaxy per core.\n",
      "Setting fit_instructions from list.\n",
      "Setup to use BPASS\n",
      "MultiNest not available. Switching to nautilus.\n",
      "\n",
      "Bagpipes: fitting object 10090_TOTAL_BIN\n",
      "\n",
      "Setup to use BPASS\n",
      "Setup to use BPASS\n",
      "Fit instructions is a list. Setting individual. \n",
      "Fitting with MPI_serial: 1 galaxy per core.\n",
      "Bagpipes: PyMultiNest import failed, fitting will use the Nautilus sampler instead.\n",
      "Setup to use BPASS\n",
      "Bagpipes: PyMultiNest import failed, fitting will use the Nautilus sampler instead.\n",
      "Fit instructions is a list. Setting individual. \n",
      "Fitting with MPI_serial: 1 galaxy per core.\n",
      "Setting fit_instructions from list.\n",
      "Setup to use BPASS\n",
      "MultiNest not available. Switching to nautilus.\n",
      "\n",
      "Bagpipes: fitting object 8885_TOTAL_BIN\n",
      "\n",
      "Fit instructions is a list. Setting individual. \n",
      "Fitting with MPI_serial: 1 galaxy per core.\n",
      "Setting fit_instructions from list.\n",
      "MultiNest not available. Switching to nautilus.\n",
      "\n",
      "Bagpipes: fitting object 4266_TOTAL_BIN\n",
      "\n",
      "Setup to use BPASS\n",
      "Setup to use BPASS\n"
     ]
    },
    {
     "ename": "KeyboardInterrupt",
     "evalue": "",
     "output_type": "error",
     "traceback": [
      "\u001b[0;31m---------------------------------------------------------------------------\u001b[0m",
      "\u001b[0;31mKeyboardInterrupt\u001b[0m                         Traceback (most recent call last)",
      "Cell \u001b[0;32mIn[72], line 22\u001b[0m\n\u001b[1;32m     10\u001b[0m override_meta \u001b[38;5;241m=\u001b[39m {\n\u001b[1;32m     11\u001b[0m     \u001b[38;5;124m\"\u001b[39m\u001b[38;5;124mredshift\u001b[39m\u001b[38;5;124m\"\u001b[39m: \u001b[38;5;124m\"\u001b[39m\u001b[38;5;124mMAG_APER_0_32 arcsec_fsps_larson_0_05__Asada24_cgm\u001b[39m\u001b[38;5;124m\"\u001b[39m,\n\u001b[1;32m     12\u001b[0m     \u001b[38;5;124m\"\u001b[39m\u001b[38;5;124mredshift_id\u001b[39m\u001b[38;5;124m\"\u001b[39m: \u001b[38;5;124m\"\u001b[39m\u001b[38;5;124mzbest\u001b[39m\u001b[38;5;124m\"\u001b[39m,\n\u001b[0;32m   (...)\u001b[0m\n\u001b[1;32m     15\u001b[0m     \u001b[38;5;124m\"\u001b[39m\u001b[38;5;124mremove\u001b[39m\u001b[38;5;124m\"\u001b[39m: [\u001b[38;5;124m\"\u001b[39m\u001b[38;5;124mredshift_sigma\u001b[39m\u001b[38;5;124m\"\u001b[39m, \u001b[38;5;124m\"\u001b[39m\u001b[38;5;124mmin_redshift_sigma\u001b[39m\u001b[38;5;124m\"\u001b[39m],\n\u001b[1;32m     16\u001b[0m }\n\u001b[1;32m     18\u001b[0m bagpipes_configs \u001b[38;5;241m=\u001b[39m create_dicts(\n\u001b[1;32m     19\u001b[0m     continuity_dict, override_meta\u001b[38;5;241m=\u001b[39moverride_meta, num\u001b[38;5;241m=\u001b[39m\u001b[38;5;28mlen\u001b[39m(filtered_galaxies)\n\u001b[1;32m     20\u001b[0m )\n\u001b[0;32m---> 22\u001b[0m \u001b[43mfiltered_galaxies\u001b[49m\u001b[38;5;241;43m.\u001b[39;49m\u001b[43mrun_bagpipes_parallel\u001b[49m\u001b[43m(\u001b[49m\n\u001b[1;32m     23\u001b[0m \u001b[43m    \u001b[49m\u001b[43mbagpipes_configs\u001b[49m\n\u001b[1;32m     24\u001b[0m \u001b[43m)\u001b[49m\n",
      "File \u001b[0;32m/nvme/scratch/work/tharvey/EXPANSE/src/EXPANSE/ResolvedGalaxy.py:17878\u001b[0m, in \u001b[0;36mrun_bagpipes_parallel\u001b[0;34m(self, bagpipes_configs, filt_dir, fit_photometry, run_dir, n_jobs, out_subdir_name, load_only, properties_to_load, alert, overwrite, dont_skip, **kwargs)\u001b[0m\n\u001b[1;32m  17875\u001b[0m         \u001b[38;5;28;01mraise\u001b[39;00m subprocess\u001b[38;5;241m.\u001b[39mCalledProcessError(return_code, process_args)\n\u001b[1;32m  17877\u001b[0m \u001b[38;5;28;01melse\u001b[39;00m:\n\u001b[0;32m> 17878\u001b[0m     \u001b[38;5;28mprint\u001b[39m(\u001b[38;5;124m\"\u001b[39m\u001b[38;5;124mAlready run, skipping.\u001b[39m\u001b[38;5;124m\"\u001b[39m)\n\u001b[1;32m  17879\u001b[0m \u001b[38;5;66;03m# Folder for posteriors is config[galaxy]['out_dir']\u001b[39;00m\n\u001b[1;32m  17880\u001b[0m \n\u001b[1;32m  17881\u001b[0m \u001b[38;5;66;03m# Current folder will be run_dir /pipes/parallel_temp\u001b[39;00m\n\u001b[1;32m  17883\u001b[0m current_posterior_folder \u001b[38;5;241m=\u001b[39m os\u001b[38;5;241m.\u001b[39mpath\u001b[38;5;241m.\u001b[39mjoin(run_dir, \u001b[38;5;124mf\u001b[39m\u001b[38;5;124m\"\u001b[39m\u001b[38;5;124mposterior/\u001b[39m\u001b[38;5;132;01m{\u001b[39;00mout_subdir_name\u001b[38;5;132;01m}\u001b[39;00m\u001b[38;5;124m\"\u001b[39m)\n",
      "\u001b[0;31mKeyboardInterrupt\u001b[0m: "
     ]
    }
   ],
   "source": [
    "# Select the galaxies that are at deltz = 0.2\n",
    "\n",
    "idxs = np.where((np.abs(x-y) > .15) & (np.abs(x-y) < .25))[0]\n",
    "\n",
    "filtered_galaxies = galaxies[idxs]\n",
    "\n",
    "filtered_galaxies = filtered_galaxies.filter_single_bins('voronoi')\n",
    "\n",
    "\n",
    "override_meta = {\n",
    "    \"redshift\": \"MAG_APER_0_32 arcsec_fsps_larson_0_05__Asada24_cgm\",\n",
    "    \"redshift_key\": \"zbest\",\n",
    "    \"use_bpass\": True,\n",
    "    \"name_append\": \"_zfix_eazy_cgm\",\n",
    "    \"remove\": [\"redshift_sigma\", \"min_redshift_sigma\"],\n",
    "}\n",
    "\n",
    "bagpipes_configs = create_dicts(\n",
    "    continuity_dict, override_meta=override_meta, num=len(filtered_galaxies)\n",
    ")\n",
    "\n",
    "filtered_galaxies.run_bagpipes_parallel(\n",
    "    bagpipes_configs\n",
    ")"
   ]
  },
  {
   "cell_type": "markdown",
   "metadata": {},
   "source": [
    "Run these test galaxies resolved fits"
   ]
  },
  {
   "cell_type": "code",
   "execution_count": null,
   "metadata": {},
   "outputs": [],
   "source": [
    "override_meta_resolved = {\n",
    "    \"use_bpass\": True,\n",
    "    \"run_name\": \"CNST_SFH_RESOLVED_VORONOI_Asada+24_zfix\",\n",
    "    \"redshift\": \"MAG_APER_0_32 arcsec_fsps_larson_0_05__Asada24_cgm\",\n",
    "    \"redshift_key\": \"zbest\",\n",
    "}\n",
    "\n",
    "resolved_dicts_cnst = create_dicts(\n",
    "    resolved_dict_cnst,\n",
    "    num=len(filtered_galaxies),\n",
    "    override_meta=override_meta_resolved,\n",
    ")"
   ]
  }
 ],
 "metadata": {
  "kernelspec": {
   "display_name": "Python 3",
   "language": "python",
   "name": "python3"
  },
  "language_info": {
   "codemirror_mode": {
    "name": "ipython",
    "version": 3
   },
   "file_extension": ".py",
   "mimetype": "text/x-python",
   "name": "python",
   "nbconvert_exporter": "python",
   "pygments_lexer": "ipython3",
   "version": "3.10.4"
  }
 },
 "nbformat": 4,
 "nbformat_minor": 2
}
