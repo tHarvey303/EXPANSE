{
 "cells": [
  {
   "cell_type": "code",
   "execution_count": null,
   "metadata": {},
   "outputs": [],
   "source": [
    "from EXPANSE import ResolvedGalaxy\n",
    "\n",
    "from EXPANSE.utils import PhotometryBandInfo, FieldInfo\n",
    "\n",
    "import numpy as np\n",
    "import matplotlib.pyplot as plt\n",
    "from astropy import units as u\n",
    "from astropy.coordinates import SkyCoord"
   ]
  },
  {
   "cell_type": "code",
   "execution_count": null,
   "metadata": {},
   "outputs": [],
   "source": [
    "%matplotlib inline\n",
    "\n",
    "galaxy = 'z5.5_clump'\n",
    "\n",
    "survey = 'CEERSP10'\n",
    "\n",
    "skycoord = SkyCoord(ra = 214.8006397975127 * u.deg, dec = 52.734159539435865 * u.deg)\n",
    "\n",
    "nircam_bands = ['F115W', 'F150W', 'F200W', 'F277W', 'F356W', 'F410M', 'F444W']\n",
    "\n",
    "cutout_size = 100 # pixels\n",
    "\n",
    "redshift = 5.5\n",
    "\n",
    "galaxy_info = []\n",
    "\n",
    "hst_bands = ['F606W', 'F814W']\n",
    "\n",
    "# Add HST bands\n",
    "for band in hst_bands:\n",
    "    band_info = PhotometryBandInfo(band_name=band, survey=survey,\n",
    "                                image_path = f'/raid/scratch/data/hst/{survey}/ACS_WFC/30mas/',\n",
    "                                wht_path = None,\n",
    "                                err_path = 'im_folder',\n",
    "                                seg_path = f'/raid/scratch/work/austind/GALFIND_WORK/SExtractor/ACS_WFC/v9/{survey}/{survey}_{band.replace(\"F\", \"f\")}_{band.replace(\"F\", \"f\")}_sel_cat_v9_seg.fits',\n",
    "    )\n",
    "    galaxy_info.append(band_info)\n",
    "\n",
    "# Now add NIRCam bands\n",
    "for band in nircam_bands:\n",
    "    band_info = PhotometryBandInfo(band_name=band, survey=survey,\n",
    "                                    image_path = f'/raid/scratch/data/jwst/{survey}/mosaic_1084_wisptemp2_whtfix',\n",
    "                                    wht_path = 'im',\n",
    "                                    err_path = 'im',\n",
    "                                    seg_path = f'/raid/scratch/work/austind/GALFIND_WORK/SExtractor/NIRCam/v9/{survey}/{survey}_{band}_{band}_sel_cat_v9_seg.fits',\n",
    "    )\n",
    "\n",
    "    galaxy_info.append(band_info)\n",
    "\n",
    "\n",
    "# Make a FieldInfo object\n",
    "field_info = FieldInfo(galaxy_info)\n",
    "\n"
   ]
  },
  {
   "cell_type": "code",
   "execution_count": null,
   "metadata": {},
   "outputs": [],
   "source": [
    "galaxy = ResolvedGalaxy.init_from_basics(galaxy_id = galaxy, field_info = field_info, survey = survey, cutout_size=cutout_size, sky_coord=skycoord, redshift = redshift)"
   ]
  },
  {
   "cell_type": "code",
   "execution_count": null,
   "metadata": {},
   "outputs": [],
   "source": [
    "galaxy = ResolvedGalaxy.init_from_h5('CEERSP10_z5.5_clump.h5')"
   ]
  },
  {
   "cell_type": "code",
   "execution_count": null,
   "metadata": {},
   "outputs": [],
   "source": [
    "%matplotlib inline\n",
    "galaxy.plot_snr_map(\"F444W\");"
   ]
  },
  {
   "cell_type": "code",
   "execution_count": null,
   "metadata": {},
   "outputs": [],
   "source": [
    "galaxy.pixel_by_pixel_galaxy_region(snr_req=3)\n",
    "\n",
    "galaxy.pixel_by_pixel_binmap(galaxy_region = 'SNR_3_F444W', overwrite=True)\n",
    "\n",
    "tab = galaxy.measure_flux_in_bins(binmap_type='pixel_by_pixel', overwrite=True)\n",
    "\n",
    "tab"
   ]
  },
  {
   "cell_type": "code",
   "execution_count": null,
   "metadata": {},
   "outputs": [],
   "source": [
    "galaxy.plot_overview(save=False, flux_unit = u.ABmag, show=True, binmap_type = 'pixel_by_pixel',\n",
    "                    bins_to_show = [\"TOTAL_BIN\", \"1\"], \n",
    "                    bands_to_show = ['F606W', 'F115W', 'F200W', 'F356W', 'F444W'])"
   ]
  }
 ],
 "metadata": {},
 "nbformat": 4,
 "nbformat_minor": 2
}
