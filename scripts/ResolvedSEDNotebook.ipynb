{
 "cells": [
  {
   "cell_type": "code",
   "execution_count": null,
   "metadata": {},
   "outputs": [],
   "source": [
    "import astropy.units as u\n",
    "import numpy as np\n",
    "import os\n",
    "\n",
    "os.environ[\"PIXEDFIT_HOME\"] = \"/nvme/scratch/work/tharvey/piXedfit/\"\n",
    "from EXPANSE import ResolvedGalaxy, MultipleResolvedGalaxy\n",
    "from matplotlib import pyplot as plt\n",
    "import glob\n",
    "from scipy import signal\n",
    "from scipy.interpolate import interp1d\n",
    "from scipy.stats import binned_statistic\n",
    "# Change dpi to make plots larger\n",
    "\n",
    "plt.rcParams[\"figure.dpi\"] = 100\n",
    "\n",
    "# Disable tex in matplotlib\n",
    "\n",
    "plt.rcParams[\"text.usetex\"] = False\n",
    "\n",
    "# %matplotlib inline"
   ]
  },
  {
   "cell_type": "code",
   "execution_count": null,
   "metadata": {},
   "outputs": [],
   "source": [
    "\"\"\" Initialize a galaxy object - loading from galfind if necessary \"\"\"\n",
    "\n",
    "galaxy = ResolvedGalaxy.init(1438, \"JOF_psfmatched\", \"v11\")\n",
    "\n",
    "galaxy.plot_overview()\n",
    "overwrite = True\n",
    "\"\"\" Optional - make plots \"\"\"\n",
    "\n",
    "\"\"\" Do binning \"\"\"\n",
    "# galaxy.pixedfit_plot_binmap()\n",
    "\n",
    "#''' Measure fluxes in bins '''\n",
    "# tab = galaxy.measure_flux_in_bins()\n",
    "# tab\n",
    "#''' Do Bagpipes (if not done) '''\n",
    "\n",
    "#''' Plot Bagpipes results '''\n",
    "print(galaxy.det_data)\n",
    "\n",
    "#galaxy.pixedfit_processing(gal_region_use=\"detection\", overwrite=True)\n",
    "#galaxy.pixedfit_binning(overwrite=True)\n",
    "#galaxy.measure_flux_in_bins(overwrite=True)"
   ]
  },
  {
   "cell_type": "code",
   "execution_count": null,
   "metadata": {},
   "outputs": [],
   "source": [
    "galaxy.provide_bagpipes_phot(3)\n",
    "\n",
    "#galaxy.photometry_table['star_stack']['pixedfit']"
   ]
  },
  {
   "cell_type": "code",
   "execution_count": null,
   "metadata": {},
   "outputs": [],
   "source": [
    "plt.imshow(galaxy.psf_matched_data['star_stack']['F435W'], origin='lower')"
   ]
  },
  {
   "cell_type": "code",
   "execution_count": null,
   "metadata": {},
   "outputs": [],
   "source": [
    "print(galaxy.photometry_table['star_stack'])"
   ]
  },
  {
   "cell_type": "code",
   "execution_count": null,
   "metadata": {},
   "outputs": [],
   "source": [
    "ez = galaxy.fit_eazy_photometry(fluxes=np.array([0.1]*19)* u.uJy, flux_errs=np.array([0.01]*19) *u.uJy, run_name=\"test\")"
   ]
  },
  {
   "cell_type": "code",
   "execution_count": null,
   "metadata": {},
   "outputs": [],
   "source": [
    "ez.show_fit(0)\n"
   ]
  },
  {
   "cell_type": "code",
   "execution_count": null,
   "metadata": {},
   "outputs": [],
   "source": [
    "galaxy.add_detection_data(overwrite = True)"
   ]
  },
  {
   "cell_type": "code",
   "execution_count": null,
   "metadata": {},
   "outputs": [],
   "source": [
    "print(galaxy.cutout_size)\n",
    "\n",
    "galaxy.pixedfit_processing(gal_region_use=\"detection\",)"
   ]
  },
  {
   "cell_type": "code",
   "execution_count": null,
   "metadata": {},
   "outputs": [],
   "source": [
    "%matplotlib inline\n",
    "print(np.shape(galaxy.gal_region['detection']))\n",
    "\n",
    "print(np.shape(galaxy.det_data['rms_err']))"
   ]
  },
  {
   "cell_type": "code",
   "execution_count": null,
   "metadata": {},
   "outputs": [],
   "source": [
    " galaxy.add_flux_aper_total(catalogue_path=\"/raid/scratch/work/austind/GALFIND_WORK/Catalogues/v11/ACS_WFC+NIRCam/JOF_psfmatched/JOF_psfmatched_MASTER_Sel-F277W+F356W+F444W_v11_total.fits\",\n",
    "                overwrite=True)\n",
    "\n",
    "galaxy.measure_flux_in_bins(overwrite=True)"
   ]
  },
  {
   "cell_type": "code",
   "execution_count": null,
   "metadata": {},
   "outputs": [],
   "source": [
    "galaxy.plot_overview(save=True, flux_unit = u.ABmag, bands_to_show = ['F435W', 'F606W', 'F775W', 'F814W', 'F850LP'], show=True);\n"
   ]
  },
  {
   "cell_type": "code",
   "execution_count": null,
   "metadata": {},
   "outputs": [],
   "source": [
    "data =galaxy.psf_matched_data['star_stack']['F606W']\n",
    "\n",
    "from photutils import CircularAperture, CircularAnnulus, aperture_photometry\n",
    "\n",
    "positions = [(data.shape[1]/2, data.shape[0]/2)]\n",
    "apertures = CircularAperture(positions, r=0.16/0.03)\n",
    "\n",
    "phot_table = aperture_photometry(data, apertures)\n",
    "\n",
    "d = phot_table['aperture_sum'] * u.uJy\n",
    "\n"
   ]
  },
  {
   "cell_type": "code",
   "execution_count": null,
   "metadata": {},
   "outputs": [],
   "source": [
    "db_atlas_path = f'/nvme/scratch/work/tharvey/EXPANSE/scripts/pregrids/db_atlas_JOF_10000_Nparam_3.dbatlas'\n",
    "\n",
    "fit_results = galaxy.run_dense_basis(db_atlas_path, plot=True)"
   ]
  },
  {
   "cell_type": "code",
   "execution_count": null,
   "metadata": {},
   "outputs": [],
   "source": [
    "fit_results[0].plot_posteriors();"
   ]
  },
  {
   "cell_type": "code",
   "execution_count": null,
   "metadata": {},
   "outputs": [],
   "source": [
    "fit_results[0].plot_posterior_SFH(fit_results[0].z[0])"
   ]
  },
  {
   "cell_type": "code",
   "execution_count": null,
   "metadata": {},
   "outputs": [],
   "source": [
    "from EXPANSE.dense_basis import get_priors\n",
    "priors = get_priors(db_atlas_path)\n",
    "\n",
    "galaxy.get_filter_wavs()\n",
    "\n",
    "wavs = np.array([galaxy.filter_wavs[band].to(u.Angstrom).value for band in galaxy.bands])\n",
    "\n",
    "fit_results[0].plot_posterior_spec(wavs, priors)"
   ]
  },
  {
   "cell_type": "code",
   "execution_count": null,
   "metadata": {},
   "outputs": [],
   "source": [
    "galaxies = MultipleResolvedGalaxy(\n",
    "    ResolvedGalaxy.init_all_field_from_h5(\"JOF_psfmatched\")\n",
    ")\n",
    "\n",
    "#galaxies.run_function(\"plot_overview\", save=True)\n",
    "galaxies.mass_comparison_plot(\"photoz_delayed\", \"CNST_SFH_RESOLVED\", label = True, markersize = 4, markeredgecolor = 'black', markeredgewidth = 0.5, elinewidth = 1);"
   ]
  },
  {
   "cell_type": "code",
   "execution_count": null,
   "metadata": {},
   "outputs": [],
   "source": [
    "galaxy.provide_bagpipes_phot(\"TOTAL_BIN\")"
   ]
  },
  {
   "cell_type": "code",
   "execution_count": null,
   "metadata": {},
   "outputs": [],
   "source": [
    "from astropy.io import fits\n",
    "\n",
    "err = galaxy.psf_matched_rms_err[\"star_stack\"][\"F444W\"]\n",
    "im = galaxy.psf_matched_data[\"star_stack\"][\"F444W\"]\n",
    "seg = galaxy.seg_imgs[\"F444W\"]\n",
    "header = fits.Header.fromstring(galaxy.phot_img_headers[\"F444W\"])\n",
    "exptime = header[\"XPOSURE\"]\n",
    "\n",
    "\n",
    "# convert data to uJy/arcsec2\n",
    "\n",
    "im2 = im / 0.000899999999999999  # / Nominal pixel area in arcsec^2\n",
    "im2 /= 9.225489294810032  # / Flux density (uJy/arcsec2) producing 1 cps\n",
    "im2 *= exptime  # counts\n",
    "poission_err = np.sqrt(np.sqrt(im2**2))\n",
    "\n",
    "# convert error to uJy\n",
    "poission_err /= exptime\n",
    "poission_err *= 0.000899999999999999\n",
    "poission_err *= 9.225489294810032\n",
    "\n",
    "\n",
    "# a = binned_statistic_2d(im.flatten(), err.flatten(), err.flatten(), bins=100)\n",
    "b = binned_statistic(im.flatten(), err.flatten(), bins=100)\n",
    "\n",
    "g = interp1d(b.bin_edges[1:], b.statistic, kind=\"linear\", fill_value=\"extrapolate\")\n",
    "\n",
    "import statsmodels.api as sm\n",
    "\n",
    "lowess = sm.nonparametric.lowess\n",
    "z = lowess(err.flatten(), im.flatten(), frac=0.1)\n",
    "plt.plot(z[:, 0], z[:, 1], label=\"lowess\", color=\"red\")\n",
    "\n",
    "plt.scatter(im.flatten(), err.flatten(), s=1)\n",
    "# plt.plot(b.bin_edges[1:], b.statistic, label='binned', color='red')\n",
    "\n",
    "plt.show()\n",
    "\n",
    "\n",
    "fig, ax = plt.subplots(nrows=1, ncols=4, figsize=(13, 8))\n",
    "\n",
    "\n",
    "one = ax[0].imshow(\n",
    "    im,\n",
    "    origin=\"lower\",\n",
    ")\n",
    "# import make_axes_locatable\n",
    "from mpl_toolkits.axes_grid1 import make_axes_locatable\n",
    "\n",
    "ax[0].set_title(\"Data\")\n",
    "ax[1].set_title(\"Error\")\n",
    "\n",
    "\n",
    "snr_map = im / err\n",
    "mask = snr_map > 8\n",
    "\n",
    "# Median underestimate of error in mask\n",
    "scaling = np.median(err[mask] / poission_err[mask])\n",
    "\n",
    "# poission_err *= scaling\n",
    "\n",
    "# Make fake error map from im using lowess\n",
    "f = interp1d(z[:, 0], z[:, 1], kind=\"cubic\", fill_value=\"extrapolate\")\n",
    "ferr = f(im)\n",
    "\n",
    "poission_err = ferr\n",
    "[\n",
    "    a.tick_params(\n",
    "        axis=\"both\",\n",
    "        which=\"both\",\n",
    "        bottom=False,\n",
    "        top=False,\n",
    "        labelbottom=False,\n",
    "        right=False,\n",
    "        left=False,\n",
    "        labelleft=False,\n",
    "    )\n",
    "    for a in ax\n",
    "]\n",
    "two = ax[1].imshow(err, origin=\"lower\")\n",
    "ax[2].set_title(\"Model Err\")\n",
    "three = ax[2].imshow(poission_err, origin=\"lower\")\n",
    "\n",
    "ax[3].set_title(\"Err / Model Err\")\n",
    "four = ax[3].imshow(err / poission_err, origin=\"lower\", vmax=1.1, vmin=0.9)\n",
    "\n",
    "# Interpolate error as function of data signale\n",
    "\n",
    "\n",
    "# ax[3].imshow(mask, origin='lower', alpha=0.5)\n",
    "\n",
    "# ax[3].imshow(seg, origin='lower', alpha=0.5)\n",
    "\n",
    "# Any pixel with SNR > 3 should use the\n",
    "\n",
    "\n",
    "cax1 = make_axes_locatable(ax[0]).append_axes(\"right\", size=\"5%\", pad=0.05)\n",
    "fig.colorbar(mappable=one, cax=cax1)\n",
    "cax2 = make_axes_locatable(ax[1]).append_axes(\"right\", size=\"5%\", pad=0.05)\n",
    "fig.colorbar(mappable=two, cax=cax2)\n",
    "cax3 = make_axes_locatable(ax[2]).append_axes(\"right\", size=\"5%\", pad=0.05)\n",
    "fig.colorbar(mappable=three, cax=cax3)\n",
    "cax4 = make_axes_locatable(ax[3]).append_axes(\"right\", size=\"5%\", pad=0.05)\n",
    "fig.colorbar(mappable=four, cax=cax4)\n",
    "plt.show()\n",
    "\n",
    "\n",
    "correlated_noise = err - poission_err\n",
    "\n",
    "\n",
    "plt.imshow(correlated_noise / err, origin=\"lower\")\n",
    "plt.colorbar()\n",
    "\n",
    "# 9.225489294810032 / Flux density (uJy/arcsec2) producing 1 cps\n",
    "# 0.000899999999999999 / Nominal pixel area in arcsec^2\n",
    "# Estimate a fake error map\n",
    "\n",
    "\n",
    "def generate_correlated_noise(shape, correlation_length):\n",
    "    # Generate white noise\n",
    "    white_noise = np.random.normal(0, 1, shape)\n",
    "\n",
    "    # Create a 2D Gaussian kernel for correlation\n",
    "    x, y = np.meshgrid(\n",
    "        np.arange(-3 * correlation_length, 3 * correlation_length + 1),\n",
    "        np.arange(-3 * correlation_length, 3 * correlation_length + 1),\n",
    "    )\n",
    "    kernel = np.exp(-(x**2 + y**2) / (2 * correlation_length**2))\n",
    "    kernel /= kernel.sum()\n",
    "\n",
    "    # Convolve white noise with the Gaussian kernel\n",
    "    correlated_noise = signal.convolve2d(\n",
    "        white_noise, kernel, mode=\"same\", boundary=\"wrap\"\n",
    "    )\n",
    "\n",
    "    # Normalize to maintain original standard deviation\n",
    "    correlated_noise *= white_noise.std() / correlated_noise.std()\n",
    "\n",
    "    return correlated_noise\n",
    "\n",
    "\n",
    "sim_correlated_noise = generate_correlated_noise(im.shape, 1.5)\n",
    "\n",
    "fig, ax = plt.subplots(nrows=1, ncols=2, figsize=(10, 5))\n",
    "# Scale to match real correlated noise\n",
    "sim_correlated_noise *= poission_err.std() / sim_correlated_noise.std()\n",
    "\n",
    "q = ax[1].imshow(sim_correlated_noise, origin=\"lower\")\n",
    "plt.colorbar(q)\n",
    "ax[1].set_title(\"Simulated Correlated Noise\")\n",
    "\n",
    "x = ax[0].imshow(correlated_noise, origin=\"lower\")\n",
    "plt.colorbar(x)\n",
    "ax[0].set_title(\"Correlated Noise\")\n",
    "\n",
    "\n",
    "# Repeat for full image.\n",
    "\n",
    "# Load full_image and error"
   ]
  },
  {
   "cell_type": "code",
   "execution_count": null,
   "metadata": {},
   "outputs": [],
   "source": [
    "possible_galaxies = glob.glob(\"galaxies/JOF_psfmatched_*.h5\")\n",
    "ids = [int(g.split(\"_\")[-1].split(\".\")[0]) for g in possible_galaxies]\n",
    "print(ids)\n",
    "galaxies = ResolvedGalaxy.init(ids, \"JOF_psfmatched\", \"v11\")\n",
    "from itertools import cycle\n",
    "\n",
    "colors = cycle(plt.rcParams[\"axes.prop_cycle\"].by_key()[\"color\"])\n",
    "\n",
    "# import GridSpec\n",
    "from matplotlib.gridspec import GridSpec\n",
    "\n",
    "fig = plt.figure(figsize=(10, 10))\n",
    "gs = GridSpec(2, 4, figure=fig)\n",
    "\n",
    "# scatter axis\n",
    "ax1 = fig.add_subplot(gs[0, :2])\n",
    "band = \"F090W\"\n",
    "data_type = \"PSF\"\n",
    "\n",
    "total_err = []\n",
    "total_data = []\n",
    "data_type = \"ORIGINAL\"\n",
    "\n",
    "\n",
    "for pos, galaxy in enumerate(galaxies):\n",
    "    if data_type == \"PSF\":\n",
    "        err = galaxy.psf_matched_rms_err[\"star_stack\"][band]\n",
    "        im = galaxy.psf_matched_data[\"star_stack\"][band]\n",
    "    elif data_type == \"ORIGINAL\":\n",
    "        im = galaxy.unmatched_data[band]\n",
    "        err = galaxy.unmatched_rms_err[band]\n",
    "    else:\n",
    "        breakmeee\n",
    "\n",
    "    plt.scatter(\n",
    "        im.flatten(),\n",
    "        err.flatten(),\n",
    "        s=1,\n",
    "        color=next(colors),\n",
    "        label=f\"{galaxy.galaxy_id}\",\n",
    "        alpha=0.5,\n",
    "    )\n",
    "    total_err += list(err.flatten())\n",
    "    total_data += list(im.flatten())\n",
    "\n",
    "total_data = np.array(total_data)\n",
    "total_err = np.array(total_err)\n",
    "\n",
    "\n",
    "# Remove duplicates and reorder\n",
    "unique_x, unique_indices = np.unique(total_data, return_index=True)\n",
    "x_unique = total_data[unique_indices]\n",
    "y_unique = total_err[unique_indices]\n",
    "\n",
    "lowess = sm.nonparametric.lowess(y_unique, x_unique, frac=0.1)\n",
    "# unpack the lowess smoothed points to their values\n",
    "lowess_x = list(zip(*lowess))[0]\n",
    "lowess_y = list(zip(*lowess))[1]\n",
    "\n",
    "# run scipy's interpolation. There is also extrapolation I believe\n",
    "f = interp1d(lowess_x, lowess_y, bounds_error=False)\n",
    "\n",
    "\n",
    "# Spline interpolation\n",
    "# f = interp1d(x_unique, y_unique, kind='slinear', fill_value='extrapolate')\n",
    "# f = UnivariateSpline(x_unique, y_unique, s=0.05, k =5)\n",
    "\n",
    "# Create a finer grid for the interpolated values\n",
    "x_fine = np.linspace(x_unique[0], x_unique[-1], 200)\n",
    "y_fine = f(x_fine)\n",
    "\n",
    "\n",
    "plt.plot(x_fine, y_fine, color=\"black\", label=\"Spline Interpolation\")\n",
    "\n",
    "plt.xlabel(\"Data\")\n",
    "plt.ylabel(\"Error\")\n",
    "plt.legend()\n",
    "plt.show()\n",
    "\n",
    "\n",
    "print(f(0.015))"
   ]
  },
  {
   "cell_type": "code",
   "execution_count": null,
   "metadata": {},
   "outputs": [],
   "source": [
    "data = galaxy.im_paths[\"F444W\"]\n",
    "err = galaxy.rms_err_paths[\"F444W\"]\n",
    "\n",
    "data = fits.getdata(data, ext=galaxy.im_exts[\"F444W\"])\n",
    "err = fits.getdata(err, ext=galaxy.rms_err_exts[\"F444W\"])\n",
    "\n",
    "# Data is in MJy/sr with 0.03 arcsec pixels\n",
    "# Convert to uJy\n",
    "\n",
    "data *= 1e12  # MJy to uJy\n",
    "data *= 2.11590909090909e-14  # pixel area in sr\n",
    "\n",
    "err *= 1e12\n",
    "err *= 2.11590909090909e-14\n",
    "\n",
    "plt.scatter(data.flatten(), err.flatten(), s=1)\n",
    "\n",
    "plt.plot(z[:, 0], z[:, 1], label=\"lowess\", color=\"red\")"
   ]
  },
  {
   "cell_type": "code",
   "execution_count": null,
   "metadata": {},
   "outputs": [],
   "source": [
    "test = np.random.uniform(0, 1, (100, 64, 64))\n",
    "# Generate more interesting test data\n",
    "# Gaussian with sigma set by distance from center\n",
    "x = np.linspace(-3, 3, 64)\n",
    "y = np.linspace(-3, 3, 64)\n",
    "x, y = np.meshgrid(x, y)\n",
    "z = np.exp(-0.5 * (x**2 + y**2))\n",
    "z = z[np.newaxis, :, :]\n",
    "test = np.repeat(z, 100, axis=0)\n",
    "test += np.random.normal(0, 0.1, test.shape)\n",
    "test[test < 0] = 0\n",
    "\n",
    "\n",
    "html = galaxy.make_animation(test, save=False, html=True, n_draws=50)\n",
    "\n",
    "from IPython.display import HTML\n",
    "\n",
    "HTML(html)"
   ]
  },
  {
   "cell_type": "code",
   "execution_count": null,
   "metadata": {},
   "outputs": [],
   "source": [
    "html = galaxy.plot_bagpipes_map_gif(\n",
    "    parameter=\"stellar_mass\", weight_mass_sfr=True, logmap=True\n",
    ")\n",
    "\n",
    "from IPython.display import HTML\n",
    "\n",
    "HTML(html)"
   ]
  },
  {
   "cell_type": "code",
   "execution_count": null,
   "metadata": {},
   "outputs": [],
   "source": [
    "galaxy.photometry_property_names"
   ]
  },
  {
   "cell_type": "code",
   "execution_count": null,
   "metadata": {},
   "outputs": [],
   "source": [
    "galaxy.plot_cutouts()"
   ]
  },
  {
   "cell_type": "code",
   "execution_count": null,
   "metadata": {},
   "outputs": [],
   "source": [
    "plt.rcParams[\"figure.dpi\"] = 300\n",
    "%matplotlib inline\n",
    "\n",
    "galaxy.plot_photometry_bins()\n",
    "\n",
    "plt.show()"
   ]
  },
  {
   "cell_type": "code",
   "execution_count": null,
   "metadata": {},
   "outputs": [],
   "source": [
    "print(tab)"
   ]
  },
  {
   "cell_type": "code",
   "execution_count": null,
   "metadata": {},
   "outputs": [],
   "source": [
    "# Simple test Bagpipes fit_instructions\n",
    "\n",
    "sfh = {\n",
    "    \"age_max\": (0.03, 1),  # Gyr\n",
    "    \"age_min\": (0, 0.5),  # Gyr\n",
    "    \"metallicity\": (1e-3, 2.5),  # solar\n",
    "    \"massformed\": (4, 12),  # log mstar/msun\n",
    "}\n",
    "\n",
    "nebular = {}\n",
    "nebular[\"logU\"] = -2.0\n",
    "\n",
    "dust = {}\n",
    "dust[\"type\"] = \"Calzetti\"\n",
    "dust[\"Av\"] = (0, 5.0)\n",
    "\n",
    "fit_instructions = {\n",
    "    \"t_bc\": 0.01,\n",
    "    \"constant\": sfh,\n",
    "    \"nebular\": nebular,\n",
    "    \"dust\": dust,\n",
    "}\n",
    "meta = {\"run_name\": \"initial_test_cnst_sfh\"}\n",
    "\n",
    "overall_dict = {\"meta\": meta, \"fit_instructions\": fit_instructions}\n",
    "\n",
    "galaxy.run_bagpipes(overall_dict, overwrite=False)"
   ]
  },
  {
   "cell_type": "code",
   "execution_count": null,
   "metadata": {},
   "outputs": [],
   "source": [
    "%matplotlib inline\n",
    "plt.rcParams[\"figure.dpi\"] = 300\n",
    "galaxy.plot_bagpipes_results(\"initial_test_cnst_sfh\", reload_from_cat=False)\n",
    "galaxy.plot_bagpipes_results(\n",
    "    \"initial_test_cnst_sfh\", reload_from_cat=False, weight_mass_sfr=False\n",
    ")\n",
    "plt.show()"
   ]
  },
  {
   "cell_type": "code",
   "execution_count": null,
   "metadata": {},
   "outputs": [],
   "source": [
    "plt.rcParams[\"figure.dpi\"] = 300\n",
    "galaxy.plot_bagpipes_sed(\"initial_test_cnst_sfh\", bins_to_show=[1, 16, 15]);"
   ]
  },
  {
   "cell_type": "code",
   "execution_count": null,
   "metadata": {},
   "outputs": [],
   "source": [
    "galaxy.plot_bagpipes_component_comparison(\n",
    "    run_name=\"initial_test_cnst_sfh\", n_draws=10000\n",
    ")"
   ]
  },
  {
   "cell_type": "code",
   "execution_count": null,
   "metadata": {},
   "outputs": [],
   "source": [
    "galaxy.plot_bagpipes_corner(run_name=\"initial_test_cnst_sfh\");"
   ]
  },
  {
   "cell_type": "code",
   "execution_count": null,
   "metadata": {},
   "outputs": [],
   "source": [
    "galaxy.plot_bagpipes_sfh(\n",
    "    run_name=\"initial_test_cnst_sfh\",\n",
    "    bins_to_show=[\n",
    "        \"16\",\n",
    "        \"MAG_APER_0.32 arcsec\",\n",
    "        \"RESOLVED\",\n",
    "        \"MAG_BEST\",\n",
    "        \"MAG_AUTO\",\n",
    "        \"MAG_ISO\",\n",
    "        \"TOTAL_BIN\",\n",
    "    ],\n",
    ");"
   ]
  },
  {
   "cell_type": "code",
   "execution_count": null,
   "metadata": {},
   "outputs": [],
   "source": [
    "table = galaxy.sed_fitting_table[\"bagpipes\"][\"initial_test_cnst_sfh\"]\n",
    "mask = [len(i) <= 2 for i in table[\"#ID\"]]\n",
    "filtered_table = table[mask]\n",
    "\n",
    "print(\n",
    "    f'Combined stellar mass is log10 Mstar = {np.log10(np.sum(10**filtered_table[\"stellar_mass_50\"])):.2f}'\n",
    ")"
   ]
  },
  {
   "cell_type": "code",
   "execution_count": null,
   "metadata": {},
   "outputs": [],
   "source": [
    "galaxy.init_galfind_phot()"
   ]
  },
  {
   "cell_type": "code",
   "execution_count": null,
   "metadata": {},
   "outputs": [],
   "source": [
    "rest_UV_wav_lims = [1250.0, 3000.0] * u.Angstrom\n",
    "ref_wav = 1_500.0 * u.AA\n",
    "conv_author_year = \"M99\"\n",
    "kappa_UV_conv_author_year = \"MD14\"\n",
    "dust_author_year = \"M99\"\n",
    "load_in = False\n",
    "# galaxy.galfind_phot_property_map('beta_phot', rest_UV_wav_lims = rest_UV_wav_lims, load_in = load_in);\n",
    "# galaxy.galfind_phot_property_map('mUV_phot', rest_UV_wav_lims = rest_UV_wav_lims, ref_wav = ref_wav, load_in = load_in);\n",
    "\"\"\"\n",
    "print(galaxy.galfind_photometry_rest[bin].flux_Jy)\n",
    "print(galaxy.galfind_photometry_rest[bin].properties)\n",
    "\n",
    "bin = 'TOTAL_BIN'\n",
    "print(galaxy.galfind_photometry_rest[bin].flux_Jy)\n",
    "print(galaxy.galfind_photometry_rest[bin].properties)\n",
    "bin = 'MAG_APER_0.32 arcsec'\n",
    "\n",
    "\n",
    "phot_obj = copy.deepcopy(galaxy.galfind_photometry_rest[bin])\n",
    "func = phot_obj.calc_SFR_UV_phot\n",
    "phot_obj._calc_property(func,rest_UV_wav_lims = rest_UV_wav_lims, frame = 'obs', iters = 150,\n",
    "                        kappa_UV_conv_author_year = kappa_UV_conv_author_year, dust_author_year = dust_author_year,\n",
    "                        ref_wav = ref_wav)\n",
    "props = phot_obj.properties\n",
    "print(props)\n",
    "\"\"\"\n",
    "\n",
    "\n",
    "# galaxy.galfind_phot_property_map('MUV_phot', rest_UV_wav_lims = rest_UV_wav_lims, ref_wav = ref_wav, load_in = load_in);\n",
    "# galaxy.galfind_phot_property_map('SFR_UV_phot', rest_UV_wav_lims = rest_UV_wav_lims, frame = 'obs', iters = 150,\n",
    "#                                kappa_UV_conv_author_year = kappa_UV_conv_author_year, dust_author_year = dust_author_year,\n",
    "#                                ref_wav = ref_wav, density = True, logmap = True, load_in = load_in);\n",
    "\n",
    "\n",
    "galaxy.galfind_phot_property_map(\n",
    "    \"SFR_UV_phot\",\n",
    "    rest_UV_wav_lims=rest_UV_wav_lims,\n",
    "    frame=\"obs\",\n",
    "    iters=150,\n",
    "    kappa_UV_conv_author_year=kappa_UV_conv_author_year,\n",
    "    dust_author_year=dust_author_year,\n",
    "    ref_wav=ref_wav,\n",
    "    density=False,\n",
    ");\n",
    "\n",
    "# galaxy.galfind_photometry_rest['1'].get_rest_UV_phot(rest_UV_wav_lims).flux_Jy"
   ]
  },
  {
   "cell_type": "code",
   "execution_count": null,
   "metadata": {},
   "outputs": [],
   "source": [
    "print(galaxy.M1500.unit)"
   ]
  },
  {
   "cell_type": "code",
   "execution_count": null,
   "metadata": {},
   "outputs": [],
   "source": [
    "galaxy.galfind_photometry_rest[\"5\"].get_rest_UV_phot(rest_UV_wav_lims).flux_Jy_errs"
   ]
  },
  {
   "cell_type": "code",
   "execution_count": null,
   "metadata": {},
   "outputs": [],
   "source": [
    "phot1 = galaxy.galfind_photometry_rest[\"1\"]\n",
    "\n",
    "phot2 = galaxy.galfind_photometry_rest[\"2\"].property_PDFs\n",
    "\n",
    "print(phot1.get_rest_UV_phot(rest_UV_wav_lims).flux_Jy)\n",
    "\n",
    "print(phot2)"
   ]
  },
  {
   "cell_type": "code",
   "execution_count": null,
   "metadata": {},
   "outputs": [],
   "source": [
    "print(galaxy.available_em_lines)\n",
    "\n",
    "plt.rcParams[\"figure.dpi\"] = 300\n",
    "galaxy.plot_ew_figure(medium_bands_only=False);\n",
    "\n",
    "\n",
    "# galaxy.galfind_phot_property_map('EW_rest_optical', line_names = ['[OII]-3727'], medium_bands_only = False, plot=True);"
   ]
  },
  {
   "cell_type": "markdown",
   "metadata": {},
   "source": [
    "### Investigating JOF psfmatched 830"
   ]
  },
  {
   "cell_type": "code",
   "execution_count": null,
   "metadata": {},
   "outputs": [],
   "source": [
    "galaxy = ResolvedGalaxy.init(830, \"JOF_psfmatched\", \"v11\")\n"
   ]
  },
  {
   "cell_type": "code",
   "execution_count": null,
   "metadata": {},
   "outputs": [],
   "source": [
    "band = \"F814W\"\n",
    "\n",
    "data = galaxy.psf_matched_data[\"star_stack\"][band]\n",
    "\n",
    "mask = galaxy.gal_region['pixedfit'].astype(bool)\n",
    "\n",
    "signal_data = np.sum(data[mask])\n",
    "\n",
    "print(f'Signal data in pixedfit mask for {band} is {signal_data}')\n",
    "\n",
    "# 0.007593571674078703 - in table"
   ]
  },
  {
   "cell_type": "code",
   "execution_count": null,
   "metadata": {},
   "outputs": [],
   "source": [
    "a, b, theta = galaxy.plot_kron_ellipse(return_params=True, ax = None, center = None)\n",
    "\n",
    "print(params)"
   ]
  },
  {
   "cell_type": "code",
   "execution_count": null,
   "metadata": {},
   "outputs": [],
   "source": [
    "galaxy.photometry_table['star_stack']['pixedfit']\n",
    "\n",
    "galaxy.plot_photometry_bins(label_individual=False, bins_to_show = ['TOTAL_BIN',  'MAG_APER_0.32 arcsec', 'MAG_APER_TOTAL',], flux_unit=u.uJy)\n",
    "\n",
    "# get flux in ellipse using photitls\n",
    "\n",
    "from photutils import EllipticalAperture\n",
    "center = (np.shape(data)[0]/2, np.shape(data)[1]/2)\n",
    "\n",
    "print(center)\n",
    "\n",
    "print(center)\n",
    "aperture = EllipticalAperture(center, a, b, theta)\n",
    "\n",
    "phot = aperture.do_photometry(data)\n",
    "\n",
    "phot = phot[0] * u.uJy\n",
    "\n",
    "print('phot kron', phot.to(u.ABmag))\n",
    "\n",
    "# Get flux in 0.32 arcsec aperture\n",
    "\n",
    "from photutils import CircularAperture\n",
    "\n",
    "aperture = CircularAperture(center, 0.16/0.03)\n",
    "\n",
    "phot = aperture.do_photometry(data)\n",
    "\n",
    "phot = phot[0] * u.uJy\n",
    "\n",
    "print('phot aper', phot.to(u.ABmag))\n"
   ]
  },
  {
   "cell_type": "code",
   "execution_count": null,
   "metadata": {},
   "outputs": [],
   "source": [
    "print(galaxy.im_zps)"
   ]
  }
 ],
 "metadata": {},
 "nbformat": 4,
 "nbformat_minor": 2
}
