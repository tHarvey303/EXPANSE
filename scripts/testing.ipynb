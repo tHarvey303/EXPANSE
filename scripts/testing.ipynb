{
 "cells": [
  {
   "cell_type": "code",
   "execution_count": null,
   "metadata": {},
   "outputs": [],
   "source": [
    "import holoviews as hv\n",
    "from holoviews import opts, streams\n",
    "\n",
    "hv.extension('bokeh')\n",
    "\n",
    "import numpy as np"
   ]
  },
  {
   "cell_type": "code",
   "execution_count": null,
   "metadata": {},
   "outputs": [],
   "source": [
    "poly = hv.Polygons([])\n",
    "\n",
    "boxes = hv.Rectangles([])\n",
    "\n",
    "points = hv.Points([])\n",
    "\n",
    "#paths = hv.Path([])\n",
    "\n",
    "\n",
    "poly_stream = streams.PolyDraw(source=poly, drag=True, num_objects=30,\n",
    "                               show_vertices=False, styles={\n",
    "                                   'fill_color': ['red']\n",
    "                               })\n",
    "\n",
    "box_stream = streams.BoxEdit(source=boxes, num_objects=30)\n",
    "\n",
    "points_stream = streams.PointDraw(source=points, num_objects=30)\n",
    "\n",
    "#freehand_stream = streams.FreehandDraw(source=paths, num_objects=30)\n",
    "\n",
    "\n",
    "\n",
    "# make a random image\n",
    "\n",
    "image = hv.Image(np.random.rand(100, 100), bounds=(0, 0, 10, 10))\n",
    "\n",
    "(image * poly * boxes * points).opts(\n",
    "    opts.Image(cmap='gray'),\n",
    "    opts.Rectangles(fill_alpha=0.3, active_tools=['box_edit']),\n",
    "    opts.Polygons(fill_alpha=0.3, active_tools=['poly_draw']),\n",
    "    opts.Points(active_tools=['point_draw'], size=100, fill_color='none'),\n",
    "    #opts.Path(active_tools=['freehand_draw'])\n",
    ")\n",
    "\n",
    "# Display a list of points\n",
    "\n",
    "\n"
   ]
  },
  {
   "cell_type": "code",
   "execution_count": null,
   "metadata": {},
   "outputs": [],
   "source": [
    "print(points_stream.data)"
   ]
  },
  {
   "cell_type": "code",
   "execution_count": null,
   "metadata": {},
   "outputs": [],
   "source": [
    "import os\n",
    "import sys\n",
    "\n",
    "os.environ[\"PIXEDFIT_HOME\"] = \"/nvme/scratch/work/tharvey/piXedfit/\"\n",
    "from matplotlib import pyplot as plt\n",
    "from ResolvedGalaxy import ResolvedGalaxy\n",
    "\n",
    "# Change dpi to make plots larger\n",
    "\n",
    "plt.rcParams[\"figure.dpi\"] = 100\n",
    "\n",
    "# Disable tex in matplotlib\n",
    "\n",
    "plt.rcParams[\"text.usetex\"] = False\n",
    "\n",
    "%matplotlib inline"
   ]
  },
  {
   "cell_type": "code",
   "execution_count": null,
   "metadata": {},
   "outputs": [],
   "source": [
    "from piXedfit.utils.filtering import list_filters\n",
    "\n",
    "filters = list_filters()"
   ]
  },
  {
   "cell_type": "code",
   "execution_count": null,
   "metadata": {},
   "outputs": [],
   "source": [
    "# galaxy = ResolvedGalaxy.init_from_galfind(2506, 'JOF', 'v11')#, excl_bands = ['F435W', 'F775W', 'F850LP'])\n",
    "# galaxy.dump_to_h5()\n",
    "\n",
    "galaxy = ResolvedGalaxy.init(5371, \"JOF\", \"v11\")\n",
    "%matplotlib inline\n",
    "# galaxy = ResolvedGalaxy.init(2506, 'JOF', 'v11')"
   ]
  },
  {
   "cell_type": "code",
   "execution_count": null,
   "metadata": {},
   "outputs": [],
   "source": [
    "print(galaxy.psf_kernels)"
   ]
  },
  {
   "cell_type": "code",
   "execution_count": null,
   "metadata": {},
   "outputs": [],
   "source": [
    "galaxy.get_webbpsf(plot=False, overwrite=False)"
   ]
  },
  {
   "cell_type": "code",
   "execution_count": null,
   "metadata": {},
   "outputs": [],
   "source": [
    "galaxy.estimate_rms_from_background(plot=True)\n",
    "plt.show()"
   ]
  },
  {
   "cell_type": "code",
   "execution_count": null,
   "metadata": {},
   "outputs": [],
   "source": [
    "galaxy.estimate_rms_from_background(plot=True, object_distance=30)\n",
    "plt.show()"
   ]
  },
  {
   "cell_type": "code",
   "execution_count": null,
   "metadata": {},
   "outputs": [],
   "source": [
    "img_processing = galaxy.pixedfit_processing(\n",
    "    seg_combine=[\"F277W\", \"F356W\", \"F444W\"], use_galfind_seg=True\n",
    ")"
   ]
  },
  {
   "cell_type": "code",
   "execution_count": null,
   "metadata": {},
   "outputs": [],
   "source": [
    "galaxy.plot_image_stamps()"
   ]
  },
  {
   "cell_type": "code",
   "execution_count": null,
   "metadata": {},
   "outputs": [],
   "source": [
    "galaxy.plot_gal_region()"
   ]
  },
  {
   "cell_type": "code",
   "execution_count": null,
   "metadata": {},
   "outputs": [],
   "source": [
    "galaxy.plot_snr_map()"
   ]
  },
  {
   "cell_type": "code",
   "execution_count": null,
   "metadata": {},
   "outputs": [],
   "source": [
    "galaxy.plot_image_stamp(\"F444W\")"
   ]
  },
  {
   "cell_type": "code",
   "execution_count": null,
   "metadata": {},
   "outputs": [],
   "source": [
    "galaxy.pixedfit_plot_map_fluxes()"
   ]
  },
  {
   "cell_type": "code",
   "execution_count": null,
   "metadata": {},
   "outputs": [],
   "source": [
    "galaxy.pixedfit_plot_radial_SNR()\n",
    "plt.show()"
   ]
  },
  {
   "cell_type": "code",
   "execution_count": null,
   "metadata": {},
   "outputs": [],
   "source": [
    "%matplotlib inline\n",
    "galaxy.pixedfit_binning(SNR_reqs=10, ref_band=\"F444W\", min_band=\"F115W\", overwrite=True)\n",
    "galaxy.pixedfit_plot_binmap()"
   ]
  },
  {
   "cell_type": "code",
   "execution_count": null,
   "metadata": {},
   "outputs": [],
   "source": [
    "tab = galaxy.measure_flux_in_bins()\n",
    "\n",
    "tab"
   ]
  },
  {
   "cell_type": "code",
   "execution_count": null,
   "metadata": {},
   "outputs": [],
   "source": [
    "galaxy.provide_bagpipes_phot(1)\n",
    "\n",
    "galaxy.provide_bagpipes_phot(8)"
   ]
  },
  {
   "cell_type": "code",
   "execution_count": null,
   "metadata": {},
   "outputs": [],
   "source": [
    "# Simple test Bagpipes fit_instructions\n",
    "\n",
    "sfh = {\n",
    "    \"age_max\": (0.03, 0.5),  # Gyr\n",
    "    \"age_min\": (0, 0.5),  # Gyr\n",
    "    \"metallicity\": (1e-3, 2.5),  # solar\n",
    "    \"massformed\": (4, 12),  # log mstar/msun\n",
    "}\n",
    "\n",
    "nebular = {}\n",
    "nebular[\"logU\"] = -2.0\n",
    "\n",
    "dust = {}\n",
    "dust[\"type\"] = \"Calzetti\"\n",
    "dust[\"Av\"] = (0, 5.0)\n",
    "\n",
    "fit_instructions = {\n",
    "    \"t_bc\": 0.01,\n",
    "    \"constant\": sfh,\n",
    "    \"nebular\": nebular,\n",
    "    \"dust\": dust,\n",
    "}\n",
    "meta = {\"run_name\": \"initial_test_cnst_sfh\"}\n",
    "\n",
    "overall_dict = {\"meta\": meta, \"fit_instructions\": fit_instructions}\n",
    "\n",
    "galaxy.run_bagpipes(overall_dict)"
   ]
  },
  {
   "cell_type": "code",
   "execution_count": null,
   "metadata": {},
   "outputs": [],
   "source": [
    "%matplotlib inline\n",
    "a = galaxy.plot_bagpipes_results(\"initial_test_cnst_sfh\", reload_from_cat=True)"
   ]
  },
  {
   "cell_type": "code",
   "execution_count": null,
   "metadata": {},
   "outputs": [],
   "source": [
    "galaxy.plot_bagpipes_sed(\"initial_test_cnst_sfh\")"
   ]
  },
  {
   "cell_type": "code",
   "execution_count": null,
   "metadata": {},
   "outputs": [],
   "source": [
    "sys.path.insert(1, \"/nvme/scratch/work/tharvey/bagpipes\")"
   ]
  }
 ],
 "metadata": {},
 "nbformat": 4,
 "nbformat_minor": 2
}
