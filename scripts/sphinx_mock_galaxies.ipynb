{
 "cells": [
  {
   "cell_type": "code",
   "execution_count": null,
   "metadata": {},
   "outputs": [],
   "source": [
    "from EXPANSE import MockResolvedGalaxy\n",
    "from EXPANSE.sphinx import generate_full_images, resize\n",
    "from matplotlib import pyplot as plt\n",
    "import numpy as np\n",
    "import astropy.units as u"
   ]
  },
  {
   "cell_type": "code",
   "execution_count": null,
   "metadata": {},
   "outputs": [],
   "source": [
    "halo_id = '62333'\n",
    "mock_survey = 'JOF_psfmatched'\n",
    "redshift = 7\n",
    "direction = 0\n",
    "images_dir = '/nvme/scratch/work/tharvey/SPHINX/z7_halo_62333'\n",
    "h5_folder = '/nvme/scratch/work/tharvey/EXPANSE/galaxies/mock_sphinx/'\n",
    "overwrite = True\n",
    "# to generate the galaxy\n",
    "'''\n",
    "galaxy = MockResolvedGalaxy.init_mock_from_sphinx(halo_id=halo_id, redshift=redshift, \n",
    "                                                direction=direction, images_dir=images_dir,\n",
    "                                                h5_folder = h5_folder, mock_survey=mock_survey)\n",
    "'''\n",
    "                                        \n",
    "# or just this to load the galaxy if it already exists\n",
    "galaxy = MockResolvedGalaxy.init(gal_id=halo_id, redshift_code=redshift, \n",
    "                                direction=direction, h5_folder=h5_folder,\n",
    "                                images_dir=images_dir, mock_survey=mock_survey)\n",
    "\n",
    "# Use sep to do detection etc\n",
    "galaxy.sep_process(debug=False, overwrite=overwrite)\n",
    "\n",
    "galaxy.pixedfit_processing(\n",
    "                            gal_region_use=\"detection\",\n",
    "                            overwrite=overwrite,\n",
    "                            dir_images=h5_folder,\n",
    "                            )\n",
    "# Maybe seg map should be from detection image?\n",
    "galaxy.pixedfit_binning(overwrite=overwrite)\n",
    "galaxy.measure_flux_in_bins(overwrite=overwrite)\n",
    "galaxy.eazy_fit_measured_photometry(\n",
    "                                    \"MAG_APER_0.32 arcsec\",\n",
    "                                    update_meta_properties=True,\n",
    "                                    overwrite=overwrite,\n",
    "                                    exclude_bands=['F435W', 'F606W', 'F775W', 'F814W', 'F850LP']\n",
    "                                    )\n"
   ]
  },
  {
   "cell_type": "code",
   "execution_count": null,
   "metadata": {},
   "outputs": [],
   "source": [
    "%matplotlib inline\n",
    "\n",
    "images = generate_full_images(image_dir = '/nvme/scratch/work/tharvey/SPHINX/z7_halo_62333', halo_id='62333', redshift=7, direction=0)\n",
    "\n",
    "fig = images.plot_images(show=True, scaling_func=np.log10)\n"
   ]
  },
  {
   "cell_type": "code",
   "execution_count": null,
   "metadata": {},
   "outputs": [],
   "source": [
    "# test resize on gaussian\n",
    "\n",
    "\n",
    "fig = plt.figure(figsize=(10,10))\n",
    "\n",
    "gaussian = np.random.normal(0, 1, (100, 100))\n",
    "gaussian = resize(gaussian, 5*u.arcsec, 1*u.arcsec)\n",
    "plt.imshow(gaussian, cmap='gray')\n",
    "plt.show()"
   ]
  }
 ],
 "metadata": {},
 "nbformat": 4,
 "nbformat_minor": 2
}
