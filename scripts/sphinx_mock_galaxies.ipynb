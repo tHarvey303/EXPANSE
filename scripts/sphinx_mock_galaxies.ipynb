{
 "cells": [
  {
   "cell_type": "code",
   "execution_count": null,
   "metadata": {},
   "outputs": [],
   "source": [
    "from EXPANSE import MockResolvedGalaxy\n",
    "from EXPANSE.sphinx import generate_full_images, resize\n",
    "from matplotlib import pyplot as plt\n",
    "import numpy as np\n",
    "import astropy.units as u"
   ]
  },
  {
   "cell_type": "code",
   "execution_count": null,
   "metadata": {},
   "outputs": [],
   "source": [
    "halo_id = '62333'\n",
    "mock_survey = 'JOF_psfmatched'\n",
    "redshift = 7\n",
    "direction = 0\n",
    "images_dir = '/nvme/scratch/work/tharvey/SPHINX/z7_halo_62333'\n",
    "h5_folder = '/nvme/scratch/work/tharvey/EXPANSE/galaxies/mock_sphinx/'\n",
    "overwrite = True\n",
    "# to generate the galaxy\n",
    "'''\n",
    "galaxy = MockResolvedGalaxy.init_mock_from_sphinx(halo_id=halo_id, redshift=redshift, \n",
    "                                                direction=direction, images_dir=images_dir,\n",
    "                                                h5_folder = h5_folder, mock_survey=mock_survey)\n",
    "'''\n",
    "                                        \n",
    "# or just this to load the galaxy if it already exists\n",
    "galaxy = MockResolvedGalaxy.init(gal_id=halo_id, redshift_code=redshift, \n",
    "                                direction=direction, h5_folder=h5_folder,\n",
    "                                images_dir=images_dir, mock_survey=mock_survey)\n"
   ]
  },
  {
   "cell_type": "code",
   "execution_count": null,
   "metadata": {},
   "outputs": [],
   "source": [
    "print(galaxy.filter_ranges['F090W'][0])"
   ]
  },
  {
   "cell_type": "code",
   "execution_count": null,
   "metadata": {},
   "outputs": [],
   "source": [
    "print(galaxy.bands)"
   ]
  },
  {
   "cell_type": "code",
   "execution_count": null,
   "metadata": {},
   "outputs": [],
   "source": [
    "galaxy.pixedfit_processing(\n",
    "                            gal_region_use=\"detection\",\n",
    "                            overwrite=overwrite,\n",
    "                            dir_images=h5_folder,\n",
    "                            )\n",
    "\n",
    "\n",
    "# Maybe seg map should be from detection image?\n",
    "galaxy.pixedfit_binning(overwrite=overwrite)"
   ]
  },
  {
   "cell_type": "code",
   "execution_count": null,
   "metadata": {},
   "outputs": [],
   "source": [
    "# Use sep to do detection etc\n",
    "galaxy.sep_process(debug=False, overwrite=overwrite)\n",
    "\n",
    "galaxy.pixedfit_processing(\n",
    "                            gal_region_use=\"detection\",\n",
    "                            overwrite=overwrite,\n",
    "                            dir_images=h5_folder,\n",
    "                            )\n",
    "# Maybe seg map should be from detection image?\n",
    "galaxy.pixedfit_binning(overwrite=overwrite)\n",
    "galaxy.measure_flux_in_bins(overwrite=overwrite)\n",
    "galaxy.eazy_fit_measured_photometry(\n",
    "                                    \"MAG_APER_0.32 arcsec\",\n",
    "                                    update_meta_properties=True,\n",
    "                                    overwrite=overwrite,\n",
    "                                    exclude_bands=['F435W', 'F606W', 'F775W', 'F814W', 'F850LP']\n",
    "                                    )\n"
   ]
  },
  {
   "cell_type": "code",
   "execution_count": null,
   "metadata": {},
   "outputs": [],
   "source": [
    "%matplotlib inline\n",
    "galaxy.plot_overview(bands_to_show=['F090W', 'F277W', 'F300M', 'F444W'])"
   ]
  },
  {
   "cell_type": "code",
   "execution_count": null,
   "metadata": {},
   "outputs": [],
   "source": [
    "%matplotlib inline\n",
    "\n",
    "images = generate_full_images(image_dir = '/nvme/scratch/work/tharvey/SPHINX/z7_halo_62333', halo_id='62333', redshift=7, direction=0)\n",
    "\n",
    "fig = images.plot_images(show=True, scaling_func=np.log10)\n"
   ]
  },
  {
   "cell_type": "code",
   "execution_count": null,
   "metadata": {},
   "outputs": [],
   "source": [
    "wav = galaxy.seds['wav'] * u.AA\n",
    "flux = galaxy.seds['total_total_fnu']['total'] * u.uJy"
   ]
  },
  {
   "cell_type": "code",
   "execution_count": null,
   "metadata": {},
   "outputs": [],
   "source": [
    "wav"
   ]
  },
  {
   "cell_type": "code",
   "execution_count": null,
   "metadata": {},
   "outputs": [],
   "source": [
    "flux = galaxy._convolve_sed(flux, wav)\n",
    "\n",
    "flux.to(u.ABmag)"
   ]
  },
  {
   "cell_type": "code",
   "execution_count": null,
   "metadata": {},
   "outputs": [],
   "source": [
    "import numpy as np\n",
    "import matplotlib.pyplot as plt\n",
    "\n",
    "ones = np.ones((24, 24))\n",
    "\n",
    "ones = np.pad(ones, 200, mode='constant', constant_values=0)\n",
    "\n",
    "plt.imshow(ones, cmap='gray')\n",
    "\n"
   ]
  }
 ],
 "metadata": {},
 "nbformat": 4,
 "nbformat_minor": 2
}
