{
 "cells": [
  {
   "cell_type": "code",
   "execution_count": null,
   "metadata": {},
   "outputs": [],
   "source": [
    "import astropy.units as u\n",
    "import numpy as np\n",
    "import os\n",
    "\n",
    "os.environ[\"PIXEDFIT_HOME\"] = \"/nvme/scratch/work/tharvey/piXedfit/\"\n",
    "from EXPANSE import ResolvedGalaxy, ResolvedGalaxies\n",
    "from matplotlib import pyplot as plt\n",
    "import glob\n",
    "from scipy import signal\n",
    "from scipy.interpolate import interp1d\n",
    "from scipy.stats import binned_statistic\n",
    "# Change dpi to make plots larger\n",
    "\n",
    "plt.rcParams[\"figure.dpi\"] = 100\n",
    "\n",
    "# Disable tex in matplotlib\n",
    "\n",
    "plt.rcParams[\"text.usetex\"] = False\n",
    "\n",
    "# %matplotlib inline"
   ]
  },
  {
   "cell_type": "code",
   "execution_count": null,
   "metadata": {},
   "outputs": [],
   "source": [
    "galaxies = ResolvedGalaxies(\n",
    "    ResolvedGalaxy.init_all_field_from_h5(\"JOF_psfmatched\", n_jobs = 6)\n",
    ")"
   ]
  },
  {
   "cell_type": "code",
   "execution_count": null,
   "metadata": {},
   "outputs": [],
   "source": [
    "table = galaxies.save_to_fits(overwrite=True)\n",
    "\n",
    "table"
   ]
  },
  {
   "cell_type": "markdown",
   "metadata": {},
   "source": [
    "## Resolved Mass vs. Integrated Mass"
   ]
  },
  {
   "cell_type": "code",
   "execution_count": null,
   "metadata": {},
   "outputs": [],
   "source": [
    "markers = [\"o\", \"s\", \"D\", \"^\", \"v\", \"<\", \">\", \"p\", \"P\", \"*\", \"X\", \"d\", \"H\", \"h\", \"+\", \"x\", \"|\", \"_\", \".\", \",\"]\n",
    "bagpipes_runs = [\"photoz_lognorm\", \"photoz_delayed\", \"photoz_dpl\", \"photoz_continuity\"]\n",
    "\n",
    "fig, ax = plt.subplots(1, 1, figsize=(5, 5), dpi = 200, tight_layout = True, facecolor = 'white')\n",
    "norm = plt.Normalize( vmin = 4.5, vmax = 10.5)\n",
    "\n",
    "for marker, bagpipes_run in zip(markers, bagpipes_runs):\n",
    "    galaxies.comparison_plot(bagpipes_run, \"CNST_SFH_RESOLVED_P\", label = False, markersize = 4, \n",
    "                            markeredgecolor = 'black', markeredgewidth = 0.5, elinewidth = 1, n_jobs = 1, \n",
    "                            color_by='redshift', ax = ax, marker = marker, fig = fig, add_colorbar = True if bagpipes_run == \"photoz_lognorm\" else False, norm = norm) \n",
    "\n",
    "# Plot 0.5 dex offset line\n",
    "xlim = ax.get_xlim()\n",
    "ylim = ax.get_ylim()\n",
    "\n",
    "ax.plot(xlim, np.array(ylim)+0.5, color='black', linestyle='--', linewidth=1)\n",
    "# Label the line with angle text near the top of the line\n",
    "ax.text(9.35, 9.95, r'0.5 dex', rotation=45, fontsize=8, color='black', ha = 'right', va = 'top')\n",
    "\n",
    "ax.plot(xlim, np.array(ylim)+1.0, color = 'black', linestyle = '--', linewidth = 1, alpha = 0.6)\n",
    "ax.text(8.85, 9.95, r'1.0 dex', rotation=45, fontsize=8, color='black', ha = 'right', va = 'top')\n",
    "\n",
    "# Fake a legend with the markers\n",
    "points = []\n",
    "for marker, bagpipes_run in zip(markers, bagpipes_runs):\n",
    "    point = ax.plot([], [], marker = marker, color = 'black', label = bagpipes_run)\n",
    "    points.append(point[0])\n",
    "\n",
    "ax.legend(handles = points, loc = 'upper left', fontsize = 8, title = 'Bagpipes Run')\n",
    "\n",
    "ax.set_xlabel(r'Integrated Stellar Mass [$\\log_{10}(M_{\\odot})$]')\n",
    "ax.set_ylabel(r'Resolved Stellar Mass [$\\log_{10}(M_{\\odot})$]')\n",
    "\n",
    "fig.savefig('../plots/resolved_mass_comparison.pdf', dpi = 200, facecolor = 'white', bbox_inches = 'tight')"
   ]
  },
  {
   "cell_type": "markdown",
   "metadata": {},
   "source": [
    "## Mass Discrepancy as a Function of sSFR"
   ]
  },
  {
   "cell_type": "code",
   "execution_count": null,
   "metadata": {},
   "outputs": [],
   "source": [
    "# use the table of results this time - loop over each SFH history again, plot sSFR vs delta mass. Propogate errors through the calculation.\n",
    "\n",
    "fig, ax = plt.subplots(1, 1, figsize=(6, 3.5), dpi = 200, tight_layout = True, facecolor = 'white')\n",
    "\n",
    "for marker, bagpipes_run in zip(markers, bagpipes_runs):\n",
    "    delta_mass = table['CNST_SFH_RESOLVED_P_resolved_mass'][:, 1] - table[f'{bagpipes_run}_stellar_mass_50']\n",
    "\n",
    "    yerr = 0 #placeholder for now\n",
    "\n",
    "    xerr_lower = table[f'{bagpipes_run}_ssfr_10myr_50'] - table[f'{bagpipes_run}_ssfr_10myr_16']\n",
    "    xerr_upper = table[f'{bagpipes_run}_ssfr_10myr_84'] - table[f'{bagpipes_run}_ssfr_10myr_50']\n",
    "\n",
    "    xerr = np.array([xerr_lower, xerr_upper])\n",
    "    xerr[xerr < 0] = 0\n",
    "\n",
    "    ax.errorbar(table[f'{bagpipes_run}_ssfr_10myr_50'], delta_mass, yerr = yerr, xerr=xerr, marker='none', linestyle='none', alpha = 0.3, zorder=5)\n",
    "    ax.scatter(table[f'{bagpipes_run}_ssfr_10myr_50'], delta_mass, marker=marker, s=25, edgecolors='black', linewidth=0.5, zorder=10)\n",
    "\n",
    "# Fix the x-axis limits\n",
    "ax.set_xlim(ax.get_xlim())\n",
    "ax.set_ylim(ax.get_ylim())\n",
    "\n",
    "# Make a dummy legend\n",
    "points = []\n",
    "for marker, bagpipes_run in zip(markers, bagpipes_runs):\n",
    "    point = ax.plot([], [], marker = marker, color = 'black', label = bagpipes_run)\n",
    "    points.append(point[0])\n",
    "\n",
    "ax.legend(handles = points, loc = 'lower left', fontsize = 8, title = 'Bagpipes Run', frameon = False)\n",
    "\n",
    "\n",
    "ax.set_xlabel(r'Specific Star Formation Rate [$\\log_{10}(\\mathrm{yr}^{-1})$]')\n",
    "ax.set_ylabel(r'Stellar Mass Offset [$\\log_{10}(M_{\\odot})$]')\n",
    "# Plot 1:1, 0.5 and 1 dex lines\n",
    "xlim = ax.get_xlim()\n",
    "\n",
    "\n",
    "ax.plot(xlim, [0, 0], color='black', linestyle='--', linewidth=1)\n",
    "\n",
    "ax.plot(xlim, np.array([0, 0])+0.5, color='black', linestyle='--', linewidth=1)\n",
    "ax.text(-9.3, 0.5, r'0.5 dex', rotation=0, fontsize=8, color='black', ha = 'left', va = 'bottom')\n",
    "\n",
    "ax.plot(xlim, np.array([0, 0])+1.0, color = 'black', linestyle = '--', linewidth = 1, alpha = 0.6)\n",
    "ax.text(-9.3, 1.0, r'1.0 dex', rotation=0, fontsize=8, color='black', ha = 'left', va = 'bottom')\n",
    "\n",
    "fig.savefig('../plots/ssfr_vs_mass_offset.pdf', dpi = 200, facecolor = 'white', bbox_inches = 'tight')"
   ]
  }
 ],
 "metadata": {},
 "nbformat": 4,
 "nbformat_minor": 2
}
