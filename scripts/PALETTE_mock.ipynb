{
 "cells": [
  {
   "cell_type": "code",
   "execution_count": null,
   "metadata": {},
   "outputs": [],
   "source": [
    "import glob\n",
    "import astropy.units as u\n",
    "import h5py\n",
    "import matplotlib.gridspec as gridspec\n",
    "import matplotlib.pyplot as plt\n",
    "import numpy as np\n",
    "from astropy.cosmology import FlatLambdaCDM\n",
    "from astropy.cosmology import Planck18 as cosmo\n",
    "from astropy.io import fits\n",
    "\n",
    "# Default matplotlib color cycle\n",
    "from astropy.table import Table\n",
    "from EXPANSE import MockResolvedGalaxy\n",
    "from scipy import signal\n",
    "from synthesizer.emission_models import PacmanEmission\n",
    "from synthesizer.emission_models.attenuation import PowerLaw\n",
    "from synthesizer.emission_models.attenuation.igm import Inoue14\n",
    "from synthesizer.emission_models.dust.emission import Greybody\n",
    "from synthesizer.filters import FilterCollection as Filters\n",
    "from synthesizer.grid import Grid\n",
    "from synthesizer.kernel_functions import Kernel\n",
    "from synthesizer.particle.galaxy import Galaxy\n",
    "from tqdm import tqdm\n",
    "from unyt import (\n",
    "    Angstrom,\n",
    "    K,\n",
    "    Mpc,\n",
    "    Msun,\n",
    "    arcsecond,\n",
    "    kpc,\n",
    "    nJy,\n",
    "    uJy,\n",
    "    unyt_array,\n",
    "    yr,\n",
    ")\n",
    "\n",
    "#from EXPANSE.dense_basis import make_db_grid"
   ]
  },
  {
   "cell_type": "markdown",
   "metadata": {},
   "source": [
    "### Sim for PALETTE Proposal\n",
    "\n",
    "- 28 - 28.5 magnitude in widebands + 8 medium bands (wider ones)\n",
    "- SW bands, then 300, 360, 480 etc\n",
    "- Look for quenching\n",
    "\n",
    "\n",
    "Maybe use 0010_z005_0 - still has some emission though"
   ]
  }
 ],
 "metadata": {},
 "nbformat": 4,
 "nbformat_minor": 2
}
